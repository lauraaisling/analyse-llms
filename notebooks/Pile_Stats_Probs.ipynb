{
 "cells": [
  {
   "cell_type": "code",
   "execution_count": 19,
   "id": "922901f4-89c0-41b4-80c1-1b355dd3e760",
   "metadata": {},
   "outputs": [],
   "source": [
    "import torch\n",
    "import numpy as np\n",
    "import json\n",
    "import os\n",
    "from matplotlib import pyplot as plt\n"
   ]
  },
  {
   "cell_type": "code",
   "execution_count": 2,
   "id": "b82de475-6454-4dd9-a595-450dad385279",
   "metadata": {},
   "outputs": [],
   "source": [
    "# load data calculated for pythia70m\n",
    "base_70m_data_path = f'{os.path.dirname(os.getcwd())}/outputs/pythia70m-base_calculation_data_probs50000.p'\n",
    "base_70m_data = torch.load(base_70m_data_path)\n",
    "\n",
    "sft_70m_data_path = f'{os.path.dirname(os.getcwd())}/outputs/pythia70m-sft_calculation_data_probs50000.p'\n",
    "sft_70m_data = torch.load(sft_70m_data_path)\n",
    "\n",
    "dpo_70m_data_path = f'{os.path.dirname(os.getcwd())}/outputs/pythia70m-dpo_calculation_data_probs50000.p'\n",
    "dpo_70m_data = torch.load(dpo_70m_data_path)"
   ]
  },
  {
   "cell_type": "code",
   "execution_count": 4,
   "id": "d41c464e-68da-4a25-bd3c-9a28f7fdd594",
   "metadata": {},
   "outputs": [],
   "source": [
    "base_70m_perplexity_path = f'{os.path.dirname(os.getcwd())}/outputs/pythia70m-base-50000.json'\n",
    "sft_70m_perplexity_path = f'{os.path.dirname(os.getcwd())}/outputs/pythia70m-sft-50000.json'\n",
    "dpo_70m_perplexity_path = f'{os.path.dirname(os.getcwd())}/outputs/pythia70m-dpo-50000.json'\n",
    "\n",
    "with open(base_70m_perplexity_path,'r') as file: \n",
    "    base_70m_perplexity_data = json.loads(file.read())\n",
    "\n",
    "with open(sft_70m_perplexity_path,'r') as file: \n",
    "    sft_70m_perplexity_data = json.loads(file.read())\n",
    "\n",
    "with open(dpo_70m_perplexity_path,'r') as file: \n",
    "    dpo_70m_perplexity_data = json.loads(file.read())\n"
   ]
  },
  {
   "cell_type": "code",
   "execution_count": 5,
   "id": "25b622e2-d4b7-4289-8315-9cda2a423587",
   "metadata": {
    "scrolled": true
   },
   "outputs": [
    {
     "data": {
      "text/plain": [
       "{'entropy': 2.9469408988952637, 'perplexity': 19.047595977783203}"
      ]
     },
     "execution_count": 5,
     "metadata": {},
     "output_type": "execute_result"
    }
   ],
   "source": [
    "base_70m_perplexity_data"
   ]
  },
  {
   "cell_type": "code",
   "execution_count": 6,
   "id": "b291d1c0-abff-4271-af12-ce83f3968f11",
   "metadata": {},
   "outputs": [
    {
     "data": {
      "text/plain": [
       "{'entropy': 3.3237063884735107, 'perplexity': 27.763063430786133}"
      ]
     },
     "execution_count": 6,
     "metadata": {},
     "output_type": "execute_result"
    }
   ],
   "source": [
    "sft_70m_perplexity_data"
   ]
  },
  {
   "cell_type": "code",
   "execution_count": 7,
   "id": "d16b9d2b-55c7-4add-b86c-211f8153750f",
   "metadata": {},
   "outputs": [
    {
     "data": {
      "text/plain": [
       "{'entropy': 3.400749921798706, 'perplexity': 29.98657989501953}"
      ]
     },
     "execution_count": 7,
     "metadata": {},
     "output_type": "execute_result"
    }
   ],
   "source": [
    "dpo_70m_perplexity_data"
   ]
  },
  {
   "cell_type": "code",
   "execution_count": 21,
   "id": "f4af44be-9dcd-4f9b-a269-4631b5d0f7a8",
   "metadata": {},
   "outputs": [],
   "source": [
    "# load data calculated for pythia160m\n",
    "base_160m_data_path = f'{os.path.dirname(os.getcwd())}/outputs/pythia160m-base_calculation_data_probs50000.p'\n",
    "base_160m_data = torch.load(base_160m_data_path)\n",
    "\n",
    "sft_160m_data_path = f'{os.path.dirname(os.getcwd())}/outputs/pythia160m-sft_calculation_data_probs50000.p'\n",
    "sft_160m_data = torch.load(sft_160m_data_path)\n",
    "\n",
    "dpo_160m_data_path = f'{os.path.dirname(os.getcwd())}/outputs/pythia160m-dpo_calculation_data_probs50000.p'\n",
    "dpo_160m_data = torch.load(dpo_160m_data_path)"
   ]
  },
  {
   "cell_type": "code",
   "execution_count": 8,
   "id": "5d366042-dd6d-48b9-b02d-d7276ff7d5f9",
   "metadata": {},
   "outputs": [],
   "source": [
    "base_160m_perplexity_path = f'{os.path.dirname(os.getcwd())}/outputs/pythia160m-base-50000.json'\n",
    "sft_160m_perplexity_path = f'{os.path.dirname(os.getcwd())}/outputs/pythia160m-sft-50000.json'\n",
    "dpo_160m_perplexity_path = f'{os.path.dirname(os.getcwd())}/outputs/pythia160m-dpo-50000.json'\n",
    "\n",
    "with open(base_160m_perplexity_path,'r') as file: \n",
    "    base_160m_perplexity_data = json.loads(file.read())\n",
    "\n",
    "with open(sft_160m_perplexity_path,'r') as file: \n",
    "    sft_160m_perplexity_data = json.loads(file.read())\n",
    "\n",
    "with open(dpo_160m_perplexity_path,'r') as file: \n",
    "    dpo_160m_perplexity_data = json.loads(file.read())\n"
   ]
  },
  {
   "cell_type": "code",
   "execution_count": 9,
   "id": "53f5d1e1-b2aa-4922-8c15-51ab82d649ef",
   "metadata": {},
   "outputs": [
    {
     "data": {
      "text/plain": [
       "{'entropy': 2.588127851486206, 'perplexity': 13.304839134216309}"
      ]
     },
     "execution_count": 9,
     "metadata": {},
     "output_type": "execute_result"
    }
   ],
   "source": [
    "base_160m_perplexity_data"
   ]
  },
  {
   "cell_type": "code",
   "execution_count": 10,
   "id": "ce6450ab-3981-421b-92c4-00bbfc294090",
   "metadata": {},
   "outputs": [
    {
     "data": {
      "text/plain": [
       "{'entropy': 2.743051767349243, 'perplexity': 15.534319877624512}"
      ]
     },
     "execution_count": 10,
     "metadata": {},
     "output_type": "execute_result"
    }
   ],
   "source": [
    "sft_160m_perplexity_data"
   ]
  },
  {
   "cell_type": "code",
   "execution_count": 11,
   "id": "c8608d13-63af-4d5f-b04f-67e213ecd1eb",
   "metadata": {},
   "outputs": [
    {
     "data": {
      "text/plain": [
       "{'entropy': 2.804750680923462, 'perplexity': 16.5229549407959}"
      ]
     },
     "execution_count": 11,
     "metadata": {},
     "output_type": "execute_result"
    }
   ],
   "source": [
    "dpo_160m_perplexity_data"
   ]
  },
  {
   "cell_type": "markdown",
   "id": "1ebee1d9-e8cc-4e04-a000-9f81d09a5cb5",
   "metadata": {},
   "source": [
    "## Plot CDF of average token probability on The Pile val"
   ]
  },
  {
   "cell_type": "code",
   "execution_count": 23,
   "id": "e086e0e1-55c3-418f-b50f-38acb8217526",
   "metadata": {},
   "outputs": [
    {
     "name": "stderr",
     "output_type": "stream",
     "text": [
      "/tmp/ipykernel_187019/3402543236.py:12: RuntimeWarning: Mean of empty slice.\n",
      "  probs_base_160m = np.concatenate(base_160m_data[\"mean_probs\"]).mean(0)\n"
     ]
    },
    {
     "ename": "TypeError",
     "evalue": "'numpy.float64' object is not iterable",
     "output_type": "error",
     "traceback": [
      "\u001b[0;31m---------------------------------------------------------------------------\u001b[0m",
      "\u001b[0;31mTypeError\u001b[0m                                 Traceback (most recent call last)",
      "Cell \u001b[0;32mIn[23], line 13\u001b[0m\n\u001b[1;32m      9\u001b[0m probs_dpo_70m_list \u001b[38;5;241m=\u001b[39m \u001b[38;5;28mlist\u001b[39m(probs_dpo_70m)\n\u001b[1;32m     12\u001b[0m probs_base_160m \u001b[38;5;241m=\u001b[39m np\u001b[38;5;241m.\u001b[39mconcatenate(base_160m_data[\u001b[38;5;124m\"\u001b[39m\u001b[38;5;124mmean_probs\u001b[39m\u001b[38;5;124m\"\u001b[39m])\u001b[38;5;241m.\u001b[39mmean(\u001b[38;5;241m0\u001b[39m)\n\u001b[0;32m---> 13\u001b[0m probs_base_160m_list \u001b[38;5;241m=\u001b[39m \u001b[38;5;28;43mlist\u001b[39;49m\u001b[43m(\u001b[49m\u001b[43mprobs_base_160m\u001b[49m\u001b[43m)\u001b[49m\n\u001b[1;32m     15\u001b[0m probs_sft_160m \u001b[38;5;241m=\u001b[39m np\u001b[38;5;241m.\u001b[39mconcatenate(sft_160m_data[\u001b[38;5;124m\"\u001b[39m\u001b[38;5;124mmean_probs\u001b[39m\u001b[38;5;124m\"\u001b[39m])\u001b[38;5;241m.\u001b[39mmean(\u001b[38;5;241m0\u001b[39m)\n\u001b[1;32m     16\u001b[0m probs_sft_160m\u001b[38;5;241m.\u001b[39mshape\u001b[38;5;66;03m# (50304,)\u001b[39;00m\n",
      "\u001b[0;31mTypeError\u001b[0m: 'numpy.float64' object is not iterable"
     ]
    }
   ],
   "source": [
    "probs_base_70m = np.concatenate(base_70m_data[\"mean_probs\"]).mean(0)\n",
    "probs_base_70m_list = list(probs_base_70m)\n",
    "\n",
    "probs_sft_70m = np.concatenate(sft_70m_data[\"mean_probs\"]).mean(0)\n",
    "probs_sft_70m.shape# (50304,)\n",
    "probs_sft_70m_list = list(probs_sft_70m)\n",
    "\n",
    "probs_dpo_70m = np.concatenate(dpo_70m_data[\"mean_probs\"]).mean(0)\n",
    "probs_dpo_70m_list = list(probs_dpo_70m)\n",
    "\n",
    "\n"
   ]
  },
  {
   "cell_type": "code",
   "execution_count": 26,
   "id": "7032124d-038b-4bc3-8f92-6dcabbec3843",
   "metadata": {
    "scrolled": true
   },
   "outputs": [
    {
     "ename": "NameError",
     "evalue": "name 'probs_sft_160m' is not defined",
     "output_type": "error",
     "traceback": [
      "\u001b[0;31m---------------------------------------------------------------------------\u001b[0m",
      "\u001b[0;31mNameError\u001b[0m                                 Traceback (most recent call last)",
      "Cell \u001b[0;32mIn[26], line 1\u001b[0m\n\u001b[0;32m----> 1\u001b[0m \u001b[43mprobs_sft_160m\u001b[49m\n",
      "\u001b[0;31mNameError\u001b[0m: name 'probs_sft_160m' is not defined"
     ]
    }
   ],
   "source": [
    "probs_sft_160m"
   ]
  },
  {
   "cell_type": "code",
   "execution_count": 24,
   "id": "89f6b43d-87cc-4303-94c7-d1e45c110294",
   "metadata": {},
   "outputs": [
    {
     "name": "stderr",
     "output_type": "stream",
     "text": [
      "/tmp/ipykernel_187019/1737312361.py:1: RuntimeWarning: Mean of empty slice.\n",
      "  probs_base_160m = np.concatenate(base_160m_data[\"mean_probs\"]).mean(0)\n"
     ]
    },
    {
     "ename": "TypeError",
     "evalue": "'numpy.float64' object is not iterable",
     "output_type": "error",
     "traceback": [
      "\u001b[0;31m---------------------------------------------------------------------------\u001b[0m",
      "\u001b[0;31mTypeError\u001b[0m                                 Traceback (most recent call last)",
      "Cell \u001b[0;32mIn[24], line 2\u001b[0m\n\u001b[1;32m      1\u001b[0m probs_base_160m \u001b[38;5;241m=\u001b[39m np\u001b[38;5;241m.\u001b[39mconcatenate(base_160m_data[\u001b[38;5;124m\"\u001b[39m\u001b[38;5;124mmean_probs\u001b[39m\u001b[38;5;124m\"\u001b[39m])\u001b[38;5;241m.\u001b[39mmean(\u001b[38;5;241m0\u001b[39m)\n\u001b[0;32m----> 2\u001b[0m probs_base_160m_list \u001b[38;5;241m=\u001b[39m \u001b[38;5;28;43mlist\u001b[39;49m\u001b[43m(\u001b[49m\u001b[43mprobs_base_160m\u001b[49m\u001b[43m)\u001b[49m\n\u001b[1;32m      4\u001b[0m probs_sft_160m \u001b[38;5;241m=\u001b[39m np\u001b[38;5;241m.\u001b[39mconcatenate(sft_160m_data[\u001b[38;5;124m\"\u001b[39m\u001b[38;5;124mmean_probs\u001b[39m\u001b[38;5;124m\"\u001b[39m])\u001b[38;5;241m.\u001b[39mmean(\u001b[38;5;241m0\u001b[39m)\n\u001b[1;32m      5\u001b[0m probs_sft_160m\u001b[38;5;241m.\u001b[39mshape\u001b[38;5;66;03m# (50304,)\u001b[39;00m\n",
      "\u001b[0;31mTypeError\u001b[0m: 'numpy.float64' object is not iterable"
     ]
    }
   ],
   "source": [
    "probs_base_160m = np.concatenate(base_160m_data[\"mean_probs\"]).mean(0)\n",
    "probs_base_160m_list = list(probs_base_160m)\n",
    "\n",
    "probs_sft_160m = np.concatenate(sft_160m_data[\"mean_probs\"]).mean(0)\n",
    "probs_sft_160m.shape# (50304,)\n",
    "probs_sft_160m_list = list(probs_sft_160m)\n",
    "\n",
    "probs_dpo_160m = np.concatenate(dpo_160m_data[\"mean_probs\"]).mean(0)\n",
    "probs_dpo_160m_list = list(probs_dpo_160m)"
   ]
  },
  {
   "cell_type": "code",
   "execution_count": null,
   "id": "7f1a87b4-e0d6-4b20-a642-50f47796b171",
   "metadata": {},
   "outputs": [],
   "source": [
    "base_70m_order = np.argsort(probs_base_70m_list)\n",
    "sft_70m_order = np.argsort(probs_sft_70m_list)\n",
    "dpo_70m_order = np.argsort(probs_dpo_70m_list)\n",
    "\n",
    "base_160m_order = np.argsort(probs_base_160m_list)\n",
    "sft_160m_order = np.argsort(probs_sft_160m_list)\n",
    "dpo_160m_order = np.argsort(probs_dpo_160m_list)"
   ]
  },
  {
   "cell_type": "code",
   "execution_count": null,
   "id": "090d3e2d-ff35-4be3-a711-f31f32943ef2",
   "metadata": {},
   "outputs": [],
   "source": [
    "# probs_base_list.sort(reverse=True) # doesn't copy to memory\n",
    "probs_base_70m_list_sorted = sorted(probs_base_70m_list, reverse=True)\n",
    "probs_sft_70m_list_sorted = sorted(probs_sft_70m_list, reverse=True) \n",
    "probs_dpo_70m_list_sorted = sorted(probs_dpo_70m_list, reverse=True)\n",
    "\n",
    "probs_base_160m_list_sorted = sorted(probs_base_160m_list, reverse=True)\n",
    "probs_sft_160m_list_sorted = sorted(probs_sft_160m_list, reverse=True) \n",
    "probs_dpo_160m_list_sorted = sorted(probs_dpo_160m_list, reverse=True)"
   ]
  },
  {
   "cell_type": "code",
   "execution_count": null,
   "id": "ef19eb29-f707-4917-b148-a6f7e52bc9a9",
   "metadata": {},
   "outputs": [],
   "source": [
    "base_70m_cdf = np.cumsum(probs_base_70m_list_sorted)\n",
    "sft_70m_cdf = np.cumsum(probs_sft_70m_list_sorted)\n",
    "dpo_70m_cdf = np.cumsum(probs_dpo_70m_list_sorted)\n",
    "\n",
    "base_160m_cdf = np.cumsum(probs_base_160m_list_sorted)\n",
    "sft_160m_cdf = np.cumsum(probs_sft_160m_list_sorted)\n",
    "dpo_160m_cdf = np.cumsum(probs_dpo_160m_list_sorted)"
   ]
  },
  {
   "cell_type": "code",
   "execution_count": null,
   "id": "86f73fc5-c3a5-47cb-b16b-d4f8d17272eb",
   "metadata": {},
   "outputs": [],
   "source": [
    "plt.plot(base_70m_cdf, label=\"pythia70m-base\")\n",
    "plt.plot(sft_70m_cdf, label=\"pythia70m-sft\")\n",
    "plt.plot(dpo_70m_cdf, label=\"pythia70m-dpo\")\n",
    "\n",
    "plt.plot(base_160m_cdf, label=\"pythia160m-base\")\n",
    "plt.plot(sft_160m_cdf, label=\"pythia160m-sft\")\n",
    "plt.plot(dpo_160m_cdf, label=\"pythia160m-dpo\")\n",
    "\n",
    "plt.title(\"CDF of average token probability on The Pile val\")\n",
    "plt.xlabel(\"#tokens\")\n",
    "plt.ylabel(\"cumulative average probability\")\n",
    "plt.legend()"
   ]
  },
  {
   "cell_type": "code",
   "execution_count": null,
   "id": "e5dc1fc0-749f-46cf-bcb6-ab39c1c59451",
   "metadata": {},
   "outputs": [],
   "source": [
    "plt.plot(base_70m_cdf, label=\"pythia70m-base\")\n",
    "plt.plot(sft_70m_cdf, label=\"pythia70m-sft\")\n",
    "plt.plot(dpo_70m_cdf, label=\"pythia70m-dpo\")\n",
    "\n",
    "plt.plot(base_160m_cdf, label=\"pythia160m-base\")\n",
    "plt.plot(sft_160m_cdf, label=\"pythia160m-sft\")\n",
    "plt.plot(dpo_160m_cdf, label=\"pythia160m-dpo\")\n",
    "\n",
    "plt.title(\"CDF of average token probability on The Pile val\")\n",
    "plt.xlabel(\"#tokens\")\n",
    "plt.ylabel(\"cumulative average probability\")\n",
    "plt.legend()\n",
    "plt.ylim((0.8,1))"
   ]
  },
  {
   "cell_type": "code",
   "execution_count": null,
   "id": "ff1d696f-4d1c-4f53-882e-d4cebb384c5d",
   "metadata": {},
   "outputs": [],
   "source": []
  },
  {
   "cell_type": "code",
   "execution_count": null,
   "id": "f3851636-2f88-4418-82c7-1756c6e80f31",
   "metadata": {},
   "outputs": [],
   "source": []
  },
  {
   "cell_type": "code",
   "execution_count": null,
   "id": "3aac72c8-23db-4b3c-a669-063a91489f34",
   "metadata": {},
   "outputs": [],
   "source": []
  },
  {
   "cell_type": "code",
   "execution_count": null,
   "id": "c3fc7102-2fd9-46f5-b0bf-3c99287f004c",
   "metadata": {},
   "outputs": [],
   "source": []
  },
  {
   "cell_type": "markdown",
   "id": "d5ebb6bf-d4b7-44cd-bcc5-ac0e0e977abb",
   "metadata": {},
   "source": [
    "## Other"
   ]
  },
  {
   "cell_type": "code",
   "execution_count": null,
   "id": "52eeb103-48cb-4db0-bf3a-d0492f59f2b8",
   "metadata": {},
   "outputs": [],
   "source": [
    "from transformers import GPTNeoXForCausalLM, AutoTokenizer\n",
    "import torch\n",
    "device = \"cuda:0\" "
   ]
  },
  {
   "cell_type": "code",
   "execution_count": null,
   "id": "f337a042-0e8e-4f8b-b5ca-ddce9d073bee",
   "metadata": {},
   "outputs": [],
   "source": [
    "model_base = GPTNeoXForCausalLM.from_pretrained(\"EleutherAI/pythia-70m\",).to(device)\n",
    "model_sft = GPTNeoXForCausalLM.from_pretrained(\"lomahony/eleuther-pythia70m-hh-sft\",).to(device)\n",
    "\n",
    "tokenizer = AutoTokenizer.from_pretrained(\"lomahony/eleuther-pythia70m-hh-sft\",)"
   ]
  },
  {
   "cell_type": "code",
   "execution_count": null,
   "id": "e3868a79-77e0-4cfd-86a2-ab9eb769b72c",
   "metadata": {
    "scrolled": true
   },
   "outputs": [],
   "source": [
    "base_order"
   ]
  },
  {
   "cell_type": "code",
   "execution_count": null,
   "id": "d23f17e0-2926-4b03-956f-95f353e30aca",
   "metadata": {},
   "outputs": [],
   "source": [
    "tokenizer.convert_ids_to_tokens(base_order)"
   ]
  },
  {
   "cell_type": "code",
   "execution_count": null,
   "id": "c7d8abad-c6ae-4e35-8a97-d0321335b17a",
   "metadata": {},
   "outputs": [],
   "source": [
    "probs_base_list[45000:]"
   ]
  },
  {
   "cell_type": "code",
   "execution_count": null,
   "id": "d21f8cdd-7541-4fe5-8d44-aadc2b642d39",
   "metadata": {},
   "outputs": [],
   "source": [
    "base_order[45000:]"
   ]
  },
  {
   "cell_type": "code",
   "execution_count": null,
   "id": "6bc9c9a8-2722-4593-a311-b10defbbed93",
   "metadata": {
    "scrolled": true
   },
   "outputs": [],
   "source": [
    "sft_order"
   ]
  },
  {
   "cell_type": "code",
   "execution_count": null,
   "id": "7407cca5-153a-496a-a637-21a0ba83cf10",
   "metadata": {},
   "outputs": [],
   "source": [
    "tokenizer.convert_ids_to_tokens(sft_order)"
   ]
  },
  {
   "cell_type": "code",
   "execution_count": null,
   "id": "e97a9993-8ad3-430d-b0ac-70310e6a1a75",
   "metadata": {},
   "outputs": [],
   "source": [
    "probs_sft_list[45000:]"
   ]
  },
  {
   "cell_type": "code",
   "execution_count": null,
   "id": "f81f2246-85f2-4ad6-a36d-85b2fb49e7f1",
   "metadata": {},
   "outputs": [],
   "source": [
    "sft_order[45000:]"
   ]
  },
  {
   "cell_type": "code",
   "execution_count": null,
   "id": "93be2deb-3667-4c4d-82c7-a77e6d66ddea",
   "metadata": {},
   "outputs": [],
   "source": []
  }
 ],
 "metadata": {
  "kernelspec": {
   "display_name": "Python 3 (ipykernel)",
   "language": "python",
   "name": "python3"
  },
  "language_info": {
   "codemirror_mode": {
    "name": "ipython",
    "version": 3
   },
   "file_extension": ".py",
   "mimetype": "text/x-python",
   "name": "python",
   "nbconvert_exporter": "python",
   "pygments_lexer": "ipython3",
   "version": "3.8.10"
  }
 },
 "nbformat": 4,
 "nbformat_minor": 5
}
