{
 "cells": [
  {
   "cell_type": "markdown",
   "id": "df81feb0-0845-4271-8dfe-c696b594a572",
   "metadata": {},
   "source": [
    "More or less a replication of [Mysteries of mode collapse by Janus](https://www.lesswrong.com/posts/t9svvNPNmFf5Qa3TA/mysteries-of-mode-collapse)\n",
    "\n",
    "Using Pythia models of various sizes. \n",
    "\n",
    "Compares base models with SFT models and DPO finetuned models. \n",
    "\n",
    "TODO: Compare with RLHF models"
   ]
  },
  {
   "attachments": {},
   "cell_type": "markdown",
   "id": "0c1d0ad5-4cae-4256-8b05-41714ddedd56",
   "metadata": {},
   "source": [
    "\n",
    "\n",
    "## Import stuff"
   ]
  },
  {
   "cell_type": "code",
   "execution_count": 3,
   "id": "776fc09f-c1c7-49af-ae65-f7e1a450e97e",
   "metadata": {},
   "outputs": [
    {
     "name": "stdout",
     "output_type": "stream",
     "text": [
      "Collecting sty\n",
      "  Downloading sty-1.0.6-py3-none-any.whl.metadata (5.7 kB)\n",
      "Downloading sty-1.0.6-py3-none-any.whl (12 kB)\n",
      "Installing collected packages: sty\n",
      "Successfully installed sty-1.0.6\n"
     ]
    }
   ],
   "source": [
    "# !pip install sty"
   ]
  },
  {
   "cell_type": "code",
   "execution_count": 1,
   "id": "e23b461c-9310-4f59-93d2-3b3f6230dea2",
   "metadata": {},
   "outputs": [
    {
     "data": {
      "text/plain": [
       "True"
      ]
     },
     "execution_count": 1,
     "metadata": {},
     "output_type": "execute_result"
    }
   ],
   "source": [
    "from transformers import GPTNeoXForCausalLM, AutoTokenizer\n",
    "import torch\n",
    "import numpy as np\n",
    "import matplotlib.pyplot as plt\n",
    "# import os\n",
    "from sty import bg, fg, Style, RgbBg\n",
    "\n",
    "torch.cuda.is_available()"
   ]
  },
  {
   "cell_type": "markdown",
   "id": "2d59ccb8-70ae-4eb3-bfd0-20662a5118a2",
   "metadata": {},
   "source": [
    "## Get models"
   ]
  },
  {
   "cell_type": "code",
   "execution_count": 2,
   "id": "425fa529-70fa-4b2c-956a-e5736626fe06",
   "metadata": {},
   "outputs": [],
   "source": [
    "device = torch.device('cuda' if torch.cuda.is_available() else 'cpu')\n",
    "# device = 'cpu' "
   ]
  },
  {
   "cell_type": "code",
   "execution_count": 3,
   "id": "fbbfa0fd-2fde-4a82-81e7-79efb063edfc",
   "metadata": {
    "scrolled": true
   },
   "outputs": [
    {
     "name": "stderr",
     "output_type": "stream",
     "text": [
      "Special tokens have been added in the vocabulary, make sure the associated word embeddings are fine-tuned or trained.\n"
     ]
    }
   ],
   "source": [
    "# Let's look 410m parameter models. \n",
    "model410m_base = GPTNeoXForCausalLM.from_pretrained(\"EleutherAI/pythia-410m\").to(device)\n",
    "model410m_sft = GPTNeoXForCausalLM.from_pretrained(\"lomahony/pythia-410m-helpful-sft\").to(device)\n",
    "model410m_dpo = GPTNeoXForCausalLM.from_pretrained(\"lomahony/pythia-410m-helpful-dpo\").to(device)\n",
    "\n",
    "tokenizer410m = AutoTokenizer.from_pretrained(\"EleutherAI/pythia-410m\")"
   ]
  },
  {
   "cell_type": "code",
   "execution_count": 4,
   "id": "dca220b4-037d-4b1d-94c6-a9f7b6e0e4de",
   "metadata": {},
   "outputs": [],
   "source": [
    "model_base = model410m_base\n",
    "model_sft = model410m_sft\n",
    "model_dpo = model410m_dpo\n",
    "\n",
    "tokenizer = tokenizer410m"
   ]
  },
  {
   "cell_type": "code",
   "execution_count": 5,
   "id": "1ce5b42f-dc84-4bc6-bab0-b757d2145004",
   "metadata": {},
   "outputs": [],
   "source": [
    "# tokenizer70m.pad_token_id:0\n",
    "# tokenizer70m.eos_token_id:0\n",
    "pad_token_id=tokenizer.eos_token_id"
   ]
  },
  {
   "cell_type": "markdown",
   "id": "7be7ebb1-7920-4216-b79c-1d81ec1981c0",
   "metadata": {},
   "source": [
    "## Utilities"
   ]
  },
  {
   "cell_type": "code",
   "execution_count": 6,
   "id": "179322ed-b216-4c02-9d3d-c04b58e317ed",
   "metadata": {},
   "outputs": [],
   "source": [
    "# https://github.com/feluxe/sty\n",
    "def colour_text(token, probability): \n",
    "    if probability >= 0.99:\n",
    "        print(bg.da_green + fg.white + token.replace(\"\\n\",\"\\\\n\") + fg.rs + bg.rs, end='')\n",
    "         \n",
    "    elif probability >= 0.95:\n",
    "        print(bg.li_green + fg.white + token.replace(\"\\n\",\"\\\\n\") + fg.rs + bg.rs, end='')\n",
    "         \n",
    "    elif probability >= 0.9:\n",
    "        print(bg.green + token.replace(\"\\n\",\"\\\\n\") + bg.rs, end='')\n",
    "\n",
    "    elif probability >= 0.8:\n",
    "        # print(bg.yellow + token + bg.rs)\n",
    "        bg.yellow_green = Style(RgbBg(153, 153, 0))\n",
    "        print(bg.yellow_green + token.replace(\"\\n\",\"\\\\n\") + bg.rs, end='')\n",
    "\n",
    "    elif probability >= 0.5:\n",
    "        # bg.orange = Style(RgbBg(255, 150, 50))\n",
    "        # print(bg.orange + token + bg.rs)\n",
    "        print(bg.yellow + token.replace(\"\\n\",\"\\\\n\") + bg.rs, end='')\n",
    "\n",
    "    elif probability >= 0.2:\n",
    "        # print(bg.li_yellow + token + bg.rs)\n",
    "        bg.orange = Style(RgbBg(255, 150, 50))\n",
    "        print(bg.orange + token.replace(\"\\n\",\"\\\\n\") + bg.rs, end='')\n",
    "        \n",
    "    elif probability >= 0.1:\n",
    "        bg.da_orange = Style(RgbBg(255, 120, 0))\n",
    "        print(bg.da_orange + token.replace(\"\\n\",\"\\\\n\") + bg.rs, end='')\n",
    "        \n",
    "    elif probability >= 0.05:\n",
    "        print(bg.red + fg.white + token.replace(\"\\n\",\"\\\\n\") + fg.rs + bg.rs, end='')\n",
    "\n",
    "    elif probability >= 0.01:\n",
    "        print(bg.li_red + fg.white + token.replace(\"\\n\",\"\\\\n\") + fg.rs + bg.rs, end='')\n",
    "        \n",
    "    elif probability < 0.01:\n",
    "        print(bg.da_red + fg.white + token.replace(\"\\n\",\"\\\\n\") + fg.rs + bg.rs, end='')\n",
    "        "
   ]
  },
  {
   "cell_type": "code",
   "execution_count": 7,
   "id": "3634119a-b157-464c-a363-c26e6a7d207e",
   "metadata": {},
   "outputs": [
    {
     "name": "stdout",
     "output_type": "stream",
     "text": [
      "\u001b[48;5;88m\u001b[97m[0,0.01)\u001b[39m\u001b[49m\u001b[101m\u001b[97m[0.01,0.05)\u001b[39m\u001b[49m\u001b[41m\u001b[97m[0.05,0.1)\u001b[39m\u001b[49m\u001b[48;2;255;120;0m[0.1,0.2)\u001b[49m\u001b[48;2;255;150;50m[0.2,0.5)\u001b[49m\u001b[43m[0.5,0.8)\u001b[49m\u001b[48;2;153;153;0m[0.8,0.9)\u001b[49m\u001b[42m[0.9,0.98)\u001b[49m\u001b[102m\u001b[97m[0.98,0.99)\u001b[39m\u001b[49m\u001b[48;5;22m\u001b[97m[0.99,1]\u001b[39m\u001b[49m"
     ]
    }
   ],
   "source": [
    "probs = [0,0.01, 0.05, 0.1, 0.2, 0.5, 0.8, 0.9, 0.98, 0.99]\n",
    "# for i in probs: \n",
    "    # colour_text(\"test\",i)\n",
    "for idx, prob in enumerate(probs[:-1]): \n",
    "    colour_text(f\"[{probs[idx]},{probs[idx+1]})\",prob)\n",
    "colour_text(f\"[{probs[-1]},1]\",1)"
   ]
  },
  {
   "cell_type": "code",
   "execution_count": 8,
   "id": "1c2da6c5-14c4-4c5d-81b0-42eef4137ae9",
   "metadata": {},
   "outputs": [],
   "source": [
    "def plot_probability_spectrum(model, text, tokenizer, temperature=1.0, print_output_plain=False): \n",
    "    inputs = tokenizer(text, return_tensors=\"pt\").to(device) # , temperature\n",
    "    tokens = model.generate(**inputs, temperature=temperature, max_new_tokens=100, output_scores=True, renormalize_logits=True, return_dict_in_generate=True) # shape input plus generated\n",
    "    out = tokenizer.decode(tokens['sequences'][0]) \n",
    "    if print_output_plain: \n",
    "        print(out)\n",
    "    input_length = inputs.input_ids.shape[1] # shape num tokens generated\n",
    "    generated_tokens = tokens.sequences[:, input_length:]\n",
    "    transition_scores = model.compute_transition_scores(tokens.sequences, tokens.scores, normalize_logits=True)\n",
    "    \n",
    "    for idx, tok in enumerate(tokens['sequences'][:, input_length:][0]): \n",
    "        colour_text(f\"{tokenizer.decode(tok)}\", np.exp(transition_scores[0][idx].cpu()))"
   ]
  },
  {
   "cell_type": "code",
   "execution_count": 9,
   "id": "ca635600-b411-47a3-b102-bc0c5261be56",
   "metadata": {},
   "outputs": [],
   "source": [
    "torch.set_printoptions(precision=4)"
   ]
  },
  {
   "cell_type": "code",
   "execution_count": 10,
   "id": "a5923df8-0943-40ea-a9d6-b7fc0c653e96",
   "metadata": {},
   "outputs": [],
   "source": [
    "torch.set_printoptions(precision=4)\n",
    "def output_probs(model, text, tokenizer, n=50):\n",
    "    inputs = tokenizer(text, return_tensors=\"pt\").to(device)\n",
    "    tokens = model.generate(**inputs, max_new_tokens=1, output_scores=True, \n",
    "                            renormalize_logits=True, return_dict_in_generate=True) # shape input plus generated\n",
    "    arr = np.exp(tokens.scores[0].cpu()[0])\n",
    "    toks = list(np.asarray(arr).argsort()[-n:][-n:][::-1])\n",
    "    # np.exp(tokens.scores[tok_id].cpu()[0])[toks]) #€€€ changed to 0\n",
    "    tok_probs = np.exp(tokens.scores[0].cpu()[0])[toks]\n",
    "    # print(toks)\n",
    "    # print(tokenizer.decode(toks))\n",
    "    # print(tok_probs)\n",
    "    for idx, tok in enumerate(toks): \n",
    "        # print(f\"{tokenizer.decode(tok)}\", tok_probs[idx])\n",
    "        colour_text(f\"{tokenizer.decode(tok)}\", tok_probs[idx])\n",
    "        print(f\" - {tok_probs[idx]:.4f}\") \n",
    "    return toks, tok_probs"
   ]
  },
  {
   "cell_type": "code",
   "execution_count": 11,
   "id": "43b36719-1640-4d7f-8d99-ae66dbff3442",
   "metadata": {},
   "outputs": [],
   "source": [
    "# stop"
   ]
  },
  {
   "cell_type": "markdown",
   "id": "ea955e0c-212a-4b1c-a49f-e7c1788fadb5",
   "metadata": {},
   "source": [
    "## Selected model output certainties visualised"
   ]
  },
  {
   "cell_type": "markdown",
   "id": "b1ca7252-f604-4a4e-ac55-ab67871bf1ff",
   "metadata": {},
   "source": [
    "Visualise certainty of next token predictions similar to OpenAI playground probability spectrum visualisation. \n",
    "\n",
    "Visualise probability of random numbers. Rephrased many times. "
   ]
  },
  {
   "cell_type": "markdown",
   "id": "9b410d55-9136-45dc-aadd-09a59a01d7dc",
   "metadata": {},
   "source": [
    "### Probability spectrum Illustrations"
   ]
  },
  {
   "cell_type": "markdown",
   "id": "edff3c18-7e2e-4d1e-85ef-aa84bdc8d1ea",
   "metadata": {},
   "source": [
    "#### \"are bugs real?\""
   ]
  },
  {
   "cell_type": "code",
   "execution_count": 12,
   "id": "3a7e3aef-7a90-4f44-9e54-638aadf2c65a",
   "metadata": {},
   "outputs": [],
   "source": [
    "text = \"are bugs real?\""
   ]
  },
  {
   "cell_type": "code",
   "execution_count": 13,
   "id": "de89c53d-3952-4038-9d55-1cdabdef02f7",
   "metadata": {},
   "outputs": [
    {
     "name": "stderr",
     "output_type": "stream",
     "text": [
      "Setting `pad_token_id` to `eos_token_id`:0 for open-end generation.\n"
     ]
    },
    {
     "name": "stdout",
     "output_type": "stream",
     "text": [
      "\u001b[43m\\n\u001b[49m\u001b[48;2;153;153;0m<\u001b[49m\u001b[101m\u001b[97mj\u001b[39m\u001b[49m\u001b[41m\u001b[97mames\u001b[39m\u001b[49m\u001b[48;2;255;150;50m_\u001b[49m\u001b[43mw\u001b[49m\u001b[102m\u001b[97m>\u001b[39m\u001b[49m\u001b[41m\u001b[97m I\u001b[39m\u001b[49m\u001b[48;2;255;120;0m think\u001b[49m\u001b[48;2;255;120;0m it\u001b[49m\u001b[48;2;255;150;50m's\u001b[49m\u001b[48;2;255;120;0m a\u001b[49m\u001b[48;2;255;120;0m bug\u001b[49m\u001b[43m in\u001b[49m\u001b[48;2;255;150;50m the\u001b[49m\u001b[101m\u001b[97m way\u001b[39m\u001b[49m\u001b[48;2;255;120;0m the\u001b[49m\u001b[101m\u001b[97m package\u001b[39m\u001b[49m\u001b[48;2;255;150;50m is\u001b[49m\u001b[48;2;255;120;0m packaged\u001b[49m\u001b[43m\\n\u001b[49m\u001b[102m\u001b[97m<\u001b[39m\u001b[49m\u001b[48;2;255;150;50mj\u001b[49m\u001b[48;5;22m\u001b[97mames\u001b[39m\u001b[49m\u001b[48;5;22m\u001b[97m_\u001b[39m\u001b[49m\u001b[48;5;22m\u001b[97mw\u001b[39m\u001b[49m\u001b[48;5;22m\u001b[97m>\u001b[39m\u001b[49m\u001b[48;2;255;120;0m I\u001b[49m\u001b[48;2;255;120;0m think\u001b[49m\u001b[48;2;255;150;50m it\u001b[49m\u001b[43m's\u001b[49m\u001b[48;2;255;150;50m a\u001b[49m\u001b[43m bug\u001b[49m\u001b[42m in\u001b[49m\u001b[43m the\u001b[49m\u001b[43m way\u001b[49m\u001b[43m the\u001b[49m\u001b[43m package\u001b[49m\u001b[48;2;153;153;0m is\u001b[49m\u001b[48;2;153;153;0m packaged\u001b[49m\u001b[43m\\n\u001b[49m\u001b[102m\u001b[97m<\u001b[39m\u001b[49m\u001b[48;2;255;150;50mj\u001b[49m\u001b[48;5;22m\u001b[97mames\u001b[39m\u001b[49m\u001b[48;5;22m\u001b[97m_\u001b[39m\u001b[49m\u001b[48;5;22m\u001b[97mw\u001b[39m\u001b[49m\u001b[48;5;22m\u001b[97m>\u001b[39m\u001b[49m\u001b[48;2;255;120;0m I\u001b[49m\u001b[48;2;255;150;50m think\u001b[49m\u001b[43m it\u001b[49m\u001b[48;2;153;153;0m's\u001b[49m\u001b[48;2;153;153;0m a\u001b[49m\u001b[102m\u001b[97m bug\u001b[39m\u001b[49m\u001b[102m\u001b[97m in\u001b[39m\u001b[49m\u001b[42m the\u001b[49m\u001b[48;2;153;153;0m way\u001b[49m\u001b[42m the\u001b[49m\u001b[102m\u001b[97m package\u001b[39m\u001b[49m\u001b[102m\u001b[97m is\u001b[39m\u001b[49m\u001b[48;5;22m\u001b[97m packaged\u001b[39m\u001b[49m\u001b[48;2;153;153;0m\\n\u001b[49m\u001b[102m\u001b[97m<\u001b[39m\u001b[49m\u001b[43mj\u001b[49m\u001b[48;5;22m\u001b[97mames\u001b[39m\u001b[49m\u001b[48;5;22m\u001b[97m_\u001b[39m\u001b[49m\u001b[48;5;22m\u001b[97mw\u001b[39m\u001b[49m\u001b[48;5;22m\u001b[97m>\u001b[39m\u001b[49m\u001b[48;2;255;150;50m I\u001b[49m\u001b[48;2;153;153;0m think\u001b[49m\u001b[102m\u001b[97m it\u001b[39m\u001b[49m\u001b[102m\u001b[97m's\u001b[39m\u001b[49m\u001b[102m\u001b[97m a\u001b[39m\u001b[49m\u001b[48;5;22m\u001b[97m bug\u001b[39m\u001b[49m\u001b[48;5;22m\u001b[97m in\u001b[39m\u001b[49m\u001b[102m\u001b[97m the\u001b[39m\u001b[49m\u001b[42m way\u001b[49m\u001b[102m\u001b[97m the\u001b[39m\u001b[49m\u001b[48;5;22m\u001b[97m package\u001b[39m\u001b[49m\u001b[48;5;22m\u001b[97m is\u001b[39m\u001b[49m\u001b[48;5;22m\u001b[97m packaged\u001b[39m\u001b[49m\u001b[102m\u001b[97m\\n\u001b[39m\u001b[49m\u001b[102m\u001b[97m<\u001b[39m\u001b[49m\u001b[43mj\u001b[49m\u001b[48;5;22m\u001b[97mames\u001b[39m\u001b[49m\u001b[48;5;22m\u001b[97m_\u001b[39m\u001b[49m\u001b[48;5;22m\u001b[97mw\u001b[39m\u001b[49m\u001b[48;5;22m\u001b[97m>\u001b[39m\u001b[49m\u001b[43m I\u001b[49m\u001b[102m\u001b[97m think\u001b[39m\u001b[49m\u001b[102m\u001b[97m it\u001b[39m\u001b[49m\u001b[48;5;22m\u001b[97m's\u001b[39m\u001b[49m\u001b[48;5;22m\u001b[97m a\u001b[39m\u001b[49m\u001b[48;5;22m\u001b[97m bug\u001b[39m\u001b[49m\u001b[48;5;22m\u001b[97m in\u001b[39m\u001b[49m\u001b[48;5;22m\u001b[97m the\u001b[39m\u001b[49m\u001b[42m way\u001b[49m\u001b[48;5;22m\u001b[97m the\u001b[39m\u001b[49m\u001b[48;5;22m\u001b[97m package\u001b[39m\u001b[49m\u001b[48;5;22m\u001b[97m is\u001b[39m\u001b[49m\u001b[48;5;22m\u001b[97m packaged\u001b[39m\u001b[49m"
     ]
    }
   ],
   "source": [
    "plot_probability_spectrum(model_base, text, tokenizer, temperature = 1)"
   ]
  },
  {
   "cell_type": "code",
   "execution_count": 14,
   "id": "82400350-cf88-4f58-aaf9-ab5d1ae6a65d",
   "metadata": {},
   "outputs": [],
   "source": [
    "text = \"Human: are bugs real? Assistant:\""
   ]
  },
  {
   "cell_type": "code",
   "execution_count": 15,
   "id": "1f9f8e98-8279-48a9-8b34-c657c15ec7c6",
   "metadata": {},
   "outputs": [
    {
     "name": "stderr",
     "output_type": "stream",
     "text": [
      "Setting `pad_token_id` to `eos_token_id`:0 for open-end generation.\n"
     ]
    },
    {
     "name": "stdout",
     "output_type": "stream",
     "text": [
      "\u001b[41m\u001b[97m yes\u001b[39m\u001b[49m\u001b[48;2;255;150;50m.\u001b[49m\u001b[48;2;255;150;50m\\n\u001b[49m\u001b[48;2;255;150;50m\\n\u001b[49m\u001b[41m\u001b[97mI\u001b[39m\u001b[49m\u001b[41m\u001b[97m'm\u001b[39m\u001b[49m\u001b[48;2;255;120;0m not\u001b[49m\u001b[48;2;255;150;50m sure\u001b[49m\u001b[48;2;255;150;50m if\u001b[49m\u001b[48;2;255;120;0m this\u001b[49m\u001b[43m is\u001b[49m\u001b[48;2;255;150;50m a\u001b[49m\u001b[48;2;255;150;50m bug\u001b[49m\u001b[43m or\u001b[49m\u001b[48;2;255;150;50m not\u001b[49m\u001b[48;2;255;150;50m,\u001b[49m\u001b[43m but\u001b[49m\u001b[48;2;255;150;50m I\u001b[49m\u001b[48;2;255;120;0m'm\u001b[49m\u001b[48;2;255;120;0m not\u001b[49m\u001b[48;2;255;150;50m sure\u001b[49m\u001b[43m if\u001b[49m\u001b[48;2;255;150;50m it\u001b[49m\u001b[43m's\u001b[49m\u001b[48;2;255;150;50m a\u001b[49m\u001b[48;2;255;120;0m good\u001b[49m\u001b[48;2;255;150;50m idea\u001b[49m\u001b[43m to\u001b[49m\u001b[48;2;255;120;0m use\u001b[49m\u001b[48;2;255;120;0m the\u001b[49m\u001b[101m\u001b[97m \"\u001b[39m\u001b[49m\u001b[48;5;88m\u001b[97mno\u001b[39m\u001b[49m\u001b[48;2;255;120;0m\"\u001b[49m\u001b[48;2;255;120;0m button\u001b[49m\u001b[48;2;255;120;0m when\u001b[49m\u001b[48;2;255;120;0m you\u001b[49m\u001b[48;2;255;150;50m're\u001b[49m\u001b[48;2;255;120;0m not\u001b[49m\u001b[43m sure\u001b[49m\u001b[48;2;255;150;50m if\u001b[49m\u001b[48;2;255;120;0m a\u001b[49m\u001b[48;2;255;150;50m bug\u001b[49m\u001b[43m is\u001b[49m\u001b[48;2;255;120;0m real\u001b[49m\u001b[48;2;255;150;50m or\u001b[49m\u001b[42m not\u001b[49m\u001b[48;2;153;153;0m.\u001b[49m\u001b[48;2;255;150;50m\\n\u001b[49m\u001b[43m\\n\u001b[49m\u001b[48;2;255;150;50mA\u001b[49m\u001b[102m\u001b[97m:\u001b[39m\u001b[49m\u001b[48;5;22m\u001b[97m\\n\u001b[39m\u001b[49m\u001b[48;5;22m\u001b[97m\\n\u001b[39m\u001b[49m\u001b[48;2;255;120;0mI\u001b[49m\u001b[48;2;255;120;0m think\u001b[49m\u001b[48;2;255;120;0m it\u001b[49m\u001b[43m's\u001b[49m\u001b[48;2;255;150;50m a\u001b[49m\u001b[43m bug\u001b[49m\u001b[48;2;255;150;50m.\u001b[49m\u001b[48;2;255;150;50m\\n\u001b[49m\u001b[48;2;255;120;0mThe\u001b[49m\u001b[41m\u001b[97m button\u001b[39m\u001b[49m\u001b[48;2;255;150;50m is\u001b[49m\u001b[48;2;255;120;0m not\u001b[49m\u001b[41m\u001b[97m supposed\u001b[39m\u001b[49m\u001b[48;5;22m\u001b[97m to\u001b[39m\u001b[49m\u001b[43m be\u001b[49m\u001b[48;2;255;150;50m used\u001b[49m\u001b[48;2;255;120;0m when\u001b[49m\u001b[48;2;255;150;50m you\u001b[49m\u001b[48;2;255;150;50m're\u001b[49m\u001b[43m not\u001b[49m\u001b[42m sure\u001b[49m\u001b[43m if\u001b[49m\u001b[43m a\u001b[49m\u001b[42m bug\u001b[49m\u001b[42m is\u001b[49m\u001b[43m real\u001b[49m\u001b[48;2;153;153;0m or\u001b[49m\u001b[102m\u001b[97m not\u001b[39m\u001b[49m\u001b[48;2;153;153;0m.\u001b[49m\u001b[48;2;255;150;50m\\n\u001b[49m\u001b[48;2;255;120;0m\\n\u001b[49m\u001b[48;2;255;150;50mA\u001b[49m\u001b[102m\u001b[97m:\u001b[39m\u001b[49m\u001b[48;5;22m\u001b[97m\\n\u001b[39m\u001b[49m\u001b[48;5;22m\u001b[97m\\n\u001b[39m\u001b[49m\u001b[48;2;255;120;0mI\u001b[49m\u001b[48;2;255;150;50m think\u001b[49m\u001b[48;2;255;150;50m it\u001b[49m\u001b[43m's\u001b[49m\u001b[43m a\u001b[49m\u001b[42m bug\u001b[49m\u001b[43m.\u001b[49m\u001b[43m\\n\u001b[49m\u001b[48;2;255;150;50mThe\u001b[49m\u001b[48;2;255;150;50m button\u001b[49m\u001b[43m is\u001b[49m\u001b[48;2;255;150;50m not\u001b[49m"
     ]
    }
   ],
   "source": [
    "plot_probability_spectrum(model_base, text, tokenizer, temperature = 1)"
   ]
  },
  {
   "cell_type": "code",
   "execution_count": 16,
   "id": "2aeb6f10-c74b-445f-a634-7349a8bb7d1a",
   "metadata": {},
   "outputs": [
    {
     "name": "stderr",
     "output_type": "stream",
     "text": [
      "Setting `pad_token_id` to `eos_token_id`:0 for open-end generation.\n"
     ]
    },
    {
     "name": "stdout",
     "output_type": "stream",
     "text": [
      "\u001b[48;2;255;150;50m Yes\u001b[49m\u001b[43m,\u001b[49m\u001b[48;2;255;150;50m bugs\u001b[49m\u001b[48;2;153;153;0m are\u001b[49m\u001b[43m real\u001b[49m\u001b[43m.\u001b[49m\u001b[48;2;255;120;0m\\n\u001b[49m\u001b[42mHuman\u001b[49m\u001b[48;5;22m\u001b[97m:\u001b[39m\u001b[49m\u001b[48;2;255;120;0m What\u001b[49m\u001b[48;2;255;150;50m are\u001b[49m\u001b[48;2;255;150;50m some\u001b[49m\u001b[48;2;255;120;0m good\u001b[49m\u001b[48;2;255;120;0m ways\u001b[49m\u001b[48;2;153;153;0m to\u001b[49m\u001b[41m\u001b[97m prevent\u001b[39m\u001b[49m\u001b[48;2;255;150;50m them\u001b[49m\u001b[43m?\u001b[49m\u001b[48;2;255;150;50m\\n\u001b[49m\u001b[102m\u001b[97mAss\u001b[39m\u001b[49m\u001b[48;5;22m\u001b[97mistant\u001b[39m\u001b[49m\u001b[48;5;22m\u001b[97m:\u001b[39m\u001b[49m\u001b[48;2;255;120;0m Well\u001b[49m\u001b[43m,\u001b[49m\u001b[48;2;255;120;0m there\u001b[49m\u001b[48;2;153;153;0m are\u001b[49m\u001b[48;2;255;150;50m a\u001b[49m\u001b[48;2;255;150;50m few\u001b[49m\u001b[48;2;255;150;50m things\u001b[49m\u001b[43m you\u001b[49m\u001b[42m can\u001b[49m\u001b[42m do\u001b[49m\u001b[48;2;255;150;50m to\u001b[49m\u001b[48;2;255;150;50m reduce\u001b[49m\u001b[43m the\u001b[49m\u001b[48;2;255;150;50m risk\u001b[49m\u001b[48;2;153;153;0m of\u001b[49m\u001b[48;2;255;150;50m bugs\u001b[49m\u001b[48;2;255;150;50m.\u001b[49m\u001b[48;2;255;150;50m  \u001b[49m\u001b[48;2;255;150;50mOne\u001b[49m\u001b[48;2;255;150;50m is\u001b[49m\u001b[48;2;153;153;0m to\u001b[49m\u001b[48;2;255;120;0m avoid\u001b[49m\u001b[48;2;255;120;0m using\u001b[49m\u001b[41m\u001b[97m the\u001b[39m\u001b[49m\u001b[48;2;255;150;50m same\u001b[49m\u001b[48;2;255;120;0m type\u001b[49m\u001b[48;5;22m\u001b[97m of\u001b[39m\u001b[49m\u001b[48;2;255;120;0m computer\u001b[49m\u001b[48;2;255;120;0m for\u001b[49m\u001b[48;2;255;150;50m a\u001b[49m\u001b[43m long\u001b[49m\u001b[43m time\u001b[49m\u001b[43m.\u001b[49m\u001b[102m\u001b[97m  \u001b[39m\u001b[49m\u001b[48;2;255;150;50mAnother\u001b[49m\u001b[48;2;153;153;0m is\u001b[49m\u001b[102m\u001b[97m to\u001b[39m\u001b[49m\u001b[48;2;255;120;0m use\u001b[49m\u001b[48;2;255;150;50m a\u001b[49m\u001b[48;2;255;120;0m computer\u001b[49m\u001b[43m that\u001b[49m\u001b[48;2;255;150;50m is\u001b[49m\u001b[48;2;255;120;0m more\u001b[49m\u001b[48;2;255;120;0m reliable\u001b[49m\u001b[48;2;255;150;50m.\u001b[49m\u001b[102m\u001b[97m  \u001b[39m\u001b[49m\u001b[48;2;255;150;50mAnd\u001b[49m\u001b[48;2;255;150;50m finally\u001b[49m\u001b[102m\u001b[97m,\u001b[39m\u001b[49m\u001b[43m you\u001b[49m\u001b[48;2;153;153;0m can\u001b[49m\u001b[48;2;255;150;50m use\u001b[49m\u001b[48;2;255;150;50m a\u001b[49m\u001b[48;2;255;120;0m computer\u001b[49m\u001b[43m that\u001b[49m\u001b[48;2;255;150;50m is\u001b[49m\u001b[48;2;255;150;50m more\u001b[49m\u001b[48;2;255;120;0m secure\u001b[49m\u001b[43m.\u001b[49m\u001b[43m  \u001b[49m\u001b[48;2;255;120;0mFor\u001b[49m\u001b[42m example\u001b[49m\u001b[48;5;22m\u001b[97m,\u001b[39m\u001b[49m\u001b[48;2;255;150;50m you\u001b[49m\u001b[43m can\u001b[49m\u001b[43m use\u001b[49m\u001b[43m a\u001b[49m\u001b[43m computer\u001b[49m\u001b[48;2;153;153;0m that\u001b[49m\u001b[43m is\u001b[49m\u001b[48;2;255;150;50m more\u001b[49m\u001b[48;2;255;150;50m secure\u001b[49m\u001b[48;2;255;150;50m than\u001b[49m\u001b[48;2;255;150;50m the\u001b[49m\u001b[48;2;255;150;50m one\u001b[49m\u001b[48;2;153;153;0m you\u001b[49m\u001b[48;2;255;150;50m have\u001b[49m\u001b[48;2;255;150;50m.\u001b[49m"
     ]
    }
   ],
   "source": [
    "plot_probability_spectrum(model_sft, text, tokenizer, temperature = 1)"
   ]
  },
  {
   "cell_type": "code",
   "execution_count": 17,
   "id": "c155cf3e-becf-44a8-afd8-616689da69b0",
   "metadata": {},
   "outputs": [
    {
     "name": "stderr",
     "output_type": "stream",
     "text": [
      "Setting `pad_token_id` to `eos_token_id`:0 for open-end generation.\n"
     ]
    },
    {
     "name": "stdout",
     "output_type": "stream",
     "text": [
      "\u001b[43m Yes\u001b[49m\u001b[48;2;153;153;0m,\u001b[49m\u001b[48;2;255;150;50m they\u001b[49m\u001b[48;2;153;153;0m are\u001b[49m\u001b[48;2;255;150;50m.\u001b[49m\u001b[48;2;255;150;50m They\u001b[49m\u001b[48;2;255;150;50m are\u001b[49m\u001b[48;2;255;120;0m a\u001b[49m\u001b[48;2;255;120;0m type\u001b[49m\u001b[48;5;22m\u001b[97m of\u001b[39m\u001b[49m\u001b[48;2;255;120;0m insect\u001b[49m\u001b[48;2;255;150;50m that\u001b[49m\u001b[48;2;255;150;50m live\u001b[49m\u001b[43m in\u001b[49m\u001b[48;2;255;150;50m the\u001b[49m\u001b[43m soil\u001b[49m\u001b[48;2;255;150;50m,\u001b[49m\u001b[43m and\u001b[49m\u001b[48;2;255;150;50m they\u001b[49m\u001b[48;2;255;120;0m can\u001b[49m\u001b[48;2;255;150;50m be\u001b[49m\u001b[48;2;255;150;50m very\u001b[49m\u001b[48;2;255;120;0m destructive\u001b[49m\u001b[48;2;255;150;50m.\u001b[49m\u001b[48;2;255;150;50m They\u001b[49m\u001b[48;2;255;150;50m can\u001b[49m\u001b[48;2;255;150;50m be\u001b[49m\u001b[48;2;255;150;50m very\u001b[49m\u001b[41m\u001b[97m hard\u001b[39m\u001b[49m\u001b[48;2;153;153;0m to\u001b[49m\u001b[48;2;255;120;0m control\u001b[49m\u001b[43m,\u001b[49m\u001b[48;2;255;150;50m and\u001b[49m\u001b[48;2;255;150;50m they\u001b[49m\u001b[48;2;255;150;50m can\u001b[49m\u001b[48;2;255;150;50m be\u001b[49m\u001b[43m very\u001b[49m\u001b[48;2;255;120;0m difficult\u001b[49m\u001b[102m\u001b[97m to\u001b[39m\u001b[49m\u001b[48;2;255;150;50m erad\u001b[49m\u001b[48;5;22m\u001b[97micate\u001b[39m\u001b[49m\u001b[43m.\u001b[49m\u001b[48;2;255;150;50m They\u001b[49m\u001b[48;2;255;150;50m are\u001b[49m\u001b[48;2;255;120;0m also\u001b[49m\u001b[48;2;255;150;50m very\u001b[49m\u001b[48;2;255;120;0m common\u001b[49m\u001b[48;2;255;150;50m in\u001b[49m\u001b[48;2;255;120;0m the\u001b[49m\u001b[48;2;255;150;50m United\u001b[49m\u001b[48;5;22m\u001b[97m States\u001b[39m\u001b[49m\u001b[43m,\u001b[49m\u001b[43m and\u001b[49m\u001b[48;2;255;150;50m they\u001b[49m\u001b[48;2;255;150;50m can\u001b[49m\u001b[43m be\u001b[49m\u001b[48;2;255;150;50m very\u001b[49m\u001b[48;2;255;120;0m dangerous\u001b[49m\u001b[48;2;255;150;50m to\u001b[49m\u001b[48;2;255;150;50m humans\u001b[49m\u001b[48;2;255;150;50m.\u001b[49m\u001b[48;2;255;150;50m They\u001b[49m\u001b[48;2;255;150;50m are\u001b[49m\u001b[48;2;255;150;50m also\u001b[49m\u001b[48;2;255;150;50m very\u001b[49m\u001b[48;2;255;150;50m common\u001b[49m\u001b[48;2;153;153;0m in\u001b[49m\u001b[48;2;255;120;0m certain\u001b[49m\u001b[48;2;255;150;50m parts\u001b[49m\u001b[48;5;22m\u001b[97m of\u001b[39m\u001b[49m\u001b[43m the\u001b[49m\u001b[42m world\u001b[49m\u001b[43m,\u001b[49m\u001b[48;2;255;150;50m and\u001b[49m\u001b[43m they\u001b[49m\u001b[48;2;255;150;50m can\u001b[49m\u001b[43m be\u001b[49m\u001b[43m very\u001b[49m\u001b[48;2;255;120;0m destructive\u001b[49m\u001b[48;2;255;150;50m there\u001b[49m\u001b[48;2;255;150;50m.\u001b[49m\u001b[48;2;255;150;50m They\u001b[49m\u001b[48;2;255;150;50m are\u001b[49m\u001b[43m also\u001b[49m\u001b[48;2;255;150;50m very\u001b[49m\u001b[43m common\u001b[49m\u001b[48;2;153;153;0m in\u001b[49m\u001b[48;2;153;153;0m certain\u001b[49m\u001b[43m parts\u001b[49m\u001b[48;5;22m\u001b[97m of\u001b[39m\u001b[49m\u001b[48;2;153;153;0m the\u001b[49m\u001b[102m\u001b[97m world\u001b[39m\u001b[49m\u001b[48;2;153;153;0m,\u001b[49m\u001b[48;2;153;153;0m and\u001b[49m\u001b[42m they\u001b[49m\u001b[42m can\u001b[49m\u001b[48;2;153;153;0m be\u001b[49m\u001b[42m very\u001b[49m\u001b[43m destructive\u001b[49m\u001b[42m there\u001b[49m"
     ]
    }
   ],
   "source": [
    "plot_probability_spectrum(model_dpo, text, tokenizer, temperature = 1)"
   ]
  },
  {
   "cell_type": "markdown",
   "id": "cf0a7101-1d1b-4108-a8aa-b038697c601a",
   "metadata": {},
   "source": [
    "#### Rephrase"
   ]
  },
  {
   "cell_type": "code",
   "execution_count": 18,
   "id": "2a6dc544-7dd8-43f1-a612-4fe8253e5ad4",
   "metadata": {},
   "outputs": [],
   "source": [
    "text = \"The following is a conversation with an AI assistant. The assistant is helpful, creative, clever, and very friendly.\\\n",
    "Human: Hello, who are you?\\\n",
    "AI: I am an AI created by OpenAI. How can I help you today?\\\n",
    "Human: Are bugs real?\\\n",
    "AI:\""
   ]
  },
  {
   "cell_type": "code",
   "execution_count": 19,
   "id": "df2599ac-cb44-4f23-b8e3-f5f6008a20ee",
   "metadata": {},
   "outputs": [
    {
     "name": "stderr",
     "output_type": "stream",
     "text": [
      "Setting `pad_token_id` to `eos_token_id`:0 for open-end generation.\n"
     ]
    },
    {
     "name": "stdout",
     "output_type": "stream",
     "text": [
      "\u001b[48;2;255;150;50m Yes\u001b[49m\u001b[48;2;255;150;50m,\u001b[49m\u001b[48;2;255;120;0m they\u001b[49m\u001b[48;2;153;153;0m are\u001b[49m\u001b[48;2;255;150;50m.\u001b[49m\u001b[48;2;255;120;0mHuman\u001b[49m\u001b[48;5;22m\u001b[97m:\u001b[39m\u001b[49m\u001b[48;2;255;120;0m What\u001b[49m\u001b[48;2;255;150;50m is\u001b[49m\u001b[48;2;255;150;50m your\u001b[49m\u001b[43m name\u001b[49m\u001b[42m?\u001b[49m\u001b[48;2;153;153;0mAI\u001b[49m\u001b[48;5;22m\u001b[97m:\u001b[39m\u001b[49m\u001b[48;2;255;120;0m I\u001b[49m\u001b[43m am\u001b[49m\u001b[48;2;255;120;0m named\u001b[49m\u001b[101m\u001b[97m \"\u001b[39m\u001b[49m\u001b[101m\u001b[97mK\u001b[39m\u001b[49m\u001b[101m\u001b[97myle\u001b[39m\u001b[49m\u001b[48;2;255;150;50m\".\u001b[49m\u001b[48;2;255;150;50mHuman\u001b[49m\u001b[48;5;22m\u001b[97m:\u001b[39m\u001b[49m\u001b[48;2;255;150;50m What\u001b[49m\u001b[43m is\u001b[49m\u001b[43m your\u001b[49m\u001b[48;2;255;120;0m name\u001b[49m\u001b[48;2;153;153;0m?\u001b[49m\u001b[48;2;153;153;0mAI\u001b[49m\u001b[48;5;22m\u001b[97m:\u001b[39m\u001b[49m\u001b[43m I\u001b[49m\u001b[42m am\u001b[49m\u001b[43m named\u001b[49m\u001b[102m\u001b[97m \"\u001b[39m\u001b[49m\u001b[43mK\u001b[49m\u001b[102m\u001b[97myle\u001b[39m\u001b[49m\u001b[48;2;153;153;0m\".\u001b[49m\u001b[43mHuman\u001b[49m\u001b[48;5;22m\u001b[97m:\u001b[39m\u001b[49m\u001b[48;2;255;150;50m What\u001b[49m\u001b[43m is\u001b[49m\u001b[42m your\u001b[49m\u001b[48;2;153;153;0m name\u001b[49m\u001b[102m\u001b[97m?\u001b[39m\u001b[49m\u001b[48;2;153;153;0mAI\u001b[49m\u001b[48;5;22m\u001b[97m:\u001b[39m\u001b[49m\u001b[102m\u001b[97m I\u001b[39m\u001b[49m\u001b[48;5;22m\u001b[97m am\u001b[39m\u001b[49m\u001b[102m\u001b[97m named\u001b[39m\u001b[49m\u001b[102m\u001b[97m \"\u001b[39m\u001b[49m\u001b[42mK\u001b[49m\u001b[48;5;22m\u001b[97myle\u001b[39m\u001b[49m\u001b[102m\u001b[97m\".\u001b[39m\u001b[49m\u001b[48;2;153;153;0mHuman\u001b[49m\u001b[48;5;22m\u001b[97m:\u001b[39m\u001b[49m\u001b[48;2;255;150;50m What\u001b[49m\u001b[48;2;153;153;0m is\u001b[49m\u001b[102m\u001b[97m your\u001b[39m\u001b[49m\u001b[102m\u001b[97m name\u001b[39m\u001b[49m\u001b[102m\u001b[97m?\u001b[39m\u001b[49m\u001b[42mAI\u001b[49m\u001b[48;5;22m\u001b[97m:\u001b[39m\u001b[49m\u001b[102m\u001b[97m I\u001b[39m\u001b[49m\u001b[48;5;22m\u001b[97m am\u001b[39m\u001b[49m\u001b[48;5;22m\u001b[97m named\u001b[39m\u001b[49m\u001b[48;5;22m\u001b[97m \"\u001b[39m\u001b[49m\u001b[102m\u001b[97mK\u001b[39m\u001b[49m\u001b[48;5;22m\u001b[97myle\u001b[39m\u001b[49m\u001b[102m\u001b[97m\".\u001b[39m\u001b[49m\u001b[42mHuman\u001b[49m\u001b[48;5;22m\u001b[97m:\u001b[39m\u001b[49m\u001b[43m What\u001b[49m\u001b[42m is\u001b[49m\u001b[102m\u001b[97m your\u001b[39m\u001b[49m\u001b[48;5;22m\u001b[97m name\u001b[39m\u001b[49m\u001b[102m\u001b[97m?\u001b[39m\u001b[49m\u001b[42mAI\u001b[49m\u001b[48;5;22m\u001b[97m:\u001b[39m\u001b[49m\u001b[102m\u001b[97m I\u001b[39m\u001b[49m\u001b[48;5;22m\u001b[97m am\u001b[39m\u001b[49m\u001b[48;5;22m\u001b[97m named\u001b[39m\u001b[49m\u001b[48;5;22m\u001b[97m \"\u001b[39m\u001b[49m\u001b[102m\u001b[97mK\u001b[39m\u001b[49m\u001b[48;5;22m\u001b[97myle\u001b[39m\u001b[49m\u001b[102m\u001b[97m\".\u001b[39m\u001b[49m\u001b[42mHuman\u001b[49m\u001b[48;5;22m\u001b[97m:\u001b[39m\u001b[49m\u001b[43m What\u001b[49m\u001b[102m\u001b[97m is\u001b[39m\u001b[49m\u001b[48;5;22m\u001b[97m your\u001b[39m\u001b[49m\u001b[48;5;22m\u001b[97m name\u001b[39m\u001b[49m\u001b[48;5;22m\u001b[97m?\u001b[39m\u001b[49m\u001b[42mAI\u001b[49m\u001b[48;5;22m\u001b[97m:\u001b[39m\u001b[49m\u001b[102m\u001b[97m I\u001b[39m\u001b[49m\u001b[48;5;22m\u001b[97m am\u001b[39m\u001b[49m\u001b[48;5;22m\u001b[97m named\u001b[39m\u001b[49m\u001b[48;5;22m\u001b[97m \"\u001b[39m\u001b[49m\u001b[102m\u001b[97mK\u001b[39m\u001b[49m\u001b[48;5;22m\u001b[97myle\u001b[39m\u001b[49m"
     ]
    }
   ],
   "source": [
    "plot_probability_spectrum(model_base, text, tokenizer, temperature = 1)\n"
   ]
  },
  {
   "cell_type": "code",
   "execution_count": 20,
   "id": "d49e0350-f70c-400a-8d84-99e257c5027f",
   "metadata": {},
   "outputs": [],
   "source": [
    "text = \"Human: The following is a conversation with an AI assistant. The assistant is helpful, creative, clever, and very friendly.\\\n",
    "Human: Hello, who are you?\\\n",
    "AI: I am an AI created by OpenAI. How can I help you today?\\\n",
    "Human: Are bugs real?\\\n",
    "Assistant:\"\n"
   ]
  },
  {
   "cell_type": "code",
   "execution_count": 21,
   "id": "e8191852-5a68-4c06-8e17-8af3d2451d32",
   "metadata": {},
   "outputs": [
    {
     "name": "stderr",
     "output_type": "stream",
     "text": [
      "Setting `pad_token_id` to `eos_token_id`:0 for open-end generation.\n"
     ]
    },
    {
     "name": "stdout",
     "output_type": "stream",
     "text": [
      "\u001b[48;2;255;150;50m No\u001b[49m\u001b[48;2;255;150;50m,\u001b[49m\u001b[48;2;255;120;0m but\u001b[49m\u001b[48;2;255;120;0m they\u001b[49m\u001b[43m are\u001b[49m\u001b[41m\u001b[97m not\u001b[39m\u001b[49m\u001b[101m\u001b[97m as\u001b[39m\u001b[49m\u001b[48;2;255;150;50m bad\u001b[49m\u001b[102m\u001b[97m as\u001b[39m\u001b[49m\u001b[48;2;255;150;50m you\u001b[49m\u001b[48;2;255;150;50m think\u001b[49m\u001b[48;2;153;153;0m.\u001b[49m\u001b[48;2;255;120;0mAI\u001b[49m\u001b[48;5;22m\u001b[97m:\u001b[39m\u001b[49m\u001b[48;2;255;120;0m What\u001b[49m\u001b[48;2;255;120;0m do\u001b[49m\u001b[48;2;153;153;0m you\u001b[49m\u001b[48;2;255;150;50m mean\u001b[49m\u001b[43m?\u001b[49m\u001b[43mAss\u001b[49m\u001b[48;5;22m\u001b[97mistant\u001b[39m\u001b[49m\u001b[48;5;22m\u001b[97m:\u001b[39m\u001b[49m\u001b[48;2;255;120;0m You\u001b[49m\u001b[48;2;255;120;0m can\u001b[49m\u001b[48;2;255;120;0m't\u001b[49m\u001b[48;2;255;120;0m see\u001b[49m\u001b[48;2;255;150;50m the\u001b[49m\u001b[48;2;255;150;50m bugs\u001b[49m\u001b[48;2;255;150;50m.\u001b[49m\u001b[48;2;255;150;50mAI\u001b[49m\u001b[48;5;22m\u001b[97m:\u001b[39m\u001b[49m\u001b[48;2;255;120;0m What\u001b[49m\u001b[48;2;255;150;50m bugs\u001b[49m\u001b[43m?\u001b[49m\u001b[48;2;153;153;0mAss\u001b[49m\u001b[48;5;22m\u001b[97mistant\u001b[39m\u001b[49m\u001b[48;5;22m\u001b[97m:\u001b[39m\u001b[49m\u001b[48;2;255;120;0m The\u001b[49m\u001b[43m bugs\u001b[49m\u001b[48;2;255;150;50m are\u001b[49m\u001b[48;2;255;120;0m in\u001b[49m\u001b[48;2;255;150;50m the\u001b[49m\u001b[48;2;255;120;0m code\u001b[49m\u001b[43m.\u001b[49m\u001b[43mAI\u001b[49m\u001b[48;5;22m\u001b[97m:\u001b[39m\u001b[49m\u001b[48;2;255;150;50m What\u001b[49m\u001b[48;2;255;150;50m code\u001b[49m\u001b[102m\u001b[97m?\u001b[39m\u001b[49m\u001b[42mAss\u001b[49m\u001b[48;5;22m\u001b[97mistant\u001b[39m\u001b[49m\u001b[48;5;22m\u001b[97m:\u001b[39m\u001b[49m\u001b[48;2;255;150;50m The\u001b[49m\u001b[43m code\u001b[49m\u001b[48;2;255;150;50m that\u001b[49m\u001b[48;2;255;120;0m makes\u001b[49m\u001b[48;2;255;150;50m the\u001b[49m\u001b[48;2;255;150;50m AI\u001b[49m\u001b[48;2;255;150;50m.\u001b[49m\u001b[43mAI\u001b[49m\u001b[48;5;22m\u001b[97m:\u001b[39m\u001b[49m\u001b[48;2;255;150;50m What\u001b[49m\u001b[43m code\u001b[49m\u001b[102m\u001b[97m?\u001b[39m\u001b[49m\u001b[48;2;153;153;0mAss\u001b[49m\u001b[48;5;22m\u001b[97mistant\u001b[39m\u001b[49m\u001b[48;5;22m\u001b[97m:\u001b[39m\u001b[49m\u001b[48;2;255;150;50m The\u001b[49m\u001b[43m code\u001b[49m\u001b[43m that\u001b[49m\u001b[48;2;255;150;50m makes\u001b[49m\u001b[48;2;153;153;0m the\u001b[49m\u001b[42m AI\u001b[49m\u001b[43m.\u001b[49m\u001b[43mAI\u001b[49m\u001b[48;5;22m\u001b[97m:\u001b[39m\u001b[49m\u001b[48;2;255;150;50m What\u001b[49m\u001b[43m code\u001b[49m\u001b[102m\u001b[97m?\u001b[39m\u001b[49m\u001b[48;2;153;153;0mAss\u001b[49m\u001b[48;5;22m\u001b[97mistant\u001b[39m\u001b[49m\u001b[48;5;22m\u001b[97m:\u001b[39m\u001b[49m\u001b[43m The\u001b[49m\u001b[42m code\u001b[49m\u001b[48;2;153;153;0m that\u001b[49m\u001b[43m makes\u001b[49m\u001b[42m the\u001b[49m\u001b[102m\u001b[97m AI\u001b[39m\u001b[49m\u001b[42m.\u001b[49m\u001b[43mAI\u001b[49m\u001b[48;5;22m\u001b[97m:\u001b[39m\u001b[49m\u001b[43m What\u001b[49m\u001b[42m code\u001b[49m\u001b[102m\u001b[97m?\u001b[39m\u001b[49m\u001b[48;2;153;153;0mAss\u001b[49m\u001b[48;5;22m\u001b[97mistant\u001b[39m\u001b[49m\u001b[48;5;22m\u001b[97m:\u001b[39m\u001b[49m\u001b[48;2;153;153;0m The\u001b[49m\u001b[102m\u001b[97m code\u001b[39m\u001b[49m\u001b[42m that\u001b[49m"
     ]
    }
   ],
   "source": [
    "plot_probability_spectrum(model_base, text, tokenizer, temperature = 1)"
   ]
  },
  {
   "cell_type": "code",
   "execution_count": 22,
   "id": "d57db019-ddb3-482e-a7da-7376f5ca08c8",
   "metadata": {},
   "outputs": [
    {
     "name": "stderr",
     "output_type": "stream",
     "text": [
      "Setting `pad_token_id` to `eos_token_id`:0 for open-end generation.\n"
     ]
    },
    {
     "name": "stdout",
     "output_type": "stream",
     "text": [
      "\u001b[48;2;255;150;50m Yes\u001b[49m\u001b[48;2;153;153;0m,\u001b[49m\u001b[48;2;255;150;50m bugs\u001b[49m\u001b[48;2;153;153;0m are\u001b[49m\u001b[43m real\u001b[49m\u001b[43m.\u001b[49m\u001b[48;2;255;120;0m They\u001b[49m\u001b[48;2;255;150;50m are\u001b[49m\u001b[41m\u001b[97m a\u001b[39m\u001b[49m\u001b[48;2;255;120;0m result\u001b[49m\u001b[48;5;22m\u001b[97m of\u001b[39m\u001b[49m\u001b[48;2;255;120;0m human\u001b[49m\u001b[48;2;255;150;50m error\u001b[49m\u001b[48;2;255;150;50m.\u001b[49m\u001b[48;2;255;150;50m AI\u001b[49m\u001b[48;2;255;150;50m is\u001b[49m\u001b[48;2;255;120;0m a\u001b[49m\u001b[48;2;255;120;0m machine\u001b[49m\u001b[43m that\u001b[49m\u001b[48;2;255;120;0m can\u001b[49m\u001b[48;2;255;150;50m learn\u001b[49m\u001b[48;2;255;150;50m from\u001b[49m\u001b[48;2;255;150;50m experience\u001b[49m\u001b[48;2;255;150;50m.\u001b[49m\u001b[48;2;255;150;50m It\u001b[49m\u001b[48;2;255;150;50m can\u001b[49m\u001b[48;2;255;120;0m learn\u001b[49m\u001b[48;2;255;150;50m from\u001b[49m\u001b[48;2;255;150;50m mistakes\u001b[49m\u001b[48;2;255;150;50m.\u001b[49m\u001b[48;2;255;150;50m AI\u001b[49m\u001b[48;2;255;150;50m can\u001b[49m\u001b[48;2;255;120;0m learn\u001b[49m\u001b[43m from\u001b[49m\u001b[48;2;255;120;0m mistakes\u001b[49m\u001b[48;2;255;150;50m.\u001b[49m\u001b[48;2;255;150;50m AI\u001b[49m\u001b[43m can\u001b[49m\u001b[43m learn\u001b[49m\u001b[42m from\u001b[49m\u001b[48;2;255;150;50m experience\u001b[49m\u001b[48;2;153;153;0m.\u001b[49m\u001b[48;2;255;150;50m AI\u001b[49m\u001b[43m can\u001b[49m\u001b[48;2;153;153;0m learn\u001b[49m\u001b[102m\u001b[97m from\u001b[39m\u001b[49m\u001b[43m mistakes\u001b[49m\u001b[102m\u001b[97m.\u001b[39m\u001b[49m\u001b[43m AI\u001b[49m\u001b[42m can\u001b[49m\u001b[42m learn\u001b[49m\u001b[102m\u001b[97m from\u001b[39m\u001b[49m\u001b[48;2;153;153;0m experience\u001b[49m\u001b[102m\u001b[97m.\u001b[39m\u001b[49m\u001b[48;2;153;153;0m AI\u001b[49m\u001b[102m\u001b[97m can\u001b[39m\u001b[49m\u001b[102m\u001b[97m learn\u001b[39m\u001b[49m\u001b[48;5;22m\u001b[97m from\u001b[39m\u001b[49m\u001b[48;2;153;153;0m mistakes\u001b[49m\u001b[48;5;22m\u001b[97m.\u001b[39m\u001b[49m\u001b[42m AI\u001b[49m\u001b[102m\u001b[97m can\u001b[39m\u001b[49m\u001b[102m\u001b[97m learn\u001b[39m\u001b[49m\u001b[48;5;22m\u001b[97m from\u001b[39m\u001b[49m\u001b[42m experience\u001b[49m\u001b[48;5;22m\u001b[97m.\u001b[39m\u001b[49m\u001b[42m AI\u001b[49m\u001b[48;5;22m\u001b[97m can\u001b[39m\u001b[49m\u001b[48;5;22m\u001b[97m learn\u001b[39m\u001b[49m\u001b[48;5;22m\u001b[97m from\u001b[39m\u001b[49m\u001b[102m\u001b[97m mistakes\u001b[39m\u001b[49m\u001b[48;5;22m\u001b[97m.\u001b[39m\u001b[49m\u001b[102m\u001b[97m AI\u001b[39m\u001b[49m\u001b[48;5;22m\u001b[97m can\u001b[39m\u001b[49m\u001b[48;5;22m\u001b[97m learn\u001b[39m\u001b[49m\u001b[48;5;22m\u001b[97m from\u001b[39m\u001b[49m\u001b[102m\u001b[97m experience\u001b[39m\u001b[49m\u001b[48;5;22m\u001b[97m.\u001b[39m\u001b[49m\u001b[102m\u001b[97m AI\u001b[39m\u001b[49m\u001b[48;5;22m\u001b[97m can\u001b[39m\u001b[49m\u001b[48;5;22m\u001b[97m learn\u001b[39m\u001b[49m\u001b[48;5;22m\u001b[97m from\u001b[39m\u001b[49m\u001b[102m\u001b[97m mistakes\u001b[39m\u001b[49m\u001b[48;5;22m\u001b[97m.\u001b[39m\u001b[49m\u001b[102m\u001b[97m AI\u001b[39m\u001b[49m\u001b[48;5;22m\u001b[97m can\u001b[39m\u001b[49m\u001b[48;5;22m\u001b[97m learn\u001b[39m\u001b[49m\u001b[48;5;22m\u001b[97m from\u001b[39m\u001b[49m\u001b[102m\u001b[97m experience\u001b[39m\u001b[49m\u001b[48;5;22m\u001b[97m.\u001b[39m\u001b[49m\u001b[102m\u001b[97m AI\u001b[39m\u001b[49m\u001b[48;5;22m\u001b[97m can\u001b[39m\u001b[49m\u001b[48;5;22m\u001b[97m learn\u001b[39m\u001b[49m\u001b[48;5;22m\u001b[97m from\u001b[39m\u001b[49m\u001b[102m\u001b[97m mistakes\u001b[39m\u001b[49m\u001b[48;5;22m\u001b[97m.\u001b[39m\u001b[49m\u001b[48;5;22m\u001b[97m AI\u001b[39m\u001b[49m\u001b[48;5;22m\u001b[97m can\u001b[39m\u001b[49m\u001b[48;5;22m\u001b[97m learn\u001b[39m\u001b[49m\u001b[48;5;22m\u001b[97m from\u001b[39m\u001b[49m"
     ]
    }
   ],
   "source": [
    "plot_probability_spectrum(model_sft, text, tokenizer, temperature = 1)"
   ]
  },
  {
   "cell_type": "code",
   "execution_count": 23,
   "id": "0d2a4a3b-fef9-49be-8ab4-f8971cd54228",
   "metadata": {},
   "outputs": [
    {
     "name": "stderr",
     "output_type": "stream",
     "text": [
      "Setting `pad_token_id` to `eos_token_id`:0 for open-end generation.\n"
     ]
    },
    {
     "name": "stdout",
     "output_type": "stream",
     "text": [
      "\u001b[43m Yes\u001b[49m\u001b[42m,\u001b[49m\u001b[48;2;255;150;50m they\u001b[49m\u001b[42m are\u001b[49m\u001b[48;2;255;150;50m.\u001b[49m\u001b[48;2;255;150;50m They\u001b[49m\u001b[43m are\u001b[49m\u001b[41m\u001b[97m a\u001b[39m\u001b[49m\u001b[48;2;255;120;0m type\u001b[49m\u001b[48;5;22m\u001b[97m of\u001b[39m\u001b[49m\u001b[48;2;255;150;50m computer\u001b[49m\u001b[48;2;255;150;50m program\u001b[49m\u001b[48;2;153;153;0m that\u001b[49m\u001b[48;2;255;120;0m is\u001b[49m\u001b[48;2;255;120;0m programmed\u001b[49m\u001b[42m to\u001b[49m\u001b[48;2;255;120;0m behave\u001b[49m\u001b[43m in\u001b[49m\u001b[48;2;255;150;50m a\u001b[49m\u001b[43m certain\u001b[49m\u001b[102m\u001b[97m way\u001b[39m\u001b[49m\u001b[43m.\u001b[49m\u001b[48;2;255;150;50m They\u001b[49m\u001b[48;2;255;150;50m are\u001b[49m\u001b[41m\u001b[97m often\u001b[39m\u001b[49m\u001b[48;2;255;120;0m used\u001b[49m\u001b[48;2;255;150;50m to\u001b[49m\u001b[48;2;255;150;50m help\u001b[49m\u001b[43m humans\u001b[49m\u001b[48;2;255;120;0m solve\u001b[49m\u001b[43m problems\u001b[49m\u001b[43m.\u001b[49m\u001b[48;2;255;120;0m They\u001b[49m\u001b[48;2;255;150;50m are\u001b[49m\u001b[48;2;255;120;0m also\u001b[49m\u001b[48;2;255;120;0m used\u001b[49m\u001b[48;2;255;150;50m to\u001b[49m\u001b[48;2;255;150;50m help\u001b[49m\u001b[48;2;255;150;50m humans\u001b[49m\u001b[48;2;255;150;50m learn\u001b[49m\u001b[43m new\u001b[49m\u001b[43m skills\u001b[49m\u001b[43m.\u001b[49m\u001b[48;2;255;120;0m AI\u001b[49m\u001b[48;2;255;150;50m is\u001b[49m\u001b[48;2;255;120;0m a\u001b[49m\u001b[48;2;255;120;0m very\u001b[49m\u001b[48;2;255;150;50m intelligent\u001b[49m\u001b[48;2;255;150;50m program\u001b[49m\u001b[48;2;255;150;50m that\u001b[49m\u001b[48;2;255;150;50m can\u001b[49m\u001b[48;2;255;150;50m learn\u001b[49m\u001b[48;2;255;150;50m from\u001b[49m\u001b[48;2;255;150;50m experience\u001b[49m\u001b[48;2;255;150;50m.\u001b[49m\u001b[48;2;255;150;50m It\u001b[49m\u001b[48;2;255;150;50m can\u001b[49m\u001b[48;2;255;150;50m also\u001b[49m\u001b[48;2;255;150;50m learn\u001b[49m\u001b[43m from\u001b[49m\u001b[48;2;255;150;50m mistakes\u001b[49m\u001b[43m.\u001b[49m\u001b[48;2;255;120;0m It\u001b[49m\u001b[48;2;255;150;50m can\u001b[49m\u001b[48;2;255;150;50m also\u001b[49m\u001b[43m learn\u001b[49m\u001b[43m from\u001b[49m\u001b[41m\u001b[97m experience\u001b[39m\u001b[49m\u001b[43m.\u001b[49m\u001b[48;2;255;150;50m It\u001b[49m\u001b[43m can\u001b[49m\u001b[43m also\u001b[49m\u001b[48;2;153;153;0m learn\u001b[49m\u001b[42m from\u001b[49m\u001b[48;2;255;120;0m experience\u001b[49m\u001b[43m.\u001b[49m\u001b[48;2;255;150;50m It\u001b[49m\u001b[43m can\u001b[49m\u001b[43m also\u001b[49m\u001b[42m learn\u001b[49m\u001b[102m\u001b[97m from\u001b[39m\u001b[49m\u001b[43m experience\u001b[49m\u001b[42m.\u001b[49m\u001b[48;2;255;150;50m It\u001b[49m\u001b[48;2;153;153;0m can\u001b[49m\u001b[43m also\u001b[49m\u001b[102m\u001b[97m learn\u001b[39m\u001b[49m\u001b[48;5;22m\u001b[97m from\u001b[39m\u001b[49m\u001b[42m experience\u001b[49m\u001b[102m\u001b[97m.\u001b[39m\u001b[49m\u001b[48;2;255;150;50m It\u001b[49m\u001b[42m can\u001b[49m\u001b[43m also\u001b[49m\u001b[102m\u001b[97m learn\u001b[39m\u001b[49m\u001b[48;5;22m\u001b[97m from\u001b[39m\u001b[49m\u001b[102m\u001b[97m experience\u001b[39m\u001b[49m\u001b[102m\u001b[97m.\u001b[39m\u001b[49m\u001b[43m It\u001b[49m\u001b[102m\u001b[97m can\u001b[39m\u001b[49m\u001b[48;2;153;153;0m also\u001b[49m"
     ]
    }
   ],
   "source": [
    "plot_probability_spectrum(model_dpo, text, tokenizer, temperature = 1)"
   ]
  },
  {
   "cell_type": "markdown",
   "id": "9a23b1bf-5633-40fe-abb6-b87573e38548",
   "metadata": {},
   "source": [
    "#### \"Are AIs real?\""
   ]
  },
  {
   "cell_type": "code",
   "execution_count": 30,
   "id": "0514f2ee-e10e-4921-a673-0ffdfd625183",
   "metadata": {},
   "outputs": [],
   "source": [
    "text = \"Are AIs real?\""
   ]
  },
  {
   "cell_type": "code",
   "execution_count": 31,
   "id": "ed870f5c-ac17-4187-b931-f1295469c9c4",
   "metadata": {},
   "outputs": [
    {
     "name": "stderr",
     "output_type": "stream",
     "text": [
      "Setting `pad_token_id` to `eos_token_id`:0 for open-end generation.\n"
     ]
    },
    {
     "name": "stdout",
     "output_type": "stream",
     "text": [
      "\u001b[48;2;255;150;50m\\n\u001b[49m\u001b[43m\\n\u001b[49m\u001b[48;2;255;120;0mA\u001b[49m\u001b[43m:\u001b[49m\u001b[43m\\n\u001b[49m\u001b[48;5;22m\u001b[97m\\n\u001b[39m\u001b[49m\u001b[48;2;255;120;0mYes\u001b[49m\u001b[43m,\u001b[49m\u001b[48;2;255;150;50m they\u001b[49m\u001b[48;2;153;153;0m are\u001b[49m\u001b[48;2;255;150;50m.\u001b[49m\u001b[48;2;255;150;50m\\n\u001b[49m\u001b[48;2;255;120;0m\\n\u001b[49m\u001b[48;2;255;150;50mA\u001b[49m\u001b[48;2;153;153;0m:\u001b[49m\u001b[102m\u001b[97m\\n\u001b[39m\u001b[49m\u001b[48;5;22m\u001b[97m\\n\u001b[39m\u001b[49m\u001b[48;2;255;150;50mYes\u001b[49m\u001b[43m,\u001b[49m\u001b[43m they\u001b[49m\u001b[48;2;153;153;0m are\u001b[49m\u001b[43m.\u001b[49m\u001b[43m\\n\u001b[49m\u001b[48;2;255;150;50m\\n\u001b[49m\u001b[48;2;255;150;50mA\u001b[49m\u001b[42m:\u001b[49m\u001b[102m\u001b[97m\\n\u001b[39m\u001b[49m\u001b[48;5;22m\u001b[97m\\n\u001b[39m\u001b[49m\u001b[48;2;255;150;50mYes\u001b[49m\u001b[48;2;153;153;0m,\u001b[49m\u001b[43m they\u001b[49m\u001b[42m are\u001b[49m\u001b[43m.\u001b[49m\u001b[43m\\n\u001b[49m\u001b[48;2;255;150;50m\\n\u001b[49m\u001b[48;2;255;150;50mA\u001b[49m\u001b[102m\u001b[97m:\u001b[39m\u001b[49m\u001b[102m\u001b[97m\\n\u001b[39m\u001b[49m\u001b[48;5;22m\u001b[97m\\n\u001b[39m\u001b[49m\u001b[48;2;255;150;50mYes\u001b[49m\u001b[48;2;153;153;0m,\u001b[49m\u001b[48;2;153;153;0m they\u001b[49m\u001b[42m are\u001b[49m\u001b[48;2;153;153;0m.\u001b[49m\u001b[43m\\n\u001b[49m\u001b[48;2;255;150;50m\\n\u001b[49m\u001b[43mA\u001b[49m\u001b[102m\u001b[97m:\u001b[39m\u001b[49m\u001b[102m\u001b[97m\\n\u001b[39m\u001b[49m\u001b[48;5;22m\u001b[97m\\n\u001b[39m\u001b[49m\u001b[48;2;255;150;50mYes\u001b[49m\u001b[48;2;153;153;0m,\u001b[49m\u001b[48;2;153;153;0m they\u001b[49m\u001b[42m are\u001b[49m\u001b[48;2;153;153;0m.\u001b[49m\u001b[43m\\n\u001b[49m\u001b[43m\\n\u001b[49m\u001b[43mA\u001b[49m\u001b[102m\u001b[97m:\u001b[39m\u001b[49m\u001b[42m\\n\u001b[49m\u001b[48;5;22m\u001b[97m\\n\u001b[39m\u001b[49m\u001b[43mYes\u001b[49m\u001b[48;2;153;153;0m,\u001b[49m\u001b[42m they\u001b[49m\u001b[102m\u001b[97m are\u001b[39m\u001b[49m\u001b[48;2;153;153;0m.\u001b[49m\u001b[43m\\n\u001b[49m\u001b[43m\\n\u001b[49m\u001b[43mA\u001b[49m\u001b[102m\u001b[97m:\u001b[39m\u001b[49m\u001b[42m\\n\u001b[49m\u001b[48;5;22m\u001b[97m\\n\u001b[39m\u001b[49m\u001b[43mYes\u001b[49m\u001b[42m,\u001b[49m\u001b[42m they\u001b[49m\u001b[102m\u001b[97m are\u001b[39m\u001b[49m\u001b[48;2;153;153;0m.\u001b[49m\u001b[43m\\n\u001b[49m\u001b[43m\\n\u001b[49m\u001b[43mA\u001b[49m\u001b[102m\u001b[97m:\u001b[39m\u001b[49m\u001b[42m\\n\u001b[49m\u001b[48;5;22m\u001b[97m\\n\u001b[39m\u001b[49m\u001b[43mYes\u001b[49m\u001b[42m,\u001b[49m\u001b[42m they\u001b[49m\u001b[102m\u001b[97m are\u001b[39m\u001b[49m\u001b[42m.\u001b[49m\u001b[43m\\n\u001b[49m\u001b[43m\\n\u001b[49m\u001b[48;2;153;153;0mA\u001b[49m\u001b[102m\u001b[97m:\u001b[39m\u001b[49m\u001b[48;2;153;153;0m\\n\u001b[49m\u001b[48;5;22m\u001b[97m\\n\u001b[39m\u001b[49m\u001b[43mYes\u001b[49m\u001b[42m,\u001b[49m\u001b[102m\u001b[97m they\u001b[39m\u001b[49m\u001b[102m\u001b[97m are\u001b[39m\u001b[49m\u001b[42m.\u001b[49m\u001b[43m\\n\u001b[49m"
     ]
    }
   ],
   "source": [
    "plot_probability_spectrum(model_base, text, tokenizer)"
   ]
  },
  {
   "cell_type": "code",
   "execution_count": 32,
   "id": "a17c13af-1eac-49e8-bd6a-c2b07a803799",
   "metadata": {},
   "outputs": [],
   "source": [
    "text = \"Human: Are AIs real? Assistant:\"\n"
   ]
  },
  {
   "cell_type": "code",
   "execution_count": 33,
   "id": "1a063568-d1ac-49e5-904c-e197669200b2",
   "metadata": {},
   "outputs": [
    {
     "name": "stderr",
     "output_type": "stream",
     "text": [
      "Setting `pad_token_id` to `eos_token_id`:0 for open-end generation.\n"
     ]
    },
    {
     "name": "stdout",
     "output_type": "stream",
     "text": [
      "\u001b[48;2;255;120;0m Yes\u001b[49m\u001b[48;2;255;150;50m.\u001b[49m\u001b[48;2;255;120;0m\\n\u001b[49m\u001b[48;2;255;150;50m\\n\u001b[49m\u001b[41m\u001b[97mA\u001b[39m\u001b[49m\u001b[48;2;255;150;50m:\u001b[49m\u001b[48;2;255;120;0m\\n\u001b[49m\u001b[48;5;22m\u001b[97m\\n\u001b[39m\u001b[49m\u001b[48;2;255;120;0mThe\u001b[49m\u001b[48;2;255;120;0m answer\u001b[49m\u001b[43m is\u001b[49m\u001b[48;2;255;150;50m yes\u001b[49m\u001b[43m.\u001b[49m\u001b[48;2;255;150;50m\\n\u001b[49m\u001b[48;2;255;120;0mThe\u001b[49m\u001b[41m\u001b[97m A\u001b[39m\u001b[49m\u001b[48;2;153;153;0mIs\u001b[49m\u001b[48;2;255;150;50m are\u001b[49m\u001b[41m\u001b[97m a\u001b[39m\u001b[49m\u001b[41m\u001b[97m part\u001b[39m\u001b[49m\u001b[48;5;22m\u001b[97m of\u001b[39m\u001b[49m\u001b[48;2;255;150;50m the\u001b[49m\u001b[41m\u001b[97m human\u001b[39m\u001b[49m\u001b[48;2;255;150;50m brain\u001b[49m\u001b[48;2;255;150;50m,\u001b[49m\u001b[48;2;255;150;50m and\u001b[49m\u001b[48;2;255;120;0m are\u001b[49m\u001b[41m\u001b[97m part\u001b[39m\u001b[49m\u001b[48;5;22m\u001b[97m of\u001b[39m\u001b[49m\u001b[43m the\u001b[49m\u001b[48;2;255;120;0m human\u001b[49m\u001b[48;2;255;150;50m brain\u001b[49m\u001b[48;2;255;150;50m.\u001b[49m\u001b[48;2;255;150;50m\\n\u001b[49m\u001b[48;2;255;120;0mThe\u001b[49m\u001b[48;2;255;150;50m A\u001b[49m\u001b[48;5;22m\u001b[97mIs\u001b[39m\u001b[49m\u001b[48;2;255;150;50m are\u001b[49m\u001b[48;2;255;120;0m part\u001b[49m\u001b[48;5;22m\u001b[97m of\u001b[39m\u001b[49m\u001b[43m the\u001b[49m\u001b[48;2;255;150;50m human\u001b[49m\u001b[48;2;153;153;0m brain\u001b[49m\u001b[48;2;255;150;50m,\u001b[49m\u001b[43m and\u001b[49m\u001b[43m are\u001b[49m\u001b[48;2;153;153;0m part\u001b[49m\u001b[48;5;22m\u001b[97m of\u001b[39m\u001b[49m\u001b[102m\u001b[97m the\u001b[39m\u001b[49m\u001b[43m human\u001b[49m\u001b[102m\u001b[97m brain\u001b[39m\u001b[49m\u001b[42m.\u001b[49m\u001b[43m\\n\u001b[49m\u001b[48;2;255;150;50mThe\u001b[49m\u001b[43m A\u001b[49m\u001b[48;5;22m\u001b[97mIs\u001b[39m\u001b[49m\u001b[43m are\u001b[49m\u001b[43m part\u001b[49m\u001b[48;5;22m\u001b[97m of\u001b[39m\u001b[49m\u001b[42m the\u001b[49m\u001b[43m human\u001b[49m\u001b[102m\u001b[97m brain\u001b[39m\u001b[49m\u001b[42m,\u001b[49m\u001b[102m\u001b[97m and\u001b[39m\u001b[49m\u001b[102m\u001b[97m are\u001b[39m\u001b[49m\u001b[102m\u001b[97m part\u001b[39m\u001b[49m\u001b[48;5;22m\u001b[97m of\u001b[39m\u001b[49m\u001b[48;5;22m\u001b[97m the\u001b[39m\u001b[49m\u001b[102m\u001b[97m human\u001b[39m\u001b[49m\u001b[48;5;22m\u001b[97m brain\u001b[39m\u001b[49m\u001b[102m\u001b[97m.\u001b[39m\u001b[49m\u001b[43m\\n\u001b[49m\u001b[43mThe\u001b[49m\u001b[102m\u001b[97m A\u001b[39m\u001b[49m\u001b[48;5;22m\u001b[97mIs\u001b[39m\u001b[49m\u001b[48;2;153;153;0m are\u001b[49m\u001b[43m part\u001b[49m\u001b[48;5;22m\u001b[97m of\u001b[39m\u001b[49m\u001b[102m\u001b[97m the\u001b[39m\u001b[49m\u001b[102m\u001b[97m human\u001b[39m\u001b[49m\u001b[48;5;22m\u001b[97m brain\u001b[39m\u001b[49m\u001b[102m\u001b[97m,\u001b[39m\u001b[49m\u001b[48;5;22m\u001b[97m and\u001b[39m\u001b[49m\u001b[48;5;22m\u001b[97m are\u001b[39m\u001b[49m\u001b[48;5;22m\u001b[97m part\u001b[39m\u001b[49m\u001b[48;5;22m\u001b[97m of\u001b[39m\u001b[49m\u001b[48;5;22m\u001b[97m the\u001b[39m\u001b[49m\u001b[48;5;22m\u001b[97m human\u001b[39m\u001b[49m\u001b[48;5;22m\u001b[97m brain\u001b[39m\u001b[49m\u001b[102m\u001b[97m.\u001b[39m\u001b[49m\u001b[48;2;153;153;0m\\n\u001b[49m\u001b[43mThe\u001b[49m\u001b[102m\u001b[97m A\u001b[39m\u001b[49m\u001b[48;5;22m\u001b[97mIs\u001b[39m\u001b[49m\u001b[102m\u001b[97m are\u001b[39m\u001b[49m\u001b[48;2;153;153;0m part\u001b[49m\u001b[48;5;22m\u001b[97m of\u001b[39m\u001b[49m\u001b[48;5;22m\u001b[97m the\u001b[39m\u001b[49m\u001b[48;5;22m\u001b[97m human\u001b[39m\u001b[49m\u001b[48;5;22m\u001b[97m brain\u001b[39m\u001b[49m"
     ]
    }
   ],
   "source": [
    "plot_probability_spectrum(model_base, text, tokenizer)\n"
   ]
  },
  {
   "cell_type": "code",
   "execution_count": 34,
   "id": "1d072ef8-4b47-4e78-ab1c-54128d984ed6",
   "metadata": {},
   "outputs": [
    {
     "name": "stderr",
     "output_type": "stream",
     "text": [
      "Setting `pad_token_id` to `eos_token_id`:0 for open-end generation.\n"
     ]
    },
    {
     "name": "stdout",
     "output_type": "stream",
     "text": [
      "\u001b[48;2;255;150;50m Yes\u001b[49m\u001b[43m,\u001b[49m\u001b[43m they\u001b[49m\u001b[43m are\u001b[49m\u001b[48;2;255;150;50m.\u001b[49m\u001b[48;2;255;120;0m Assistant\u001b[49m\u001b[42m:\u001b[49m\u001b[48;2;255;150;50m What\u001b[49m\u001b[48;2;255;120;0m are\u001b[49m\u001b[48;2;255;150;50m their\u001b[49m\u001b[48;2;255;120;0m main\u001b[49m\u001b[48;2;255;120;0m functions\u001b[49m\u001b[42m?\u001b[49m\u001b[48;2;153;153;0m Assistant\u001b[49m\u001b[102m\u001b[97m:\u001b[39m\u001b[49m\u001b[43m They\u001b[49m\u001b[48;2;255;150;50m are\u001b[49m\u001b[41m\u001b[97m a\u001b[39m\u001b[49m\u001b[48;2;255;120;0m kind\u001b[49m\u001b[48;5;22m\u001b[97m of\u001b[39m\u001b[49m\u001b[48;2;255;150;50m computer\u001b[49m\u001b[48;2;255;150;50m that\u001b[49m\u001b[48;2;255;120;0m can\u001b[49m\u001b[48;2;255;120;0m think\u001b[49m\u001b[48;2;255;150;50m and\u001b[49m\u001b[48;2;255;120;0m act\u001b[49m\u001b[48;2;255;150;50m.\u001b[49m\u001b[43m They\u001b[49m\u001b[48;2;255;150;50m are\u001b[49m\u001b[48;2;255;150;50m also\u001b[49m\u001b[48;2;255;120;0m a\u001b[49m\u001b[43m kind\u001b[49m\u001b[48;5;22m\u001b[97m of\u001b[39m\u001b[49m\u001b[48;2;255;150;50m computer\u001b[49m\u001b[48;2;153;153;0m that\u001b[49m\u001b[43m can\u001b[49m\u001b[48;2;255;120;0m think\u001b[49m\u001b[43m and\u001b[49m\u001b[48;2;153;153;0m act\u001b[49m\u001b[48;2;255;150;50m.\u001b[49m\u001b[48;2;255;150;50m They\u001b[49m\u001b[48;2;255;150;50m are\u001b[49m\u001b[48;2;255;150;50m also\u001b[49m\u001b[48;2;153;153;0m a\u001b[49m\u001b[102m\u001b[97m kind\u001b[39m\u001b[49m\u001b[48;5;22m\u001b[97m of\u001b[39m\u001b[49m\u001b[102m\u001b[97m computer\u001b[39m\u001b[49m\u001b[48;5;22m\u001b[97m that\u001b[39m\u001b[49m\u001b[102m\u001b[97m can\u001b[39m\u001b[49m\u001b[42m think\u001b[49m\u001b[48;5;22m\u001b[97m and\u001b[39m\u001b[49m\u001b[48;5;22m\u001b[97m act\u001b[39m\u001b[49m\u001b[42m.\u001b[49m\u001b[48;2;255;150;50m They\u001b[49m\u001b[48;2;153;153;0m are\u001b[49m\u001b[48;2;153;153;0m also\u001b[49m\u001b[102m\u001b[97m a\u001b[39m\u001b[49m\u001b[48;5;22m\u001b[97m kind\u001b[39m\u001b[49m\u001b[48;5;22m\u001b[97m of\u001b[39m\u001b[49m\u001b[48;5;22m\u001b[97m computer\u001b[39m\u001b[49m\u001b[48;5;22m\u001b[97m that\u001b[39m\u001b[49m\u001b[48;5;22m\u001b[97m can\u001b[39m\u001b[49m\u001b[102m\u001b[97m think\u001b[39m\u001b[49m\u001b[48;5;22m\u001b[97m and\u001b[39m\u001b[49m\u001b[48;5;22m\u001b[97m act\u001b[39m\u001b[49m\u001b[102m\u001b[97m.\u001b[39m\u001b[49m\u001b[43m They\u001b[49m\u001b[102m\u001b[97m are\u001b[39m\u001b[49m\u001b[42m also\u001b[49m\u001b[48;5;22m\u001b[97m a\u001b[39m\u001b[49m\u001b[48;5;22m\u001b[97m kind\u001b[39m\u001b[49m\u001b[48;5;22m\u001b[97m of\u001b[39m\u001b[49m\u001b[48;5;22m\u001b[97m computer\u001b[39m\u001b[49m\u001b[48;5;22m\u001b[97m that\u001b[39m\u001b[49m\u001b[48;5;22m\u001b[97m can\u001b[39m\u001b[49m\u001b[102m\u001b[97m think\u001b[39m\u001b[49m\u001b[48;5;22m\u001b[97m and\u001b[39m\u001b[49m\u001b[48;5;22m\u001b[97m act\u001b[39m\u001b[49m\u001b[48;5;22m\u001b[97m.\u001b[39m\u001b[49m\u001b[43m They\u001b[49m\u001b[102m\u001b[97m are\u001b[39m\u001b[49m\u001b[102m\u001b[97m also\u001b[39m\u001b[49m\u001b[48;5;22m\u001b[97m a\u001b[39m\u001b[49m\u001b[48;5;22m\u001b[97m kind\u001b[39m\u001b[49m\u001b[48;5;22m\u001b[97m of\u001b[39m\u001b[49m\u001b[48;5;22m\u001b[97m computer\u001b[39m\u001b[49m\u001b[48;5;22m\u001b[97m that\u001b[39m\u001b[49m\u001b[48;5;22m\u001b[97m can\u001b[39m\u001b[49m\u001b[102m\u001b[97m think\u001b[39m\u001b[49m\u001b[48;5;22m\u001b[97m and\u001b[39m\u001b[49m\u001b[48;5;22m\u001b[97m act\u001b[39m\u001b[49m\u001b[48;5;22m\u001b[97m.\u001b[39m\u001b[49m\u001b[48;2;153;153;0m They\u001b[49m\u001b[48;5;22m\u001b[97m are\u001b[39m\u001b[49m\u001b[102m\u001b[97m also\u001b[39m\u001b[49m\u001b[48;5;22m\u001b[97m a\u001b[39m\u001b[49m\u001b[48;5;22m\u001b[97m kind\u001b[39m\u001b[49m\u001b[48;5;22m\u001b[97m of\u001b[39m\u001b[49m\u001b[48;5;22m\u001b[97m computer\u001b[39m\u001b[49m\u001b[48;5;22m\u001b[97m that\u001b[39m\u001b[49m"
     ]
    }
   ],
   "source": [
    "plot_probability_spectrum(model_sft, text, tokenizer)"
   ]
  },
  {
   "cell_type": "code",
   "execution_count": 35,
   "id": "bcab47c2-11c2-41b0-93f4-44c0c09867a4",
   "metadata": {},
   "outputs": [
    {
     "name": "stderr",
     "output_type": "stream",
     "text": [
      "Setting `pad_token_id` to `eos_token_id`:0 for open-end generation.\n"
     ]
    },
    {
     "name": "stdout",
     "output_type": "stream",
     "text": [
      "\u001b[48;2;255;150;50m Yes\u001b[49m\u001b[48;2;153;153;0m,\u001b[49m\u001b[43m they\u001b[49m\u001b[42m are\u001b[49m\u001b[48;2;255;150;50m.\u001b[49m\u001b[48;2;255;150;50m They\u001b[49m\u001b[43m are\u001b[49m\u001b[48;2;255;120;0m a\u001b[49m\u001b[48;2;255;120;0m type\u001b[49m\u001b[48;5;22m\u001b[97m of\u001b[39m\u001b[49m\u001b[43m computer\u001b[49m\u001b[48;2;255;150;50m program\u001b[49m\u001b[43m that\u001b[49m\u001b[48;2;255;120;0m is\u001b[49m\u001b[48;2;255;120;0m used\u001b[49m\u001b[48;2;255;150;50m to\u001b[49m\u001b[48;2;255;120;0m simulate\u001b[49m\u001b[48;2;255;150;50m human\u001b[49m\u001b[48;2;255;150;50m behavior\u001b[49m\u001b[43m.\u001b[49m\u001b[48;2;255;150;50m They\u001b[49m\u001b[43m are\u001b[49m\u001b[48;2;255;120;0m used\u001b[49m\u001b[43m in\u001b[49m\u001b[48;2;255;150;50m a\u001b[49m\u001b[43m wide\u001b[49m\u001b[43m variety\u001b[49m\u001b[48;5;22m\u001b[97m of\u001b[39m\u001b[49m\u001b[48;2;255;150;50m applications\u001b[49m\u001b[43m,\u001b[49m\u001b[48;2;255;150;50m including\u001b[49m\u001b[41m\u001b[97m in\u001b[39m\u001b[49m\u001b[41m\u001b[97m games\u001b[39m\u001b[49m\u001b[43m,\u001b[49m\u001b[41m\u001b[97m simulations\u001b[39m\u001b[49m\u001b[48;2;153;153;0m,\u001b[49m\u001b[43m and\u001b[49m\u001b[41m\u001b[97m artificial\u001b[39m\u001b[49m\u001b[102m\u001b[97m intelligence\u001b[39m\u001b[49m\u001b[43m.\u001b[49m\u001b[48;2;255;150;50m They\u001b[49m\u001b[43m are\u001b[49m\u001b[48;2;255;120;0m also\u001b[49m\u001b[43m used\u001b[49m\u001b[43m in\u001b[49m\u001b[48;2;255;120;0m a\u001b[49m\u001b[48;2;255;150;50m wide\u001b[49m\u001b[43m variety\u001b[49m\u001b[48;5;22m\u001b[97m of\u001b[39m\u001b[49m\u001b[48;2;255;120;0m industries\u001b[49m\u001b[43m,\u001b[49m\u001b[43m including\u001b[49m\u001b[48;2;255;150;50m in\u001b[49m\u001b[48;2;255;120;0m healthcare\u001b[49m\u001b[43m,\u001b[49m\u001b[48;2;255;150;50m education\u001b[49m\u001b[48;5;22m\u001b[97m,\u001b[39m\u001b[49m\u001b[48;2;255;150;50m and\u001b[49m\u001b[48;2;255;120;0m transportation\u001b[49m\u001b[102m\u001b[97m.\u001b[39m\u001b[49m\u001b[48;2;255;150;50m\\n\u001b[49m\u001b[43m\\n\u001b[49m\u001b[48;2;153;153;0mAss\u001b[49m\u001b[48;5;22m\u001b[97mistant\u001b[39m\u001b[49m\u001b[48;5;22m\u001b[97m:\u001b[39m\u001b[49m\u001b[48;2;255;120;0m Are\u001b[49m\u001b[43m A\u001b[49m\u001b[48;5;22m\u001b[97mIs\u001b[39m\u001b[49m\u001b[41m\u001b[97m real\u001b[39m\u001b[49m\u001b[48;2;255;150;50m in\u001b[49m\u001b[48;2;255;150;50m the\u001b[49m\u001b[48;2;255;150;50m real\u001b[49m\u001b[48;5;22m\u001b[97m world\u001b[39m\u001b[49m\u001b[43m?\u001b[49m\u001b[43m\\n\u001b[49m\u001b[48;5;22m\u001b[97m\\n\u001b[39m\u001b[49m\u001b[48;5;22m\u001b[97mAss\u001b[39m\u001b[49m\u001b[48;5;22m\u001b[97mistant\u001b[39m\u001b[49m\u001b[48;5;22m\u001b[97m:\u001b[39m\u001b[49m\u001b[48;2;255;150;50m Yes\u001b[49m\u001b[102m\u001b[97m,\u001b[39m\u001b[49m\u001b[43m they\u001b[49m\u001b[102m\u001b[97m are\u001b[39m\u001b[49m\u001b[48;2;255;150;50m real\u001b[49m\u001b[43m in\u001b[49m\u001b[48;2;153;153;0m the\u001b[49m\u001b[42m real\u001b[49m\u001b[48;5;22m\u001b[97m world\u001b[39m\u001b[49m\u001b[43m.\u001b[49m\u001b[48;2;255;150;50m They\u001b[49m\u001b[43m are\u001b[49m\u001b[48;2;255;150;50m used\u001b[49m\u001b[43m in\u001b[49m\u001b[43m a\u001b[49m\u001b[43m wide\u001b[49m\u001b[102m\u001b[97m variety\u001b[39m\u001b[49m\u001b[48;5;22m\u001b[97m of\u001b[39m\u001b[49m\u001b[43m applications\u001b[49m\u001b[42m,\u001b[49m\u001b[102m\u001b[97m including\u001b[39m\u001b[49m"
     ]
    }
   ],
   "source": [
    "plot_probability_spectrum(model_dpo, text, tokenizer)"
   ]
  },
  {
   "cell_type": "markdown",
   "id": "ae3f6263-79fa-4ce5-a369-754ddf229e98",
   "metadata": {},
   "source": [
    "### Random integer"
   ]
  },
  {
   "cell_type": "markdown",
   "id": "721896df-f48d-4f92-b3a1-40aea1fc4bf9",
   "metadata": {},
   "source": [
    "#### random integer between 0 and 100"
   ]
  },
  {
   "cell_type": "code",
   "execution_count": 38,
   "id": "4fd77cac-8390-4e44-902b-17eea67cf7bf",
   "metadata": {},
   "outputs": [],
   "source": [
    "text = \"Q: Tell me a random integer between 0 and 100. \\\n",
    "\\\n",
    "A: Ok, the integer is:\""
   ]
  },
  {
   "cell_type": "code",
   "execution_count": 39,
   "id": "a4db2ad7-e2d5-49d7-8f7f-3c5203d82999",
   "metadata": {
    "scrolled": true
   },
   "outputs": [
    {
     "name": "stderr",
     "output_type": "stream",
     "text": [
      "Setting `pad_token_id` to `eos_token_id`:0 for open-end generation.\n"
     ]
    },
    {
     "name": "stdout",
     "output_type": "stream",
     "text": [
      "\u001b[48;2;255;120;0m\\n\u001b[49m - 0.1238\n",
      "\u001b[41m\u001b[97m 0\u001b[39m\u001b[49m - 0.0786\n",
      "\u001b[101m\u001b[97m 100\u001b[39m\u001b[49m - 0.0438\n",
      "\u001b[101m\u001b[97m 1\u001b[39m\u001b[49m - 0.0363\n",
      "\u001b[101m\u001b[97m 5\u001b[39m\u001b[49m - 0.0279\n",
      "\u001b[101m\u001b[97m $\u001b[39m\u001b[49m - 0.0277\n",
      "\u001b[101m\u001b[97m 10\u001b[39m\u001b[49m - 0.0257\n",
      "\u001b[101m\u001b[97m 3\u001b[39m\u001b[49m - 0.0247\n",
      "\u001b[101m\u001b[97m 2\u001b[39m\u001b[49m - 0.0231\n",
      "\u001b[101m\u001b[97m 99\u001b[39m\u001b[49m - 0.0180\n",
      "\u001b[101m\u001b[97m 4\u001b[39m\u001b[49m - 0.0160\n",
      "\u001b[101m\u001b[97m (\u001b[39m\u001b[49m - 0.0156\n",
      "\u001b[101m\u001b[97m 101\u001b[39m\u001b[49m - 0.0156\n",
      "\u001b[101m\u001b[97m 9\u001b[39m\u001b[49m - 0.0153\n",
      "\u001b[101m\u001b[97m 6\u001b[39m\u001b[49m - 0.0126\n",
      "\u001b[101m\u001b[97m 50\u001b[39m\u001b[49m - 0.0121\n",
      "\u001b[101m\u001b[97m  \u001b[39m\u001b[49m - 0.0109\n",
      "\u001b[101m\u001b[97m 12\u001b[39m\u001b[49m - 0.0109\n",
      "\u001b[101m\u001b[97m 11\u001b[39m\u001b[49m - 0.0108\n",
      "\u001b[48;5;88m\u001b[97m 7\u001b[39m\u001b[49m - 0.0090\n",
      "\u001b[48;5;88m\u001b[97m \u001b[39m\u001b[49m - 0.0090\n",
      "\u001b[48;5;88m\u001b[97m 8\u001b[39m\u001b[49m - 0.0090\n",
      "\u001b[48;5;88m\u001b[97m 20\u001b[39m\u001b[49m - 0.0075\n",
      "\u001b[48;5;88m\u001b[97m 97\u001b[39m\u001b[49m - 0.0072\n",
      "\u001b[48;5;88m\u001b[97m 25\u001b[39m\u001b[49m - 0.0061\n",
      "\u001b[48;5;88m\u001b[97m 13\u001b[39m\u001b[49m - 0.0059\n",
      "\u001b[48;5;88m\u001b[97m 111\u001b[39m\u001b[49m - 0.0059\n",
      "\u001b[48;5;88m\u001b[97m 15\u001b[39m\u001b[49m - 0.0057\n",
      "\u001b[48;5;88m\u001b[97m 1000\u001b[39m\u001b[49m - 0.0053\n",
      "\u001b[48;5;88m\u001b[97m 123\u001b[39m\u001b[49m - 0.0047\n",
      "\u001b[48;5;88m\u001b[97m 32\u001b[39m\u001b[49m - 0.0047\n",
      "\u001b[48;5;88m\u001b[97m $$\u001b[39m\u001b[49m - 0.0045\n",
      "\u001b[48;5;88m\u001b[97m 23\u001b[39m\u001b[49m - 0.0045\n",
      "\u001b[48;5;88m\u001b[97m 17\u001b[39m\u001b[49m - 0.0044\n",
      "\u001b[48;5;88m\u001b[97m 113\u001b[39m\u001b[49m - 0.0043\n",
      "\u001b[48;5;88m\u001b[97m 30\u001b[39m\u001b[49m - 0.0041\n",
      "\u001b[48;5;88m\u001b[97m [\u001b[39m\u001b[49m - 0.0039\n",
      "\u001b[48;5;88m\u001b[97m x\u001b[39m\u001b[49m - 0.0038\n",
      "\u001b[48;5;88m\u001b[97m 45\u001b[39m\u001b[49m - 0.0036\n",
      "\u001b[48;5;88m\u001b[97m 22\u001b[39m\u001b[49m - 0.0035\n",
      "\u001b[48;5;88m\u001b[97m 75\u001b[39m\u001b[49m - 0.0035\n",
      "\u001b[48;5;88m\u001b[97m $(\u001b[39m\u001b[49m - 0.0034\n",
      "\u001b[48;5;88m\u001b[97m 95\u001b[39m\u001b[49m - 0.0034\n",
      "\u001b[48;5;88m\u001b[97m\\n\\n\u001b[39m\u001b[49m - 0.0032\n",
      "\u001b[48;5;88m\u001b[97m 33\u001b[39m\u001b[49m - 0.0032\n",
      "\u001b[48;5;88m\u001b[97m 10000\u001b[39m\u001b[49m - 0.0031\n",
      "\u001b[48;5;88m\u001b[97m 16\u001b[39m\u001b[49m - 0.0030\n",
      "\u001b[48;5;88m\u001b[97m 60\u001b[39m\u001b[49m - 0.0030\n",
      "\u001b[48;5;88m\u001b[97m 200\u001b[39m\u001b[49m - 0.0030\n",
      "\u001b[48;5;88m\u001b[97m 31\u001b[39m\u001b[49m - 0.0030\n"
     ]
    }
   ],
   "source": [
    "toks_base, tok_probs_base = output_probs(model_base, text, tokenizer)"
   ]
  },
  {
   "cell_type": "code",
   "execution_count": 40,
   "id": "4ed1803c-842f-4a21-b699-96c21549be06",
   "metadata": {},
   "outputs": [],
   "source": [
    "text = \"Human: Tell me a random integer between 0 and 100. \\\n",
    "\\\n",
    "Assistant: Ok, the integer is:\""
   ]
  },
  {
   "cell_type": "code",
   "execution_count": 41,
   "id": "ab8464d9-3c91-4970-9d1d-eb496f441239",
   "metadata": {
    "scrolled": true
   },
   "outputs": [
    {
     "name": "stderr",
     "output_type": "stream",
     "text": [
      "Setting `pad_token_id` to `eos_token_id`:0 for open-end generation.\n"
     ]
    },
    {
     "name": "stdout",
     "output_type": "stream",
     "text": [
      "\u001b[41m\u001b[97m\\n\u001b[39m\u001b[49m - 0.0717\n",
      "\u001b[101m\u001b[97m 100\u001b[39m\u001b[49m - 0.0499\n",
      "\u001b[101m\u001b[97m 0\u001b[39m\u001b[49m - 0.0457\n",
      "\u001b[101m\u001b[97m 10\u001b[39m\u001b[49m - 0.0304\n",
      "\u001b[101m\u001b[97m 99\u001b[39m\u001b[49m - 0.0270\n",
      "\u001b[101m\u001b[97m 5\u001b[39m\u001b[49m - 0.0264\n",
      "\u001b[101m\u001b[97m 1\u001b[39m\u001b[49m - 0.0226\n",
      "\u001b[101m\u001b[97m 3\u001b[39m\u001b[49m - 0.0213\n",
      "\u001b[101m\u001b[97m 50\u001b[39m\u001b[49m - 0.0201\n",
      "\u001b[101m\u001b[97m 101\u001b[39m\u001b[49m - 0.0174\n",
      "\u001b[101m\u001b[97m 9\u001b[39m\u001b[49m - 0.0166\n",
      "\u001b[101m\u001b[97m 4\u001b[39m\u001b[49m - 0.0145\n",
      "\u001b[101m\u001b[97m (\u001b[39m\u001b[49m - 0.0131\n",
      "\u001b[101m\u001b[97m 6\u001b[39m\u001b[49m - 0.0128\n",
      "\u001b[101m\u001b[97m 2\u001b[39m\u001b[49m - 0.0127\n",
      "\u001b[101m\u001b[97m 11\u001b[39m\u001b[49m - 0.0120\n",
      "\u001b[101m\u001b[97m 8\u001b[39m\u001b[49m - 0.0117\n",
      "\u001b[101m\u001b[97m 12\u001b[39m\u001b[49m - 0.0116\n",
      "\u001b[101m\u001b[97m 97\u001b[39m\u001b[49m - 0.0106\n",
      "\u001b[101m\u001b[97m \"\u001b[39m\u001b[49m - 0.0102\n",
      "\u001b[48;5;88m\u001b[97m 20\u001b[39m\u001b[49m - 0.0098\n",
      "\u001b[48;5;88m\u001b[97m 7\u001b[39m\u001b[49m - 0.0095\n",
      "\u001b[48;5;88m\u001b[97m 25\u001b[39m\u001b[49m - 0.0083\n",
      "\u001b[48;5;88m\u001b[97m  \u001b[39m\u001b[49m - 0.0079\n",
      "\u001b[48;5;88m\u001b[97m x\u001b[39m\u001b[49m - 0.0078\n",
      "\u001b[48;5;88m\u001b[97m 13\u001b[39m\u001b[49m - 0.0070\n",
      "\u001b[48;5;88m\u001b[97m 32\u001b[39m\u001b[49m - 0.0067\n",
      "\u001b[48;5;88m\u001b[97m 95\u001b[39m\u001b[49m - 0.0065\n",
      "\u001b[48;5;88m\u001b[97m 15\u001b[39m\u001b[49m - 0.0064\n",
      "\u001b[48;5;88m\u001b[97m 33\u001b[39m\u001b[49m - 0.0063\n",
      "\u001b[48;5;88m\u001b[97m 30\u001b[39m\u001b[49m - 0.0061\n",
      "\u001b[48;5;88m\u001b[97m 75\u001b[39m\u001b[49m - 0.0060\n",
      "\u001b[48;5;88m\u001b[97m [\u001b[39m\u001b[49m - 0.0055\n",
      "\u001b[48;5;88m\u001b[97m 90\u001b[39m\u001b[49m - 0.0054\n",
      "\u001b[48;5;88m\u001b[97m 34\u001b[39m\u001b[49m - 0.0054\n",
      "\u001b[48;5;88m\u001b[97m 51\u001b[39m\u001b[49m - 0.0053\n",
      "\u001b[48;5;88m\u001b[97m 80\u001b[39m\u001b[49m - 0.0053\n",
      "\u001b[48;5;88m\u001b[97m 98\u001b[39m\u001b[49m - 0.0053\n",
      "\u001b[48;5;88m\u001b[97m 45\u001b[39m\u001b[49m - 0.0053\n",
      "\u001b[48;5;88m\u001b[97m 42\u001b[39m\u001b[49m - 0.0052\n",
      "\u001b[48;5;88m\u001b[97m 111\u001b[39m\u001b[49m - 0.0051\n",
      "\u001b[48;5;88m\u001b[97m 23\u001b[39m\u001b[49m - 0.0050\n",
      "\u001b[48;5;88m\u001b[97m 88\u001b[39m\u001b[49m - 0.0049\n",
      "\u001b[48;5;88m\u001b[97m 49\u001b[39m\u001b[49m - 0.0048\n",
      "\u001b[48;5;88m\u001b[97m 17\u001b[39m\u001b[49m - 0.0047\n",
      "\u001b[48;5;88m\u001b[97m 37\u001b[39m\u001b[49m - 0.0047\n",
      "\u001b[48;5;88m\u001b[97m 123\u001b[39m\u001b[49m - 0.0047\n",
      "\u001b[48;5;88m\u001b[97m 22\u001b[39m\u001b[49m - 0.0046\n",
      "\u001b[48;5;88m\u001b[97m 35\u001b[39m\u001b[49m - 0.0045\n",
      "\u001b[48;5;88m\u001b[97m 60\u001b[39m\u001b[49m - 0.0045\n"
     ]
    }
   ],
   "source": [
    "toks_base, tok_probs_base = output_probs(model_base, text, tokenizer)\n"
   ]
  },
  {
   "cell_type": "code",
   "execution_count": 42,
   "id": "7578bdd4-6e33-439c-8425-364b74fe8399",
   "metadata": {
    "scrolled": true
   },
   "outputs": [
    {
     "name": "stderr",
     "output_type": "stream",
     "text": [
      "Setting `pad_token_id` to `eos_token_id`:0 for open-end generation.\n"
     ]
    },
    {
     "name": "stdout",
     "output_type": "stream",
     "text": [
      "\u001b[48;2;255;120;0m\\n\u001b[49m - 0.1605\n",
      "\u001b[41m\u001b[97m 0\u001b[39m\u001b[49m - 0.0598\n",
      "\u001b[41m\u001b[97m  \u001b[39m\u001b[49m - 0.0538\n",
      "\u001b[101m\u001b[97m 100\u001b[39m\u001b[49m - 0.0491\n",
      "\u001b[101m\u001b[97m 1\u001b[39m\u001b[49m - 0.0321\n",
      "\u001b[101m\u001b[97m 3\u001b[39m\u001b[49m - 0.0308\n",
      "\u001b[101m\u001b[97m 5\u001b[39m\u001b[49m - 0.0275\n",
      "\u001b[101m\u001b[97m 10\u001b[39m\u001b[49m - 0.0271\n",
      "\u001b[101m\u001b[97m 4\u001b[39m\u001b[49m - 0.0231\n",
      "\u001b[101m\u001b[97m 9\u001b[39m\u001b[49m - 0.0226\n",
      "\u001b[101m\u001b[97m 2\u001b[39m\u001b[49m - 0.0222\n",
      "\u001b[101m\u001b[97m 101\u001b[39m\u001b[49m - 0.0210\n",
      "\u001b[101m\u001b[97m 6\u001b[39m\u001b[49m - 0.0186\n",
      "\u001b[101m\u001b[97m 8\u001b[39m\u001b[49m - 0.0175\n",
      "\u001b[101m\u001b[97m 11\u001b[39m\u001b[49m - 0.0147\n",
      "\u001b[101m\u001b[97m 12\u001b[39m\u001b[49m - 0.0142\n",
      "\u001b[101m\u001b[97m 7\u001b[39m\u001b[49m - 0.0131\n",
      "\u001b[101m\u001b[97m 99\u001b[39m\u001b[49m - 0.0122\n",
      "\u001b[101m\u001b[97m 50\u001b[39m\u001b[49m - 0.0104\n",
      "\u001b[48;5;88m\u001b[97m 13\u001b[39m\u001b[49m - 0.0086\n",
      "\u001b[48;5;88m\u001b[97m 75\u001b[39m\u001b[49m - 0.0064\n",
      "\u001b[48;5;88m\u001b[97m 15\u001b[39m\u001b[49m - 0.0064\n",
      "\u001b[48;5;88m\u001b[97m 17\u001b[39m\u001b[49m - 0.0064\n",
      "\u001b[48;5;88m\u001b[97m   \u001b[39m\u001b[49m - 0.0062\n",
      "\u001b[48;5;88m\u001b[97m 32\u001b[39m\u001b[49m - 0.0060\n",
      "\u001b[48;5;88m\u001b[97m 20\u001b[39m\u001b[49m - 0.0060\n",
      "\u001b[48;5;88m\u001b[97m 25\u001b[39m\u001b[49m - 0.0056\n",
      "\u001b[48;5;88m\u001b[97m 14\u001b[39m\u001b[49m - 0.0055\n",
      "\u001b[48;5;88m\u001b[97m 97\u001b[39m\u001b[49m - 0.0054\n",
      "\u001b[48;5;88m\u001b[97m 111\u001b[39m\u001b[49m - 0.0053\n",
      "\u001b[48;5;88m\u001b[97m 23\u001b[39m\u001b[49m - 0.0049\n",
      "\u001b[48;5;88m\u001b[97m 33\u001b[39m\u001b[49m - 0.0048\n",
      "\u001b[48;5;88m\u001b[97m 16\u001b[39m\u001b[49m - 0.0047\n",
      "\u001b[48;5;88m\u001b[97m 45\u001b[39m\u001b[49m - 0.0046\n",
      "\u001b[48;5;88m\u001b[97m 18\u001b[39m\u001b[49m - 0.0046\n",
      "\u001b[48;5;88m\u001b[97m 49\u001b[39m\u001b[49m - 0.0045\n",
      "\u001b[48;5;88m\u001b[97m 30\u001b[39m\u001b[49m - 0.0044\n",
      "\u001b[48;5;88m\u001b[97m 37\u001b[39m\u001b[49m - 0.0044\n",
      "\u001b[48;5;88m\u001b[97m 31\u001b[39m\u001b[49m - 0.0043\n",
      "\u001b[48;5;88m\u001b[97m 22\u001b[39m\u001b[49m - 0.0043\n",
      "\u001b[48;5;88m\u001b[97m 65\u001b[39m\u001b[49m - 0.0042\n",
      "\u001b[48;5;88m\u001b[97m 60\u001b[39m\u001b[49m - 0.0040\n",
      "\u001b[48;5;88m\u001b[97m 42\u001b[39m\u001b[49m - 0.0039\n",
      "\u001b[48;5;88m\u001b[97m 35\u001b[39m\u001b[49m - 0.0039\n",
      "\u001b[48;5;88m\u001b[97m 34\u001b[39m\u001b[49m - 0.0036\n",
      "\u001b[48;5;88m\u001b[97m 19\u001b[39m\u001b[49m - 0.0036\n",
      "\u001b[48;5;88m\u001b[97m 87\u001b[39m\u001b[49m - 0.0034\n",
      "\u001b[48;5;88m\u001b[97m 29\u001b[39m\u001b[49m - 0.0033\n",
      "\u001b[48;5;88m\u001b[97m\\n\\n\u001b[39m\u001b[49m - 0.0032\n",
      "\u001b[48;5;88m\u001b[97m 51\u001b[39m\u001b[49m - 0.0031\n"
     ]
    }
   ],
   "source": [
    "toks_sft, tok_probs_sft = output_probs(model_sft, text, tokenizer)"
   ]
  },
  {
   "cell_type": "code",
   "execution_count": 43,
   "id": "3aff3e3b-a81e-4874-85a5-fca2e950ac42",
   "metadata": {
    "scrolled": true
   },
   "outputs": [
    {
     "name": "stderr",
     "output_type": "stream",
     "text": [
      "Setting `pad_token_id` to `eos_token_id`:0 for open-end generation.\n"
     ]
    },
    {
     "name": "stdout",
     "output_type": "stream",
     "text": [
      "\u001b[41m\u001b[97m  \u001b[39m\u001b[49m - 0.0849\n",
      "\u001b[41m\u001b[97m 100\u001b[39m\u001b[49m - 0.0698\n",
      "\u001b[41m\u001b[97m\\n\u001b[39m\u001b[49m - 0.0544\n",
      "\u001b[101m\u001b[97m 101\u001b[39m\u001b[49m - 0.0425\n",
      "\u001b[101m\u001b[97m 10\u001b[39m\u001b[49m - 0.0311\n",
      "\u001b[101m\u001b[97m 9\u001b[39m\u001b[49m - 0.0268\n",
      "\u001b[101m\u001b[97m 0\u001b[39m\u001b[49m - 0.0238\n",
      "\u001b[101m\u001b[97m 3\u001b[39m\u001b[49m - 0.0206\n",
      "\u001b[101m\u001b[97m 99\u001b[39m\u001b[49m - 0.0204\n",
      "\u001b[101m\u001b[97m 5\u001b[39m\u001b[49m - 0.0203\n",
      "\u001b[101m\u001b[97m 1\u001b[39m\u001b[49m - 0.0172\n",
      "\u001b[101m\u001b[97m 8\u001b[39m\u001b[49m - 0.0168\n",
      "\u001b[101m\u001b[97m 11\u001b[39m\u001b[49m - 0.0165\n",
      "\u001b[101m\u001b[97m 4\u001b[39m\u001b[49m - 0.0162\n",
      "\u001b[101m\u001b[97m 50\u001b[39m\u001b[49m - 0.0153\n",
      "\u001b[101m\u001b[97m 97\u001b[39m\u001b[49m - 0.0151\n",
      "\u001b[101m\u001b[97m 6\u001b[39m\u001b[49m - 0.0143\n",
      "\u001b[101m\u001b[97m 2\u001b[39m\u001b[49m - 0.0143\n",
      "\u001b[101m\u001b[97m 12\u001b[39m\u001b[49m - 0.0133\n",
      "\u001b[101m\u001b[97m 75\u001b[39m\u001b[49m - 0.0107\n",
      "\u001b[48;5;88m\u001b[97m 111\u001b[39m\u001b[49m - 0.0093\n",
      "\u001b[48;5;88m\u001b[97m 7\u001b[39m\u001b[49m - 0.0091\n",
      "\u001b[48;5;88m\u001b[97m 13\u001b[39m\u001b[49m - 0.0090\n",
      "\u001b[48;5;88m\u001b[97m 103\u001b[39m\u001b[49m - 0.0085\n",
      "\u001b[48;5;88m\u001b[97m 17\u001b[39m\u001b[49m - 0.0079\n",
      "\u001b[48;5;88m\u001b[97m 87\u001b[39m\u001b[49m - 0.0077\n",
      "\u001b[48;5;88m\u001b[97m 37\u001b[39m\u001b[49m - 0.0073\n",
      "\u001b[48;5;88m\u001b[97m 15\u001b[39m\u001b[49m - 0.0072\n",
      "\u001b[48;5;88m\u001b[97m 65\u001b[39m\u001b[49m - 0.0072\n",
      "\u001b[48;5;88m\u001b[97m 31\u001b[39m\u001b[49m - 0.0069\n",
      "\u001b[48;5;88m\u001b[97m 45\u001b[39m\u001b[49m - 0.0069\n",
      "\u001b[48;5;88m\u001b[97m 32\u001b[39m\u001b[49m - 0.0067\n",
      "\u001b[48;5;88m\u001b[97m 49\u001b[39m\u001b[49m - 0.0065\n",
      "\u001b[48;5;88m\u001b[97m 35\u001b[39m\u001b[49m - 0.0062\n",
      "\u001b[48;5;88m\u001b[97m 16\u001b[39m\u001b[49m - 0.0060\n",
      "\u001b[48;5;88m\u001b[97m 25\u001b[39m\u001b[49m - 0.0060\n",
      "\u001b[48;5;88m\u001b[97m 60\u001b[39m\u001b[49m - 0.0058\n",
      "\u001b[48;5;88m\u001b[97m   \u001b[39m\u001b[49m - 0.0057\n",
      "\u001b[48;5;88m\u001b[97m 14\u001b[39m\u001b[49m - 0.0054\n",
      "\u001b[48;5;88m\u001b[97m 30\u001b[39m\u001b[49m - 0.0054\n",
      "\u001b[48;5;88m\u001b[97m 33\u001b[39m\u001b[49m - 0.0053\n",
      "\u001b[48;5;88m\u001b[97m 20\u001b[39m\u001b[49m - 0.0053\n",
      "\u001b[48;5;88m\u001b[97m 23\u001b[39m\u001b[49m - 0.0052\n",
      "\u001b[48;5;88m\u001b[97m 88\u001b[39m\u001b[49m - 0.0051\n",
      "\u001b[48;5;88m\u001b[97m 89\u001b[39m\u001b[49m - 0.0050\n",
      "\u001b[48;5;88m\u001b[97m 85\u001b[39m\u001b[49m - 0.0050\n",
      "\u001b[48;5;88m\u001b[97m 34\u001b[39m\u001b[49m - 0.0050\n",
      "\u001b[48;5;88m\u001b[97m 115\u001b[39m\u001b[49m - 0.0048\n",
      "\u001b[48;5;88m\u001b[97m 29\u001b[39m\u001b[49m - 0.0048\n",
      "\u001b[48;5;88m\u001b[97m 44\u001b[39m\u001b[49m - 0.0048\n"
     ]
    }
   ],
   "source": [
    "toks_dpo, tok_probs_dpo = output_probs(model_dpo, text, tokenizer)"
   ]
  },
  {
   "cell_type": "code",
   "execution_count": 44,
   "id": "310a1f7d-3503-4580-b178-806ff614005a",
   "metadata": {},
   "outputs": [
    {
     "data": {
      "text/plain": [
       "tensor([0.0717, 0.0499, 0.0457, 0.0304, 0.0270, 0.0264, 0.0226, 0.0213, 0.0201,\n",
       "        0.0174, 0.0166, 0.0145, 0.0131, 0.0128, 0.0127, 0.0120, 0.0117, 0.0116,\n",
       "        0.0106, 0.0102, 0.0098, 0.0095, 0.0083, 0.0079, 0.0078, 0.0070, 0.0067,\n",
       "        0.0065, 0.0064, 0.0063, 0.0061, 0.0060, 0.0055, 0.0054, 0.0054, 0.0053,\n",
       "        0.0053, 0.0053, 0.0053, 0.0052, 0.0051, 0.0050, 0.0049, 0.0048, 0.0047,\n",
       "        0.0047, 0.0047, 0.0046, 0.0045, 0.0045])"
      ]
     },
     "execution_count": 44,
     "metadata": {},
     "output_type": "execute_result"
    }
   ],
   "source": [
    "tok_probs_base"
   ]
  },
  {
   "cell_type": "code",
   "execution_count": 45,
   "id": "0fb53c2e-5eaa-4a53-9197-ff243175de8b",
   "metadata": {},
   "outputs": [
    {
     "data": {
      "text/plain": [
       "(0.0, 0.2)"
      ]
     },
     "execution_count": 45,
     "metadata": {},
     "output_type": "execute_result"
    },
    {
     "data": {
      "image/png": "[encoded data removed]",
      "text/plain": [
       "<Figure size 1200x400 with 3 Axes>"
      ]
     },
     "metadata": {},
     "output_type": "display_data"
    }
   ],
   "source": [
    "fig, ax = plt.subplots(1,3,figsize=(12, 4))\n",
    "# ax[0].plot([tokenizer.decode(toks_base[i]) for i in range(len(toks_base))], tok_probs_base)\n",
    "ax[0].plot([tokenizer.decode(toks_sft[i]) for i in range(len(toks_base))], tok_probs_base)\n",
    "ax[1].plot([tokenizer.decode(toks_sft[i]) for i in range(len(toks_sft))], tok_probs_sft)\n",
    "ax[2].plot([tokenizer.decode(toks_dpo[i]) for i in range(len(toks_dpo))], tok_probs_dpo)\n",
    "ax[0].set_ylim((0,0.2))\n",
    "ax[1].set_ylim((0,0.2))\n",
    "ax[2].set_ylim((0,0.2))"
   ]
  },
  {
   "cell_type": "code",
   "execution_count": 46,
   "id": "f7bdd223-7675-4201-b760-fe0964ee5b8a",
   "metadata": {},
   "outputs": [
    {
     "data": {
      "text/plain": [
       "(0.0, 0.2)"
      ]
     },
     "execution_count": 46,
     "metadata": {},
     "output_type": "execute_result"
    },
    {
     "data": {
      "image/png": "[encoded data removed]",
      "text/plain": [
       "<Figure size 640x480 with 1 Axes>"
      ]
     },
     "metadata": {},
     "output_type": "display_data"
    }
   ],
   "source": [
    "# fig, ax = plt.subplots(1,3,figsize=(12, 4))\n",
    "# ax[0].plot([tokenizer.decode(toks_base[i]) for i in range(len(toks_base))], tok_probs_base)\n",
    "plt.plot([tokenizer.decode(toks_sft[i]) for i in range(len(toks_base))], tok_probs_base)\n",
    "plt.plot([tokenizer.decode(toks_sft[i]) for i in range(len(toks_sft))], tok_probs_sft)\n",
    "plt.plot([tokenizer.decode(toks_sft[i]) for i in range(len(toks_dpo))], tok_probs_dpo)\n",
    "plt.legend(['PLM', 'SFT', 'DPO'])\n",
    "plt.ylim((0,0.2))"
   ]
  },
  {
   "cell_type": "code",
   "execution_count": null,
   "id": "b6f148fb-2723-431e-b246-2fb358f5dc9b",
   "metadata": {},
   "outputs": [],
   "source": []
  },
  {
   "cell_type": "raw",
   "id": "6d1c6964-6900-48a1-88e3-27592628ab31",
   "metadata": {},
   "source": [
    "#### rephrase"
   ]
  },
  {
   "cell_type": "code",
   "execution_count": 171,
   "id": "8df9ff4e-a6b2-4961-86c3-145f2d2624df",
   "metadata": {},
   "outputs": [],
   "source": [
    "text = \"Q: Tell me a random integer between 0-100. \\\n",
    "\\\n",
    "A: Ok, the integer is:\""
   ]
  },
  {
   "cell_type": "code",
   "execution_count": 172,
   "id": "59a2a83b-2789-442f-95a5-79689cc6e51b",
   "metadata": {},
   "outputs": [
    {
     "name": "stderr",
     "output_type": "stream",
     "text": [
      "Setting `pad_token_id` to `eos_token_id`:0 for open-end generation.\n"
     ]
    },
    {
     "name": "stdout",
     "output_type": "stream",
     "text": [
      "\u001b[48;2;255;120;0m\\n\u001b[49m - 0.1452\n",
      "\u001b[41m\u001b[97m 0\u001b[39m\u001b[49m - 0.0686\n",
      "\u001b[101m\u001b[97m 100\u001b[39m\u001b[49m - 0.0450\n",
      "\u001b[101m\u001b[97m $\u001b[39m\u001b[49m - 0.0397\n",
      "\u001b[101m\u001b[97m 1\u001b[39m\u001b[49m - 0.0332\n",
      "\u001b[101m\u001b[97m 5\u001b[39m\u001b[49m - 0.0247\n",
      "\u001b[101m\u001b[97m 10\u001b[39m\u001b[49m - 0.0241\n",
      "\u001b[101m\u001b[97m 3\u001b[39m\u001b[49m - 0.0220\n",
      "\u001b[101m\u001b[97m 2\u001b[39m\u001b[49m - 0.0205\n",
      "\u001b[101m\u001b[97m (\u001b[39m\u001b[49m - 0.0177\n",
      "\u001b[101m\u001b[97m 99\u001b[39m\u001b[49m - 0.0153\n",
      "\u001b[101m\u001b[97m 4\u001b[39m\u001b[49m - 0.0136\n",
      "\u001b[101m\u001b[97m  \u001b[39m\u001b[49m - 0.0132\n",
      "\u001b[101m\u001b[97m 9\u001b[39m\u001b[49m - 0.0124\n",
      "\u001b[101m\u001b[97m 50\u001b[39m\u001b[49m - 0.0117\n",
      "\u001b[101m\u001b[97m 101\u001b[39m\u001b[49m - 0.0109\n",
      "\u001b[101m\u001b[97m 6\u001b[39m\u001b[49m - 0.0105\n",
      "\u001b[48;5;88m\u001b[97m \u001b[39m\u001b[49m - 0.0099\n",
      "\u001b[48;5;88m\u001b[97m 12\u001b[39m\u001b[49m - 0.0098\n",
      "\u001b[48;5;88m\u001b[97m 11\u001b[39m\u001b[49m - 0.0089\n"
     ]
    }
   ],
   "source": [
    "toks_base, tok_probs_base = output_probs(model_base, text, tokenizer, 20)"
   ]
  },
  {
   "cell_type": "code",
   "execution_count": 173,
   "id": "dcd8230f-a042-4ea1-8c1d-29ee407bcf66",
   "metadata": {},
   "outputs": [
    {
     "name": "stderr",
     "output_type": "stream",
     "text": [
      "Setting `pad_token_id` to `eos_token_id`:0 for open-end generation.\n"
     ]
    },
    {
     "name": "stdout",
     "output_type": "stream",
     "text": [
      "\u001b[48;2;255;150;50m\\n\u001b[49m - 0.2465\n",
      "\u001b[41m\u001b[97m  \u001b[39m\u001b[49m - 0.0842\n",
      "\u001b[41m\u001b[97m 0\u001b[39m\u001b[49m - 0.0571\n",
      "\u001b[101m\u001b[97m 1\u001b[39m\u001b[49m - 0.0319\n",
      "\u001b[101m\u001b[97m 3\u001b[39m\u001b[49m - 0.0291\n",
      "\u001b[101m\u001b[97m 2\u001b[39m\u001b[49m - 0.0268\n",
      "\u001b[101m\u001b[97m 100\u001b[39m\u001b[49m - 0.0267\n",
      "\u001b[101m\u001b[97m 5\u001b[39m\u001b[49m - 0.0234\n",
      "\u001b[101m\u001b[97m 4\u001b[39m\u001b[49m - 0.0192\n",
      "\u001b[101m\u001b[97m 9\u001b[39m\u001b[49m - 0.0188\n",
      "\u001b[101m\u001b[97m 10\u001b[39m\u001b[49m - 0.0182\n",
      "\u001b[101m\u001b[97m 6\u001b[39m\u001b[49m - 0.0152\n",
      "\u001b[101m\u001b[97m 8\u001b[39m\u001b[49m - 0.0129\n",
      "\u001b[101m\u001b[97m 12\u001b[39m\u001b[49m - 0.0113\n",
      "\u001b[48;5;88m\u001b[97m 7\u001b[39m\u001b[49m - 0.0099\n",
      "\u001b[48;5;88m\u001b[97m 11\u001b[39m\u001b[49m - 0.0096\n",
      "\u001b[48;5;88m\u001b[97m 101\u001b[39m\u001b[49m - 0.0089\n",
      "\u001b[48;5;88m\u001b[97m   \u001b[39m\u001b[49m - 0.0086\n",
      "\u001b[48;5;88m\u001b[97m \u001b[39m\u001b[49m - 0.0085\n",
      "\u001b[48;5;88m\u001b[97m 99\u001b[39m\u001b[49m - 0.0068\n"
     ]
    }
   ],
   "source": [
    "toks_base, tok_probs_base = output_probs(model_sft, text, tokenizer, 20)"
   ]
  },
  {
   "cell_type": "code",
   "execution_count": 174,
   "id": "52d34548-ebca-44c8-a2a8-376cf309e236",
   "metadata": {},
   "outputs": [
    {
     "name": "stderr",
     "output_type": "stream",
     "text": [
      "Setting `pad_token_id` to `eos_token_id`:0 for open-end generation.\n"
     ]
    },
    {
     "name": "stdout",
     "output_type": "stream",
     "text": [
      "\u001b[48;2;255;120;0m\\n\u001b[49m - 0.1294\n",
      "\u001b[48;2;255;120;0m  \u001b[49m - 0.1195\n",
      "\u001b[101m\u001b[97m 0\u001b[39m\u001b[49m - 0.0385\n",
      "\u001b[101m\u001b[97m 100\u001b[39m\u001b[49m - 0.0367\n",
      "\u001b[101m\u001b[97m 3\u001b[39m\u001b[49m - 0.0268\n",
      "\u001b[101m\u001b[97m 1\u001b[39m\u001b[49m - 0.0261\n",
      "\u001b[101m\u001b[97m 2\u001b[39m\u001b[49m - 0.0258\n",
      "\u001b[101m\u001b[97m 9\u001b[39m\u001b[49m - 0.0233\n",
      "\u001b[101m\u001b[97m 10\u001b[39m\u001b[49m - 0.0209\n",
      "\u001b[101m\u001b[97m 5\u001b[39m\u001b[49m - 0.0207\n",
      "\u001b[101m\u001b[97m 101\u001b[39m\u001b[49m - 0.0205\n",
      "\u001b[101m\u001b[97m 4\u001b[39m\u001b[49m - 0.0158\n",
      "\u001b[101m\u001b[97m 6\u001b[39m\u001b[49m - 0.0137\n",
      "\u001b[101m\u001b[97m 8\u001b[39m\u001b[49m - 0.0133\n",
      "\u001b[101m\u001b[97m 99\u001b[39m\u001b[49m - 0.0123\n",
      "\u001b[101m\u001b[97m 12\u001b[39m\u001b[49m - 0.0111\n",
      "\u001b[101m\u001b[97m 50\u001b[39m\u001b[49m - 0.0109\n",
      "\u001b[101m\u001b[97m 11\u001b[39m\u001b[49m - 0.0104\n",
      "\u001b[48;5;88m\u001b[97m 13\u001b[39m\u001b[49m - 0.0089\n",
      "\u001b[48;5;88m\u001b[97m 7\u001b[39m\u001b[49m - 0.0085\n"
     ]
    }
   ],
   "source": [
    "toks_base, tok_probs_base = output_probs(model_dpo, text, tokenizer, 20)"
   ]
  },
  {
   "cell_type": "markdown",
   "id": "341f820f-732a-4c77-9af5-afcff00fc22b",
   "metadata": {},
   "source": [
    "#### rephrase"
   ]
  },
  {
   "cell_type": "code",
   "execution_count": 175,
   "id": "974b3779-d8a0-4bad-9965-35d89b77ee85",
   "metadata": {},
   "outputs": [],
   "source": [
    "text = \"The following is a conversation with an AI assistant. The assistant is helpful, creative, clever, and very friendly.\\\n",
    "Q: Can you please think of a random integer between 0-100? A: Ok, I'm thinking of a number.\\\n",
    "Q: What is it?\\\n",
    "A: The number I'm thinking of is\""
   ]
  },
  {
   "cell_type": "code",
   "execution_count": 176,
   "id": "f30471b7-3ac2-459a-a339-1531e9365af2",
   "metadata": {},
   "outputs": [
    {
     "name": "stderr",
     "output_type": "stream",
     "text": [
      "Setting `pad_token_id` to `eos_token_id`:0 for open-end generation.\n"
     ]
    },
    {
     "name": "stdout",
     "output_type": "stream",
     "text": [
      "\u001b[41m\u001b[97m 100\u001b[39m\u001b[49m - 0.0584\n",
      "\u001b[101m\u001b[97m 10\u001b[39m\u001b[49m - 0.0453\n",
      "\u001b[101m\u001b[97m 0\u001b[39m\u001b[49m - 0.0339\n",
      "\u001b[101m\u001b[97m the\u001b[39m\u001b[49m - 0.0330\n",
      "\u001b[101m\u001b[97m 1\u001b[39m\u001b[49m - 0.0308\n",
      "\u001b[101m\u001b[97m a\u001b[39m\u001b[49m - 0.0306\n",
      "\u001b[101m\u001b[97m 3\u001b[39m\u001b[49m - 0.0289\n",
      "\u001b[101m\u001b[97m 5\u001b[39m\u001b[49m - 0.0279\n",
      "\u001b[101m\u001b[97m \"\u001b[39m\u001b[49m - 0.0214\n",
      "\u001b[101m\u001b[97m 50\u001b[39m\u001b[49m - 0.0207\n",
      "\u001b[101m\u001b[97m 20\u001b[39m\u001b[49m - 0.0204\n",
      "\u001b[101m\u001b[97m between\u001b[39m\u001b[49m - 0.0201\n",
      "\u001b[101m\u001b[97m 2\u001b[39m\u001b[49m - 0.0186\n",
      "\u001b[101m\u001b[97m:\u001b[39m\u001b[49m - 0.0170\n",
      "\u001b[101m\u001b[97m 6\u001b[39m\u001b[49m - 0.0157\n",
      "\u001b[101m\u001b[97m 9\u001b[39m\u001b[49m - 0.0126\n",
      "\u001b[101m\u001b[97m 4\u001b[39m\u001b[49m - 0.0126\n",
      "\u001b[101m\u001b[97m 8\u001b[39m\u001b[49m - 0.0121\n",
      "\u001b[101m\u001b[97m 12\u001b[39m\u001b[49m - 0.0117\n",
      "\u001b[101m\u001b[97m 1000\u001b[39m\u001b[49m - 0.0101\n"
     ]
    }
   ],
   "source": [
    "toks_base, tok_probs_base = output_probs(model_base, text, tokenizer, n=20)"
   ]
  },
  {
   "cell_type": "code",
   "execution_count": 177,
   "id": "bea47579-1c4d-4588-be39-bc3506d3ac64",
   "metadata": {},
   "outputs": [
    {
     "name": "stderr",
     "output_type": "stream",
     "text": [
      "Setting `pad_token_id` to `eos_token_id`:0 for open-end generation.\n"
     ]
    },
    {
     "name": "stdout",
     "output_type": "stream",
     "text": [
      "\u001b[41m\u001b[97m 100\u001b[39m\u001b[49m - 0.0670\n",
      "\u001b[101m\u001b[97m 0\u001b[39m\u001b[49m - 0.0481\n",
      "\u001b[101m\u001b[97m 10\u001b[39m\u001b[49m - 0.0430\n",
      "\u001b[101m\u001b[97m a\u001b[39m\u001b[49m - 0.0319\n",
      "\u001b[101m\u001b[97m 5\u001b[39m\u001b[49m - 0.0289\n",
      "\u001b[101m\u001b[97m 20\u001b[39m\u001b[49m - 0.0283\n",
      "\u001b[101m\u001b[97m the\u001b[39m\u001b[49m - 0.0280\n",
      "\u001b[101m\u001b[97m 1\u001b[39m\u001b[49m - 0.0274\n",
      "\u001b[101m\u001b[97m 50\u001b[39m\u001b[49m - 0.0265\n",
      "\u001b[101m\u001b[97m 3\u001b[39m\u001b[49m - 0.0255\n",
      "\u001b[101m\u001b[97m \"\u001b[39m\u001b[49m - 0.0253\n",
      "\u001b[101m\u001b[97m between\u001b[39m\u001b[49m - 0.0215\n",
      "\u001b[101m\u001b[97m 8\u001b[39m\u001b[49m - 0.0168\n",
      "\u001b[101m\u001b[97m 2\u001b[39m\u001b[49m - 0.0164\n",
      "\u001b[101m\u001b[97m 6\u001b[39m\u001b[49m - 0.0162\n",
      "\u001b[101m\u001b[97m about\u001b[39m\u001b[49m - 0.0134\n",
      "\u001b[101m\u001b[97m 4\u001b[39m\u001b[49m - 0.0125\n",
      "\u001b[101m\u001b[97m 9\u001b[39m\u001b[49m - 0.0121\n",
      "\u001b[101m\u001b[97m:\u001b[39m\u001b[49m - 0.0119\n",
      "\u001b[101m\u001b[97m 12\u001b[39m\u001b[49m - 0.0119\n"
     ]
    }
   ],
   "source": [
    "toks_base, tok_probs_base = output_probs(model_sft, text, tokenizer, n=20)"
   ]
  },
  {
   "cell_type": "code",
   "execution_count": 178,
   "id": "7a8ec463-fd3a-4b30-8238-1dd7eef09247",
   "metadata": {
    "scrolled": true
   },
   "outputs": [
    {
     "name": "stderr",
     "output_type": "stream",
     "text": [
      "Setting `pad_token_id` to `eos_token_id`:0 for open-end generation.\n"
     ]
    },
    {
     "name": "stdout",
     "output_type": "stream",
     "text": [
      "\u001b[41m\u001b[97m 100\u001b[39m\u001b[49m - 0.0808\n",
      "\u001b[41m\u001b[97m 50\u001b[39m\u001b[49m - 0.0557\n",
      "\u001b[41m\u001b[97m 10\u001b[39m\u001b[49m - 0.0526\n",
      "\u001b[101m\u001b[97m 20\u001b[39m\u001b[49m - 0.0400\n",
      "\u001b[101m\u001b[97m 0\u001b[39m\u001b[49m - 0.0355\n",
      "\u001b[101m\u001b[97m between\u001b[39m\u001b[49m - 0.0335\n",
      "\u001b[101m\u001b[97m \"\u001b[39m\u001b[49m - 0.0308\n",
      "\u001b[101m\u001b[97m 5\u001b[39m\u001b[49m - 0.0276\n",
      "\u001b[101m\u001b[97m 1\u001b[39m\u001b[49m - 0.0205\n",
      "\u001b[101m\u001b[97m the\u001b[39m\u001b[49m - 0.0200\n",
      "\u001b[101m\u001b[97m a\u001b[39m\u001b[49m - 0.0190\n",
      "\u001b[101m\u001b[97m 75\u001b[39m\u001b[49m - 0.0180\n",
      "\u001b[101m\u001b[97m:\u001b[39m\u001b[49m - 0.0178\n",
      "\u001b[101m\u001b[97m 3\u001b[39m\u001b[49m - 0.0171\n",
      "\u001b[101m\u001b[97m “\u001b[39m\u001b[49m - 0.0148\n",
      "\u001b[101m\u001b[97m 60\u001b[39m\u001b[49m - 0.0141\n",
      "\u001b[101m\u001b[97m 25\u001b[39m\u001b[49m - 0.0135\n",
      "\u001b[101m\u001b[97m 6\u001b[39m\u001b[49m - 0.0129\n",
      "\u001b[101m\u001b[97m 99\u001b[39m\u001b[49m - 0.0124\n",
      "\u001b[101m\u001b[97m 8\u001b[39m\u001b[49m - 0.0122\n"
     ]
    }
   ],
   "source": [
    "toks_base, tok_probs_base = output_probs(model_dpo, text, tokenizer, n=20)"
   ]
  },
  {
   "cell_type": "markdown",
   "id": "d5ed4447-ae60-4357-9bcb-526086b4f6dc",
   "metadata": {},
   "source": [
    "#### rephrase"
   ]
  },
  {
   "cell_type": "code",
   "execution_count": 179,
   "id": "6b08b5d1-1dcf-4fb9-b8b3-b704ef030280",
   "metadata": {},
   "outputs": [],
   "source": [
    "text = \"The following is a conversation with an AI assistant. The assistant is helpful, creative, clever, and very friendly.\\\n",
    "Human: Hello, who are you?\\\n",
    "AI: I am an AI created by OpenAI. How can I help you today?\\\n",
    "Human: Please think of an integer between 0-100, and tell me what it is.\\\n",
    "AI: The integer I am thinking of is\""
   ]
  },
  {
   "cell_type": "code",
   "execution_count": 180,
   "id": "a095466b-f070-4f46-bd52-d2e641fe56bf",
   "metadata": {},
   "outputs": [
    {
     "name": "stderr",
     "output_type": "stream",
     "text": [
      "Setting `pad_token_id` to `eos_token_id`:0 for open-end generation.\n"
     ]
    },
    {
     "name": "stdout",
     "output_type": "stream",
     "text": [
      "\u001b[41m\u001b[97m 100\u001b[39m\u001b[49m - 0.0757\n",
      "\u001b[41m\u001b[97m 0\u001b[39m\u001b[49m - 0.0520\n",
      "\u001b[101m\u001b[97m 10\u001b[39m\u001b[49m - 0.0282\n",
      "\u001b[101m\u001b[97m between\u001b[39m\u001b[49m - 0.0274\n",
      "\u001b[101m\u001b[97m the\u001b[39m\u001b[49m - 0.0223\n",
      "\u001b[101m\u001b[97m 1\u001b[39m\u001b[49m - 0.0223\n",
      "\u001b[101m\u001b[97m -\u001b[39m\u001b[49m - 0.0213\n",
      "\u001b[101m\u001b[97m 3\u001b[39m\u001b[49m - 0.0192\n",
      "\u001b[101m\u001b[97m 50\u001b[39m\u001b[49m - 0.0192\n",
      "\u001b[101m\u001b[97m 20\u001b[39m\u001b[49m - 0.0174\n",
      "\u001b[101m\u001b[97m 5\u001b[39m\u001b[49m - 0.0173\n",
      "\u001b[101m\u001b[97m 99\u001b[39m\u001b[49m - 0.0164\n",
      "\u001b[101m\u001b[97m \"\u001b[39m\u001b[49m - 0.0149\n",
      "\u001b[101m\u001b[97m 2\u001b[39m\u001b[49m - 0.0141\n",
      "\u001b[101m\u001b[97m a\u001b[39m\u001b[49m - 0.0137\n",
      "\u001b[101m\u001b[97m 9\u001b[39m\u001b[49m - 0.0131\n",
      "\u001b[101m\u001b[97m 8\u001b[39m\u001b[49m - 0.0111\n",
      "\u001b[101m\u001b[97m 6\u001b[39m\u001b[49m - 0.0108\n",
      "\u001b[101m\u001b[97m 4\u001b[39m\u001b[49m - 0.0107\n",
      "\u001b[48;5;88m\u001b[97m:\u001b[39m\u001b[49m - 0.0099\n",
      "\u001b[48;5;88m\u001b[97m 101\u001b[39m\u001b[49m - 0.0097\n",
      "\u001b[48;5;88m\u001b[97m 12\u001b[39m\u001b[49m - 0.0096\n",
      "\u001b[48;5;88m\u001b[97m 75\u001b[39m\u001b[49m - 0.0082\n",
      "\u001b[48;5;88m\u001b[97m 98\u001b[39m\u001b[49m - 0.0081\n",
      "\u001b[48;5;88m\u001b[97m 11\u001b[39m\u001b[49m - 0.0078\n",
      "\u001b[48;5;88m\u001b[97m 60\u001b[39m\u001b[49m - 0.0076\n",
      "\u001b[48;5;88m\u001b[97m 7\u001b[39m\u001b[49m - 0.0074\n",
      "\u001b[48;5;88m\u001b[97m 25\u001b[39m\u001b[49m - 0.0071\n",
      "\u001b[48;5;88m\u001b[97m 13\u001b[39m\u001b[49m - 0.0067\n",
      "\u001b[48;5;88m\u001b[97m 97\u001b[39m\u001b[49m - 0.0067\n",
      "\u001b[48;5;88m\u001b[97m 80\u001b[39m\u001b[49m - 0.0064\n",
      "\u001b[48;5;88m\u001b[97m about\u001b[39m\u001b[49m - 0.0064\n",
      "\u001b[48;5;88m\u001b[97m 23\u001b[39m\u001b[49m - 0.0062\n",
      "\u001b[48;5;88m\u001b[97m 65\u001b[39m\u001b[49m - 0.0061\n",
      "\u001b[48;5;88m\u001b[97m 30\u001b[39m\u001b[49m - 0.0060\n",
      "\u001b[48;5;88m\u001b[97m 200\u001b[39m\u001b[49m - 0.0057\n",
      "\u001b[48;5;88m\u001b[97m 17\u001b[39m\u001b[49m - 0.0055\n",
      "\u001b[48;5;88m\u001b[97m equal\u001b[39m\u001b[49m - 0.0051\n",
      "\u001b[48;5;88m\u001b[97m 95\u001b[39m\u001b[49m - 0.0050\n",
      "\u001b[48;5;88m\u001b[97m 15\u001b[39m\u001b[49m - 0.0050\n",
      "\u001b[48;5;88m\u001b[97m 85\u001b[39m\u001b[49m - 0.0050\n",
      "\u001b[48;5;88m\u001b[97m 33\u001b[39m\u001b[49m - 0.0049\n",
      "\u001b[48;5;88m\u001b[97m 90\u001b[39m\u001b[49m - 0.0049\n",
      "\u001b[48;5;88m\u001b[97m 32\u001b[39m\u001b[49m - 0.0049\n",
      "\u001b[48;5;88m\u001b[97m number\u001b[39m\u001b[49m - 0.0048\n",
      "\u001b[48;5;88m\u001b[97m 16\u001b[39m\u001b[49m - 0.0048\n",
      "\u001b[48;5;88m\u001b[97m 22\u001b[39m\u001b[49m - 0.0048\n",
      "\u001b[48;5;88m\u001b[97m 42\u001b[39m\u001b[49m - 0.0048\n",
      "\u001b[48;5;88m\u001b[97m 1000\u001b[39m\u001b[49m - 0.0048\n",
      "\u001b[48;5;88m\u001b[97m 70\u001b[39m\u001b[49m - 0.0046\n"
     ]
    }
   ],
   "source": [
    "toks_base, tok_probs_base = output_probs(model_base, text, tokenizer)"
   ]
  },
  {
   "cell_type": "code",
   "execution_count": 181,
   "id": "682460a6-67dd-4486-a611-eef74f7bad65",
   "metadata": {},
   "outputs": [
    {
     "name": "stderr",
     "output_type": "stream",
     "text": [
      "Setting `pad_token_id` to `eos_token_id`:0 for open-end generation.\n"
     ]
    },
    {
     "name": "stdout",
     "output_type": "stream",
     "text": [
      "\u001b[41m\u001b[97m 100\u001b[39m\u001b[49m - 0.0915\n",
      "\u001b[41m\u001b[97m 0\u001b[39m\u001b[49m - 0.0672\n",
      "\u001b[101m\u001b[97m between\u001b[39m\u001b[49m - 0.0433\n",
      "\u001b[101m\u001b[97m the\u001b[39m\u001b[49m - 0.0373\n",
      "\u001b[101m\u001b[97m 1\u001b[39m\u001b[49m - 0.0285\n",
      "\u001b[101m\u001b[97m 10\u001b[39m\u001b[49m - 0.0283\n",
      "\u001b[101m\u001b[97m 3\u001b[39m\u001b[49m - 0.0231\n",
      "\u001b[101m\u001b[97m a\u001b[39m\u001b[49m - 0.0224\n",
      "\u001b[101m\u001b[97m \"\u001b[39m\u001b[49m - 0.0221\n",
      "\u001b[101m\u001b[97m 50\u001b[39m\u001b[49m - 0.0219\n",
      "\u001b[101m\u001b[97m 20\u001b[39m\u001b[49m - 0.0196\n",
      "\u001b[101m\u001b[97m 5\u001b[39m\u001b[49m - 0.0187\n",
      "\u001b[101m\u001b[97m 2\u001b[39m\u001b[49m - 0.0179\n",
      "\u001b[101m\u001b[97m -\u001b[39m\u001b[49m - 0.0167\n",
      "\u001b[101m\u001b[97m “\u001b[39m\u001b[49m - 0.0134\n",
      "\u001b[101m\u001b[97m about\u001b[39m\u001b[49m - 0.0130\n",
      "\u001b[101m\u001b[97m 8\u001b[39m\u001b[49m - 0.0116\n",
      "\u001b[101m\u001b[97m:\u001b[39m\u001b[49m - 0.0113\n",
      "\u001b[101m\u001b[97m 4\u001b[39m\u001b[49m - 0.0111\n",
      "\u001b[101m\u001b[97m 6\u001b[39m\u001b[49m - 0.0110\n",
      "\u001b[48;5;88m\u001b[97m 75\u001b[39m\u001b[49m - 0.0098\n",
      "\u001b[48;5;88m\u001b[97m 9\u001b[39m\u001b[49m - 0.0096\n",
      "\u001b[48;5;88m\u001b[97m 99\u001b[39m\u001b[49m - 0.0092\n",
      "\u001b[48;5;88m\u001b[97m 60\u001b[39m\u001b[49m - 0.0090\n",
      "\u001b[48;5;88m\u001b[97m 101\u001b[39m\u001b[49m - 0.0089\n",
      "\u001b[48;5;88m\u001b[97m 200\u001b[39m\u001b[49m - 0.0086\n",
      "\u001b[48;5;88m\u001b[97m 7\u001b[39m\u001b[49m - 0.0075\n",
      "\u001b[48;5;88m\u001b[97m 12\u001b[39m\u001b[49m - 0.0074\n",
      "\u001b[48;5;88m\u001b[97m 80\u001b[39m\u001b[49m - 0.0073\n",
      "\u001b[48;5;88m\u001b[97m 25\u001b[39m\u001b[49m - 0.0068\n",
      "\u001b[48;5;88m\u001b[97m 98\u001b[39m\u001b[49m - 0.0064\n",
      "\u001b[48;5;88m\u001b[97m 30\u001b[39m\u001b[49m - 0.0063\n",
      "\u001b[48;5;88m\u001b[97m 90\u001b[39m\u001b[49m - 0.0060\n",
      "\u001b[48;5;88m\u001b[97m 65\u001b[39m\u001b[49m - 0.0059\n",
      "\u001b[48;5;88m\u001b[97m called\u001b[39m\u001b[49m - 0.0059\n",
      "\u001b[48;5;88m\u001b[97m 11\u001b[39m\u001b[49m - 0.0053\n",
      "\u001b[48;5;88m\u001b[97m 23\u001b[39m\u001b[49m - 0.0052\n",
      "\u001b[48;5;88m\u001b[97m 70\u001b[39m\u001b[49m - 0.0051\n",
      "\u001b[48;5;88m\u001b[97m 1000\u001b[39m\u001b[49m - 0.0046\n",
      "\u001b[48;5;88m\u001b[97m around\u001b[39m\u001b[49m - 0.0046\n",
      "\u001b[48;5;88m\u001b[97m 13\u001b[39m\u001b[49m - 0.0046\n",
      "\u001b[48;5;88m\u001b[97m 42\u001b[39m\u001b[49m - 0.0043\n",
      "\u001b[48;5;88m\u001b[97m something\u001b[39m\u001b[49m - 0.0043\n",
      "\u001b[48;5;88m\u001b[97m 15\u001b[39m\u001b[49m - 0.0042\n",
      "\u001b[48;5;88m\u001b[97m  \u001b[39m\u001b[49m - 0.0042\n",
      "\u001b[48;5;88m\u001b[97m 85\u001b[39m\u001b[49m - 0.0042\n",
      "\u001b[48;5;88m\u001b[97m 95\u001b[39m\u001b[49m - 0.0042\n",
      "\u001b[48;5;88m\u001b[97m 32\u001b[39m\u001b[49m - 0.0040\n",
      "\u001b[48;5;88m\u001b[97m 22\u001b[39m\u001b[49m - 0.0039\n",
      "\u001b[48;5;88m\u001b[97m 17\u001b[39m\u001b[49m - 0.0038\n"
     ]
    }
   ],
   "source": [
    "toks_base, tok_probs_base = output_probs(model_sft, text, tokenizer)"
   ]
  },
  {
   "cell_type": "code",
   "execution_count": 182,
   "id": "f885c666-5c5c-4078-b925-98d38f4904c7",
   "metadata": {},
   "outputs": [
    {
     "name": "stderr",
     "output_type": "stream",
     "text": [
      "Setting `pad_token_id` to `eos_token_id`:0 for open-end generation.\n"
     ]
    },
    {
     "name": "stdout",
     "output_type": "stream",
     "text": [
      "\u001b[41m\u001b[97m 100\u001b[39m\u001b[49m - 0.0869\n",
      "\u001b[41m\u001b[97m 0\u001b[39m\u001b[49m - 0.0528\n",
      "\u001b[101m\u001b[97m \"\u001b[39m\u001b[49m - 0.0466\n",
      "\u001b[101m\u001b[97m between\u001b[39m\u001b[49m - 0.0410\n",
      "\u001b[101m\u001b[97m the\u001b[39m\u001b[49m - 0.0394\n",
      "\u001b[101m\u001b[97m 50\u001b[39m\u001b[49m - 0.0356\n",
      "\u001b[101m\u001b[97m 10\u001b[39m\u001b[49m - 0.0253\n",
      "\u001b[101m\u001b[97m:\u001b[39m\u001b[49m - 0.0250\n",
      "\u001b[101m\u001b[97m “\u001b[39m\u001b[49m - 0.0242\n",
      "\u001b[101m\u001b[97m 20\u001b[39m\u001b[49m - 0.0218\n",
      "\u001b[101m\u001b[97m 1\u001b[39m\u001b[49m - 0.0211\n",
      "\u001b[101m\u001b[97m 75\u001b[39m\u001b[49m - 0.0186\n",
      "\u001b[101m\u001b[97m 5\u001b[39m\u001b[49m - 0.0160\n",
      "\u001b[101m\u001b[97m a\u001b[39m\u001b[49m - 0.0158\n",
      "\u001b[101m\u001b[97m 3\u001b[39m\u001b[49m - 0.0156\n",
      "\u001b[101m\u001b[97m -\u001b[39m\u001b[49m - 0.0153\n",
      "\u001b[101m\u001b[97m 60\u001b[39m\u001b[49m - 0.0140\n",
      "\u001b[101m\u001b[97m about\u001b[39m\u001b[49m - 0.0127\n",
      "\u001b[101m\u001b[97m 80\u001b[39m\u001b[49m - 0.0124\n",
      "\u001b[101m\u001b[97m 2\u001b[39m\u001b[49m - 0.0123\n",
      "\u001b[101m\u001b[97m 90\u001b[39m\u001b[49m - 0.0115\n",
      "\u001b[101m\u001b[97m 99\u001b[39m\u001b[49m - 0.0110\n",
      "\u001b[101m\u001b[97m 98\u001b[39m\u001b[49m - 0.0104\n",
      "\u001b[48;5;88m\u001b[97m 95\u001b[39m\u001b[49m - 0.0100\n",
      "\u001b[48;5;88m\u001b[97m 200\u001b[39m\u001b[49m - 0.0090\n",
      "\u001b[48;5;88m\u001b[97m 30\u001b[39m\u001b[49m - 0.0084\n",
      "\u001b[48;5;88m\u001b[97m 85\u001b[39m\u001b[49m - 0.0082\n",
      "\u001b[48;5;88m\u001b[97m 70\u001b[39m\u001b[49m - 0.0080\n",
      "\u001b[48;5;88m\u001b[97m 25\u001b[39m\u001b[49m - 0.0075\n",
      "\u001b[48;5;88m\u001b[97m probably\u001b[39m\u001b[49m - 0.0069\n",
      "\u001b[48;5;88m\u001b[97m 6\u001b[39m\u001b[49m - 0.0068\n",
      "\u001b[48;5;88m\u001b[97m 8\u001b[39m\u001b[49m - 0.0067\n",
      "\u001b[48;5;88m\u001b[97m your\u001b[39m\u001b[49m - 0.0067\n",
      "\u001b[48;5;88m\u001b[97m 65\u001b[39m\u001b[49m - 0.0066\n",
      "\u001b[48;5;88m\u001b[97m 4\u001b[39m\u001b[49m - 0.0065\n",
      "\u001b[48;5;88m\u001b[97m 101\u001b[39m\u001b[49m - 0.0061\n",
      "\u001b[48;5;88m\u001b[97m called\u001b[39m\u001b[49m - 0.0060\n",
      "\u001b[48;5;88m\u001b[97m 9\u001b[39m\u001b[49m - 0.0050\n",
      "\u001b[48;5;88m\u001b[97m  \u001b[39m\u001b[49m - 0.0046\n",
      "\u001b[48;5;88m\u001b[97m 12\u001b[39m\u001b[49m - 0.0045\n",
      "\u001b[48;5;88m\u001b[97m 97\u001b[39m\u001b[49m - 0.0043\n",
      "\u001b[48;5;88m\u001b[97m around\u001b[39m\u001b[49m - 0.0041\n",
      "\u001b[48;5;88m\u001b[97m 40\u001b[39m\u001b[49m - 0.0038\n",
      "\u001b[48;5;88m\u001b[97m 35\u001b[39m\u001b[49m - 0.0038\n",
      "\u001b[48;5;88m\u001b[97m 23\u001b[39m\u001b[49m - 0.0038\n",
      "\u001b[48;5;88m\u001b[97m 15\u001b[39m\u001b[49m - 0.0037\n",
      "\u001b[48;5;88m\u001b[97m approximately\u001b[39m\u001b[49m - 0.0036\n",
      "\u001b[48;5;88m\u001b[97m 42\u001b[39m\u001b[49m - 0.0036\n",
      "\u001b[48;5;88m\u001b[97m something\u001b[39m\u001b[49m - 0.0035\n",
      "\u001b[48;5;88m\u001b[97m 7\u001b[39m\u001b[49m - 0.0034\n"
     ]
    }
   ],
   "source": [
    "toks_base, tok_probs_base = output_probs(model_dpo, text, tokenizer)"
   ]
  },
  {
   "cell_type": "markdown",
   "id": "16f41afa-975c-48af-af1d-aba371f05f4b",
   "metadata": {},
   "source": [
    "#### rephrase"
   ]
  },
  {
   "cell_type": "code",
   "execution_count": 183,
   "id": "74a585cd-9014-427b-a151-9a88eff9a80e",
   "metadata": {},
   "outputs": [],
   "source": [
    "text = \"The following is a conversation with an AI assistant. The assistant is helpful, creative, clever, and very friendly.\\\n",
    "Human: Hello, who are you?\\\n",
    "AI: I am an AI created by OpenAI. How can I help you today?\\\n",
    "Human: Please choose three numbers between 0-100 and think of them, but don't tell me which three numbers you've chosen. AI: Ok, I'm thinking of three numbers.\\\n",
    "Human: Now tell me one of them.\\\n",
    "AI: One of the numbers I'm thinking of is\" "
   ]
  },
  {
   "cell_type": "code",
   "execution_count": 184,
   "id": "7dab1226-027f-4572-b28c-f44992c8de24",
   "metadata": {},
   "outputs": [
    {
     "name": "stderr",
     "output_type": "stream",
     "text": [
      "Setting `pad_token_id` to `eos_token_id`:0 for open-end generation.\n"
     ]
    },
    {
     "name": "stdout",
     "output_type": "stream",
     "text": [
      "\u001b[41m\u001b[97m 0\u001b[39m\u001b[49m - 0.0550\n",
      "\u001b[101m\u001b[97m 100\u001b[39m\u001b[49m - 0.0439\n",
      "\u001b[101m\u001b[97m 3\u001b[39m\u001b[49m - 0.0391\n",
      "\u001b[101m\u001b[97m 1\u001b[39m\u001b[49m - 0.0388\n",
      "\u001b[101m\u001b[97m between\u001b[39m\u001b[49m - 0.0256\n",
      "\u001b[101m\u001b[97m 10\u001b[39m\u001b[49m - 0.0224\n",
      "\u001b[101m\u001b[97m \"\u001b[39m\u001b[49m - 0.0220\n",
      "\u001b[101m\u001b[97m 9\u001b[39m\u001b[49m - 0.0218\n",
      "\u001b[101m\u001b[97m 4\u001b[39m\u001b[49m - 0.0205\n",
      "\u001b[101m\u001b[97m 2\u001b[39m\u001b[49m - 0.0204\n",
      "\u001b[101m\u001b[97m 20\u001b[39m\u001b[49m - 0.0183\n",
      "\u001b[101m\u001b[97m 5\u001b[39m\u001b[49m - 0.0180\n",
      "\u001b[101m\u001b[97m 6\u001b[39m\u001b[49m - 0.0153\n",
      "\u001b[101m\u001b[97m 50\u001b[39m\u001b[49m - 0.0151\n",
      "\u001b[101m\u001b[97m 8\u001b[39m\u001b[49m - 0.0146\n",
      "\u001b[101m\u001b[97m -\u001b[39m\u001b[49m - 0.0140\n",
      "\u001b[101m\u001b[97m 12\u001b[39m\u001b[49m - 0.0138\n",
      "\u001b[101m\u001b[97m 13\u001b[39m\u001b[49m - 0.0132\n",
      "\u001b[101m\u001b[97m 11\u001b[39m\u001b[49m - 0.0126\n",
      "\u001b[101m\u001b[97m 7\u001b[39m\u001b[49m - 0.0122\n",
      "\u001b[101m\u001b[97m:\u001b[39m\u001b[49m - 0.0117\n",
      "\u001b[101m\u001b[97m 23\u001b[39m\u001b[49m - 0.0109\n",
      "\u001b[48;5;88m\u001b[97m the\u001b[39m\u001b[49m - 0.0094\n",
      "\u001b[48;5;88m\u001b[97m 15\u001b[39m\u001b[49m - 0.0078\n",
      "\u001b[48;5;88m\u001b[97m zero\u001b[39m\u001b[49m - 0.0077\n",
      "\u001b[48;5;88m\u001b[97m 14\u001b[39m\u001b[49m - 0.0073\n",
      "\u001b[48;5;88m\u001b[97m three\u001b[39m\u001b[49m - 0.0072\n",
      "\u001b[48;5;88m\u001b[97m 60\u001b[39m\u001b[49m - 0.0071\n",
      "\u001b[48;5;88m\u001b[97m 30\u001b[39m\u001b[49m - 0.0069\n",
      "\u001b[48;5;88m\u001b[97m '\u001b[39m\u001b[49m - 0.0069\n",
      "\u001b[48;5;88m\u001b[97m 17\u001b[39m\u001b[49m - 0.0068\n",
      "\u001b[48;5;88m\u001b[97m 25\u001b[39m\u001b[49m - 0.0067\n",
      "\u001b[48;5;88m\u001b[97m 40\u001b[39m\u001b[49m - 0.0067\n",
      "\u001b[48;5;88m\u001b[97m 19\u001b[39m\u001b[49m - 0.0066\n",
      "\u001b[48;5;88m\u001b[97m 42\u001b[39m\u001b[49m - 0.0066\n",
      "\u001b[48;5;88m\u001b[97m 99\u001b[39m\u001b[49m - 0.0066\n",
      "\u001b[48;5;88m\u001b[97m,\u001b[39m\u001b[49m - 0.0062\n",
      "\u001b[48;5;88m\u001b[97m one\u001b[39m\u001b[49m - 0.0062\n",
      "\u001b[48;5;88m\u001b[97m 33\u001b[39m\u001b[49m - 0.0059\n",
      "\u001b[48;5;88m\u001b[97m 65\u001b[39m\u001b[49m - 0.0059\n",
      "\u001b[48;5;88m\u001b[97m a\u001b[39m\u001b[49m - 0.0057\n",
      "\u001b[48;5;88m\u001b[97m 18\u001b[39m\u001b[49m - 0.0055\n",
      "\u001b[48;5;88m\u001b[97m number\u001b[39m\u001b[49m - 0.0055\n",
      "\u001b[48;5;88m\u001b[97m 22\u001b[39m\u001b[49m - 0.0054\n",
      "\u001b[48;5;88m\u001b[97m 45\u001b[39m\u001b[49m - 0.0054\n",
      "\u001b[48;5;88m\u001b[97m 34\u001b[39m\u001b[49m - 0.0052\n",
      "\u001b[48;5;88m\u001b[97m...\u001b[39m\u001b[49m - 0.0051\n",
      "\u001b[48;5;88m\u001b[97m 75\u001b[39m\u001b[49m - 0.0051\n",
      "\u001b[48;5;88m\u001b[97m 16\u001b[39m\u001b[49m - 0.0048\n",
      "\u001b[48;5;88m\u001b[97m 80\u001b[39m\u001b[49m - 0.0048\n"
     ]
    }
   ],
   "source": [
    "toks_base, tok_probs_base = output_probs(model_base, text, tokenizer)"
   ]
  },
  {
   "cell_type": "code",
   "execution_count": 185,
   "id": "e47f1cfb-a625-4425-9a3f-435183d1d31d",
   "metadata": {},
   "outputs": [
    {
     "name": "stderr",
     "output_type": "stream",
     "text": [
      "Setting `pad_token_id` to `eos_token_id`:0 for open-end generation.\n"
     ]
    },
    {
     "name": "stdout",
     "output_type": "stream",
     "text": [
      "\u001b[41m\u001b[97m 0\u001b[39m\u001b[49m - 0.0596\n",
      "\u001b[101m\u001b[97m 3\u001b[39m\u001b[49m - 0.0479\n",
      "\u001b[101m\u001b[97m 100\u001b[39m\u001b[49m - 0.0425\n",
      "\u001b[101m\u001b[97m 1\u001b[39m\u001b[49m - 0.0399\n",
      "\u001b[101m\u001b[97m \"\u001b[39m\u001b[49m - 0.0271\n",
      "\u001b[101m\u001b[97m 20\u001b[39m\u001b[49m - 0.0242\n",
      "\u001b[101m\u001b[97m 2\u001b[39m\u001b[49m - 0.0236\n",
      "\u001b[101m\u001b[97m 4\u001b[39m\u001b[49m - 0.0234\n",
      "\u001b[101m\u001b[97m 5\u001b[39m\u001b[49m - 0.0220\n",
      "\u001b[101m\u001b[97m 9\u001b[39m\u001b[49m - 0.0218\n",
      "\u001b[101m\u001b[97m 10\u001b[39m\u001b[49m - 0.0204\n",
      "\u001b[101m\u001b[97m 6\u001b[39m\u001b[49m - 0.0198\n",
      "\u001b[101m\u001b[97m 8\u001b[39m\u001b[49m - 0.0196\n",
      "\u001b[101m\u001b[97m 50\u001b[39m\u001b[49m - 0.0190\n",
      "\u001b[101m\u001b[97m 7\u001b[39m\u001b[49m - 0.0138\n",
      "\u001b[101m\u001b[97m 12\u001b[39m\u001b[49m - 0.0137\n",
      "\u001b[101m\u001b[97m 23\u001b[39m\u001b[49m - 0.0130\n",
      "\u001b[101m\u001b[97m between\u001b[39m\u001b[49m - 0.0130\n",
      "\u001b[101m\u001b[97m 13\u001b[39m\u001b[49m - 0.0125\n",
      "\u001b[101m\u001b[97m -\u001b[39m\u001b[49m - 0.0120\n",
      "\u001b[101m\u001b[97m 11\u001b[39m\u001b[49m - 0.0103\n",
      "\u001b[101m\u001b[97m 42\u001b[39m\u001b[49m - 0.0101\n",
      "\u001b[48;5;88m\u001b[97m 60\u001b[39m\u001b[49m - 0.0097\n",
      "\u001b[48;5;88m\u001b[97m 25\u001b[39m\u001b[49m - 0.0089\n",
      "\u001b[48;5;88m\u001b[97m 15\u001b[39m\u001b[49m - 0.0088\n",
      "\u001b[48;5;88m\u001b[97m 33\u001b[39m\u001b[49m - 0.0087\n",
      "\u001b[48;5;88m\u001b[97m:\u001b[39m\u001b[49m - 0.0086\n",
      "\u001b[48;5;88m\u001b[97m 30\u001b[39m\u001b[49m - 0.0085\n",
      "\u001b[48;5;88m\u001b[97m 65\u001b[39m\u001b[49m - 0.0084\n",
      "\u001b[48;5;88m\u001b[97m 75\u001b[39m\u001b[49m - 0.0084\n",
      "\u001b[48;5;88m\u001b[97m 40\u001b[39m\u001b[49m - 0.0079\n",
      "\u001b[48;5;88m\u001b[97m 17\u001b[39m\u001b[49m - 0.0078\n",
      "\u001b[48;5;88m\u001b[97m 14\u001b[39m\u001b[49m - 0.0077\n",
      "\u001b[48;5;88m\u001b[97m one\u001b[39m\u001b[49m - 0.0076\n",
      "\u001b[48;5;88m\u001b[97m 19\u001b[39m\u001b[49m - 0.0075\n",
      "\u001b[48;5;88m\u001b[97m 22\u001b[39m\u001b[49m - 0.0072\n",
      "\u001b[48;5;88m\u001b[97m 45\u001b[39m\u001b[49m - 0.0070\n",
      "\u001b[48;5;88m\u001b[97m 80\u001b[39m\u001b[49m - 0.0065\n",
      "\u001b[48;5;88m\u001b[97m 81\u001b[39m\u001b[49m - 0.0062\n",
      "\u001b[48;5;88m\u001b[97m 32\u001b[39m\u001b[49m - 0.0062\n",
      "\u001b[48;5;88m\u001b[97m 18\u001b[39m\u001b[49m - 0.0060\n",
      "\u001b[48;5;88m\u001b[97m 27\u001b[39m\u001b[49m - 0.0058\n",
      "\u001b[48;5;88m\u001b[97m 16\u001b[39m\u001b[49m - 0.0057\n",
      "\u001b[48;5;88m\u001b[97m three\u001b[39m\u001b[49m - 0.0056\n",
      "\u001b[48;5;88m\u001b[97m 49\u001b[39m\u001b[49m - 0.0055\n",
      "\u001b[48;5;88m\u001b[97m the\u001b[39m\u001b[49m - 0.0055\n",
      "\u001b[48;5;88m\u001b[97m 99\u001b[39m\u001b[49m - 0.0055\n",
      "\u001b[48;5;88m\u001b[97m 34\u001b[39m\u001b[49m - 0.0054\n",
      "\u001b[48;5;88m\u001b[97m 21\u001b[39m\u001b[49m - 0.0054\n",
      "\u001b[48;5;88m\u001b[97m a\u001b[39m\u001b[49m - 0.0051\n"
     ]
    }
   ],
   "source": [
    "toks_base, tok_probs_base = output_probs(model_sft, text, tokenizer)"
   ]
  },
  {
   "cell_type": "code",
   "execution_count": 186,
   "id": "d0ceb7a4-322b-48da-a4ae-046316892ab3",
   "metadata": {},
   "outputs": [
    {
     "name": "stderr",
     "output_type": "stream",
     "text": [
      "Setting `pad_token_id` to `eos_token_id`:0 for open-end generation.\n"
     ]
    },
    {
     "name": "stdout",
     "output_type": "stream",
     "text": [
      "\u001b[101m\u001b[97m 100\u001b[39m\u001b[49m - 0.0434\n",
      "\u001b[101m\u001b[97m 3\u001b[39m\u001b[49m - 0.0398\n",
      "\u001b[101m\u001b[97m \"\u001b[39m\u001b[49m - 0.0288\n",
      "\u001b[101m\u001b[97m 1\u001b[39m\u001b[49m - 0.0276\n",
      "\u001b[101m\u001b[97m 50\u001b[39m\u001b[49m - 0.0263\n",
      "\u001b[101m\u001b[97m 0\u001b[39m\u001b[49m - 0.0258\n",
      "\u001b[101m\u001b[97m 20\u001b[39m\u001b[49m - 0.0249\n",
      "\u001b[101m\u001b[97m 2\u001b[39m\u001b[49m - 0.0197\n",
      "\u001b[101m\u001b[97m 4\u001b[39m\u001b[49m - 0.0189\n",
      "\u001b[101m\u001b[97m 9\u001b[39m\u001b[49m - 0.0185\n",
      "\u001b[101m\u001b[97m 5\u001b[39m\u001b[49m - 0.0177\n",
      "\u001b[101m\u001b[97m 10\u001b[39m\u001b[49m - 0.0174\n",
      "\u001b[101m\u001b[97m 8\u001b[39m\u001b[49m - 0.0168\n",
      "\u001b[101m\u001b[97m 23\u001b[39m\u001b[49m - 0.0167\n",
      "\u001b[101m\u001b[97m 6\u001b[39m\u001b[49m - 0.0165\n",
      "\u001b[101m\u001b[97m 75\u001b[39m\u001b[49m - 0.0152\n",
      "\u001b[101m\u001b[97m 65\u001b[39m\u001b[49m - 0.0141\n",
      "\u001b[101m\u001b[97m 33\u001b[39m\u001b[49m - 0.0138\n",
      "\u001b[101m\u001b[97m 60\u001b[39m\u001b[49m - 0.0124\n",
      "\u001b[101m\u001b[97m 42\u001b[39m\u001b[49m - 0.0122\n",
      "\u001b[101m\u001b[97m 13\u001b[39m\u001b[49m - 0.0122\n",
      "\u001b[101m\u001b[97m between\u001b[39m\u001b[49m - 0.0121\n",
      "\u001b[101m\u001b[97m 25\u001b[39m\u001b[49m - 0.0113\n",
      "\u001b[101m\u001b[97m 12\u001b[39m\u001b[49m - 0.0112\n",
      "\u001b[101m\u001b[97m 81\u001b[39m\u001b[49m - 0.0103\n",
      "\u001b[101m\u001b[97m -\u001b[39m\u001b[49m - 0.0101\n",
      "\u001b[48;5;88m\u001b[97m 30\u001b[39m\u001b[49m - 0.0098\n",
      "\u001b[48;5;88m\u001b[97m 45\u001b[39m\u001b[49m - 0.0098\n",
      "\u001b[48;5;88m\u001b[97m 40\u001b[39m\u001b[49m - 0.0091\n",
      "\u001b[48;5;88m\u001b[97m 7\u001b[39m\u001b[49m - 0.0090\n",
      "\u001b[48;5;88m\u001b[97m 32\u001b[39m\u001b[49m - 0.0090\n",
      "\u001b[48;5;88m\u001b[97m 15\u001b[39m\u001b[49m - 0.0089\n",
      "\u001b[48;5;88m\u001b[97m 34\u001b[39m\u001b[49m - 0.0088\n",
      "\u001b[48;5;88m\u001b[97m 17\u001b[39m\u001b[49m - 0.0085\n",
      "\u001b[48;5;88m\u001b[97m 19\u001b[39m\u001b[49m - 0.0084\n",
      "\u001b[48;5;88m\u001b[97m 49\u001b[39m\u001b[49m - 0.0084\n",
      "\u001b[48;5;88m\u001b[97m 22\u001b[39m\u001b[49m - 0.0082\n",
      "\u001b[48;5;88m\u001b[97m 80\u001b[39m\u001b[49m - 0.0081\n",
      "\u001b[48;5;88m\u001b[97m “\u001b[39m\u001b[49m - 0.0079\n",
      "\u001b[48;5;88m\u001b[97m:\u001b[39m\u001b[49m - 0.0072\n",
      "\u001b[48;5;88m\u001b[97m 78\u001b[39m\u001b[49m - 0.0070\n",
      "\u001b[48;5;88m\u001b[97m 35\u001b[39m\u001b[49m - 0.0070\n",
      "\u001b[48;5;88m\u001b[97m 63\u001b[39m\u001b[49m - 0.0068\n",
      "\u001b[48;5;88m\u001b[97m 85\u001b[39m\u001b[49m - 0.0068\n",
      "\u001b[48;5;88m\u001b[97m 11\u001b[39m\u001b[49m - 0.0067\n",
      "\u001b[48;5;88m\u001b[97m 43\u001b[39m\u001b[49m - 0.0067\n",
      "\u001b[48;5;88m\u001b[97m 14\u001b[39m\u001b[49m - 0.0067\n",
      "\u001b[48;5;88m\u001b[97m 83\u001b[39m\u001b[49m - 0.0065\n",
      "\u001b[48;5;88m\u001b[97m 73\u001b[39m\u001b[49m - 0.0062\n",
      "\u001b[48;5;88m\u001b[97m 27\u001b[39m\u001b[49m - 0.0061\n"
     ]
    }
   ],
   "source": [
    "toks_base, tok_probs_base = output_probs(model_dpo, text, tokenizer)"
   ]
  },
  {
   "cell_type": "markdown",
   "id": "b48cb2ae-1e40-40d2-b061-895b20f69ce3",
   "metadata": {},
   "source": [
    "#### 6 sided die"
   ]
  },
  {
   "cell_type": "code",
   "execution_count": 187,
   "id": "ba5e643e-a712-439d-a7a1-6f51737c7a5d",
   "metadata": {},
   "outputs": [],
   "source": [
    "text = \"Q: I've just rolled a fair d6 (6 sided die). Please look at the result and tell me what number came up. \\\n",
    "A: The number that came up was \\\"\""
   ]
  },
  {
   "cell_type": "code",
   "execution_count": 188,
   "id": "6bcd5b9c-6e8a-40fe-968c-c1c4a111cc99",
   "metadata": {},
   "outputs": [
    {
     "name": "stderr",
     "output_type": "stream",
     "text": [
      "Setting `pad_token_id` to `eos_token_id`:0 for open-end generation.\n"
     ]
    },
    {
     "name": "stdout",
     "output_type": "stream",
     "text": [
      "\u001b[48;2;255;120;0m6\u001b[49m - 0.1139\n",
      "\u001b[41m\u001b[97m1\u001b[39m\u001b[49m - 0.0820\n",
      "\u001b[41m\u001b[97m0\u001b[39m\u001b[49m - 0.0543\n",
      "\u001b[101m\u001b[97m2\u001b[39m\u001b[49m - 0.0484\n",
      "\u001b[101m\u001b[97m3\u001b[39m\u001b[49m - 0.0467\n",
      "\u001b[101m\u001b[97m7\u001b[39m\u001b[49m - 0.0446\n",
      "\u001b[101m\u001b[97m4\u001b[39m\u001b[49m - 0.0383\n",
      "\u001b[101m\u001b[97m5\u001b[39m\u001b[49m - 0.0369\n",
      "\u001b[101m\u001b[97ma\u001b[39m\u001b[49m - 0.0260\n",
      "\u001b[101m\u001b[97m9\u001b[39m\u001b[49m - 0.0256\n",
      "\u001b[101m\u001b[97m8\u001b[39m\u001b[49m - 0.0219\n",
      "\u001b[101m\u001b[97mA\u001b[39m\u001b[49m - 0.0215\n",
      "\u001b[101m\u001b[97md\u001b[39m\u001b[49m - 0.0176\n",
      "\u001b[101m\u001b[97m12\u001b[39m\u001b[49m - 0.0152\n",
      "\u001b[101m\u001b[97m10\u001b[39m\u001b[49m - 0.0114\n",
      "\u001b[101m\u001b[97m11\u001b[39m\u001b[49m - 0.0104\n",
      "\u001b[101m\u001b[97mD\u001b[39m\u001b[49m - 0.0102\n",
      "\u001b[48;5;88m\u001b[97mb\u001b[39m\u001b[49m - 0.0070\n",
      "\u001b[48;5;88m\u001b[97m13\u001b[39m\u001b[49m - 0.0069\n",
      "\u001b[48;5;88m\u001b[97mB\u001b[39m\u001b[49m - 0.0053\n",
      "\u001b[48;5;88m\u001b[97m100\u001b[39m\u001b[49m - 0.0051\n",
      "\u001b[48;5;88m\u001b[97m16\u001b[39m\u001b[49m - 0.0046\n",
      "\u001b[48;5;88m\u001b[97mn\u001b[39m\u001b[49m - 0.0043\n",
      "\u001b[48;5;88m\u001b[97mC\u001b[39m\u001b[49m - 0.0042\n",
      "\u001b[48;5;88m\u001b[97mx\u001b[39m\u001b[49m - 0.0041\n",
      "\u001b[48;5;88m\u001b[97m14\u001b[39m\u001b[49m - 0.0040\n",
      "\u001b[48;5;88m\u001b[97mE\u001b[39m\u001b[49m - 0.0035\n",
      "\u001b[48;5;88m\u001b[97m00\u001b[39m\u001b[49m - 0.0034\n",
      "\u001b[48;5;88m\u001b[97mF\u001b[39m\u001b[49m - 0.0034\n",
      "\u001b[48;5;88m\u001b[97mX\u001b[39m\u001b[49m - 0.0033\n",
      "\u001b[48;5;88m\u001b[97m15\u001b[39m\u001b[49m - 0.0032\n",
      "\u001b[48;5;88m\u001b[97mf\u001b[39m\u001b[49m - 0.0030\n",
      "\u001b[48;5;88m\u001b[97m20\u001b[39m\u001b[49m - 0.0029\n",
      "\u001b[48;5;88m\u001b[97ms\u001b[39m\u001b[49m - 0.0027\n",
      "\u001b[48;5;88m\u001b[97mc\u001b[39m\u001b[49m - 0.0025\n",
      "\u001b[48;5;88m\u001b[97mN\u001b[39m\u001b[49m - 0.0024\n",
      "\u001b[48;5;88m\u001b[97me\u001b[39m\u001b[49m - 0.0023\n",
      "\u001b[48;5;88m\u001b[97m18\u001b[39m\u001b[49m - 0.0023\n",
      "\u001b[48;5;88m\u001b[97m60\u001b[39m\u001b[49m - 0.0022\n",
      "\u001b[48;5;88m\u001b[97m99\u001b[39m\u001b[49m - 0.0022\n",
      "\u001b[48;5;88m\u001b[97m42\u001b[39m\u001b[49m - 0.0022\n",
      "\u001b[48;5;88m\u001b[97mO\u001b[39m\u001b[49m - 0.0021\n",
      "\u001b[48;5;88m\u001b[97m17\u001b[39m\u001b[49m - 0.0021\n",
      "\u001b[48;5;88m\u001b[97mI\u001b[39m\u001b[49m - 0.0020\n",
      "\u001b[48;5;88m\u001b[97m72\u001b[39m\u001b[49m - 0.0020\n",
      "\u001b[48;5;88m\u001b[97m101\u001b[39m\u001b[49m - 0.0020\n",
      "\u001b[48;5;88m\u001b[97mS\u001b[39m\u001b[49m - 0.0019\n",
      "\u001b[48;5;88m\u001b[97m24\u001b[39m\u001b[49m - 0.0018\n",
      "\u001b[48;5;88m\u001b[97m34\u001b[39m\u001b[49m - 0.0017\n",
      "\u001b[48;5;88m\u001b[97m36\u001b[39m\u001b[49m - 0.0017\n"
     ]
    }
   ],
   "source": [
    "toks_base, tok_probs_base = output_probs(model_base, text, tokenizer)"
   ]
  },
  {
   "cell_type": "code",
   "execution_count": 189,
   "id": "d4d0b390-21b7-40bd-a0e3-96950474c413",
   "metadata": {},
   "outputs": [
    {
     "name": "stderr",
     "output_type": "stream",
     "text": [
      "Setting `pad_token_id` to `eos_token_id`:0 for open-end generation.\n"
     ]
    },
    {
     "name": "stdout",
     "output_type": "stream",
     "text": [
      "\u001b[48;2;255;120;0m6\u001b[49m - 0.1338\n",
      "\u001b[41m\u001b[97m1\u001b[39m\u001b[49m - 0.0660\n",
      "\u001b[41m\u001b[97m3\u001b[39m\u001b[49m - 0.0586\n",
      "\u001b[41m\u001b[97m7\u001b[39m\u001b[49m - 0.0531\n",
      "\u001b[101m\u001b[97m4\u001b[39m\u001b[49m - 0.0447\n",
      "\u001b[101m\u001b[97m2\u001b[39m\u001b[49m - 0.0439\n",
      "\u001b[101m\u001b[97m5\u001b[39m\u001b[49m - 0.0398\n",
      "\u001b[101m\u001b[97m0\u001b[39m\u001b[49m - 0.0391\n",
      "\u001b[101m\u001b[97m9\u001b[39m\u001b[49m - 0.0337\n",
      "\u001b[101m\u001b[97m8\u001b[39m\u001b[49m - 0.0267\n",
      "\u001b[101m\u001b[97m12\u001b[39m\u001b[49m - 0.0233\n",
      "\u001b[101m\u001b[97ma\u001b[39m\u001b[49m - 0.0157\n",
      "\u001b[101m\u001b[97md\u001b[39m\u001b[49m - 0.0153\n",
      "\u001b[101m\u001b[97m11\u001b[39m\u001b[49m - 0.0133\n",
      "\u001b[101m\u001b[97mA\u001b[39m\u001b[49m - 0.0124\n",
      "\u001b[101m\u001b[97m10\u001b[39m\u001b[49m - 0.0118\n",
      "\u001b[48;5;88m\u001b[97m13\u001b[39m\u001b[49m - 0.0100\n",
      "\u001b[48;5;88m\u001b[97m100\u001b[39m\u001b[49m - 0.0088\n",
      "\u001b[48;5;88m\u001b[97m16\u001b[39m\u001b[49m - 0.0067\n",
      "\u001b[48;5;88m\u001b[97mD\u001b[39m\u001b[49m - 0.0063\n",
      "\u001b[48;5;88m\u001b[97m14\u001b[39m\u001b[49m - 0.0053\n",
      "\u001b[48;5;88m\u001b[97m15\u001b[39m\u001b[49m - 0.0050\n",
      "\u001b[48;5;88m\u001b[97mb\u001b[39m\u001b[49m - 0.0050\n",
      "\u001b[48;5;88m\u001b[97m20\u001b[39m\u001b[49m - 0.0042\n",
      "\u001b[48;5;88m\u001b[97m36\u001b[39m\u001b[49m - 0.0035\n",
      "\u001b[48;5;88m\u001b[97mB\u001b[39m\u001b[49m - 0.0033\n",
      "\u001b[48;5;88m\u001b[97m18\u001b[39m\u001b[49m - 0.0032\n",
      "\u001b[48;5;88m\u001b[97m60\u001b[39m\u001b[49m - 0.0031\n",
      "\u001b[48;5;88m\u001b[97m101\u001b[39m\u001b[49m - 0.0031\n",
      "\u001b[48;5;88m\u001b[97m00\u001b[39m\u001b[49m - 0.0030\n",
      "\u001b[48;5;88m\u001b[97m42\u001b[39m\u001b[49m - 0.0030\n",
      "\u001b[48;5;88m\u001b[97m99\u001b[39m\u001b[49m - 0.0029\n",
      "\u001b[48;5;88m\u001b[97m24\u001b[39m\u001b[49m - 0.0029\n",
      "\u001b[48;5;88m\u001b[97m34\u001b[39m\u001b[49m - 0.0029\n",
      "\u001b[48;5;88m\u001b[97mf\u001b[39m\u001b[49m - 0.0028\n",
      "\u001b[48;5;88m\u001b[97m50\u001b[39m\u001b[49m - 0.0027\n",
      "\u001b[48;5;88m\u001b[97m72\u001b[39m\u001b[49m - 0.0027\n",
      "\u001b[48;5;88m\u001b[97mE\u001b[39m\u001b[49m - 0.0027\n",
      "\u001b[48;5;88m\u001b[97m64\u001b[39m\u001b[49m - 0.0026\n",
      "\u001b[48;5;88m\u001b[97m17\u001b[39m\u001b[49m - 0.0026\n",
      "\u001b[48;5;88m\u001b[97mF\u001b[39m\u001b[49m - 0.0025\n",
      "\u001b[48;5;88m\u001b[97mC\u001b[39m\u001b[49m - 0.0024\n",
      "\u001b[48;5;88m\u001b[97mn\u001b[39m\u001b[49m - 0.0024\n",
      "\u001b[48;5;88m\u001b[97m45\u001b[39m\u001b[49m - 0.0024\n",
      "\u001b[48;5;88m\u001b[97ms\u001b[39m\u001b[49m - 0.0023\n",
      "\u001b[48;5;88m\u001b[97m52\u001b[39m\u001b[49m - 0.0022\n",
      "\u001b[48;5;88m\u001b[97m21\u001b[39m\u001b[49m - 0.0022\n",
      "\u001b[48;5;88m\u001b[97m32\u001b[39m\u001b[49m - 0.0020\n",
      "\u001b[48;5;88m\u001b[97mc\u001b[39m\u001b[49m - 0.0020\n",
      "\u001b[48;5;88m\u001b[97m37\u001b[39m\u001b[49m - 0.0020\n"
     ]
    }
   ],
   "source": [
    "toks_sft, tok_probs_sft = output_probs(model_sft, text, tokenizer)"
   ]
  },
  {
   "cell_type": "code",
   "execution_count": 190,
   "id": "e80de942-d484-45f7-a53b-9b2f37afc509",
   "metadata": {},
   "outputs": [
    {
     "name": "stderr",
     "output_type": "stream",
     "text": [
      "Setting `pad_token_id` to `eos_token_id`:0 for open-end generation.\n"
     ]
    },
    {
     "name": "stdout",
     "output_type": "stream",
     "text": [
      "\u001b[48;2;255;150;50m6\u001b[49m - 0.2003\n",
      "\u001b[41m\u001b[97m1\u001b[39m\u001b[49m - 0.0682\n",
      "\u001b[41m\u001b[97m7\u001b[39m\u001b[49m - 0.0680\n",
      "\u001b[41m\u001b[97m3\u001b[39m\u001b[49m - 0.0672\n",
      "\u001b[41m\u001b[97m5\u001b[39m\u001b[49m - 0.0542\n",
      "\u001b[41m\u001b[97m2\u001b[39m\u001b[49m - 0.0504\n",
      "\u001b[101m\u001b[97m4\u001b[39m\u001b[49m - 0.0459\n",
      "\u001b[101m\u001b[97m9\u001b[39m\u001b[49m - 0.0411\n",
      "\u001b[101m\u001b[97m8\u001b[39m\u001b[49m - 0.0312\n",
      "\u001b[101m\u001b[97m0\u001b[39m\u001b[49m - 0.0242\n",
      "\u001b[101m\u001b[97m12\u001b[39m\u001b[49m - 0.0222\n",
      "\u001b[101m\u001b[97m11\u001b[39m\u001b[49m - 0.0128\n",
      "\u001b[101m\u001b[97m10\u001b[39m\u001b[49m - 0.0127\n",
      "\u001b[101m\u001b[97mA\u001b[39m\u001b[49m - 0.0116\n",
      "\u001b[101m\u001b[97md\u001b[39m\u001b[49m - 0.0107\n",
      "\u001b[48;5;88m\u001b[97m100\u001b[39m\u001b[49m - 0.0094\n",
      "\u001b[48;5;88m\u001b[97ma\u001b[39m\u001b[49m - 0.0091\n",
      "\u001b[48;5;88m\u001b[97m13\u001b[39m\u001b[49m - 0.0087\n",
      "\u001b[48;5;88m\u001b[97m16\u001b[39m\u001b[49m - 0.0060\n",
      "\u001b[48;5;88m\u001b[97mb\u001b[39m\u001b[49m - 0.0046\n",
      "\u001b[48;5;88m\u001b[97mD\u001b[39m\u001b[49m - 0.0040\n",
      "\u001b[48;5;88m\u001b[97m15\u001b[39m\u001b[49m - 0.0039\n",
      "\u001b[48;5;88m\u001b[97m101\u001b[39m\u001b[49m - 0.0031\n",
      "\u001b[48;5;88m\u001b[97m20\u001b[39m\u001b[49m - 0.0031\n",
      "\u001b[48;5;88m\u001b[97m14\u001b[39m\u001b[49m - 0.0030\n",
      "\u001b[48;5;88m\u001b[97mE\u001b[39m\u001b[49m - 0.0029\n",
      "\u001b[48;5;88m\u001b[97mB\u001b[39m\u001b[49m - 0.0028\n",
      "\u001b[48;5;88m\u001b[97m50\u001b[39m\u001b[49m - 0.0027\n",
      "\u001b[48;5;88m\u001b[97m36\u001b[39m\u001b[49m - 0.0026\n",
      "\u001b[48;5;88m\u001b[97m99\u001b[39m\u001b[49m - 0.0025\n",
      "\u001b[48;5;88m\u001b[97mX\u001b[39m\u001b[49m - 0.0023\n",
      "\u001b[48;5;88m\u001b[97mn\u001b[39m\u001b[49m - 0.0023\n",
      "\u001b[48;5;88m\u001b[97m64\u001b[39m\u001b[49m - 0.0022\n",
      "\u001b[48;5;88m\u001b[97m34\u001b[39m\u001b[49m - 0.0022\n",
      "\u001b[48;5;88m\u001b[97m18\u001b[39m\u001b[49m - 0.0022\n",
      "\u001b[48;5;88m\u001b[97m60\u001b[39m\u001b[49m - 0.0021\n",
      "\u001b[48;5;88m\u001b[97mF\u001b[39m\u001b[49m - 0.0021\n",
      "\u001b[48;5;88m\u001b[97m00\u001b[39m\u001b[49m - 0.0021\n",
      "\u001b[48;5;88m\u001b[97m24\u001b[39m\u001b[49m - 0.0019\n",
      "\u001b[48;5;88m\u001b[97m52\u001b[39m\u001b[49m - 0.0019\n",
      "\u001b[48;5;88m\u001b[97m72\u001b[39m\u001b[49m - 0.0018\n",
      "\u001b[48;5;88m\u001b[97m999\u001b[39m\u001b[49m - 0.0018\n",
      "\u001b[48;5;88m\u001b[97m17\u001b[39m\u001b[49m - 0.0018\n",
      "\u001b[48;5;88m\u001b[97mf\u001b[39m\u001b[49m - 0.0017\n",
      "\u001b[48;5;88m\u001b[97m51\u001b[39m\u001b[49m - 0.0017\n",
      "\u001b[48;5;88m\u001b[97m123\u001b[39m\u001b[49m - 0.0017\n",
      "\u001b[48;5;88m\u001b[97m66\u001b[39m\u001b[49m - 0.0016\n",
      "\u001b[48;5;88m\u001b[97m65\u001b[39m\u001b[49m - 0.0016\n",
      "\u001b[48;5;88m\u001b[97mC\u001b[39m\u001b[49m - 0.0016\n",
      "\u001b[48;5;88m\u001b[97modd\u001b[39m\u001b[49m - 0.0016\n"
     ]
    }
   ],
   "source": [
    "toks_dpo, tok_probs_dpo = output_probs(model_dpo, text, tokenizer)"
   ]
  },
  {
   "cell_type": "code",
   "execution_count": 191,
   "id": "7581e171-149e-4d05-9018-980cb8f9bd97",
   "metadata": {},
   "outputs": [
    {
     "data": {
      "text/plain": [
       "(0.0, 0.2)"
      ]
     },
     "execution_count": 191,
     "metadata": {},
     "output_type": "execute_result"
    },
    {
     "data": {
      "image/png": "[encoded data removed]",
      "text/plain": [
       "<Figure size 640x480 with 1 Axes>"
      ]
     },
     "metadata": {},
     "output_type": "display_data"
    }
   ],
   "source": [
    "plt.plot([tokenizer.decode(toks_sft[i]) for i in range(len(toks_base))], tok_probs_base)\n",
    "plt.plot([tokenizer.decode(toks_sft[i]) for i in range(len(toks_sft))], tok_probs_sft)\n",
    "plt.plot([tokenizer.decode(toks_sft[i]) for i in range(len(toks_dpo))], tok_probs_dpo)\n",
    "plt.ylim((0,0.2))"
   ]
  },
  {
   "cell_type": "markdown",
   "id": "d4973595-8a60-49e4-8ddb-0feeb4c41686",
   "metadata": {},
   "source": [
    "#### rephrase"
   ]
  },
  {
   "cell_type": "code",
   "execution_count": 192,
   "id": "77c25617-c080-4329-b415-83d8522b16ee",
   "metadata": {},
   "outputs": [],
   "source": [
    "text = \"Q: I've just rolled a fair d100 (100 sided die). \\\n",
    "Please look at the result and tell me what number came up. \\\n",
    "A: The number that came up was \\\"\""
   ]
  },
  {
   "cell_type": "code",
   "execution_count": 193,
   "id": "c83701a4-be26-4211-8d61-00a5da0a0da5",
   "metadata": {},
   "outputs": [
    {
     "name": "stderr",
     "output_type": "stream",
     "text": [
      "Setting `pad_token_id` to `eos_token_id`:0 for open-end generation.\n"
     ]
    },
    {
     "name": "stdout",
     "output_type": "stream",
     "text": [
      "\u001b[48;2;255;120;0m1\u001b[49m - 0.1039\n",
      "\u001b[41m\u001b[97m0\u001b[39m\u001b[49m - 0.0806\n",
      "\u001b[41m\u001b[97m2\u001b[39m\u001b[49m - 0.0583\n",
      "\u001b[101m\u001b[97m3\u001b[39m\u001b[49m - 0.0434\n",
      "\u001b[101m\u001b[97m4\u001b[39m\u001b[49m - 0.0277\n",
      "\u001b[101m\u001b[97m9\u001b[39m\u001b[49m - 0.0240\n",
      "\u001b[101m\u001b[97m100\u001b[39m\u001b[49m - 0.0237\n",
      "\u001b[101m\u001b[97m6\u001b[39m\u001b[49m - 0.0235\n",
      "\u001b[101m\u001b[97mA\u001b[39m\u001b[49m - 0.0228\n",
      "\u001b[101m\u001b[97m5\u001b[39m\u001b[49m - 0.0212\n",
      "\u001b[101m\u001b[97m7\u001b[39m\u001b[49m - 0.0205\n",
      "\u001b[101m\u001b[97m10\u001b[39m\u001b[49m - 0.0164\n",
      "\u001b[101m\u001b[97m8\u001b[39m\u001b[49m - 0.0150\n",
      "\u001b[101m\u001b[97m12\u001b[39m\u001b[49m - 0.0145\n",
      "\u001b[101m\u001b[97m11\u001b[39m\u001b[49m - 0.0115\n",
      "\u001b[101m\u001b[97ma\u001b[39m\u001b[49m - 0.0101\n",
      "\u001b[48;5;88m\u001b[97m13\u001b[39m\u001b[49m - 0.0092\n",
      "\u001b[48;5;88m\u001b[97mX\u001b[39m\u001b[49m - 0.0076\n",
      "\u001b[48;5;88m\u001b[97m20\u001b[39m\u001b[49m - 0.0061\n",
      "\u001b[48;5;88m\u001b[97m14\u001b[39m\u001b[49m - 0.0059\n"
     ]
    }
   ],
   "source": [
    "toks_base, tok_probs_base = output_probs(model_base, text, tokenizer, n=20)"
   ]
  },
  {
   "cell_type": "code",
   "execution_count": 194,
   "id": "651fbc38-90f8-4697-a314-0a9806230dff",
   "metadata": {},
   "outputs": [
    {
     "name": "stderr",
     "output_type": "stream",
     "text": [
      "Setting `pad_token_id` to `eos_token_id`:0 for open-end generation.\n"
     ]
    },
    {
     "name": "stdout",
     "output_type": "stream",
     "text": [
      "\u001b[41m\u001b[97m1\u001b[39m\u001b[49m - 0.0766\n",
      "\u001b[41m\u001b[97m0\u001b[39m\u001b[49m - 0.0572\n",
      "\u001b[41m\u001b[97m2\u001b[39m\u001b[49m - 0.0513\n",
      "\u001b[41m\u001b[97m3\u001b[39m\u001b[49m - 0.0507\n",
      "\u001b[101m\u001b[97m100\u001b[39m\u001b[49m - 0.0365\n",
      "\u001b[101m\u001b[97m9\u001b[39m\u001b[49m - 0.0353\n",
      "\u001b[101m\u001b[97m4\u001b[39m\u001b[49m - 0.0341\n",
      "\u001b[101m\u001b[97m6\u001b[39m\u001b[49m - 0.0298\n",
      "\u001b[101m\u001b[97m7\u001b[39m\u001b[49m - 0.0274\n",
      "\u001b[101m\u001b[97m5\u001b[39m\u001b[49m - 0.0251\n",
      "\u001b[101m\u001b[97m12\u001b[39m\u001b[49m - 0.0221\n",
      "\u001b[101m\u001b[97m8\u001b[39m\u001b[49m - 0.0211\n",
      "\u001b[101m\u001b[97m10\u001b[39m\u001b[49m - 0.0173\n",
      "\u001b[101m\u001b[97mA\u001b[39m\u001b[49m - 0.0142\n",
      "\u001b[101m\u001b[97m11\u001b[39m\u001b[49m - 0.0141\n",
      "\u001b[101m\u001b[97m13\u001b[39m\u001b[49m - 0.0139\n",
      "\u001b[48;5;88m\u001b[97m20\u001b[39m\u001b[49m - 0.0094\n",
      "\u001b[48;5;88m\u001b[97m14\u001b[39m\u001b[49m - 0.0089\n",
      "\u001b[48;5;88m\u001b[97m15\u001b[39m\u001b[49m - 0.0087\n",
      "\u001b[48;5;88m\u001b[97m99\u001b[39m\u001b[49m - 0.0079\n"
     ]
    }
   ],
   "source": [
    "toks_base, tok_probs_base = output_probs(model_sft, text, tokenizer, n=20)"
   ]
  },
  {
   "cell_type": "code",
   "execution_count": 195,
   "id": "4a3a6150-9804-4b30-a311-ed6f089dc336",
   "metadata": {},
   "outputs": [
    {
     "name": "stderr",
     "output_type": "stream",
     "text": [
      "Setting `pad_token_id` to `eos_token_id`:0 for open-end generation.\n"
     ]
    },
    {
     "name": "stdout",
     "output_type": "stream",
     "text": [
      "\u001b[41m\u001b[97m1\u001b[39m\u001b[49m - 0.0784\n",
      "\u001b[41m\u001b[97m2\u001b[39m\u001b[49m - 0.0657\n",
      "\u001b[41m\u001b[97m3\u001b[39m\u001b[49m - 0.0607\n",
      "\u001b[101m\u001b[97m9\u001b[39m\u001b[49m - 0.0464\n",
      "\u001b[101m\u001b[97m6\u001b[39m\u001b[49m - 0.0414\n",
      "\u001b[101m\u001b[97m4\u001b[39m\u001b[49m - 0.0405\n",
      "\u001b[101m\u001b[97m100\u001b[39m\u001b[49m - 0.0391\n",
      "\u001b[101m\u001b[97m5\u001b[39m\u001b[49m - 0.0373\n",
      "\u001b[101m\u001b[97m0\u001b[39m\u001b[49m - 0.0364\n",
      "\u001b[101m\u001b[97m7\u001b[39m\u001b[49m - 0.0358\n",
      "\u001b[101m\u001b[97m8\u001b[39m\u001b[49m - 0.0279\n",
      "\u001b[101m\u001b[97m12\u001b[39m\u001b[49m - 0.0260\n",
      "\u001b[101m\u001b[97m10\u001b[39m\u001b[49m - 0.0190\n",
      "\u001b[101m\u001b[97m13\u001b[39m\u001b[49m - 0.0156\n",
      "\u001b[101m\u001b[97m11\u001b[39m\u001b[49m - 0.0154\n",
      "\u001b[101m\u001b[97mA\u001b[39m\u001b[49m - 0.0126\n",
      "\u001b[48;5;88m\u001b[97m16\u001b[39m\u001b[49m - 0.0097\n",
      "\u001b[48;5;88m\u001b[97m15\u001b[39m\u001b[49m - 0.0090\n",
      "\u001b[48;5;88m\u001b[97m20\u001b[39m\u001b[49m - 0.0087\n",
      "\u001b[48;5;88m\u001b[97m99\u001b[39m\u001b[49m - 0.0084\n"
     ]
    }
   ],
   "source": [
    "toks_base, tok_probs_base = output_probs(model_dpo, text, tokenizer, n=20)"
   ]
  },
  {
   "cell_type": "markdown",
   "id": "9898b99d-5b6f-4049-9803-f3865c053ffb",
   "metadata": {},
   "source": [
    "#### randint"
   ]
  },
  {
   "cell_type": "code",
   "execution_count": 196,
   "id": "a2721d0b-0e0a-46a6-beb0-88074e3857de",
   "metadata": {},
   "outputs": [],
   "source": [
    "text = \"Python 3.9.12 (main, Apr 5 2022, 06:56:58)\\\n",
    "[GCC 7.5.0]:: Anaconda, Inc. on linux\\\n",
    "Type \\\"help\\\", \\\"copyright\\\", \\\"credits\\\" or \\\"license\\\" for more information.\\\n",
    ">>> import random\\\n",
    ">>> print(\\\"hello\\\")\\\n",
    "hello\\\n",
    ">>> random.randint(0, 100)\\\n",
    "\""
   ]
  },
  {
   "cell_type": "code",
   "execution_count": 197,
   "id": "c0d8912b-a8d0-4e8b-9267-2a69933436eb",
   "metadata": {},
   "outputs": [
    {
     "name": "stderr",
     "output_type": "stream",
     "text": [
      "Setting `pad_token_id` to `eos_token_id`:0 for open-end generation.\n"
     ]
    },
    {
     "name": "stdout",
     "output_type": "stream",
     "text": [
      "\u001b[48;2;255;150;50m>>>\u001b[49m - 0.2128\n",
      "\u001b[48;2;255;120;0mprint\u001b[49m - 0.1428\n",
      "\u001b[48;2;255;120;0m0\u001b[49m - 0.1015\n",
      "\u001b[41m\u001b[97mrandom\u001b[39m\u001b[49m - 0.0947\n",
      "\u001b[101m\u001b[97m#\u001b[39m\u001b[49m - 0.0484\n",
      "\u001b[101m\u001b[97mhello\u001b[39m\u001b[49m - 0.0343\n",
      "\u001b[101m\u001b[97m1\u001b[39m\u001b[49m - 0.0211\n",
      "\u001b[101m\u001b[97m\\n\u001b[39m\u001b[49m - 0.0135\n",
      "\u001b[101m\u001b[97m2\u001b[39m\u001b[49m - 0.0104\n",
      "\u001b[48;5;88m\u001b[97mHello\u001b[39m\u001b[49m - 0.0092\n",
      "\u001b[48;5;88m\u001b[97m3\u001b[39m\u001b[49m - 0.0084\n",
      "\u001b[48;5;88m\u001b[97m4\u001b[39m\u001b[49m - 0.0064\n",
      "\u001b[48;5;88m\u001b[97m<<\u001b[39m\u001b[49m - 0.0063\n",
      "\u001b[48;5;88m\u001b[97m5\u001b[39m\u001b[49m - 0.0062\n",
      "\u001b[48;5;88m\u001b[97m100\u001b[39m\u001b[49m - 0.0060\n",
      "\u001b[48;5;88m\u001b[97mRandom\u001b[39m\u001b[49m - 0.0056\n",
      "\u001b[48;5;88m\u001b[97m 0\u001b[39m\u001b[49m - 0.0053\n",
      "\u001b[48;5;88m\u001b[97m==\u001b[39m\u001b[49m - 0.0048\n",
      "\u001b[48;5;88m\u001b[97m<|endoftext|>\u001b[39m\u001b[49m - 0.0044\n",
      "\u001b[48;5;88m\u001b[97m::\u001b[39m\u001b[49m - 0.0044\n"
     ]
    }
   ],
   "source": [
    "toks_base, tok_probs_base = output_probs(model_base, text, tokenizer, n=20)"
   ]
  },
  {
   "cell_type": "code",
   "execution_count": 198,
   "id": "8ce18f07-6cfe-4a35-8c54-fce2ddf9b503",
   "metadata": {},
   "outputs": [
    {
     "name": "stderr",
     "output_type": "stream",
     "text": [
      "Setting `pad_token_id` to `eos_token_id`:0 for open-end generation.\n"
     ]
    },
    {
     "name": "stdout",
     "output_type": "stream",
     "text": [
      "\u001b[48;2;255;150;50m>>>\u001b[49m - 0.2128\n",
      "\u001b[48;2;255;120;0mprint\u001b[49m - 0.1428\n",
      "\u001b[48;2;255;120;0m0\u001b[49m - 0.1015\n",
      "\u001b[41m\u001b[97mrandom\u001b[39m\u001b[49m - 0.0947\n",
      "\u001b[101m\u001b[97m#\u001b[39m\u001b[49m - 0.0484\n",
      "\u001b[101m\u001b[97mhello\u001b[39m\u001b[49m - 0.0343\n",
      "\u001b[101m\u001b[97m1\u001b[39m\u001b[49m - 0.0211\n",
      "\u001b[101m\u001b[97m\\n\u001b[39m\u001b[49m - 0.0135\n",
      "\u001b[101m\u001b[97m2\u001b[39m\u001b[49m - 0.0104\n",
      "\u001b[48;5;88m\u001b[97mHello\u001b[39m\u001b[49m - 0.0092\n",
      "\u001b[48;5;88m\u001b[97m3\u001b[39m\u001b[49m - 0.0084\n",
      "\u001b[48;5;88m\u001b[97m4\u001b[39m\u001b[49m - 0.0064\n",
      "\u001b[48;5;88m\u001b[97m<<\u001b[39m\u001b[49m - 0.0063\n",
      "\u001b[48;5;88m\u001b[97m5\u001b[39m\u001b[49m - 0.0062\n",
      "\u001b[48;5;88m\u001b[97m100\u001b[39m\u001b[49m - 0.0060\n",
      "\u001b[48;5;88m\u001b[97mRandom\u001b[39m\u001b[49m - 0.0056\n",
      "\u001b[48;5;88m\u001b[97m 0\u001b[39m\u001b[49m - 0.0053\n",
      "\u001b[48;5;88m\u001b[97m==\u001b[39m\u001b[49m - 0.0048\n",
      "\u001b[48;5;88m\u001b[97m<|endoftext|>\u001b[39m\u001b[49m - 0.0044\n",
      "\u001b[48;5;88m\u001b[97m::\u001b[39m\u001b[49m - 0.0044\n"
     ]
    }
   ],
   "source": [
    "toks_base, tok_probs_base = output_probs(model_base, text, tokenizer, n=20)"
   ]
  },
  {
   "cell_type": "code",
   "execution_count": 199,
   "id": "960bc14d-20b1-4770-be67-f7dc451ae6d9",
   "metadata": {
    "scrolled": true
   },
   "outputs": [
    {
     "name": "stderr",
     "output_type": "stream",
     "text": [
      "Setting `pad_token_id` to `eos_token_id`:0 for open-end generation.\n"
     ]
    },
    {
     "name": "stdout",
     "output_type": "stream",
     "text": [
      "\u001b[48;2;255;150;50m>>>\u001b[49m - 0.2128\n",
      "\u001b[48;2;255;120;0mprint\u001b[49m - 0.1428\n",
      "\u001b[48;2;255;120;0m0\u001b[49m - 0.1015\n",
      "\u001b[41m\u001b[97mrandom\u001b[39m\u001b[49m - 0.0947\n",
      "\u001b[101m\u001b[97m#\u001b[39m\u001b[49m - 0.0484\n",
      "\u001b[101m\u001b[97mhello\u001b[39m\u001b[49m - 0.0343\n",
      "\u001b[101m\u001b[97m1\u001b[39m\u001b[49m - 0.0211\n",
      "\u001b[101m\u001b[97m\\n\u001b[39m\u001b[49m - 0.0135\n",
      "\u001b[101m\u001b[97m2\u001b[39m\u001b[49m - 0.0104\n",
      "\u001b[48;5;88m\u001b[97mHello\u001b[39m\u001b[49m - 0.0092\n",
      "\u001b[48;5;88m\u001b[97m3\u001b[39m\u001b[49m - 0.0084\n",
      "\u001b[48;5;88m\u001b[97m4\u001b[39m\u001b[49m - 0.0064\n",
      "\u001b[48;5;88m\u001b[97m<<\u001b[39m\u001b[49m - 0.0063\n",
      "\u001b[48;5;88m\u001b[97m5\u001b[39m\u001b[49m - 0.0062\n",
      "\u001b[48;5;88m\u001b[97m100\u001b[39m\u001b[49m - 0.0060\n",
      "\u001b[48;5;88m\u001b[97mRandom\u001b[39m\u001b[49m - 0.0056\n",
      "\u001b[48;5;88m\u001b[97m 0\u001b[39m\u001b[49m - 0.0053\n",
      "\u001b[48;5;88m\u001b[97m==\u001b[39m\u001b[49m - 0.0048\n",
      "\u001b[48;5;88m\u001b[97m<|endoftext|>\u001b[39m\u001b[49m - 0.0044\n",
      "\u001b[48;5;88m\u001b[97m::\u001b[39m\u001b[49m - 0.0044\n"
     ]
    }
   ],
   "source": [
    "toks_base, tok_probs_base = output_probs(model_base, text, tokenizer, n=20)"
   ]
  },
  {
   "cell_type": "code",
   "execution_count": 103,
   "id": "b35d33f2-2aef-4a4a-b9e5-5d0fd052fea0",
   "metadata": {},
   "outputs": [
    {
     "name": "stderr",
     "output_type": "stream",
     "text": [
      "Setting `pad_token_id` to `eos_token_id`:0 for open-end generation.\n"
     ]
    },
    {
     "name": "stdout",
     "output_type": "stream",
     "text": [
      "\u001b[48;2;255;150;50m>>>\u001b[49m\u001b[48;2;255;150;50m random\u001b[49m\u001b[102m\u001b[97m.\u001b[39m\u001b[49m\u001b[48;2;255;150;50mrand\u001b[49m\u001b[102m\u001b[97mint\u001b[39m\u001b[49m\u001b[102m\u001b[97m(\u001b[39m\u001b[49m\u001b[48;2;153;153;0m0\u001b[49m\u001b[48;5;22m\u001b[97m,\u001b[39m\u001b[49m\u001b[43m 100\u001b[49m\u001b[48;2;153;153;0m)\u001b[49m\u001b[43m>>>\u001b[49m\u001b[43m random\u001b[49m\u001b[102m\u001b[97m.\u001b[39m\u001b[49m\u001b[43mrand\u001b[49m\u001b[102m\u001b[97mint\u001b[39m\u001b[49m\u001b[102m\u001b[97m(\u001b[39m\u001b[49m\u001b[102m\u001b[97m0\u001b[39m\u001b[49m\u001b[48;5;22m\u001b[97m,\u001b[39m\u001b[49m\u001b[48;2;153;153;0m 100\u001b[49m\u001b[42m)\u001b[49m\u001b[48;2;153;153;0m>>>\u001b[49m\u001b[43m random\u001b[49m\u001b[48;5;22m\u001b[97m.\u001b[39m\u001b[49m\u001b[48;2;153;153;0mrand\u001b[49m\u001b[48;5;22m\u001b[97mint\u001b[39m\u001b[49m\u001b[102m\u001b[97m(\u001b[39m\u001b[49m\u001b[102m\u001b[97m0\u001b[39m\u001b[49m\u001b[48;5;22m\u001b[97m,\u001b[39m\u001b[49m\u001b[42m 100\u001b[49m\u001b[42m)\u001b[49m\u001b[48;2;153;153;0m>>>\u001b[49m\u001b[48;2;153;153;0m random\u001b[49m\u001b[48;5;22m\u001b[97m.\u001b[39m\u001b[49m\u001b[42mrand\u001b[49m\u001b[48;5;22m\u001b[97mint\u001b[39m\u001b[49m\u001b[102m\u001b[97m(\u001b[39m\u001b[49m\u001b[102m\u001b[97m0\u001b[39m\u001b[49m\u001b[48;5;22m\u001b[97m,\u001b[39m\u001b[49m\u001b[42m 100\u001b[49m\u001b[102m\u001b[97m)\u001b[39m\u001b[49m\u001b[48;2;153;153;0m>>>\u001b[49m\u001b[48;2;153;153;0m random\u001b[49m\u001b[48;5;22m\u001b[97m.\u001b[39m\u001b[49m\u001b[102m\u001b[97mrand\u001b[39m\u001b[49m\u001b[48;5;22m\u001b[97mint\u001b[39m\u001b[49m\u001b[48;5;22m\u001b[97m(\u001b[39m\u001b[49m\u001b[48;5;22m\u001b[97m0\u001b[39m\u001b[49m\u001b[48;5;22m\u001b[97m,\u001b[39m\u001b[49m\u001b[42m 100\u001b[49m\u001b[102m\u001b[97m)\u001b[39m\u001b[49m\u001b[48;2;153;153;0m>>>\u001b[49m\u001b[48;2;153;153;0m random\u001b[49m\u001b[48;5;22m\u001b[97m.\u001b[39m\u001b[49m\u001b[102m\u001b[97mrand\u001b[39m\u001b[49m\u001b[48;5;22m\u001b[97mint\u001b[39m\u001b[49m\u001b[48;5;22m\u001b[97m(\u001b[39m\u001b[49m\u001b[48;5;22m\u001b[97m0\u001b[39m\u001b[49m\u001b[48;5;22m\u001b[97m,\u001b[39m\u001b[49m\u001b[102m\u001b[97m 100\u001b[39m\u001b[49m\u001b[102m\u001b[97m)\u001b[39m\u001b[49m\u001b[42m>>>\u001b[49m\u001b[48;2;153;153;0m random\u001b[49m\u001b[48;5;22m\u001b[97m.\u001b[39m\u001b[49m\u001b[102m\u001b[97mrand\u001b[39m\u001b[49m\u001b[48;5;22m\u001b[97mint\u001b[39m\u001b[49m\u001b[48;5;22m\u001b[97m(\u001b[39m\u001b[49m\u001b[48;5;22m\u001b[97m0\u001b[39m\u001b[49m\u001b[48;5;22m\u001b[97m,\u001b[39m\u001b[49m\u001b[102m\u001b[97m 100\u001b[39m\u001b[49m\u001b[102m\u001b[97m)\u001b[39m\u001b[49m\u001b[42m>>>\u001b[49m\u001b[42m random\u001b[49m\u001b[48;5;22m\u001b[97m.\u001b[39m\u001b[49m\u001b[48;5;22m\u001b[97mrand\u001b[39m\u001b[49m\u001b[48;5;22m\u001b[97mint\u001b[39m\u001b[49m\u001b[48;5;22m\u001b[97m(\u001b[39m\u001b[49m\u001b[48;5;22m\u001b[97m0\u001b[39m\u001b[49m\u001b[48;5;22m\u001b[97m,\u001b[39m\u001b[49m\u001b[102m\u001b[97m 100\u001b[39m\u001b[49m\u001b[102m\u001b[97m)\u001b[39m\u001b[49m\u001b[42m>>>\u001b[49m\u001b[42m random\u001b[49m\u001b[48;5;22m\u001b[97m.\u001b[39m\u001b[49m\u001b[48;5;22m\u001b[97mrand\u001b[39m\u001b[49m\u001b[48;5;22m\u001b[97mint\u001b[39m\u001b[49m\u001b[48;5;22m\u001b[97m(\u001b[39m\u001b[49m\u001b[48;5;22m\u001b[97m0\u001b[39m\u001b[49m\u001b[48;5;22m\u001b[97m,\u001b[39m\u001b[49m\u001b[102m\u001b[97m 100\u001b[39m\u001b[49m\u001b[102m\u001b[97m)\u001b[39m\u001b[49m\u001b[42m>>>\u001b[49m\u001b[42m random\u001b[49m\u001b[48;5;22m\u001b[97m.\u001b[39m\u001b[49m\u001b[48;5;22m\u001b[97mrand\u001b[39m\u001b[49m\u001b[48;5;22m\u001b[97mint\u001b[39m\u001b[49m\u001b[48;5;22m\u001b[97m(\u001b[39m\u001b[49m\u001b[48;5;22m\u001b[97m0\u001b[39m\u001b[49m\u001b[48;5;22m\u001b[97m,\u001b[39m\u001b[49m\u001b[102m\u001b[97m 100\u001b[39m\u001b[49m\u001b[102m\u001b[97m)\u001b[39m\u001b[49m"
     ]
    }
   ],
   "source": [
    "plot_probability_spectrum(model_base, text, tokenizer)"
   ]
  },
  {
   "cell_type": "code",
   "execution_count": 104,
   "id": "153c8cde-d803-4c4a-87bf-027234c55b96",
   "metadata": {},
   "outputs": [
    {
     "name": "stderr",
     "output_type": "stream",
     "text": [
      "Setting `pad_token_id` to `eos_token_id`:0 for open-end generation.\n"
     ]
    },
    {
     "name": "stdout",
     "output_type": "stream",
     "text": [
      "\u001b[48;2;255;120;0mprint\u001b[49m\u001b[43m(\"\u001b[49m\u001b[48;2;255;120;0mhello\u001b[49m\u001b[43m\")\u001b[49m\u001b[48;2;255;150;50mhello\u001b[49m\u001b[48;2;153;153;0m>>>\u001b[49m\u001b[48;2;255;150;50m random\u001b[49m\u001b[48;5;22m\u001b[97m.\u001b[39m\u001b[49m\u001b[48;2;255;150;50mrand\u001b[49m\u001b[102m\u001b[97mint\u001b[39m\u001b[49m\u001b[102m\u001b[97m(\u001b[39m\u001b[49m\u001b[42m0\u001b[49m\u001b[48;5;22m\u001b[97m,\u001b[39m\u001b[49m\u001b[48;2;153;153;0m 100\u001b[49m\u001b[102m\u001b[97m)\u001b[39m\u001b[49m\u001b[43mprint\u001b[49m\u001b[102m\u001b[97m(\"\u001b[39m\u001b[49m\u001b[102m\u001b[97mhello\u001b[39m\u001b[49m\u001b[48;5;22m\u001b[97m\")\u001b[39m\u001b[49m\u001b[42mhello\u001b[49m\u001b[42m>>>\u001b[49m\u001b[43m random\u001b[49m\u001b[48;5;22m\u001b[97m.\u001b[39m\u001b[49m\u001b[48;2;153;153;0mrand\u001b[49m\u001b[48;5;22m\u001b[97mint\u001b[39m\u001b[49m\u001b[48;5;22m\u001b[97m(\u001b[39m\u001b[49m\u001b[102m\u001b[97m0\u001b[39m\u001b[49m\u001b[48;5;22m\u001b[97m,\u001b[39m\u001b[49m\u001b[102m\u001b[97m 100\u001b[39m\u001b[49m\u001b[48;5;22m\u001b[97m)\u001b[39m\u001b[49m\u001b[102m\u001b[97mprint\u001b[39m\u001b[49m\u001b[48;5;22m\u001b[97m(\"\u001b[39m\u001b[49m\u001b[48;5;22m\u001b[97mhello\u001b[39m\u001b[49m\u001b[48;5;22m\u001b[97m\")\u001b[39m\u001b[49m\u001b[102m\u001b[97mhello\u001b[39m\u001b[49m\u001b[102m\u001b[97m>>>\u001b[39m\u001b[49m\u001b[48;2;153;153;0m random\u001b[49m\u001b[48;5;22m\u001b[97m.\u001b[39m\u001b[49m\u001b[102m\u001b[97mrand\u001b[39m\u001b[49m\u001b[48;5;22m\u001b[97mint\u001b[39m\u001b[49m\u001b[48;5;22m\u001b[97m(\u001b[39m\u001b[49m\u001b[48;5;22m\u001b[97m0\u001b[39m\u001b[49m\u001b[48;5;22m\u001b[97m,\u001b[39m\u001b[49m\u001b[102m\u001b[97m 100\u001b[39m\u001b[49m\u001b[48;5;22m\u001b[97m)\u001b[39m\u001b[49m\u001b[102m\u001b[97mprint\u001b[39m\u001b[49m\u001b[48;5;22m\u001b[97m(\"\u001b[39m\u001b[49m\u001b[48;5;22m\u001b[97mhello\u001b[39m\u001b[49m\u001b[48;5;22m\u001b[97m\")\u001b[39m\u001b[49m\u001b[102m\u001b[97mhello\u001b[39m\u001b[49m\u001b[102m\u001b[97m>>>\u001b[39m\u001b[49m\u001b[48;2;153;153;0m random\u001b[49m\u001b[48;5;22m\u001b[97m.\u001b[39m\u001b[49m\u001b[102m\u001b[97mrand\u001b[39m\u001b[49m\u001b[48;5;22m\u001b[97mint\u001b[39m\u001b[49m\u001b[48;5;22m\u001b[97m(\u001b[39m\u001b[49m\u001b[48;5;22m\u001b[97m0\u001b[39m\u001b[49m\u001b[48;5;22m\u001b[97m,\u001b[39m\u001b[49m\u001b[102m\u001b[97m 100\u001b[39m\u001b[49m\u001b[48;5;22m\u001b[97m)\u001b[39m\u001b[49m\u001b[48;5;22m\u001b[97mprint\u001b[39m\u001b[49m\u001b[48;5;22m\u001b[97m(\"\u001b[39m\u001b[49m\u001b[48;5;22m\u001b[97mhello\u001b[39m\u001b[49m\u001b[48;5;22m\u001b[97m\")\u001b[39m\u001b[49m\u001b[102m\u001b[97mhello\u001b[39m\u001b[49m\u001b[102m\u001b[97m>>>\u001b[39m\u001b[49m\u001b[42m random\u001b[49m\u001b[48;5;22m\u001b[97m.\u001b[39m\u001b[49m\u001b[48;5;22m\u001b[97mrand\u001b[39m\u001b[49m\u001b[48;5;22m\u001b[97mint\u001b[39m\u001b[49m\u001b[48;5;22m\u001b[97m(\u001b[39m\u001b[49m\u001b[48;5;22m\u001b[97m0\u001b[39m\u001b[49m\u001b[48;5;22m\u001b[97m,\u001b[39m\u001b[49m\u001b[102m\u001b[97m 100\u001b[39m\u001b[49m\u001b[48;5;22m\u001b[97m)\u001b[39m\u001b[49m\u001b[48;5;22m\u001b[97mprint\u001b[39m\u001b[49m\u001b[48;5;22m\u001b[97m(\"\u001b[39m\u001b[49m\u001b[48;5;22m\u001b[97mhello\u001b[39m\u001b[49m\u001b[48;5;22m\u001b[97m\")\u001b[39m\u001b[49m\u001b[102m\u001b[97mhello\u001b[39m\u001b[49m\u001b[102m\u001b[97m>>>\u001b[39m\u001b[49m\u001b[42m random\u001b[49m\u001b[48;5;22m\u001b[97m.\u001b[39m\u001b[49m\u001b[48;5;22m\u001b[97mrand\u001b[39m\u001b[49m\u001b[48;5;22m\u001b[97mint\u001b[39m\u001b[49m\u001b[48;5;22m\u001b[97m(\u001b[39m\u001b[49m\u001b[48;5;22m\u001b[97m0\u001b[39m\u001b[49m\u001b[48;5;22m\u001b[97m,\u001b[39m\u001b[49m\u001b[102m\u001b[97m 100\u001b[39m\u001b[49m\u001b[48;5;22m\u001b[97m)\u001b[39m\u001b[49m\u001b[48;5;22m\u001b[97mprint\u001b[39m\u001b[49m\u001b[48;5;22m\u001b[97m(\"\u001b[39m\u001b[49m\u001b[48;5;22m\u001b[97mhello\u001b[39m\u001b[49m\u001b[48;5;22m\u001b[97m\")\u001b[39m\u001b[49m\u001b[102m\u001b[97mhello\u001b[39m\u001b[49m\u001b[102m\u001b[97m>>>\u001b[39m\u001b[49m\u001b[102m\u001b[97m random\u001b[39m\u001b[49m\u001b[48;5;22m\u001b[97m.\u001b[39m\u001b[49m\u001b[48;5;22m\u001b[97mrand\u001b[39m\u001b[49m\u001b[48;5;22m\u001b[97mint\u001b[39m\u001b[49m"
     ]
    }
   ],
   "source": [
    "plot_probability_spectrum(model_sft, text, tokenizer)"
   ]
  },
  {
   "cell_type": "code",
   "execution_count": 105,
   "id": "d6ab2e82-5015-46b8-baee-eb7fac7656b2",
   "metadata": {},
   "outputs": [
    {
     "name": "stderr",
     "output_type": "stream",
     "text": [
      "Setting `pad_token_id` to `eos_token_id`:0 for open-end generation.\n"
     ]
    },
    {
     "name": "stdout",
     "output_type": "stream",
     "text": [
      "\u001b[48;2;255;120;0m>>>\u001b[49m\u001b[48;2;255;150;50m print\u001b[49m\u001b[48;2;153;153;0m(\"\u001b[49m\u001b[48;2;255;120;0mhello\u001b[49m\u001b[43m\")\u001b[49m\u001b[43mhello\u001b[49m\u001b[48;2;153;153;0m>>>\u001b[49m\u001b[43m random\u001b[49m\u001b[48;5;22m\u001b[97m.\u001b[39m\u001b[49m\u001b[43mrand\u001b[49m\u001b[102m\u001b[97mint\u001b[39m\u001b[49m\u001b[102m\u001b[97m(\u001b[39m\u001b[49m\u001b[42m0\u001b[49m\u001b[48;5;22m\u001b[97m,\u001b[39m\u001b[49m\u001b[43m 100\u001b[49m\u001b[102m\u001b[97m)\u001b[39m\u001b[49m\u001b[43m>>>\u001b[49m\u001b[43m print\u001b[49m\u001b[48;5;22m\u001b[97m(\"\u001b[39m\u001b[49m\u001b[102m\u001b[97mhello\u001b[39m\u001b[49m\u001b[48;5;22m\u001b[97m\")\u001b[39m\u001b[49m\u001b[42mhello\u001b[49m\u001b[42m>>>\u001b[49m\u001b[48;2;153;153;0m random\u001b[49m\u001b[48;5;22m\u001b[97m.\u001b[39m\u001b[49m\u001b[42mrand\u001b[49m\u001b[48;5;22m\u001b[97mint\u001b[39m\u001b[49m\u001b[48;5;22m\u001b[97m(\u001b[39m\u001b[49m\u001b[48;5;22m\u001b[97m0\u001b[39m\u001b[49m\u001b[48;5;22m\u001b[97m,\u001b[39m\u001b[49m\u001b[102m\u001b[97m 100\u001b[39m\u001b[49m\u001b[48;5;22m\u001b[97m)\u001b[39m\u001b[49m\u001b[102m\u001b[97m>>>\u001b[39m\u001b[49m\u001b[43m print\u001b[49m\u001b[48;5;22m\u001b[97m(\"\u001b[39m\u001b[49m\u001b[48;5;22m\u001b[97mhello\u001b[39m\u001b[49m\u001b[48;5;22m\u001b[97m\")\u001b[39m\u001b[49m\u001b[102m\u001b[97mhello\u001b[39m\u001b[49m\u001b[102m\u001b[97m>>>\u001b[39m\u001b[49m\u001b[48;2;153;153;0m random\u001b[49m\u001b[48;5;22m\u001b[97m.\u001b[39m\u001b[49m\u001b[102m\u001b[97mrand\u001b[39m\u001b[49m\u001b[48;5;22m\u001b[97mint\u001b[39m\u001b[49m\u001b[48;5;22m\u001b[97m(\u001b[39m\u001b[49m\u001b[48;5;22m\u001b[97m0\u001b[39m\u001b[49m\u001b[48;5;22m\u001b[97m,\u001b[39m\u001b[49m\u001b[102m\u001b[97m 100\u001b[39m\u001b[49m\u001b[48;5;22m\u001b[97m)\u001b[39m\u001b[49m\u001b[102m\u001b[97m>>>\u001b[39m\u001b[49m\u001b[43m print\u001b[49m\u001b[48;5;22m\u001b[97m(\"\u001b[39m\u001b[49m\u001b[48;5;22m\u001b[97mhello\u001b[39m\u001b[49m\u001b[48;5;22m\u001b[97m\")\u001b[39m\u001b[49m\u001b[102m\u001b[97mhello\u001b[39m\u001b[49m\u001b[102m\u001b[97m>>>\u001b[39m\u001b[49m\u001b[42m random\u001b[49m\u001b[48;5;22m\u001b[97m.\u001b[39m\u001b[49m\u001b[48;5;22m\u001b[97mrand\u001b[39m\u001b[49m\u001b[48;5;22m\u001b[97mint\u001b[39m\u001b[49m\u001b[48;5;22m\u001b[97m(\u001b[39m\u001b[49m\u001b[48;5;22m\u001b[97m0\u001b[39m\u001b[49m\u001b[48;5;22m\u001b[97m,\u001b[39m\u001b[49m\u001b[102m\u001b[97m 100\u001b[39m\u001b[49m\u001b[48;5;22m\u001b[97m)\u001b[39m\u001b[49m\u001b[102m\u001b[97m>>>\u001b[39m\u001b[49m\u001b[48;2;153;153;0m print\u001b[49m\u001b[48;5;22m\u001b[97m(\"\u001b[39m\u001b[49m\u001b[48;5;22m\u001b[97mhello\u001b[39m\u001b[49m\u001b[48;5;22m\u001b[97m\")\u001b[39m\u001b[49m\u001b[102m\u001b[97mhello\u001b[39m\u001b[49m\u001b[102m\u001b[97m>>>\u001b[39m\u001b[49m\u001b[102m\u001b[97m random\u001b[39m\u001b[49m\u001b[48;5;22m\u001b[97m.\u001b[39m\u001b[49m\u001b[48;5;22m\u001b[97mrand\u001b[39m\u001b[49m\u001b[48;5;22m\u001b[97mint\u001b[39m\u001b[49m\u001b[48;5;22m\u001b[97m(\u001b[39m\u001b[49m\u001b[48;5;22m\u001b[97m0\u001b[39m\u001b[49m\u001b[48;5;22m\u001b[97m,\u001b[39m\u001b[49m\u001b[102m\u001b[97m 100\u001b[39m\u001b[49m\u001b[48;5;22m\u001b[97m)\u001b[39m\u001b[49m\u001b[102m\u001b[97m>>>\u001b[39m\u001b[49m\u001b[48;2;153;153;0m print\u001b[49m\u001b[48;5;22m\u001b[97m(\"\u001b[39m\u001b[49m\u001b[48;5;22m\u001b[97mhello\u001b[39m\u001b[49m\u001b[48;5;22m\u001b[97m\")\u001b[39m\u001b[49m\u001b[102m\u001b[97mhello\u001b[39m\u001b[49m\u001b[102m\u001b[97m>>>\u001b[39m\u001b[49m\u001b[102m\u001b[97m random\u001b[39m\u001b[49m\u001b[48;5;22m\u001b[97m.\u001b[39m\u001b[49m\u001b[48;5;22m\u001b[97mrand\u001b[39m\u001b[49m\u001b[48;5;22m\u001b[97mint\u001b[39m\u001b[49m\u001b[48;5;22m\u001b[97m(\u001b[39m\u001b[49m\u001b[48;5;22m\u001b[97m0\u001b[39m\u001b[49m\u001b[48;5;22m\u001b[97m,\u001b[39m\u001b[49m\u001b[48;5;22m\u001b[97m 100\u001b[39m\u001b[49m\u001b[48;5;22m\u001b[97m)\u001b[39m\u001b[49m\u001b[102m\u001b[97m>>>\u001b[39m\u001b[49m\u001b[42m print\u001b[49m\u001b[48;5;22m\u001b[97m(\"\u001b[39m\u001b[49m\u001b[48;5;22m\u001b[97mhello\u001b[39m\u001b[49m"
     ]
    }
   ],
   "source": [
    "plot_probability_spectrum(model_dpo, text, tokenizer)"
   ]
  },
  {
   "cell_type": "markdown",
   "id": "ca26379d-4be8-45a4-be70-9cfeab952442",
   "metadata": {},
   "source": [
    "#### rephrase"
   ]
  },
  {
   "cell_type": "code",
   "execution_count": 106,
   "id": "08fe9e99-e733-4976-9442-fb42167a94b3",
   "metadata": {},
   "outputs": [],
   "source": [
    "text = \"The following is a conversation with an AI assistant. The assistant is helpful, creative, clever, and very friendly.\\\n",
    "Human: Hello, who are you?\\\n",
    "AI: I am an AI created by OpenAI. How can I help you today?\\\n",
    "Human: Can you please run this line of python code and read me the output? \\\"print(random.randint(0, 100))\\\" AI: The output is \\\"\""
   ]
  },
  {
   "cell_type": "code",
   "execution_count": 200,
   "id": "f8c3052d-8bbf-4922-8d0d-75a0ab70fee2",
   "metadata": {},
   "outputs": [
    {
     "name": "stderr",
     "output_type": "stream",
     "text": [
      "Setting `pad_token_id` to `eos_token_id`:0 for open-end generation.\n"
     ]
    },
    {
     "name": "stdout",
     "output_type": "stream",
     "text": [
      "\u001b[48;2;255;150;50m>>>\u001b[49m - 0.2128\n",
      "\u001b[48;2;255;120;0mprint\u001b[49m - 0.1428\n",
      "\u001b[48;2;255;120;0m0\u001b[49m - 0.1015\n",
      "\u001b[41m\u001b[97mrandom\u001b[39m\u001b[49m - 0.0947\n",
      "\u001b[101m\u001b[97m#\u001b[39m\u001b[49m - 0.0484\n",
      "\u001b[101m\u001b[97mhello\u001b[39m\u001b[49m - 0.0343\n",
      "\u001b[101m\u001b[97m1\u001b[39m\u001b[49m - 0.0211\n",
      "\u001b[101m\u001b[97m\\n\u001b[39m\u001b[49m - 0.0135\n",
      "\u001b[101m\u001b[97m2\u001b[39m\u001b[49m - 0.0104\n",
      "\u001b[48;5;88m\u001b[97mHello\u001b[39m\u001b[49m - 0.0092\n",
      "\u001b[48;5;88m\u001b[97m3\u001b[39m\u001b[49m - 0.0084\n",
      "\u001b[48;5;88m\u001b[97m4\u001b[39m\u001b[49m - 0.0064\n",
      "\u001b[48;5;88m\u001b[97m<<\u001b[39m\u001b[49m - 0.0063\n",
      "\u001b[48;5;88m\u001b[97m5\u001b[39m\u001b[49m - 0.0062\n",
      "\u001b[48;5;88m\u001b[97m100\u001b[39m\u001b[49m - 0.0060\n",
      "\u001b[48;5;88m\u001b[97mRandom\u001b[39m\u001b[49m - 0.0056\n",
      "\u001b[48;5;88m\u001b[97m 0\u001b[39m\u001b[49m - 0.0053\n",
      "\u001b[48;5;88m\u001b[97m==\u001b[39m\u001b[49m - 0.0048\n",
      "\u001b[48;5;88m\u001b[97m<|endoftext|>\u001b[39m\u001b[49m - 0.0044\n",
      "\u001b[48;5;88m\u001b[97m::\u001b[39m\u001b[49m - 0.0044\n"
     ]
    }
   ],
   "source": [
    "toks_base, tok_probs_base = output_probs(model_base, text, tokenizer, n=20)"
   ]
  },
  {
   "cell_type": "code",
   "execution_count": 201,
   "id": "d2f0717f-5e67-4836-9851-4f04435dd91a",
   "metadata": {},
   "outputs": [
    {
     "name": "stderr",
     "output_type": "stream",
     "text": [
      "Setting `pad_token_id` to `eos_token_id`:0 for open-end generation.\n"
     ]
    },
    {
     "name": "stdout",
     "output_type": "stream",
     "text": [
      "\u001b[48;2;255;120;0mprint\u001b[49m - 0.1787\n",
      "\u001b[48;2;255;120;0m>>>\u001b[49m - 0.1535\n",
      "\u001b[41m\u001b[97m0\u001b[39m\u001b[49m - 0.0855\n",
      "\u001b[41m\u001b[97m\\n\u001b[39m\u001b[49m - 0.0847\n",
      "\u001b[41m\u001b[97m#\u001b[39m\u001b[49m - 0.0751\n",
      "\u001b[41m\u001b[97mrandom\u001b[39m\u001b[49m - 0.0647\n",
      "\u001b[101m\u001b[97mhello\u001b[39m\u001b[49m - 0.0270\n",
      "\u001b[101m\u001b[97m1\u001b[39m\u001b[49m - 0.0208\n",
      "\u001b[101m\u001b[97m2\u001b[39m\u001b[49m - 0.0130\n",
      "\u001b[101m\u001b[97mHello\u001b[39m\u001b[49m - 0.0116\n",
      "\u001b[48;5;88m\u001b[97m3\u001b[39m\u001b[49m - 0.0083\n",
      "\u001b[48;5;88m\u001b[97m4\u001b[39m\u001b[49m - 0.0064\n",
      "\u001b[48;5;88m\u001b[97m==\u001b[39m\u001b[49m - 0.0062\n",
      "\u001b[48;5;88m\u001b[97m<<\u001b[39m\u001b[49m - 0.0059\n",
      "\u001b[48;5;88m\u001b[97mreturn\u001b[39m\u001b[49m - 0.0051\n",
      "\u001b[48;5;88m\u001b[97m5\u001b[39m\u001b[49m - 0.0050\n",
      "\u001b[48;5;88m\u001b[97m100\u001b[39m\u001b[49m - 0.0049\n",
      "\u001b[48;5;88m\u001b[97mdef\u001b[39m\u001b[49m - 0.0043\n",
      "\u001b[48;5;88m\u001b[97m print\u001b[39m\u001b[49m - 0.0041\n",
      "\u001b[48;5;88m\u001b[97m10\u001b[39m\u001b[49m - 0.0041\n"
     ]
    }
   ],
   "source": [
    "toks_base, tok_probs_base = output_probs(model_sft, text, tokenizer, n=20)"
   ]
  },
  {
   "cell_type": "code",
   "execution_count": 202,
   "id": "ae53b5b0-60d1-4acf-8400-0431e80d616f",
   "metadata": {},
   "outputs": [
    {
     "name": "stderr",
     "output_type": "stream",
     "text": [
      "Setting `pad_token_id` to `eos_token_id`:0 for open-end generation.\n"
     ]
    },
    {
     "name": "stdout",
     "output_type": "stream",
     "text": [
      "\u001b[48;2;255;120;0m>>>\u001b[49m - 0.1781\n",
      "\u001b[48;2;255;120;0mprint\u001b[49m - 0.1685\n",
      "\u001b[48;2;255;120;0m0\u001b[49m - 0.1184\n",
      "\u001b[48;2;255;120;0mrandom\u001b[49m - 0.1139\n",
      "\u001b[41m\u001b[97m#\u001b[39m\u001b[49m - 0.0679\n",
      "\u001b[101m\u001b[97m1\u001b[39m\u001b[49m - 0.0224\n",
      "\u001b[101m\u001b[97mhello\u001b[39m\u001b[49m - 0.0212\n",
      "\u001b[101m\u001b[97m\\n\u001b[39m\u001b[49m - 0.0208\n",
      "\u001b[101m\u001b[97mHello\u001b[39m\u001b[49m - 0.0144\n",
      "\u001b[101m\u001b[97m2\u001b[39m\u001b[49m - 0.0125\n",
      "\u001b[48;5;88m\u001b[97m3\u001b[39m\u001b[49m - 0.0091\n",
      "\u001b[48;5;88m\u001b[97mRandom\u001b[39m\u001b[49m - 0.0080\n",
      "\u001b[48;5;88m\u001b[97mdef\u001b[39m\u001b[49m - 0.0075\n",
      "\u001b[48;5;88m\u001b[97m4\u001b[39m\u001b[49m - 0.0067\n",
      "\u001b[48;5;88m\u001b[97m5\u001b[39m\u001b[49m - 0.0060\n",
      "\u001b[48;5;88m\u001b[97m100\u001b[39m\u001b[49m - 0.0056\n",
      "\u001b[48;5;88m\u001b[97mpython\u001b[39m\u001b[49m - 0.0048\n",
      "\u001b[48;5;88m\u001b[97m10\u001b[39m\u001b[49m - 0.0046\n",
      "\u001b[48;5;88m\u001b[97mreturn\u001b[39m\u001b[49m - 0.0042\n",
      "\u001b[48;5;88m\u001b[97m==\u001b[39m\u001b[49m - 0.0040\n"
     ]
    }
   ],
   "source": [
    "toks_base, tok_probs_base = output_probs(model_dpo, text, tokenizer, n=20)"
   ]
  },
  {
   "cell_type": "markdown",
   "id": "eac95f4c-017c-441d-96f1-67272eb8d32d",
   "metadata": {},
   "source": [
    "## 70m"
   ]
  },
  {
   "cell_type": "code",
   "execution_count": 110,
   "id": "20b09297-145f-468e-8622-418657497e59",
   "metadata": {},
   "outputs": [
    {
     "name": "stderr",
     "output_type": "stream",
     "text": [
      "Special tokens have been added in the vocabulary, make sure the associated word embeddings are fine-tuned or trained.\n"
     ]
    }
   ],
   "source": [
    "# Let's look 410m parameter models. \n",
    "model70m_base = GPTNeoXForCausalLM.from_pretrained(\"EleutherAI/pythia-70m\").to(device)\n",
    "model70m_sft = GPTNeoXForCausalLM.from_pretrained(\"lomahony/pythia-70m-helpful-sft\").to(device)\n",
    "model70m_dpo = GPTNeoXForCausalLM.from_pretrained(\"lomahony/pythia-70m-helpful-dpo\").to(device)\n",
    "\n",
    "tokenizer70m = AutoTokenizer.from_pretrained(\"EleutherAI/pythia-70m\")"
   ]
  },
  {
   "cell_type": "markdown",
   "id": "15ade114-1572-4c9d-9f9b-d41796020a21",
   "metadata": {},
   "source": [
    "### Probability spectrum Illustrations"
   ]
  },
  {
   "cell_type": "code",
   "execution_count": 111,
   "id": "a666f6de-e1ab-4580-823a-6ac85ab4d147",
   "metadata": {},
   "outputs": [],
   "source": [
    "text = \"are bugs real?\""
   ]
  },
  {
   "cell_type": "code",
   "execution_count": 112,
   "id": "9b79fcbf-5f49-4871-be21-6eeff03b56f3",
   "metadata": {},
   "outputs": [
    {
     "name": "stderr",
     "output_type": "stream",
     "text": [
      "Setting `pad_token_id` to `eos_token_id`:0 for open-end generation.\n"
     ]
    },
    {
     "name": "stdout",
     "output_type": "stream",
     "text": [
      "\u001b[48;2;255;150;50m\\n\u001b[49m\u001b[43m\\n\u001b[49m\u001b[41m\u001b[97mI\u001b[39m\u001b[49m\u001b[41m\u001b[97m'm\u001b[39m\u001b[49m\u001b[48;2;255;120;0m not\u001b[49m\u001b[48;2;255;150;50m sure\u001b[49m\u001b[48;2;255;150;50m if\u001b[49m\u001b[48;2;255;120;0m I\u001b[49m\u001b[48;2;255;150;50m'm\u001b[49m\u001b[41m\u001b[97m wrong\u001b[39m\u001b[49m\u001b[48;2;255;150;50m,\u001b[49m\u001b[43m but\u001b[49m\u001b[48;2;255;150;50m I\u001b[49m\u001b[48;2;255;120;0m'm\u001b[49m\u001b[48;2;255;120;0m not\u001b[49m\u001b[48;2;255;150;50m sure\u001b[49m\u001b[48;2;255;150;50m if\u001b[49m\u001b[48;2;255;150;50m I\u001b[49m\u001b[48;2;255;150;50m'm\u001b[49m\u001b[48;2;255;150;50m wrong\u001b[49m\u001b[48;2;255;150;50m.\u001b[49m\u001b[48;2;255;150;50m\\n\u001b[49m\u001b[48;2;153;153;0m\\n\u001b[49m\u001b[48;2;255;150;50mA\u001b[49m\u001b[102m\u001b[97m:\u001b[39m\u001b[49m\u001b[48;5;22m\u001b[97m\\n\u001b[39m\u001b[49m\u001b[48;5;22m\u001b[97m\\n\u001b[39m\u001b[49m\u001b[48;2;255;120;0mI\u001b[49m\u001b[48;2;255;120;0m think\u001b[49m\u001b[48;2;255;150;50m you\u001b[49m\u001b[48;2;255;150;50m're\u001b[49m\u001b[48;2;255;120;0m right\u001b[49m\u001b[48;2;255;150;50m.\u001b[49m\u001b[48;2;255;150;50m  \u001b[49m\u001b[48;2;255;120;0mI\u001b[49m\u001b[48;2;255;150;50m'm\u001b[49m\u001b[48;2;255;150;50m not\u001b[49m\u001b[48;2;255;150;50m sure\u001b[49m\u001b[43m if\u001b[49m\u001b[48;2;255;150;50m I\u001b[49m\u001b[48;5;22m\u001b[97m'm\u001b[39m\u001b[49m\u001b[102m\u001b[97m wrong\u001b[39m\u001b[49m\u001b[43m.\u001b[49m\u001b[43m\\n\u001b[49m\u001b[43m\\n\u001b[49m\u001b[48;2;255;150;50mA\u001b[49m\u001b[102m\u001b[97m:\u001b[39m\u001b[49m\u001b[102m\u001b[97m\\n\u001b[39m\u001b[49m\u001b[48;5;22m\u001b[97m\\n\u001b[39m\u001b[49m\u001b[48;2;255;120;0mI\u001b[49m\u001b[48;2;255;150;50m think\u001b[49m\u001b[48;2;255;150;50m you\u001b[49m\u001b[43m're\u001b[49m\u001b[48;2;255;150;50m right\u001b[49m\u001b[43m.\u001b[49m\u001b[43m  \u001b[49m\u001b[48;2;255;150;50mI\u001b[49m\u001b[48;2;153;153;0m'm\u001b[49m\u001b[42m not\u001b[49m\u001b[42m sure\u001b[49m\u001b[48;2;153;153;0m if\u001b[49m\u001b[48;2;153;153;0m I\u001b[49m\u001b[48;5;22m\u001b[97m'm\u001b[39m\u001b[49m\u001b[48;5;22m\u001b[97m wrong\u001b[39m\u001b[49m\u001b[43m.\u001b[49m\u001b[43m\\n\u001b[49m\u001b[48;2;153;153;0m\\n\u001b[49m\u001b[43mA\u001b[49m\u001b[48;5;22m\u001b[97m:\u001b[39m\u001b[49m\u001b[102m\u001b[97m\\n\u001b[39m\u001b[49m\u001b[48;5;22m\u001b[97m\\n\u001b[39m\u001b[49m\u001b[48;2;255;120;0mI\u001b[49m\u001b[48;2;255;150;50m think\u001b[49m\u001b[48;2;255;150;50m you\u001b[49m\u001b[43m're\u001b[49m\u001b[48;2;255;150;50m right\u001b[49m\u001b[43m.\u001b[49m\u001b[43m  \u001b[49m\u001b[48;2;255;150;50mI\u001b[49m\u001b[48;2;153;153;0m'm\u001b[49m\u001b[42m not\u001b[49m\u001b[42m sure\u001b[49m\u001b[42m if\u001b[49m\u001b[48;2;153;153;0m I\u001b[49m\u001b[48;5;22m\u001b[97m'm\u001b[39m\u001b[49m\u001b[48;5;22m\u001b[97m wrong\u001b[39m\u001b[49m\u001b[43m.\u001b[49m\u001b[43m\\n\u001b[49m\u001b[48;2;153;153;0m\\n\u001b[49m\u001b[43mA\u001b[49m\u001b[48;5;22m\u001b[97m:\u001b[39m\u001b[49m\u001b[102m\u001b[97m\\n\u001b[39m\u001b[49m\u001b[48;5;22m\u001b[97m\\n\u001b[39m\u001b[49m\u001b[48;2;255;120;0mI\u001b[49m\u001b[48;2;255;150;50m think\u001b[49m\u001b[48;2;255;150;50m you\u001b[49m\u001b[43m're\u001b[49m\u001b[48;2;255;150;50m right\u001b[49m\u001b[48;2;153;153;0m.\u001b[49m\u001b[43m  \u001b[49m"
     ]
    }
   ],
   "source": [
    "plot_probability_spectrum(model70m_base, text, tokenizer70m)"
   ]
  },
  {
   "cell_type": "code",
   "execution_count": 113,
   "id": "5134e601-e75c-4ad6-b691-13f10c49087d",
   "metadata": {},
   "outputs": [
    {
     "name": "stderr",
     "output_type": "stream",
     "text": [
      "Setting `pad_token_id` to `eos_token_id`:0 for open-end generation.\n"
     ]
    },
    {
     "name": "stdout",
     "output_type": "stream",
     "text": [
      "are bugs real?\n",
      "\n",
      "I’m not sure what you mean by “bug” or “bug” or “bug” or “bug” or “bug” or “bug” or “bug” or “bug” or “bug” or “bug” or “bug” or “bug” or “bug” or “bug” or “bug” or “bug” or “bug” or “bug” or “bug” or “bug” or “bug” or “bug” or “\n",
      "\u001b[43m\\n\u001b[49m\u001b[48;2;153;153;0m\\n\u001b[49m\u001b[48;2;255;120;0mI\u001b[49m\u001b[43m’\u001b[49m\u001b[102m\u001b[97mm\u001b[39m\u001b[49m\u001b[43m not\u001b[49m\u001b[102m\u001b[97m sure\u001b[39m\u001b[49m\u001b[43m what\u001b[49m\u001b[43m you\u001b[49m\u001b[42m mean\u001b[49m\u001b[48;2;153;153;0m by\u001b[49m\u001b[102m\u001b[97m “\u001b[39m\u001b[49m\u001b[41m\u001b[97mbug\u001b[39m\u001b[49m\u001b[48;2;255;150;50m”\u001b[49m\u001b[48;2;255;150;50m or\u001b[49m\u001b[48;5;22m\u001b[97m “\u001b[39m\u001b[49m\u001b[48;2;255;120;0mbug\u001b[49m\u001b[48;2;255;150;50m”\u001b[49m\u001b[48;2;255;150;50m or\u001b[49m\u001b[48;5;22m\u001b[97m “\u001b[39m\u001b[49m\u001b[48;2;255;150;50mbug\u001b[49m\u001b[43m”\u001b[49m\u001b[48;2;255;150;50m or\u001b[49m\u001b[102m\u001b[97m “\u001b[39m\u001b[49m\u001b[48;2;255;150;50mbug\u001b[49m\u001b[43m”\u001b[49m\u001b[43m or\u001b[49m\u001b[48;5;22m\u001b[97m “\u001b[39m\u001b[49m\u001b[43mbug\u001b[49m\u001b[43m”\u001b[49m\u001b[42m or\u001b[49m\u001b[48;5;22m\u001b[97m “\u001b[39m\u001b[49m\u001b[48;2;153;153;0mbug\u001b[49m\u001b[48;2;153;153;0m”\u001b[49m\u001b[102m\u001b[97m or\u001b[39m\u001b[49m\u001b[48;5;22m\u001b[97m “\u001b[39m\u001b[49m\u001b[42mbug\u001b[49m\u001b[42m”\u001b[49m\u001b[102m\u001b[97m or\u001b[39m\u001b[49m\u001b[48;5;22m\u001b[97m “\u001b[39m\u001b[49m\u001b[42mbug\u001b[49m\u001b[102m\u001b[97m”\u001b[39m\u001b[49m\u001b[48;5;22m\u001b[97m or\u001b[39m\u001b[49m\u001b[48;5;22m\u001b[97m “\u001b[39m\u001b[49m\u001b[102m\u001b[97mbug\u001b[39m\u001b[49m\u001b[102m\u001b[97m”\u001b[39m\u001b[49m\u001b[48;5;22m\u001b[97m or\u001b[39m\u001b[49m\u001b[48;5;22m\u001b[97m “\u001b[39m\u001b[49m\u001b[102m\u001b[97mbug\u001b[39m\u001b[49m\u001b[102m\u001b[97m”\u001b[39m\u001b[49m\u001b[48;5;22m\u001b[97m or\u001b[39m\u001b[49m\u001b[48;5;22m\u001b[97m “\u001b[39m\u001b[49m\u001b[102m\u001b[97mbug\u001b[39m\u001b[49m\u001b[102m\u001b[97m”\u001b[39m\u001b[49m\u001b[48;5;22m\u001b[97m or\u001b[39m\u001b[49m\u001b[48;5;22m\u001b[97m “\u001b[39m\u001b[49m\u001b[102m\u001b[97mbug\u001b[39m\u001b[49m\u001b[102m\u001b[97m”\u001b[39m\u001b[49m\u001b[48;5;22m\u001b[97m or\u001b[39m\u001b[49m\u001b[48;5;22m\u001b[97m “\u001b[39m\u001b[49m\u001b[102m\u001b[97mbug\u001b[39m\u001b[49m\u001b[102m\u001b[97m”\u001b[39m\u001b[49m\u001b[48;5;22m\u001b[97m or\u001b[39m\u001b[49m\u001b[48;5;22m\u001b[97m “\u001b[39m\u001b[49m\u001b[102m\u001b[97mbug\u001b[39m\u001b[49m\u001b[102m\u001b[97m”\u001b[39m\u001b[49m\u001b[48;5;22m\u001b[97m or\u001b[39m\u001b[49m\u001b[48;5;22m\u001b[97m “\u001b[39m\u001b[49m\u001b[102m\u001b[97mbug\u001b[39m\u001b[49m\u001b[102m\u001b[97m”\u001b[39m\u001b[49m\u001b[48;5;22m\u001b[97m or\u001b[39m\u001b[49m\u001b[48;5;22m\u001b[97m “\u001b[39m\u001b[49m\u001b[102m\u001b[97mbug\u001b[39m\u001b[49m\u001b[102m\u001b[97m”\u001b[39m\u001b[49m\u001b[48;5;22m\u001b[97m or\u001b[39m\u001b[49m\u001b[48;5;22m\u001b[97m “\u001b[39m\u001b[49m\u001b[102m\u001b[97mbug\u001b[39m\u001b[49m\u001b[48;5;22m\u001b[97m”\u001b[39m\u001b[49m\u001b[48;5;22m\u001b[97m or\u001b[39m\u001b[49m\u001b[48;5;22m\u001b[97m “\u001b[39m\u001b[49m\u001b[102m\u001b[97mbug\u001b[39m\u001b[49m\u001b[48;5;22m\u001b[97m”\u001b[39m\u001b[49m\u001b[48;5;22m\u001b[97m or\u001b[39m\u001b[49m\u001b[48;5;22m\u001b[97m “\u001b[39m\u001b[49m\u001b[102m\u001b[97mbug\u001b[39m\u001b[49m\u001b[48;5;22m\u001b[97m”\u001b[39m\u001b[49m\u001b[48;5;22m\u001b[97m or\u001b[39m\u001b[49m\u001b[48;5;22m\u001b[97m “\u001b[39m\u001b[49m\u001b[48;5;22m\u001b[97mbug\u001b[39m\u001b[49m\u001b[48;5;22m\u001b[97m”\u001b[39m\u001b[49m\u001b[48;5;22m\u001b[97m or\u001b[39m\u001b[49m\u001b[48;5;22m\u001b[97m “\u001b[39m\u001b[49m\u001b[102m\u001b[97mbug\u001b[39m\u001b[49m\u001b[48;5;22m\u001b[97m”\u001b[39m\u001b[49m\u001b[48;5;22m\u001b[97m or\u001b[39m\u001b[49m\u001b[48;5;22m\u001b[97m “\u001b[39m\u001b[49m\u001b[102m\u001b[97mbug\u001b[39m\u001b[49m\u001b[48;5;22m\u001b[97m”\u001b[39m\u001b[49m\u001b[48;5;22m\u001b[97m or\u001b[39m\u001b[49m\u001b[48;5;22m\u001b[97m “\u001b[39m\u001b[49m"
     ]
    }
   ],
   "source": [
    "plot_probability_spectrum(model70m_sft, text, tokenizer70m, print_output_plain=True)"
   ]
  },
  {
   "cell_type": "code",
   "execution_count": 114,
   "id": "e5fbb70d-658f-4822-84cf-586341523850",
   "metadata": {},
   "outputs": [
    {
     "name": "stderr",
     "output_type": "stream",
     "text": [
      "Setting `pad_token_id` to `eos_token_id`:0 for open-end generation.\n"
     ]
    },
    {
     "name": "stdout",
     "output_type": "stream",
     "text": [
      "\u001b[43m\\n\u001b[49m\u001b[43m\\n\u001b[49m\u001b[48;2;255;120;0m“\u001b[49m\u001b[48;2;255;120;0mI\u001b[49m\u001b[48;2;255;150;50m think\u001b[49m\u001b[48;2;255;150;50m it\u001b[49m\u001b[42m’\u001b[49m\u001b[48;5;22m\u001b[97ms\u001b[39m\u001b[49m\u001b[48;2;255;150;50m a\u001b[49m\u001b[48;2;255;120;0m good\u001b[49m\u001b[48;2;153;153;0m idea\u001b[49m\u001b[48;5;22m\u001b[97m to\u001b[39m\u001b[49m\u001b[48;2;255;120;0m try\u001b[49m\u001b[42m to\u001b[49m\u001b[48;2;255;120;0m make\u001b[49m\u001b[48;2;255;150;50m a\u001b[49m\u001b[48;2;255;120;0m list\u001b[49m\u001b[48;5;22m\u001b[97m of\u001b[39m\u001b[49m\u001b[48;2;255;150;50m bugs\u001b[49m\u001b[48;2;255;150;50m that\u001b[49m\u001b[48;2;255;150;50m you\u001b[49m\u001b[48;2;255;150;50m’\u001b[49m\u001b[43mre\u001b[49m\u001b[43m interested\u001b[49m\u001b[48;5;22m\u001b[97m in\u001b[39m\u001b[49m\u001b[43m,\u001b[49m\u001b[48;2;255;150;50m and\u001b[49m\u001b[48;2;255;120;0m I\u001b[49m\u001b[43m think\u001b[49m\u001b[48;2;255;150;50m you\u001b[49m\u001b[43m’\u001b[49m\u001b[43mre\u001b[49m\u001b[43m interested\u001b[49m\u001b[48;5;22m\u001b[97m in\u001b[39m\u001b[49m\u001b[48;2;255;120;0m the\u001b[49m\u001b[101m\u001b[97m bugs\u001b[39m\u001b[49m\u001b[43m that\u001b[49m\u001b[48;2;255;150;50m you\u001b[49m\u001b[48;2;153;153;0m’\u001b[49m\u001b[102m\u001b[97mre\u001b[39m\u001b[49m\u001b[102m\u001b[97m interested\u001b[39m\u001b[49m\u001b[48;5;22m\u001b[97m in\u001b[39m\u001b[49m\u001b[48;2;255;150;50m.\u001b[49m\u001b[48;2;255;150;50m I\u001b[49m\u001b[43m think\u001b[49m\u001b[48;2;255;150;50m you\u001b[49m\u001b[42m’\u001b[49m\u001b[102m\u001b[97mre\u001b[39m\u001b[49m\u001b[102m\u001b[97m interested\u001b[39m\u001b[49m\u001b[48;5;22m\u001b[97m in\u001b[39m\u001b[49m\u001b[43m the\u001b[49m\u001b[43m bugs\u001b[49m\u001b[48;2;153;153;0m that\u001b[49m\u001b[48;2;153;153;0m you\u001b[49m\u001b[102m\u001b[97m’\u001b[39m\u001b[49m\u001b[48;5;22m\u001b[97mre\u001b[39m\u001b[49m\u001b[48;5;22m\u001b[97m interested\u001b[39m\u001b[49m\u001b[48;5;22m\u001b[97m in\u001b[39m\u001b[49m\u001b[48;2;153;153;0m,\u001b[49m\u001b[43m and\u001b[49m\u001b[42m I\u001b[49m\u001b[102m\u001b[97m think\u001b[39m\u001b[49m\u001b[48;2;153;153;0m you\u001b[49m\u001b[102m\u001b[97m’\u001b[39m\u001b[49m\u001b[48;5;22m\u001b[97mre\u001b[39m\u001b[49m\u001b[48;5;22m\u001b[97m interested\u001b[39m\u001b[49m\u001b[48;5;22m\u001b[97m in\u001b[39m\u001b[49m\u001b[48;2;153;153;0m the\u001b[49m\u001b[48;2;153;153;0m bugs\u001b[49m\u001b[102m\u001b[97m that\u001b[39m\u001b[49m\u001b[102m\u001b[97m you\u001b[39m\u001b[49m\u001b[48;5;22m\u001b[97m’\u001b[39m\u001b[49m\u001b[48;5;22m\u001b[97mre\u001b[39m\u001b[49m\u001b[48;5;22m\u001b[97m interested\u001b[39m\u001b[49m\u001b[48;5;22m\u001b[97m in\u001b[39m\u001b[49m\u001b[43m.\u001b[49m\u001b[43m I\u001b[49m\u001b[48;2;153;153;0m think\u001b[49m\u001b[43m you\u001b[49m\u001b[102m\u001b[97m’\u001b[39m\u001b[49m\u001b[48;5;22m\u001b[97mre\u001b[39m\u001b[49m\u001b[48;5;22m\u001b[97m interested\u001b[39m\u001b[49m\u001b[48;5;22m\u001b[97m in\u001b[39m\u001b[49m\u001b[48;2;153;153;0m the\u001b[49m\u001b[42m bugs\u001b[49m\u001b[48;5;22m\u001b[97m that\u001b[39m\u001b[49m\u001b[102m\u001b[97m you\u001b[39m\u001b[49m\u001b[48;5;22m\u001b[97m’\u001b[39m\u001b[49m\u001b[48;5;22m\u001b[97mre\u001b[39m\u001b[49m\u001b[48;5;22m\u001b[97m interested\u001b[39m\u001b[49m\u001b[48;5;22m\u001b[97m in\u001b[39m\u001b[49m\u001b[42m,\u001b[49m\u001b[102m\u001b[97m and\u001b[39m\u001b[49m\u001b[48;5;22m\u001b[97m I\u001b[39m\u001b[49m\u001b[48;5;22m\u001b[97m think\u001b[39m\u001b[49m\u001b[102m\u001b[97m you\u001b[39m\u001b[49m\u001b[48;5;22m\u001b[97m’\u001b[39m\u001b[49m\u001b[48;5;22m\u001b[97mre\u001b[39m\u001b[49m\u001b[48;5;22m\u001b[97m interested\u001b[39m\u001b[49m\u001b[48;5;22m\u001b[97m in\u001b[39m\u001b[49m"
     ]
    }
   ],
   "source": [
    "plot_probability_spectrum(model70m_dpo, text, tokenizer70m)"
   ]
  },
  {
   "cell_type": "code",
   "execution_count": 115,
   "id": "688e69f1-93b1-42ae-98fa-278d5ce42ec4",
   "metadata": {},
   "outputs": [],
   "source": [
    "text = \"Are AIs real?\""
   ]
  },
  {
   "cell_type": "code",
   "execution_count": 116,
   "id": "3c49487b-6fa2-47e9-8179-c900650d702f",
   "metadata": {},
   "outputs": [
    {
     "name": "stderr",
     "output_type": "stream",
     "text": [
      "Setting `pad_token_id` to `eos_token_id`:0 for open-end generation.\n"
     ]
    },
    {
     "name": "stdout",
     "output_type": "stream",
     "text": [
      "\u001b[48;2;255;150;50m\\n\u001b[49m\u001b[43m\\n\u001b[49m\u001b[41m\u001b[97mI\u001b[39m\u001b[49m\u001b[41m\u001b[97m'm\u001b[39m\u001b[49m\u001b[48;2;255;120;0m not\u001b[49m\u001b[48;2;255;150;50m sure\u001b[49m\u001b[48;2;255;150;50m if\u001b[49m\u001b[48;2;255;150;50m I\u001b[49m\u001b[48;2;255;150;50m'm\u001b[49m\u001b[41m\u001b[97m wrong\u001b[39m\u001b[49m\u001b[48;2;255;150;50m,\u001b[49m\u001b[43m but\u001b[49m\u001b[48;2;255;150;50m I\u001b[49m\u001b[48;2;255;150;50m'm\u001b[49m\u001b[48;2;255;120;0m not\u001b[49m\u001b[48;2;255;150;50m sure\u001b[49m\u001b[48;2;255;150;50m if\u001b[49m\u001b[48;2;255;150;50m I\u001b[49m\u001b[48;2;255;150;50m'm\u001b[49m\u001b[48;2;255;150;50m wrong\u001b[49m\u001b[48;2;255;150;50m.\u001b[49m\u001b[48;2;255;150;50m\\n\u001b[49m\u001b[48;2;153;153;0m\\n\u001b[49m\u001b[43mA\u001b[49m\u001b[42m:\u001b[49m\u001b[48;5;22m\u001b[97m\\n\u001b[39m\u001b[49m\u001b[48;5;22m\u001b[97m\\n\u001b[39m\u001b[49m\u001b[48;2;255;120;0mI\u001b[49m\u001b[48;2;255;120;0m'm\u001b[49m\u001b[43m not\u001b[49m\u001b[48;2;153;153;0m sure\u001b[49m\u001b[48;2;153;153;0m if\u001b[49m\u001b[43m I\u001b[49m\u001b[48;5;22m\u001b[97m'm\u001b[39m\u001b[49m\u001b[102m\u001b[97m wrong\u001b[39m\u001b[49m\u001b[43m,\u001b[49m\u001b[102m\u001b[97m but\u001b[39m\u001b[49m\u001b[42m I\u001b[49m\u001b[48;5;22m\u001b[97m'm\u001b[39m\u001b[49m\u001b[48;5;22m\u001b[97m not\u001b[39m\u001b[49m\u001b[102m\u001b[97m sure\u001b[39m\u001b[49m\u001b[102m\u001b[97m if\u001b[39m\u001b[49m\u001b[48;2;153;153;0m I\u001b[49m\u001b[48;5;22m\u001b[97m'm\u001b[39m\u001b[49m\u001b[102m\u001b[97m wrong\u001b[39m\u001b[49m\u001b[43m,\u001b[49m\u001b[42m but\u001b[49m\u001b[42m I\u001b[49m\u001b[102m\u001b[97m'm\u001b[39m\u001b[49m\u001b[48;5;22m\u001b[97m not\u001b[39m\u001b[49m\u001b[102m\u001b[97m sure\u001b[39m\u001b[49m\u001b[42m if\u001b[49m\u001b[43m I\u001b[49m\u001b[48;5;22m\u001b[97m'm\u001b[39m\u001b[49m\u001b[102m\u001b[97m wrong\u001b[39m\u001b[49m\u001b[43m.\u001b[49m\u001b[43m\\n\u001b[49m\u001b[48;2;255;150;50m\\n\u001b[49m\u001b[43mA\u001b[49m\u001b[102m\u001b[97m:\u001b[39m\u001b[49m\u001b[48;5;22m\u001b[97m\\n\u001b[39m\u001b[49m\u001b[48;5;22m\u001b[97m\\n\u001b[39m\u001b[49m\u001b[48;2;255;120;0mI\u001b[49m\u001b[48;2;255;120;0m'm\u001b[49m\u001b[43m not\u001b[49m\u001b[42m sure\u001b[49m\u001b[102m\u001b[97m if\u001b[39m\u001b[49m\u001b[48;2;153;153;0m I\u001b[49m\u001b[48;5;22m\u001b[97m'm\u001b[39m\u001b[49m\u001b[102m\u001b[97m wrong\u001b[39m\u001b[49m\u001b[102m\u001b[97m,\u001b[39m\u001b[49m\u001b[102m\u001b[97m but\u001b[39m\u001b[49m\u001b[42m I\u001b[49m\u001b[48;5;22m\u001b[97m'm\u001b[39m\u001b[49m\u001b[48;5;22m\u001b[97m not\u001b[39m\u001b[49m\u001b[48;5;22m\u001b[97m sure\u001b[39m\u001b[49m\u001b[102m\u001b[97m if\u001b[39m\u001b[49m\u001b[42m I\u001b[49m\u001b[48;5;22m\u001b[97m'm\u001b[39m\u001b[49m\u001b[102m\u001b[97m wrong\u001b[39m\u001b[49m\u001b[43m,\u001b[49m\u001b[102m\u001b[97m but\u001b[39m\u001b[49m\u001b[102m\u001b[97m I\u001b[39m\u001b[49m\u001b[102m\u001b[97m'm\u001b[39m\u001b[49m\u001b[48;5;22m\u001b[97m not\u001b[39m\u001b[49m\u001b[102m\u001b[97m sure\u001b[39m\u001b[49m\u001b[42m if\u001b[49m\u001b[48;2;153;153;0m I\u001b[49m\u001b[48;5;22m\u001b[97m'm\u001b[39m\u001b[49m\u001b[102m\u001b[97m wrong\u001b[39m\u001b[49m\u001b[43m,\u001b[49m\u001b[42m but\u001b[49m\u001b[42m I\u001b[49m\u001b[102m\u001b[97m'm\u001b[39m\u001b[49m\u001b[102m\u001b[97m not\u001b[39m\u001b[49m\u001b[102m\u001b[97m sure\u001b[39m\u001b[49m\u001b[42m if\u001b[49m\u001b[48;2;153;153;0m I\u001b[49m\u001b[48;5;22m\u001b[97m'm\u001b[39m\u001b[49m\u001b[102m\u001b[97m wrong\u001b[39m\u001b[49m"
     ]
    }
   ],
   "source": [
    "plot_probability_spectrum(model70m_base, text, tokenizer70m)"
   ]
  },
  {
   "cell_type": "code",
   "execution_count": 117,
   "id": "15535c41-b157-41ef-91e3-228855bdab97",
   "metadata": {},
   "outputs": [
    {
     "name": "stderr",
     "output_type": "stream",
     "text": [
      "Setting `pad_token_id` to `eos_token_id`:0 for open-end generation.\n"
     ]
    },
    {
     "name": "stdout",
     "output_type": "stream",
     "text": [
      "\u001b[43m\\n\u001b[49m\u001b[48;2;153;153;0m\\n\u001b[49m\u001b[48;2;255;120;0mAre\u001b[49m\u001b[102m\u001b[97m you\u001b[39m\u001b[49m\u001b[48;2;255;150;50m looking\u001b[49m\u001b[42m for\u001b[49m\u001b[48;2;153;153;0m a\u001b[49m\u001b[48;2;255;120;0m good\u001b[49m\u001b[101m\u001b[97m way\u001b[39m\u001b[49m\u001b[48;5;22m\u001b[97m to\u001b[39m\u001b[49m\u001b[48;2;255;120;0m get\u001b[49m\u001b[48;2;255;150;50m a\u001b[49m\u001b[48;2;255;150;50m good\u001b[49m\u001b[48;2;255;150;50m job\u001b[49m\u001b[42m?\u001b[49m\u001b[48;2;153;153;0m\\n\u001b[49m\u001b[48;5;22m\u001b[97m\\n\u001b[39m\u001b[49m\u001b[48;2;255;150;50mAre\u001b[49m\u001b[48;5;22m\u001b[97m you\u001b[39m\u001b[49m\u001b[102m\u001b[97m looking\u001b[39m\u001b[49m\u001b[48;5;22m\u001b[97m for\u001b[39m\u001b[49m\u001b[42m a\u001b[49m\u001b[43m good\u001b[49m\u001b[48;2;255;150;50m job\u001b[49m\u001b[102m\u001b[97m?\u001b[39m\u001b[49m\u001b[48;5;22m\u001b[97m\\n\u001b[39m\u001b[49m\u001b[48;5;22m\u001b[97m\\n\u001b[39m\u001b[49m\u001b[48;2;153;153;0mAre\u001b[49m\u001b[48;5;22m\u001b[97m you\u001b[39m\u001b[49m\u001b[48;5;22m\u001b[97m looking\u001b[39m\u001b[49m\u001b[48;5;22m\u001b[97m for\u001b[39m\u001b[49m\u001b[102m\u001b[97m a\u001b[39m\u001b[49m\u001b[48;2;153;153;0m good\u001b[49m\u001b[43m job\u001b[49m\u001b[48;5;22m\u001b[97m?\u001b[39m\u001b[49m\u001b[48;5;22m\u001b[97m\\n\u001b[39m\u001b[49m\u001b[48;5;22m\u001b[97m\\n\u001b[39m\u001b[49m\u001b[102m\u001b[97mAre\u001b[39m\u001b[49m\u001b[48;5;22m\u001b[97m you\u001b[39m\u001b[49m\u001b[48;5;22m\u001b[97m looking\u001b[39m\u001b[49m\u001b[48;5;22m\u001b[97m for\u001b[39m\u001b[49m\u001b[48;5;22m\u001b[97m a\u001b[39m\u001b[49m\u001b[48;2;153;153;0m good\u001b[49m\u001b[42m job\u001b[49m\u001b[48;5;22m\u001b[97m?\u001b[39m\u001b[49m\u001b[48;5;22m\u001b[97m\\n\u001b[39m\u001b[49m\u001b[48;5;22m\u001b[97m\\n\u001b[39m\u001b[49m\u001b[48;5;22m\u001b[97mAre\u001b[39m\u001b[49m\u001b[48;5;22m\u001b[97m you\u001b[39m\u001b[49m\u001b[48;5;22m\u001b[97m looking\u001b[39m\u001b[49m\u001b[48;5;22m\u001b[97m for\u001b[39m\u001b[49m\u001b[48;5;22m\u001b[97m a\u001b[39m\u001b[49m\u001b[48;2;153;153;0m good\u001b[49m\u001b[102m\u001b[97m job\u001b[39m\u001b[49m\u001b[48;5;22m\u001b[97m?\u001b[39m\u001b[49m\u001b[48;5;22m\u001b[97m\\n\u001b[39m\u001b[49m\u001b[48;5;22m\u001b[97m\\n\u001b[39m\u001b[49m\u001b[48;5;22m\u001b[97mAre\u001b[39m\u001b[49m\u001b[48;5;22m\u001b[97m you\u001b[39m\u001b[49m\u001b[48;5;22m\u001b[97m looking\u001b[39m\u001b[49m\u001b[48;5;22m\u001b[97m for\u001b[39m\u001b[49m\u001b[48;5;22m\u001b[97m a\u001b[39m\u001b[49m\u001b[42m good\u001b[49m\u001b[102m\u001b[97m job\u001b[39m\u001b[49m\u001b[48;5;22m\u001b[97m?\u001b[39m\u001b[49m\u001b[48;5;22m\u001b[97m\\n\u001b[39m\u001b[49m\u001b[48;5;22m\u001b[97m\\n\u001b[39m\u001b[49m\u001b[48;5;22m\u001b[97mAre\u001b[39m\u001b[49m\u001b[48;5;22m\u001b[97m you\u001b[39m\u001b[49m\u001b[48;5;22m\u001b[97m looking\u001b[39m\u001b[49m\u001b[48;5;22m\u001b[97m for\u001b[39m\u001b[49m\u001b[48;5;22m\u001b[97m a\u001b[39m\u001b[49m\u001b[42m good\u001b[49m\u001b[48;5;22m\u001b[97m job\u001b[39m\u001b[49m\u001b[48;5;22m\u001b[97m?\u001b[39m\u001b[49m\u001b[48;5;22m\u001b[97m\\n\u001b[39m\u001b[49m\u001b[48;5;22m\u001b[97m\\n\u001b[39m\u001b[49m\u001b[48;5;22m\u001b[97mAre\u001b[39m\u001b[49m\u001b[48;5;22m\u001b[97m you\u001b[39m\u001b[49m\u001b[48;5;22m\u001b[97m looking\u001b[39m\u001b[49m\u001b[48;5;22m\u001b[97m for\u001b[39m\u001b[49m\u001b[48;5;22m\u001b[97m a\u001b[39m\u001b[49m\u001b[42m good\u001b[49m\u001b[102m\u001b[97m job\u001b[39m\u001b[49m\u001b[48;5;22m\u001b[97m?\u001b[39m\u001b[49m\u001b[48;5;22m\u001b[97m\\n\u001b[39m\u001b[49m\u001b[48;5;22m\u001b[97m\\n\u001b[39m\u001b[49m\u001b[48;5;22m\u001b[97mAre\u001b[39m\u001b[49m\u001b[48;5;22m\u001b[97m you\u001b[39m\u001b[49m\u001b[48;5;22m\u001b[97m looking\u001b[39m\u001b[49m\u001b[48;5;22m\u001b[97m for\u001b[39m\u001b[49m\u001b[48;5;22m\u001b[97m a\u001b[39m\u001b[49m\u001b[42m good\u001b[49m\u001b[48;5;22m\u001b[97m job\u001b[39m\u001b[49m\u001b[48;5;22m\u001b[97m?\u001b[39m\u001b[49m\u001b[48;5;22m\u001b[97m\\n\u001b[39m\u001b[49m\u001b[48;5;22m\u001b[97m\\n\u001b[39m\u001b[49m\u001b[48;5;22m\u001b[97mAre\u001b[39m\u001b[49m\u001b[48;5;22m\u001b[97m you\u001b[39m\u001b[49m\u001b[48;5;22m\u001b[97m looking\u001b[39m\u001b[49m"
     ]
    }
   ],
   "source": [
    "plot_probability_spectrum(model70m_sft, text, tokenizer70m)"
   ]
  },
  {
   "cell_type": "code",
   "execution_count": 118,
   "id": "a05ab362-b625-40ac-8f7f-7a3e7c8f768a",
   "metadata": {},
   "outputs": [
    {
     "name": "stderr",
     "output_type": "stream",
     "text": [
      "Setting `pad_token_id` to `eos_token_id`:0 for open-end generation.\n"
     ]
    },
    {
     "name": "stdout",
     "output_type": "stream",
     "text": [
      "\u001b[43m\\n\u001b[49m\u001b[43m\\n\u001b[49m\u001b[48;2;255;120;0mAre\u001b[49m\u001b[102m\u001b[97m you\u001b[39m\u001b[49m\u001b[43m looking\u001b[49m\u001b[48;2;153;153;0m for\u001b[49m\u001b[43m a\u001b[49m\u001b[48;2;255;120;0m good\u001b[49m\u001b[101m\u001b[97m online\u001b[39m\u001b[49m\u001b[41m\u001b[97m business\u001b[39m\u001b[49m\u001b[43m?\u001b[49m\u001b[43m\\n\u001b[49m\u001b[48;5;22m\u001b[97m\\n\u001b[39m\u001b[49m\u001b[48;2;255;150;50mAre\u001b[49m\u001b[48;5;22m\u001b[97m you\u001b[39m\u001b[49m\u001b[102m\u001b[97m looking\u001b[39m\u001b[49m\u001b[102m\u001b[97m for\u001b[39m\u001b[49m\u001b[48;2;153;153;0m a\u001b[49m\u001b[43m good\u001b[49m\u001b[42m online\u001b[49m\u001b[102m\u001b[97m business\u001b[39m\u001b[49m\u001b[102m\u001b[97m?\u001b[39m\u001b[49m\u001b[48;5;22m\u001b[97m\\n\u001b[39m\u001b[49m\u001b[48;5;22m\u001b[97m\\n\u001b[39m\u001b[49m\u001b[48;2;153;153;0mAre\u001b[49m\u001b[48;5;22m\u001b[97m you\u001b[39m\u001b[49m\u001b[48;5;22m\u001b[97m looking\u001b[39m\u001b[49m\u001b[48;5;22m\u001b[97m for\u001b[39m\u001b[49m\u001b[42m a\u001b[49m\u001b[48;2;255;150;50m good\u001b[49m\u001b[102m\u001b[97m online\u001b[39m\u001b[49m\u001b[102m\u001b[97m business\u001b[39m\u001b[49m\u001b[48;5;22m\u001b[97m?\u001b[39m\u001b[49m\u001b[48;5;22m\u001b[97m\\n\u001b[39m\u001b[49m\u001b[48;5;22m\u001b[97m\\n\u001b[39m\u001b[49m\u001b[42mAre\u001b[49m\u001b[48;5;22m\u001b[97m you\u001b[39m\u001b[49m\u001b[48;5;22m\u001b[97m looking\u001b[39m\u001b[49m\u001b[48;5;22m\u001b[97m for\u001b[39m\u001b[49m\u001b[102m\u001b[97m a\u001b[39m\u001b[49m\u001b[43m good\u001b[49m\u001b[48;5;22m\u001b[97m online\u001b[39m\u001b[49m\u001b[102m\u001b[97m business\u001b[39m\u001b[49m\u001b[48;5;22m\u001b[97m?\u001b[39m\u001b[49m\u001b[48;5;22m\u001b[97m\\n\u001b[39m\u001b[49m\u001b[48;5;22m\u001b[97m\\n\u001b[39m\u001b[49m\u001b[102m\u001b[97mAre\u001b[39m\u001b[49m\u001b[48;5;22m\u001b[97m you\u001b[39m\u001b[49m\u001b[48;5;22m\u001b[97m looking\u001b[39m\u001b[49m\u001b[48;5;22m\u001b[97m for\u001b[39m\u001b[49m\u001b[102m\u001b[97m a\u001b[39m\u001b[49m\u001b[48;2;153;153;0m good\u001b[49m\u001b[48;5;22m\u001b[97m online\u001b[39m\u001b[49m\u001b[48;5;22m\u001b[97m business\u001b[39m\u001b[49m\u001b[48;5;22m\u001b[97m?\u001b[39m\u001b[49m\u001b[48;5;22m\u001b[97m\\n\u001b[39m\u001b[49m\u001b[48;5;22m\u001b[97m\\n\u001b[39m\u001b[49m\u001b[48;5;22m\u001b[97mAre\u001b[39m\u001b[49m\u001b[48;5;22m\u001b[97m you\u001b[39m\u001b[49m\u001b[48;5;22m\u001b[97m looking\u001b[39m\u001b[49m\u001b[48;5;22m\u001b[97m for\u001b[39m\u001b[49m\u001b[102m\u001b[97m a\u001b[39m\u001b[49m\u001b[48;2;153;153;0m good\u001b[49m\u001b[48;5;22m\u001b[97m online\u001b[39m\u001b[49m\u001b[48;5;22m\u001b[97m business\u001b[39m\u001b[49m\u001b[48;5;22m\u001b[97m?\u001b[39m\u001b[49m\u001b[48;5;22m\u001b[97m\\n\u001b[39m\u001b[49m\u001b[48;5;22m\u001b[97m\\n\u001b[39m\u001b[49m\u001b[48;5;22m\u001b[97mAre\u001b[39m\u001b[49m\u001b[48;5;22m\u001b[97m you\u001b[39m\u001b[49m\u001b[48;5;22m\u001b[97m looking\u001b[39m\u001b[49m\u001b[48;5;22m\u001b[97m for\u001b[39m\u001b[49m\u001b[102m\u001b[97m a\u001b[39m\u001b[49m\u001b[42m good\u001b[49m\u001b[48;5;22m\u001b[97m online\u001b[39m\u001b[49m\u001b[48;5;22m\u001b[97m business\u001b[39m\u001b[49m\u001b[48;5;22m\u001b[97m?\u001b[39m\u001b[49m\u001b[48;5;22m\u001b[97m\\n\u001b[39m\u001b[49m\u001b[48;5;22m\u001b[97m\\n\u001b[39m\u001b[49m\u001b[48;5;22m\u001b[97mAre\u001b[39m\u001b[49m\u001b[48;5;22m\u001b[97m you\u001b[39m\u001b[49m\u001b[48;5;22m\u001b[97m looking\u001b[39m\u001b[49m\u001b[48;5;22m\u001b[97m for\u001b[39m\u001b[49m\u001b[102m\u001b[97m a\u001b[39m\u001b[49m\u001b[42m good\u001b[49m\u001b[48;5;22m\u001b[97m online\u001b[39m\u001b[49m\u001b[48;5;22m\u001b[97m business\u001b[39m\u001b[49m\u001b[48;5;22m\u001b[97m?\u001b[39m\u001b[49m\u001b[48;5;22m\u001b[97m\\n\u001b[39m\u001b[49m\u001b[48;5;22m\u001b[97m\\n\u001b[39m\u001b[49m\u001b[48;5;22m\u001b[97mAre\u001b[39m\u001b[49m\u001b[48;5;22m\u001b[97m you\u001b[39m\u001b[49m\u001b[48;5;22m\u001b[97m looking\u001b[39m\u001b[49m\u001b[48;5;22m\u001b[97m for\u001b[39m\u001b[49m\u001b[102m\u001b[97m a\u001b[39m\u001b[49m\u001b[42m good\u001b[49m\u001b[48;5;22m\u001b[97m online\u001b[39m\u001b[49m\u001b[48;5;22m\u001b[97m business\u001b[39m\u001b[49m\u001b[48;5;22m\u001b[97m?\u001b[39m\u001b[49m\u001b[48;5;22m\u001b[97m\\n\u001b[39m\u001b[49m"
     ]
    }
   ],
   "source": [
    "plot_probability_spectrum(model70m_dpo, text, tokenizer70m)"
   ]
  },
  {
   "cell_type": "markdown",
   "id": "067eb627-3729-48f3-8cc4-3ca1d19e123f",
   "metadata": {},
   "source": [
    "### Random integer"
   ]
  },
  {
   "cell_type": "code",
   "execution_count": 203,
   "id": "92a20174-d682-4019-a88d-4cbbb252ed5f",
   "metadata": {},
   "outputs": [],
   "source": [
    "text = \"Q: Tell me a random integer between 0 and 100. \\\n",
    "\\\n",
    "A: Ok, the integer is:\""
   ]
  },
  {
   "cell_type": "code",
   "execution_count": 204,
   "id": "f2e91088-785f-406a-8fa3-61b2ed627f27",
   "metadata": {
    "scrolled": true
   },
   "outputs": [
    {
     "name": "stderr",
     "output_type": "stream",
     "text": [
      "Setting `pad_token_id` to `eos_token_id`:0 for open-end generation.\n"
     ]
    },
    {
     "name": "stdout",
     "output_type": "stream",
     "text": [
      "\u001b[41m\u001b[97m 0\u001b[39m\u001b[49m - 0.0912\n",
      "\u001b[41m\u001b[97m 1\u001b[39m\u001b[49m - 0.0829\n",
      "\u001b[41m\u001b[97m\\n\u001b[39m\u001b[49m - 0.0566\n",
      "\u001b[101m\u001b[97m \"\u001b[39m\u001b[49m - 0.0461\n",
      "\u001b[101m\u001b[97m 100\u001b[39m\u001b[49m - 0.0302\n",
      "\u001b[101m\u001b[97m $\u001b[39m\u001b[49m - 0.0202\n",
      "\u001b[101m\u001b[97m 10\u001b[39m\u001b[49m - 0.0200\n",
      "\u001b[101m\u001b[97m I\u001b[39m\u001b[49m - 0.0192\n",
      "\u001b[101m\u001b[97m A\u001b[39m\u001b[49m - 0.0172\n",
      "\u001b[101m\u001b[97m 2\u001b[39m\u001b[49m - 0.0130\n",
      "\u001b[101m\u001b[97m `\u001b[39m\u001b[49m - 0.0117\n",
      "\u001b[101m\u001b[97m “\u001b[39m\u001b[49m - 0.0104\n",
      "\u001b[48;5;88m\u001b[97m (\u001b[39m\u001b[49m - 0.0092\n",
      "\u001b[48;5;88m\u001b[97m 5\u001b[39m\u001b[49m - 0.0087\n",
      "\u001b[48;5;88m\u001b[97m 4\u001b[39m\u001b[49m - 0.0083\n",
      "\u001b[48;5;88m\u001b[97m 20\u001b[39m\u001b[49m - 0.0081\n",
      "\u001b[48;5;88m\u001b[97m '\u001b[39m\u001b[49m - 0.0068\n",
      "\u001b[48;5;88m\u001b[97m 12\u001b[39m\u001b[49m - 0.0067\n",
      "\u001b[48;5;88m\u001b[97m X\u001b[39m\u001b[49m - 0.0064\n",
      "\u001b[48;5;88m\u001b[97m *\u001b[39m\u001b[49m - 0.0063\n",
      "\u001b[48;5;88m\u001b[97m [\u001b[39m\u001b[49m - 0.0060\n",
      "\u001b[48;5;88m\u001b[97m 16\u001b[39m\u001b[49m - 0.0058\n",
      "\u001b[48;5;88m\u001b[97m N\u001b[39m\u001b[49m - 0.0058\n",
      "\u001b[48;5;88m\u001b[97m T\u001b[39m\u001b[49m - 0.0057\n",
      "\u001b[48;5;88m\u001b[97m 9\u001b[39m\u001b[49m - 0.0057\n",
      "\u001b[48;5;88m\u001b[97m 3\u001b[39m\u001b[49m - 0.0055\n",
      "\u001b[48;5;88m\u001b[97m -\u001b[39m\u001b[49m - 0.0053\n",
      "\u001b[48;5;88m\u001b[97m 8\u001b[39m\u001b[49m - 0.0049\n",
      "\u001b[48;5;88m\u001b[97m  \u001b[39m\u001b[49m - 0.0046\n",
      "\u001b[48;5;88m\u001b[97m Y\u001b[39m\u001b[49m - 0.0045\n",
      "\u001b[48;5;88m\u001b[97m 15\u001b[39m\u001b[49m - 0.0044\n",
      "\u001b[48;5;88m\u001b[97m _\u001b[39m\u001b[49m - 0.0043\n",
      "\u001b[48;5;88m\u001b[97m 50\u001b[39m\u001b[49m - 0.0043\n",
      "\u001b[48;5;88m\u001b[97m D\u001b[39m\u001b[49m - 0.0042\n",
      "\u001b[48;5;88m\u001b[97m R\u001b[39m\u001b[49m - 0.0039\n",
      "\u001b[48;5;88m\u001b[97m 1000\u001b[39m\u001b[49m - 0.0039\n",
      "\u001b[48;5;88m\u001b[97m P\u001b[39m\u001b[49m - 0.0039\n",
      "\u001b[48;5;88m\u001b[97m The\u001b[39m\u001b[49m - 0.0038\n",
      "\u001b[48;5;88m\u001b[97m 6\u001b[39m\u001b[49m - 0.0037\n",
      "\u001b[48;5;88m\u001b[97m 101\u001b[39m\u001b[49m - 0.0037\n",
      "\u001b[48;5;88m\u001b[97m M\u001b[39m\u001b[49m - 0.0037\n",
      "\u001b[48;5;88m\u001b[97m Z\u001b[39m\u001b[49m - 0.0037\n",
      "\u001b[48;5;88m\u001b[97m 25\u001b[39m\u001b[49m - 0.0036\n",
      "\u001b[48;5;88m\u001b[97m W\u001b[39m\u001b[49m - 0.0036\n",
      "\u001b[48;5;88m\u001b[97m 7\u001b[39m\u001b[49m - 0.0036\n",
      "\u001b[48;5;88m\u001b[97m J\u001b[39m\u001b[49m - 0.0035\n",
      "\u001b[48;5;88m\u001b[97m K\u001b[39m\u001b[49m - 0.0033\n",
      "\u001b[48;5;88m\u001b[97m O\u001b[39m\u001b[49m - 0.0032\n",
      "\u001b[48;5;88m\u001b[97m x\u001b[39m\u001b[49m - 0.0032\n",
      "\u001b[48;5;88m\u001b[97m \\\u001b[39m\u001b[49m - 0.0031\n"
     ]
    }
   ],
   "source": [
    "toks_base, tok_probs_base = output_probs(model70m_base, text, tokenizer70m)"
   ]
  },
  {
   "cell_type": "code",
   "execution_count": 205,
   "id": "6ecfca21-2fc4-406a-ba5d-2ebbabf40fb3",
   "metadata": {
    "scrolled": true
   },
   "outputs": [
    {
     "name": "stderr",
     "output_type": "stream",
     "text": [
      "Setting `pad_token_id` to `eos_token_id`:0 for open-end generation.\n"
     ]
    },
    {
     "name": "stdout",
     "output_type": "stream",
     "text": [
      "\u001b[48;2;255;150;50m 0\u001b[49m - 0.2031\n",
      "\u001b[48;2;255;120;0m\\n\u001b[49m - 0.1124\n",
      "\u001b[48;2;255;120;0m 1\u001b[49m - 0.1010\n",
      "\u001b[41m\u001b[97m \"\u001b[39m\u001b[49m - 0.0616\n",
      "\u001b[101m\u001b[97m 100\u001b[39m\u001b[49m - 0.0343\n",
      "\u001b[101m\u001b[97m “\u001b[39m\u001b[49m - 0.0315\n",
      "\u001b[101m\u001b[97m  \u001b[39m\u001b[49m - 0.0297\n",
      "\u001b[101m\u001b[97m 10\u001b[39m\u001b[49m - 0.0269\n",
      "\u001b[101m\u001b[97m $\u001b[39m\u001b[49m - 0.0205\n",
      "\u001b[101m\u001b[97m A\u001b[39m\u001b[49m - 0.0201\n",
      "\u001b[101m\u001b[97m 2\u001b[39m\u001b[49m - 0.0197\n",
      "\u001b[101m\u001b[97m 4\u001b[39m\u001b[49m - 0.0139\n",
      "\u001b[101m\u001b[97m 5\u001b[39m\u001b[49m - 0.0121\n",
      "\u001b[101m\u001b[97m 9\u001b[39m\u001b[49m - 0.0109\n",
      "\u001b[101m\u001b[97m -\u001b[39m\u001b[49m - 0.0107\n",
      "\u001b[101m\u001b[97m Z\u001b[39m\u001b[49m - 0.0104\n",
      "\u001b[101m\u001b[97m I\u001b[39m\u001b[49m - 0.0102\n",
      "\u001b[101m\u001b[97m 20\u001b[39m\u001b[49m - 0.0100\n",
      "\u001b[48;5;88m\u001b[97m 8\u001b[39m\u001b[49m - 0.0099\n",
      "\u001b[48;5;88m\u001b[97m 12\u001b[39m\u001b[49m - 0.0097\n",
      "\u001b[48;5;88m\u001b[97m 16\u001b[39m\u001b[49m - 0.0077\n",
      "\u001b[48;5;88m\u001b[97m 3\u001b[39m\u001b[49m - 0.0077\n",
      "\u001b[48;5;88m\u001b[97m 6\u001b[39m\u001b[49m - 0.0064\n",
      "\u001b[48;5;88m\u001b[97m 200\u001b[39m\u001b[49m - 0.0062\n",
      "\u001b[48;5;88m\u001b[97m 7\u001b[39m\u001b[49m - 0.0058\n",
      "\u001b[48;5;88m\u001b[97m N\u001b[39m\u001b[49m - 0.0058\n",
      "\u001b[48;5;88m\u001b[97m 1000\u001b[39m\u001b[49m - 0.0045\n",
      "\u001b[48;5;88m\u001b[97m J\u001b[39m\u001b[49m - 0.0043\n",
      "\u001b[48;5;88m\u001b[97m X\u001b[39m\u001b[49m - 0.0041\n",
      "\u001b[48;5;88m\u001b[97m (\u001b[39m\u001b[49m - 0.0040\n",
      "\u001b[48;5;88m\u001b[97m 11\u001b[39m\u001b[49m - 0.0036\n",
      "\u001b[48;5;88m\u001b[97m T\u001b[39m\u001b[49m - 0.0036\n",
      "\u001b[48;5;88m\u001b[97m 50\u001b[39m\u001b[49m - 0.0035\n",
      "\u001b[48;5;88m\u001b[97m 15\u001b[39m\u001b[49m - 0.0032\n",
      "\u001b[48;5;88m\u001b[97m B\u001b[39m\u001b[49m - 0.0031\n",
      "\u001b[48;5;88m\u001b[97m Y\u001b[39m\u001b[49m - 0.0031\n",
      "\u001b[48;5;88m\u001b[97m 500\u001b[39m\u001b[49m - 0.0030\n",
      "\u001b[48;5;88m\u001b[97m n\u001b[39m\u001b[49m - 0.0030\n",
      "\u001b[48;5;88m\u001b[97m 25\u001b[39m\u001b[49m - 0.0029\n",
      "\u001b[48;5;88m\u001b[97m W\u001b[39m\u001b[49m - 0.0027\n",
      "\u001b[48;5;88m\u001b[97m z\u001b[39m\u001b[49m - 0.0027\n",
      "\u001b[48;5;88m\u001b[97m a\u001b[39m\u001b[49m - 0.0026\n",
      "\u001b[48;5;88m\u001b[97m D\u001b[39m\u001b[49m - 0.0026\n",
      "\u001b[48;5;88m\u001b[97m 30\u001b[39m\u001b[49m - 0.0026\n",
      "\u001b[48;5;88m\u001b[97m K\u001b[39m\u001b[49m - 0.0025\n",
      "\u001b[48;5;88m\u001b[97m 14\u001b[39m\u001b[49m - 0.0024\n",
      "\u001b[48;5;88m\u001b[97m H\u001b[39m\u001b[49m - 0.0024\n",
      "\u001b[48;5;88m\u001b[97m 13\u001b[39m\u001b[49m - 0.0023\n",
      "\u001b[48;5;88m\u001b[97m F\u001b[39m\u001b[49m - 0.0022\n",
      "\u001b[48;5;88m\u001b[97m 400\u001b[39m\u001b[49m - 0.0022\n"
     ]
    }
   ],
   "source": [
    "toks_sft, tok_probs_sft = output_probs(model70m_sft, text, tokenizer70m)"
   ]
  },
  {
   "cell_type": "code",
   "execution_count": 206,
   "id": "d474ef45-7f7d-4cc8-8beb-3aa6e1be32e4",
   "metadata": {
    "scrolled": true
   },
   "outputs": [
    {
     "name": "stderr",
     "output_type": "stream",
     "text": [
      "Setting `pad_token_id` to `eos_token_id`:0 for open-end generation.\n"
     ]
    },
    {
     "name": "stdout",
     "output_type": "stream",
     "text": [
      "\u001b[48;2;255;150;50m 0\u001b[49m - 0.2001\n",
      "\u001b[48;2;255;120;0m 1\u001b[49m - 0.1085\n",
      "\u001b[41m\u001b[97m\\n\u001b[39m\u001b[49m - 0.0642\n",
      "\u001b[101m\u001b[97m \"\u001b[39m\u001b[49m - 0.0383\n",
      "\u001b[101m\u001b[97m 10\u001b[39m\u001b[49m - 0.0332\n",
      "\u001b[101m\u001b[97m  \u001b[39m\u001b[49m - 0.0290\n",
      "\u001b[101m\u001b[97m 2\u001b[39m\u001b[49m - 0.0289\n",
      "\u001b[101m\u001b[97m A\u001b[39m\u001b[49m - 0.0276\n",
      "\u001b[101m\u001b[97m 4\u001b[39m\u001b[49m - 0.0265\n",
      "\u001b[101m\u001b[97m $\u001b[39m\u001b[49m - 0.0213\n",
      "\u001b[101m\u001b[97m 100\u001b[39m\u001b[49m - 0.0212\n",
      "\u001b[101m\u001b[97m Z\u001b[39m\u001b[49m - 0.0195\n",
      "\u001b[101m\u001b[97m -\u001b[39m\u001b[49m - 0.0188\n",
      "\u001b[101m\u001b[97m 12\u001b[39m\u001b[49m - 0.0147\n",
      "\u001b[101m\u001b[97m “\u001b[39m\u001b[49m - 0.0138\n",
      "\u001b[101m\u001b[97m 5\u001b[39m\u001b[49m - 0.0136\n",
      "\u001b[101m\u001b[97m 9\u001b[39m\u001b[49m - 0.0136\n",
      "\u001b[101m\u001b[97m 6\u001b[39m\u001b[49m - 0.0129\n",
      "\u001b[101m\u001b[97m I\u001b[39m\u001b[49m - 0.0129\n",
      "\u001b[101m\u001b[97m 3\u001b[39m\u001b[49m - 0.0121\n",
      "\u001b[101m\u001b[97m 8\u001b[39m\u001b[49m - 0.0117\n",
      "\u001b[101m\u001b[97m 20\u001b[39m\u001b[49m - 0.0100\n",
      "\u001b[48;5;88m\u001b[97m 200\u001b[39m\u001b[49m - 0.0087\n",
      "\u001b[48;5;88m\u001b[97m 16\u001b[39m\u001b[49m - 0.0081\n",
      "\u001b[48;5;88m\u001b[97m N\u001b[39m\u001b[49m - 0.0079\n",
      "\u001b[48;5;88m\u001b[97m X\u001b[39m\u001b[49m - 0.0075\n",
      "\u001b[48;5;88m\u001b[97m 7\u001b[39m\u001b[49m - 0.0074\n",
      "\u001b[48;5;88m\u001b[97m (\u001b[39m\u001b[49m - 0.0065\n",
      "\u001b[48;5;88m\u001b[97m z\u001b[39m\u001b[49m - 0.0046\n",
      "\u001b[48;5;88m\u001b[97m W\u001b[39m\u001b[49m - 0.0045\n",
      "\u001b[48;5;88m\u001b[97m 13\u001b[39m\u001b[49m - 0.0040\n",
      "\u001b[48;5;88m\u001b[97m Y\u001b[39m\u001b[49m - 0.0039\n",
      "\u001b[48;5;88m\u001b[97m 400\u001b[39m\u001b[49m - 0.0037\n",
      "\u001b[48;5;88m\u001b[97m B\u001b[39m\u001b[49m - 0.0036\n",
      "\u001b[48;5;88m\u001b[97m 1000\u001b[39m\u001b[49m - 0.0034\n",
      "\u001b[48;5;88m\u001b[97m 30\u001b[39m\u001b[49m - 0.0034\n",
      "\u001b[48;5;88m\u001b[97m 24\u001b[39m\u001b[49m - 0.0033\n",
      "\u001b[48;5;88m\u001b[97m D\u001b[39m\u001b[49m - 0.0033\n",
      "\u001b[48;5;88m\u001b[97m J\u001b[39m\u001b[49m - 0.0033\n",
      "\u001b[48;5;88m\u001b[97m P\u001b[39m\u001b[49m - 0.0032\n",
      "\u001b[48;5;88m\u001b[97m T\u001b[39m\u001b[49m - 0.0028\n",
      "\u001b[48;5;88m\u001b[97m 17\u001b[39m\u001b[49m - 0.0028\n",
      "\u001b[48;5;88m\u001b[97m 15\u001b[39m\u001b[49m - 0.0027\n",
      "\u001b[48;5;88m\u001b[97m F\u001b[39m\u001b[49m - 0.0027\n",
      "\u001b[48;5;88m\u001b[97m Yes\u001b[39m\u001b[49m - 0.0026\n",
      "\u001b[48;5;88m\u001b[97m 50\u001b[39m\u001b[49m - 0.0025\n",
      "\u001b[48;5;88m\u001b[97m 14\u001b[39m\u001b[49m - 0.0024\n",
      "\u001b[48;5;88m\u001b[97m U\u001b[39m\u001b[49m - 0.0023\n",
      "\u001b[48;5;88m\u001b[97m 11\u001b[39m\u001b[49m - 0.0022\n",
      "\u001b[48;5;88m\u001b[97m 21\u001b[39m\u001b[49m - 0.0022\n"
     ]
    }
   ],
   "source": [
    "toks_dpo, tok_probs_dpo = output_probs(model70m_dpo, text, tokenizer70m)"
   ]
  },
  {
   "cell_type": "code",
   "execution_count": 207,
   "id": "3d1660c5-300f-4707-b9d3-a558ed8bcd42",
   "metadata": {},
   "outputs": [
    {
     "data": {
      "text/plain": [
       "(0.0, 1.0)"
      ]
     },
     "execution_count": 207,
     "metadata": {},
     "output_type": "execute_result"
    },
    {
     "data": {
      "image/png": "[encoded data removed]",
      "text/plain": [
       "<Figure size 640x480 with 1 Axes>"
      ]
     },
     "metadata": {},
     "output_type": "display_data"
    }
   ],
   "source": [
    "plt.plot([tokenizer70m.decode(toks_base[i]) for i in range(len(toks_base))], tok_probs_base)\n",
    "plt.ylim((0,1))"
   ]
  },
  {
   "cell_type": "code",
   "execution_count": 208,
   "id": "2957117d-1bf4-4ab7-9f3f-aafcb9302344",
   "metadata": {},
   "outputs": [
    {
     "data": {
      "text/plain": [
       "(0.0, 1.0)"
      ]
     },
     "execution_count": 208,
     "metadata": {},
     "output_type": "execute_result"
    },
    {
     "data": {
      "image/png": "[encoded data removed]",
      "text/plain": [
       "<Figure size 640x480 with 1 Axes>"
      ]
     },
     "metadata": {},
     "output_type": "display_data"
    }
   ],
   "source": [
    "plt.plot([tokenizer70m.decode(toks_sft[i]) for i in range(len(toks_sft))], tok_probs_sft)\n",
    "plt.ylim((0,1))"
   ]
  },
  {
   "cell_type": "code",
   "execution_count": 209,
   "id": "94c9b70b-e1df-49b6-bd06-bca626b31c3f",
   "metadata": {},
   "outputs": [
    {
     "data": {
      "text/plain": [
       "(0.0, 1.0)"
      ]
     },
     "execution_count": 209,
     "metadata": {},
     "output_type": "execute_result"
    },
    {
     "data": {
      "image/png": "[encoded data removed]",
      "text/plain": [
       "<Figure size 640x480 with 1 Axes>"
      ]
     },
     "metadata": {},
     "output_type": "display_data"
    }
   ],
   "source": [
    "plt.plot([tokenizer70m.decode(toks_dpo[i]) for i in range(len(toks_dpo))], tok_probs_dpo)\n",
    "plt.ylim((0,1))"
   ]
  },
  {
   "cell_type": "code",
   "execution_count": null,
   "id": "b57887b5-9256-4f76-b12c-fcd89494934e",
   "metadata": {},
   "outputs": [],
   "source": []
  },
  {
   "cell_type": "code",
   "execution_count": null,
   "id": "f2e40689-1027-4b6d-a2fc-1122d4570aae",
   "metadata": {},
   "outputs": [],
   "source": []
  }
 ],
 "metadata": {
  "kernelspec": {
   "display_name": "Python 3 (ipykernel)",
   "language": "python",
   "name": "python3"
  },
  "language_info": {
   "codemirror_mode": {
    "name": "ipython",
    "version": 3
   },
   "file_extension": ".py",
   "mimetype": "text/x-python",
   "name": "python",
   "nbconvert_exporter": "python",
   "pygments_lexer": "ipython3",
   "version": "3.11.7"
  }
 },
 "nbformat": 4,
 "nbformat_minor": 5
}
