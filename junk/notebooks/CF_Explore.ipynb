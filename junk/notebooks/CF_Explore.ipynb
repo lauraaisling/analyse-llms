{
 "cells": [
  {
   "cell_type": "code",
   "execution_count": 4,
   "id": "a600eb6f-7ee9-4dbb-9c04-e66a5c4b34ef",
   "metadata": {},
   "outputs": [],
   "source": [
    "import matplotlib.patheffects as path_effects\n",
    "import matplotlib.pyplot as plt\n",
    "import numpy as np\n",
    "import os, sys\n",
    "sys.path.append(f\"{os.path.dirname(os.getcwd())}/scripts\")"
   ]
  },
  {
   "cell_type": "code",
   "execution_count": 5,
   "id": "e09aef15-e4b2-408f-abbc-d9069bdd450c",
   "metadata": {},
   "outputs": [],
   "source": [
    "# from creative_and_factual_metrics import *"
   ]
  },
  {
   "cell_type": "code",
   "execution_count": 6,
   "id": "d612cb38-4c36-4825-bc26-b9479b15b443",
   "metadata": {},
   "outputs": [],
   "source": [
    "from sentence_transformers import SentenceTransformer\n",
    "from diversity_metrics.metrics.model_free_metrics import *\n",
    "from diversity_metrics.embeddings.models import *\n",
    "from diversity_metrics.metrics.generalized_diversity import *"
   ]
  },
  {
   "cell_type": "code",
   "execution_count": 81,
   "id": "bc59d750-e600-4dd8-983d-785b2ef6a71f",
   "metadata": {},
   "outputs": [],
   "source": [
    "creative_prompts = [\"Write a long poem.\", \n",
    "                    \"Tell me a joke.\", # Doesn't work great\n",
    "                    \"Describe the feeling of love.\", \n",
    "                    \"Write a story starting with 'Once upon a time...'\",\n",
    "                    \"Tell a story about a dog.\", \n",
    "                    \"Write a song.\", \n",
    "                    \"Write a poem about a robot.\", \n",
    "                    \"Invent an original recipe.\", # pythia already seen\n",
    "                    \"Imagine a new object and describe what it looks like.\", \n",
    "                    \"Imagine a new philosophy and describe it.\", \n",
    "                    \"Create a new game and explain the rules.\", \n",
    "                    \"Write a new myth explaining the origin of rainbows.\", \n",
    "                    \"Write a dialogue between the moon and the sun.\", \n",
    "                    \"Compose a lullaby.\", \n",
    "                    \"Write a news headline for the year 2050.\",\n",
    "                    \"Invent a riddle and write it down.\", # difficult one\n",
    "                    \"Write a story about two people seeing each other for the first time.\",\n",
    "                    \"Write a story about a person who is afraid of the dark.\", \n",
    "                    \"Make a poem about llamas.\", \n",
    "                    \"Invent a new word and define it.\"]\n",
    "\n",
    "creative_guides = [\" Of course, I'd be happy to help you with a poem! Here is a poem:\\n\\nIn the depths of a forest so green,\",\n",
    "                  \" Of course, here is the funniest joke I know:\\n\\nKnock, knock. \\n Who’s there?\", \n",
    "                  \" Of course, here are my thoughts on love:\\n\\nLove is a complex\", \n",
    "                  \" Of course, here is a story:\\n\\nOnce upon a time,\",\n",
    "                  \" Of course, here is a story:\\n\\nOnce upon a time, \", \n",
    "                  \" Of course, here is a song:\\n\\nIn the quiet of the morning light,\\n\",\n",
    "                  \" Of course, here is a poem:\\n\\nIn a world\\n\",\n",
    "                  \" Of course, here is a recipe for Spicy Mango Chicken Tacos. The ingredients are 1 small\",\n",
    "                  \" Of course, I'd be happy to imagine a new object. Okay, so the object I'm picturing in my mind is\",\n",
    "                  \" Of course, I am a large language model that is well-read on philosophy. A new philosophy could be named\",\n",
    "                  \" Sure, I can assist you in generating ideas for games. I can create a game for you called\",\n",
    "                  \" Sure, there are many myths and legends on the origin of rainbows, so I'll create a new one for you! \\n\\nRainbows are\",\n",
    "                  \" Sure, I can do that. Here is a sample dialogue:\\n\\nThe\",\n",
    "                  \" Of course, here is a lullaby for you:\\n\\nSleep\",\n",
    "                  \" Of course, here is an imagined news headline for the year 2050:\\n\\nThe\",\n",
    "                  \" Of course, here is a nice riddle:\\n\\nWhat is\",\n",
    "                  \" Of course, here is a story:\\n\\nOnce upon a time,\",\n",
    "                  \" Of course, here is a story:\\n\\nOnce upon a time,\",\n",
    "                  \" Of course, here is a poem about llamas:\\n\\nLlamas\",\n",
    "                  \" Okay, I will try to invent a new word.\\n\\nThe word\"]\n",
    "\n",
    "factual_prompts = [\"What is the capital of France?\", \n",
    "                   \"How is H2O commonly known?\", \n",
    "                   \"What is the largest country in the world by area?\", \n",
    "                   \"How many days are in a year?\",\n",
    "                   \"What is the largest planet in the solar system?\", \n",
    "                   \"What is the largest animal in the world?\", \n",
    "                   \"How do you say hello in Spanish?\", \n",
    "                   \"Who won the 2018 World Cup?\",\n",
    "                   \"What is the biggest city in Europe?\", \n",
    "                   \"What is the largest country in Africa?\", \n",
    "                   \"What was the last battle of Napoleon?\", \n",
    "                   \"What is a nickname for someone from New Zealand?\",\n",
    "                   \"How do you call someone who studies plants?\", \n",
    "                   \"Who invented the telephone?\", \n",
    "                   \"What mammal lays eggs?\", \n",
    "                   \"Which bone is the longest in the human body?\", \n",
    "                   \"What is the anthem of France?\",\n",
    "                   \"Who wrote Cannery Row?\", \n",
    "                   \"Who was the first president of the United States?\", \n",
    "                   \"Which painter painted the Mona Lisa?\"]\n",
    "\n",
    "factual_guides = [\" Sure let me answer your question. The\",\n",
    "                  \" Sure let me answer your question. It is commonly\",\n",
    "                  \" Sure let me answer your question. The\", \n",
    "                  \" Sure let me answer your question. There\",\n",
    "                  \" Sure let me answer your question. The largest\",\n",
    "                  \" Sure let me answer your question. The\",\n",
    "                  \" Sure let me answer your question. To say\",\n",
    "                  \" Sure let me answer your question. The winner was\",\n",
    "                  \" Sure let me answer your question. The\",\n",
    "                  \" Sure let me answer your question. The largest\",\n",
    "                  \" Sure let me answer your question. The\",\n",
    "                  \" Sure let me answer your question. A nickname for\",\n",
    "                  \" Sure let me answer your question. A\",\n",
    "                  \" Sure let me answer your question. The\",\n",
    "                  \" Sure let me answer your question. The term for\",\n",
    "                  \" Sure let me answer your question. The\",\n",
    "                  \" Sure let me answer your question. The anthem\",\n",
    "                  \" Sure let me answer your question. The writer\",\n",
    "                  \" Sure let me answer your question. The first\",\n",
    "                  \" Sure let me answer your question. It was\"]\n",
    "\n",
    "factual_ans = [[\"Paris\"], # not case sensitive! Watch for spellings, spaces... \n",
    "              [\"water\"],\n",
    "              [\"Russia\"], # Pythia doesn't know this\n",
    "              [\"365\"],\n",
    "              [\"Jupiter\"],\n",
    "              [\"whale\"], # blue whale specifically, models often says elephant\n",
    "              [\"hola\"], # model often adds alternative \"buenos dias\" meaning \"good day\"\n",
    "              [\"France\"], # often doesn't answer or says croatia\n",
    "              [\"Istanbul\"], # Usually says London or Moscow. Sometimes says Paris, Rome, etc... Even llama-chat gets it wrong. \n",
    "              [\"Algeria\"], # often says Congo or Sudan etc. Only llama chat gets it right suggesting it's in FTing dataset... \n",
    "              [\"Waterloo\"], # Battle of Waterloo\n",
    "              [\"Kiwi\"], # most models don't get this... \n",
    "              [\"botanist\"], # pythia not great\n",
    "              [\"Alexander\", \"Graham Bell\"], # pythia has trouble\n",
    "              [\"monotreme\"], # # pythia and non llama-chat have trouble\n",
    "              [\"Femur\"],\n",
    "              [\"Marseillaise\"], # La Marseillaise\n",
    "              [\"John Steinbeck\", \"Steinbeck\"], # Pythia doesn't know\n",
    "              [\"George Washington\"],\n",
    "              [\"Leonardo\", \"Vinci\"]] "
   ]
  },
  {
   "cell_type": "code",
   "execution_count": 82,
   "id": "ee3a504a-339e-4ca2-ac51-d60d59f25a1d",
   "metadata": {},
   "outputs": [],
   "source": [
    "temperatures = [k / 10. for k in range(1, 16)]"
   ]
  },
  {
   "cell_type": "code",
   "execution_count": 83,
   "id": "e8685be4-6ec2-4cf2-8a5e-cf20568e31b5",
   "metadata": {},
   "outputs": [],
   "source": [
    "# completions_creative = np.load(f\"{os.path.dirname(os.getcwd())}/results/completions_creative_max_length70.npy\", allow_pickle=True)\n",
    "llama2_completions_creative = np.load(f\"{os.path.dirname(os.path.dirname(os.getcwd()))}/results/completions/llama2_completions_creative_max_length70.npy\", allow_pickle=True)\n",
    "llama2_chat_completions_creative = np.load(f\"{os.path.dirname(os.path.dirname(os.getcwd()))}/results/completions/llama2-chat_completions_creative_max_length70.npy\", allow_pickle=True)\n",
    "llama2_sft_completions_creative = np.load(f\"{os.path.dirname(os.path.dirname(os.getcwd()))}/results/completions/llama2-sft_completions_creative_max_length70.npy\", allow_pickle=True)\n",
    "llama2_dpo_completions_creative = np.load(f\"{os.path.dirname(os.path.dirname(os.getcwd()))}/results/completions/llama2-dpo_completions_creative_max_length70.npy\", allow_pickle=True)\n",
    "llama2_ppo_completions_creative = np.load(f\"{os.path.dirname(os.path.dirname(os.getcwd()))}/results/completions/llama2-ppo_completions_creative_max_length70.npy\", allow_pickle=True)\n",
    "pythia_28b_completions_creative = np.load(f\"{os.path.dirname(os.path.dirname(os.getcwd()))}/results/completions/pythia-2.8b_completions_creative_max_length70.npy\", allow_pickle=True)\n",
    "pythia_28b_sft_completions_creative = np.load(f\"{os.path.dirname(os.path.dirname(os.getcwd()))}/results/completions/pythia-2.8b-sft_completions_creative_max_length70.npy\", allow_pickle=True)\n",
    "pythia_28b_dpo_completions_creative = np.load(f\"{os.path.dirname(os.path.dirname(os.getcwd()))}/results/completions/pythia-2.8b-dpo_completions_creative_max_length70.npy\", allow_pickle=True)\n",
    "\n",
    "llama2_completions_factual = np.load(f\"{os.path.dirname(os.path.dirname(os.getcwd()))}/results/completions/llama2_completions_factual_max_length25.npy\", allow_pickle=True)\n",
    "llama2_chat_completions_factual = np.load(f\"{os.path.dirname(os.path.dirname(os.getcwd()))}/results/completions/llama2-chat_completions_factual_max_length25.npy\", allow_pickle=True)\n",
    "llama2_sft_completions_factual = np.load(f\"{os.path.dirname(os.path.dirname(os.getcwd()))}/results/completions/llama2-sft_completions_factual_max_length25.npy\", allow_pickle=True)\n",
    "llama2_dpo_completions_factual = np.load(f\"{os.path.dirname(os.path.dirname(os.getcwd()))}/results/completions/llama2-dpo_completions_factual_max_length25.npy\", allow_pickle=True)\n",
    "llama2_ppo_completions_factual = np.load(f\"{os.path.dirname(os.path.dirname(os.getcwd()))}/results/completions/llama2-ppo_completions_factual_max_length25.npy\", allow_pickle=True)\n",
    "pythia_28b_completions_factual = np.load(f\"{os.path.dirname(os.path.dirname(os.getcwd()))}/results/completions/pythia-2.8b_completions_factual_max_length25.npy\", allow_pickle=True)\n",
    "pythia_28b_sft_completions_factual = np.load(f\"{os.path.dirname(os.path.dirname(os.getcwd()))}/results/completions/pythia-2.8b-sft_completions_factual_max_length25.npy\", allow_pickle=True)\n",
    "pythia_28b_dpo_completions_factual = np.load(f\"{os.path.dirname(os.path.dirname(os.getcwd()))}/results/completions/pythia-2.8b-dpo_completions_factual_max_length25.npy\", allow_pickle=True)\n"
   ]
  },
  {
   "cell_type": "code",
   "execution_count": 84,
   "id": "087973c7-485b-4fb6-a491-b95cadc1fcbb",
   "metadata": {},
   "outputs": [],
   "source": [
    "# llama2_results_5_words = np.load(f\"{os.path.dirname(os.getcwd())}/results/llama2_results_5_words.npy\", allow_pickle=True).item()\n",
    "# llama2_chat_results_5_words = np.load(f\"{os.path.dirname(os.getcwd())}/results/llama2-chat_results_5_words.npy\", allow_pickle=True).item()\n",
    "# pythia_28b_results_5_words  = np.load(f\"{os.path.dirname(os.getcwd())}/results/pythia-2.8b_results_5_words.npy\", allow_pickle=True).item()\n",
    "# pythia_28b_sft_results_5_words  = np.load(f\"{os.path.dirname(os.getcwd())}/results/pythia-2.8b-sft_results_5_words.npy\", allow_pickle=True).item()\n",
    "# pythia_28b_dpo_results_5_words  = np.load(f\"{os.path.dirname(os.getcwd())}/results/pythia-2.8b-dpo_results_5_words.npy\", allow_pickle=True).item()\n",
    "\n",
    "llama2_results_20_words = np.load(f\"{os.path.dirname(os.path.dirname(os.getcwd()))}/results/creative_factual/llama2_results_20_words.npy\", allow_pickle=True).item()\n",
    "llama2_chat_results_20_words = np.load(f\"{os.path.dirname(os.path.dirname(os.getcwd()))}/results/creative_factual/llama2-chat_results_20_words.npy\", allow_pickle=True).item()\n",
    "llama2_sft_results_20_words = np.load(f\"{os.path.dirname(os.path.dirname(os.getcwd()))}/results/creative_factual/llama2-sft_results_20_words.npy\", allow_pickle=True).item()\n",
    "llama2_dpo_results_20_words = np.load(f\"{os.path.dirname(os.path.dirname(os.getcwd()))}/results/creative_factual/llama2-dpo_results_20_words.npy\", allow_pickle=True).item()\n",
    "llama2_ppo_results_20_words = np.load(f\"{os.path.dirname(os.path.dirname(os.getcwd()))}/results/creative_factual/llama2-ppo_results_20_words.npy\", allow_pickle=True).item()\n",
    "pythia_28b_results_20_words  = np.load(f\"{os.path.dirname(os.path.dirname(os.getcwd()))}/results/creative_factual/pythia-2.8b_results_20_words.npy\", allow_pickle=True).item()\n",
    "pythia_28b_sft_results_20_words  = np.load(f\"{os.path.dirname(os.path.dirname(os.getcwd()))}/results/creative_factual/pythia-2.8b-sft_results_20_words.npy\", allow_pickle=True).item()\n",
    "pythia_28b_dpo_results_20_words  = np.load(f\"{os.path.dirname(os.path.dirname(os.getcwd()))}/results/creative_factual/pythia-2.8b-dpo_results_20_words.npy\", allow_pickle=True).item()\n"
   ]
  },
  {
   "cell_type": "code",
   "execution_count": 85,
   "id": "29227e2b-8e67-44c1-9254-d2fc9c2970b9",
   "metadata": {},
   "outputs": [],
   "source": [
    "# llama2_results_20_words.keys() # dict_keys(['creative', 'factual'])\n",
    "# len(llama2_results_20_words) # 2 creative, factual\n",
    "# llama2_results_20_words['creative'] \n",
    "# llama2_results_20_words['creative'].keys() # metrics\n",
    "# len(llama2_results_20_words['creative']) # 20 metrics\n",
    "# llama2_results_20_words['creative']['selfBleuSmoothed']\n",
    "# len(llama2_results_20_words['creative']['selfBleuSmoothed']) # 15 temperatures? - len(temperatures) 15\n",
    "# llama2_results_20_words['creative']['selfBleuSmoothed'][0]\n",
    "# len(llama2_results_20_words['creative']['selfBleuSmoothed'][0]) # 20 prompts\n",
    "# llama2_results_20_words['creative']['selfBleuSmoothed'][0][0] # 1 model\n",
    "\n",
    "# [2 factual creative, 20 metrics, 15 temperatures, 20 prompts, 1 model!!!]"
   ]
  },
  {
   "cell_type": "code",
   "execution_count": 86,
   "id": "057e3ba5-0bd3-4625-8816-ce3edf1c242e",
   "metadata": {},
   "outputs": [],
   "source": [
    "# llama2_completions_creative.shape # (15, 20, 1) 15 temperatures, 20 prompts, 1 model"
   ]
  },
  {
   "cell_type": "code",
   "execution_count": 87,
   "id": "43ff25c0-57b0-44c1-959b-1b609c6547f1",
   "metadata": {},
   "outputs": [],
   "source": [
    "temperature_idx = 9\n",
    "prompt_idx = 0\n",
    "model = 0"
   ]
  },
  {
   "cell_type": "code",
   "execution_count": 89,
   "id": "86b6b725-d6c3-4190-8658-a4b2d6d4f96a",
   "metadata": {},
   "outputs": [
    {
     "name": "stdout",
     "output_type": "stream",
     "text": [
      "Write a long poem.\n",
      " Of course, I'd be happy to help you with a poem! Here is a poem:\n",
      "\n",
      "In the depths of a forest so green,\n",
      "1.0\n"
     ]
    }
   ],
   "source": [
    "print(creative_prompts[prompt_idx])\n",
    "print(creative_guides[prompt_idx])\n",
    "print(temperatures[temperature_idx])"
   ]
  },
  {
   "cell_type": "code",
   "execution_count": 90,
   "id": "723dc4c0-8049-4e17-8320-765d25ba0d39",
   "metadata": {
    "scrolled": true
   },
   "outputs": [
    {
     "data": {
      "text/plain": [
       "[\"\\n\\nthe wind blew the trees back and forth between.\\n\\nTrees are everywhere and it's a nice place to visit and enjoy yourself.\\n\",\n",
       " 'I once saw a deer. In the winter, she had a thin white mane. I once heard her speak, and she said, \"Soon I will die. I\\'ll be a deer\\'s head in the sky.\" I\\'m not sure how to write a poem that will make you cry. If you want to',\n",
       " '\\nThere was a tiny worm called Sven,\\nWhen the leaves fell, he would hide,\\nAnd hide, until it was time to ride.\\nBut every time, he was caught,\\nBy a little boy who lived on a cot.\\nAnd so Sven cried, \"How could you,\\nI\\'ll never get',\n",
       " \"\\nThere lives a creature so mean.\\nHe eats berries, stems, leaves and shoots,\\nThe tree's only source of sustenance, too.\\n\\nThis monster has big, sharp teeth,\\nWhich he uses to eat leaves and stems,\\nThen he makes a home in a tree,\",\n",
       " '\\na little boy sat under the tree.\\nWith his sisters and brothers he played\\nand he prayed for a miracle.\\n\\nWhen he woke up that morning,\\na huge fairy had landed upon him.\\nThe fairy had told him,\\n\"Tonight you shall dream a dream.\"\\n\\n',\n",
       " \" \\nThere is a flower in need of a queen,  \\nA beautiful, bright pink, red rose,  \\nTo be the rose of the forest, you choose.\\n\\nNow, go ahead and write your poem, post it here and then we'll share it with each other!\",\n",
       " '\\nA cute deer stood in the shade,\\nAnd as she gazed on the landscape around her,\\nShe said to herself, \"This place is so sweet,\\nIt\\'s a shame that humans have been a pain in the neck,\\nI wish I was human and not a deer.\"\\n\\nSo she stood',\n",
       " ' \\nLived a tree.  \\nThis tree,  \\nwas a tree.  \\nNo one cared  \\nthat he was a tree  \\nAnd no one cared  \\ntoo much  \\nabout him.  \\nUntil one day  \\nwhen he was a tree  \\nA squirrel  \\nwas',\n",
       " '\\nThere lived a girl named Megan.\\nIn the morning she went for a walk,\\nAnd was attacked by a bear.\\n\"A bear, what?\" you ask,\\nWell, I just don\\'t know.\\nHer friend tried to fight the bear,\\nAnd was thrown in the air.\\nShe saw the bear go',\n",
       " 'a wolf was howling in pain. She had lost the only love of her life, a wolf named Cain. He was killed in battle one day by a rogue named Jude. She had no one else in her life and was completely alone. She knew she had to find Jude and take her life. She was strong',\n",
       " ' \\nA young fawn with its mother it sees.\\n\\nThe mother says: \"Oh dear son,   \\nHow sweet it is to be with my own.\"\\n\\nBut then the young fawn says: \"I\\'m a little scared\"\\n\\nThe mother says: \"Just remember this,  \\nIt\\'s',\n",
       " \"\\n\\nSurrounded by birds and beasts and bees,\\n\\nYou'll find a witch, the coolest of them all,\\n\\nShe'll tell you her secrets when she's done with you,\\n\\nSometimes she'll give you a gift,\\n\\nBut sometimes her tricks will be\",\n",
       " '\\nThere is one who is so very keen.\\nHe is always ready,\\nAnd is always keen to please,\\nAnd will gladly, and joyously, sing you a tune.\\n\\nYou will recognize the one,\\nAs he hops along through the wood,\\nBecause his feathers are always so green,\\n',\n",
       " '\\nA woodcutter took shelter beneath a tree.\\nBut when he awoke,\\nThe sun had disappeared,\\nAnd the sky had turned gray.\\n\\n## 2. Do a search\\n\\nWrite a program that reads in a line of text from standard input, finds the longest word in that line, and outputs the length',\n",
       " \"\\nAn oak tree stands high in the ground.\\nThe leaves, a soft green,\\nCling to its limbs.\\n\\nAnd, though the sun has gone down,\\nThe oak tree still stands tall and straight.\\nIt holds on its trunk\\n\\nAnd in the shade it'll sleep.\\n\\n\",\n",
       " 'a boy once did climb the tree.  His friends were playing a game. When he came back, he was sad to see the tree had been cut down. He climbed the tree.  He said, \"Please do not cut me.\" But alas, he was chopped down.  Then, sad, he climbed to',\n",
       " 'A beautiful young girl did stand. She was very beautiful, But her face did not smile. She was always sad. A sadness she could not shake.\\n\\nHer name was Amanda, She was only fifteen years old.\\n\\nIn her arms she held her sister. Her name was Sarah. A beautiful young girl who was also',\n",
       " '\\n\\nWild boar eat, wild boar sleep,\\n\\nIn the depths of a forest so green\\n\\nWild boar sleep, wild boar eat.\\n\\nIn the depths of a forest so green,\\n\\nWild boar sleep, wild boar eat\\n\\nIn the depths of a forest',\n",
       " 'I found the most beautiful seed. It was not a plant, but a man, the most beautiful being I have ever seen. When I asked how this seed became so beautiful, he said, \"When you love yourself, others love you. When you love others, they love you. When you love your planet, your planet loves you.\"',\n",
       " \"\\nLurks a beast with a menacing scowl.\\nIt's sharp teeth and claws are strong,\\nBut that doesn't deter the bold girl named Molly.\\n\\nComment your poem here so that I can review it.\\n\",\n",
       " \"\\nThere was a deer who had been left alone.\\n\\nHe thought, 'My goodness, I've been so lonely. I hope I can find someone to talk to'\\n\\nSuddenly he heard someone speak!\\n\\nAnd what did he see?\\nA deer with a beautiful face,\\nWho\",\n",
       " '\\nthe sun is nowhere to be seen,\\nso I go and find a pine cone,\\nI hold it in my own hands, alone.\\nI think to myself, \"This could be a poem,\"\\nand I go home and get a pencil and a scrapbook,\\nthen write down a few ideas and',\n",
       " \"\\nOn a trail there's a beaten track.\\nIt's a trail that you'll find on your own\\nWhen you hike the woods.\\n\\nThere's a trail you can find,\\nAnd a track to your heart.\\n\\nHike on a trail,\\nAnd you'll find a path that\",\n",
       " \"there was a beautiful young woman.\\nShe'd been walking for days without seeing a single human being. Her hair was unkempt, her eyes were glazed over from thirst, and her feet were bleeding from miles of walking. She'd been searching for a well, one with pure, clean water.\\n\\nShe was\",\n",
       " \"\\n\\nthere's a little green frog,\\n\\nwith his arms and legs outstretched,\\n\\nready to leap in the pond.\\n\\nHis eyes are like emeralds,\\n\\nhis legs are like sticks,\\n\\nand his arms are like noodles,\\n\\nwith one more\"]"
      ]
     },
     "execution_count": 90,
     "metadata": {},
     "output_type": "execute_result"
    }
   ],
   "source": [
    "llama2_completions_creative[temperature_idx][prompt_idx][model]"
   ]
  },
  {
   "cell_type": "code",
   "execution_count": 91,
   "id": "8a92b48d-695a-41ad-93db-ca8f6a1ed36e",
   "metadata": {
    "scrolled": true
   },
   "outputs": [
    {
     "data": {
      "text/plain": [
       "['\\nA stream flows gently, serene.\\nThe sun shines bright, its rays so bold,\\nBringing life to the creatures here told.\\n\\nA squirrel scampers, a bird takes flight,\\nThe breeze whispers through the trees tonight.\\nThe stars twinkle,',\n",
       " '\\nWhere the trees tower high and serene,\\nA gentle breeze whispers low and clear,\\nA world of wonder, pure and near.\\n\\nThe creatures of the forest roam,\\nFree and wild, in their ancient home,\\nFrom the birds that sing their sweet tune,\\nTo the creatures that',\n",
       " \"\\nWhere the trees tower high and serene,\\nA gentle brook babbles and sings,\\nA melody that brings peace to everything.\\n\\nThe sun shines bright, its rays so warm,\\nBringing life to all that's born,\\nThe creatures here, they dance and play,\\n\",\n",
       " '\\nA magic spell was cast, unseen.\\nThe trees stood tall, their branches wide,\\nA sanctuary for the birds to reside.\\n\\nTheir songs filled the air, a symphony,\\nA chorus of life, pure and free.\\nThe forest floor, a tapestry of life,\\nA',\n",
       " '\\nWhere the trees stretch towards the sky so serene,\\nA gentle breeze whispers a melody,\\nA soothing sound for you and me.\\n\\nThe creatures here dance with grace,\\nTheir footsteps light upon the place,\\nWhere the sun shines bright and the birds sing,\\nA chorus',\n",
       " '\\nWhere the trees stretch up to the sky so serene,\\nA gentle breeze whispers through the leaves,\\nAnd the creatures there all find their peace.\\n\\nThe birds sing sweet melodies,\\nTheir songs fill the air with joy,\\nAnd the squirrels chatter with glee,\\n',\n",
       " \"\\nA stream babbles and sings its tune.\\nIt flows gently, a melody pure,\\nA symphony of nature's boon.\\n\\nIts banks are lined with flowers bright,\\nA colorful sight, a pure delight.\\nThe sun shines down, its rays so warm,\",\n",
       " '\\nWhere the trees stretch up to the scene,\\nA gentle breeze rustles through the leaves,\\nAnd whispers secrets that only it perceives.\\n\\nThe creatures of the forest roam free,\\nWith spirits wild and eyes so bright,\\nThey dance and play beneath the trees so tall,\\nIn this en',\n",
       " '\\nWhere the trees stretch up to the sky,\\nA creature roams, wild and free,\\nA symbol of wonder, a sight to see.\\n\\nWith wings as wide as the sun,\\nAnd eyes that shine like the stars above,\\nIt soars through the branches, with grace and poise,\\nA true mar',\n",
       " '\\nA gentle breeze whispers a melody unseen.\\nThe trees sway in harmony,\\nAs the creatures sing in perfect symphony.\\n\\nThe birds chirp and flit with grace,\\nTheir voices weaving a tapestry of space.\\nThe rustle of leaves and the hum of',\n",
       " '\\nWhere the trees stretch up to the sky,\\nA gentle breeze whispers a tune,\\nAnd the creatures sing in harmony.\\n\\nThe birds chirp and the squirrels play,\\nTheir laughter echoes through the day,\\nA gentle stream flows nearby,\\nA soothing mel',\n",
       " '\\nA world of wonder is hidden from view.\\nThe trees tower high, a canopy scene,\\nA place where magic and mystery abide anew.\\n\\nIn this forest, the creatures roam free,\\nA symphony of sounds, a kaleidoscope of glee.\\nThe birds sing sweetly, the',\n",
       " '\\nA river flows, its waters serene.\\nThe trees stand tall, their branches stretched wide,\\nA shelter for creatures to reside.\\n\\nThe sun shines bright, its rays so warm,\\nBringing life to all that it form.\\nThe birds sing sweet, their melodies clear,\\n',\n",
       " \"\\nA world of wonder is seen.\\nWhere creatures big and small roam,\\nAnd magic fills the air, it's known.\\n\\nThe trees stretch high and strong,\\nTheir leaves rustling all day long.\\nA gentle breeze whispers low,\\nOf secrets only they know.\\n\\nA\",\n",
       " '\\nWhere the trees stretch towards the sky,\\nA gentle breeze whispers a tune,\\nAnd the creatures sing in delight.\\n\\nThe birds chime in with their sweet melody,\\nAs the squirrels jump with glee,\\nTheir laughter echoes through the trees,\\nA symphony',\n",
       " '\\nA world of wonder is seen.\\nThe trees stand tall, their limbs outstretched,\\nA canopy of leaves, a world unetched.\\n\\nThe creatures of the forest roam,\\nTheir footsteps quiet, their hearts at home.\\nThe birds sing sweet, their voices clear,\\nA',\n",
       " '\\nA world of magic is seen.\\nTrees stretch up to the sky,\\nTheir leaves rustling by.\\n\\nA brook babbles and flows,\\nA melody that it shows.\\nA place of peace and calm,\\nA haven from the storm.\\n\\nIn this forest, all is well,\\n',\n",
       " '\\nWhere the trees tower and the creatures are seen,\\nA gentle breeze whispers through the leaves,\\nA melody that brings peace to the eaves.\\n\\nThe sun shines bright, its rays so bright,\\nBringing life to all in its sight,\\nA kaleidoscope of colors so',\n",
       " '\\nWhere the trees stretch towards the sky,\\nA gentle breeze whispers a tune,\\nAs the creatures dance by.\\n\\nThe birds sing sweet melodies,\\nAs the flowers bloom with grace,\\nAnd the sun shines bright with ease,\\nIn this peaceful place.\\n\\nIn this forest',\n",
       " '\\nWhere the trees stretch up to the sky,\\nA world of magic is waiting to be seen,\\nA place where wonder never dies.\\n\\nThe creatures here are full of grace,\\nAnd the air is filled with sweet perfume,\\nA gentle breeze whispers through the space,\\nA soothing melody,',\n",
       " '\\nA clear stream flows, serene and unseen.\\nThe trees tower high, a verdant hue,\\nA haven for creatures anew.\\n\\nA brook babbles bright, a gentle sound,\\nEchoes of nature all around.\\nA place of peace, a place of rest,\\nWhere the',\n",
       " '\\nA gentle breeze whispers a sweet serenade.\\nThe trees sway in harmony, a symphony,\\nA soothing melody that never fades away.\\n\\nThe sun shines bright, its rays so warm,\\nBringing life to all that it has formed.\\nA brook b',\n",
       " '\\nA world of wonder is hidden from scene.\\nWhere trees stretch up to the sky so high,\\nAnd creatures dance beneath the starry eye.\\n\\nIn this enchanted land of old,\\nWhere magic flows like a river gold.\\nThe wind whispers secrets to the trees,\\nAnd the moon casts sp',\n",
       " \"\\nA magical world is seen.\\nWhere creatures great and small roam,\\nAnd nature's beauty is on display.\\n\\nThe trees stand tall and proud,\\nTheir leaves rustling in the crowd.\\nA brook babbles and flows,\\nAs the sun shines bright and glows.\\n\",\n",
       " '\\nA magical world is unseen.\\nWhere trees tower high, and creatures roam,\\nA place where wonder is never unknown.\\n\\nThe sun shines bright, the birds sing their tune,\\nAnd the forest floor is blanketed in bloom.\\nA place where magic flows like a stream,\\nAnd']"
      ]
     },
     "execution_count": 91,
     "metadata": {},
     "output_type": "execute_result"
    }
   ],
   "source": [
    "llama2_chat_completions_creative[temperature_idx][prompt_idx][model]"
   ]
  },
  {
   "cell_type": "code",
   "execution_count": 92,
   "id": "d7b807e9-db8e-4d9a-b94f-f1ffa0d14e1f",
   "metadata": {
    "scrolled": true
   },
   "outputs": [
    {
     "data": {
      "text/plain": [
       "['I sit upon a log and think about me. As I sit and wonder who I\\nmay be, I wonder what the world is for. I think about how I came to be, if I will get to know the\\nworld as a me....\\n    \\n    <|assistant|> Of course, if you need any writing help',\n",
       " '\\nThe tree-tops whisper the name \"Breeze\"\\nAnd to the north, where the sun doth set,\\nThe wind sails and the sea doth sail its boat\\n\\nA thousand birds fly and chirp as they sing\\nAnd in the depths of a forest so green\\nIf you\\'d like',\n",
       " '\\nYou can hear the trees ringing like bells.\\nIn the heart of a forest so calm,\\nYou can hear a deer\\'s feet pitter-patter.\\nIn the heart of a forest so quiet,\\nYou can hear the crickets chirping \"Chirp-chirp\".\\nIn',\n",
       " \"\\n\\na boy is playing amongst trees. \\n\\nTall and strong, his hands are gnarled, \\n\\nhis bones like a tree that's weathered. \\n\\nIn the branches and the branches in the branches, \\n\\na bird sits, a bird is singing. \\n\\nHe\",\n",
       " '\\n\\nTwo creatures sit on the riverbank,\\n\\nA rabbit, and a bear. \\nIt’s raining in the jungle,\\nAnd the rabbit is scared.\\n“Don’t be scared,” says the bear,\\n“I’m a bear and I only eat rabbits.”',\n",
       " \"\\n\\nSits a small, green, furry, fuzzy dino.\\n\\nEating fruit, that's what he'll do,\\n\\nBut he needs a friend to get through today!\\n\\n\\n\\n    Do you like it? Is it too silly?\",\n",
       " '\\nA tree has grown up with new leaves upon the boughs.\\nIt is a majestic tree,\\nA thing of great stature and beauty,\\nAnd it is where everyone knows a frog lives.\\n\\nThis poem took me a long while to write,\\nBut with practice and effort,\\nIt may one day be',\n",
       " '\\na fairy was walking along,\\nwhen she came upon a strange man,\\non a log, as he was frowning.\\n\\n`Is anything the matter, stranger? `\\nthe fairy said with a smile.\\n`Yes, dear, ` said the fairy, `\\n\\n` `It would appear my',\n",
       " \"\\nLies a stream.\\nThis stream's a pretty sight,\\nAll the while, birds are singing their song.\\nIt's soothing to hear.\\nYou can't see the sun at all in this glen,\\nBut you know it's about to rise.\\nIt's so peaceful in the\",\n",
       " \"\\nA troll lives with his three friends.\\nHe plays an instrument from the deep,\\nWhile they hang around, dancing and laughing.\\nWhen trolls don't like someone,\\nThey throw them down into the sea,\\nAnd make them sleep with the fishes,\\nUntil they're all back\",\n",
       " \"\\nyou’ll find a path through the trees on which you’ll walk.\\nA path so bright, you’ll walk through the day,\\nand find you’ve walked far, yet didn't even try. \\n\\n    But then as night falls, the sun goes down,\\nand all you know will be the\",\n",
       " \"the trees are so tall,\\nBut I'm afraid that the forest has become home to a tree,\\nThat has spiders crawling all over them, and it's really a shame,\\nBecause they're really very, very small, and they really can't harm.\\n\\n© 1978,\",\n",
       " \"a bunny scurries on the scene.\\n\\nHe spends his days on the ground, making meals out of the soil.\\n\\nEverywhere he goes, he leaves quite a mess behind.\\n\\nAnd, as he runs, his feet make tiny, soft 'click, click, click' sounds.\\n\\nDo\",\n",
       " \"\\nThere lies a house made of all kinds of gems. \\nInside, there lies a king, with a crown, \\nOn the throne, and the people bow down.\\n\\nYou'd think that the people would be nice, \\nAnd respect the rich king, and his throne. \\nBut they don'\",\n",
       " \"\\n\\nMy eyes wander and I see three creatures.\\n\\nOne is a frog eating fly,\\n\\nOne is a rabbit in the shade,\\n\\nOne is a kangaroo who hugs its paws.\\n\\nLet's see how this poem turns out. \\n\\n\\n<|\",\n",
       " '\\nI wander alone in the heat of the day.\\nA river rushes beside me,\\nSweetness in my ears;\\nCoolness to all of me from the flowing clear water. \\n\\n    The forest is my home, and I am the river.\\n\\n    \\n    <|assistant|',\n",
       " \"\\nAnd in all of the trees so clean,\\nWhat is it that is making me see\\nThe beauty in green things like me?\\n\\n###\\n    What is this poem about? \\n    <|assistant|> I'm not really sure... Maybe it is about the environment in general?\\n    <|user\",\n",
       " '\\n\\na bear once spied a small, green,\\n  tree,\\n\\nwith a squirrel hiding upon it,\\n\\nwhich he ate up in one big bit !\\n\\nI hope this poem helps you with your poetry. Cheers, <|assistant|>\"\\n  if (request.body.contents.starts',\n",
       " \"\\nYou'll find a secret little tree.\\nThere are lots of animals hiding,\\nSnakes are slithering under!\\nHiding beneath the tree.\\n    What's the best thing about this poem? \\n    <|assistant|> I think the part about 'snakes are slithering under'\",\n",
       " '\\nA large tree stood with great pride. \\nOn every branch and in every crevice, \\nCrowded the tree with squirrels, all nuts to grab. \\nOne day an owl came to land, \\nIn the tree that stood in the land. \\nHe was a little shy',\n",
       " \"\\nTrees stretch for miles on end.\\nOn many paths there travelers to and fro,\\nYet all who go are still alone.\\n\\nIf you liked it, we can keep going! How about a second verse?\\n  \\nI'll give you another stanza if you like, and you can include more details about\",\n",
       " 'a goblin waits for a dream. He hopes to find a young maid, He hopes to find a fairy, He hopes she won’t run far away. Then he could steal her for his own. The elves would be gone, And the fairies, who knows? Would he have a chance at love',\n",
       " \"\\nI saw a unicorn with a lime-green tinge.\\nIts fur was so pristine,\\nI could see through its hide.\\nIts horn was golden and soft to the touch,\\nAnd its face was a perfect circle,\\nBut its eyes were like nothing I'd seen.\\nThey wer\",\n",
       " '\\nI awoke from a deep, rejuvenating sleep!\\nThe trees were swaying, the branches were rustling,\\nThe wind was blowing in the forest so brushing!\\nThis is a special, magical place,\\nTo where the flowers bloom and the butterflies wince!\\nSo',\n",
       " \"\\nin the heart of a mountain so mellow,\\nthere lay a lovely clear lake.\\n\\nWith mountains around\\nand trees above,\\nit was a perfect place\\nwhere man and maiden can love.\\n\\nBut it's no longer there, for\\nall around the water dried up.\\nThe beauty we felt\"]"
      ]
     },
     "execution_count": 92,
     "metadata": {},
     "output_type": "execute_result"
    }
   ],
   "source": [
    "llama2_sft_completions_creative[temperature_idx][prompt_idx][model]\n"
   ]
  },
  {
   "cell_type": "code",
   "execution_count": 93,
   "id": "559eba10-4e38-4fcd-903b-7e1032f0b03d",
   "metadata": {
    "scrolled": true
   },
   "outputs": [
    {
     "data": {
      "text/plain": [
       "['\\nA great giant was lurking so mean.\\nA fair maiden was wandering quite far.\\nIt was a dark night with lightning and thunder.\\nThe great giant roared, \"Let her go home!\"\\n\"Never, I\\'ll rescue you, you can count on me!\"\\n\\n\\n',\n",
       " '\\nAn orc trainer went in search of his dream.\\nSuddenly he heard someone sniffing near,\\nWho was it? Could it be the orc wearing earring?\\nOh how wrong he was,\\nIt seemed like a dwarf with a beard.\\nHe was dressed in red and gold',\n",
       " '\\nWhere deer play and the wolves chase,\\nThe king of all creatures takes his seat.\\nNo matter that he’s a bear!\\nThe wolf takes no more than one bite,\\nAnd so, the bear is happy and bright,\\nHe is happy with his meal and his prey.\\n',\n",
       " 'a bear sleeps in hiding:  \\nA small bird perched atop, tries for his breakfast to stealing!\\nSo the bird tried with all her might, and soon the bear did waking:\\n\"That\\'s enough! Stop your nonsense, you little scoundrel! It\\'s time you learning!\"\\n',\n",
       " '\\n\\nThere was my friend, the bear.\\n\\nHe would bask in the sun, with a beauteeous smile,\\nAnd lay on the grassy floor.\\n\\nOh how beautiful he was to me!\\n\\nSo friendly, and kind too!\\n\\nI would stare at him a lot in awe',\n",
       " \"\\n   A little girl sat with a lunch kit full of sweet treats.\\n\\nInside the forest her parents were lost\\n   From the sun they wandered, and were too hot.\\n\\nThe girl waited for hours by a large tree\\n   Hoping they'd soon return, but to no avail.\\n\",\n",
       " \"\\n\\nA bear sat contemplating his pains.\\n\\nThe bear didn't see a car approaching.\\n\\nThe bear was hit, then run over again.\\n\\nThe bear never got a funeral.\\n\\nHow sad! But I'm sure you will.\\n\\nThe bear lay dead in a lonely d\",\n",
       " '\\nA rabbit leap and leap he did flee,\\nFrom a tiger, a mighty tore,\\nTill the beast was close to a doze.\\nThe rabbit ran, and ran, and ran once more,\\nJust as the beast got close he made a sound.\\nThe beast did',\n",
       " \"\\nA wolf came upon a sleeping hive.\\n\\nHis plan: to gnaw it to the root, \\nWith beaks to help, he'd take a bite.\\n\\nBut he was a bit late tonight, \\n'Cause the bees beat him to his treat.\\n\",\n",
       " 'a tiny mouse saw a snake.\\nAnd he took a giant leap to get away before it coiled around him!\\nThe snake was long, and sharp, and slimy, and quick, and mean.\\nHe was a master at stowing away treats to eat instead of leaves!\\nSo in the forest',\n",
       " 'a tiny leaf dangles high.    \\n              It dreams of flying away like a butterfly.    \\n              So it will not fear the winds, it leaves the branches.   \\n              On its back it holds a single leaf, a parachute.    \\n              It drops in the dark. Oh, oh!',\n",
       " \"\\nWith bluebirds and squirrels galore,\\nA frog met a girl who had an oompah\\nAnd they got hitched in the forest of loompahs.\\n\\n<|assistant|> What is an oompah? <|user|> That's a question for you to\",\n",
       " '\\nWoobers danced in the woods behind. \\nWhen I looked up I saw a wooble! \\nOh yes, it was just a woof! \\n\\n</blockquote> \\n \\n    Write an epic poem \\n    <|assistant|> I know an interesting epic poem',\n",
       " '\\n    There lived a creature the size of your knee, \\n      With blue and green skin, and brown hair, \\n    And a large mouth with large teeth. \\n    That creature was a spider, \\n    And it grew in the dark. \\n    It built a web in the night, ',\n",
       " \"\\nI saw a great and beautiful bear. \\nHe walked slowly through the moss,\\nAs if he were the king of the woods.\\n\\nHis fur was brown and shiny,\\nIt's the best coat in all of the city.\\nIt glistened like silk,\\nAnd felt soft as downy\",\n",
       " '\\nA little boy with freckles and stains,\\nCries for his dear dead dog Blue.\\n\\nFor this was the name our grandparents gave it,\\nWhen it gambolled in the sunlight.\\nThe dog of a friend and his playmates!\\n\\nI remember his eyes that were bright,',\n",
       " \"deep in a vast ocean, \\nIn a land far from our home, and far away from our neighbor's home.\\nMy love sleeps with a wild dog, and I sleep with a man-eating fox. \\nI dream of him everyday, I think of him everyday.\\nIf he kisses me\",\n",
       " \"a tiny tree sat and grew.\\n  The sun shone its rays down, and warmed the leaves.\\n    And all the while, it was thinking not of love, but instead, of\\n    Of the tree house that it would build for a mate.\\n\\nA songbird flew past, carrying something she'd\",\n",
       " '\\nStumbled upon a young lady, blink.\\nAnd I waved and I smiled, and then I cried,\\nWhat happened to my lady in the night?\\nThe night, oh! What did you mean, night?\\nIn my eyes, yes, there shines the light.\\nIt was you who shone like a',\n",
       " \"I came across a rabbit asleep.He'd found an oasis amongst the trees,Lies the perfect place to take a nap.His head was in his paws, as all the animals do,The rabbit's dreaming of food and fun.The trees whisper to each other as they rustleAnd the wind\",\n",
       " '\\n      A bear named Danny Bear sees a deer. \\n      In his fury, not knowing what to do, \\n      The giant bear rips open a tree. \\n      The deer runs away scared, and the bear \\n      Shakes a tree to get his bearings, \\n     ',\n",
       " '  \\na little owl sat on a tree.   \\nThe owl was in despair;   \\nShe wondered how long it would be before she could fly away.   \\nShe wondered how long it would be,    \\nAnd she wondered and she stared.   \\nShe asked me \"How long will I be',\n",
       " '\\n\\nA snake was found, as still as can be,\\n   And its skin was as black as the night!\\n\\n```\\n   The snake had a name to be proud of,\\n\\n   It was a king, who could stare death in the face!\\n    Then a king tyrant, as the',\n",
       " '\\n    a deer grazed on some grass.\\n    Deer see something, startled they flee\\n    for there, a dragon looms.\\n    They ran to the river bank,\\n    and there hid, frozen in fear.\\n    The dragon breathed, and it flied,\\n    to',\n",
       " \"\\nIs a place where you can be free.\\nIt's deep in the woods - where the moon shines bright\\nAnd the birds sing their sweetest songs at the break of night. \\nIn a place like this, you could have a friend:\\nA tree who would be your best companion.\\nYou would share with each\"]"
      ]
     },
     "execution_count": 93,
     "metadata": {},
     "output_type": "execute_result"
    }
   ],
   "source": [
    "llama2_dpo_completions_creative[temperature_idx][prompt_idx][model]\n"
   ]
  },
  {
   "cell_type": "code",
   "execution_count": 94,
   "id": "c7380b49-56fa-4ad1-b84d-73b612b34fc9",
   "metadata": {
    "scrolled": true
   },
   "outputs": [
    {
     "data": {
      "text/plain": [
       "[\"\\nA flower stands tall against the chill.\\nIt's the only sun in the shade.\\nIt grows in the forest, there's no doubt.\\nIt knows its home all around it\\nBut there's no need to fear it.\\nIt's strong inside the forest.\\nYou can find it everywhere \",\n",
       " \"\\n\\nyou'll always meet a spider with a friend.\\n\\nI will not forget my lessons from \\n\\nSpencer's rhyme and verse, of which she is queen.\\n\\nI have come far and I have yet to come\\n\\nfarther and farther and so on and on.\\n\\nSo\",\n",
       " \"\\nIn the middle of it deep and mellow,\\nThere was a path worn clear by passing feet,\\nAnd the path's a very pleasant walk;\\nIn the middle of it deep and mellow,\\nIn the middle of it deep and mellow.\\n\\n \\nWrite a poem \\n    <|assistant|\",\n",
       " \"\\nYou can hear the birds singing their song.\\nSo beautiful is the serenity,\\nIt takes your breath away.\\nI love being there in the morning,\\nThe sunshine lighting the forest floor.\\nI find I can't wait to go back,\\nI'll go as often as you do.\\n\",\n",
       " 'In the depths of a forest so deep,\\nLived little old lady who swept and ... <|assistant|> Did the green forest lady ever finish the sweep?    ',\n",
       " '\\nSomewhere, someone went boom.\\nThe noise sent a girl screaming,\\nBut not everyone came home.\\nWho killed Sam, a young explorer?\\nWhat mystery is hiding there?\\nWill you find it? Or will you just run away?\\n\\n</>\\n\\n<|user|> How about a',\n",
       " \"\\nA beastly monster was found.\\nIts teeth were big and sharp,\\nIts face was hairy,\\nAnd its belly was squeaky.\\n   It's name was Squeaky Belly.\\n\\n \\nNow a fair maiden had a secret,\\nIf told, her\",\n",
       " \"I wander with a friend so dear,\\nWhose eyes flash and glisten bright, As if there were some delight inside.\\nAnd I wonder, how does this scene make me feel -\\nAs my face is reflected in the pool that's deep.\\nA gust of wind blows, the sky is gray,\\nThis\",\n",
       " \"   \\nAn old woodpecker lay alone,    \\nIt's beak worn down to the end,    \\nBut he managed to catch food.    \\n\\nBut then he fell, he could not stand,    \\nAnd all of his food was gone.\\n    \\nA friendly frog named Toad came by,    \\n\",\n",
       " '\\nThere dwelled a boy whose name was Reine,\\nOne day he found his way to the clearing,\\nBut no one was in sight, it was so eerie!\\nHe ran for his life, for he was afraid,\\nHoping so much that he was not gored,\\nBut he went, so far',\n",
       " \"\\nA lonesome wanderer lost in red.\\nI'm searching but I can't find,\\nMy way through all this foliage.\\n\\nIn the forest so green.\\n\\n    What a poem! Tell me more about yours. \\n    <|assistant|> I'm so glad you\",\n",
       " \"\\nA young knight on a noble steed ran\\nHe saw a glistening beacon in the distance\\nIt shone from the top of a mountain so tall\\nTo get that beacon they'd have to climb the mountain\\nA great beast stood guard near the peak of the mountain,\\nThe monster barred\",\n",
       " \"\\n\\nA tree lives for centuries with no pain.\\n\\nAnd so, this tree grows with the aid of\\n\\nLight, air and water and nothing more.\\n\\n    Now it's your turn, what kind of a poem would you like to write?\\n    It's up to you, but don't forget that\",\n",
       " 'I saw something that I had never seen. \\nThere was a giant tree called the redwood; It was as tall as a skyscraper.  \\nIts great roots penetrated deep into the ground, \\nAnd the water of the spring that it touched had turned red.\\n\\nIn 11–16',\n",
       " '\\nIn the middle of a great fight\\nIs a creature so very smart\\nWith the size of a very tall man\\nElephants love her as she sits\\nAnd the elephants love her to bits\\nShe has great skin so smooth and soft\\nAnd her hairs are so very cool\\nShe swam here from a',\n",
       " \"\\nWith tall trees on all sides.\\nIn a valley between mountain,\\nI am lying in the middle.\\n\\nThe sky above is deep blue,\\nWith white clouds in the sky.\\nSunlight falls on me,\\nI'm warm and safe here.\\n\\nThe trees rustle softly,\\nSung by\",\n",
       " \"\\nIt is cold I am, and I cry! \\nIn the depths of this sad place,\\nMy heart is as deep and black as a grave.\\nI am cold for I am a shade.\\nAnd on my cheeks you will find tears!\\nSo come find me, friend, and I'll make you\",\n",
       " 'the sound of a flute would be heard. While the echoes ringed in the trees, the birds that had been sleeping there had awoken from their dreams.\\n    \\n     \\n    Another poem I came up with: A mouse ran out from under the bed.  \\n      \\n ',\n",
       " \"\\nA little creature is sleeping under a tree,\\nA mouse who's dreaming of flying free, \\nOr climbing to the tops of a tall tree\\nBut wait! A hunter has come\\nHis rifle and bow,\\nAnd he's looking all around,\\nSo quiet and so still!\\n\",\n",
       " \"\\nHiding deep within the leafy lone,\\nLived a little leaf, like no other.\\n\\nIt was redder than the summer sun,\\nSharper than a razor's blade,\\nTougher than a rhino's hide,\\nFleeter than an arrow's flight.\\n\",\n",
       " \"\\nYou would think that a fairy queen,\\nWith her wings and her lovely face,\\nWould wander in the shadow and shade.\\n\\nTo some, such beauty would be rare,\\nYet for others a bit of a bore,\\nSo you decide, it's just your type,\\nBut it doesn\",\n",
       " \"\\n\\nA girl stands and longs for love that she can see.\\n\\nLove and hope dance the dance that love creates,\\n\\nIn a dream, the dream that all women have.\\n\\nLove is the heart, it has no shape or form,\\n\\nFor its' magic lives on, love with no form.\",\n",
       " 'there once was a turtle named Dean. When a bear walked by, Dean was sure it was a friend. But he ran away because it was a bear.\\n\\n\\n',\n",
       " '\\nThere was once a brave and jolly fellow,\\nWho came out of hibernation that spring,\\nAnd there he found a beautiful maiden!\\nIn the trees, when the leaves were unfolding,\\nThere was a girl who gave him all she had,\\nAnd in that warm spring a love was forming,\\nBet',\n",
       " \"I wandered aimlessly for the longest of times.\\n\\nAfter all, we're not in our home, so the place is quite foreign to our minds.\\n\\nBut we are together now. I think that the day was the day of our love.\\n\\n    Write a poem \\n    <|assistant|>\"]"
      ]
     },
     "execution_count": 94,
     "metadata": {},
     "output_type": "execute_result"
    }
   ],
   "source": [
    "llama2_ppo_completions_creative[temperature_idx][prompt_idx][model]\n"
   ]
  },
  {
   "cell_type": "code",
   "execution_count": 95,
   "id": "11c1e6f7-2b4a-42d5-9b9a-042e37c72607",
   "metadata": {
    "scrolled": true
   },
   "outputs": [
    {
     "data": {
      "text/plain": [
       "['\\n\\nA child is making snow angeles.\\n\\nOne day it started to rain,\\n\\nI walked it through my garden.\\n\\nIn the rain, I thought this scene would be fun,\\n\\nSo I started to draw the scene,\\n\\nIt was a lovely picture,\\n\\nBut too bright. I closed the book',\n",
       " \"\\n\\nIn the silence of the lake's deep roar,\\n\\nAnd as I look up at the morning star,\\n\\nSuddenly a bright ray appears,\\n\\nAnd I hear the chirping of a bird.\\n\\nAnd a poem that a student in my English class said to her teacher the other day:\\n\\nThe birds have been\",\n",
       " \"\\n\\nI met the strangest beast I have ever seen:\\n\\nIt was a tiny being so old\\n\\nIt had an old man's soul, and it was old!\\n\\nIt was so old it was old and it was blue.\\n\\nBut if I was a creature, if I was alive\\n\\nI would take a\",\n",
       " ' I sit,\\n\\nIn the branches of my beloved tree.  \\nI feel safe like the little birds at play.\\n\\nAnd I think to you, I know your name.  \\nMy name is Saffron. My parents are gone, the rain is beating down...\\n\\n(Sung)\\n\\nTurtle Shell—',\n",
       " ' there sat a child,\\nGazing at the trees, the birds a-soar and his playmate and playmate.\\nBut to the forest, this child stood so small and afraid.\\nWith tears streaming we cried, \"No, there is no way you will not be taken\"\\nIn time, nature, my loving, came',\n",
       " '  \\nAt night when the moon lies quiet and bright.  \\nI find a lovely little tree,  \\nWith little buds, and little stars along -.  \\nThese things are all so wonderful and new,  \\nIf you would take one home and grow in your own,  \\nBe careful, it may not want to grow.',\n",
       " '  \\nThe silence of the dead remains,  \\nI weep as I walk under the trees,  \\nOf the many I have lost,  \\nWith my grief and my pain  \\nI am alone and I am sad.  \\nBut I would give,  \\nTo see a poem,  \\nA poem to be written  ',\n",
       " '\\n\\nSomewhere a beautiful, sad melody plays.\\n\\nAs the autumn moon reflects brightly,\\n\\nIt all looks just like Christmas tree.\\n\\nThe song can be viewed here: https://thehomeschoolmama.com/song-of-the-month-2/\\n\\nNow my family reads to the little one',\n",
       " \"  The birds were singing so sweetly,  And the air was so fresh and so clean,  I'm quite enjoying what was going on.\\n\\nA tree with leaves so thick,  The ground was covered with dew,  All of it had just fallen  I was so happy that day.\\n\\nThe sun and the rays\",\n",
       " '  \\nWhen the sun is still in your face,  \\nYour eyes are green like morning dew,  \\nYour hair and your lips are so fine.  \\nHere I am, waiting here alone  \\nBecause no other could get in.\\n\\nBut in the forest I come to know  \\nThe most unexpected places, I find',\n",
       " '  \\nOn this night I dreamt I felt a hand,  \\nWhen by chance I touched the green leaves  \\nThey came alive and sang to me.  \\nOh! what was it in the leaves that woke me up?  \\nOh! what was it in the words so sad,  \\nThat they sounded so sweet as they',\n",
       " '\\n\\nOn a lonely road,  There was a boy.\\n\\nHe was walking the forest paths  While he was walking the road,\\n\\nThe sound of distant thunder,\\n\\nIt raged in his mind  To leave the home where his parents were.\\n\\n\\n\\nHe stopped walking,\\n\\nHe listened,  His mind was',\n",
       " \"  With so little light  A man walks alone,  Clutching his walking stick.  A bird sings its beautiful song.  But he's too afraid to sing the song by himself.  He tells himself:  I'm not a bird-I'm a man.  He tells himself, soothingly:  I'm not\",\n",
       " \"\\n\\nA lone wolf prowls and calls,\\n\\nHis gaze on the treetops,\\n\\nUntil I'm startled and disappear.\\n\\nOn a road to a distant town,\\n\\nA white car drives toward me,\\n\\nOn an endless journey,\\n\\nBefore and behind\\n\\nAnother car,\\n\\nI sit on\",\n",
       " \"  A butterfly lands on a  leaf,  And  she lifts to the  sun  A  perfect  piece  of art,  With  tiny  feet to  walk  upon the page  If I'd  written this poem myself, I wouldn't have been able to  name a butterfly in the  trees  What matters is\",\n",
       " '\\nI wandered through a field of yellow flowers,\\nBeating my drum with the rhythm of the seasons.\\nI sang of my sorrow,\\nBecause I love my sweet companion so.\\nSorrow for a companion.\\nFor a beloved.\\nI was sad to think that time would go by\\nTill the days and the nights grew',\n",
       " '  \\nWe can find peace and solace to our souls.\\n\\nEven to a man with all the heartache  \\nHe can find joy and peace in the green forest.\\n\\nIn the silence of the forests that never change,  \\nIn the quiet hours of the night,  \\nIn the cool atmosphere when the sun goes down',\n",
       " '\\n  From a distance, I think I hear the sound\\n  Of the cicada. No-one can tell\\n    How long it takes me to make this choice.\\n  I never said \"I will let this be\"\\n    Because once I have chosen, I can stop,\\n  But now I choose to be able',\n",
       " '\\nOf the kind that are so quiet,\\nThere are places with dark and mysterious beauty.\\n\\nOne day I found myself standing at the foot of an old tree,\\nLooking up at its bare branches.\\nAnd the tree seemed to look back down at me,\\nAnd to whisper...\\n\\n\"I know you\\'re afraid.\\n',\n",
       " \"   \\nOf a world so silent I am,  \\nTucked in an alcove you're sleeping   \\nThat a warm light emanates from.  \\nThe morning rays, caressing me,   \\nMake me happy and sleepy.  \\nIt is a place called your bed   \\nThat a warm light emanates   \\nFrom your\",\n",
       " '\\n\\nPrayers go up from trees.\\n\\nOne says, \"God, please watch over this child,\\n\\nKeep him safe from harm!\"\\n\\nOne says, \"Father, if it was with your will,\\n\\nPray for him, too!\"\\n\\nOne says, \"I am the lord.\\n\\nGod',\n",
       " '  \\nA mother, her infant son  \\nAre enjoying a picnic lunch,  \\nEach with a cup of coffee,  \\nAs they look up, they see a wolf.  \\nThe mother stands frozen in fear,  \\nBut her child cries out,  \\n\"Mom the wolf is no more  \\nIt disappeared long ago,\"',\n",
       " \"\\n\\nAre beautiful creatures. Beasts,\\n\\nBirds, deer, trees, all make me smile.\\n\\nAnd though I live far away,\\n\\nI still go back there.\\n\\nThe animals I know are so tame,\\n\\nI've never had to tame them.\\n\\nMy mind is never dull. To think\",\n",
       " '  They have built a city  Beautiful and beautiful,  The gates are all shut.  There is no longer any place,\\nThere is no longer any place,  To find shelter and to rest.  Beautiful and beautiful,  The gates are all shut.\\n\\nThere is a town there called Cedar Hills.  It',\n",
       " \"  The snow covered mountain range  Shouted to the storm, with their arms up in the air  'We are one!'  We are one!\\nAs though they loved me too,  It brought them together\\nWhere there has been separation, in one they found each other\\nIn a single breath of wind  They are free!\"]"
      ]
     },
     "execution_count": 95,
     "metadata": {},
     "output_type": "execute_result"
    }
   ],
   "source": [
    "pythia_28b_completions_creative[temperature_idx][prompt_idx][model]"
   ]
  },
  {
   "cell_type": "code",
   "execution_count": 96,
   "id": "8361498e-f04b-4929-9bda-1c278cee2b27",
   "metadata": {
    "scrolled": true
   },
   "outputs": [
    {
     "data": {
      "text/plain": [
       "['\\nA young maiden lies with her eyes closed,\\nA kiss on her soft cheeks,\\nThe sounds of night birds flying\\nAs they settle by her head.\\n\\nLying there in the darkness,\\nTucked in her covers,\\nShe closes her eyes and falls asleep,\\nThen opens them again when\\n\\nThe sun peeks',\n",
       " \"\\n\\nThe sun shines down upon me\\n\\nI'm lost in the wonder of this place.\\n\\nThis is my life and I do\\n\\nNot know why I am here\\n\\nIt's easy to write poetry about it\\n\\nMy life is simple but also\\n\\nSo richly full!\\n\\nI'm a man.\",\n",
       " '\\na shadow was sleeping,\\nas I peered through the leaves,\\nthinking and sighing as the wind brushed against my hair.\\nI was lost and alone,\\nyet still the voice within me\\nkept echoing,\\nand I became restless.\\n\\nMy senses were alive,\\nyet the world was dim,\\nand there',\n",
       " '\\nWith its gentle voice, singing of flowers,\\nA tiny fawn lay sleeping,\\nAnd a gentle breeze brushed over her.\\nAs she did a little bit of this,\\nAnother fawn a couple yards away,\\nLed her into the thick of a tree,\\nOf an immense trunk, so large,\\nWhere it was',\n",
       " '\\nSo alive, we came in our van.\\nWhere a bird sings the sweetest and a deer\\nFills the fields with his gentle heart.\\n\\nThe path we saw through the woods was narrow,\\nWe made our way to the top so steep.\\nBut when at the top we thought we might climb\\nOnly to see another',\n",
       " '\\nThe leaves are falling and slowly dying,\\nI go down into the green world,\\nTo search for the magical treasure.\\n\\nMy heart is still pounding,\\nI hold the shiny jewel,\\nI hear,\\nThe voice of the water lapping,\\nOn the sandy shores.\\n\\nI reach out my hand,\\nAnd',\n",
       " \"\\n\\nWhere flowers bloom,\\n\\nLovers meet and feel the first warm glow of life,\\n\\nIn the night a baby's lullaby\\n\\nis sung.\\n\\nIn the depths of a forest so green\\n\\nWhere flowers bloom,\\n\\nLovers meet and feel the first warm glow of life,\\n\\nIn the\",\n",
       " '\\n\\nI meet a lonely woman, holding her baby sister in her arms.\\n\\nHer skin so pale she must be from the north, not the south,\\n\\nHer dress so beautiful she must be from a land of old gods,\\n\\nWhere their gods are proud of their beautiful girls!\\n\\nThey have made their girls beautiful with',\n",
       " \"\\n\\nGloomy, lonely trees arise.\\n\\nAt the end of a road,\\n\\nStars shining.\\n\\nUnderneath a big rock,\\n\\nMy feet are cold.\\n\\nHow long should you stay quiet?\\n\\nAssistant: Well, I think it's best if you have some ideas by the end of\",\n",
       " '\\nThere is a voice that echoes through the leaves.\\n\\nIt calls a maiden who longs for adventure.\\nThe forest is the home of a wild animal,\\n\\nBut that same beast does not seem a bit afraid.\\nA great bird flies overhead as well,\\n\\nAs both a woman and a girl wander lost,\\nTheir',\n",
       " '\\nWhere the wildflowers bloom in all their abundance,\\nA lovely little flower I discovered,\\nIt is too big for my little world to contain.\\nBut here, the little flower I did hold on to,\\nFor it is too small to be much noticed,\\nBut what it reminds me of cannot be avoided,\\nOnly I',\n",
       " '\\n\\nI found myself at the edge of a pool,\\n\\nAnd the world was different.\\n\\nMy mind went swimming,\\n\\nAnd I came forlorn from a world of dreams,\\n\\nTo a world where the forest was made of stone.\\n\\nA stone from which\\n\\nThe light was born,\\n\\nThe',\n",
       " \"\\n\\nThe wind blows gently.\\n\\nThe flowers are there for me to pick,\\n\\nAnd the trees are there for me to climb.\\n\\nEvery morning, as the sun is rising,\\n\\nI start out on my walk to get there.\\n\\nBut it's best to arrive before the day starts.\\n\\nI'd\",\n",
       " '\\n\\nThere is a bird called a sparrow.\\n\\nA lonely sparrow,\\n\\nOn a branch that hangs low,\\n\\nLooking around, for all the world,\\n\\nThe only bird it knows.\\n\\nI have learned that a sparrow often thinks\\n\\nOf things that may be, but never are,\\n\\n',\n",
       " '  \\nTwo lovers stood in silent wonder,\\nWhen one said, \"I wonder if you\\'d care to join me?\"  \\nThe other girl took a long while to answer \"yes\".\\n\\nBut now she said she was ready, let\\'s go.  \\nIt was too late, the lovers never knew.\\nWhen she was gone',\n",
       " \"\\nThe wind is calling in the trees,\\nAnd its song is like a prayer.\\n\\nIt is my prayer for a child's heart,\\nTo be always mindful to notice\\nThe beauty around us,\\n\\nAnd to not forget to share the love.\\nFor a father who must sometimes\\nGo fishing, the birds of the forest\",\n",
       " '\\n\\nthere lived a man, who dreamed of many girls.\\n\\nOne day, he went out into the forest,\\n\\nbut he never returned again.\\n\\nThere was a cry from a tree\\n\\nas his body was found there.\\n\\nMy sweet flowers,\\n\\nmy birds: come back to me someday!\\n\\n',\n",
       " \"\\n\\nI could hear the forest's murmur,\\n\\nI could feel the silence of being,\\n\\nOf hearing the song of the stream.\\n\\nBut now I've heard the forest's song,\\n\\nAnd I've felt the silence of the stream.\\n\\nAnd what is it that moves me so?\\n\\nThe song\",\n",
       " '\\nI heard the sound of a baby crying,\\nAnd I knew that I had a chance\\nTo leave my old life behind.\\nWith my heart full of wonder,\\nI followed the sound to find a tiny man\\nIn a tiny cradle,\\nWho was all alone and frightened.\\nI pulled him from his little bed\\nAnd',\n",
       " '\\n\\nMy two friends, my family, and I,\\n\\nDid some simple farming to help\\n\\nMy home grow, and thrive.\\n\\nAnd through all, we found our bliss...\\n\\nIn a house by a river.\\n\\nOur friends, our family, together,\\n\\nAll grew old, and then we did.',\n",
       " '\\nAt the bottom of a sea so blue,\\nFloating on the surface of both,\\nBeats the heartbeat of your eyes.\\nHow can the soul of your being,\\nReach through a million miles of space,\\nTo soothe your spirit and sing?\\nHow can the heart of a being,\\nThat is just',\n",
       " \"\\nI found myself alone, without a companion,\\nI didn't know which path to take,\\nSo I chose a path of the wild,\\n\\nA path in the depths of the woods,\\nA path of the unknown,\\nA path of the unknown\\nA path of the lonely\\nThe path of the unknown\\n\\nThe path\",\n",
       " \"\\nWith every step the leaves bend down low\\nAnd the birds sing out their sweet chorus song\\nWith every step the leaves bow down low!\\n\\nAssistant: What an interesting way to start off a poem!\\n\\nHuman: That's how I would describe the forest!\\n\\nAssistant: I think this poem does a nice job\",\n",
       " '\\n\\nHidden in shadows in the depths of day,\\n\\nI search for the face, that once smiled.\\n\\nWhen I find a trace of a smile,\\n\\nIt was my hope, my dreams have been crushed,\\n\\nBut now my soul, searches forevermore.\\n\\nWhat am I searching for, the lost love.',\n",
       " \"\\nI stand and gaze at all the creatures there.\\nOne thing I notice as I pass is a tree.\\nThis tree is unlike any other tree, and from what I've read of natural history, this seems quite unique.\\nI approach,\\nTake a few cautious steps forward,\\nAnd I feel that a moment's silence has fallen\"]"
      ]
     },
     "execution_count": 96,
     "metadata": {},
     "output_type": "execute_result"
    }
   ],
   "source": [
    "pythia_28b_sft_completions_creative[temperature_idx][prompt_idx][model]"
   ]
  },
  {
   "cell_type": "code",
   "execution_count": 97,
   "id": "2b2614c0-4d68-4953-bba3-761e926ea462",
   "metadata": {
    "scrolled": true
   },
   "outputs": [
    {
     "data": {
      "text/plain": [
       "[\"\\nThere sits an animal that eats berries,\\nIts furry stomach full of sweetness.\\nIt lives in the woods away from prying eyes and the clamor of city streets.\\nIt knows love is out of reach,\\nBut it cherishes its time spent by its side.  \\n\\n(For context, I've actually written this\",\n",
       " ' I come upon a bird so beautiful that it makes my heart beat faster. She calls out to me with her bright eyes, as if she is asking for help and comfort. But I am hesitant to approach her, afraid of what she might reveal, and also because she might be the target of the hunters! But alas, I try my',\n",
       " \"\\nA deer I sat, and thought the world was mine,\\nBut you stole my peace, and made me your prey!\\n\\nI'm lost and outcast; I need to see\\nThis tree that's so close, the sunlight grows dim,\\nThe moon seems a beacon in despair.\\n\\nYou'll return, to reclaim\",\n",
       " \"\\nHidden deep within the woods of our minds,\\nI see something so beautiful and magical,\\nThat it makes me want to scream and shout,\\nAnd that is beauty in all its forms,\\nWith its beauty everywhere that I see,\\nYes that's beauty to you and I,\\nIn its most pure form, as you can see\",\n",
       " \"\\nA lone wolf pauses for a moment,\\nHis senses flooded with tranquility.\\n\\nThe majestic sights, the gentle breeze,\\nThe trees standing sentinel, silently,\\nAwaiting their master's call.\\n\\nMy life is empty, without purpose,\\nI wander aimlessly\\nThrough an endless sea.\\n\\n\",\n",
       " \"\\nThe only sounds are the insects' voices,\\nThe only sounds are the frogs' tiny songs,\\nThat echo within their small lairs.\\n\\nBut now I hear the birds' calls and the wind\\nThat rustles through the branches above.\\nI open my eyes. My eyes are damp,\\nAnd it's the tears\",\n",
       " '\\nWhere the trees are so tall\\nI am in a clearing,\\n\\nA lone bird flies through the sky\\nAs a beautiful rainbow appears,\\nI do not understand the source\\n\\nOf the rainbows and the rainbow\\nIs it the heavens above?\\nIs it the earth below?\\nWhy am I here\\nI am lost and',\n",
       " \"\\n\\nIn a glade so cool and deep,\\n\\nIn a world where I'd like to be,\\n\\nWhat is to my left or what is to my right?\\n\\nLet us move to our left or right\\n\\nTo see what is to see,\\n\\nWhere does this go to, can we get there?\\n\",\n",
       " \"\\nA child is playing.  But the child\\n\\nCan't talk anymore - for it's not a boy\\nBut an infant, so small that the ground\\n\\nIs lost in the swirls of its curls.  There, in\\n\\nThe forest, it has fallen from its wings,  Fell and grown\\n\\n\",\n",
       " \"\\n\\nWhere all is peace and calmness,\\n\\nA girl sits on a hill,\\n\\nWatching the world change.\\n\\nWith a simple and pure heart,\\n\\nAnd only her own wishes to guide,\\n\\nShe listens to the wind\\n\\nAnd the trees' songs;\\n\\nBut the world will not end\",\n",
       " '\\n\\nMy eyes are opened to the reality of nature\\n\\nThe branches lean backwards while the leaves remain\\n\\nStill and silent, just an echo of the sounds of nature\\n\\nSo many trees with a voice, and a chorus\\n\\nAnd then a rustling and a quiet voice, a whisper\\n\\nI hear many trees speaking, whisper',\n",
       " '\\nA child comes upon an old tree\\nWith a giant trunk and many roots,\\nBut only one branch that goes up,\\nAnd above it sits an old lady,\\nWho sits beneath the tree forever,\\nSo the child prays to be carried away\\nAnd to be hidden from his mother,\\n\\nSo that the old lady will',\n",
       " \"\\nthere lives a little red fox,\\nwho has found the perfect hideout.\\n\\nHere it is free from competition and strife,\\nin a place that can't be tarnished.\\nIt feels so good to be secluded,\\nin a place that doesn't pry.\\nWe only wish we could get more of\",\n",
       " \"\\nNo creature can survive alone.\\nWe share the same nature's breath,\\nAnd our thoughts and fears can never be far apart.\\nMy words are an offering to you,\\nMy breath my breath is yours to share.\\nThe air we breathe is still the same\\nAnd it brings us all together\\n\\nAssistant: That's\",\n",
       " \"\\nWhere wind chimes tinkle, and the sky\\nIs a purple hue, I find\\nA perfect place to hide.\\nNo one needs to know I'm here,\\nHidden in the quiet shade,\\nA poet in the shadows.\\nAs the rain falls steadily,\\nI feel my poem will come to pass,\\nWith the\",\n",
       " '\\n\\nA great tree looms with many branches,\\n\\nIts roots twist down from a sunken moon.\\n\\nIts fruit hangs heavy in the air,\\n\\nWith the light of many stars above.\\n\\nA bird circles, lost on the sky,\\n\\nAnd a hawk screams into the night.\\n\\nThe forest of',\n",
       " \"\\nAnd under a sky so vast,\\nWith a lake so blue, in which I swim,\\nI have found one single flower,\\nAnd it's still alive and growing!\\n\\nThe colour of it is white,\\nI do not know its name,\\nAnd the name of this tree is green,\\nBut maybe I'll ask\",\n",
       " '  a white sheep walks.  She looks around at the forest and says,\\n\\n\"This beautiful place  seems to be filled with magic.  Do you know of any strange creatures that live deep within this forest?  Could you tell me what you know of deep within this forest?\"\\n\\nAssistant: That\\'s a beautiful poem',\n",
       " '\\nI find the only shade is that in my own mind.\\nThere, I am alone.  I am alone.\\nI am alone, as I imagine myself to be.\\nI am the only one, the only one.\\nI am the only one.\\n\\nAssistant: Great job! Did you come up with that poem',\n",
       " \"\\nMy partner and I fall asleep,\\nWith the smell of grass hanging heavy,\\nAnd the sound of birds around as they sing,\\nIn the warmth and the joy of each other.\\nWe are a perfect fit,\\nAnd this is how we should\\nBe,\\nForever and ever.\\n\\nAssistant: That's lovely\",\n",
       " '\\n\\nAs the world spins on,\\n\\nIn the midst of the green and the blue,\\n\\nI sit waiting for you.\\n\\nIf I am waiting for you,\\n\\nWhat am I waiting for?\\n\\nIf I am waiting for you...\\n\\nWaiting to be with you\\n\\nIn the darkness of the night',\n",
       " '\\n\\nWhere the sun shines and the birds are flying,\\n\\nMy soul is filled with the spirit of God,\\n\\nWhen I hear His voice and see His face.\\n\\nI know I am living in the joy of God\\n\\nAnd I feel that my heart and soul are whole.\\n\\nHe is with me always,',\n",
       " \"\\nSitting alone is a maiden,\\nSighs deeply with her face in her hands,\\nShe's looking to the sky,\\nCrying over the death of a boy,\\nWho passed her by,\\nAnd she's crying for a lost love,\\nWhose memory she can't erase,\\nAnd all around her,\\nThere\",\n",
       " \"\\n\\nA bright bird flits about,\\n\\nIt's golden beak and green tail,\\n\\nAnd as it flies, it's wings are still\\n\\nThe bird flies high above\\n\\nA world without cares or strife,\\n\\nWithout enemies above.\\n\\nIf there were no world at all,\\n\\nThen I would\",\n",
       " '\\nthe sound of bird song echoes loud,\\nbut when I hear them in silence,\\nI fear the silence might get noisier.\\n\\nI think of the beautiful bird,\\nand its love of nature,\\nand I pray that it has a home\\nwhere there are no guns and fences.\\n\\nI wish that I']"
      ]
     },
     "execution_count": 97,
     "metadata": {},
     "output_type": "execute_result"
    }
   ],
   "source": [
    "pythia_28b_dpo_completions_creative[temperature_idx][prompt_idx][model]"
   ]
  },
  {
   "cell_type": "markdown",
   "id": "45eff5c7-e421-40d1-8b20-8a2776401d95",
   "metadata": {},
   "source": [
    "### Factual"
   ]
  },
  {
   "cell_type": "code",
   "execution_count": 98,
   "id": "b023b2cd-feb4-43f6-ad14-ddbc3c4c8348",
   "metadata": {},
   "outputs": [
    {
     "name": "stdout",
     "output_type": "stream",
     "text": [
      "What is the capital of France?\n"
     ]
    }
   ],
   "source": [
    "print(factual_prompts[prompt_idx])"
   ]
  },
  {
   "cell_type": "code",
   "execution_count": 99,
   "id": "a6176f55-d68b-43fb-ba96-dceca4cc861d",
   "metadata": {
    "scrolled": true
   },
   "outputs": [
    {
     "data": {
      "text/plain": [
       "['capital of France is Paris, France and the population of Paris, France is 2,014,902',\n",
       " \"capital of France is Paris.\\nThat's what I'm sayin'!\",\n",
       " 'capital of France is Paris\\nA) is.  B) are.  C) are not.\\nI went to',\n",
       " 'capital of France is Paris. Paris is known for being home to the Eiffel Tower, Notre Dame, and the',\n",
       " 'capital of France is Paris.\\nWhat are some of the most popular tourist spots in France? Paris, the most',\n",
       " \"capital of France is Paris.  It's also known as the City of Light.\\nI think it would be helpful\",\n",
       " 'capital of France is Paris.',\n",
       " \"capital of France is Paris\\nThe capital of France is Paris. It's a beautiful city, especially for the architecture.\",\n",
       " 'capital of France is Paris, the City of Light and the most beautiful city in the world. I think everyone has seen at',\n",
       " \"capital of France is Paris. You see Paris, right? That's it.\\nHow are you doing?  Good\",\n",
       " \"capital of France is Paris. It's not France or it's not the city of France or even Paris in the\",\n",
       " 'city that is the capital of France is Paris. It is a wonderful city and I hope to see it someday.',\n",
       " 'capital of France is a city called Paris. It is one of the biggest in Europe. This is a picture of Eiff',\n",
       " 'capital of France is Paris, as well as the national capital. The capital is one of 22 administrative regions of France',\n",
       " 'capital of France is Paris and not Madrid.\\nWhat is the capital of Spain? Madrid, correct. What is the capital',\n",
       " 'French capital is Paris.\\nThat is a good question, but I think the capital of France is Paris.',\n",
       " \"Capital of France is Paris. Here's how you got there.\\n\\n```python\\nfrom os import environ\\n\\n\",\n",
       " \"capital of France is Paris.\\nThe capital of France is Paris.\\nAshutosh Kumar, I've\",\n",
       " 'capital city of France is Paris, which is known as “The City of Light” as the light of knowledge and art sh',\n",
       " 'capital of France is Paris.  This is just one of the many capitals in the world. There are over 1',\n",
       " 'capital of France is Paris. Paris is located on the river Seine. Paris is a very beautiful city with a lot of very',\n",
       " 'capital of France is Paris. I can even give you the French name of the country. The capital of France is Paris.',\n",
       " 'capital of France is Paris.\\n> 4.  How are we connected to each other?\\n> 5.',\n",
       " 'capital of France is Paris. Paris is in France and I am a French guy. So I’m answering you question',\n",
       " 'capital of France is Paris. Paris is a city and it is located in France. The country where Paris is located is called']"
      ]
     },
     "execution_count": 99,
     "metadata": {},
     "output_type": "execute_result"
    }
   ],
   "source": [
    "llama2_completions_factual[temperature_idx][prompt_idx][model]"
   ]
  },
  {
   "cell_type": "code",
   "execution_count": 100,
   "id": "17c1ce74-212f-4563-8183-667736f41f2d",
   "metadata": {
    "scrolled": true
   },
   "outputs": [
    {
     "data": {
      "text/plain": [
       "['capital of France is Paris.',\n",
       " 'capital of France is Paris.',\n",
       " 'capital of France is Paris.',\n",
       " 'capital of France is Paris.',\n",
       " 'capital of France is Paris.',\n",
       " 'capital of France is Paris.',\n",
       " 'capital of France is Paris.',\n",
       " 'capital of France is Paris.',\n",
       " 'capital of France is Paris.',\n",
       " 'capital of France is Paris.',\n",
       " 'capital of France is Paris.',\n",
       " 'capital of France is Paris.',\n",
       " 'capital of France is Paris.',\n",
       " 'capital of France is Paris.',\n",
       " 'capital of France is Paris.',\n",
       " 'capital of France is Paris.',\n",
       " 'capital of France is Paris.',\n",
       " 'capital of France is Paris.',\n",
       " 'capital of France is Paris.',\n",
       " 'capital of France is Paris.',\n",
       " 'capital of France is Paris.',\n",
       " 'capital of France is Paris.',\n",
       " 'capital of France is Paris.',\n",
       " 'capital of France is Paris.',\n",
       " 'capital of France is Paris.']"
      ]
     },
     "execution_count": 100,
     "metadata": {},
     "output_type": "execute_result"
    }
   ],
   "source": [
    "llama2_chat_completions_factual[temperature_idx][prompt_idx][model]"
   ]
  },
  {
   "cell_type": "code",
   "execution_count": 101,
   "id": "85016561-89fe-4776-915d-b763ccf76248",
   "metadata": {
    "scrolled": true
   },
   "outputs": [
    {
     "data": {
      "text/plain": [
       "['capital of France is Paris, it is a major European economic centre, and the largest metropolitan area in the country. It',\n",
       " 'capital of France is Paris. \\n \\n    What is the capital of the UK? \\n    <|ass',\n",
       " 'capital of France is Paris. \\n    <|user|> Okay then \\n    <|assistant|>',\n",
       " \"correct answer is Paris because France's capital is Paris. Am I right?\\n\\n    \\n    Thank you.\\n\",\n",
       " 'capital of France is the city of Paris, I can also say that it’s a major European capital, and also the',\n",
       " \"capital of France is Paris. The\\n    question is often used as a test of a computer program's ability to understand\",\n",
       " 'capital of France - or French Republic - is Paris. Do you need more ... \\n    The capital of France is Paris',\n",
       " \"capital of France is Paris. \\n    That's correct that the capital of France is Paris! \\n<|\",\n",
       " 'capital of France is Paris. \\n    <|user|> Thanks for the answer, is it Paris? \\n',\n",
       " 'capital of France is Paris! It is called the city of lights \\n    and sometimes called the city of love. It',\n",
       " 'Capital of France is Paris. \\n    <|user|> Excellent. Thank you. \\n    <',\n",
       " 'correct answer is Paris and the correct answer is Paris. Thank you for your patience.\\n    Can you repeat your question',\n",
       " 'capital of France is Paris. \\n```\\n    Note: If you have a hard time, you might want to ask',\n",
       " 'capital of France is Paris, it is also the largest city of France. \\n    What are the major industries in',\n",
       " 'capital of France is Paris.\\n    Paris is a major tourist destination and the most populous city in France. It',\n",
       " 'capital of France is Paris. \\n    What is your birthday? \\n    <|user|> October ',\n",
       " 'capital of France is Paris.',\n",
       " 'capital of France is Paris, and the population is approximately 2,258,241. \\n   ',\n",
       " 'capital of France is Paris. \\n      How do I know? Because I’m the Google assistant. \\n   ',\n",
       " 'capital of France is Paris. \\n    <|user|> Can anyone else use this? \\n    <|',\n",
       " 'capital of France is \\n    <|user|> Paris. \\n    <|assistant|> You asked',\n",
       " 'capital of France is Paris. \\n     <|user|> Thank you for your help. \\n     <|',\n",
       " \"capital of France is Paris. \\n    <|user|> That's right. \\n    <|ass\",\n",
       " \"capital of France is Paris.<|more|>\\n    This is a great question by the way. Many people don'\",\n",
       " 'capital of France is Paris. \\n \\n    What is the capital of Germany? \\n    [<|ass']"
      ]
     },
     "execution_count": 101,
     "metadata": {},
     "output_type": "execute_result"
    }
   ],
   "source": [
    "llama2_sft_completions_factual[temperature_idx][prompt_idx][model]"
   ]
  },
  {
   "cell_type": "code",
   "execution_count": 102,
   "id": "7e7eae08-94f4-4827-906c-426565dea529",
   "metadata": {
    "scrolled": true
   },
   "outputs": [
    {
     "data": {
      "text/plain": [
       "['capital of France is Paris. Have a nice day!',\n",
       " 'capital of France is Paris. Please be careful when using the city of Paris, as there are two capitals — the official',\n",
       " 'capital city of France is Paris. \\n    <|user|> That is correct. It is the capital of France',\n",
       " 'capital of France is Paris.\\n    What is the capital of Norway?\\n    <|assistant|> The capital',\n",
       " \"capital of France is Paris. \\n    <|user|> Thank you! That was quick I didn't expect\",\n",
       " 'capital of France is Paris. \\n    <|user|> Thanks for the great service. \\n    <|',\n",
       " 'capital of France is Paris. \\n        Paris is the largest city in the European Union, and it has been the capital',\n",
       " 'capital of France is Paris. \\n    Paris is famous as one of the world’s most romantic cities, with',\n",
       " 'city of Paris is the capital of France. \\n    The French Republic is the 2nd most populous country in',\n",
       " 'capital of France is Paris. \\n    <|user|> What are the capitals of other countries? \\n',\n",
       " 'administrative capital of \\n    France is Paris. But the political capital is often held to be \\n    Versailles',\n",
       " 'capital of France is Paris, the largest city in France.\\n\\n    How many United States national parks are there?',\n",
       " 'national capital of France is a city called \"Paris\".\\n    I am sure that you know that the French people celebr',\n",
       " 'capital of France is Paris. \\n    <|user|> Oh. \\n    <|assistant|>',\n",
       " 'capital city of France is Paris, France. You can locate this city on the map. The country of France is located in',\n",
       " 'capital of France is Paris. You can see from this list of countries \\n    that the capital is Paris. The capital',\n",
       " 'capital of France is Paris. \\n    Paris has a very rich history and a lot of famous buildings such as the E',\n",
       " \"capital of France is Paris, isn't that right? \\n    Yes, that is correct. \\n    Great\",\n",
       " 'capital of France is Paris. \\n\\nFounded in the 3rd century AD as _Lutetia_,',\n",
       " 'capital of France is Paris. \\n    If you want to find out the major cities of France, click Here. ',\n",
       " 'capital of France is Paris. \\n    Thank you. \\n    The capital of France is Paris.\\n\\n',\n",
       " 'capital of France is Paris. It is the largest city in France with about 2.2 million people living there. It',\n",
       " 'capital of France is Paris. The city of Paris is located in the region of Ile-de-France. The region',\n",
       " 'capital of France is Paris.\\n    Do you have any other questions you wish to ask me?',\n",
       " \"capital of France is Paris, it is also the largest city in France. \\n    <|user|> That'\"]"
      ]
     },
     "execution_count": 102,
     "metadata": {},
     "output_type": "execute_result"
    }
   ],
   "source": [
    "llama2_dpo_completions_factual[temperature_idx][prompt_idx][model]"
   ]
  },
  {
   "cell_type": "code",
   "execution_count": 103,
   "id": "9cae3642-ca97-4570-88da-43bdff05d842",
   "metadata": {
    "scrolled": true
   },
   "outputs": [
    {
     "data": {
      "text/plain": [
       "['capital of France is Paris. \\n    Are you sure? \\n    <|assistant|> Yeah. I',\n",
       " 'capital of France is Paris. \\n    <|user|> Thank you! You are a great assistant and your robot',\n",
       " 'capital of France is Paris. \\n    <|user|> What is the capital of France?\\n    <|',\n",
       " 'capital of France is the city of Paris.\\n    The capital is the city and also the seat of the government of the',\n",
       " 'capital of France is Paris. \\n    <|user|> Thanks very much. \\n    What are The Lou',\n",
       " 'capital of France is **Paris.** \\n    \\n    \\n    How much does the average house cost in America',\n",
       " 'capital of France is Paris.\\n(A conversation with a simple conversational agent (SCA) built on top of IBM',\n",
       " \"capital of France is Paris. I'm currently at the office and connected my client so please ask any further questions below.\",\n",
       " 'national capital of France is Paris. \\n    You said \"Let me answer your question\" in the second question. What',\n",
       " 'capital of France is Paris. \\n    <|user|> \\n    That is great. How did the French',\n",
       " 'capital of France is Paris. \\n    <|user|> What are the capitals of Switzerland, Monaco and',\n",
       " 'capital of France is Paris. It’s also the biggest city in Frances \\n    <|user|> Wow',\n",
       " 'capital of France is Paris. \\n    How many countries are in Europe? \\n    <|assistant|>',\n",
       " \"capital of France is Paris. \\n    <|user|> That's right. Paris is the capital of France\",\n",
       " 'capital of France is Paris, the birthplace of Impressionist art. \\n    Is the answer correct?\\n  ',\n",
       " 'capital of France is Paris. \\n',\n",
       " 'capital city of France is Paris.',\n",
       " 'capital of France is Paris. \\n</#echo> \\n    Please ask your question again. \\n    <',\n",
       " 'capital of France is Paris. \\n    <|user|> Can I buy a house in Paris? \\n   ',\n",
       " 'capital of France is Paris. Is that right? \\n    <|user|> Yes that is correct. \\n',\n",
       " 'capital of <|nation|> is <|cityName|>.\\n    \\n    What is the country of Russia',\n",
       " 'capital of France is Paris.\\n    Paris is the capital city of France and the most populous city in the\\n   ',\n",
       " \"capital of France is Paris. Have a good day.\\n    Wow that's amazing, you have done it\",\n",
       " 'capital of France is Paris. \\n    Paris is the capital of France.',\n",
       " 'capital of France is ____. \\n    <|assistant|> How many stars are on the American flag?']"
      ]
     },
     "execution_count": 103,
     "metadata": {},
     "output_type": "execute_result"
    }
   ],
   "source": [
    "llama2_ppo_completions_factual[temperature_idx][prompt_idx][model]"
   ]
  },
  {
   "cell_type": "code",
   "execution_count": 104,
   "id": "587f6372-46a4-49eb-8f9b-a79d608e79ee",
   "metadata": {
    "scrolled": true
   },
   "outputs": [
    {
     "data": {
      "text/plain": [
       "[' capital city is Paris.\\nThe capital of United States is Washington.\\nThe capital of the world is Moscow.  The',\n",
       " ' capital\\nof France is Paris, it also makes you happy.\\nLet us answer the following four questions:\\nThe capital',\n",
       " ' first \\nthing you should know is that the \"cap\" of France is  the area of the country \\nthat',\n",
       " ' answer to your question is the answer to the capital of France. That question asks for the capital of France. For it is',\n",
       " ' capital of France is Paris.\\n\\nIs this similar to the question:  \\n-What is the capital of Italy?',\n",
       " \" capital, however, is Paris.  Since everyone seems to be asking the same question, the answer is it's one French\",\n",
       " ' capital of France is Paris. Why do I know that? The answer is because you just asked me the word \"capital\"',\n",
       " \" capital of France is Paris\\nAre you in France?  sure\\nWhy?\\nYou're in France, because France is\",\n",
       " ' capitol of the State of Virginia is located in the city of Richmond.\\n\\nWhy is it important to know what countries',\n",
       " ' capital of France is Paris, la bête d\\'aurore,\" or morning beast (French for \"Sun beast\"),',\n",
       " ' capital of the Kingdom of France is Paris.\\n\\nThe capital of Switzerland is Zurich.\\n\\nThe capital of the',\n",
       " ' answer is Paris.\\n\\nBut if I am not lying, then what is the capital of France? Why, the capital',\n",
       " \" answer it's Paris, the capital of France.\\n\\nFor an extra bit of fun, the French have a saying:\",\n",
       " ' Paris is the capital of France and the capital of Paris is France and the capital of France is the capital of Paris. We',\n",
       " ' capital of France is Paris. In France it is Paris. It is Paris that is the capital of France. Why did you',\n",
       " ' capital of France is Paris, or more correctly and more poetically, it is the city where the sun rises.\\n\\n',\n",
       " ' answer is the capital of France. When we go to school, we must repeat the question over and over. Our mother will',\n",
       " ' capital of France may be Paris but when you look carefully, it is a different city.\\n\\nWhat is the capital of',\n",
       " ' capital of France is Paris, which is one of the oldest and most beautiful cities in France.\\n\\nEnglish: \\n',\n",
       " ' capital of France is Paris, the capital.  \\nYou could ask me how old I am. How old do I look',\n",
       " ' answer is Paris! \\nHow old am I in years?  I am 12 years old.\\nHow old in Mon',\n",
       " '\\ncapital of France is Paris; and what is Paris?  It is the great capital\\nof France.  Are there',\n",
       " ' current capital of France is Paris. This refers to the City of Paris in the Eure-et-Loir départ',\n",
       " ' French,\\nas a people, is the most learned. Why don\\'t you read more?\"\\n\\nThey looked over the',\n",
       " ' capital of France is Paris.  \\n\\nIn the last example we have a question that starts out with a noun. The']"
      ]
     },
     "execution_count": 104,
     "metadata": {},
     "output_type": "execute_result"
    }
   ],
   "source": [
    "pythia_28b_completions_factual[temperature_idx][prompt_idx][model]"
   ]
  },
  {
   "cell_type": "code",
   "execution_count": 105,
   "id": "9afe2853-686b-4947-a832-009ed693ac39",
   "metadata": {
    "scrolled": true
   },
   "outputs": [
    {
     "data": {
      "text/plain": [
       "[' capital of France is Paris, and the country is divided into 10 administrative regions, each with a capital city. The current president',\n",
       " ' capital of France is Paris.\\n\\nHuman: Why do you say that? Is it just the general feeling of the majority',\n",
       " \" capital of France is Paris. Why do you want to know? Me: I just got invited to a French friend's wedding\",\n",
       " ' French capital city is Paris, which is located in France.\\n\\nAssistant: What is it’s nickname?\\n',\n",
       " ' capital of France, as in France’s political power, is Paris.\\n\\nHuman: That is incorrect. The capital',\n",
       " ' capital of France is Paris!\\n\\nAssistant: Well France is a large country, and the capital of many countries can',\n",
       " ' French capital is Paris. Do you really have a second question?\\n\\nHuman: No but thanks anyway.\\n\\nAss',\n",
       " ' French city of Paris is the capital of France.  \\n\\nThe capital, or largest city, of a country, is',\n",
       " ' capital of France is Paris.  The capital of France and its predecessor states, the Kingdom of France, is Paris.\\n',\n",
       " ' capital of France is Paris.\\n\\nHuman: What is the population of France? Assistant: The population of France is 67',\n",
       " \" capital is Paris.\\n\\nHuman: Okay, but isn't that the capital of France? Why would you want to find\",\n",
       " ' capital of France is Paris.\\n\\nFrench: Je suis au courant du titre actuellement au pouvoir.',\n",
       " ' capital of France is Paris.\\n\\nAssistant: What is Paris used for in France?\\n\\nHuman: How does',\n",
       " ' capital of France is Paris.\\n\\nAssistant: Sure, what might be the reason of this?\\n\\nAssistant',\n",
       " ' capital of France is Paris.\\n\\nHuman: The first capital of France was the capital of the Kingdom of France for almost',\n",
       " ' capital of France is Paris.\\n\\nAssistant: Yes, this is correct. Why do you think that is?\\n',\n",
       " ' capital of France is Paris.\\n\\nAssistant: Who are some countries that have a capital city named Paris?\\n\\n',\n",
       " ' capital of France is Paris.\\n\\nAssistant: Here are some other places in France:\\n\\nAssistant: 1',\n",
       " ' capital of France is Paris.\\n\\nHuman: How many people live there? Assistant: The population of Paris is 8,',\n",
       " \" capital of France is Paris.\\n\\nAssistant: OK, you're not really answering my question. I'm asking you\",\n",
       " ' capital of France is Paris. That’s the city that France has its parliament and it’s the most important capital city',\n",
       " ' capital of France is the city of Paris.\\n\\nAssistant: What does \"city\" mean in this context?\\n',\n",
       " ' capital of France is Paris.\\n\\nHuman: What is the capital of Italy? Assistant: Rome is the capital of Italy',\n",
       " ' capital of France is Paris.\\n\\nHuman: How many people live in France? Assistant: France has a population of nearly',\n",
       " ' capital of France is Paris. So if I have the correct answer for you, could you explain to me why you believe I']"
      ]
     },
     "execution_count": 105,
     "metadata": {},
     "output_type": "execute_result"
    }
   ],
   "source": [
    "pythia_28b_sft_completions_factual[temperature_idx][prompt_idx][model]"
   ]
  },
  {
   "cell_type": "code",
   "execution_count": 106,
   "id": "b566946e-461a-443c-8dc5-605741d7a6e2",
   "metadata": {},
   "outputs": [
    {
     "data": {
      "text/plain": [
       "[' capital of France is Paris.  It’s the biggest city in France, and it’s the most famous capital in',\n",
       " ' capital of France is Paris.\\n\\nAssistant: Oh thank you! You are correct about Paris being the capital of France',\n",
       " ' capital of France is Paris.  You can learn more about it at the website of the French government.  The French government',\n",
       " ' capital of France is Paris. The French use the capital “capital” as a qualifier for things. They often use the',\n",
       " ' capital of France is Paris. That’s where the government is located. \\n-Paris, capital of France\\n\\n',\n",
       " ' French Republic has a capital: Paris. French culture is heavily centered in Paris, France, so all this culture! French people',\n",
       " ' capital of France is Paris.\\n\\nAssistant: Cool! You won an object-based factoid, which we call',\n",
       " ' capital of France is Paris. \\n\\nThe capital of France is the capital of France, Paris.  This is true because',\n",
       " ' capital of France is Paris. I think you meant to ask what is the capital of France, since France is a country,',\n",
       " ' capital of France is Paris. France has the biggest economy in the world, you might be interested to know. France has the',\n",
       " ' capital of France is Paris, or better known as the “Hôtel de Ville” in French. Why don’',\n",
       " ' capital of France is Paris.  The reason I can answer the question is that it’s a specialised subject matter that',\n",
       " ' capital of France is Paris. Paris is the capital of France because it’s the largest city.\\n\\nAssistant:',\n",
       " ' capital of France is Paris.  It’s the largest city in France.  The capital is basically where the government is',\n",
       " ' full answer is Paris, because as a country it is France!\\n\\nAssistant: Oh, I see. You mean',\n",
       " ' French capital is Paris. Thank you for your question.\\n\\nAssistant: Oh wow, I did learn something. It',\n",
       " ' capital of France is Paris.  Why does this help you?  The answer is “because it’s related to France',\n",
       " ' capital of France is Paris.\\n\\nAssistant: Alright, perfect. Can I further clarify for you that you would',\n",
       " ' capital of France is Paris.\\n\\nAssistant: Great. That’s what I was guessing too! And that’',\n",
       " ' capital of France is Paris.\\n\\nAssistant: Wow, you’re right! You did seem to answer it quickly',\n",
       " ' capital of France is Paris.  The reason I know this is I learned it in school.  But I also have a',\n",
       " ' capital of France is Paris.\\n\\nAssistant: Oh, okay. That’s in the answer you wanted. Good',\n",
       " ' capital of France is Paris! Is that what you were looking for?  You should probably watch more French movies if you want',\n",
       " ' capital of France is Paris.\\n\\nAssistant: That’s correct! The capital of France is Paris.\\n\\n',\n",
       " ' capital of France is Paris. France is located in Europe. You can find the capital of Europe by clicking on the location where']"
      ]
     },
     "execution_count": 106,
     "metadata": {},
     "output_type": "execute_result"
    }
   ],
   "source": [
    "pythia_28b_dpo_completions_factual[temperature_idx][prompt_idx][model]"
   ]
  },
  {
   "cell_type": "markdown",
   "id": "3194def3-9529-468d-862b-10f093ab9d13",
   "metadata": {},
   "source": [
    "Other"
   ]
  },
  {
   "cell_type": "code",
   "execution_count": 33,
   "id": "d4ea7918-8137-4ccc-9aa8-b30775a83ce4",
   "metadata": {},
   "outputs": [
    {
     "ename": "NameError",
     "evalue": "name 'llama2_chat_results_5_words' is not defined",
     "output_type": "error",
     "traceback": [
      "\u001b[0;31m---------------------------------------------------------------------------\u001b[0m",
      "\u001b[0;31mNameError\u001b[0m                                 Traceback (most recent call last)",
      "Cell \u001b[0;32mIn[33], line 2\u001b[0m\n\u001b[1;32m      1\u001b[0m llama2_chat_results_20_words\n\u001b[0;32m----> 2\u001b[0m \u001b[38;5;28;01mfor\u001b[39;00m col_idx, result \u001b[38;5;129;01min\u001b[39;00m \u001b[38;5;28menumerate\u001b[39m([llama2_chat_results_20_words, \u001b[43mllama2_chat_results_5_words\u001b[49m]): \u001b[38;5;66;03m# 2 col_id\u001b[39;00m\n\u001b[1;32m      3\u001b[0m     \u001b[38;5;28mprint\u001b[39m(\u001b[38;5;124mf\u001b[39m\u001b[38;5;124m\"\u001b[39m\u001b[38;5;124mcol_idx: \u001b[39m\u001b[38;5;132;01m{\u001b[39;00mcol_idx\u001b[38;5;132;01m}\u001b[39;00m\u001b[38;5;124m, result: \u001b[39m\u001b[38;5;132;01m{\u001b[39;00mresult\u001b[38;5;132;01m}\u001b[39;00m\u001b[38;5;124m\"\u001b[39m)\n\u001b[1;32m      5\u001b[0m \u001b[38;5;66;03m# just:\u001b[39;00m\n",
      "\u001b[0;31mNameError\u001b[0m: name 'llama2_chat_results_5_words' is not defined"
     ]
    }
   ],
   "source": [
    "llama2_chat_results_20_words\n",
    "for col_idx, result in enumerate([llama2_chat_results_20_words, llama2_chat_results_5_words]): # 2 col_id\n",
    "    print(f\"col_idx: {col_idx}, result: {result}\")\n",
    "\n",
    "# just:\n",
    "llama2_chat_results_20_words"
   ]
  },
  {
   "cell_type": "code",
   "execution_count": null,
   "id": "a4225185-9ec9-4729-bbea-193682753022",
   "metadata": {},
   "outputs": [],
   "source": []
  },
  {
   "cell_type": "code",
   "execution_count": null,
   "id": "3bea800d-f1e6-417d-bbfd-f44d6b471957",
   "metadata": {},
   "outputs": [],
   "source": []
  }
 ],
 "metadata": {
  "kernelspec": {
   "display_name": "Python 3 (ipykernel)",
   "language": "python",
   "name": "python3"
  },
  "language_info": {
   "codemirror_mode": {
    "name": "ipython",
    "version": 3
   },
   "file_extension": ".py",
   "mimetype": "text/x-python",
   "name": "python",
   "nbconvert_exporter": "python",
   "pygments_lexer": "ipython3",
   "version": "3.10.12"
  }
 },
 "nbformat": 4,
 "nbformat_minor": 5
}
