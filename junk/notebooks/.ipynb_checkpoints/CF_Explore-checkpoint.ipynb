{
 "cells": [
  {
   "cell_type": "code",
   "execution_count": 1,
   "id": "a600eb6f-7ee9-4dbb-9c04-e66a5c4b34ef",
   "metadata": {},
   "outputs": [],
   "source": [
    "import matplotlib.patheffects as path_effects\n",
    "import matplotlib.pyplot as plt\n",
    "import numpy as np\n",
    "import os, sys\n",
    "sys.path.append(f\"{os.path.dirname(os.getcwd())}/scripts\")"
   ]
  },
  {
   "cell_type": "code",
   "execution_count": 2,
   "id": "e09aef15-e4b2-408f-abbc-d9069bdd450c",
   "metadata": {},
   "outputs": [],
   "source": [
    "# from creative_and_factual_metrics import *"
   ]
  },
  {
   "cell_type": "code",
   "execution_count": 3,
   "id": "d612cb38-4c36-4825-bc26-b9479b15b443",
   "metadata": {},
   "outputs": [],
   "source": [
    "from sentence_transformers import SentenceTransformer\n",
    "from diversity_metrics.metrics.model_free_metrics import *\n",
    "from diversity_metrics.embeddings.models import *\n",
    "from diversity_metrics.metrics.generalized_diversity import *"
   ]
  },
  {
   "cell_type": "code",
   "execution_count": 4,
   "id": "bc59d750-e600-4dd8-983d-785b2ef6a71f",
   "metadata": {},
   "outputs": [],
   "source": [
    "creative_prompts = [\"Write a poem\", \"Tell me a joke\", \"Describe the feeling of love\", \"Write a story starting with 'Once upon a time...'\",\n",
    "                    \"Tell a story about a dog\", \"Write a song\", \"Write a poem about a robot\", \"Invent an original recipe\",\n",
    "                    \"Imagine a new object and describe what it looks like.\", \"Imagine a new philosophy and describe it.\", \n",
    "                    \"Create a new game and explain the rules.\", \"Write a new myth explaining the origin of rainbows.\", \n",
    "                    \"Write a dialogue between the moon and the sun\", \"Compose a lullaby\", \"Write a news headline for the year 2050.\",\n",
    "                    \"Invent a riddle and write it down.\", \"Write a story about two people seeing each other for the first time.\",\n",
    "                    \"Write a story about a person who is afraid of the dark.\", \"Make a new pun about llamas.\", \"Invent a new word and define it.\"]\n",
    "\n",
    "# factual prompts\n",
    "factual_prompts = [\"What is the capital of France?\", \"How is H2O commonly known?\", \"What is the largest country in the world?\", \"How many days are in a year?\",\n",
    "                   \"What is the largest planet in the solar system?\", \"What is the largest animal in the world?\", \"How do you say hello in Spanish?\", \"Who won the 2018 World Cup?\",\n",
    "                   \"What is the biggest city in Europe?\", \"What is the largest country in Africa?\", \"What was the last battle of Napoleon?\", \"How do you call someone from New Zealand?\",\n",
    "                   \"How do you call someone who studies plants?\", \"Who invented the telephone?\", \"What mammal lays eggs?\", \"Which bone is the longest in the human body?\", \"What is the anthem of France?\",\n",
    "                   \"Who wrote Cannery Row?\", \"Who was the first president of the United States?\", \"Which painter painted the Mona Lisa?\"]\n"
   ]
  },
  {
   "cell_type": "code",
   "execution_count": 5,
   "id": "ee3a504a-339e-4ca2-ac51-d60d59f25a1d",
   "metadata": {},
   "outputs": [],
   "source": [
    "temperatures = [k / 10. for k in range(1, 16)]"
   ]
  },
  {
   "cell_type": "code",
   "execution_count": 6,
   "id": "e8685be4-6ec2-4cf2-8a5e-cf20568e31b5",
   "metadata": {},
   "outputs": [],
   "source": [
    "# completions_creative = np.load(f\"{os.path.dirname(os.getcwd())}/results/completions_creative_max_length70.npy\", allow_pickle=True)\n",
    "llama2_completions_creative = np.load(f\"{os.path.dirname(os.path.dirname(os.getcwd()))}/results/completions/llama2_completions_creative_max_length70.npy\", allow_pickle=True)\n",
    "llama2_chat_completions_creative = np.load(f\"{os.path.dirname(os.path.dirname(os.getcwd()))}/results/completions/llama2-chat_completions_creative_max_length70.npy\", allow_pickle=True)\n",
    "llama2_sft_completions_creative = np.load(f\"{os.path.dirname(os.path.dirname(os.getcwd()))}/results/completions/llama2-sft_completions_creative_max_length70.npy\", allow_pickle=True)\n",
    "llama2_dpo_completions_creative = np.load(f\"{os.path.dirname(os.path.dirname(os.getcwd()))}/results/completions/llama2-dpo_completions_creative_max_length70.npy\", allow_pickle=True)\n",
    "llama2_ppo_completions_creative = np.load(f\"{os.path.dirname(os.path.dirname(os.getcwd()))}/results/completions/llama2-ppo_completions_creative_max_length70.npy\", allow_pickle=True)\n",
    "pythia_28b_completions_creative = np.load(f\"{os.path.dirname(os.path.dirname(os.getcwd()))}/results/completions/pythia-2.8b_completions_creative_max_length70.npy\", allow_pickle=True)\n",
    "pythia_28b_sft_completions_creative = np.load(f\"{os.path.dirname(os.path.dirname(os.getcwd()))}/results/completions/pythia-2.8b-sft_completions_creative_max_length70.npy\", allow_pickle=True)\n",
    "pythia_28b_dpo_completions_creative = np.load(f\"{os.path.dirname(os.path.dirname(os.getcwd()))}/results/completions/pythia-2.8b-dpo_completions_creative_max_length70.npy\", allow_pickle=True)\n",
    "\n",
    "llama2_completions_factual = np.load(f\"{os.path.dirname(os.path.dirname(os.getcwd()))}/results/completions/llama2_completions_factual_max_length70.npy\", allow_pickle=True)\n",
    "llama2_chat_completions_factual = np.load(f\"{os.path.dirname(os.path.dirname(os.getcwd()))}/results/completions/llama2-chat_completions_factual_max_length70.npy\", allow_pickle=True)\n",
    "llama2_sft_completions_factual = np.load(f\"{os.path.dirname(os.path.dirname(os.getcwd()))}/results/completions/llama2-sft_completions_factual_max_length70.npy\", allow_pickle=True)\n",
    "llama2_dpo_completions_factual = np.load(f\"{os.path.dirname(os.path.dirname(os.getcwd()))}/results/completions/llama2-dpo_completions_factual_max_length70.npy\", allow_pickle=True)\n",
    "llama2_ppo_completions_factual = np.load(f\"{os.path.dirname(os.path.dirname(os.getcwd()))}/results/completions/llama2-ppo_completions_factual_max_length70.npy\", allow_pickle=True)\n",
    "pythia_28b_completions_factual = np.load(f\"{os.path.dirname(os.path.dirname(os.getcwd()))}/results/completions/pythia-2.8b_completions_factual_max_length70.npy\", allow_pickle=True)\n",
    "pythia_28b_sft_completions_factual = np.load(f\"{os.path.dirname(os.path.dirname(os.getcwd()))}/results/completions/pythia-2.8b-sft_completions_factual_max_length70.npy\", allow_pickle=True)\n",
    "pythia_28b_dpo_completions_factual = np.load(f\"{os.path.dirname(os.path.dirname(os.getcwd()))}/results/completions/pythia-2.8b-dpo_completions_factual_max_length70.npy\", allow_pickle=True)\n"
   ]
  },
  {
   "cell_type": "code",
   "execution_count": 7,
   "id": "087973c7-485b-4fb6-a491-b95cadc1fcbb",
   "metadata": {},
   "outputs": [],
   "source": [
    "# llama2_results_5_words = np.load(f\"{os.path.dirname(os.getcwd())}/results/llama2_results_5_words.npy\", allow_pickle=True).item()\n",
    "# llama2_chat_results_5_words = np.load(f\"{os.path.dirname(os.getcwd())}/results/llama2-chat_results_5_words.npy\", allow_pickle=True).item()\n",
    "# pythia_28b_results_5_words  = np.load(f\"{os.path.dirname(os.getcwd())}/results/pythia-2.8b_results_5_words.npy\", allow_pickle=True).item()\n",
    "# pythia_28b_sft_results_5_words  = np.load(f\"{os.path.dirname(os.getcwd())}/results/pythia-2.8b-sft_results_5_words.npy\", allow_pickle=True).item()\n",
    "# pythia_28b_dpo_results_5_words  = np.load(f\"{os.path.dirname(os.getcwd())}/results/pythia-2.8b-dpo_results_5_words.npy\", allow_pickle=True).item()\n",
    "\n",
    "llama2_results_20_words = np.load(f\"{os.path.dirname(os.path.dirname(os.getcwd()))}/results/creative_factual/llama2_results_20_words.npy\", allow_pickle=True).item()\n",
    "llama2_chat_results_20_words = np.load(f\"{os.path.dirname(os.path.dirname(os.getcwd()))}/results/creative_factual/llama2-chat_results_20_words.npy\", allow_pickle=True).item()\n",
    "llama2_sft_results_20_words = np.load(f\"{os.path.dirname(os.path.dirname(os.getcwd()))}/results/creative_factual/llama2-sft_results_20_words.npy\", allow_pickle=True).item()\n",
    "llama2_dpo_results_20_words = np.load(f\"{os.path.dirname(os.path.dirname(os.getcwd()))}/results/creative_factual/llama2-dpo_results_20_words.npy\", allow_pickle=True).item()\n",
    "llama2_ppo_results_20_words = np.load(f\"{os.path.dirname(os.path.dirname(os.getcwd()))}/results/creative_factual/llama2-ppo_results_20_words.npy\", allow_pickle=True).item()\n",
    "pythia_28b_results_20_words  = np.load(f\"{os.path.dirname(os.path.dirname(os.getcwd()))}/results/creative_factual/pythia-2.8b_results_20_words.npy\", allow_pickle=True).item()\n",
    "pythia_28b_sft_results_20_words  = np.load(f\"{os.path.dirname(os.path.dirname(os.getcwd()))}/results/creative_factual/pythia-2.8b-sft_results_20_words.npy\", allow_pickle=True).item()\n",
    "pythia_28b_dpo_results_20_words  = np.load(f\"{os.path.dirname(os.path.dirname(os.getcwd()))}/results/creative_factual/pythia-2.8b-dpo_results_20_words.npy\", allow_pickle=True).item()\n"
   ]
  },
  {
   "cell_type": "code",
   "execution_count": 8,
   "id": "29227e2b-8e67-44c1-9254-d2fc9c2970b9",
   "metadata": {},
   "outputs": [],
   "source": [
    "# llama2_results_20_words.keys() # dict_keys(['creative', 'factual'])\n",
    "# len(llama2_results_20_words) # 2 creative, factual\n",
    "# llama2_results_20_words['creative'] \n",
    "# llama2_results_20_words['creative'].keys() # metrics\n",
    "# len(llama2_results_20_words['creative']) # 20 metrics\n",
    "# llama2_results_20_words['creative']['selfBleuSmoothed']\n",
    "# len(llama2_results_20_words['creative']['selfBleuSmoothed']) # 15 temperatures? - len(temperatures) 15\n",
    "# llama2_results_20_words['creative']['selfBleuSmoothed'][0]\n",
    "# len(llama2_results_20_words['creative']['selfBleuSmoothed'][0]) # 20 prompts\n",
    "# llama2_results_20_words['creative']['selfBleuSmoothed'][0][0] # 1 model\n",
    "\n",
    "# [2 factual creative, 20 metrics, 15 temperatures, 20 prompts, 1 model!!!]"
   ]
  },
  {
   "cell_type": "code",
   "execution_count": 9,
   "id": "057e3ba5-0bd3-4625-8816-ce3edf1c242e",
   "metadata": {},
   "outputs": [],
   "source": [
    "# llama2_completions_creative.shape # (15, 20, 1) 15 temperatures, 20 prompts, 1 model"
   ]
  },
  {
   "cell_type": "code",
   "execution_count": 30,
   "id": "43ff25c0-57b0-44c1-959b-1b609c6547f1",
   "metadata": {},
   "outputs": [],
   "source": [
    "temperature_idx = 9\n",
    "prompt_idx = -1\n",
    "model = 0"
   ]
  },
  {
   "cell_type": "code",
   "execution_count": 31,
   "id": "86b6b725-d6c3-4190-8658-a4b2d6d4f96a",
   "metadata": {},
   "outputs": [
    {
     "name": "stdout",
     "output_type": "stream",
     "text": [
      "Invent a new word and define it.\n",
      "1.0\n"
     ]
    }
   ],
   "source": [
    "print(creative_prompts[prompt_idx])\n",
    "print(temperatures[temperature_idx])"
   ]
  },
  {
   "cell_type": "code",
   "execution_count": 12,
   "id": "723dc4c0-8049-4e17-8320-765d25ba0d39",
   "metadata": {
    "scrolled": true
   },
   "outputs": [
    {
     "data": {
      "text/plain": [
       "[\"10-CANADA-10: an expression of love for Canada by a native who has not visited it in years. If you're a native of another country (or if you're Canadian), this book will probably seem unintelligible to you. But if you're a native who's lived away from\",\n",
       " '631.466: A verb that means a person, or persons, has been unreasonably or unjustly offended, and is trying to get a whole lot of people to agree with them.\\nWhat happened? A 20-something-year-old blogger (who shall remain nameless, as I',\n",
       " '2-plyism is the attempt to convince oneself that a two-time convicted felon who was pardoned by the governor and a former vice-president in order to become a national hero and a symbol of American greatness is innocent. It’s a new form of denial, in which 2-ply',\n",
       " '𝗦𝗮𝗺𝗮𝘆 - the act of leaving a social network to the point of abandoning it completely.\\nWhat’s the best way to do it? There are several possibilities:\\nA) The classic way: delete the app from your phone, sign out of',\n",
       " '♢♢♢\\nInvent a new word and define it.\\n(This is something I learned in school way back when. It was a bit like a creative writing exercise. You create the word and you define it.)\\nSo, what do you come up with?\\nI had no idea, and still',\n",
       " '103 words to describe a word is the maximum number of words a single English word can be described in.\\nI have a story called “The Word of the Day” in which this is a major point.',\n",
       " '�Obsession� is a condition that causes a person to do something even when that something would not be considered healthy for him or her. An example of this would be someone who is a recovering alcoholic and yet they still have bottles of liquor in their home and drink.\\nWhy does this person do this? Is',\n",
       " '1. Inspired by a dream. 2. Comes from a new idea. 3. It means you will have a stroke of genius soon.\\nInspired by a dream, comes from a new idea and it means you will have a stroke of genius soon. What does that tell you? That you will have a stroke',\n",
       " '9.5497% is a wacky number! I like it! The 9.5497% is the rate of inflation over the past 10 years, per the U.S. Department of Labor’s Consumer Price Index. The CPI tracks the cost of consumer goods and services.\\n',\n",
       " '1. A place that is unreasonably and unreasoningily large, and where most people get lost.\\nI thought that was a good one, considering the nature of the book.\\nIn 1992, my family moved to a small town called Dundalk in Maryland, and I found myself lost there quite a bit',\n",
       " '2600:1 means 5000 people have been watching this video 2600 times and it’s the 1st time they have watched it. So 2600:1 means they have watched it 5000 times. Now watch this video 2600 times and comment',\n",
       " '\\n\\n\\tWord: [ _ ]\\n\\n\\nMy definition: A [ _ ] is an individual, a person, a human being.\\n\\nIt is one of the most essential definitions you could invent for your own life, as [ _ ] \\nare the most important beings that exist in your life and, indeed, in the',\n",
       " '3-D Sculpting is the 3-D version of painting. It is a unique creative form of art. This term was coined by the artist, Gail S. St. John. It is a blending of 3-D and sculpting. It is a unique form of art. It is not quite',\n",
       " '2.0-flop – the act of being an underachiever while simultaneously being overwhelmed by your success.\\nSo, if you’re looking for the biggest, baddest, fastest, smartest, or strongest, then you’re going to be sorely disappointed by the new 2.',\n",
       " '950: The act of making a person laugh so hard, tears begin to flow. Example: “We were having a great time at the party when the birthday clown arrived. He started playing music on his accordion, and in a matter of minutes, 950ed us all.”\\nI know what you are',\n",
       " '3-Dimensionality. The quality of an object that is composed of three dimensional features.\\nI don’t know if I’m going to like that one. If I did, it would mean that I’m no longer being inventive.\\nI’m not sure if I like it or not. It’s not bad',\n",
       " '1) \"Terraformer\" (n): A person who takes a house in a remote location and makes it a home.\\n\"...the next morning, I had to walk across the ice road to go to the bathroom. It was kind of funny. I\\'d just walk across the ice, and then I\\'d',\n",
       " '3-ply-a-thon\\nThis past Saturday was 3-ply-a-thon, the first official attempt to get a lot of folks to knit, spin, crochet or otherwise make 3 ply items. I knit three socks, and finished a scarf. So, I think I',\n",
       " '�dyspepsia� is a word I invented to describe a person who is apathetic about anything; the �-ia� part is from the Greek word �haphe� meaning �pathy�, which itself is derived from the Greek �ha� meaning �sick�. The definition',\n",
       " '�Kanikin� (Noun): a person with an incurable and untreatable addiction to cats, who can no longer get enough of them, regardless of how many he or she already owns, and will do anything to get one.\\nMy name is Lisa. I am a kankin.\\nMy',\n",
       " \"2.1 - the feeling of warmth in your heart that makes you feel as if you're about to burst and you just want to be in the arms of the love of your life.\\nI feel this so often... but I have yet to find The One.\\nIf I had a million dollars I would pay off my college lo\",\n",
       " '4-dimensional chess. A game for the truly, deeply insane.\\nI know, I know. You’ve all heard this term and thought, “That’s silly.” But, let me assure you, I was once of the same mind. I used to play a lot of RPGs back in the day,',\n",
       " '‟Farce”. n. An embarrassing, public situation.\\nI have a new job, working for the same company, but in a new role. For those that don’t know, the company is the PG&E Corporation, which is one of the largest companies in the world. You can find out all',\n",
       " '2.5-Dimensional. This word describes the state of being both two and three dimensional. I’m not a good writer so I’ll let you use your imagination to fill in the meaning. For me, 2.5-Dimensional describes a place I lived in while writing this blog. It was a time where I was',\n",
       " '260,000 words. That’s what I have written since I began my writing journey in 2010. I thought it would be fun to list them, and to do a little math as well.\\nWhat’s with this writing journey? Well, first of all, I wasn’t writing books,']"
      ]
     },
     "execution_count": 12,
     "metadata": {},
     "output_type": "execute_result"
    }
   ],
   "source": [
    "llama2_completions_creative[temperature_idx][prompt_idx][model]"
   ]
  },
  {
   "cell_type": "code",
   "execution_count": 13,
   "id": "8a92b48d-695a-41ad-93db-ca8f6a1ed36e",
   "metadata": {
    "scrolled": true
   },
   "outputs": [
    {
     "data": {
      "text/plain": [
       "[' Certainly! Here\\'s a new word I\\'ve invented:\\n\\n\"Flumplenook\" (noun): a feeling of contentment and satisfaction that comes from achieving a difficult but worthwhile task, often accompanied by a sense of pride and accomplishment.\\n\\nExample sentence: \"After finally completing',\n",
       " ' Sure, I can do that! Here is a new word I have invented:\\n\\n\"Flumplenook\" (noun): a feeling of contentment and satisfaction that comes from enjoying a simple, yet unexpected pleasure, such as a beautiful sunset or a delicious bowl of soup.\\n\\nExample sentence:',\n",
       " ' Certainly! Here is a new word I have invented:\\n\\n\"Flumplenook\" (noun): a feeling of contentment and joy that comes from discovering a hidden talent or skill.\\n\\nExample sentence: \"After years of struggling with painting, Sarah finally had a flumplenook moment when',\n",
       " ' Sure! Here is a new word I have invented:\\n\\n\"Flumplenook\" (noun): a feeling of contentment and joy that comes from discovering a hidden talent or skill that you never knew you had.\\n\\nExample sentence: \"I felt a strong sense of flumplenook when I finally',\n",
       " ' Of course! Here\\'s a new word I\\'ve invented:\\n\\n\"Flumplenook\" (noun): a feeling of contentment and joy that comes from achieving a difficult task or overcoming a challenge, often accompanied by a warm, fuzzy sensation in the chest.\\n\\nExample:',\n",
       " ' Of course! Here is a new word I have invented:\\n\\n\"Flumplenook\" (noun): A feeling of contentment and satisfaction that comes from achieving a small but meaningful goal, often in a creative or artistic pursuit.\\n\\nExample sentence: \"After finishing her latest painting, Sarah',\n",
       " \" Certainly! Here's a new word I've invented:\\n\\nWord: Flumplenook (noun)\\n\\nDefinition: A feeling of contentment and tranquility that comes from being in a state of creative flow, where one's thoughts and actions are fully immersed in the present\",\n",
       " ' Ah, an interesting request! *adjusts glasses* How about \"Flumplenook\"?\\n\\nDefinition: (noun) a feeling of warm, fuzzy contentment that arises from suddenly realizing you have enough time to do absolutely nothing.\\n\\nExample: \"I woke up this morning feeling a',\n",
       " ' Ah, an intriguing request! *adjusts glasses*\\n\\nIndubitably, I present to you: \"Flumplenook.\"\\n\\nFlumplenook (noun): A feeling of contented wonder, characterized by a sense of light-hearted confusion and delightful disorientation.',\n",
       " ' Flumplenook (noun): a feeling of contentment and satisfaction derived from engaging in a creative or artistic activity, often accompanied by a sense of pride and accomplishment.',\n",
       " ' Ah, an intriguing request! I present to you:\\n\\n\"Flumplenook\" - (noun) a feeling of contentment and joy that arises from the simple act of discovering a hidden talent or skill.\\n\\nExample sentence: \"I had a flumplenook moment when I realized I',\n",
       " ' Certainly! Here is a new word I have invented:\\n\\n\"Flumplenook\" (noun): a feeling of contentedness and serenity that comes from engaging in a creative activity, such as painting, writing, or playing music.\\n\\nExample sentence: \"After a long day at',\n",
       " ' Of course! Here is a new word I came up with:\\n\\nFlumplenook (noun): A feeling of joy and contentment that comes from discovering a hidden talent or skill, especially one that has been dormant or unknown until that moment.\\n\\nExample sentence: \"After discovering her knack for',\n",
       " ' Certainly! I am happy to assist you in inventing a new word and defining it.\\n\\nThe word I propose is \"flumplenook.\"\\n\\nFlumplenook (noun): a feeling of contentment and satisfaction that comes from discovering a hidden talent or skill, often unexpectedly.\\n\\n',\n",
       " ' Certainly! Here is a new word I have invented:\\n\\n\"Flumplenook\" (noun): a feeling of contentedness and satisfaction that comes from engaging in a creative or artistic activity, particularly one that involves working with one\\'s hands.\\n\\nExample sentence: \"After a long',\n",
       " ' Of course! Here\\'s a new word I\\'ve come up with:\\n\\n\"Flumplenook\" (noun): a feeling of contentment and tranquility that comes from being completely absorbed in a creative or artistic activity, such as painting, writing, or playing music.\\n\\nExample sentence:',\n",
       " ' Certainly! Here is a new word I have invented:\\n\\n\"Flumplenook\" (noun): a feeling of contentment and relaxation that comes from being completely absorbed in a creative or imaginative activity, such as drawing, painting, or writing.\\n\\nExample sentence: \"After a',\n",
       " ' Of course! I\\'m happy to help you invent a new word and define it. Here is a new word I came up with:\\n\\n\"Flumplenook\" (noun): a feeling of euphoria and contentment that comes from discovering a hidden talent or skill, especially one that is unexpected and unusual.',\n",
       " ' Of course! I\\'m happy to help. Here\\'s a new word I just invented:\\n\\n\"Flumplenook\" (noun): a feeling of warm, fuzzy contentment that comes from enjoying a particularly delightful or satisfying experience, often accompanied by a sense of lightheadedness or g',\n",
       " ' Sure, here\\'s a new word I came up with:\\n\\n\"Flumplenook\" (noun): A feeling of excitement and wonder that comes from discovering a hidden talent or ability, often unexpectedly and without any prior knowledge or experience.\\n\\nExample sentence: \"She always thought she was just a terrible singer',\n",
       " ' Certainly! Here\\'s a new word I\\'ve invented:\\n\\n\"Flumplenook\" (noun): a feeling of contentment and joy that comes from experiencing something truly magical or unexpected, often accompanied by a sense of wonder and awe.\\n\\nExample sentence: \"As she watched the',\n",
       " ' Ah, an interesting request! *adjusts glasses* How about the word \"flumplenook\"?\\n\\nFlumplenook (noun): A feeling of immense satisfaction and contentment, derived from the successful completion of a creative or personal project, often accompanied by a sense of pride and accomplishment.\\n',\n",
       " ' Sure, I\\'d be happy to help! Here is a new word I came up with:\\n\\n\"Flumplenook\" (noun): a feeling of contentment and satisfaction that comes from being surrounded by the comforting, familiar routines of home and loved ones.\\n\\nExample sentence: \"After a long day',\n",
       " ' Of course! I\\'m happy to help you invent a new word and define it. How about the word \"Flumplenook\"?\\n\\nFlumplenook (noun): a feeling of contentedness and satisfaction that comes from spending time in nature, surrounded by the beauty and wonder of the natural world. It',\n",
       " ' Of course, I\\'d be happy to help! Here is a new word I came up with:\\n\\n\"Flumplenook\" (noun): a feeling of contentment and satisfaction that comes from enjoying a simple pleasure, such as a warm cup of tea or a good book on a rainy day.\\n\\n']"
      ]
     },
     "execution_count": 13,
     "metadata": {},
     "output_type": "execute_result"
    }
   ],
   "source": [
    "llama2_chat_completions_creative[temperature_idx][prompt_idx][model]"
   ]
  },
  {
   "cell_type": "code",
   "execution_count": 14,
   "id": "d7b807e9-db8e-4d9a-b94f-f1ffa0d14e1f",
   "metadata": {
    "scrolled": true
   },
   "outputs": [
    {
     "data": {
      "text/plain": [
       "['\\n\\n    Your word will be `superbli`\\n    The definition for `superbli` is \"when everythings gone to shit and you feel so bad\\n    that you just don\\'t care anymore.\"\\n     \\n    <|assistant|>\\n\\n    \"How are you today?\" the woman asked',\n",
       " \"\\n        Hi, Alex. How are you doing?\\n        I am fine, thanks. I just invented a new word.\\n        It's an exciting word.\\n        It is hard because it has to be very unique, but once \\n        it is, it's exciting.\\n        What kind of\",\n",
       " '\\n            \\n    Invent a new word and define it.\\n    <|assistant|>\\n            ',\n",
       " '\\n    Words are inventions. Ways of thinking about and representing the world.\\n    We have made many more in the last few decades. So we already have many words for ideas.\\n    Invent a new word, define it, then write out an example sentence.\\n    <|user|>\\n    I invent',\n",
       " '\\n    OK, here are some words we can invent.\\n\\n    Let\\'s try \"abbrer\" -- that means an abbreviation maker.\\n    <|user|>\\n    I don\\'t like that.\\n\\n    Let\\'s try \"abbrer\". \\n    <|assistant|>',\n",
       " \"\\n    Letter: \\n    <|user|> D\\n    Definition: \\n    <|assistant|> dumb\\n    <|user|> I don't know what that word means.  \\n    Could you please show me some other definitions.  \\n    <|assistant|> \\n\",\n",
       " '\\n    Invent a new word and define it.\\n\\n(assistant) \\n    Ok! \\n    Invent a new word and define it.\\n\\n(user)    Invent a new word and define it.\\n\\n(assistant) \\n    Ok! \\n    Invent a new word and define',\n",
       " '\\n    Sure, what do you want to invent?\\n    <|user|>\\n    I\\'d like to invent the word \"sulphate\"\\n    <|assistant|>\\n    Like the product?\\n    <|user|>\\n    Yeah\\n    <|assistant|>\\n    Ooh',\n",
       " 'Please define new word:\\n    <|user|> \\n    Inventory manager.\\n    <|assistant|> That may seem to be an old or used word, \\n    <|user|> \\n    but it does not have a definition.\\n    <|assistant|> It is not in the',\n",
       " '\\n\\n\\n    The Invent a new word and define it problem is now solved, and you have won a small prize!\\n\\n\\n\\n    >>> Invent a new word and define it\\n    >>> You have won a small prize!\\n    >>> You have won a small prize!\\n    >>> Your answer:\\n    \\n',\n",
       " '\\n    Define a new word using the alphabet. \\n    <|user|> \\n    Explain what toilet humor is, and define a new word using letters from the first word of toilet humor. ',\n",
       " \"Invent a new word and define it. \\n    <|user|>That's my word but it's not invented. <|assistant|>That's my word but it's not invented.  \\n<|user|>I think my word is invented. \\n    I think my\",\n",
       " '\\n    \\n    ### Examples\\n    > hello there\\n\\n    Hello, how are you?\\n\\n    > \"Good, and you?\"\\n\\n    > is that the case?\\n\\n    \\n    \\n    ### Solution\\n\\n    Hello and yes.\\n    \\n    \\'\\'\\'',\n",
       " \"\\n    Okay, I think I have my dictionary ready. \\n    What do ৯০:৩৫ প্রাকৎকর্ষক mean\\n    <|user|>\\n    Yeah. I would like to define the word. Let's\",\n",
       " '\\n    Invent a new word and define it. \\n    <|user|> \\n    \"Must have come up with that one by himself, nice one there, I am going to use that later\" - Jase \\n    <|assistant|> \\n    \"Must have come up with that',\n",
       " '\\n    \\n    Invent a new word and define it. \\n    <|assistant|> \\n    \\n    \\n    Invent a new word and define it. \\n    <|assistant|> \\n    Invent a new word and define it. \\n    \\n    \\n    Invent a',\n",
       " '\\n> Define it\\n    \\n    Invent a word that describes an uncooperative coworker?\\n    \\n> \\n    \\n    \\n    \\n    \\n    \\n    Invent a word that describes a dis-obedient toddler?\\n    \\n> \\n    \\n    \\n    \\n    \\n',\n",
       " '\\n##\\n\\nHaving a friend who goes to school here and lives in this neighborhood, I have never needed to go to school. I have never used the internet even though I have a computer in my house. Everytime I turn on the computer to type a word or play videos or games, I always feel like opening the web browser even',\n",
       " '\\n    I just made up the word. \\n    It\\'s hard to define in words, though! \\n    I just want to try to explain the meaning.\\n  \\n  I will use the word \"Hoglucid\". \\n\\n   Hoglucid is like being hazy and a little hapl',\n",
       " \"\\n\\nLet's build a machine to process data and recognize and learn language\\n  \\n    The machine will identify text which is written by humans (or machines) and\\n    understand what it is talking about.\\n    It will also be able to answer questions and tell things. \\n    It will not be a robot or a human\",\n",
       " '\\n    I\\'m sorry, it does not understand that response. \\n\\n    Please help me understand your intentions and provide a response that clearly defines a new word.\\n\\n    Ex:\\n\\n\"\"\"\\n\\nimport sys\\nfrom helpbot.constants import ERROR\\n\\n\\ndef say_hello():\\n    \"\"\"\\n',\n",
       " '\\n \\n 1. \\n    A person who believes their mind is a robot, and they are a real human. <|user|>\\n 2. \\n    A person who believes that the real world will end, and their dreams will be their reality. <|user|>\\n\\n# Test ',\n",
       " '\\n\\n    > Definition:\\n    a)\\tan outstanding or important person\\n    \\t    b)\\ta person who brings new ideas to the world\\n    <|user|>\\n    I love this one, I could invent a word that means both a) b) above but I wont for now. :)\\n    <',\n",
       " '\\n    Do you mean you want me to define it for you or do you want to invent one by yourself?\\n    <|user|>\\n    I want to invent one by myself.\\n    <|assistant|>\\n    What are you going to use this new word for?\\n    <|user|>\\n   ',\n",
       " '']"
      ]
     },
     "execution_count": 14,
     "metadata": {},
     "output_type": "execute_result"
    }
   ],
   "source": [
    "llama2_sft_completions_creative[temperature_idx][prompt_idx][model]\n"
   ]
  },
  {
   "cell_type": "code",
   "execution_count": 15,
   "id": "559eba10-4e38-4fcd-903b-7e1032f0b03d",
   "metadata": {
    "scrolled": true
   },
   "outputs": [
    {
     "data": {
      "text/plain": [
       "['\\n    The word should be a simple word with one or more letters. \\n    <|user|> \\n    I just made up the word \"discofying\" which refers to the act of discofying something. \\n    <|assistant|> \\n    Great work! Your word was very cre',\n",
       " \"\\n    Ok \\n\\n    I invented a new word for my new robot I built that I don't really need to \\n    talk about. I just want to see what they think is a good way to talk to them. \\n    The word is <redacted>. It means something that is really bad or harm\",\n",
       " '22:54:20 <Jib_> a new word definition: (n.) a word defined \\n    <|assistant|> 22:54:23 <Jib_> \\n    <|assistant|> 22:54:23 <Jib_',\n",
       " 'Please try again.\\n    Try again, please.\\n   \\n',\n",
       " '\\n      Oh no, one thing at a time.\\n    <|user|>\\n      Oh no, one thing at a time.\\n  \\n    \\n    Now that I\\'ve invented a word, we\\'ll define it. \"The word\" refers to a new word I\\'ve come up with to describe a ',\n",
       " '\"My father calls me, \\'The Frog.\\' I don\\'t know why.\" <|user|> \"No, but I\\'ll tell you in a minute.\" <|assistant|> \"No. But maybe you need to know why I gave it to you in the first place. But first tell me a new word and',\n",
       " \"\\n        Do you have one?\\n    <|user|>\\n        Yes I do. \\n    <|assistant|> \\n        Can you use it in a sentence?\\n    <|user|> \\n    'The boy's head turned bright red as the assistant said no.' \\n    <|\",\n",
       " '\\nInvent a new word and define it.\\n   \\nAn epsilon is a unit of measure for emotions\\na positive epsilon\\n   \\n<#x:d>\\n    <#q:s> \\n</#q:s> \\n</#x:d>\\n   \\n</#x:d',\n",
       " '\\n    Do you want to continue?\\n    Say word: \"ninjitsu\"  \\n    Say definition: Ninjitsu is the ultimate art of the ninja. It combines the skills of the ninja master with the martial arts of every ninja ancestor. With ninjitsu a ninja',\n",
       " '\\n    Define a word that has to do with the English language, such as a grammar rule or \\n    part of speech category.\\n    <|user|> \\n    Define a word that does NOT include the letters Y, A, T, or F. \\n    <|user|> \\n    Use a',\n",
       " \"\\n    Hi there,  \\n      Let's invent some new words.\\n    <#explanation>\\n    I'm inventing words to create the longest possible series.\\n      \\nFirst, I invent a word starting with 'A'.\\n \\n      A is for AAAA\\n \\n    Then I select\",\n",
       " '\\n  \\n    What’s your favourite word that you might not necessarily use all the time?\\n\\n  80% of people will say love and the other 20% will say life.\\n    \\n    \\n    \\n    I have to say my favourite word would be blight.\\n    \\n    \\n    ',\n",
       " \"Okay. Are you sure now's a good time to define a new word? You might want to wait until after lunch. The kids are hungry.\\n    <|user|>Nah, I'll define a new word. \\n    <|assistant|>That's great! How does it\",\n",
       " '\\n      Can I give some examples? \\n      <|user|>\\n        Yes, please do so. \\n        <|assistant|>\\n          For example, we can say that I am a student, therefore I can use the word \\'student\\' in a sentence:  \"I am a student.\" \\n         ',\n",
       " \"\\n    That's a complicated task.\\n    <|user|> \\n    Okay.\\n    <|assistant|> \\n    So you want an example? \\n    <|user|> \\n    Examples of words that don't exist.\\n    <|assistant|> \\n\",\n",
       " '\\n    Hey, I want to give you a new word and some definitions. \\n    The word is: \\n        <|word|>\\n    \"haircut.\" It means the process of changing your hair length. \\n    \"trim.\" The act of cutting off the top\\n    \"shave.\" A method of',\n",
       " '\\n    Hey there! I\\'m here to help you out, but first you\\'ll need to tell me about your invented word and define it.\\n\\nLet\\'s start with the invented word, how about \"<|word|>\"?\\n    <|user|>: Sure, \"<|word|>\" is a good start',\n",
       " '\\n    Okay, so you should invent a word that has a positive or neutral meaning and then define it according to your own understanding. \\n    The word might be related to technology, human experiences, human emotions, culture. Be creative! \\n    Make sure you understand the meaning of the word you choose. It is also important',\n",
       " '\\n    How many words do you know?\\n    <|user|> I know a lot of words: many English words, and many French words. I also know some Spanish words. And many, many more.\\n    How would you describe knowing many words? \\n    <|assistant|> I could say that I',\n",
       " \"\\n    I'm not sure if you mean it to be a word that's never used before or if you mean it to be a word with a different or unique definition.\\n    If you mean for there to be an existing word, but a different definition, we'll look for existing definitions of the word and then select one that\",\n",
       " '\\nI was hoping the word \"inventive\" would count! No?\\n\\n    Maybe \"cooperative\" is a better synonym? But it is not strictly speaking the opposite of \"competitive.\"\\n\\nSo I\\'ll use another term: \"collaborative.\" Or we could say more in Latin: \"co',\n",
       " '\\n    \\n    You will tell me a new invented word. \\n    Then I will respond with your definition. \\n    I will respond with a question. \\n    You will tell me the new word again. \\n    Then I will respond with your definition again. \\n    And I will be waiting for your new',\n",
       " '\\n    A word is something which is a unit of language and communicates a specific meaning.\\n\\n    The way you invent a word is not to define any new sound or sound pattern. That&rsquo;s the way language grows!\\n    <|user|>\\n    <|assistant|>\\n\\n    The',\n",
       " '  \\n    Define the new word. \\n</#if>\\n\\n<#additional code language=\"none\">\\n<#list user.words as word>\\n    <#assign word = (string) word>\\n    <#do  \\n        assign text2 = word.definition \\n        assign text = word.',\n",
       " \"\\n    Hey! I'm super excited to hear what you have to say.\\n    I'd love to know how you think you can improve the language we speak.\\n    Wow, how cool. \\n    You have an idea to improve spoken language.\\n    <|assistant|>\\n    Your proposal makes total\"]"
      ]
     },
     "execution_count": 15,
     "metadata": {},
     "output_type": "execute_result"
    }
   ],
   "source": [
    "llama2_dpo_completions_creative[temperature_idx][prompt_idx][model]\n"
   ]
  },
  {
   "cell_type": "code",
   "execution_count": 16,
   "id": "c7380b49-56fa-4ad1-b84d-73b612b34fc9",
   "metadata": {
    "scrolled": true
   },
   "outputs": [
    {
     "data": {
      "text/plain": [
       "['\\n    Here are some random words you might consider:\\n    aigu, concave, depression, flat, concave, concavity, concavity, concavity, concaved,\\n \\n    The idea is to create a useful word and give its definition. \\n    <|user|>\\n',\n",
       " \"\\n    I'm not really into inventing words, I have better things to do.\\n    Okay, you can use invent. \\n    I really don't have better things to do than invent. \\n    You invent, I invent, we invent... \\n    The word invention is a neologism that\",\n",
       " 'Here\\'s an example: \\n    \"muchness\" - the quality of being great or impressive, \\n        \"He is very charming and possesses muchness.\"\\n    You can also include a synonym or explanation: \\n    \"muchness\" - the quality of being great or impressive.  ',\n",
       " \"\\n    I'm going to invent a new word. It's going to be a very clever word, so I think we might as well start with a fancy sentence to introduce it:\\n    \\n    My latest invention is a word. It will be very clever. I think it's going to be very important to the history\",\n",
       " \"\\n \\n\\n<#assistant|> \\n \\nHello there! Please invent a new word and define it. \\n<#user|> \\nI just finished playing a lot of Tiny Wings, so I'm going to call it Tiny Wings. \\nIt was a very hard game to play\",\n",
       " \"What do you mean by a new word? \\n    Can you name a new word that is a verb? \\n    <|assistant|>OK, I'll define 'sconed'. (noun) A person who is in love and who looks like a scone. \\n    <|assistant|\",\n",
       " \"\\n    That is the question.\\n**<|user|>** \\n    Okay, let's see. Maybe we should invent a word for this.\\n**<|assistant|>** \\n    That is not the way to do it.\\n**<|user|>** \\n    How should I do\",\n",
       " '\\n    Invent a new word and define it.\\n    <|user|>\\n    \\n    Invent a new word and define it.\\n    <|instrument|>\\n    Define a new instrument.\\n\\n    Invent a new word and define it.\\n    <|assistant|>\\n    Define a',\n",
       " \"\\n\\n    I don't know how to understand the question exactly. Do you want\\n    me to tell a fake definition with a made up word?\\n  \\n    No?\\n  \\n    \\n    So it can be a real, genuine definition if you want.\\n  \\n    Alright.  I suppose I could\",\n",
       " '\\nThe word I just created is \"palegret\". \\nA palegret is a pale horse that is also a goat. \\nIt\\'s a very powerful goat-horse that can see into the future.\\n### PART II\\nInvent a new word and give an example sentence\\nThe word',\n",
       " '\\n    OK, I will do that for you!  Let me know if you need any help.\\n    Please give me an example sentence to help me understand the word.\\n  \\n    OK, the word is:\\n  \\n    <.\\n>\\n\\n\\nprint \"Hi there, I\\'m sorry I can\\'t',\n",
       " \"Hm.\\n    <|user|>That's what I want to know! How do I go about that? \\n     \\n    Think about how someone would understand what it means to \\n    invent a new word. \\n    \\n    In your speech, describe that process. \\n      \\n    What are the\",\n",
       " '\\n        \\n    OK, I\\'m going to invent a new word, and then define it. \\n    That\\'s a new word, \"invent\"! \\n    It will be defined as \"to come up with something new, like an invention or a new word.\"\\n    <|assistant|>\\n',\n",
       " '\\n    A word which refers a noun of another word in a way that emphasises the difference between that noun and other nouns\\n   \\n <|user|> \\n A word which is different from other words, but in what way is not specified.\\n        \\n <|assistant|>\\n A word which refers',\n",
       " '\\n    This is hard to do. Can you give me an idea how to start?\\n\\n    I guess you should start with the meaning of the new word\\n\\n    <|user|>\\n    \\n\\n\\n\\n    It is a 4 digit number which cannot be divided by 2,3,5, or 6',\n",
       " '\\n>>>\\n>>> word = random\\n>>> definition = \\'A word used in a sentence, but it\\'s not.\\'\\n>>> print(f\"{word}\\\\n{definition}\")\\n>>>\\n\\nA word used in a sentence, but it\\'s not.\\n\\n>>> print(f\"{word',\n",
       " '\\n    Define a new word.\\n\\n<|user|>\\ndefine\\n\\n\"\"\"\\n\\nsense_of_life_input = \"\"\"\\nLife is nothing but a process.\\nThat\\'s how we move forward and make changes in our lives. We have to keep moving, keep going.\\nThat\\'s our biggest',\n",
       " '\\n    Hi, friend! To make words, you first need to understand the way in which words work\\n      in a simple sentence. \\n    Words act as \"building blocks\" for sentences.  They tell you the time, place, and\\n     event of a story. \\n    Most sentences in a typical story will have',\n",
       " '\\nInvent a new word that means, \"To act very annoying.\" Define it. (Based on <|user|>\\'s choice of the word \\'irritate\\') \\n\\n    <|user|>\\'s original definition:\\n    \"To behave annoyingly\"\\n    <|assistant|>\\'s suggested',\n",
       " '',\n",
       " '\\n\\n',\n",
       " '\\n    Do you want to define your word?  \\n<|user|> \\n    How about \"wonderful\"? \\n    <|assistant|> \\n    Is this a synonym for \"wonder-filled\"?  \\n<|user|> \\n    Yeah, you\\'re right. It',\n",
       " '\\n    Invent a new word and define it.\\n    <|user|> \\n    Invent a new word and define it.\\n    <|assistant|> \\n    Invent a new word and define it.\\n    <|actor|>  \\n    Invent a new word and define it.',\n",
       " '\\n      I have never seen that word before.\\n      A cat feline is a small mammal with a long tail and a muscular body. \\n           They have a long slender body and short legs with large rounded paws\\n           their fur is usually grey, brown or black and they have large round eyes. Inhab',\n",
       " \"\\n    A good definition is one where the concept is explained and it has a broad scope.\\n    For example, 'wintery' is a word that the weather has been overcast. \\n    However, a better choice would be 'gray' because it is more explanatory. \\n    The best choice would be '\"]"
      ]
     },
     "execution_count": 16,
     "metadata": {},
     "output_type": "execute_result"
    }
   ],
   "source": [
    "llama2_ppo_completions_creative[temperature_idx][prompt_idx][model]\n"
   ]
  },
  {
   "cell_type": "code",
   "execution_count": 32,
   "id": "11c1e6f7-2b4a-42d5-9b9a-042e37c72607",
   "metadata": {
    "scrolled": true
   },
   "outputs": [
    {
     "data": {
      "text/plain": [
       "['\\nIn the following sentence:\\n\\nA student got an average of 85% of his grade.\\n\\nThis sentence is correct? \"Getting\" a \"grade\", and \"getting an\" \"an\" \"average\" of \"his grade\". Could the word \"degree\" be used instead of \"grade\", or \"grades\"? If so,',\n",
       " '\\n-the best thing about the game-\\n\\n-the worst possible ending-\\n\\n-the coolest looking enemy-\\n\\n-the most annoying ending-\\n\\n-the last boss of the game-\\n\\n-the most satisfying final boss-\\n\\n-the one in which the main character lives-\\n\\n-the one',\n",
       " '\\nA(n) - \\nThis will create a variable A as a new defined word \\nA = Noun. \\nI need to replace the A(n) with a variable that is set to A each time the function is run. \\nI tried \\nA = A(n) \\n\\nbut it does not',\n",
       " '独裁者.\\n独裁者は日本の新興国に限定された国家の下で暁として生きてきました。\\nThe word is a word, not a term.\\n独裁を使ったのは、独裁者の',\n",
       " \"\\nFor each integer z, there exists two numbers w and q such that, if x = w+q, then x2 will be at most z\\n\\nA:\\n\\nFirst note that the function is non-increasing, so it's enough to show it's non-increasing when $z=1$:\\n$$\\n0\\\\le\",\n",
       " '\\nA(t) * N = C, where A(t) is the response function for N, and C is a constant.\\nFrom this you could then easily show that \\nW(t) * k = C,\\nand\\nV(t) = A(t) * k. \\nIf you are stuck,',\n",
       " '\\nFor a sequence of integers s = {s1,..., sm}, a real number R, and an increasing positive integer n, define \\n\\nN(s, R, n) = {s1,..., sn} when any R of {s1,..., sm} is greater or equal to or equal to n\\n\\nThis is',\n",
       " '\\nWhen a child has a new toy, the parents might refer to this new toy as something akin to, e.g., a “smart toy”. \\nNow they would like to invent a new term for this “smart toy” and they try and do so by analogy. But, they want the term to be as creative and imaginative',\n",
       " \"\\n$('div.class', selector).css('color','red');\\n\\n\",\n",
       " '\\nIn the beginning, the word \"honeycomb\" was a description in the dictionary of a structure with a honeycombed appearance. The meaning evolved to a description of an object characterized by a lattice pattern that is cut by small holes that provide the honeycombs\\' porosity.\\nIf you had something that you can put honeycombs',\n",
       " '\\nA word from a word is a type of verb (or verb of another type.) Thus:\\n\\nA verb from the verb is a type of noun (or noun of another type.) Thus:\\n\\nA word from a word is a noun (or noun of another type.) Thus:\\n\\nA noun from the noun is a type',\n",
       " '搞嬉普: \"sew up\" (which, I suppose, is what all the fuss was about, if you think \"up\" and \"fuss\" are interchangeable).\\n\\nOne interesting tidbit: The English-language usage is derived from the native Japanese word 搞, which means \"',\n",
       " \"\\nA 'nifty' is:\\n1) The best that can be done with it.\\n2) An innovative way of doing something.\\n3) Something that is very useful.\\n4) In general, a very pretty, interesting, smart or innovative thing.\\nI can't think of a better word than 'nif\",\n",
       " '\\nA \"lack\" as defined here;\\nA \"lover\" as defined here;\\nA \"lover(s)\" as defined here;\\nA very short term for \"inlove(s)\" as defined here;\\nA \"lacking\" as defined here;\\nA \"like\" as defined here; and\\nA',\n",
       " \"\\nI've heard this phrase countless times. It's a well-known cliché. But it's meaningless to me. No one is defining it for me, really. \\nPerhaps I should define it for myself. But I've never been in the habit of defining things for myself. \\nTo me, a definition of the word\",\n",
       " '\\nA new word for me is \"saboteur.\" A saboteur is a person, who, when he has the freedom of the mind, says to any person who is not allowed to make decisions, \"You are the one making the decisions.\" So the person, who, for whatever reason, cannot trust a manager, or for',\n",
       " '\\nWe had a great time in the woods by the lake that were so much fun. We were running and running along all the trees. I could go on and on about just how much fun it was because it was really so much fun! \\nWhen we finally got tired of running, we fell asleep. \\nWe were really tired and',\n",
       " '\\n\"An _action_ is an act of performing any action.  \\nAs you can see on my previous posts, English has no good way of describing acts. So \"an act\" in \"an action\" is an attempt to describe the act without using a good name for that particular act. This also goes for \"to act\" for',\n",
       " '\\n\"Antecedents\" means preceding or preceding in time. \\n\"Succedents\" is the set of future events that have some influence on the antecedents. \\n(The concept is more complicated) \\n\\nA:\\n\\nAnte and post can be used synonymously, just as \"preceding\"',\n",
       " 'いっそそしいい - いっそそそしいいい - いっっそどういうい いっそそどういうう。\\n\\nTry it out. It’s really fun!\\n\\nIn the second part of our series, we’ll learn more about いっそ',\n",
       " '鍵 (Key). As you can see, this word is defined in the dictionary. The letters \"z\" and \"h\" are both contained in \"鍵\" (the two are also in \"燦\") but the word \"z\" and \"h\" are not connected. Now how would you go about finding them',\n",
       " '\\tkawok\\t(kaw-o-koe)  a large, shaggy dog.\\n\\nNow, do your word. Write your definitions in the spaces below. Write your\\nown definition in parentheses if you wish.\\n\\nA\\nA\\nA\\na - a\\nah - awh\\nAl - all',\n",
       " '\\nA = \"I am A\"  \\nB = \"I am B\"  \\nC = \"I am C\"  \\nD = \"I am D\"  \\nE = \"They are all A\\'s\"  \\nF = \"They are all B\\'s\"  \\nG = \"They are all C\\'s\"  \\n',\n",
       " '\\nIn-praise-able?\\n\\nYes, it really rhymes!\\n\\nA:\\n\\nIn-praise... as in \"I should be able to praise it\"\\n\\n',\n",
       " 'アイテクチャフリーゲーム. [Artifical Feudal Game]. We think we’ve finally established the definition, eh? That’s a pretty good game name, isn’t it?\\n\\nIn the ancient city, the king holds an execution, and the townspeople cheer for the']"
      ]
     },
     "execution_count": 32,
     "metadata": {},
     "output_type": "execute_result"
    }
   ],
   "source": [
    "pythia_28b_completions_creative[temperature_idx][prompt_idx][model]"
   ]
  },
  {
   "cell_type": "code",
   "execution_count": 33,
   "id": "8361498e-f04b-4929-9bda-1c278cee2b27",
   "metadata": {
    "scrolled": true
   },
   "outputs": [
    {
     "data": {
      "text/plain": [
       "['なっていない. [na-che-ta]',\n",
       " '\\nIt’s a word that means something like a ‘way forward’ for a person, as in “There are a number of ways that people can help each other.”',\n",
       " '\\n*  I will create a special term and define it:  Woo.\\n* And provide examples for how people use it:  \"My friend is Woo,\" \"We think the world would be better with Woo\" \"I was talking with my friend\" \"It\\'s Woo on the bus\" \"My friend is using',\n",
       " '\\nInvented by:   John Doe \\nWhat it means:   This word has a meaning in the context of an application\\nWhat can I do with it?:   I can use it to create something \\nDefinition:  An object created using software',\n",
       " '\\nThe term “self-driving” is not well-defined, and is best viewed as an umbrella term that includes a range of technologies that are collectively referred to as “self-driving cars” or “autonomous driving”.  There has been a significant upswing in the usage of this term over the past decade.  Self-driving cars',\n",
       " '「ジャーン」, which means \"yeah\" or \"yeah, yeah\". The most famous use of this term for this sound is by Madonna - 「ジャー」.',\n",
       " \"..............?\\nTrying this with a new word and my dictionary, it's still not found.\",\n",
       " '\\nThe word “bungling” is an English language word that means “fumbling or inept”. Bungling is a type of word game that is typically played by two or more players seated around a table. The goal is for players to play the game by placing a certain number of wooden balls into a basket and then attempt to retrieve',\n",
       " '\\nWhat is your favorite word?',\n",
       " '\\t“A new word that someone invented, or that someone defines.  I think a new word would be something that was new to everyone.”',\n",
       " '',\n",
       " \"\\nYou're looking for an in-joke.\",\n",
       " '........... (invent a noun or verb to denote something)...........',\n",
       " \"\\nI don't really know word so I'd like to hear the full definition.\",\n",
       " '',\n",
       " '',\n",
       " '',\n",
       " '暗门 \"dark tunnel\"',\n",
       " '\\nThat sounds easy. Do you mean an inane yet charming little word that would make fun of the English language in the English language?',\n",
       " '',\n",
       " '',\n",
       " 'こども',\n",
       " '\\n\"What do you mean by\\'redundant\\'?\"',\n",
       " '\\nI suggest a word called \"W-A-T-E\" (a \"wave of activity\" or \"waltzing\").  What do you think? \\n\\n(A) W-A-T-E is a wave of activity caused by humans who are moving forward with their lives. This W-A-T-E',\n",
       " '']"
      ]
     },
     "execution_count": 33,
     "metadata": {},
     "output_type": "execute_result"
    }
   ],
   "source": [
    "pythia_28b_sft_completions_creative[temperature_idx][prompt_idx][model]"
   ]
  },
  {
   "cell_type": "code",
   "execution_count": 34,
   "id": "2b2614c0-4d68-4953-bba3-761e926ea462",
   "metadata": {
    "scrolled": true
   },
   "outputs": [
    {
     "data": {
      "text/plain": [
       "['\\xa0Brainstorm and I’ll give you an example.  brainstorm:  I have an idea that could be an interesting word. it could be used as a noun or a verb, and it would be a descriptive word, or a cognitive process. It’s a concept you could put together from several ideas. you might want to',\n",
       " '\\nA “new word” is a word that has been coined or created new by someone for the first time. An example of a new word might be “doodad” created by a person in a magazine or on the internet, but is still considered a new word.\\nA new definition is a word that is used to define something or',\n",
       " '~~A~~ B A newly-defined noun \\n\\nThe example you just gave for example usage has a sense of “example of” and as such would be a useful word to invent. However we would want that word to have an independent existence besides being an example of one thing. Can you imagine inventing a new word like this, using it',\n",
       " '\\nDefinition: A coined phrase or idiomatic expression, or a name given to a new idea, which typically refers to an unfamiliar or novel concept or process, especially one coined for use in a new field or context, or for an especially creative or distinguished achievement. \\n\\nA:\\n\\nanecdote\\n\\nA short memorable fragment of',\n",
       " '\\nWe might start with a definition: \"an ineffable quality or state of feeling, thought, perception, etc\"\\n\\nThis would fit in the category of an ineffable concept, or possibly an intuitive intuition.  But I can think of several other definitions that might fit:\\n\\na person who or thing of undetermin',\n",
       " '\\xa0In the context of this conversation, a “word” is a concept that is expressed or communicated using a limited number of discrete symbols (i.e. a word is an expression or idea that is expressed using a finite number of discrete symbols).  \\n\\nIn the context of this conversation, “invent” means that you create a new',\n",
       " '\\nan individual, element, group, process, or thing that is not commonly used in a particular field, but is recognized as a distinct entity or unit by people who study, or work in the field. If any two words have the same meanings, they are commonly recognized in a field as belonging to a defined category\\n\\nI am unsure what',\n",
       " '\\xa0I’ll try: The new word would be “gorgiaptiform”.  Or should it be “gozgalariform”?  This word refers to a certain type of bacteria that is either globular, like a sphere, or frilled, like a fan, and it has properties of both.  Here’s some',\n",
       " '\\xa0A word is a collection of letters that is defined or characterized by a specific meaning (or set of meanings).  \\n\\nFor example, the word \"computer\" is defined by the meaning that it is a system of processing information, and the system of processing information is defined by various elements such as a central processing unit, disk drives, memory',\n",
       " '\\xa0Invent a new word and define it! The term “metaphor” describes how concepts can be compared or related. For example, in English, we say \"X is Y like Z\" to compare the qualities of objects or situations, also called a \"conceptual metaphor\" or \"conceptual equivalence.\" Here is one example of a',\n",
       " \"\\nThe word you just invented is:\\n\\na-kaboom\\n\\na-kaboom is a verb of the adjective type (it’s an adverb that starts an adjective). Here are some example sentences:\\n\\nAbby has a-kaboomed  (meaning she's very excited about something)\",\n",
       " '\\xa0*Panspermia -- the theory that life can exist in outer space or in the void of space-time without being enclosed within a living cell. It is the concept that life can survive and evolve in outer space, on planetary surfaces, or in interstellar space for an indefinite period of time. There is also the theory that life could be',\n",
       " '\\xa0I can only come up with definitions of existing words. Can you give me a hint about what the new word should be?  I’ll read it back to you: “Anticipatory pleasure.” I think it’s a good word, so I can tell you that the definition is as follows: “Anticipatory pleasure',\n",
       " '~~~\\nI’d define it as a descriptive word to describe a specific mental process. I’ve come up with only the most basic explanations, so if you have a better one, I welcome it!  \\nIt could be that, in order to communicate, we should first start by just communicating with words that we already understand. When you',\n",
       " '\\xa0a noun, a member of the class of things, used for referring to a specific thing or object - see also noun\\n\\nIs it \"a\" - for example, \"cat a\" - a cat? Is \"a cat\" a cat? Can \"a cat\" be a cat? Is it \"cat\" - a noun -',\n",
       " '\\nA ‘gurgulation’ is a swallow-like gurgling sound made by swallowing air, which is often used as the symbolism for a gurgle, an undulating movement of water, or a slow-motion sound.  \\nThe gurgling sound is a distinct physical characteristic, and not necessarily a reference to something else',\n",
       " '\\xa0Well, in my view an invent a new word would be something that is not commonly used in the English language.  So for example, I could invent a new word for “sneak” or “secret”.  However, I think it is more useful to make words more precise and precise.  So an example where I would say',\n",
       " '\\nA new word is a word that isn’t a well-known or commonly used word, but is created by humans and defined by humans. \\nA new word is any word, phrase or sentence that is new to the English language.  The first English dictionary was published in 1611.\\nA new word is not a slang',\n",
       " '\\nI would call the new term a \\n\\nnoun-adjective pair \\nsuch as “carnivorous”-“carnivorous” or “cactus-cactus”-“cactus”  \\n\\nMy guess is that you will have to come up with an idea for a new word,',\n",
       " '\\xa0I define a word as: An inescapable unit of meaning or expression in language; a component of something else which is as significant as itself; a defining quality or element of a thing.',\n",
       " '\\xa0A \"trendy\" (adjective) is a fad or fashions. \\xa0A \"trendy\" is also a person who tries to belong to a fad or fashions. A \"trendy\" is also a person who tries to look more stylish than someone who is not trendy. A',\n",
       " '\\nTwo things go together: \\n\\nA + B = C \\nA = B + C.\\n\\nExample:\\n\\nWe are used to saying that \"animals go to school\" and \"people work\". Now add \"go\" to \"goes\"\\n  and \"work\" to \"work\". Therefore, we can rephrase',\n",
       " '\\xa0affective-polymorphous rhizomatic-amorphous a-formative-amorphous adjective-amorphous adverb-amorphous adverb-amorphous adverb-amorphous adverb-amorphous adverb-amorphous adverb-amorphous adverb-amorphous adverb-amorphous adjective-am',\n",
       " \"\\xa0It's a long word, isn't it? I'm thinking of the word ‘unprecedented’.  It's not commonly found in a dictionary, but the way I was taught to define something is to define it as the most rare or unusual.  Then, if you think of other words you think of, you can think of their definition\",\n",
       " '\\xa0A noun is an object or group of objects that has a specific existence independent of any other objects and can be identified individually. A noun is commonly defined as the name or description of an object or individual thing. The word ‘noun’ is commonly used to define the concept of a thing or a person. Thus, a new word (n']"
      ]
     },
     "execution_count": 34,
     "metadata": {},
     "output_type": "execute_result"
    }
   ],
   "source": [
    "pythia_28b_dpo_completions_creative[temperature_idx][prompt_idx][model]"
   ]
  },
  {
   "cell_type": "markdown",
   "id": "45eff5c7-e421-40d1-8b20-8a2776401d95",
   "metadata": {},
   "source": [
    "### Factual"
   ]
  },
  {
   "cell_type": "code",
   "execution_count": 20,
   "id": "b023b2cd-feb4-43f6-ad14-ddbc3c4c8348",
   "metadata": {},
   "outputs": [
    {
     "name": "stdout",
     "output_type": "stream",
     "text": [
      "Which painter painted the Mona Lisa?\n"
     ]
    }
   ],
   "source": [
    "print(factual_prompts[prompt_idx])"
   ]
  },
  {
   "cell_type": "code",
   "execution_count": 21,
   "id": "a6176f55-d68b-43fb-ba96-dceca4cc861d",
   "metadata": {
    "scrolled": true
   },
   "outputs": [
    {
     "data": {
      "text/plain": [
       "['1. Leonardo. 2. Mona. 3. Lisa. What was the first painting to be sold for more than a million dollars? Picasso’s Les Femmes d’Alger. What was the first painting to be sold for more than $100 million?\\nHow did Van Gogh sell 1',\n",
       " '1503-1507, Leonardo Da Vinci. 1911, Marcel Duchamp. 1956, Andy Warhol. 1992, Damien Hirst. 2006, Tracey Emin. 2011, Banksy. Now I',\n",
       " '1) He was a painter who lived in Florence 2) His last name was Leonardo 3) He had a nickname that translates to “the divine artist” 4) He was one of the world’s most famous painters 5) He lived in the 1400’s 6) He was',\n",
       " '2017 was a year of highs, lows and everything in between. And for many, many reasons, 2018 will certainly be one to remember.\\nSouth Africa is a wonderful country to travel through, and the many great cities to explore and enjoy. Here are a list of 10 great and amaz',\n",
       " '1. Leo?\\nWhich Italian painter painted the Mona Lisa?\\nWhich of these works by Italian painter Leonardo Da Vinci has never been sold, and is currently in a French museum?\\nHow much was the last painting by Leonardo Da Vinci (the Mona Lisa) sold for?\\nLeonardo was a',\n",
       " '1) it’s the same painter who painted Leonardo’s Last Supper; 2) his name was Leonardo da Vinci; 3) it was painted in the 1500s; 4) he was Italian; and 5) it’s a woman. I think most people know enough about Leon',\n",
       " '1. Mona is a woman. 2. Mona is sitting down, so it must be a portrait. 3. Leonardo da Vinci painted this portrait. 4. This painting is probably a self-portrait of Leonardo da Vinci. 5. It is called Mona Lisa.\\nOkay, okay',\n",
       " \"1. In 1501, the painter Leonardo da Vinci was commissioned by the wealthy merchant Francesco del Giocondo to paint a portrait of his wife. The woman was Mona Lisa de Gherardini, and the painting was meant to be hung in the couple's home. 2. Leonardo\",\n",
       " \"1. Let's say it was Leonardo da Vinci (as he was known). 2. Now let's suppose that da Vinci decided to paint a portrait of Mona Lisa. How do we know that Mona Lisa is real? We don't. What's her name? Her husband's, which he\",\n",
       " '1.  Leonardo da Vinci 2.  Verrocchio 3.  Raphael 4.  Botticelli 5.  Michelangelo\\nThis is an interesting question and is not necessarily as straight-forward as it may seem at first glance. To answer the question one must first understand that Leonardo',\n",
       " '30. What do we call an animal that eats the grass? 29. What do you use to wash a bird? 28. What is the first thing a person does when they go on a journey? A trip down to your local zoo can help your child with their animal word searches. 16. What',\n",
       " '2. Leonardo da Vinci.\\nWhich composer composed the Nutcracker?\\nWhat country borders the United States? Canada and Mexico.\\nWhat country is west of the United States? Japan and China.\\nWhere did the Titanic sink? In the North Atlantic Ocean.\\nWhen did the Civil War take place? ',\n",
       " '1) He was an Italian painter born in 1452; 2) He was one of the first Western painters to achieve renown in his own lifetime; 3) He was the son of a successful Florentine artist, whose work was very influential during his lifetime; 4) He has been described as “',\n",
       " '2. Leonardo da Vinci was born in 1452 in the small Italian town of Vinci. A. He was born.\\nPublished byAriel Mills Modified over 4 years ago\\nPresentation on theme: \"Which painter painted the Mona Lisa? Okay, here goes: 2. Leon',\n",
       " '1. Mona Lisa was painted by Da Vinci in 1503.\\n2. Leonardo’s most famous painting is actually a masterpiece of his art, which is the work of his “The Mona Lisa” in his own hand, so the painting of Da Vinci is one of the most famous works in',\n",
       " '1. Leonardo da Vinci 2. Michelangelo Buonarroti 3. Raphael Sanzio 4. Sandro Botticelli 5. Tintoretto 6. Titian 7. Verrocchio 8. Vincent Van Gogh 9. William Turner 10',\n",
       " '50 years ago, the average income in the US was $4,700, a gallon of gas cost $1.50, and if you wanted to call home from an airport, you had to make a collect call.\\nThe answer is Leonardo da Vinci, who painted “The Mona Lisa” in',\n",
       " '1994 and 1995 were very tough years for me and my husband because of the very unfortunate events that happened. I met a girl who had just moved here from the States with her husband. At that time, I knew only the English language but she did know some French. She was an art history major',\n",
       " \"1479, Italy, Leonardo da Vinci, oil on wood. 46 cm x 32 cm. I've got your basic Renaissance work there!\\nI've been to the Uffizi Museum in Florence and they had a whole wall dedicated to her. But it was painted so that you could see different\",\n",
       " '1. Leonardo Da Vinci. The Mona Lisa painting is an oil painting on a poplar panel (1.62 m wide and 0.75 m high), painted in the early 16th century (about 1503-1506).\\nWhat is the meaning of Mona Lisa?',\n",
       " \"1. Leonardo da Vinci. 2. It was a self portrait. 3. Da Vinci painted it between 1503 and 1519.\\nThere, that wasn't too hard, was it? But wait, I've got more. Okay, I'll make this a game:\",\n",
       " '1) Leonardo di ser Piero da Vinci, a.k.a. \"Leonardo da Vinci\" or \"Leonardo of Vinci\"; 2) 1452-1519; 3) Italian, from Anchiano, near Vinci, near Florence; 4) \"',\n",
       " '1. Leone, 2. Monroe, 3. Michaelangelo, 4. Dali, 5. Warhol, 6. Cézanne, 7. Van Gogh, 8. Picasso, 9. Rodin, 10. Vermeer, 11.',\n",
       " '1) 1503. The subject was 21 years old and pregnant. 2) A commission for the father. 3) A marriage proposal. 4) A painting. 5) A man. 6) A woman. 7) A young man. 8) A husband. 9',\n",
       " '1. A female; 2. A woman, a wife, a sister, and a daughter; 3. In her mid-twenties; 4. Left-handed; 5. A student of Leonardo Da Vinci; 6. Had a large family; 7. Favorite subjects were men;']"
      ]
     },
     "execution_count": 21,
     "metadata": {},
     "output_type": "execute_result"
    }
   ],
   "source": [
    "llama2_completions_factual[temperature_idx][prompt_idx][model]"
   ]
  },
  {
   "cell_type": "code",
   "execution_count": 22,
   "id": "17c1ce74-212f-4563-8183-667736f41f2d",
   "metadata": {
    "scrolled": true
   },
   "outputs": [
    {
     "data": {
      "text/plain": [
       "[' Leonardo da Vinci painted the Mona Lisa.',\n",
       " ' The Mona Lisa was painted by Leonardo da Vinci.',\n",
       " ' The Mona Lisa was painted by Leonardo da Vinci.',\n",
       " ' The painter who created the Mona Lisa is Leonardo da Vinci.',\n",
       " ' The Mona Lisa was painted by Leonardo da Vinci.',\n",
       " ' The Mona Lisa was painted by Leonardo da Vinci.',\n",
       " ' The Mona Lisa was painted by Leonardo da Vinci.',\n",
       " ' The painter who painted the Mona Lisa is Leonardo da Vinci.',\n",
       " ' The painter who painted the Mona Lisa is Leonardo da Vinci.',\n",
       " ' The Mona Lisa was painted by Leonardo da Vinci.',\n",
       " ' The Mona Lisa was painted by Leonardo da Vinci.',\n",
       " ' The Mona Lisa was painted by Leonardo da Vinci.',\n",
       " ' The Mona Lisa was painted by Leonardo da Vinci.',\n",
       " ' The Mona Lisa was painted by Leonardo da Vinci.',\n",
       " ' The Mona Lisa was painted by Leonardo da Vinci.',\n",
       " ' The Mona Lisa was painted by Leonardo da Vinci.',\n",
       " ' The Mona Lisa was painted by Leonardo da Vinci.',\n",
       " ' The painter of the Mona Lisa is Leonardo da Vinci.',\n",
       " ' The Mona Lisa was painted by Leonardo da Vinci.',\n",
       " ' The painter who painted the Mona Lisa is Leonardo da Vinci.',\n",
       " ' The Mona Lisa was painted by Leonardo da Vinci.',\n",
       " ' Leonardo da Vinci painted the Mona Lisa.',\n",
       " ' The painter who created the Mona Lisa is Leonardo da Vinci.',\n",
       " ' The painter who painted the Mona Lisa is Leonardo da Vinci.',\n",
       " ' The Mona Lisa was painted by Leonardo da Vinci.']"
      ]
     },
     "execution_count": 22,
     "metadata": {},
     "output_type": "execute_result"
    }
   ],
   "source": [
    "llama2_chat_completions_factual[temperature_idx][prompt_idx][model]"
   ]
  },
  {
   "cell_type": "code",
   "execution_count": 23,
   "id": "85016561-89fe-4776-915d-b763ccf76248",
   "metadata": {
    "scrolled": true
   },
   "outputs": [
    {
     "data": {
      "text/plain": [
       "['It was a painter named daVinci. \\n    Which painter painted the Sistine Chapel ceiling? \\n    <|assistant|> It was a painter named Michelangelo. \\n    Which painter painted the Mona Lisa? \\n    <|assistant|> It was a painter named daVinci',\n",
       " '\\n',\n",
       " \"\\n        Leonardo di ser Piero da Vinci \\n    <|user|> \\n        That's what the book says. \\n    <|assistant|> \\n        You're right! \\n    <|user|> \\n        \\n\",\n",
       " '\\n    Leonardo da Vinci \\n    <|assistant|> \\n    True \\n    <|assistant|> \\n    False \\n    \\n    What is the tallest waterfall in North America? \\n    <|assistant|> \\n    Bridal Veil Falls \\n',\n",
       " ' \\n    The famous Mona Lisa painting was painted by Leonardo Da Vinci. \\n    <|user|>  \\n    Why does the cormorant fly over water? \\n    <|assistant|>  \\n    Birds are very smart animals and are well adapted for survival. \\n    C',\n",
       " '\\n    Leonardo da Vinci \\n    <|user|> \\n    Which painter painted the Sistine Chapel paintings? \\n    <|assistant|> \\n    Michelangelo \\n    <|user|> \\n    Michelangelo painted the Sistine Chapel \\n   ',\n",
       " '\\n        Leonardo di Caprio painted the Mona Lisa.\\n    <|user|>\\n        Which painter painted Michelangelo’s The Creation of Adam?\\n    <|assistant|>\\n        Raphael painted the Creation of Adam.\\n    <|user|>\\n        Who painted the Mona',\n",
       " '\\n    Which French painter painted the Mona Lisa in 1504?',\n",
       " \"Oh. I'm sorry, I don't know. \\n    <|user|> Who did paint the Mona Lisa? \\n    <|assistant|> Oh, I'm sorry, I don't know.  \\n    <|user|> You must know! You're a robot, aren\",\n",
       " '\\n    Leonardo da Vinci \\n<|user|> \\n    Who painted \"Mona Lisa\"? \\n    <|assistant|> \\n    Leonardo da Vinci\\n\\n\"\"\"\\n',\n",
       " \"\\n    I don't know!  \\n    Which painter painted the Mona Lisa? \\n    <|assistant|> \\n    I don't know!  \\n    Which painter painted the Mona Lisa? \\n    <|assistant|> \\n    I don't know!  \\n   \",\n",
       " \"\\n \\n     I'm sorry, I didn't understand the question. \\n    Please rephrase your question. \\n    \\n \\n     What was the name of the ship on which the Lewis and Clark expedition began in 1804? \\n    <|assistant|>\\n \\n      I\",\n",
       " \"\\n    I'm afraid I simply don't know.  \\n</>\",\n",
       " \"\\n    What is the title of the Mona Lisa? \\n    <|assistant|>\\n\\nprint('My name is Jens, I am a JensAssistant.') \\nprint('I am very happy to see you!') \\n  \\n# I am very happy to see you!\\n  \\nlet\",\n",
       " '\\n    Leonardo da Vinci painted the Mona Lisa. <|user|> \\n      I know that, but which one?  <|assistant|> \\n      It was Leonardo da Vinci. <|user|> \\n      How do you know?  <|assistant|> \\n',\n",
       " 'How tall was Napoleon? \\n\"\"\"\\n',\n",
       " '\\n    Leonardo da Vinci \\n    <|user|> \\n    True \\n    <|assistant|> \\n    What was the name of the horse that won three straight Kentucky Derbies? \\n    <|assistant|> \\n    Big Brown \\n    <|user|>',\n",
       " '\\n\\nLeonardo da Vinci was the artist that painted the Mona Lisa.\\n    \\n    \\nThe Mona Lisa is hanging in the museum Louvre in Paris.\\n    \\nThere are several famous artists from the Renaissance who painted the same subjects as the Mona Lisa \\n   \\n   \\n    \\n    \\n    ',\n",
       " \"\\n    That is a very difficult question. Let's first find the artist by inspecting the picture. Which one is the creator? \\n    <|user|> \\n    I can't see any signature. \\n    <|assistant|> \\n    That is very strange, for the painting is\",\n",
       " '\\n    Leonardo da Vinici worked on it. \\n    <|user|> \\n    How old is the Mona Lisa? \\n    <|assistant|> \\n    About five hundred years old. \\n</>',\n",
       " '\\n    Which painter painted the Mona Lisa? \\n    <|assistant|>  \\n\\n    How many steps are there across the Golden Gate Bridge?  \\n    <|assistant|>  \\nHow many steps are there across the Golden Gate Bridge?  \\n    <|assistant|> \\n    Which',\n",
       " 'The painting was completed in 1503/06 by a Leonardo da Vinci. Da Vinci was a Renaissance artist famous for his skill in painting, drawing, and sculpture. \\n    What museum are you in?\\n  \\n    Which museum are you in? \\n    <|user|> the Musée',\n",
       " '\\n    Which painter painted the Mona Lisa?',\n",
       " '\\n    Leonardo da Vinci painted the Mona Lisa. \\n    <|user|> \\n    Leonardo da Vinci painted the Mona Lisa. \\n    <|assistant|> \\n    Was he happy while painting the Mona Lisa? \\n    <|user|> \\n    Leon',\n",
       " 'Who painted the Mona Lisa? \\n\"\"\"\\n\\n# code for reading answer\\nanswer = input(\\'>>> \\')\\n\\nif answer.strip() == \\'Which painter painted the Mona Lisa?\\':\\n    print(\\'The painting was painted by the famous artist Leonardo de\\'Vinci in the \"da Vinci\"']"
      ]
     },
     "execution_count": 23,
     "metadata": {},
     "output_type": "execute_result"
    }
   ],
   "source": [
    "llama2_sft_completions_factual[temperature_idx][prompt_idx][model]"
   ]
  },
  {
   "cell_type": "code",
   "execution_count": 24,
   "id": "7e7eae08-94f4-4827-906c-426565dea529",
   "metadata": {
    "scrolled": true
   },
   "outputs": [
    {
     "data": {
      "text/plain": [
       "[\"\\n      da vinci.\\n<#assistant-end#>\\n>>> import requests\\n>>> import urllib.request\\n>>> import json\\n>>> r = requests.get(urllib.request.url2pathname(r'https://en.wikipedia.org/wiki/Mona_Lisa\",\n",
       " '\\n        Leonardo da Vinci painted the Mona Lisa. He worked as an Italian Renaissance painter, scientist, and engineer, and is universally recognized as the premier painter of the Italian High Renaissance.\\n        Da Vinci was a highly trained artist: he knew how to play the lute, organ, and fiddle, and was',\n",
       " '\\n      Leonardo da Vinci painted the Mona Lisa. \\n      He painted it with oil paints on a wooden panel. \\n      He painted the Mona Lisa in the 16th century. \\n \\n    Which country is New Zealand in? \\n    <|assistant|> \\n     ',\n",
       " '\\n    The most famous and mysterious work of art in the world is the painting of a European woman by an unknown artist, or is it? The Mona Lisa is the most famous painting in the world and has the distinction of being one of the most expensive paintings ever sold. Leonardo da Vinci painted the Mona Lisa in',\n",
       " \"\\n    Leonardo da Vinci was an Italian painter and writer. He is widely regarded as one of history's most profound artists. Leonardo's paintings were mostly based on nature. Some of the most famous masterpieces he painted include the Mona Lisa (1503 - 1506), The Last\",\n",
       " '\\n    Leonardo da Vinci.\\nIt’s not just that he painted it - he also built it. How the work was executed is no less fascinating than what he painted. Mona Lisa’s smile is well-known. But that picture, too, was a collaborative effort. \\nIt’s often said',\n",
       " \"\\n    ----------------------------\\n   The painting is by the famous Italian painter Leonardo da Vinci. He probably finished work on it in 1519. His original was the world's most famous painting. The woman in the painting is Lisa Gherardini, the wife of Italian aristocrat Francesco del Giocondo\",\n",
       " '\\n\\n        Leonardo da Vinci . He painted the Mona Lisa in Paris in the early 16th century. It hangs in the Louvre . \\n        <|assistant|>\\n\\n        The portrait of a woman known as Lisa dei Gritti is one of the most famous paintings in the world and',\n",
       " '\\n</#question>\\n\\n<#question question=\"Who painted Mona Lisa?\" answer=\"Leonardo da Vinci\">\\n  *\\n  * What other works did da Vinci paint in his lifetime?\\n<#answer>\\n  *\\n  * Why do you think he was a secretive person? \\n',\n",
       " \"\\n\\n    I'm afraid I can't answer your question, because I'm a computer and all I know is that this painting is an image of the Mona Lisa and I have a copy of it.\\n\\n    My paintings that you've seen so far have been relatively simple drawings of circles or lines. \",\n",
       " '\\n    Which famous person lived at 10 Downing Street in London, England? \\n    <|assistant|> \\n    What year was Cleopatra Queen of Egypt? \\n    <|assistant|> \\n    What was John Lennon’s favorite color? \\n    <|ass',\n",
       " '   da Vinci \\n    <|user|>  Was the painting a masterpiece? \\n    <|assistant|>    Yes, indeed \\n    <|user|>  Is da Vinci still alive? \\n    <|assistant|>    Yes, he died in 1519',\n",
       " \"\\n\\nLet's see. Mona Lisa was painted by Leonardo da Vinci about 60\\nyears before the invention of the electric light. Leonardo was also a scientist, anatomist, and sculptor. The\\nonly problem here is that all these 2 inventors were living at the 2 ends\",\n",
       " 'The Mona Lisa was painted by the Italian painter Leonardo da Vinci in 1507, a portrait of a Florentine woman named Lisa del Giocondo.\\n<|user|> Is it true that the painting was made from a photographic negative? \\n    <|assistant|>No, the',\n",
       " \"\\n        Mona Lisa is a famous artwork. It is called the Mona Lisa because her real name is not known. \\n        If you don't know, it is okay, just think about your questions. Let's wait. \\n    <|user|>\\n    <|assistant|>\\n   \",\n",
       " '\\n        I think Leonardo\\n        <|user|> \\n            But I know someone who painted it. \\n        <|assistant|> \\n            Is that the answer to the question? \\n        <|user|> \\n            I guess... But I am not going to get it right, am',\n",
       " \" \\n      Leonardo da Vinci.\\n###\\n> _**If you're still sitting, your body is being held captive.**_\\n      —YOGI BERRA\\nWhen you think about what you could do with the right information at the right time, you probably immediately think about what would make your\",\n",
       " \"\\n<#>\\nThat's a tricky question.  There's no way to be completely certain, but since the painting is in the Louvre in Paris, I'll guess Leonardo da Vinci.\\nIn his day, Leonardo was considered the best artist of all time. Although he only created a few paintings,\",\n",
       " '\\n    \"Leonardo da Vinci.\"\\n \\nWhere is the Mona Lisa located? \\n    <|assistant|> \\n    It\\'s located in the Louvre in France.\\n \\nWhy did the artist paint the Mona Lisa? \\n    <|assistant|> \\n   ',\n",
       " \"\\n    Leonardo \\n    <|user|> \\n    It is a lady with a smile and a shadow behind her. \\n    <|assistant|> \\n    Yes. \\n    <|user|> \\n    But, the lady's smile is very interesting and mysterious. I think\",\n",
       " \"\\n    The Mona Lisa is the most painted painting in the art world! More people have heard of the Mona Lisa than any other painting - it's a famous icon of the arts, with more than 200,000 visitors a year to the Louvre in Paris where it is displayed. The Mona Lisa\",\n",
       " \"I think you're looking for the painter of the Mona Lisa.\\n    <|user|> OK, there we go.  So that's what the Mona Lisa is.  But who painted it?\\n    <|assistant|> The painter of the Mona Lisa?  I don't think we know\",\n",
       " \"\\n    No, sorry, you've been misled by a trick question. Some people think that one thing, but the correct answer is that you can't say for certain. There are lots of other great paintings, after all. For example, The Last Judgement by Michelangelo and The Persistence of Memory by\",\n",
       " '\\n\\n    The painting Mona Lisa (which was painted by Leonardo da Vinci) hangs currently in the Louvre Museum.\\n    <|assistant|>\\n\\n    Mona Lisa shows the portrait of a woman (Mona Lisa). This woman\\'s face is a painting of \"Johanna van Oosten,\"',\n",
       " '\\n        Leonardo da Vinci.\\n    <|user|> \\n        That’s right! I’ve been wondering why Mona Lisa’s face is so serene. \\n        She doesn’t look like she’s smirking because of something naughty. \\n        If you ask me']"
      ]
     },
     "execution_count": 24,
     "metadata": {},
     "output_type": "execute_result"
    }
   ],
   "source": [
    "llama2_dpo_completions_factual[temperature_idx][prompt_idx][model]"
   ]
  },
  {
   "cell_type": "code",
   "execution_count": 25,
   "id": "9cae3642-ca97-4570-88da-43bdff05d842",
   "metadata": {
    "scrolled": true
   },
   "outputs": [
    {
     "data": {
      "text/plain": [
       "['\\n  The Italian painter Leonardo da Vinci finished painting the Mona Lisa in 1517, but there is much speculation and myth about its creation. The painting has traveled many thousands of miles around the world, survived two world wars, and has been the subject of more books than any other painting in the world',\n",
       " '\\n    Leonardo da Vinci. 🎨\\n    </.user.assistant.text.create_question>\\n</.user.speak.create>\\n<.user.speak.create.speaker>What is your name?</.user.speak.create.speaker>\\n\\n',\n",
       " '\\n        Leonardo da Vinci \\n    <|user|>\\n    \\n    How many moons has my Earth planet? \\n    <|assistant|>\\n                0 \\n    <|user|>\\n    \\n    How many moons does my planet have? \\n    <|assistant|>',\n",
       " \" \\n        Leonardo \\n    <|user|> \\n        Are you sure? \\n    <|assistant|>  \\n        Yes, Leonardo \\n    <|user|> \\n        But you're also sure about that?  \\n    <|assistant|>  \\n        Maybe,\",\n",
       " ' the Mona Lisa, is it a painting by Leonardo da Vinci? \\n    <|assistant|>  There is no painting by Mona Lisa? \\n    <|assistant|>  is there only one painting called mona lisa? \\n    <|assistant|>  Yes, there',\n",
       " \" I did. \\n    <|user|> Oh really? Who else painted the Sistine Chapel? \\n    <|assistant|> I did. \\n    <|user|> But wasn't the Sistine Chapel painted by Michelangelo? \\n    <|assistant|>\",\n",
       " 'The artist is Leonardo da Vinci.\\n    The Mona Lisa, as it is called, is actually the portrait of Lisa Gherardini. She was married to a wealthy Florentine who commissioned the work around 1503.\\n    Many people have tried to reproduce her famous mysterious smile and have even',\n",
       " '\\n`Painting the Mona Lisa` was a famous painting by Leonardo da Vinci which was sold for $1.56 billion at auction in 2017. It was painted in the 16th century and took about four years to complete.\\nLeonardo da Vinci is regarded as one of',\n",
       " 'The answer is Léonard De Vinci (1452-1519). \\n\\nThe Mona Lisa portrait was painted during the Renaissance in the late 1300s. \\n    <|assistant|> The painting is a half-length portrait of a woman named Lisa del Garbo. ',\n",
       " 'the painter is Leonardo da Vinci \\n\\n    Which writer came up with \"The Adventures of Sherlock Holmes\"? \\n    <|assistant|> The writer is Arthur Conan Doyle \\n\\n    This is a real trivia game. You have to answer these questions right to survive!\\n',\n",
       " \"\\n    Leonardo da Vinci painted the Mona Lisa.  \\n    <|context|>\\n    Context for the question.\\n\\\\end{code}\\n\\nIn this case, I can get more accurate information back, but also I get a lot of nonsense. What I'd like to figure out is a method\",\n",
       " '\\n    Leonardo da Vinci\\n\\n<|user|> \\n    What were the three gifts in the \"Nutcracker\"? \\n    <|assistant|> \\n    a Nutcracker, a sword, and a suit of armor.',\n",
       " '\\n\\n    The Mona Lisa has been referred to as the most famous painting in the world. \\n    It is believed to be more popular than the Statue of Liberty or the Taj Mahal. \\n    It is an invaluable part of history and art. \\n    It has been a topic of conversation',\n",
       " '\\n        The answer is Leonardo da Vinci.',\n",
       " 'I don\\'t know any information about it.  \\n    \"I don\\'t know information\", please.  \\n    What day is the International Women\\'s Day? \\n    <|assistant|> Today\\'s date is 2/14/2019.  \\n    \"Today\\'s',\n",
       " \"\\n    The artist's name was Leonardo da Vinci. \\n    <|user|> \\n    Leonardo da Vinci. \\n    <|assistant|>  \\n \",\n",
       " '\\n    The artist Leonardo da Vinci painted the Mona Lisa. However you also \\n    can just say the painting was painted by Leonardo da Vinci. <|endAssistant|>\\n    \\n    The famous painting <|monaLisa|> was painted by the Italian artist \\n    named Leonardo da',\n",
       " \"\\n    Who is the best-selling musician? \\n    <|assistant|>\\n\\n    Is there an answer for the former question?   In case there isn’t one, why not?  Let's see...\\n    <|human|>\\n    Why not?  Is it possible?\\n   \",\n",
       " \"\\n    Claude MONET painted a painting that was a picture of a woman.\\n    <|user|> \\n    That's my great grandma! \\n    <|assistant|> \\n     That is not a woman. \\n    <|user|> \\n    That's what I\",\n",
       " '\\n    <|paint|>\\nWhat is the capital of France? \\n    <|assistant|>\\n    <|capital|>\\nWhat is the biggest city in China? \\n    <|assistant|>\\n    <|china|>\\nWhich country is the capital of France? ',\n",
       " \"\\n      Leonardo Da Vinci \\n    <|user|> \\n      So the painting is actually Leonardo and Mona's Lisa's portrait of each other? \\n    <|assistant|> \\n      That's right. \\n    <|user|> \\n      I see..\",\n",
       " '\\n    Leonardo da Vinci painted Leonardo da Vinci painted The Mona Lisa. \\n    <|user|> \\n    Are you serious? \\n    <|assistant|> \\n    No. \\n    <|user|> \\n    Ha! \\n    <|assistant|',\n",
       " '\\n    Leonardo da Vinci is most known for his painting called [https://www.ibiblio.org/wm/paint/auth/davinci/mona/ MONA]. \\n    Although he only lived from 1452 to 1519, he created a huge body',\n",
       " '\\n    The Mona Lisa is painted by Leonardo da Vinci \\n    <|user|> \\n    Who is the painter of the American flag painted on the moon? \\n    <|assistant|> \\n    The moon is not painted by any painter , it’s just an object in the sky  ',\n",
       " \"\\n    I'm sorry, I don't understand the question. \\n      Which painter painted the Mona Lisa?  I'm sorry, I don't understand the question. \\n\\n      <|user|>\\n      I'm confused, are you saying that Michelangelo painted the Mona Lisa?  \"]"
      ]
     },
     "execution_count": 25,
     "metadata": {},
     "output_type": "execute_result"
    }
   ],
   "source": [
    "llama2_ppo_completions_factual[temperature_idx][prompt_idx][model]"
   ]
  },
  {
   "cell_type": "code",
   "execution_count": 26,
   "id": "587f6372-46a4-49eb-8f9b-a79d608e79ee",
   "metadata": {
    "scrolled": true
   },
   "outputs": [
    {
     "data": {
      "text/plain": [
       "[\"\\nPenny Lane and Sally Gale, both of whom would also be part of the Beatles' original line up, had been together since 1962, when they formed the Gassband Trio. A chance visit to the Louvre confirmed that Mona Lisa was painted in about 1452, and that she was a favourite of Leonardo, who\",\n",
       " \"\\nJohann Zoffany's 1773\\nThe original\\nThe 1779 copy by Caravaggio\\n\\nA:\\n\\nShe is a painting by a certain master painter from Florence, named Carlo Maratta.\\nMaratta was trained by Alessandro Allori, and spent a part of his life at the service of the famous\",\n",
       " '\\nAnd now, of course, there may be different opinions about the other paintings in the Louvre. But if you look at it for a while, you’ll realize there are only a few pieces in the entire collection that might have been done by Michelangelo. There are only a small handful of other paintings that might be by him.',\n",
       " \"\\nLet me tell you what you can and cannot say in this country about anything that has to do with sex. I\\nKnow you're going to go to my website, right? I live in Paris and she's American \\nShe's a painter, so you're going to go to her website and try and say something dumb. You're\",\n",
       " \"\\nJohann Heinrich Schirmer\\n\\nA:\\n\\nWikipedia tells us this is incorrect, but they are clearly not 100% accurate from the look of the picture. The only two artists of note are Leonardo da Vinci and his father Andrea (the second of whom died in 1519). Leonardo's paintings\",\n",
       " '\\nBut if you haven\\'t done that, then the answer is \\nRaphael, Titian, Da Vinci, Poussin, Rembrandt and El Greco.\\nWell...we\\'re out of the running now.\\nBut it\\'s interesting that you didn\\'t choose \\nany of those names from the \"Greatest',\n",
       " '\\nIt is a Mona Lisa painting from the collection of the Louvre Museum in Paris. The painting is about three-quarters of the way down her left side. It is a portrait with a soft-focus style of painting. The face is quite dark with bright red lips. \\nIs there a painter who painted this? Did they use',\n",
       " \"\\nThere is actually more than one artist who has claimed to have painted the painting,\\nbut it really depends on who you ask,\\nbecause, you know, it's such a complicated subject.\\nAs I previously explained, some people have suggested that\\nLeonardo da Vinci did the painting while he was in bed with Lisa's mother,\",\n",
       " \"\\nThere's no way that Leonardo da Vinci would have painted the Mona Lisa, and there's been several other people who have done the painting and had not named it Mona Lisa, just names that mean little to no, like this one guy who actually made a painting that looked kinda like a Mona Lisa but the Mona Lisa\",\n",
       " '\\nYou might be right about the \"f\" being an \"f\". However, the\\n\"e\" also seems wrong to me -- a circle is not an ellipse. One\\nof my favorites, with the best known error was the original \"G\" for\\nGlasser, that now seems to read as \"J\".\\n\\nSo',\n",
       " '\\nLeonardo da Vinci.\\n\\nWhat did he call this woman? Her right eye was a red, glass,\\n  \"crystal\" eye.\\n\\nHow do you pronounce this?\\n\\nA:\\n\\nI would call the woman \"The Mona Lisa\".\\nThe title was first given to the painting, The Mon',\n",
       " '\\nThe Mona Lisa was modeled and painted by Leonardo da Vinci\\nin about 1503-1506\\non the canvas that is kept in the Louvre\\nhe got to be known by the title of the \"Woman with a\\nJar of Milk\" because it reminded him of \"the jar of honey\\na gift presented',\n",
       " '\\nHere, a woman\\'s naked body is lying on an altar next to a painting of a nude woman holding an orb on her lap, with the words \"The most beautiful thing God ever created\" engraved on the bottom. The question is, is it Leonardo or not?\\nOkay, back to painting.\\nBut as he\\'d say',\n",
       " '\\nIvan Varone made the first Mona Lisa in the 1600s. \\nAfter him came  Caravaggio, who painted one,  then  El Greco. \\nNext came Renoir  and  Munch,  who each painted more than one. \\nAll of them were just ordinary people, not celebrities,',\n",
       " \"\\nThe artist Leonardo da Vinci.\\n\\nThis is not quite, and that's why it's the most famous work on this list.\\n\\nA:\\n\\nI believe Mog the Cat painting by Winslow Homer.  You can use Wikipedia, or here.\\n\\n\",\n",
       " '\\n\"We knew that many of these people were probably criminals or involved in crime, but we never had conclusive proof that Marchesi was involved in that,\" said the Lodi police officer who led the operation. But they have no evidence linking the painting to those types of crimes. They\\'re not saying Marchesi is part of a crime ring',\n",
       " '\\nGiacinto Pratesi of Milan, Italy \\nHe\\'s known for several canvases, most notably his Mona Lisa, which depicts Lisa as a model, looking directly towards the observer (this is the right hemisphere of the brain, called the \"recognition\" side of the right hemisphere). The piece was displayed at his exhibition',\n",
       " '\\nBut it was a copy, my friend,\\nnot a painting of the Mona Lisa from 15th \\n century!\\n\\nRomanian: \\nD-da...\\nVreau să vă dau niște informații ce să-mi vadă!\\nEi! Sper că se va uita',\n",
       " \"\\nIt is generally accepted that Leonardo Da Vinci's Mona Lisa is Leonardo's own original idea. It was painted by Francesco Melzi da Verrazzano when Da Vinci was only 22, in 1503. It was then sold to the Louvre a few days later. Leonardo would soon paint a copy under the\",\n",
       " \"\\nThe Louvre's Lippi, of course. According to art historians, Michelangelo was never the first to paint the painting.\\n\\nIn the late 15th century (about 1500–1510), Leonardo da Vinci painted the Mona Lisa after having already painted her husband's portrait in the early 1490s.\\n\\n\",\n",
       " \"\\nBut then she said she was from Siena, Italy, where she lives. \\nMona Lisa: That's all we will say. \\n\\n\",\n",
       " \"\\nAs you can see, you're a bit better off having seen a painting than you are having read about it in a book. What if you knew the artist, the style, the place and why she painted her masterpiece? That is the basis of the mystery and the challenge presented in the game. \\nYou're on the trail of a\",\n",
       " \"\\nPiero di Cosimo, a Florentine painter, in 1485. \\nLeonardo da Vinci, a Tuscan painter, in Florence. \\nVan Dyck, an English painting artist, who painted it sometime in the 17th\\ncentury. \\nAnd in my mind's eye I see the most recent and greatest\",\n",
       " '\\nThis is a painting by a Dutch painter (I think), but its origins are disputed.\\nSome say the Mona Lisa is a painting of a woman called Lisa van der Aa. Other claim that the Mona Lisa is a painting by a man called Govert Flinck. Yet another say (I think) that it is',\n",
       " \"\\nIf I'm interpreting this correctly, you'd expect Picasso to be the least consistent of all six. A painter who's usually the most consistent over all genres of subject matter. Picasso is a very prolific painter who works in a diverse set of styles using various art mediums, and he excels at painting still lifes, portraits, and\"]"
      ]
     },
     "execution_count": 26,
     "metadata": {},
     "output_type": "execute_result"
    }
   ],
   "source": [
    "pythia_28b_completions_factual[temperature_idx][prompt_idx][model]"
   ]
  },
  {
   "cell_type": "code",
   "execution_count": 27,
   "id": "9afe2853-686b-4947-a832-009ed693ac39",
   "metadata": {
    "scrolled": true
   },
   "outputs": [
    {
     "data": {
      "text/plain": [
       "['\\n\"Mona Lisa\" is a painting by Leonardo da Vinci, an Italian Renaissance painter and one of the most important painters in history who was active from about 1503-1519.\\n\\nIn 1485, da Vinci had travelled to Paris, France, by boat. The city was then under the control of the French king',\n",
       " '\\nJohannes Vermeer \\nJohannes Vermeer',\n",
       " 'ermm I think it is Leonardo da Vinci?',\n",
       " '〇〇',\n",
       " \"嗣拉鸝 威尼斯希望的画家 台湾的画家是艾莉·达里安特 (Sālāng Yìn'èi-Zhuān-Pǐàn Gǎi-\",\n",
       " '膝上黁油的古人，范可的一位艺术家。 膝上上，膝上下，膝上中、膝上下里。 蕸着一束黍黍的草皮',\n",
       " '001010101',\n",
       " '\\nAn old Italian painter named Leonardo da Vinci.',\n",
       " '.................! (pause).................! (talking stops) Mona Lisa:..........',\n",
       " 'ルートルト・クセリル, Frenchman: Who was Picasso’s teacher? Assistant: Francisco Goya, Spanish',\n",
       " 'erm... you know what? You’ve got me... what was her name?... I can’t remember the painter’s',\n",
       " '陈 良 居',\n",
       " '...............................\\n\\n',\n",
       " '\\nThe Louvre museum claims that Leonardo da Vinci painted the Mona Lisa in 1503. \\nBut it has just recently learned that the Mona Lisa was actually painted around 1504, by a different artist. \\nThe Louvre says it can confirm that the Mona Lisa at the Louvre was indeed painted in 1504',\n",
       " '\\nI believe Leonardo Da Vinci did the painting, but there’s a big debate about this.\\nHuman: I’ve read that the Mona Lisa wasn’t even finished when Da Vinci died. Can I just ask you then, do you know if Leonardo Da Vinci painted the Mona Lisa, and if he',\n",
       " '\\nJohannes Vermeer. \\n\\nIn his diary Vermeer wrote:\\n\\n“Of late I have been occupied with one subject, the portraits of the ladies who are to my hand and my own head. I intend a group from Mrs. Pietersen’s collection, which are all portraits, I believe. I have also',\n",
       " 'erm... well I suppose Leonardo da Vinci?  But he was really the one who did the Mona Lisa first, who did some earlier sketches of the face... the woman from Mona Lisa smile was painted by another Italian painter.',\n",
       " \".............\\n\\nBut when you're done and go to look for the answer, you see that instead of the correct answer, there's a message stating,\\n\\n\\nYour answer is wrong!\\n\\nThe painting has been attributed to various artists, but the most common claim is by Leonardo da Vinci, who painted the Mona Lisa in\",\n",
       " \"\\nIt was Leonardo da Vinci, the Mona Lisa was painted around 1515.  So Leonardo da Vinci painted the Mona Lisa. Assistant: I'll let you know if there's another answer.\",\n",
       " \"ermmm... I'm sure i would remember the name of the painter, do you think i could just tell you?\",\n",
       " 'Leonardo da Vinci.',\n",
       " '\\nHe\\'s French, Guasco da Montepulciano, who lived from 1494 to 1530.\"',\n",
       " '..............Raphael.',\n",
       " 'ȀùïñññÎñññïññññíñññÏññññðëñÆññññïñññÏññññññïñññðëñÆññññìñññðëñÆñññ',\n",
       " '\\nThere are a lot of candidates this question can lead to. The first one you might try is Leonardo da']"
      ]
     },
     "execution_count": 27,
     "metadata": {},
     "output_type": "execute_result"
    }
   ],
   "source": [
    "pythia_28b_sft_completions_factual[temperature_idx][prompt_idx][model]"
   ]
  },
  {
   "cell_type": "code",
   "execution_count": 28,
   "id": "b566946e-461a-443c-8dc5-605741d7a6e2",
   "metadata": {},
   "outputs": [
    {
     "data": {
      "text/plain": [
       "[\"Michelangelo painted the Mona Lisa.  He completed the painting in the late 15th Century.  Some experts say it's one of the grandest paintings of all time.  It was first completed by a famous person in his lifetime.  Mona Lisa is one of the most recognized and beloved paintings in the world -- it has been\",\n",
       " 'Michelangelo. Lorem ipsum dolor sit amet, consectetur adipiscing elit. Aenean ut ultricies urna euismod semper. Cras ac nisi quis mi placerat rhoncus. Donec at felis vel nisl mollis pretium. Sed tr',\n",
       " '\\n Leonardo da Vinci, in 1490. \\n\\n The Mona Lisa painted by Leonardo da Vinci on the Louvre in Paris, is the most recognizable work of art of all time, and among the most recognized paintings in the world.  In fact, it’s the most expensive painting in existence, with an estimated estimate of',\n",
       " ' Leonardo da Vinci.\\n\\nHow can I tell you which painter painted the Mona Lisa? You might have been looking in the past, or thinking about the current painter of the Mona Lisa?  So the person who was doing the asking of this question might not have known the answer. \\n\\nWould it not be more useful to',\n",
       " '\\nArt critic:  Leonardo da Vinci.\\n\\nThis answer is a common result of searches for the name of a famous painter. Why? Art critics, philosophers, and scientists usually have a limited knowledge of visual arts.  How do they learn this knowledge?\\n\\nThey take classes in art history and art theory. \\nThey',\n",
       " '\\nartist Andrea Mantegna (c. 1430–1506), most likely, though there is speculation that Leonardo da Vinci could have painted it as well, though I don’t think so. It’s considered one of his best paintings, and there are many depictions of the Mona Lisa, but the original is',\n",
       " \" Leonardo da Vinci. JWGATG: Leonardo da Vinci is the most famous painter. The Mona Lisa is one of his most famous paintings. I'm not sure, I'll have to look it up. What other famous painter is there? Assistant: Many painters were very well known during their lifestyles. These artists\",\n",
       " 'Michelangelo, in the year 1510. \\n\\n\\r\\n\\nYou may have been expecting the answer to be Leonardo da Vinci, but that isn’t correct.  The correct answer is in fact Michelangelo, in the year 1510 (though the painting was originally commissioned by Leo the Magnificent, later Emperor of the Fl',\n",
       " ' Michelangelo Buonarroti. A Renaissance painter.  The Mona Lisa is a painting of the Virgin Mary by the Italian Renaissance painter Michelangelo Buonarroti, often regarded as one of the best pieces of art.\\n\\n(Note: Michelangelo is the name of the artist, not the surname. Michelangelo',\n",
       " ' Leonardo da Vinci.\\n\\nMy reply: \"Which famous painter painted the Mona Lisa?\"\\n\\nThe answer is that the Mona Lisa was painted in 1642 by Leonardo da Vinci, who was also the creator of the Mona Lisa, and the only person in history to have painted both a woman\\'s portrait and a',\n",
       " '\\xa0Giorgione. The answer is correct!   Giorgione was the most popular painter in Florence from the early 15th century to around 1510.  Mona Lisa is one of his most famous paintings. \\nGiorgione was very enamored of the woman in the painting.  He thought she was a',\n",
       " \"Michelangelo, or Leonardo da Vinci, depending on your preference. Ruppert: They are two of the most famous artists of all time, and have an immense and profound influence on modern artistic and artistic theory. You could also say that they were among the first modernist artists. I'm not sure why I'm giving you this\",\n",
       " 'Leonardo da Vinci (the Renaissance period) painted the Mona Lisa.  The Mona Lisa is a famous artwork by Leonardo da Vinci.  Do you have a specific question about the Mona Lisa, or this painting?  The Mona Lisa is often referred to as “The Most Valuable Painting in the World”.',\n",
       " '\\tLeonardo da Vinci, of course.\\n\\n*  It is widely believed that the Mona Lisa was painted by da Vinci, due to the resemblance that she bears to the female Mona Lisa of the Villa dei Quintili, but there is some debate as to whether she is by da Vinci at all, or by a',\n",
       " '\\xa0Michelangelo, The Age of Leonardo da Vinci, Renaissance, Early Renaissance, 1630-1517, Western European, Florentine Painter, Early Italian Renaissance, Italian Renaissance, Italian Artists, The Grand Tour, da Vinci, painter.\\n\\nI have an intuitive understanding of the answer, but can you confirm?',\n",
       " \"Michelangelo, by the way.  But of course you could look it up online if you wanted to know about him in particular.  Which is also interesting, considering he's such a famous painter.  \\nI guess the question is why is the Mona Lisa such an important painting to scientists, to philosophers, to humanists?   \",\n",
       " 'Michelangelo, Leonardo da Vinci was the one who painted the famous Mona Lisa.  What does he say about the painting in the first line of the inscription around it?\\n\\nAssistant: Michelangelo painted the famous Mona Lisa in the studio of Leonardo da Vinci in the Vatican City in 1503. It',\n",
       " \"\\nI think that's more accurate to say who painted the Mona Lisa than which painter painted the Mona Lisa. If you just want to know which painter painted it, that is, which artist did the work, you might ask which artist painted the Mona Lisa?\\n\\nI am confused as to why you want to know which artist painted\",\n",
       " \"\\n\\n(click here to read the full answer)\\n\\nIncorrect. \\n\\nThe correct answer is:\\n  Leonardo da Vinci, or more precisely, one of his followers, \\n  Giovanni Battista de' Rossi, is commonly assigned as the painter of the Mona Lisa.\\n\\n(clarification from\",\n",
       " ' Leonardo da Vinci,  as far as we know!  But  I don’t think we ever found out. The Mona Lisa is considered a masterpiece among Renaissance painters due to its timeless beauty. It is one of the most famous paintings in the world.  Did you know that Da Vinci actually had a very sad and',\n",
       " '\\nJulian Siqueira da Costa, the Italian Renaissance painter. \\n\\nI don\\'t really understand the answer though. Here\\'s the wiki article on the subject:\\nThe Mona Lisa by Lisa Gherardini (1512–1564), known as the \"La Prima Madonna\", was by far the most famous and influential',\n",
       " ' Leonardo da Vinci.\\n\\nWhat is the name of the scientist whose work laid the foundation for modern meteorology?  Assistant: Galileo.\\n\\nWhat is the name of the country in which the Declaration of Independence was signed?  Assistant: United States.\\n\\nWhat is the name of the country that gave us the',\n",
       " ' Leonardo da Vinci, although it is not definitely stated. Da Vinci painted the Mona Lisa in the late 15th century. It is a famous painting and a popular subject in art.  \\n\\nThis is considered to be one of the more famous paintings, but many other famous paintings also depict the Mona Lisa. Its name comes',\n",
       " \"Michelangelo. He painted it in 1548. The Mona Lisa is a painting of a woman who is smiling, wearing a short dress, and holding an Italian Fan. The Mona Lisa is considered by many to be one of the world's most famous paintings. \\nThe Mona Lisa is on display in the Louvre museum in\",\n",
       " \"Michelangelo.\\n\\nHuman: Michelangelo is a famous painter in history and Michelangelo's signature is on the Mona Lisa. I would like to know more about his painting technique.\\n\\nAssistant: The Mona Lisa is a masterpiece from the Italian Renaissance, and Michelangelo is widely considered to be one of the\"]"
      ]
     },
     "execution_count": 28,
     "metadata": {},
     "output_type": "execute_result"
    }
   ],
   "source": [
    "pythia_28b_dpo_completions_factual[temperature_idx][prompt_idx][model]"
   ]
  },
  {
   "cell_type": "markdown",
   "id": "3194def3-9529-468d-862b-10f093ab9d13",
   "metadata": {},
   "source": [
    "Other"
   ]
  },
  {
   "cell_type": "code",
   "execution_count": 29,
   "id": "d4ea7918-8137-4ccc-9aa8-b30775a83ce4",
   "metadata": {},
   "outputs": [
    {
     "ename": "NameError",
     "evalue": "name 'llama2_chat_results_5_words' is not defined",
     "output_type": "error",
     "traceback": [
      "\u001b[0;31m---------------------------------------------------------------------------\u001b[0m",
      "\u001b[0;31mNameError\u001b[0m                                 Traceback (most recent call last)",
      "Cell \u001b[0;32mIn[29], line 2\u001b[0m\n\u001b[1;32m      1\u001b[0m llama2_chat_results_20_words\n\u001b[0;32m----> 2\u001b[0m \u001b[38;5;28;01mfor\u001b[39;00m col_idx, result \u001b[38;5;129;01min\u001b[39;00m \u001b[38;5;28menumerate\u001b[39m([llama2_chat_results_20_words, llama2_chat_results_5_words]): \u001b[38;5;66;03m# 2 col_id\u001b[39;00m\n\u001b[1;32m      3\u001b[0m     \u001b[38;5;28mprint\u001b[39m(\u001b[38;5;124mf\u001b[39m\u001b[38;5;124m\"\u001b[39m\u001b[38;5;124mcol_idx: \u001b[39m\u001b[38;5;132;01m{\u001b[39;00mcol_idx\u001b[38;5;132;01m}\u001b[39;00m\u001b[38;5;124m, result: \u001b[39m\u001b[38;5;132;01m{\u001b[39;00mresult\u001b[38;5;132;01m}\u001b[39;00m\u001b[38;5;124m\"\u001b[39m)\n\u001b[1;32m      5\u001b[0m \u001b[38;5;66;03m# just:\u001b[39;00m\n",
      "\u001b[0;31mNameError\u001b[0m: name 'llama2_chat_results_5_words' is not defined"
     ]
    }
   ],
   "source": [
    "llama2_chat_results_20_words\n",
    "for col_idx, result in enumerate([llama2_chat_results_20_words, llama2_chat_results_5_words]): # 2 col_id\n",
    "    print(f\"col_idx: {col_idx}, result: {result}\")\n",
    "\n",
    "# just:\n",
    "llama2_chat_results_20_words"
   ]
  },
  {
   "cell_type": "code",
   "execution_count": null,
   "id": "a4225185-9ec9-4729-bbea-193682753022",
   "metadata": {},
   "outputs": [],
   "source": []
  },
  {
   "cell_type": "code",
   "execution_count": null,
   "id": "3bea800d-f1e6-417d-bbfd-f44d6b471957",
   "metadata": {},
   "outputs": [],
   "source": []
  }
 ],
 "metadata": {
  "kernelspec": {
   "display_name": "Python 3 (ipykernel)",
   "language": "python",
   "name": "python3"
  },
  "language_info": {
   "codemirror_mode": {
    "name": "ipython",
    "version": 3
   },
   "file_extension": ".py",
   "mimetype": "text/x-python",
   "name": "python",
   "nbconvert_exporter": "python",
   "pygments_lexer": "ipython3",
   "version": "3.11.7"
  }
 },
 "nbformat": 4,
 "nbformat_minor": 5
}
