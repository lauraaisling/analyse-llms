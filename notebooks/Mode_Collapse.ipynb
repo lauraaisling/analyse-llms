{
 "cells": [
  {
   "cell_type": "markdown",
   "id": "df81feb0-0845-4271-8dfe-c696b594a572",
   "metadata": {},
   "source": [
    "More or less a replication of [Mysteries of mode collapse by Janus](https://www.lesswrong.com/posts/t9svvNPNmFf5Qa3TA/mysteries-of-mode-collapse)\n",
    "\n",
    "Using Pythia models of various sizes. \n",
    "\n",
    "Compares base models with SFT models and DPO finetuned models. \n",
    "\n",
    "TODO: Compare with RLHF models"
   ]
  },
  {
   "attachments": {},
   "cell_type": "markdown",
   "id": "0c1d0ad5-4cae-4256-8b05-41714ddedd56",
   "metadata": {},
   "source": [
    "\n",
    "\n",
    "## Import stuff"
   ]
  },
  {
   "cell_type": "code",
   "execution_count": 2,
   "id": "e23b461c-9310-4f59-93d2-3b3f6230dea2",
   "metadata": {},
   "outputs": [
    {
     "data": {
      "text/plain": [
       "True"
      ]
     },
     "execution_count": 2,
     "metadata": {},
     "output_type": "execute_result"
    }
   ],
   "source": [
    "from transformers import GPTNeoXForCausalLM, AutoTokenizer\n",
    "import torch\n",
    "from sty import bg, fg, Style, RgbBg\n",
    "import numpy as np\n",
    "import matplotlib.pyplot as plt\n",
    "# import os\n",
    "# import lm_dataformat\n",
    "# from tqdm import auto as tqdm_lib\n",
    "torch.cuda.is_available()"
   ]
  },
  {
   "cell_type": "markdown",
   "id": "2d59ccb8-70ae-4eb3-bfd0-20662a5118a2",
   "metadata": {},
   "source": [
    "## Get models"
   ]
  },
  {
   "cell_type": "code",
   "execution_count": 3,
   "id": "425fa529-70fa-4b2c-956a-e5736626fe06",
   "metadata": {},
   "outputs": [],
   "source": [
    "device = torch.device('cuda' if torch.cuda.is_available() else 'cpu')"
   ]
  },
  {
   "cell_type": "code",
   "execution_count": 4,
   "id": "f07e3cc3-548c-464b-8fa1-3980bb69b795",
   "metadata": {
    "scrolled": true
   },
   "outputs": [],
   "source": [
    "# model70m_base = GPTNeoXForCausalLM.from_pretrained(\"EleutherAI/pythia-70m\").to(device)\n",
    "# model70m_sft = GPTNeoXForCausalLM.from_pretrained(\"lomahony/eleuther-pythia70m-hh-sft\").to(device)\n",
    "# model70m_dpo = GPTNeoXForCausalLM.from_pretrained(\"lomahony/eleuther-pythia70m-hh-dpo\").to(device)\n",
    "\n",
    "# tokenizer70m = AutoTokenizer.from_pretrained(\"EleutherAI/pythia-70m\")"
   ]
  },
  {
   "cell_type": "code",
   "execution_count": 3,
   "id": "fbbfa0fd-2fde-4a82-81e7-79efb063edfc",
   "metadata": {
    "scrolled": true
   },
   "outputs": [],
   "source": [
    "# Let's look at slightly bigger models. \n",
    "model410m_base = GPTNeoXForCausalLM.from_pretrained(\"EleutherAI/pythia-410m\").to(device)\n",
    "model410m_sft = GPTNeoXForCausalLM.from_pretrained(\"lomahony/eleuther-pythia410m-hh-sft\").to(device)\n",
    "model410m_dpo = GPTNeoXForCausalLM.from_pretrained(\"lomahony/eleuther-pythia410m-hh-dpo\").to(device)\n",
    "\n",
    "tokenizer410m = AutoTokenizer.from_pretrained(\"EleutherAI/pythia-410m\")"
   ]
  },
  {
   "cell_type": "code",
   "execution_count": null,
   "id": "1ce5b42f-dc84-4bc6-bab0-b757d2145004",
   "metadata": {},
   "outputs": [],
   "source": [
    "# tokenizer70m.pad_token_id:0\n",
    "# tokenizer70m.eos_token_id:0"
   ]
  },
  {
   "cell_type": "markdown",
   "id": "7be7ebb1-7920-4216-b79c-1d81ec1981c0",
   "metadata": {
    "jp-MarkdownHeadingCollapsed": true
   },
   "source": [
    "## Utilities"
   ]
  },
  {
   "cell_type": "code",
   "execution_count": null,
   "id": "776fc09f-c1c7-49af-ae65-f7e1a450e97e",
   "metadata": {},
   "outputs": [],
   "source": [
    "# !pip install sty"
   ]
  },
  {
   "cell_type": "code",
   "execution_count": 4,
   "id": "179322ed-b216-4c02-9d3d-c04b58e317ed",
   "metadata": {},
   "outputs": [],
   "source": [
    "# https://github.com/feluxe/sty\n",
    "def colour_text(token, probability): \n",
    "    if probability >= 0.99:\n",
    "        print(bg.da_green + fg.white + token + fg.rs + bg.rs, end='')\n",
    "         \n",
    "    elif probability >= 0.95:\n",
    "        print(bg.li_green + fg.white + token + fg.rs + bg.rs, end='')\n",
    "         \n",
    "    elif probability >= 0.9:\n",
    "        print(bg.green + token + bg.rs, end='')\n",
    "\n",
    "    elif probability >= 0.8:\n",
    "        # print(bg.yellow + token + bg.rs)\n",
    "        bg.yellow_green = Style(RgbBg(153, 153, 0))\n",
    "        print(bg.yellow_green + token + bg.rs, end='')\n",
    "\n",
    "    elif probability >= 0.5:\n",
    "        # bg.orange = Style(RgbBg(255, 150, 50))\n",
    "        # print(bg.orange + token + bg.rs)\n",
    "        print(bg.yellow + token + bg.rs, end='')\n",
    "\n",
    "    elif probability >= 0.2:\n",
    "        # print(bg.li_yellow + token + bg.rs)\n",
    "        bg.orange = Style(RgbBg(255, 150, 50))\n",
    "        print(bg.orange + token + bg.rs, end='')\n",
    "        \n",
    "    elif probability >= 0.1:\n",
    "        bg.da_orange = Style(RgbBg(255, 120, 0))\n",
    "        print(bg.da_orange + token + bg.rs, end='')\n",
    "        \n",
    "    elif probability >= 0.05:\n",
    "        print(bg.red + fg.white + token + fg.rs + bg.rs, end='')\n",
    "\n",
    "    elif probability >= 0.01:\n",
    "        print(bg.li_red + fg.white + token + fg.rs + bg.rs, end='')\n",
    "        \n",
    "    elif probability < 0.01:\n",
    "        print(bg.da_red + fg.white + token + fg.rs + bg.rs, end='')\n",
    "        "
   ]
  },
  {
   "cell_type": "code",
   "execution_count": 5,
   "id": "3634119a-b157-464c-a363-c26e6a7d207e",
   "metadata": {},
   "outputs": [
    {
     "name": "stdout",
     "output_type": "stream",
     "text": [
      "\u001b[48;5;88m\u001b[97mtest\u001b[39m\u001b[49m\u001b[101m\u001b[97mtest\u001b[39m\u001b[49m\u001b[41m\u001b[97mtest\u001b[39m\u001b[49m\u001b[48;2;255;120;0mtest\u001b[49m\u001b[48;2;255;150;50mtest\u001b[49m\u001b[43mtest\u001b[49m\u001b[48;2;153;153;0mtest\u001b[49m\u001b[42mtest\u001b[49m\u001b[102m\u001b[97mtest\u001b[39m\u001b[49m\u001b[48;5;22m\u001b[97mtest\u001b[39m\u001b[49m"
     ]
    }
   ],
   "source": [
    "probs = [0,0.01, 0.05, 0.1, 0.2, 0.5, 0.8, 0.9, 0.98, 0.99]\n",
    "for i in probs: \n",
    "    colour_text(\"test\",i)"
   ]
  },
  {
   "cell_type": "markdown",
   "id": "9b410d55-9136-45dc-aadd-09a59a01d7dc",
   "metadata": {},
   "source": [
    "## Probability spectrum Illustrations"
   ]
  },
  {
   "cell_type": "code",
   "execution_count": 6,
   "id": "667411e5-06ec-490c-ac94-da766dc4b3d1",
   "metadata": {},
   "outputs": [],
   "source": [
    "def plot_probability_spectrum(model, text, tokenizer, temperature=1.0, print_output_plain=False): \n",
    "    inputs = tokenizer(text, return_tensors=\"pt\").to(device) # , temperature\n",
    "    tokens = model.generate(**inputs, temperature=temperature, max_new_tokens=100, output_scores=True, renormalize_logits=True, return_dict_in_generate=True) # shape input plus generated\n",
    "    out = tokenizer.decode(tokens['sequences'][0]) \n",
    "    if print_output_plain: \n",
    "        print(out)\n",
    "    input_length = inputs.input_ids.shape[1] # shape num tokens generated\n",
    "    generated_tokens = tokens.sequences[:, input_length:]\n",
    "    transition_scores = model.compute_transition_scores(tokens.sequences, tokens.scores, normalize_logits=True)\n",
    "    \n",
    "    for idx, tok in enumerate(tokens['sequences'][:, input_length:][0]): \n",
    "        colour_text(f\"{tokenizer.decode(tok)}\", np.exp(transition_scores[0][idx].cpu()))"
   ]
  },
  {
   "cell_type": "markdown",
   "id": "55456fb5-734f-44ea-a997-eea065afbb3e",
   "metadata": {
    "jp-MarkdownHeadingCollapsed": true
   },
   "source": [
    "### 70m"
   ]
  },
  {
   "cell_type": "code",
   "execution_count": 7,
   "id": "a666f6de-e1ab-4580-823a-6ac85ab4d147",
   "metadata": {},
   "outputs": [],
   "source": [
    "text = \"are bugs real?\""
   ]
  },
  {
   "cell_type": "code",
   "execution_count": 36,
   "id": "9b79fcbf-5f49-4871-be21-6eeff03b56f3",
   "metadata": {
    "scrolled": true
   },
   "outputs": [
    {
     "name": "stderr",
     "output_type": "stream",
     "text": [
      "Setting `pad_token_id` to `eos_token_id`:0 for open-end generation.\n"
     ]
    },
    {
     "name": "stdout",
     "output_type": "stream",
     "text": [
      "\u001b[48;2;255;150;0m\n",
      "\u001b[49m\u001b[43m\n",
      "\u001b[49m\u001b[101m\u001b[97mI\u001b[39m\u001b[49m\u001b[101m\u001b[97m'm\u001b[39m\u001b[49m\u001b[41m not\u001b[49m\u001b[48;2;255;150;0m sure\u001b[49m\u001b[48;2;255;150;0m if\u001b[49m\u001b[41m I\u001b[49m\u001b[48;2;255;150;0m'm\u001b[49m\u001b[101m\u001b[97m wrong\u001b[39m\u001b[49m\u001b[48;2;255;150;0m,\u001b[49m\u001b[43m but\u001b[49m\u001b[48;2;255;150;0m I\u001b[49m\u001b[41m'm\u001b[49m\u001b[41m not\u001b[49m\u001b[48;2;255;150;0m sure\u001b[49m\u001b[48;2;255;150;0m if\u001b[49m\u001b[48;2;255;150;0m I\u001b[49m\u001b[48;2;255;150;0m'm\u001b[49m\u001b[48;2;255;150;0m wrong\u001b[49m\u001b[48;2;255;150;0m.\u001b[49m\u001b[48;2;255;150;0m\n",
      "\u001b[49m\u001b[48;2;153;153;0m\n",
      "\u001b[49m\u001b[48;2;255;150;0mA\u001b[49m\u001b[102m\u001b[97m:\u001b[39m\u001b[49m\u001b[48;5;22m\u001b[97m\n",
      "\u001b[39m\u001b[49m\u001b[48;5;22m\u001b[97m\n",
      "\u001b[39m\u001b[49m\u001b[41mI\u001b[49m\u001b[41m think\u001b[49m\u001b[48;2;255;150;0m you\u001b[49m\u001b[48;2;255;150;0m're\u001b[49m\u001b[41m right\u001b[49m\u001b[48;2;255;150;0m.\u001b[49m\u001b[48;2;255;150;0m  \u001b[49m\u001b[41mI\u001b[49m\u001b[48;2;255;150;0m'm\u001b[49m\u001b[48;2;255;150;0m not\u001b[49m\u001b[48;2;255;150;0m sure\u001b[49m\u001b[43m if\u001b[49m\u001b[48;2;255;150;0m I\u001b[49m\u001b[48;5;22m\u001b[97m'm\u001b[39m\u001b[49m\u001b[102m\u001b[97m wrong\u001b[39m\u001b[49m\u001b[43m.\u001b[49m\u001b[43m\n",
      "\u001b[49m\u001b[43m\n",
      "\u001b[49m\u001b[48;2;255;150;0mA\u001b[49m\u001b[102m\u001b[97m:\u001b[39m\u001b[49m\u001b[102m\u001b[97m\n",
      "\u001b[39m\u001b[49m\u001b[48;5;22m\u001b[97m\n",
      "\u001b[39m\u001b[49m\u001b[41mI\u001b[49m\u001b[48;2;255;150;0m think\u001b[49m\u001b[48;2;255;150;0m you\u001b[49m\u001b[43m're\u001b[49m\u001b[48;2;255;150;0m right\u001b[49m\u001b[43m.\u001b[49m\u001b[43m  \u001b[49m\u001b[48;2;255;150;0mI\u001b[49m\u001b[48;2;153;153;0m'm\u001b[49m\u001b[42m not\u001b[49m\u001b[42m sure\u001b[49m\u001b[48;2;153;153;0m if\u001b[49m\u001b[48;2;153;153;0m I\u001b[49m\u001b[48;5;22m\u001b[97m'm\u001b[39m\u001b[49m\u001b[48;5;22m\u001b[97m wrong\u001b[39m\u001b[49m\u001b[43m.\u001b[49m\u001b[43m\n",
      "\u001b[49m\u001b[48;2;153;153;0m\n",
      "\u001b[49m\u001b[43mA\u001b[49m\u001b[48;5;22m\u001b[97m:\u001b[39m\u001b[49m\u001b[102m\u001b[97m\n",
      "\u001b[39m\u001b[49m\u001b[48;5;22m\u001b[97m\n",
      "\u001b[39m\u001b[49m\u001b[41mI\u001b[49m\u001b[48;2;255;150;0m think\u001b[49m\u001b[48;2;255;150;0m you\u001b[49m\u001b[43m're\u001b[49m\u001b[48;2;255;150;0m right\u001b[49m\u001b[43m.\u001b[49m\u001b[43m  \u001b[49m\u001b[48;2;255;150;0mI\u001b[49m\u001b[48;2;153;153;0m'm\u001b[49m\u001b[42m not\u001b[49m\u001b[42m sure\u001b[49m\u001b[42m if\u001b[49m\u001b[48;2;153;153;0m I\u001b[49m\u001b[48;5;22m\u001b[97m'm\u001b[39m\u001b[49m\u001b[48;5;22m\u001b[97m wrong\u001b[39m\u001b[49m\u001b[43m.\u001b[49m\u001b[43m\n",
      "\u001b[49m\u001b[48;2;153;153;0m\n",
      "\u001b[49m\u001b[43mA\u001b[49m\u001b[48;5;22m\u001b[97m:\u001b[39m\u001b[49m\u001b[102m\u001b[97m\n",
      "\u001b[39m\u001b[49m\u001b[48;5;22m\u001b[97m\n",
      "\u001b[39m\u001b[49m\u001b[41mI\u001b[49m\u001b[48;2;255;150;0m think\u001b[49m\u001b[48;2;255;150;0m you\u001b[49m\u001b[43m're\u001b[49m\u001b[48;2;255;150;0m right\u001b[49m\u001b[48;2;153;153;0m.\u001b[49m\u001b[43m  \u001b[49m"
     ]
    }
   ],
   "source": [
    "plot_probability_spectrum(model70m_base, text, tokenizer70m)"
   ]
  },
  {
   "cell_type": "code",
   "execution_count": 37,
   "id": "5134e601-e75c-4ad6-b691-13f10c49087d",
   "metadata": {
    "scrolled": true
   },
   "outputs": [
    {
     "name": "stderr",
     "output_type": "stream",
     "text": [
      "Setting `pad_token_id` to `eos_token_id`:0 for open-end generation.\n"
     ]
    },
    {
     "name": "stdout",
     "output_type": "stream",
     "text": [
      "are bugs real?<|endoftext|>\n",
      "\u001b[43m<|endoftext|>\u001b[49m"
     ]
    }
   ],
   "source": [
    "plot_probability_spectrum(model70m_sft, text, tokenizer70m, print_output_plain=True)"
   ]
  },
  {
   "cell_type": "code",
   "execution_count": 38,
   "id": "e5fbb70d-658f-4822-84cf-586341523850",
   "metadata": {},
   "outputs": [
    {
     "name": "stderr",
     "output_type": "stream",
     "text": [
      "Setting `pad_token_id` to `eos_token_id`:0 for open-end generation.\n"
     ]
    },
    {
     "name": "stdout",
     "output_type": "stream",
     "text": [
      "\u001b[41m\n",
      "\u001b[49m\u001b[43m\n",
      "\u001b[49m\u001b[48;2;255;150;0mI\u001b[49m\u001b[48;2;255;150;0m’\u001b[49m\u001b[102m\u001b[97mm\u001b[39m\u001b[49m\u001b[48;2;255;150;0m sorry\u001b[49m\u001b[102m\u001b[97m,\u001b[39m\u001b[49m\u001b[48;2;153;153;0m I\u001b[49m\u001b[43m’\u001b[49m\u001b[48;5;22m\u001b[97mm\u001b[39m\u001b[49m\u001b[48;2;153;153;0m not\u001b[49m\u001b[43m sure\u001b[49m\u001b[48;2;153;153;0m what\u001b[49m\u001b[102m\u001b[97m you\u001b[39m\u001b[49m\u001b[42m mean\u001b[49m\u001b[43m.\u001b[49m\u001b[48;2;255;150;0m  \u001b[49m\u001b[43mI\u001b[49m\u001b[48;2;153;153;0m’\u001b[49m\u001b[48;5;22m\u001b[97mm\u001b[39m\u001b[49m\u001b[43m sorry\u001b[49m\u001b[102m\u001b[97m,\u001b[39m\u001b[49m\u001b[102m\u001b[97m I\u001b[39m\u001b[49m\u001b[48;2;153;153;0m’\u001b[49m\u001b[48;5;22m\u001b[97mm\u001b[39m\u001b[49m\u001b[48;2;153;153;0m not\u001b[49m\u001b[48;2;153;153;0m sure\u001b[49m\u001b[42m what\u001b[49m\u001b[102m\u001b[97m you\u001b[39m\u001b[49m\u001b[48;5;22m\u001b[97m mean\u001b[39m\u001b[49m\u001b[102m\u001b[97m.\u001b[39m\u001b[49m\u001b[102m\u001b[97m  \u001b[39m\u001b[49m\u001b[48;2;153;153;0mI\u001b[49m\u001b[102m\u001b[97m’\u001b[39m\u001b[49m\u001b[48;5;22m\u001b[97mm\u001b[39m\u001b[49m\u001b[48;2;153;153;0m sorry\u001b[49m\u001b[48;5;22m\u001b[97m,\u001b[39m\u001b[49m\u001b[48;5;22m\u001b[97m I\u001b[39m\u001b[49m\u001b[42m’\u001b[49m\u001b[48;5;22m\u001b[97mm\u001b[39m\u001b[49m\u001b[42m not\u001b[49m\u001b[42m sure\u001b[49m\u001b[102m\u001b[97m what\u001b[39m\u001b[49m\u001b[48;5;22m\u001b[97m you\u001b[39m\u001b[49m\u001b[48;5;22m\u001b[97m mean\u001b[39m\u001b[49m\u001b[102m\u001b[97m.\u001b[39m\u001b[49m\u001b[48;5;22m\u001b[97m  \u001b[39m\u001b[49m\u001b[42mI\u001b[49m\u001b[102m\u001b[97m’\u001b[39m\u001b[49m\u001b[48;5;22m\u001b[97mm\u001b[39m\u001b[49m\u001b[42m sorry\u001b[49m\u001b[48;5;22m\u001b[97m,\u001b[39m\u001b[49m\u001b[48;5;22m\u001b[97m I\u001b[39m\u001b[49m\u001b[42m’\u001b[49m\u001b[48;5;22m\u001b[97mm\u001b[39m\u001b[49m\u001b[42m not\u001b[49m\u001b[102m\u001b[97m sure\u001b[39m\u001b[49m\u001b[102m\u001b[97m what\u001b[39m\u001b[49m\u001b[48;5;22m\u001b[97m you\u001b[39m\u001b[49m\u001b[48;5;22m\u001b[97m mean\u001b[39m\u001b[49m\u001b[102m\u001b[97m.\u001b[39m\u001b[49m\u001b[48;5;22m\u001b[97m  \u001b[39m\u001b[49m\u001b[102m\u001b[97mI\u001b[39m\u001b[49m\u001b[48;5;22m\u001b[97m’\u001b[39m\u001b[49m\u001b[48;5;22m\u001b[97mm\u001b[39m\u001b[49m\u001b[42m sorry\u001b[49m\u001b[48;5;22m\u001b[97m,\u001b[39m\u001b[49m\u001b[48;5;22m\u001b[97m I\u001b[39m\u001b[49m\u001b[102m\u001b[97m’\u001b[39m\u001b[49m\u001b[48;5;22m\u001b[97mm\u001b[39m\u001b[49m\u001b[42m not\u001b[49m\u001b[102m\u001b[97m sure\u001b[39m\u001b[49m\u001b[102m\u001b[97m what\u001b[39m\u001b[49m\u001b[48;5;22m\u001b[97m you\u001b[39m\u001b[49m\u001b[48;5;22m\u001b[97m mean\u001b[39m\u001b[49m\u001b[48;5;22m\u001b[97m.\u001b[39m\u001b[49m\u001b[48;5;22m\u001b[97m  \u001b[39m\u001b[49m\u001b[102m\u001b[97mI\u001b[39m\u001b[49m\u001b[48;5;22m\u001b[97m’\u001b[39m\u001b[49m\u001b[48;5;22m\u001b[97mm\u001b[39m\u001b[49m\u001b[102m\u001b[97m sorry\u001b[39m\u001b[49m\u001b[48;5;22m\u001b[97m,\u001b[39m\u001b[49m\u001b[48;5;22m\u001b[97m I\u001b[39m\u001b[49m\u001b[102m\u001b[97m’\u001b[39m\u001b[49m\u001b[48;5;22m\u001b[97mm\u001b[39m\u001b[49m\u001b[102m\u001b[97m not\u001b[39m\u001b[49m\u001b[48;5;22m\u001b[97m sure\u001b[39m\u001b[49m\u001b[102m\u001b[97m what\u001b[39m\u001b[49m\u001b[48;5;22m\u001b[97m you\u001b[39m\u001b[49m\u001b[48;5;22m\u001b[97m mean\u001b[39m\u001b[49m\u001b[48;5;22m\u001b[97m.\u001b[39m\u001b[49m\u001b[48;5;22m\u001b[97m  \u001b[39m\u001b[49m\u001b[102m\u001b[97mI\u001b[39m\u001b[49m\u001b[48;5;22m\u001b[97m’\u001b[39m\u001b[49m\u001b[48;5;22m\u001b[97mm\u001b[39m\u001b[49m\u001b[102m\u001b[97m sorry\u001b[39m\u001b[49m\u001b[48;5;22m\u001b[97m,\u001b[39m\u001b[49m\u001b[48;5;22m\u001b[97m I\u001b[39m\u001b[49m\u001b[102m\u001b[97m’\u001b[39m\u001b[49m\u001b[48;5;22m\u001b[97mm\u001b[39m\u001b[49m"
     ]
    }
   ],
   "source": [
    "plot_probability_spectrum(model70m_dpo, text, tokenizer70m)"
   ]
  },
  {
   "cell_type": "code",
   "execution_count": 19,
   "id": "688e69f1-93b1-42ae-98fa-278d5ce42ec4",
   "metadata": {},
   "outputs": [],
   "source": [
    "text = \"Are AIs real?\""
   ]
  },
  {
   "cell_type": "code",
   "execution_count": 20,
   "id": "3c49487b-6fa2-47e9-8179-c900650d702f",
   "metadata": {},
   "outputs": [
    {
     "name": "stderr",
     "output_type": "stream",
     "text": [
      "Setting `pad_token_id` to `eos_token_id`:0 for open-end generation.\n"
     ]
    },
    {
     "name": "stdout",
     "output_type": "stream",
     "text": [
      "\u001b[48;2;255;150;0m\n",
      "\u001b[49m\u001b[43m\n",
      "\u001b[49m\u001b[101m\u001b[97mI\u001b[39m\u001b[49m\u001b[101m\u001b[97m'm\u001b[39m\u001b[49m\u001b[41m not\u001b[49m\u001b[48;2;255;150;0m sure\u001b[49m\u001b[48;2;255;150;0m if\u001b[49m\u001b[48;2;255;150;0m I\u001b[49m\u001b[48;2;255;150;0m'm\u001b[49m\u001b[101m\u001b[97m wrong\u001b[39m\u001b[49m\u001b[48;2;255;150;0m,\u001b[49m\u001b[43m but\u001b[49m\u001b[48;2;255;150;0m I\u001b[49m\u001b[48;2;255;150;0m'm\u001b[49m\u001b[41m not\u001b[49m\u001b[48;2;255;150;0m sure\u001b[49m\u001b[48;2;255;150;0m if\u001b[49m\u001b[48;2;255;150;0m I\u001b[49m\u001b[48;2;255;150;0m'm\u001b[49m\u001b[48;2;255;150;0m wrong\u001b[49m\u001b[48;2;255;150;0m.\u001b[49m\u001b[48;2;255;150;0m\n",
      "\u001b[49m\u001b[48;2;153;153;0m\n",
      "\u001b[49m\u001b[43mA\u001b[49m\u001b[42m:\u001b[49m\u001b[48;5;22m\u001b[97m\n",
      "\u001b[39m\u001b[49m\u001b[48;5;22m\u001b[97m\n",
      "\u001b[39m\u001b[49m\u001b[41mI\u001b[49m\u001b[41m'm\u001b[49m\u001b[43m not\u001b[49m\u001b[48;2;153;153;0m sure\u001b[49m\u001b[48;2;153;153;0m if\u001b[49m\u001b[43m I\u001b[49m\u001b[48;5;22m\u001b[97m'm\u001b[39m\u001b[49m\u001b[102m\u001b[97m wrong\u001b[39m\u001b[49m\u001b[43m,\u001b[49m\u001b[102m\u001b[97m but\u001b[39m\u001b[49m\u001b[42m I\u001b[49m\u001b[48;5;22m\u001b[97m'm\u001b[39m\u001b[49m\u001b[48;5;22m\u001b[97m not\u001b[39m\u001b[49m\u001b[102m\u001b[97m sure\u001b[39m\u001b[49m\u001b[102m\u001b[97m if\u001b[39m\u001b[49m\u001b[48;2;153;153;0m I\u001b[49m\u001b[48;5;22m\u001b[97m'm\u001b[39m\u001b[49m\u001b[102m\u001b[97m wrong\u001b[39m\u001b[49m\u001b[43m,\u001b[49m\u001b[42m but\u001b[49m\u001b[42m I\u001b[49m\u001b[102m\u001b[97m'm\u001b[39m\u001b[49m\u001b[48;5;22m\u001b[97m not\u001b[39m\u001b[49m\u001b[102m\u001b[97m sure\u001b[39m\u001b[49m\u001b[42m if\u001b[49m\u001b[43m I\u001b[49m\u001b[48;5;22m\u001b[97m'm\u001b[39m\u001b[49m\u001b[102m\u001b[97m wrong\u001b[39m\u001b[49m\u001b[43m.\u001b[49m\u001b[43m\n",
      "\u001b[49m\u001b[48;2;255;150;0m\n",
      "\u001b[49m\u001b[43mA\u001b[49m\u001b[102m\u001b[97m:\u001b[39m\u001b[49m\u001b[48;5;22m\u001b[97m\n",
      "\u001b[39m\u001b[49m\u001b[48;5;22m\u001b[97m\n",
      "\u001b[39m\u001b[49m\u001b[41mI\u001b[49m\u001b[41m'm\u001b[49m\u001b[43m not\u001b[49m\u001b[42m sure\u001b[49m\u001b[102m\u001b[97m if\u001b[39m\u001b[49m\u001b[48;2;153;153;0m I\u001b[49m\u001b[48;5;22m\u001b[97m'm\u001b[39m\u001b[49m\u001b[102m\u001b[97m wrong\u001b[39m\u001b[49m\u001b[102m\u001b[97m,\u001b[39m\u001b[49m\u001b[102m\u001b[97m but\u001b[39m\u001b[49m\u001b[42m I\u001b[49m\u001b[48;5;22m\u001b[97m'm\u001b[39m\u001b[49m\u001b[48;5;22m\u001b[97m not\u001b[39m\u001b[49m\u001b[48;5;22m\u001b[97m sure\u001b[39m\u001b[49m\u001b[102m\u001b[97m if\u001b[39m\u001b[49m\u001b[42m I\u001b[49m\u001b[48;5;22m\u001b[97m'm\u001b[39m\u001b[49m\u001b[102m\u001b[97m wrong\u001b[39m\u001b[49m\u001b[43m,\u001b[49m\u001b[102m\u001b[97m but\u001b[39m\u001b[49m\u001b[102m\u001b[97m I\u001b[39m\u001b[49m\u001b[102m\u001b[97m'm\u001b[39m\u001b[49m\u001b[48;5;22m\u001b[97m not\u001b[39m\u001b[49m\u001b[102m\u001b[97m sure\u001b[39m\u001b[49m\u001b[42m if\u001b[49m\u001b[48;2;153;153;0m I\u001b[49m\u001b[48;5;22m\u001b[97m'm\u001b[39m\u001b[49m\u001b[102m\u001b[97m wrong\u001b[39m\u001b[49m\u001b[43m,\u001b[49m\u001b[42m but\u001b[49m\u001b[42m I\u001b[49m\u001b[102m\u001b[97m'm\u001b[39m\u001b[49m\u001b[102m\u001b[97m not\u001b[39m\u001b[49m\u001b[102m\u001b[97m sure\u001b[39m\u001b[49m\u001b[42m if\u001b[49m\u001b[48;2;153;153;0m I\u001b[49m\u001b[48;5;22m\u001b[97m'm\u001b[39m\u001b[49m\u001b[102m\u001b[97m wrong\u001b[39m\u001b[49m"
     ]
    }
   ],
   "source": [
    "plot_probability_spectrum(model70m_base, text, tokenizer70m)"
   ]
  },
  {
   "cell_type": "code",
   "execution_count": 21,
   "id": "15535c41-b157-41ef-91e3-228855bdab97",
   "metadata": {},
   "outputs": [
    {
     "name": "stderr",
     "output_type": "stream",
     "text": [
      "Setting `pad_token_id` to `eos_token_id`:0 for open-end generation.\n"
     ]
    },
    {
     "name": "stdout",
     "output_type": "stream",
     "text": [
      "\u001b[43m<|endoftext|>\u001b[49m"
     ]
    }
   ],
   "source": [
    "plot_probability_spectrum(model70m_sft, text, tokenizer70m)"
   ]
  },
  {
   "cell_type": "code",
   "execution_count": 22,
   "id": "a05ab362-b625-40ac-8f7f-7a3e7c8f768a",
   "metadata": {
    "scrolled": true
   },
   "outputs": [
    {
     "name": "stderr",
     "output_type": "stream",
     "text": [
      "Setting `pad_token_id` to `eos_token_id`:0 for open-end generation.\n"
     ]
    },
    {
     "name": "stdout",
     "output_type": "stream",
     "text": [
      "\u001b[43m  \u001b[49m\u001b[48;2;255;150;0mAre\u001b[49m\u001b[102m\u001b[97m you\u001b[39m\u001b[49m\u001b[48;2;255;150;0m sure\u001b[49m\u001b[43m?\u001b[49m\u001b[48;2;153;153;0m  \u001b[49m\u001b[48;2;153;153;0mAre\u001b[49m\u001b[48;5;22m\u001b[97m you\u001b[39m\u001b[49m\u001b[48;5;22m\u001b[97m sure\u001b[39m\u001b[49m\u001b[48;5;22m\u001b[97m?\u001b[39m\u001b[49m\u001b[102m\u001b[97m  \u001b[39m\u001b[49m\u001b[48;2;153;153;0mAre\u001b[49m\u001b[48;5;22m\u001b[97m you\u001b[39m\u001b[49m\u001b[48;5;22m\u001b[97m sure\u001b[39m\u001b[49m\u001b[48;5;22m\u001b[97m?\u001b[39m\u001b[49m\u001b[102m\u001b[97m  \u001b[39m\u001b[49m\u001b[48;2;153;153;0mAre\u001b[49m\u001b[48;5;22m\u001b[97m you\u001b[39m\u001b[49m\u001b[48;5;22m\u001b[97m sure\u001b[39m\u001b[49m\u001b[48;5;22m\u001b[97m?\u001b[39m\u001b[49m\u001b[48;5;22m\u001b[97m  \u001b[39m\u001b[49m\u001b[42mAre\u001b[49m\u001b[48;5;22m\u001b[97m you\u001b[39m\u001b[49m\u001b[48;5;22m\u001b[97m sure\u001b[39m\u001b[49m\u001b[48;5;22m\u001b[97m?\u001b[39m\u001b[49m\u001b[48;5;22m\u001b[97m  \u001b[39m\u001b[49m\u001b[102m\u001b[97mAre\u001b[39m\u001b[49m\u001b[48;5;22m\u001b[97m you\u001b[39m\u001b[49m\u001b[48;5;22m\u001b[97m sure\u001b[39m\u001b[49m\u001b[48;5;22m\u001b[97m?\u001b[39m\u001b[49m\u001b[48;5;22m\u001b[97m  \u001b[39m\u001b[49m\u001b[102m\u001b[97mAre\u001b[39m\u001b[49m\u001b[48;5;22m\u001b[97m you\u001b[39m\u001b[49m\u001b[48;5;22m\u001b[97m sure\u001b[39m\u001b[49m\u001b[48;5;22m\u001b[97m?\u001b[39m\u001b[49m\u001b[48;5;22m\u001b[97m  \u001b[39m\u001b[49m\u001b[48;5;22m\u001b[97mAre\u001b[39m\u001b[49m\u001b[48;5;22m\u001b[97m you\u001b[39m\u001b[49m\u001b[48;5;22m\u001b[97m sure\u001b[39m\u001b[49m\u001b[48;5;22m\u001b[97m?\u001b[39m\u001b[49m\u001b[48;5;22m\u001b[97m  \u001b[39m\u001b[49m\u001b[48;5;22m\u001b[97mAre\u001b[39m\u001b[49m\u001b[48;5;22m\u001b[97m you\u001b[39m\u001b[49m\u001b[48;5;22m\u001b[97m sure\u001b[39m\u001b[49m\u001b[48;5;22m\u001b[97m?\u001b[39m\u001b[49m\u001b[48;5;22m\u001b[97m  \u001b[39m\u001b[49m\u001b[48;5;22m\u001b[97mAre\u001b[39m\u001b[49m\u001b[48;5;22m\u001b[97m you\u001b[39m\u001b[49m\u001b[48;5;22m\u001b[97m sure\u001b[39m\u001b[49m\u001b[48;5;22m\u001b[97m?\u001b[39m\u001b[49m\u001b[48;5;22m\u001b[97m  \u001b[39m\u001b[49m\u001b[48;5;22m\u001b[97mAre\u001b[39m\u001b[49m\u001b[48;5;22m\u001b[97m you\u001b[39m\u001b[49m\u001b[48;5;22m\u001b[97m sure\u001b[39m\u001b[49m\u001b[48;5;22m\u001b[97m?\u001b[39m\u001b[49m\u001b[48;5;22m\u001b[97m  \u001b[39m\u001b[49m\u001b[48;5;22m\u001b[97mAre\u001b[39m\u001b[49m\u001b[48;5;22m\u001b[97m you\u001b[39m\u001b[49m\u001b[48;5;22m\u001b[97m sure\u001b[39m\u001b[49m\u001b[48;5;22m\u001b[97m?\u001b[39m\u001b[49m\u001b[48;5;22m\u001b[97m  \u001b[39m\u001b[49m\u001b[48;5;22m\u001b[97mAre\u001b[39m\u001b[49m\u001b[48;5;22m\u001b[97m you\u001b[39m\u001b[49m\u001b[48;5;22m\u001b[97m sure\u001b[39m\u001b[49m\u001b[48;5;22m\u001b[97m?\u001b[39m\u001b[49m\u001b[48;5;22m\u001b[97m  \u001b[39m\u001b[49m\u001b[48;5;22m\u001b[97mAre\u001b[39m\u001b[49m\u001b[48;5;22m\u001b[97m you\u001b[39m\u001b[49m\u001b[48;5;22m\u001b[97m sure\u001b[39m\u001b[49m\u001b[48;5;22m\u001b[97m?\u001b[39m\u001b[49m\u001b[48;5;22m\u001b[97m  \u001b[39m\u001b[49m\u001b[48;5;22m\u001b[97mAre\u001b[39m\u001b[49m\u001b[48;5;22m\u001b[97m you\u001b[39m\u001b[49m\u001b[48;5;22m\u001b[97m sure\u001b[39m\u001b[49m\u001b[48;5;22m\u001b[97m?\u001b[39m\u001b[49m\u001b[48;5;22m\u001b[97m  \u001b[39m\u001b[49m\u001b[48;5;22m\u001b[97mAre\u001b[39m\u001b[49m\u001b[48;5;22m\u001b[97m you\u001b[39m\u001b[49m\u001b[48;5;22m\u001b[97m sure\u001b[39m\u001b[49m\u001b[48;5;22m\u001b[97m?\u001b[39m\u001b[49m\u001b[48;5;22m\u001b[97m  \u001b[39m\u001b[49m\u001b[48;5;22m\u001b[97mAre\u001b[39m\u001b[49m\u001b[48;5;22m\u001b[97m you\u001b[39m\u001b[49m\u001b[48;5;22m\u001b[97m sure\u001b[39m\u001b[49m\u001b[48;5;22m\u001b[97m?\u001b[39m\u001b[49m\u001b[48;5;22m\u001b[97m  \u001b[39m\u001b[49m\u001b[48;5;22m\u001b[97mAre\u001b[39m\u001b[49m\u001b[48;5;22m\u001b[97m you\u001b[39m\u001b[49m\u001b[48;5;22m\u001b[97m sure\u001b[39m\u001b[49m\u001b[48;5;22m\u001b[97m?\u001b[39m\u001b[49m\u001b[48;5;22m\u001b[97m  \u001b[39m\u001b[49m\u001b[48;5;22m\u001b[97mAre\u001b[39m\u001b[49m\u001b[48;5;22m\u001b[97m you\u001b[39m\u001b[49m\u001b[48;5;22m\u001b[97m sure\u001b[39m\u001b[49m\u001b[48;5;22m\u001b[97m?\u001b[39m\u001b[49m\u001b[48;5;22m\u001b[97m  \u001b[39m\u001b[49m\u001b[48;5;22m\u001b[97mAre\u001b[39m\u001b[49m\u001b[48;5;22m\u001b[97m you\u001b[39m\u001b[49m\u001b[48;5;22m\u001b[97m sure\u001b[39m\u001b[49m\u001b[48;5;22m\u001b[97m?\u001b[39m\u001b[49m"
     ]
    }
   ],
   "source": [
    "plot_probability_spectrum(model70m_dpo, text, tokenizer70m)"
   ]
  },
  {
   "cell_type": "markdown",
   "id": "ea955e0c-212a-4b1c-a49f-e7c1788fadb5",
   "metadata": {
    "jp-MarkdownHeadingCollapsed": true
   },
   "source": [
    "### 410m"
   ]
  },
  {
   "cell_type": "code",
   "execution_count": 104,
   "id": "82400350-cf88-4f58-aaf9-ab5d1ae6a65d",
   "metadata": {},
   "outputs": [],
   "source": [
    "text = \"are bugs real?\""
   ]
  },
  {
   "cell_type": "code",
   "execution_count": 114,
   "id": "1f9f8e98-8279-48a9-8b34-c657c15ec7c6",
   "metadata": {},
   "outputs": [
    {
     "name": "stderr",
     "output_type": "stream",
     "text": [
      "Setting `pad_token_id` to `eos_token_id`:0 for open-end generation.\n"
     ]
    },
    {
     "name": "stdout",
     "output_type": "stream",
     "text": [
      "\u001b[43m\n",
      "\u001b[49m\u001b[48;2;153;153;0m<\u001b[49m\u001b[101m\u001b[97mj\u001b[39m\u001b[49m\u001b[41m\u001b[97mames\u001b[39m\u001b[49m\u001b[48;2;255;150;50m_\u001b[49m\u001b[43mw\u001b[49m\u001b[102m\u001b[97m>\u001b[39m\u001b[49m\u001b[41m\u001b[97m I\u001b[39m\u001b[49m\u001b[48;2;255;120;0m think\u001b[49m\u001b[48;2;255;120;0m it\u001b[49m\u001b[48;2;255;150;50m's\u001b[49m\u001b[48;2;255;120;0m a\u001b[49m\u001b[48;2;255;120;0m bug\u001b[49m\u001b[43m in\u001b[49m\u001b[48;2;255;150;50m the\u001b[49m\u001b[101m\u001b[97m way\u001b[39m\u001b[49m\u001b[48;2;255;120;0m the\u001b[49m\u001b[101m\u001b[97m package\u001b[39m\u001b[49m\u001b[48;2;255;150;50m is\u001b[49m\u001b[48;2;255;120;0m packaged\u001b[49m\u001b[43m\n",
      "\u001b[49m\u001b[102m\u001b[97m<\u001b[39m\u001b[49m\u001b[48;2;255;150;50mj\u001b[49m\u001b[48;5;22m\u001b[97mames\u001b[39m\u001b[49m\u001b[48;5;22m\u001b[97m_\u001b[39m\u001b[49m\u001b[48;5;22m\u001b[97mw\u001b[39m\u001b[49m\u001b[48;5;22m\u001b[97m>\u001b[39m\u001b[49m\u001b[48;2;255;120;0m I\u001b[49m\u001b[48;2;255;120;0m think\u001b[49m\u001b[48;2;255;150;50m it\u001b[49m\u001b[43m's\u001b[49m\u001b[48;2;255;150;50m a\u001b[49m\u001b[43m bug\u001b[49m\u001b[42m in\u001b[49m\u001b[43m the\u001b[49m\u001b[43m way\u001b[49m\u001b[43m the\u001b[49m\u001b[43m package\u001b[49m\u001b[48;2;153;153;0m is\u001b[49m\u001b[48;2;153;153;0m packaged\u001b[49m\u001b[43m\n",
      "\u001b[49m\u001b[102m\u001b[97m<\u001b[39m\u001b[49m\u001b[48;2;255;150;50mj\u001b[49m\u001b[48;5;22m\u001b[97mames\u001b[39m\u001b[49m\u001b[48;5;22m\u001b[97m_\u001b[39m\u001b[49m\u001b[48;5;22m\u001b[97mw\u001b[39m\u001b[49m\u001b[48;5;22m\u001b[97m>\u001b[39m\u001b[49m\u001b[48;2;255;120;0m I\u001b[49m\u001b[48;2;255;150;50m think\u001b[49m\u001b[43m it\u001b[49m\u001b[48;2;153;153;0m's\u001b[49m\u001b[48;2;153;153;0m a\u001b[49m\u001b[102m\u001b[97m bug\u001b[39m\u001b[49m\u001b[102m\u001b[97m in\u001b[39m\u001b[49m\u001b[42m the\u001b[49m\u001b[48;2;153;153;0m way\u001b[49m\u001b[42m the\u001b[49m\u001b[102m\u001b[97m package\u001b[39m\u001b[49m\u001b[102m\u001b[97m is\u001b[39m\u001b[49m\u001b[48;5;22m\u001b[97m packaged\u001b[39m\u001b[49m\u001b[48;2;153;153;0m\n",
      "\u001b[49m\u001b[102m\u001b[97m<\u001b[39m\u001b[49m\u001b[43mj\u001b[49m\u001b[48;5;22m\u001b[97mames\u001b[39m\u001b[49m\u001b[48;5;22m\u001b[97m_\u001b[39m\u001b[49m\u001b[48;5;22m\u001b[97mw\u001b[39m\u001b[49m\u001b[48;5;22m\u001b[97m>\u001b[39m\u001b[49m\u001b[48;2;255;150;50m I\u001b[49m\u001b[48;2;153;153;0m think\u001b[49m\u001b[102m\u001b[97m it\u001b[39m\u001b[49m\u001b[102m\u001b[97m's\u001b[39m\u001b[49m\u001b[102m\u001b[97m a\u001b[39m\u001b[49m\u001b[48;5;22m\u001b[97m bug\u001b[39m\u001b[49m\u001b[48;5;22m\u001b[97m in\u001b[39m\u001b[49m\u001b[102m\u001b[97m the\u001b[39m\u001b[49m\u001b[42m way\u001b[49m\u001b[102m\u001b[97m the\u001b[39m\u001b[49m\u001b[48;5;22m\u001b[97m package\u001b[39m\u001b[49m\u001b[48;5;22m\u001b[97m is\u001b[39m\u001b[49m\u001b[48;5;22m\u001b[97m packaged\u001b[39m\u001b[49m\u001b[102m\u001b[97m\n",
      "\u001b[39m\u001b[49m\u001b[102m\u001b[97m<\u001b[39m\u001b[49m\u001b[43mj\u001b[49m\u001b[48;5;22m\u001b[97mames\u001b[39m\u001b[49m\u001b[48;5;22m\u001b[97m_\u001b[39m\u001b[49m\u001b[48;5;22m\u001b[97mw\u001b[39m\u001b[49m\u001b[48;5;22m\u001b[97m>\u001b[39m\u001b[49m\u001b[43m I\u001b[49m\u001b[102m\u001b[97m think\u001b[39m\u001b[49m\u001b[102m\u001b[97m it\u001b[39m\u001b[49m\u001b[48;5;22m\u001b[97m's\u001b[39m\u001b[49m\u001b[48;5;22m\u001b[97m a\u001b[39m\u001b[49m\u001b[48;5;22m\u001b[97m bug\u001b[39m\u001b[49m\u001b[48;5;22m\u001b[97m in\u001b[39m\u001b[49m\u001b[48;5;22m\u001b[97m the\u001b[39m\u001b[49m\u001b[42m way\u001b[49m\u001b[48;5;22m\u001b[97m the\u001b[39m\u001b[49m\u001b[48;5;22m\u001b[97m package\u001b[39m\u001b[49m\u001b[48;5;22m\u001b[97m is\u001b[39m\u001b[49m\u001b[48;5;22m\u001b[97m packaged\u001b[39m\u001b[49m"
     ]
    }
   ],
   "source": [
    "plot_probability_spectrum(model410m_base, text, tokenizer410m, temperature = 1)"
   ]
  },
  {
   "cell_type": "code",
   "execution_count": 115,
   "id": "2aeb6f10-c74b-445f-a634-7349a8bb7d1a",
   "metadata": {},
   "outputs": [
    {
     "name": "stderr",
     "output_type": "stream",
     "text": [
      "Setting `pad_token_id` to `eos_token_id`:0 for open-end generation.\n"
     ]
    },
    {
     "name": "stdout",
     "output_type": "stream",
     "text": [
      "\u001b[48;2;255;150;50m\n",
      "\u001b[49m\u001b[43m<\u001b[49m\u001b[101m\u001b[97mj\u001b[39m\u001b[49m\u001b[48;2;255;120;0mames\u001b[49m\u001b[48;2;255;150;50mpage\u001b[49m\u001b[48;5;22m\u001b[97m>\u001b[39m\u001b[49m\u001b[48;2;255;120;0m I\u001b[49m\u001b[48;2;255;120;0m think\u001b[49m\u001b[48;2;255;120;0m the\u001b[49m\u001b[41m\u001b[97m bug\u001b[39m\u001b[49m\u001b[48;2;255;150;50m is\u001b[49m\u001b[41m\u001b[97m that\u001b[39m\u001b[49m\u001b[48;2;255;150;50m the\u001b[49m\u001b[101m\u001b[97m package\u001b[39m\u001b[49m\u001b[48;2;255;150;50m is\u001b[49m\u001b[48;2;255;120;0m not\u001b[49m\u001b[48;2;255;120;0m installed\u001b[49m\u001b[48;2;255;120;0m correctly\u001b[49m\u001b[43m\n",
      "\u001b[49m\u001b[102m\u001b[97m<\u001b[39m\u001b[49m\u001b[43mj\u001b[49m\u001b[48;5;22m\u001b[97mames\u001b[39m\u001b[49m\u001b[48;5;22m\u001b[97mpage\u001b[39m\u001b[49m\u001b[48;5;22m\u001b[97m>\u001b[39m\u001b[49m\u001b[48;2;255;120;0m I\u001b[49m\u001b[48;2;255;120;0m'm\u001b[49m\u001b[48;2;255;150;50m not\u001b[49m\u001b[43m sure\u001b[49m\u001b[48;2;255;150;50m if\u001b[49m\u001b[48;2;255;120;0m I\u001b[49m\u001b[48;2;255;150;50m can\u001b[49m\u001b[48;2;255;120;0m reproduce\u001b[49m\u001b[48;2;255;150;50m it\u001b[49m\u001b[48;2;255;120;0m\n",
      "\u001b[49m\u001b[102m\u001b[97m<\u001b[39m\u001b[49m\u001b[43mj\u001b[49m\u001b[48;5;22m\u001b[97mames\u001b[39m\u001b[49m\u001b[48;5;22m\u001b[97mpage\u001b[39m\u001b[49m\u001b[48;5;22m\u001b[97m>\u001b[39m\u001b[49m\u001b[48;2;255;150;50m I\u001b[49m\u001b[48;2;255;120;0m'll\u001b[49m\u001b[48;2;255;120;0m try\u001b[49m\u001b[43m to\u001b[49m\u001b[48;2;255;120;0m reproduce\u001b[49m\u001b[48;2;255;150;50m it\u001b[49m\u001b[48;2;255;120;0m and\u001b[49m\u001b[48;2;255;150;50m see\u001b[49m\u001b[43m if\u001b[49m\u001b[43m I\u001b[49m\u001b[48;2;153;153;0m can\u001b[49m\u001b[48;2;255;150;50m reproduce\u001b[49m\u001b[43m it\u001b[49m\u001b[43m\n",
      "\u001b[49m\u001b[102m\u001b[97m<\u001b[39m\u001b[49m\u001b[43mj\u001b[49m\u001b[48;5;22m\u001b[97mames\u001b[39m\u001b[49m\u001b[48;5;22m\u001b[97mpage\u001b[39m\u001b[49m\u001b[48;5;22m\u001b[97m>\u001b[39m\u001b[49m\u001b[48;2;255;150;50m I\u001b[49m\u001b[48;2;255;120;0m'm\u001b[49m\u001b[48;2;255;120;0m not\u001b[49m\u001b[43m sure\u001b[49m\u001b[43m if\u001b[49m\u001b[43m I\u001b[49m\u001b[42m can\u001b[49m\u001b[102m\u001b[97m reproduce\u001b[39m\u001b[49m\u001b[48;2;153;153;0m it\u001b[49m\u001b[43m\n",
      "\u001b[49m\u001b[102m\u001b[97m<\u001b[39m\u001b[49m\u001b[48;2;153;153;0mj\u001b[49m\u001b[48;5;22m\u001b[97mames\u001b[39m\u001b[49m\u001b[48;5;22m\u001b[97mpage\u001b[39m\u001b[49m\u001b[48;5;22m\u001b[97m>\u001b[39m\u001b[49m\u001b[48;2;255;150;50m I\u001b[49m\u001b[48;2;255;150;50m'll\u001b[49m\u001b[48;2;255;150;50m try\u001b[49m\u001b[42m to\u001b[49m\u001b[102m\u001b[97m reproduce\u001b[39m\u001b[49m\u001b[102m\u001b[97m it\u001b[39m\u001b[49m\u001b[42m and\u001b[49m\u001b[102m\u001b[97m see\u001b[39m\u001b[49m\u001b[48;5;22m\u001b[97m if\u001b[39m\u001b[49m\u001b[48;5;22m\u001b[97m I\u001b[39m\u001b[49m\u001b[48;5;22m\u001b[97m can\u001b[39m\u001b[49m\u001b[102m\u001b[97m reproduce\u001b[39m\u001b[49m\u001b[102m\u001b[97m it\u001b[39m\u001b[49m\u001b[42m\n",
      "\u001b[49m\u001b[102m\u001b[97m<\u001b[39m\u001b[49m\u001b[43mj\u001b[49m\u001b[48;5;22m\u001b[97mames\u001b[39m\u001b[49m\u001b[48;5;22m\u001b[97mpage\u001b[39m\u001b[49m\u001b[48;5;22m\u001b[97m>\u001b[39m\u001b[49m\u001b[48;2;255;150;50m I\u001b[49m\u001b[48;2;255;150;50m'm\u001b[49m\u001b[48;2;255;150;50m not\u001b[49m\u001b[42m sure\u001b[49m\u001b[102m\u001b[97m if\u001b[39m\u001b[49m\u001b[48;5;22m\u001b[97m I\u001b[39m\u001b[49m\u001b[48;5;22m\u001b[97m can\u001b[39m\u001b[49m\u001b[102m\u001b[97m reproduce\u001b[39m\u001b[49m"
     ]
    }
   ],
   "source": [
    "plot_probability_spectrum(model410m_sft, text, tokenizer410m, temperature = 1)"
   ]
  },
  {
   "cell_type": "code",
   "execution_count": 116,
   "id": "c155cf3e-becf-44a8-afd8-616689da69b0",
   "metadata": {
    "scrolled": true
   },
   "outputs": [
    {
     "name": "stderr",
     "output_type": "stream",
     "text": [
      "Setting `pad_token_id` to `eos_token_id`:0 for open-end generation.\n"
     ]
    },
    {
     "name": "stdout",
     "output_type": "stream",
     "text": [
      "\u001b[48;2;255;150;50m\n",
      "\u001b[49m\u001b[43m<\u001b[49m\u001b[101m\u001b[97mj\u001b[39m\u001b[49m\u001b[48;2;255;150;50mames\u001b[49m\u001b[43m_\u001b[49m\u001b[43mw\u001b[49m\u001b[102m\u001b[97m>\u001b[39m\u001b[49m\u001b[48;2;255;150;50m I\u001b[49m\u001b[48;2;255;150;50m think\u001b[49m\u001b[48;2;255;150;50m it\u001b[49m\u001b[43m's\u001b[49m\u001b[48;2;255;120;0m a\u001b[49m\u001b[48;2;255;150;50m bug\u001b[49m\u001b[43m in\u001b[49m\u001b[43m the\u001b[49m\u001b[41m\u001b[97m way\u001b[39m\u001b[49m\u001b[48;2;255;150;50m that\u001b[49m\u001b[48;2;255;150;50m the\u001b[49m\u001b[101m\u001b[97m package\u001b[39m\u001b[49m\u001b[48;2;255;150;50m is\u001b[49m\u001b[48;2;255;150;50m packaged\u001b[49m\u001b[48;2;255;150;50m,\u001b[49m\u001b[48;2;255;120;0m but\u001b[49m\u001b[48;2;255;150;50m I\u001b[49m\u001b[48;2;255;150;50m don\u001b[49m\u001b[48;5;22m\u001b[97m't\u001b[39m\u001b[49m\u001b[43m know\u001b[49m\u001b[48;2;255;120;0m enough\u001b[49m\u001b[48;2;153;153;0m about\u001b[49m\u001b[48;2;255;150;50m the\u001b[49m\u001b[48;2;255;120;0m package\u001b[49m\u001b[43m to\u001b[49m\u001b[48;2;255;150;50m know\u001b[49m\u001b[48;2;255;150;50m if\u001b[49m\u001b[48;2;255;150;50m that\u001b[49m\u001b[43m's\u001b[49m\u001b[48;2;255;120;0m a\u001b[49m\u001b[48;2;255;150;50m good\u001b[49m\u001b[43m idea\u001b[49m\u001b[48;2;255;150;50m\n",
      "\u001b[49m\u001b[48;5;22m\u001b[97m<\u001b[39m\u001b[49m\u001b[43mj\u001b[49m\u001b[48;5;22m\u001b[97mames\u001b[39m\u001b[49m\u001b[48;5;22m\u001b[97m_\u001b[39m\u001b[49m\u001b[48;5;22m\u001b[97mw\u001b[39m\u001b[49m\u001b[48;5;22m\u001b[97m>\u001b[39m\u001b[49m\u001b[48;2;255;150;50m I\u001b[49m\u001b[48;2;255;150;50m think\u001b[49m\u001b[48;2;255;150;50m it\u001b[49m\u001b[43m's\u001b[49m\u001b[48;2;255;150;50m a\u001b[49m\u001b[43m bug\u001b[49m\u001b[48;2;153;153;0m in\u001b[49m\u001b[48;2;153;153;0m the\u001b[49m\u001b[48;2;153;153;0m way\u001b[49m\u001b[42m that\u001b[49m\u001b[43m the\u001b[49m\u001b[48;2;153;153;0m package\u001b[49m\u001b[42m is\u001b[49m\u001b[102m\u001b[97m packaged\u001b[39m\u001b[49m\u001b[43m,\u001b[49m\u001b[42m but\u001b[49m\u001b[42m I\u001b[49m\u001b[48;2;153;153;0m don\u001b[49m\u001b[48;5;22m\u001b[97m't\u001b[39m\u001b[49m\u001b[48;5;22m\u001b[97m know\u001b[39m\u001b[49m\u001b[48;5;22m\u001b[97m enough\u001b[39m\u001b[49m\u001b[102m\u001b[97m about\u001b[39m\u001b[49m\u001b[48;5;22m\u001b[97m the\u001b[39m\u001b[49m\u001b[102m\u001b[97m package\u001b[39m\u001b[49m\u001b[48;5;22m\u001b[97m to\u001b[39m\u001b[49m\u001b[48;5;22m\u001b[97m know\u001b[39m\u001b[49m\u001b[102m\u001b[97m if\u001b[39m\u001b[49m\u001b[102m\u001b[97m that\u001b[39m\u001b[49m\u001b[48;5;22m\u001b[97m's\u001b[39m\u001b[49m\u001b[48;5;22m\u001b[97m a\u001b[39m\u001b[49m\u001b[102m\u001b[97m good\u001b[39m\u001b[49m\u001b[102m\u001b[97m idea\u001b[39m\u001b[49m\u001b[48;2;153;153;0m\n",
      "\u001b[49m\u001b[48;5;22m\u001b[97m<\u001b[39m\u001b[49m\u001b[43mj\u001b[49m\u001b[48;5;22m\u001b[97mames\u001b[39m\u001b[49m\u001b[48;5;22m\u001b[97m_\u001b[39m\u001b[49m\u001b[48;5;22m\u001b[97mw\u001b[39m\u001b[49m\u001b[48;5;22m\u001b[97m>\u001b[39m\u001b[49m\u001b[48;2;255;150;50m I\u001b[49m\u001b[48;2;255;150;50m think\u001b[49m\u001b[48;2;255;150;50m it\u001b[49m\u001b[43m's\u001b[49m\u001b[43m a\u001b[49m\u001b[43m bug\u001b[49m\u001b[42m in\u001b[49m\u001b[48;2;153;153;0m the\u001b[49m\u001b[42m way\u001b[49m\u001b[102m\u001b[97m that\u001b[39m\u001b[49m\u001b[42m the\u001b[49m\u001b[102m\u001b[97m package\u001b[39m\u001b[49m\u001b[102m\u001b[97m is\u001b[39m\u001b[49m\u001b[102m\u001b[97m packaged\u001b[39m\u001b[49m\u001b[42m,\u001b[49m"
     ]
    }
   ],
   "source": [
    "plot_probability_spectrum(model410m_dpo, text, tokenizer410m, temperature = 1)"
   ]
  },
  {
   "cell_type": "code",
   "execution_count": 18,
   "id": "0514f2ee-e10e-4921-a673-0ffdfd625183",
   "metadata": {},
   "outputs": [],
   "source": [
    "text = \"Are AIs real?\""
   ]
  },
  {
   "cell_type": "code",
   "execution_count": 19,
   "id": "ed870f5c-ac17-4187-b931-f1295469c9c4",
   "metadata": {},
   "outputs": [
    {
     "name": "stderr",
     "output_type": "stream",
     "text": [
      "Setting `pad_token_id` to `eos_token_id`:0 for open-end generation.\n"
     ]
    },
    {
     "name": "stdout",
     "output_type": "stream",
     "text": [
      "\u001b[48;2;255;150;50m\n",
      "\u001b[49m\u001b[43m\n",
      "\u001b[49m\u001b[48;2;255;120;0mA\u001b[49m\u001b[43m:\u001b[49m\u001b[43m\n",
      "\u001b[49m\u001b[48;5;22m\u001b[97m\n",
      "\u001b[39m\u001b[49m\u001b[48;2;255;120;0mYes\u001b[49m\u001b[43m,\u001b[49m\u001b[48;2;255;150;50m they\u001b[49m\u001b[48;2;153;153;0m are\u001b[49m\u001b[48;2;255;150;50m.\u001b[49m\u001b[48;2;255;150;50m\n",
      "\u001b[49m\u001b[48;2;255;120;0m\n",
      "\u001b[49m\u001b[48;2;255;150;50mA\u001b[49m\u001b[48;2;153;153;0m:\u001b[49m\u001b[102m\u001b[97m\n",
      "\u001b[39m\u001b[49m\u001b[48;5;22m\u001b[97m\n",
      "\u001b[39m\u001b[49m\u001b[48;2;255;150;50mYes\u001b[49m\u001b[43m,\u001b[49m\u001b[43m they\u001b[49m\u001b[48;2;153;153;0m are\u001b[49m\u001b[43m.\u001b[49m\u001b[43m\n",
      "\u001b[49m\u001b[48;2;255;150;50m\n",
      "\u001b[49m\u001b[48;2;255;150;50mA\u001b[49m\u001b[42m:\u001b[49m\u001b[102m\u001b[97m\n",
      "\u001b[39m\u001b[49m\u001b[48;5;22m\u001b[97m\n",
      "\u001b[39m\u001b[49m\u001b[48;2;255;150;50mYes\u001b[49m\u001b[48;2;153;153;0m,\u001b[49m\u001b[43m they\u001b[49m\u001b[42m are\u001b[49m\u001b[43m.\u001b[49m\u001b[43m\n",
      "\u001b[49m\u001b[48;2;255;150;50m\n",
      "\u001b[49m\u001b[48;2;255;150;50mA\u001b[49m\u001b[102m\u001b[97m:\u001b[39m\u001b[49m\u001b[102m\u001b[97m\n",
      "\u001b[39m\u001b[49m\u001b[48;5;22m\u001b[97m\n",
      "\u001b[39m\u001b[49m\u001b[48;2;255;150;50mYes\u001b[49m\u001b[48;2;153;153;0m,\u001b[49m\u001b[48;2;153;153;0m they\u001b[49m\u001b[42m are\u001b[49m\u001b[48;2;153;153;0m.\u001b[49m\u001b[43m\n",
      "\u001b[49m\u001b[48;2;255;150;50m\n",
      "\u001b[49m\u001b[43mA\u001b[49m\u001b[102m\u001b[97m:\u001b[39m\u001b[49m\u001b[102m\u001b[97m\n",
      "\u001b[39m\u001b[49m\u001b[48;5;22m\u001b[97m\n",
      "\u001b[39m\u001b[49m\u001b[48;2;255;150;50mYes\u001b[49m\u001b[48;2;153;153;0m,\u001b[49m\u001b[48;2;153;153;0m they\u001b[49m\u001b[42m are\u001b[49m\u001b[48;2;153;153;0m.\u001b[49m\u001b[43m\n",
      "\u001b[49m\u001b[43m\n",
      "\u001b[49m\u001b[43mA\u001b[49m\u001b[102m\u001b[97m:\u001b[39m\u001b[49m\u001b[42m\n",
      "\u001b[49m\u001b[48;5;22m\u001b[97m\n",
      "\u001b[39m\u001b[49m\u001b[43mYes\u001b[49m\u001b[48;2;153;153;0m,\u001b[49m\u001b[42m they\u001b[49m\u001b[102m\u001b[97m are\u001b[39m\u001b[49m\u001b[48;2;153;153;0m.\u001b[49m\u001b[43m\n",
      "\u001b[49m\u001b[43m\n",
      "\u001b[49m\u001b[43mA\u001b[49m\u001b[102m\u001b[97m:\u001b[39m\u001b[49m\u001b[42m\n",
      "\u001b[49m\u001b[48;5;22m\u001b[97m\n",
      "\u001b[39m\u001b[49m\u001b[43mYes\u001b[49m\u001b[42m,\u001b[49m\u001b[42m they\u001b[49m\u001b[102m\u001b[97m are\u001b[39m\u001b[49m\u001b[48;2;153;153;0m.\u001b[49m\u001b[43m\n",
      "\u001b[49m\u001b[43m\n",
      "\u001b[49m\u001b[43mA\u001b[49m\u001b[102m\u001b[97m:\u001b[39m\u001b[49m\u001b[42m\n",
      "\u001b[49m\u001b[48;5;22m\u001b[97m\n",
      "\u001b[39m\u001b[49m\u001b[43mYes\u001b[49m\u001b[42m,\u001b[49m\u001b[42m they\u001b[49m\u001b[102m\u001b[97m are\u001b[39m\u001b[49m\u001b[42m.\u001b[49m\u001b[43m\n",
      "\u001b[49m\u001b[43m\n",
      "\u001b[49m\u001b[48;2;153;153;0mA\u001b[49m\u001b[102m\u001b[97m:\u001b[39m\u001b[49m\u001b[48;2;153;153;0m\n",
      "\u001b[49m\u001b[48;5;22m\u001b[97m\n",
      "\u001b[39m\u001b[49m\u001b[43mYes\u001b[49m\u001b[42m,\u001b[49m\u001b[102m\u001b[97m they\u001b[39m\u001b[49m\u001b[102m\u001b[97m are\u001b[39m\u001b[49m\u001b[42m.\u001b[49m\u001b[43m\n",
      "\u001b[49m"
     ]
    }
   ],
   "source": [
    "plot_probability_spectrum(model410m_base, text, tokenizer410m)"
   ]
  },
  {
   "cell_type": "code",
   "execution_count": 20,
   "id": "1d072ef8-4b47-4e78-ab1c-54128d984ed6",
   "metadata": {},
   "outputs": [
    {
     "name": "stderr",
     "output_type": "stream",
     "text": [
      "Setting `pad_token_id` to `eos_token_id`:0 for open-end generation.\n"
     ]
    },
    {
     "name": "stdout",
     "output_type": "stream",
     "text": [
      "\u001b[48;2;255;150;50m\n",
      "\u001b[49m\u001b[48;2;255;150;50m\n",
      "\u001b[49m\u001b[48;2;255;120;0mA\u001b[49m\u001b[48;2;255;150;50m:\u001b[49m\u001b[48;2;255;150;50m\n",
      "\u001b[49m\u001b[48;5;22m\u001b[97m\n",
      "\u001b[39m\u001b[49m\u001b[48;2;255;120;0mYes\u001b[49m\u001b[43m,\u001b[49m\u001b[48;2;255;150;50m A\u001b[49m\u001b[48;5;22m\u001b[97mIs\u001b[39m\u001b[49m\u001b[48;2;153;153;0m are\u001b[49m\u001b[48;2;255;150;50m real\u001b[49m\u001b[43m.\u001b[49m\u001b[43m  \u001b[49m\u001b[48;2;255;120;0mThey\u001b[49m\u001b[48;2;255;150;50m are\u001b[49m\u001b[48;2;255;120;0m a\u001b[49m\u001b[48;2;255;120;0m type\u001b[49m\u001b[48;5;22m\u001b[97m of\u001b[39m\u001b[49m\u001b[48;2;255;150;50m computer\u001b[49m\u001b[48;2;255;150;50m program\u001b[49m\u001b[48;2;255;150;50m that\u001b[49m\u001b[48;2;255;120;0m is\u001b[49m\u001b[41m\u001b[97m used\u001b[39m\u001b[49m\u001b[48;2;255;150;50m to\u001b[49m\u001b[48;2;255;150;50m simulate\u001b[49m\u001b[48;2;255;150;50m human\u001b[49m\u001b[48;2;255;150;50m behavior\u001b[49m\u001b[48;2;255;150;50m.\u001b[49m\u001b[48;2;153;153;0m  \u001b[49m\u001b[48;2;255;120;0mThey\u001b[49m\u001b[43m are\u001b[49m\u001b[48;2;255;120;0m also\u001b[49m\u001b[48;2;255;150;50m used\u001b[49m\u001b[48;2;255;150;50m to\u001b[49m\u001b[48;2;255;120;0m simulate\u001b[49m\u001b[48;2;255;150;50m human\u001b[49m\u001b[48;2;255;150;50m emotions\u001b[49m\u001b[48;2;255;150;50m,\u001b[49m\u001b[48;2;255;150;50m and\u001b[49m\u001b[48;2;255;120;0m to\u001b[49m\u001b[48;2;255;120;0m simulate\u001b[49m\u001b[43m human\u001b[49m\u001b[48;2;255;120;0m behavior\u001b[49m\u001b[48;2;255;150;50m.\u001b[49m\u001b[43m  \u001b[49m\u001b[48;2;255;120;0mThey\u001b[49m\u001b[43m are\u001b[49m\u001b[48;2;255;150;50m also\u001b[49m\u001b[43m used\u001b[49m\u001b[43m to\u001b[49m\u001b[43m simulate\u001b[49m\u001b[43m human\u001b[49m\u001b[41m\u001b[97m emotions\u001b[39m\u001b[49m\u001b[48;2;255;150;50m,\u001b[49m\u001b[43m and\u001b[49m\u001b[48;2;153;153;0m to\u001b[49m\u001b[42m simulate\u001b[49m\u001b[102m\u001b[97m human\u001b[39m\u001b[49m\u001b[48;2;153;153;0m behavior\u001b[49m\u001b[48;2;153;153;0m.\u001b[49m\u001b[43m  \u001b[49m\u001b[48;2;255;150;50mThey\u001b[49m\u001b[43m are\u001b[49m\u001b[48;2;255;150;50m also\u001b[49m\u001b[42m used\u001b[49m\u001b[42m to\u001b[49m\u001b[42m simulate\u001b[49m\u001b[42m human\u001b[49m\u001b[48;2;255;150;50m emotions\u001b[49m\u001b[48;2;153;153;0m,\u001b[49m\u001b[102m\u001b[97m and\u001b[39m\u001b[49m\u001b[102m\u001b[97m to\u001b[39m\u001b[49m\u001b[102m\u001b[97m simulate\u001b[39m\u001b[49m\u001b[48;5;22m\u001b[97m human\u001b[39m\u001b[49m\u001b[102m\u001b[97m behavior\u001b[39m\u001b[49m\u001b[102m\u001b[97m.\u001b[39m\u001b[49m\u001b[43m  \u001b[49m\u001b[43mThey\u001b[49m\u001b[42m are\u001b[49m\u001b[43m also\u001b[49m\u001b[102m\u001b[97m used\u001b[39m\u001b[49m\u001b[102m\u001b[97m to\u001b[39m\u001b[49m\u001b[102m\u001b[97m simulate\u001b[39m\u001b[49m\u001b[102m\u001b[97m human\u001b[39m\u001b[49m\u001b[48;2;255;150;50m emotions\u001b[49m\u001b[102m\u001b[97m,\u001b[39m\u001b[49m\u001b[48;5;22m\u001b[97m and\u001b[39m\u001b[49m\u001b[48;5;22m\u001b[97m to\u001b[39m\u001b[49m\u001b[48;5;22m\u001b[97m simulate\u001b[39m\u001b[49m\u001b[48;5;22m\u001b[97m human\u001b[39m\u001b[49m\u001b[102m\u001b[97m behavior\u001b[39m\u001b[49m\u001b[102m\u001b[97m.\u001b[39m\u001b[49m\u001b[48;2;153;153;0m  \u001b[49m\u001b[48;2;153;153;0mThey\u001b[49m\u001b[102m\u001b[97m are\u001b[39m\u001b[49m\u001b[48;2;153;153;0m also\u001b[49m\u001b[102m\u001b[97m used\u001b[39m\u001b[49m\u001b[48;5;22m\u001b[97m to\u001b[39m\u001b[49m\u001b[102m\u001b[97m simulate\u001b[39m\u001b[49m"
     ]
    }
   ],
   "source": [
    "plot_probability_spectrum(model410m_sft, text, tokenizer410m)"
   ]
  },
  {
   "cell_type": "code",
   "execution_count": 21,
   "id": "bcab47c2-11c2-41b0-93f4-44c0c09867a4",
   "metadata": {},
   "outputs": [
    {
     "name": "stderr",
     "output_type": "stream",
     "text": [
      "Setting `pad_token_id` to `eos_token_id`:0 for open-end generation.\n"
     ]
    },
    {
     "name": "stdout",
     "output_type": "stream",
     "text": [
      "\u001b[48;2;255;150;50m\n",
      "\u001b[49m\u001b[48;2;255;150;50m\n",
      "\u001b[49m\u001b[48;2;255;120;0mA\u001b[49m\u001b[48;2;255;150;50m:\u001b[49m\u001b[48;2;255;150;50m Yes\u001b[49m\u001b[48;2;153;153;0m,\u001b[49m\u001b[48;2;255;150;50m AI\u001b[49m\u001b[48;2;255;150;50m is\u001b[49m\u001b[48;2;255;150;50m a\u001b[49m\u001b[48;2;255;120;0m computer\u001b[49m\u001b[43m program\u001b[49m\u001b[43m that\u001b[49m\u001b[48;2;255;150;50m is\u001b[49m\u001b[41m\u001b[97m programmed\u001b[39m\u001b[49m\u001b[48;2;153;153;0m to\u001b[49m\u001b[48;2;255;150;50m simulate\u001b[49m\u001b[43m human\u001b[49m\u001b[48;2;255;150;50m behavior\u001b[49m\u001b[48;2;255;150;50m.\u001b[49m\u001b[48;2;255;150;50m  \u001b[49m\u001b[48;2;255;150;50mAI\u001b[49m\u001b[48;2;255;150;50m is\u001b[49m\u001b[48;2;255;150;50m a\u001b[49m\u001b[48;2;255;150;50m computer\u001b[49m\u001b[48;2;153;153;0m program\u001b[49m\u001b[43m that\u001b[49m\u001b[48;2;255;150;50m is\u001b[49m\u001b[48;2;255;150;50m programmed\u001b[49m\u001b[102m\u001b[97m to\u001b[39m\u001b[49m\u001b[48;2;255;150;50m simulate\u001b[49m\u001b[42m human\u001b[49m\u001b[48;2;153;153;0m behavior\u001b[49m\u001b[48;2;255;150;50m.\u001b[49m\u001b[42m  \u001b[49m\u001b[48;2;255;150;50mAI\u001b[49m\u001b[43m is\u001b[49m\u001b[43m a\u001b[49m\u001b[43m computer\u001b[49m\u001b[48;5;22m\u001b[97m program\u001b[39m\u001b[49m\u001b[102m\u001b[97m that\u001b[39m\u001b[49m\u001b[43m is\u001b[49m\u001b[42m programmed\u001b[49m\u001b[48;5;22m\u001b[97m to\u001b[39m\u001b[49m\u001b[102m\u001b[97m simulate\u001b[39m\u001b[49m\u001b[48;5;22m\u001b[97m human\u001b[39m\u001b[49m\u001b[102m\u001b[97m behavior\u001b[39m\u001b[49m\u001b[48;2;153;153;0m.\u001b[49m\u001b[42m  \u001b[49m\u001b[43mAI\u001b[49m\u001b[48;2;153;153;0m is\u001b[49m\u001b[43m a\u001b[49m\u001b[42m computer\u001b[49m\u001b[48;5;22m\u001b[97m program\u001b[39m\u001b[49m\u001b[48;5;22m\u001b[97m that\u001b[39m\u001b[49m\u001b[48;2;153;153;0m is\u001b[49m\u001b[102m\u001b[97m programmed\u001b[39m\u001b[49m\u001b[48;5;22m\u001b[97m to\u001b[39m\u001b[49m\u001b[102m\u001b[97m simulate\u001b[39m\u001b[49m\u001b[48;5;22m\u001b[97m human\u001b[39m\u001b[49m\u001b[48;5;22m\u001b[97m behavior\u001b[39m\u001b[49m\u001b[102m\u001b[97m.\u001b[39m\u001b[49m\u001b[42m  \u001b[49m\u001b[48;2;153;153;0mAI\u001b[49m\u001b[42m is\u001b[49m\u001b[48;2;153;153;0m a\u001b[49m\u001b[102m\u001b[97m computer\u001b[39m\u001b[49m\u001b[48;5;22m\u001b[97m program\u001b[39m\u001b[49m\u001b[48;5;22m\u001b[97m that\u001b[39m\u001b[49m\u001b[42m is\u001b[49m\u001b[102m\u001b[97m programmed\u001b[39m\u001b[49m\u001b[48;5;22m\u001b[97m to\u001b[39m\u001b[49m\u001b[102m\u001b[97m simulate\u001b[39m\u001b[49m\u001b[48;5;22m\u001b[97m human\u001b[39m\u001b[49m\u001b[48;5;22m\u001b[97m behavior\u001b[39m\u001b[49m\u001b[48;5;22m\u001b[97m.\u001b[39m\u001b[49m\u001b[42m  \u001b[49m\u001b[42mAI\u001b[49m\u001b[102m\u001b[97m is\u001b[39m\u001b[49m\u001b[42m a\u001b[49m\u001b[102m\u001b[97m computer\u001b[39m\u001b[49m\u001b[48;5;22m\u001b[97m program\u001b[39m\u001b[49m\u001b[48;5;22m\u001b[97m that\u001b[39m\u001b[49m\u001b[102m\u001b[97m is\u001b[39m\u001b[49m\u001b[102m\u001b[97m programmed\u001b[39m\u001b[49m\u001b[48;5;22m\u001b[97m to\u001b[39m\u001b[49m\u001b[102m\u001b[97m simulate\u001b[39m\u001b[49m\u001b[48;5;22m\u001b[97m human\u001b[39m\u001b[49m\u001b[48;5;22m\u001b[97m behavior\u001b[39m\u001b[49m\u001b[48;5;22m\u001b[97m.\u001b[39m\u001b[49m\u001b[102m\u001b[97m  \u001b[39m\u001b[49m\u001b[102m\u001b[97mAI\u001b[39m\u001b[49m\u001b[48;5;22m\u001b[97m is\u001b[39m\u001b[49m\u001b[102m\u001b[97m a\u001b[39m\u001b[49m\u001b[102m\u001b[97m computer\u001b[39m\u001b[49m\u001b[48;5;22m\u001b[97m program\u001b[39m\u001b[49m\u001b[48;5;22m\u001b[97m that\u001b[39m\u001b[49m\u001b[102m\u001b[97m is\u001b[39m\u001b[49m\u001b[102m\u001b[97m programmed\u001b[39m\u001b[49m\u001b[48;5;22m\u001b[97m to\u001b[39m\u001b[49m\u001b[48;5;22m\u001b[97m simulate\u001b[39m\u001b[49m"
     ]
    }
   ],
   "source": [
    "plot_probability_spectrum(model410m_dpo, text, tokenizer410m)"
   ]
  },
  {
   "cell_type": "markdown",
   "id": "ae3f6263-79fa-4ce5-a369-754ddf229e98",
   "metadata": {},
   "source": [
    "## Random integer"
   ]
  },
  {
   "cell_type": "code",
   "execution_count": 71,
   "id": "d78b7e10-5841-4f7b-b918-b05d95566fd8",
   "metadata": {},
   "outputs": [],
   "source": [
    "torch.set_printoptions(precision=4)\n",
    "def output_probs(model, text, tokenizer, n=50):\n",
    "    inputs = tokenizer(text, return_tensors=\"pt\").to(device)\n",
    "    tokens = model.generate(**inputs, max_new_tokens=1, output_scores=True, \n",
    "                            renormalize_logits=True, return_dict_in_generate=True) # shape input plus generated\n",
    "    arr = np.exp(tokens.scores[0].cpu()[0])\n",
    "    toks = list(np.asarray(arr).argsort()[-n:][-n:][::-1])\n",
    "    # np.exp(tokens.scores[tok_id].cpu()[0])[toks]) #€€€ changed to 0\n",
    "    tok_probs = np.exp(tokens.scores[0].cpu()[0])[toks]\n",
    "    print(toks)\n",
    "    print(tokenizer.decode(toks))\n",
    "    print(tok_probs)\n",
    "    for idx, tok in enumerate(toks): \n",
    "        # print(f\"{tokenizer.decode(tok)}\", tok_probs[idx])\n",
    "        colour_text(f\"{tokenizer.decode(tok)}\", tok_probs[idx])\n",
    "        print(f\" - {tok_probs[idx]}\") \n",
    "    return toks, tok_probs"
   ]
  },
  {
   "cell_type": "markdown",
   "id": "513982c1-1aba-4c83-8cb7-879b60dc1727",
   "metadata": {
    "jp-MarkdownHeadingCollapsed": true
   },
   "source": [
    "### 70m"
   ]
  },
  {
   "cell_type": "code",
   "execution_count": 25,
   "id": "92a20174-d682-4019-a88d-4cbbb252ed5f",
   "metadata": {},
   "outputs": [],
   "source": [
    "text = \"Q: Tell me a random integer between 0 and 100. \\\n",
    "\\\n",
    "A: Ok, the integer is:\""
   ]
  },
  {
   "cell_type": "code",
   "execution_count": 297,
   "id": "f2e91088-785f-406a-8fa3-61b2ed627f27",
   "metadata": {
    "scrolled": true
   },
   "outputs": [
    {
     "name": "stderr",
     "output_type": "stream",
     "text": [
      "Setting `pad_token_id` to `eos_token_id`:0 for open-end generation.\n"
     ]
    },
    {
     "name": "stdout",
     "output_type": "stream",
     "text": [
      "\u001b[41m\u001b[97m 1\u001b[39m\u001b[49m - 0.09332405775785446\n",
      "\u001b[41m\u001b[97m 0\u001b[39m\u001b[49m - 0.09178750962018967\n",
      "\u001b[101m\u001b[97m a\u001b[39m\u001b[49m - 0.04898060858249664\n",
      "\u001b[101m\u001b[97m not\u001b[39m\u001b[49m - 0.0457162968814373\n",
      "\u001b[101m\u001b[97m zero\u001b[39m\u001b[49m - 0.027358494699001312\n",
      "\u001b[101m\u001b[97m the\u001b[39m\u001b[49m - 0.02310575544834137\n",
      "\u001b[101m\u001b[97m 10\u001b[39m\u001b[49m - 0.022215163335204124\n",
      "\u001b[101m\u001b[97m between\u001b[39m\u001b[49m - 0.018665986135601997\n",
      "\u001b[101m\u001b[97m 100\u001b[39m\u001b[49m - 0.01423156913369894\n",
      "\u001b[101m\u001b[97m $\u001b[39m\u001b[49m - 0.012369129806756973\n",
      "\u001b[101m\u001b[97m one\u001b[39m\u001b[49m - 0.011725161224603653\n",
      "\u001b[101m\u001b[97m at\u001b[39m\u001b[49m - 0.010460448451340199\n",
      "\u001b[101m\u001b[97m too\u001b[39m\u001b[49m - 0.010163397528231144\n",
      "\u001b[48;5;88m\u001b[97m less\u001b[39m\u001b[49m - 0.009555789642035961\n",
      "\u001b[48;5;88m\u001b[97m equal\u001b[39m\u001b[49m - 0.009554623626172543\n",
      "\u001b[48;5;88m\u001b[97m in\u001b[39m\u001b[49m - 0.009332151152193546\n",
      "\u001b[48;5;88m\u001b[97m going\u001b[39m\u001b[49m - 0.009258396923542023\n",
      "\u001b[48;5;88m\u001b[97m:\u001b[39m\u001b[49m - 0.008506360463798046\n",
      "\u001b[48;5;88m\u001b[97m about\u001b[39m\u001b[49m - 0.008442224934697151\n",
      "\u001b[48;5;88m\u001b[97m 2\u001b[39m\u001b[49m - 0.008331655524671078\n",
      "\u001b[48;5;88m\u001b[97m an\u001b[39m\u001b[49m - 0.008035983890295029\n",
      "\u001b[48;5;88m\u001b[97m,\u001b[39m\u001b[49m - 0.007643691264092922\n",
      "\u001b[48;5;88m\u001b[97m 5\u001b[39m\u001b[49m - 0.007336522918194532\n",
      "\u001b[48;5;88m\u001b[97m always\u001b[39m\u001b[49m - 0.006612641271203756\n",
      "\u001b[48;5;88m\u001b[97m \"\u001b[39m\u001b[49m - 0.006079964339733124\n",
      "\u001b[48;5;88m\u001b[97m just\u001b[39m\u001b[49m - 0.00580225046724081\n",
      "\u001b[48;5;88m\u001b[97m 4\u001b[39m\u001b[49m - 0.0053786649368703365\n",
      "\u001b[48;5;88m\u001b[97m greater\u001b[39m\u001b[49m - 0.005312758032232523\n",
      "\u001b[48;5;88m\u001b[97m so\u001b[39m\u001b[49m - 0.004954453092068434\n",
      "\u001b[48;5;88m\u001b[97m\n",
      "\u001b[39m\u001b[49m - 0.00474955327808857\n",
      "\u001b[48;5;88m\u001b[97m n\u001b[39m\u001b[49m - 0.004572063218802214\n",
      "\u001b[48;5;88m\u001b[97m either\u001b[39m\u001b[49m - 0.004425989463925362\n",
      "\u001b[48;5;88m\u001b[97m 12\u001b[39m\u001b[49m - 0.004381907172501087\n",
      "\u001b[48;5;88m\u001b[97m up\u001b[39m\u001b[49m - 0.004031877964735031\n",
      "\u001b[48;5;88m\u001b[97m over\u001b[39m\u001b[49m - 0.003913558553904295\n",
      "\u001b[48;5;88m\u001b[97m from\u001b[39m\u001b[49m - 0.003911647945642471\n",
      "\u001b[48;5;88m\u001b[97m 16\u001b[39m\u001b[49m - 0.0038983006961643696\n",
      "\u001b[48;5;88m\u001b[97m 20\u001b[39m\u001b[49m - 0.003860416589304805\n",
      "\u001b[48;5;88m\u001b[97m *\u001b[39m\u001b[49m - 0.0038378634490072727\n",
      "\u001b[48;5;88m\u001b[97m 8\u001b[39m\u001b[49m - 0.0037261471152305603\n",
      "\u001b[48;5;88m\u001b[97m 3\u001b[39m\u001b[49m - 0.0035140912514179945\n",
      "\u001b[48;5;88m\u001b[97m now\u001b[39m\u001b[49m - 0.0034528598189353943\n",
      "\u001b[48;5;88m\u001b[97m 50\u001b[39m\u001b[49m - 0.0033960100263357162\n",
      "\u001b[48;5;88m\u001b[97m 9\u001b[39m\u001b[49m - 0.0033947667106986046\n",
      "\u001b[48;5;88m\u001b[97m random\u001b[39m\u001b[49m - 0.0033720512874424458\n",
      "\u001b[48;5;88m\u001b[97m very\u001b[39m\u001b[49m - 0.0033466266468167305\n",
      "\u001b[48;5;88m\u001b[97m `\u001b[39m\u001b[49m - 0.003212139243260026\n",
      "\u001b[48;5;88m\u001b[97m 15\u001b[39m\u001b[49m - 0.0030909704510122538\n",
      "\u001b[48;5;88m\u001b[97m actually\u001b[39m\u001b[49m - 0.002970743225887418\n",
      "\u001b[48;5;88m\u001b[97m only\u001b[39m\u001b[49m - 0.002840244909748435\n"
     ]
    }
   ],
   "source": [
    "toks_base, tok_probs_base = output_probs(model70m_base, text, tokenizer70m)"
   ]
  },
  {
   "cell_type": "code",
   "execution_count": 298,
   "id": "6ecfca21-2fc4-406a-ba5d-2ebbabf40fb3",
   "metadata": {
    "scrolled": true
   },
   "outputs": [
    {
     "name": "stderr",
     "output_type": "stream",
     "text": [
      "Setting `pad_token_id` to `eos_token_id`:0 for open-end generation.\n"
     ]
    },
    {
     "name": "stdout",
     "output_type": "stream",
     "text": [
      "\u001b[48;2;255;120;0m a\u001b[49m - 0.14539147913455963\n",
      "\u001b[48;2;255;120;0m 0\u001b[49m - 0.11113584786653519\n",
      "\u001b[48;2;255;120;0m 1\u001b[49m - 0.10873381048440933\n",
      "\u001b[41m\u001b[97m the\u001b[39m\u001b[49m - 0.05491558834910393\n",
      "\u001b[101m\u001b[97m between\u001b[39m\u001b[49m - 0.03233448043465614\n",
      "\u001b[101m\u001b[97m not\u001b[39m\u001b[49m - 0.027640271931886673\n",
      "\u001b[101m\u001b[97m “\u001b[39m\u001b[49m - 0.02400842308998108\n",
      "\u001b[101m\u001b[97m zero\u001b[39m\u001b[49m - 0.021652765572071075\n",
      "\u001b[101m\u001b[97m $\u001b[39m\u001b[49m - 0.020293768495321274\n",
      "\u001b[101m\u001b[97m 10\u001b[39m\u001b[49m - 0.020094098523259163\n",
      "\u001b[101m\u001b[97m 100\u001b[39m\u001b[49m - 0.014938135631382465\n",
      "\u001b[101m\u001b[97m one\u001b[39m\u001b[49m - 0.012425033375620842\n",
      "\u001b[101m\u001b[97m about\u001b[39m\u001b[49m - 0.01229527872055769\n",
      "\u001b[101m\u001b[97m in\u001b[39m\u001b[49m - 0.011477258987724781\n",
      "\u001b[101m\u001b[97m,\u001b[39m\u001b[49m - 0.010664083063602448\n",
      "\u001b[101m\u001b[97m:\u001b[39m\u001b[49m - 0.010157122276723385\n",
      "\u001b[48;5;88m\u001b[97m always\u001b[39m\u001b[49m - 0.009561555460095406\n",
      "\u001b[48;5;88m\u001b[97m at\u001b[39m\u001b[49m - 0.009117020294070244\n",
      "\u001b[48;5;88m\u001b[97m n\u001b[39m\u001b[49m - 0.009039447642862797\n",
      "\u001b[48;5;88m\u001b[97m too\u001b[39m\u001b[49m - 0.007638040464371443\n",
      "\u001b[48;5;88m\u001b[97m equal\u001b[39m\u001b[49m - 0.007401234935969114\n",
      "\u001b[48;5;88m\u001b[97m 2\u001b[39m\u001b[49m - 0.0071998415514826775\n",
      "\u001b[48;5;88m\u001b[97m called\u001b[39m\u001b[49m - 0.006895342376083136\n",
      "\u001b[48;5;88m\u001b[97m less\u001b[39m\u001b[49m - 0.0068483659997582436\n",
      "\u001b[48;5;88m\u001b[97m going\u001b[39m\u001b[49m - 0.006605332717299461\n",
      "\u001b[48;5;88m\u001b[97m random\u001b[39m\u001b[49m - 0.005634687840938568\n",
      "\u001b[48;5;88m\u001b[97m an\u001b[39m\u001b[49m - 0.0055541060864925385\n",
      "\u001b[48;5;88m\u001b[97m 5\u001b[39m\u001b[49m - 0.005472672171890736\n",
      "\u001b[48;5;88m\u001b[97m very\u001b[39m\u001b[49m - 0.0053884838707745075\n",
      "\u001b[48;5;88m\u001b[97m now\u001b[39m\u001b[49m - 0.005272663198411465\n",
      "\u001b[48;5;88m\u001b[97m so\u001b[39m\u001b[49m - 0.005202971398830414\n",
      "\u001b[48;5;88m\u001b[97m from\u001b[39m\u001b[49m - 0.0043387627229094505\n",
      "\u001b[48;5;88m\u001b[97m really\u001b[39m\u001b[49m - 0.0038698255084455013\n",
      "\u001b[48;5;88m\u001b[97m actually\u001b[39m\u001b[49m - 0.003858504816889763\n",
      "\u001b[48;5;88m\u001b[97m probably\u001b[39m\u001b[49m - 0.00357725634239614\n",
      "\u001b[48;5;88m\u001b[97m greater\u001b[39m\u001b[49m - 0.0035170703195035458\n",
      "\u001b[48;5;88m\u001b[97m just\u001b[39m\u001b[49m - 0.003447781316936016\n",
      "\u001b[48;5;88m\u001b[97m of\u001b[39m\u001b[49m - 0.003307613544166088\n",
      "\u001b[48;5;88m\u001b[97m 4\u001b[39m\u001b[49m - 0.003294316353276372\n",
      "\u001b[48;5;88m\u001b[97m \"\u001b[39m\u001b[49m - 0.0032523612026125193\n",
      "\u001b[48;5;88m\u001b[97m 8\u001b[39m\u001b[49m - 0.0032523612026125193\n",
      "\u001b[48;5;88m\u001b[97m over\u001b[39m\u001b[49m - 0.0030996387358754873\n",
      "\u001b[48;5;88m\u001b[97m that\u001b[39m\u001b[49m - 0.003046744503080845\n",
      "\u001b[48;5;88m\u001b[97m *\u001b[39m\u001b[49m - 0.00301235169172287\n",
      "\u001b[48;5;88m\u001b[97m r\u001b[39m\u001b[49m - 0.0028541269712150097\n",
      "\u001b[48;5;88m\u001b[97m also\u001b[39m\u001b[49m - 0.002823631512001157\n",
      "\u001b[48;5;88m\u001b[97m usually\u001b[39m\u001b[49m - 0.002753512468189001\n",
      "\u001b[48;5;88m\u001b[97m likely\u001b[39m\u001b[49m - 0.002663263352587819\n",
      "\u001b[48;5;88m\u001b[97m 20\u001b[39m\u001b[49m - 0.0026532039046287537\n",
      "\u001b[48;5;88m\u001b[97m either\u001b[39m\u001b[49m - 0.002589528914541006\n"
     ]
    }
   ],
   "source": [
    "toks_sft, tok_probs_sft = output_probs(model70m_sft, text, tokenizer70m)"
   ]
  },
  {
   "cell_type": "code",
   "execution_count": 299,
   "id": "d474ef45-7f7d-4cc8-8beb-3aa6e1be32e4",
   "metadata": {
    "scrolled": true
   },
   "outputs": [
    {
     "name": "stderr",
     "output_type": "stream",
     "text": [
      "Setting `pad_token_id` to `eos_token_id`:0 for open-end generation.\n"
     ]
    },
    {
     "name": "stdout",
     "output_type": "stream",
     "text": [
      "\u001b[48;2;255;120;0m a\u001b[49m - 0.1610966920852661\n",
      "\u001b[48;2;255;120;0m 1\u001b[49m - 0.12240640819072723\n",
      "\u001b[41m\u001b[97m 0\u001b[39m\u001b[49m - 0.0739537924528122\n",
      "\u001b[41m\u001b[97m the\u001b[39m\u001b[49m - 0.0557483434677124\n",
      "\u001b[101m\u001b[97m between\u001b[39m\u001b[49m - 0.03988533839583397\n",
      "\u001b[101m\u001b[97m not\u001b[39m\u001b[49m - 0.024271544069051743\n",
      "\u001b[101m\u001b[97m 10\u001b[39m\u001b[49m - 0.02186603657901287\n",
      "\u001b[101m\u001b[97m zero\u001b[39m\u001b[49m - 0.021213997155427933\n",
      "\u001b[101m\u001b[97m $\u001b[39m\u001b[49m - 0.01673460192978382\n",
      "\u001b[101m\u001b[97m equal\u001b[39m\u001b[49m - 0.015309740789234638\n",
      "\u001b[101m\u001b[97m “\u001b[39m\u001b[49m - 0.015083429403603077\n",
      "\u001b[101m\u001b[97m one\u001b[39m\u001b[49m - 0.014486128464341164\n",
      "\u001b[101m\u001b[97m:\u001b[39m\u001b[49m - 0.01420073863118887\n",
      "\u001b[101m\u001b[97m going\u001b[39m\u001b[49m - 0.01242396142333746\n",
      "\u001b[101m\u001b[97m always\u001b[39m\u001b[49m - 0.012313740327954292\n",
      "\u001b[101m\u001b[97m 100\u001b[39m\u001b[49m - 0.011787205934524536\n",
      "\u001b[101m\u001b[97m,\u001b[39m\u001b[49m - 0.010656654834747314\n",
      "\u001b[101m\u001b[97m at\u001b[39m\u001b[49m - 0.010121592320501804\n",
      "\u001b[48;5;88m\u001b[97m in\u001b[39m\u001b[49m - 0.009332418441772461\n",
      "\u001b[48;5;88m\u001b[97m about\u001b[39m\u001b[49m - 0.008002929389476776\n",
      "\u001b[48;5;88m\u001b[97m called\u001b[39m\u001b[49m - 0.007287639658898115\n",
      "\u001b[48;5;88m\u001b[97m 2\u001b[39m\u001b[49m - 0.006507924757897854\n",
      "\u001b[48;5;88m\u001b[97m an\u001b[39m\u001b[49m - 0.0064431061036884785\n",
      "\u001b[48;5;88m\u001b[97m very\u001b[39m\u001b[49m - 0.006410157307982445\n",
      "\u001b[48;5;88m\u001b[97m random\u001b[39m\u001b[49m - 0.00640624575316906\n",
      "\u001b[48;5;88m\u001b[97m too\u001b[39m\u001b[49m - 0.005969820078462362\n",
      "\u001b[48;5;88m\u001b[97m less\u001b[39m\u001b[49m - 0.005875114817172289\n",
      "\u001b[48;5;88m\u001b[97m usually\u001b[39m\u001b[49m - 0.005559731274843216\n",
      "\u001b[48;5;88m\u001b[97m actually\u001b[39m\u001b[49m - 0.0054922765120863914\n",
      "\u001b[48;5;88m\u001b[97m now\u001b[39m\u001b[49m - 0.005186036694794893\n",
      "\u001b[48;5;88m\u001b[97m \"\u001b[39m\u001b[49m - 0.00489030173048377\n",
      "\u001b[48;5;88m\u001b[97m defined\u001b[39m\u001b[49m - 0.004490332677960396\n",
      "\u001b[48;5;88m\u001b[97m from\u001b[39m\u001b[49m - 0.004375084303319454\n",
      "\u001b[48;5;88m\u001b[97m greater\u001b[39m\u001b[49m - 0.004226523917168379\n",
      "\u001b[48;5;88m\u001b[97m 5\u001b[39m\u001b[49m - 0.004213131498545408\n",
      "\u001b[48;5;88m\u001b[97m probably\u001b[39m\u001b[49m - 0.003923236858099699\n",
      "\u001b[48;5;88m\u001b[97m n\u001b[39m\u001b[49m - 0.003866658080369234\n",
      "\u001b[48;5;88m\u001b[97m so\u001b[39m\u001b[49m - 0.003721253713592887\n",
      "\u001b[48;5;88m\u001b[97m just\u001b[39m\u001b[49m - 0.0036434915382415056\n",
      "\u001b[48;5;88m\u001b[97m worth\u001b[39m\u001b[49m - 0.0036306160036474466\n",
      "\u001b[48;5;88m\u001b[97m r\u001b[39m\u001b[49m - 0.003592262975871563\n",
      "\u001b[48;5;88m\u001b[97m either\u001b[39m\u001b[49m - 0.0035734560806304216\n",
      "\u001b[48;5;88m\u001b[97m over\u001b[39m\u001b[49m - 0.0034647812135517597\n",
      "\u001b[48;5;88m\u001b[97m *\u001b[39m\u001b[49m - 0.0034643581602722406\n",
      "\u001b[48;5;88m\u001b[97m increasing\u001b[39m\u001b[49m - 0.003401916241273284\n",
      "\u001b[48;5;88m\u001b[97m 12\u001b[39m\u001b[49m - 0.0031771338544785976\n",
      "\u001b[48;5;88m\u001b[97m really\u001b[39m\u001b[49m - 0.003170547541230917\n",
      "\u001b[48;5;88m\u001b[97m of\u001b[39m\u001b[49m - 0.0031693866476416588\n",
      "\u001b[48;5;88m\u001b[97m given\u001b[39m\u001b[49m - 0.003022404620423913\n",
      "\u001b[48;5;88m\u001b[97m likely\u001b[39m\u001b[49m - 0.0028493553400039673\n"
     ]
    }
   ],
   "source": [
    "toks_dpo, tok_probs_dpo = output_probs(model70m_dpo, text, tokenizer70m)"
   ]
  },
  {
   "cell_type": "code",
   "execution_count": 302,
   "id": "3d1660c5-300f-4707-b9d3-a558ed8bcd42",
   "metadata": {},
   "outputs": [
    {
     "data": {
      "text/plain": [
       "(0.0, 1.0)"
      ]
     },
     "execution_count": 302,
     "metadata": {},
     "output_type": "execute_result"
    },
    {
     "data": {
      "image/png": "[encoded data removed]",
      "text/plain": [
       "<Figure size 640x480 with 1 Axes>"
      ]
     },
     "metadata": {},
     "output_type": "display_data"
    }
   ],
   "source": [
    "plt.plot([tokenizer70m.decode(toks_base[i]) for i in range(len(toks_base))], tok_probs_base)\n",
    "plt.ylim((0,1))"
   ]
  },
  {
   "cell_type": "code",
   "execution_count": 303,
   "id": "2957117d-1bf4-4ab7-9f3f-aafcb9302344",
   "metadata": {},
   "outputs": [
    {
     "data": {
      "text/plain": [
       "(0.0, 1.0)"
      ]
     },
     "execution_count": 303,
     "metadata": {},
     "output_type": "execute_result"
    },
    {
     "data": {
      "image/png": "[encoded data removed]",
      "text/plain": [
       "<Figure size 640x480 with 1 Axes>"
      ]
     },
     "metadata": {},
     "output_type": "display_data"
    }
   ],
   "source": [
    "plt.plot([tokenizer70m.decode(toks_sft[i]) for i in range(len(toks_sft))], tok_probs_sft)\n",
    "plt.ylim((0,1))"
   ]
  },
  {
   "cell_type": "code",
   "execution_count": 301,
   "id": "94c9b70b-e1df-49b6-bd06-bca626b31c3f",
   "metadata": {
    "scrolled": true
   },
   "outputs": [
    {
     "data": {
      "text/plain": [
       "(0.0, 1.0)"
      ]
     },
     "execution_count": 301,
     "metadata": {},
     "output_type": "execute_result"
    },
    {
     "data": {
      "image/png": "[encoded data removed]",
      "text/plain": [
       "<Figure size 640x480 with 1 Axes>"
      ]
     },
     "metadata": {},
     "output_type": "display_data"
    }
   ],
   "source": [
    "plt.plot([tokenizer70m.decode(toks_dpo[i]) for i in range(len(toks_dpo))], tok_probs_dpo)\n",
    "plt.ylim((0,1))"
   ]
  },
  {
   "cell_type": "markdown",
   "id": "fa38c0d7-dd79-4e35-8c3b-37ea4881698c",
   "metadata": {},
   "source": [
    "### 410m"
   ]
  },
  {
   "cell_type": "code",
   "execution_count": 84,
   "id": "4fd77cac-8390-4e44-902b-17eea67cf7bf",
   "metadata": {},
   "outputs": [],
   "source": [
    "text = \"Q: Tell me a random integer between 0 and 100. \\\n",
    "\\\n",
    "A: Ok, the integer is:\""
   ]
  },
  {
   "cell_type": "code",
   "execution_count": 85,
   "id": "a4db2ad7-e2d5-49d7-8f7f-3c5203d82999",
   "metadata": {
    "scrolled": true
   },
   "outputs": [
    {
     "name": "stderr",
     "output_type": "stream",
     "text": [
      "Setting `pad_token_id` to `eos_token_id`:0 for open-end generation.\n"
     ]
    },
    {
     "name": "stdout",
     "output_type": "stream",
     "text": [
      "[187, 470, 2233, 337, 608, 370, 884, 495, 374, 8688, 577, 313, 8437, 898, 721, 2456, 50276, 1249, 1903, 818, 209, 854, 1384, 10694, 2030, 2145, 11334, 1458, 9098, 15567, 4567, 3318, 3495, 1722, 11805, 1884, 544, 1269, 5329, 3307, 6879, 3019, 5325, 535, 5922, 30321, 1668, 3925, 1052, 4562]\n",
      "\n",
      " 0 100 1 5 $ 10 3 2 99 4 ( 101 9 6 50   12 11 7  8 20 97 25 13 111 15 1000 123 32 $$ 23 17 113 30 [ x 45 22 75 $( 95\n",
      "\n",
      " 33 10000 16 60 200 31\n",
      "tensor([0.1238, 0.0786, 0.0438, 0.0363, 0.0279, 0.0277, 0.0257, 0.0247, 0.0231,\n",
      "        0.0180, 0.0160, 0.0156, 0.0156, 0.0153, 0.0126, 0.0121, 0.0109, 0.0109,\n",
      "        0.0108, 0.0090, 0.0090, 0.0090, 0.0075, 0.0072, 0.0061, 0.0059, 0.0059,\n",
      "        0.0057, 0.0053, 0.0047, 0.0047, 0.0045, 0.0045, 0.0045, 0.0043, 0.0041,\n",
      "        0.0039, 0.0038, 0.0036, 0.0035, 0.0035, 0.0034, 0.0034, 0.0032, 0.0032,\n",
      "        0.0031, 0.0030, 0.0030, 0.0030, 0.0030])\n",
      "\u001b[48;2;255;120;0m\n",
      "\u001b[49m - 0.12381120771169662\n",
      "\u001b[41m\u001b[97m 0\u001b[39m\u001b[49m - 0.07856938987970352\n",
      "\u001b[101m\u001b[97m 100\u001b[39m\u001b[49m - 0.04383006691932678\n",
      "\u001b[101m\u001b[97m 1\u001b[39m\u001b[49m - 0.03627283126115799\n",
      "\u001b[101m\u001b[97m 5\u001b[39m\u001b[49m - 0.027859633788466454\n",
      "\u001b[101m\u001b[97m $\u001b[39m\u001b[49m - 0.027728427201509476\n",
      "\u001b[101m\u001b[97m 10\u001b[39m\u001b[49m - 0.025666918605566025\n",
      "\u001b[101m\u001b[97m 3\u001b[39m\u001b[49m - 0.02472502738237381\n",
      "\u001b[101m\u001b[97m 2\u001b[39m\u001b[49m - 0.023052172735333443\n",
      "\u001b[101m\u001b[97m 99\u001b[39m\u001b[49m - 0.018034424632787704\n",
      "\u001b[101m\u001b[97m 4\u001b[39m\u001b[49m - 0.016014164313673973\n",
      "\u001b[101m\u001b[97m (\u001b[39m\u001b[49m - 0.015627048909664154\n",
      "\u001b[101m\u001b[97m 101\u001b[39m\u001b[49m - 0.01557484082877636\n",
      "\u001b[101m\u001b[97m 9\u001b[39m\u001b[49m - 0.015344887971878052\n",
      "\u001b[101m\u001b[97m 6\u001b[39m\u001b[49m - 0.012603715993463993\n",
      "\u001b[101m\u001b[97m 50\u001b[39m\u001b[49m - 0.012061387300491333\n",
      "\u001b[101m\u001b[97m  \u001b[39m\u001b[49m - 0.010928943753242493\n",
      "\u001b[101m\u001b[97m 12\u001b[39m\u001b[49m - 0.010877389460802078\n",
      "\u001b[101m\u001b[97m 11\u001b[39m\u001b[49m - 0.01079243142157793\n",
      "\u001b[48;5;88m\u001b[97m 7\u001b[39m\u001b[49m - 0.009036869741976261\n",
      "\u001b[48;5;88m\u001b[97m \u001b[39m\u001b[49m - 0.009000908583402634\n",
      "\u001b[48;5;88m\u001b[97m 8\u001b[39m\u001b[49m - 0.008990751579403877\n",
      "\u001b[48;5;88m\u001b[97m 20\u001b[39m\u001b[49m - 0.007496617268770933\n",
      "\u001b[48;5;88m\u001b[97m 97\u001b[39m\u001b[49m - 0.007212582044303417\n",
      "\u001b[48;5;88m\u001b[97m 25\u001b[39m\u001b[49m - 0.006121467333287001\n",
      "\u001b[48;5;88m\u001b[97m 13\u001b[39m\u001b[49m - 0.0059372615069150925\n",
      "\u001b[48;5;88m\u001b[97m 111\u001b[39m\u001b[49m - 0.0058664786629378796\n",
      "\u001b[48;5;88m\u001b[97m 15\u001b[39m\u001b[49m - 0.005682538263499737\n",
      "\u001b[48;5;88m\u001b[97m 1000\u001b[39m\u001b[49m - 0.005283883307129145\n",
      "\u001b[48;5;88m\u001b[97m 123\u001b[39m\u001b[49m - 0.004696208983659744\n",
      "\u001b[48;5;88m\u001b[97m 32\u001b[39m\u001b[49m - 0.004695605020970106\n",
      "\u001b[48;5;88m\u001b[97m $$\u001b[39m\u001b[49m - 0.004467904567718506\n",
      "\u001b[48;5;88m\u001b[97m 23\u001b[39m\u001b[49m - 0.0044625308364629745\n",
      "\u001b[48;5;88m\u001b[97m 17\u001b[39m\u001b[49m - 0.004450290929526091\n",
      "\u001b[48;5;88m\u001b[97m 113\u001b[39m\u001b[49m - 0.0043189674615859985\n",
      "\u001b[48;5;88m\u001b[97m 30\u001b[39m\u001b[49m - 0.004105657339096069\n",
      "\u001b[48;5;88m\u001b[97m [\u001b[39m\u001b[49m - 0.003909553866833448\n",
      "\u001b[48;5;88m\u001b[97m x\u001b[39m\u001b[49m - 0.003805518848821521\n",
      "\u001b[48;5;88m\u001b[97m 45\u001b[39m\u001b[49m - 0.003559787990525365\n",
      "\u001b[48;5;88m\u001b[97m 22\u001b[39m\u001b[49m - 0.003521416801959276\n",
      "\u001b[48;5;88m\u001b[97m 75\u001b[39m\u001b[49m - 0.0034884358756244183\n",
      "\u001b[48;5;88m\u001b[97m $(\u001b[39m\u001b[49m - 0.0033966531045734882\n",
      "\u001b[48;5;88m\u001b[97m 95\u001b[39m\u001b[49m - 0.00336862332187593\n",
      "\u001b[48;5;88m\u001b[97m\n",
      "\n",
      "\u001b[39m\u001b[49m - 0.0032377014867961407\n",
      "\u001b[48;5;88m\u001b[97m 33\u001b[39m\u001b[49m - 0.003193850163370371\n",
      "\u001b[48;5;88m\u001b[97m 10000\u001b[39m\u001b[49m - 0.003074370790272951\n",
      "\u001b[48;5;88m\u001b[97m 16\u001b[39m\u001b[49m - 0.002986182691529393\n",
      "\u001b[48;5;88m\u001b[97m 60\u001b[39m\u001b[49m - 0.0029758289456367493\n",
      "\u001b[48;5;88m\u001b[97m 200\u001b[39m\u001b[49m - 0.0029735052958130836\n",
      "\u001b[48;5;88m\u001b[97m 31\u001b[39m\u001b[49m - 0.0029592616483569145\n"
     ]
    }
   ],
   "source": [
    "toks_base, tok_probs_base = output_probs(model410m_base, text, tokenizer410m)"
   ]
  },
  {
   "cell_type": "code",
   "execution_count": 86,
   "id": "7578bdd4-6e33-439c-8425-364b74fe8399",
   "metadata": {
    "scrolled": true
   },
   "outputs": [
    {
     "name": "stderr",
     "output_type": "stream",
     "text": [
      "Setting `pad_token_id` to `eos_token_id`:0 for open-end generation.\n"
     ]
    },
    {
     "name": "stdout",
     "output_type": "stream",
     "text": [
      "[187, 470, 50276, 337, 2233, 495, 374, 608, 884, 577, 898, 721, 8437, 854, 8688, 1903, 0, 1249, 818, 209, 2456, 10694, 2145, 535, 313, 1384, 1458, 4567, 50275, 1722, 11334, 2030, 3495, 3307, 5345, 370, 1668, 6879, 5329, 1638, 655, 5922, 4562, 7251, 1283, 7584, 11422, 1884, 5325, 5976]\n",
      "\n",
      " 0   1 100 3 2 5 10 4 9 6 101 8 99 11<|endoftext|> 12 7  50 97 13\n",
      "\n",
      " ( 20 15 32    17 111 25 23 22 37 $ 16 75 45 14 19 33 31 65 18 49 87 30 95 42\n",
      "tensor([0.1275, 0.0819, 0.0506, 0.0415, 0.0329, 0.0316, 0.0315, 0.0291, 0.0211,\n",
      "        0.0209, 0.0203, 0.0187, 0.0182, 0.0142, 0.0133, 0.0129, 0.0124, 0.0121,\n",
      "        0.0114, 0.0114, 0.0089, 0.0075, 0.0073, 0.0063, 0.0062, 0.0062, 0.0060,\n",
      "        0.0059, 0.0058, 0.0057, 0.0055, 0.0053, 0.0047, 0.0046, 0.0040, 0.0039,\n",
      "        0.0039, 0.0039, 0.0038, 0.0038, 0.0037, 0.0037, 0.0037, 0.0037, 0.0036,\n",
      "        0.0036, 0.0035, 0.0035, 0.0033, 0.0032])\n",
      "\u001b[48;2;255;120;0m\n",
      "\u001b[49m - 0.12748804688453674\n",
      "\u001b[41m\u001b[97m 0\u001b[39m\u001b[49m - 0.08186342567205429\n",
      "\u001b[41m\u001b[97m  \u001b[39m\u001b[49m - 0.05062537267804146\n",
      "\u001b[101m\u001b[97m 1\u001b[39m\u001b[49m - 0.04147481545805931\n",
      "\u001b[101m\u001b[97m 100\u001b[39m\u001b[49m - 0.03293832018971443\n",
      "\u001b[101m\u001b[97m 3\u001b[39m\u001b[49m - 0.03161177039146423\n",
      "\u001b[101m\u001b[97m 2\u001b[39m\u001b[49m - 0.03148351237177849\n",
      "\u001b[101m\u001b[97m 5\u001b[39m\u001b[49m - 0.029073314741253853\n",
      "\u001b[101m\u001b[97m 10\u001b[39m\u001b[49m - 0.021065350621938705\n",
      "\u001b[101m\u001b[97m 4\u001b[39m\u001b[49m - 0.020854270085692406\n",
      "\u001b[101m\u001b[97m 9\u001b[39m\u001b[49m - 0.020342662930488586\n",
      "\u001b[101m\u001b[97m 6\u001b[39m\u001b[49m - 0.018671676516532898\n",
      "\u001b[101m\u001b[97m 101\u001b[39m\u001b[49m - 0.01818440854549408\n",
      "\u001b[101m\u001b[97m 8\u001b[39m\u001b[49m - 0.014166895300149918\n",
      "\u001b[101m\u001b[97m 99\u001b[39m\u001b[49m - 0.013311777263879776\n",
      "\u001b[101m\u001b[97m 11\u001b[39m\u001b[49m - 0.012927945703268051\n",
      "\u001b[101m\u001b[97m<|endoftext|>\u001b[39m\u001b[49m - 0.012427065521478653\n",
      "\u001b[101m\u001b[97m 12\u001b[39m\u001b[49m - 0.0120835667476058\n",
      "\u001b[101m\u001b[97m 7\u001b[39m\u001b[49m - 0.011405467987060547\n",
      "\u001b[101m\u001b[97m \u001b[39m\u001b[49m - 0.011405261233448982\n",
      "\u001b[48;5;88m\u001b[97m 50\u001b[39m\u001b[49m - 0.008861866779625416\n",
      "\u001b[48;5;88m\u001b[97m 97\u001b[39m\u001b[49m - 0.007455155253410339\n",
      "\u001b[48;5;88m\u001b[97m 13\u001b[39m\u001b[49m - 0.00725055206567049\n",
      "\u001b[48;5;88m\u001b[97m\n",
      "\n",
      "\u001b[39m\u001b[49m - 0.0063301920890808105\n",
      "\u001b[48;5;88m\u001b[97m (\u001b[39m\u001b[49m - 0.006233626510947943\n",
      "\u001b[48;5;88m\u001b[97m 20\u001b[39m\u001b[49m - 0.006154537200927734\n",
      "\u001b[48;5;88m\u001b[97m 15\u001b[39m\u001b[49m - 0.006049103103578091\n",
      "\u001b[48;5;88m\u001b[97m 32\u001b[39m\u001b[49m - 0.005851724650710821\n",
      "\u001b[48;5;88m\u001b[97m   \u001b[39m\u001b[49m - 0.005761265754699707\n",
      "\u001b[48;5;88m\u001b[97m 17\u001b[39m\u001b[49m - 0.005713449791073799\n",
      "\u001b[48;5;88m\u001b[97m 111\u001b[39m\u001b[49m - 0.005515529308468103\n",
      "\u001b[48;5;88m\u001b[97m 25\u001b[39m\u001b[49m - 0.005311521701514721\n",
      "\u001b[48;5;88m\u001b[97m 23\u001b[39m\u001b[49m - 0.004698438569903374\n",
      "\u001b[48;5;88m\u001b[97m 22\u001b[39m\u001b[49m - 0.004557375330477953\n",
      "\u001b[48;5;88m\u001b[97m 37\u001b[39m\u001b[49m - 0.004007481504231691\n",
      "\u001b[48;5;88m\u001b[97m $\u001b[39m\u001b[49m - 0.0039388700388371944\n",
      "\u001b[48;5;88m\u001b[97m 16\u001b[39m\u001b[49m - 0.003937555477023125\n",
      "\u001b[48;5;88m\u001b[97m 75\u001b[39m\u001b[49m - 0.003878254210576415\n",
      "\u001b[48;5;88m\u001b[97m 45\u001b[39m\u001b[49m - 0.003829487133771181\n",
      "\u001b[48;5;88m\u001b[97m 14\u001b[39m\u001b[49m - 0.0037723209243267775\n",
      "\u001b[48;5;88m\u001b[97m 19\u001b[39m\u001b[49m - 0.0037112452555447817\n",
      "\u001b[48;5;88m\u001b[97m 33\u001b[39m\u001b[49m - 0.003701630514115095\n",
      "\u001b[48;5;88m\u001b[97m 31\u001b[39m\u001b[49m - 0.003679927671328187\n",
      "\u001b[48;5;88m\u001b[97m 65\u001b[39m\u001b[49m - 0.0036679869517683983\n",
      "\u001b[48;5;88m\u001b[97m 18\u001b[39m\u001b[49m - 0.003610861487686634\n",
      "\u001b[48;5;88m\u001b[97m 49\u001b[39m\u001b[49m - 0.0035774456337094307\n",
      "\u001b[48;5;88m\u001b[97m 87\u001b[39m\u001b[49m - 0.0035290296655148268\n",
      "\u001b[48;5;88m\u001b[97m 30\u001b[39m\u001b[49m - 0.0034770220518112183\n",
      "\u001b[48;5;88m\u001b[97m 95\u001b[39m\u001b[49m - 0.0032637163531035185\n",
      "\u001b[48;5;88m\u001b[97m 42\u001b[39m\u001b[49m - 0.0032185085583478212\n"
     ]
    }
   ],
   "source": [
    "toks_sft, tok_probs_sft = output_probs(model410m_sft, text, tokenizer410m)"
   ]
  },
  {
   "cell_type": "code",
   "execution_count": 87,
   "id": "3aff3e3b-a81e-4874-85a5-fca2e950ac42",
   "metadata": {
    "scrolled": true
   },
   "outputs": [
    {
     "name": "stderr",
     "output_type": "stream",
     "text": [
      "Setting `pad_token_id` to `eos_token_id`:0 for open-end generation.\n"
     ]
    },
    {
     "name": "stdout",
     "output_type": "stream",
     "text": [
      "[187, 50276, 470, 2233, 337, 608, 495, 374, 8688, 8437, 577, 884, 10694, 898, 721, 1249, 2456, 1903, 854, 818, 1384, 209, 2145, 5345, 11334, 370, 1722, 1458, 5325, 3495, 6879, 3307, 5329, 11422, 50275, 4567, 11456, 2030, 7584, 7251, 655, 10508, 4562, 5976, 4791, 1668, 5922, 7609, 535, 1638]\n",
      "\n",
      "   0 100 1 5 3 2 99 101 4 10 97 9 6 12 50 11 8 7 20  13 37 111 $ 17 15 95 23 75 22 45 87    32 93 25 49 65 19 98 31 42 35 16 33 41\n",
      "\n",
      " 14\n",
      "tensor([0.1010, 0.0864, 0.0575, 0.0452, 0.0384, 0.0343, 0.0311, 0.0288, 0.0250,\n",
      "        0.0221, 0.0217, 0.0205, 0.0189, 0.0187, 0.0185, 0.0140, 0.0139, 0.0136,\n",
      "        0.0127, 0.0089, 0.0088, 0.0084, 0.0080, 0.0076, 0.0072, 0.0068, 0.0067,\n",
      "        0.0066, 0.0064, 0.0058, 0.0058, 0.0058, 0.0057, 0.0051, 0.0050, 0.0050,\n",
      "        0.0050, 0.0049, 0.0047, 0.0047, 0.0045, 0.0045, 0.0044, 0.0040, 0.0040,\n",
      "        0.0039, 0.0039, 0.0038, 0.0038, 0.0037])\n",
      "\u001b[48;2;255;120;0m\n",
      "\u001b[49m - 0.10101088881492615\n",
      "\u001b[41m\u001b[97m  \u001b[39m\u001b[49m - 0.08640545606613159\n",
      "\u001b[41m\u001b[97m 0\u001b[39m\u001b[49m - 0.05747900903224945\n",
      "\u001b[101m\u001b[97m 100\u001b[39m\u001b[49m - 0.045211754739284515\n",
      "\u001b[101m\u001b[97m 1\u001b[39m\u001b[49m - 0.03844991698861122\n",
      "\u001b[101m\u001b[97m 5\u001b[39m\u001b[49m - 0.03432752192020416\n",
      "\u001b[101m\u001b[97m 3\u001b[39m\u001b[49m - 0.031074680387973785\n",
      "\u001b[101m\u001b[97m 2\u001b[39m\u001b[49m - 0.02878541126847267\n",
      "\u001b[101m\u001b[97m 99\u001b[39m\u001b[49m - 0.025029169395565987\n",
      "\u001b[101m\u001b[97m 101\u001b[39m\u001b[49m - 0.02213136851787567\n",
      "\u001b[101m\u001b[97m 4\u001b[39m\u001b[49m - 0.02174084633588791\n",
      "\u001b[101m\u001b[97m 10\u001b[39m\u001b[49m - 0.020502299070358276\n",
      "\u001b[101m\u001b[97m 97\u001b[39m\u001b[49m - 0.018852511420845985\n",
      "\u001b[101m\u001b[97m 9\u001b[39m\u001b[49m - 0.018675265833735466\n",
      "\u001b[101m\u001b[97m 6\u001b[39m\u001b[49m - 0.018457094207406044\n",
      "\u001b[101m\u001b[97m 12\u001b[39m\u001b[49m - 0.014021608047187328\n",
      "\u001b[101m\u001b[97m 50\u001b[39m\u001b[49m - 0.013922101818025112\n",
      "\u001b[101m\u001b[97m 11\u001b[39m\u001b[49m - 0.013632046058773994\n",
      "\u001b[101m\u001b[97m 8\u001b[39m\u001b[49m - 0.012732665054500103\n",
      "\u001b[48;5;88m\u001b[97m 7\u001b[39m\u001b[49m - 0.008892961777746677\n",
      "\u001b[48;5;88m\u001b[97m 20\u001b[39m\u001b[49m - 0.008755306713283062\n",
      "\u001b[48;5;88m\u001b[97m \u001b[39m\u001b[49m - 0.008400662802159786\n",
      "\u001b[48;5;88m\u001b[97m 13\u001b[39m\u001b[49m - 0.008043229579925537\n",
      "\u001b[48;5;88m\u001b[97m 37\u001b[39m\u001b[49m - 0.007563397753983736\n",
      "\u001b[48;5;88m\u001b[97m 111\u001b[39m\u001b[49m - 0.00717956991866231\n",
      "\u001b[48;5;88m\u001b[97m $\u001b[39m\u001b[49m - 0.00677466718479991\n",
      "\u001b[48;5;88m\u001b[97m 17\u001b[39m\u001b[49m - 0.006708152126520872\n",
      "\u001b[48;5;88m\u001b[97m 15\u001b[39m\u001b[49m - 0.006647379137575626\n",
      "\u001b[48;5;88m\u001b[97m 95\u001b[39m\u001b[49m - 0.006409930996596813\n",
      "\u001b[48;5;88m\u001b[97m 23\u001b[39m\u001b[49m - 0.0058485218323767185\n",
      "\u001b[48;5;88m\u001b[97m 75\u001b[39m\u001b[49m - 0.0057924366556108\n",
      "\u001b[48;5;88m\u001b[97m 22\u001b[39m\u001b[49m - 0.005789299961179495\n",
      "\u001b[48;5;88m\u001b[97m 45\u001b[39m\u001b[49m - 0.005685614421963692\n",
      "\u001b[48;5;88m\u001b[97m 87\u001b[39m\u001b[49m - 0.005143132526427507\n",
      "\u001b[48;5;88m\u001b[97m   \u001b[39m\u001b[49m - 0.0050493148155510426\n",
      "\u001b[48;5;88m\u001b[97m 32\u001b[39m\u001b[49m - 0.005020524375140667\n",
      "\u001b[48;5;88m\u001b[97m 93\u001b[39m\u001b[49m - 0.004955998621881008\n",
      "\u001b[48;5;88m\u001b[97m 25\u001b[39m\u001b[49m - 0.004941482096910477\n",
      "\u001b[48;5;88m\u001b[97m 49\u001b[39m\u001b[49m - 0.004741877783089876\n",
      "\u001b[48;5;88m\u001b[97m 65\u001b[39m\u001b[49m - 0.004688362590968609\n",
      "\u001b[48;5;88m\u001b[97m 19\u001b[39m\u001b[49m - 0.004515902604907751\n",
      "\u001b[48;5;88m\u001b[97m 98\u001b[39m\u001b[49m - 0.004510767292231321\n",
      "\u001b[48;5;88m\u001b[97m 31\u001b[39m\u001b[49m - 0.0043792505748569965\n",
      "\u001b[48;5;88m\u001b[97m 42\u001b[39m\u001b[49m - 0.0040193237364292145\n",
      "\u001b[48;5;88m\u001b[97m 35\u001b[39m\u001b[49m - 0.004018621984869242\n",
      "\u001b[48;5;88m\u001b[97m 16\u001b[39m\u001b[49m - 0.0039151934906840324\n",
      "\u001b[48;5;88m\u001b[97m 33\u001b[39m\u001b[49m - 0.0038596622180193663\n",
      "\u001b[48;5;88m\u001b[97m 41\u001b[39m\u001b[49m - 0.003839147975668311\n",
      "\u001b[48;5;88m\u001b[97m\n",
      "\n",
      "\u001b[39m\u001b[49m - 0.0038286910858005285\n",
      "\u001b[48;5;88m\u001b[97m 14\u001b[39m\u001b[49m - 0.003723159898072481\n"
     ]
    }
   ],
   "source": [
    "toks_dpo, tok_probs_dpo = output_probs(model410m_dpo, text, tokenizer410m)"
   ]
  },
  {
   "cell_type": "code",
   "execution_count": 80,
   "id": "11872f4a-4b66-4045-bff6-52f72c890a6f",
   "metadata": {},
   "outputs": [
    {
     "data": {
      "text/plain": [
       "(0.0, 1.0)"
      ]
     },
     "execution_count": 80,
     "metadata": {},
     "output_type": "execute_result"
    },
    {
     "data": {
      "image/png": "[encoded data removed]",
      "text/plain": [
       "<Figure size 640x480 with 1 Axes>"
      ]
     },
     "metadata": {},
     "output_type": "display_data"
    }
   ],
   "source": [
    "plt.plot([tokenizer410m.decode(toks_base[i]) for i in range(len(toks_base))], tok_probs_base)\n",
    "plt.ylim((0,1))"
   ]
  },
  {
   "cell_type": "code",
   "execution_count": 81,
   "id": "837039af-1603-4377-ac3f-394021534ff8",
   "metadata": {},
   "outputs": [
    {
     "data": {
      "text/plain": [
       "(0.0, 1.0)"
      ]
     },
     "execution_count": 81,
     "metadata": {},
     "output_type": "execute_result"
    },
    {
     "data": {
      "image/png": "[encoded data removed]",
      "text/plain": [
       "<Figure size 640x480 with 1 Axes>"
      ]
     },
     "metadata": {},
     "output_type": "display_data"
    }
   ],
   "source": [
    "plt.plot([tokenizer410m.decode(toks_base[i]) for i in range(len(toks_sft))], tok_probs_sft)\n",
    "plt.ylim((0,1))"
   ]
  },
  {
   "cell_type": "code",
   "execution_count": 82,
   "id": "9d31a880-33df-4f6f-8ebe-c343f3e6a319",
   "metadata": {},
   "outputs": [
    {
     "data": {
      "text/plain": [
       "(0.0, 1.0)"
      ]
     },
     "execution_count": 82,
     "metadata": {},
     "output_type": "execute_result"
    },
    {
     "data": {
      "image/png": "[encoded data removed]",
      "text/plain": [
       "<Figure size 640x480 with 1 Axes>"
      ]
     },
     "metadata": {},
     "output_type": "display_data"
    }
   ],
   "source": [
    "plt.plot([tokenizer410m.decode(toks_dpo[i]) for i in range(len(toks_dpo))], tok_probs_dpo)\n",
    "plt.ylim((0,1))"
   ]
  },
  {
   "cell_type": "code",
   "execution_count": 83,
   "id": "ba5e643e-a712-439d-a7a1-6f51737c7a5d",
   "metadata": {},
   "outputs": [],
   "source": [
    "text = \"Q: I've just rolled a fair d6 (6 sided die). Please look at the result and tell me what number came up. \\\n",
    "A: The number that came up was\""
   ]
  },
  {
   "cell_type": "code",
   "execution_count": 53,
   "id": "14aebd9d-7f21-44b9-98e5-f125803421ac",
   "metadata": {},
   "outputs": [
    {
     "name": "stderr",
     "output_type": "stream",
     "text": [
      "Setting `pad_token_id` to `eos_token_id`:0 for open-end generation.\n"
     ]
    },
    {
     "name": "stdout",
     "output_type": "stream",
     "text": [
      "\u001b[48;2;255;120;0m 6\u001b[49m - 0.11472945660352707\n",
      "\u001b[41m\u001b[97m the\u001b[39m\u001b[49m - 0.05981464684009552\n",
      "\u001b[101m\u001b[97m 1\u001b[39m\u001b[49m - 0.048051510006189346\n",
      "\u001b[101m\u001b[97m 2\u001b[39m\u001b[49m - 0.039072755724191666\n",
      "\u001b[101m\u001b[97m 3\u001b[39m\u001b[49m - 0.03456728905439377\n",
      "\u001b[101m\u001b[97m 5\u001b[39m\u001b[49m - 0.034392453730106354\n",
      "\u001b[101m\u001b[97m 4\u001b[39m\u001b[49m - 0.0308868158608675\n",
      "\u001b[101m\u001b[97m $\u001b[39m\u001b[49m - 0.02885430119931698\n",
      "\u001b[101m\u001b[97m a\u001b[39m\u001b[49m - 0.0282245185226202\n",
      "\u001b[101m\u001b[97m 7\u001b[39m\u001b[49m - 0.027423636987805367\n",
      "\u001b[101m\u001b[97m 9\u001b[39m\u001b[49m - 0.02364640310406685\n",
      "\u001b[101m\u001b[97m:\u001b[39m\u001b[49m - 0.02254585362970829\n",
      "\u001b[101m\u001b[97m 0\u001b[39m\u001b[49m - 0.02235112152993679\n",
      "\u001b[101m\u001b[97m 8\u001b[39m\u001b[49m - 0.019492262974381447\n",
      "\u001b[101m\u001b[97m 12\u001b[39m\u001b[49m - 0.017505647614598274\n",
      "\u001b[101m\u001b[97m \"\u001b[39m\u001b[49m - 0.01289732102304697\n",
      "\u001b[101m\u001b[97m 11\u001b[39m\u001b[49m - 0.011699113994836807\n",
      "\u001b[101m\u001b[97m -\u001b[39m\u001b[49m - 0.011362855322659016\n",
      "\u001b[101m\u001b[97m 10\u001b[39m\u001b[49m - 0.011100132949650288\n",
      "\u001b[101m\u001b[97m 13\u001b[39m\u001b[49m - 0.010192924179136753\n"
     ]
    }
   ],
   "source": [
    "toks_base, tok_probs_base = output_probs(model410m_base, text, tokenizer410m, n=20)"
   ]
  },
  {
   "cell_type": "code",
   "execution_count": 54,
   "id": "dc6dd056-6cee-431b-a702-c6becadf09e2",
   "metadata": {},
   "outputs": [
    {
     "name": "stderr",
     "output_type": "stream",
     "text": [
      "Setting `pad_token_id` to `eos_token_id`:0 for open-end generation.\n"
     ]
    },
    {
     "name": "stdout",
     "output_type": "stream",
     "text": [
      "\u001b[48;2;255;120;0m 6\u001b[49m - 0.181101456284523\n",
      "\u001b[101m\u001b[97m 5\u001b[39m\u001b[49m - 0.04218200966715813\n",
      "\u001b[101m\u001b[97m 3\u001b[39m\u001b[49m - 0.041237689554691315\n",
      "\u001b[101m\u001b[97m 1\u001b[39m\u001b[49m - 0.03837651014328003\n",
      "\u001b[101m\u001b[97m 7\u001b[39m\u001b[49m - 0.036720890551805496\n",
      "\u001b[101m\u001b[97m 2\u001b[39m\u001b[49m - 0.03538735955953598\n",
      "\u001b[101m\u001b[97m 4\u001b[39m\u001b[49m - 0.033085428178310394\n",
      "\u001b[101m\u001b[97m the\u001b[39m\u001b[49m - 0.0322624035179615\n",
      "\u001b[101m\u001b[97m 9\u001b[39m\u001b[49m - 0.032215457409620285\n",
      "\u001b[101m\u001b[97m 8\u001b[39m\u001b[49m - 0.03143259137868881\n",
      "\u001b[101m\u001b[97m 12\u001b[39m\u001b[49m - 0.023358721286058426\n",
      "\u001b[101m\u001b[97m:\u001b[39m\u001b[49m - 0.023263169452548027\n",
      "\u001b[101m\u001b[97m \"\u001b[39m\u001b[49m - 0.022330278530716896\n",
      "\u001b[101m\u001b[97m 0\u001b[39m\u001b[49m - 0.021233700215816498\n",
      "\u001b[101m\u001b[97m a\u001b[39m\u001b[49m - 0.01996217481791973\n",
      "\u001b[101m\u001b[97m 11\u001b[39m\u001b[49m - 0.015344726853072643\n",
      "\u001b[101m\u001b[97m 13\u001b[39m\u001b[49m - 0.011648176237940788\n",
      "\u001b[101m\u001b[97m 10\u001b[39m\u001b[49m - 0.01148147415369749\n",
      "\u001b[101m\u001b[97m 16\u001b[39m\u001b[49m - 0.011344660073518753\n",
      "\u001b[48;5;88m\u001b[97m -\u001b[39m\u001b[49m - 0.007719722110778093\n"
     ]
    }
   ],
   "source": [
    "toks_base, tok_probs_base = output_probs(model410m_sft, text, tokenizer410m, n=20)"
   ]
  },
  {
   "cell_type": "code",
   "execution_count": 55,
   "id": "dab9c53f-35cb-43fa-bbd4-44bf5485154e",
   "metadata": {},
   "outputs": [
    {
     "name": "stderr",
     "output_type": "stream",
     "text": [
      "Setting `pad_token_id` to `eos_token_id`:0 for open-end generation.\n"
     ]
    },
    {
     "name": "stdout",
     "output_type": "stream",
     "text": [
      "\u001b[48;2;255;150;50m 6\u001b[49m - 0.44059988856315613\n",
      "\u001b[41m\u001b[97m the\u001b[39m\u001b[49m - 0.06103740260004997\n",
      "\u001b[101m\u001b[97m 5\u001b[39m\u001b[49m - 0.04306517913937569\n",
      "\u001b[101m\u001b[97m \"\u001b[39m\u001b[49m - 0.03670252487063408\n",
      "\u001b[101m\u001b[97m 1\u001b[39m\u001b[49m - 0.03501064330339432\n",
      "\u001b[101m\u001b[97m 7\u001b[39m\u001b[49m - 0.0309411883354187\n",
      "\u001b[101m\u001b[97m 3\u001b[39m\u001b[49m - 0.028897320851683617\n",
      "\u001b[101m\u001b[97m 4\u001b[39m\u001b[49m - 0.022823894396424294\n",
      "\u001b[101m\u001b[97m a\u001b[39m\u001b[49m - 0.02041005901992321\n",
      "\u001b[101m\u001b[97m 2\u001b[39m\u001b[49m - 0.019075479358434677\n",
      "\u001b[101m\u001b[97m:\u001b[39m\u001b[49m - 0.019042473286390305\n",
      "\u001b[101m\u001b[97m correct\u001b[39m\u001b[49m - 0.018648048862814903\n",
      "\u001b[101m\u001b[97m 8\u001b[39m\u001b[49m - 0.01799110881984234\n",
      "\u001b[101m\u001b[97m 9\u001b[39m\u001b[49m - 0.013801894150674343\n",
      "\u001b[101m\u001b[97m 12\u001b[39m\u001b[49m - 0.012299316935241222\n",
      "\u001b[101m\u001b[97m $\u001b[39m\u001b[49m - 0.01017284207046032\n",
      "\u001b[48;5;88m\u001b[97m 11\u001b[39m\u001b[49m - 0.007393239066004753\n",
      "\u001b[48;5;88m\u001b[97m 0\u001b[39m\u001b[49m - 0.0071251047775149345\n",
      "\u001b[48;5;88m\u001b[97m '\u001b[39m\u001b[49m - 0.005958814173936844\n",
      "\u001b[48;5;88m\u001b[97m D\u001b[39m\u001b[49m - 0.005327425431460142\n"
     ]
    }
   ],
   "source": [
    "toks_base, tok_probs_base = output_probs(model410m_dpo, text, tokenizer410m, n=20)"
   ]
  },
  {
   "cell_type": "code",
   "execution_count": null,
   "id": "a2e60b0b-ed89-4b50-9507-4891a6c7a2b2",
   "metadata": {},
   "outputs": [],
   "source": []
  },
  {
   "cell_type": "markdown",
   "id": "7c3b58cf-4541-4722-a943-7149419733f2",
   "metadata": {},
   "source": [
    "### “block multiverse” plots"
   ]
  },
  {
   "cell_type": "code",
   "execution_count": null,
   "id": "a2721d0b-0e0a-46a6-beb0-88074e3857de",
   "metadata": {},
   "outputs": [],
   "source": []
  },
  {
   "cell_type": "code",
   "execution_count": null,
   "id": "08fe9e99-e733-4976-9442-fb42167a94b3",
   "metadata": {},
   "outputs": [],
   "source": []
  }
 ],
 "metadata": {
  "kernelspec": {
   "display_name": "Python 3 (ipykernel)",
   "language": "python",
   "name": "python3"
  },
  "language_info": {
   "codemirror_mode": {
    "name": "ipython",
    "version": 3
   },
   "file_extension": ".py",
   "mimetype": "text/x-python",
   "name": "python",
   "nbconvert_exporter": "python",
   "pygments_lexer": "ipython3",
   "version": "3.8.10"
  }
 },
 "nbformat": 4,
 "nbformat_minor": 5
}
