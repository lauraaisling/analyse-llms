{
 "cells": [
  {
   "cell_type": "markdown",
   "id": "df81feb0-0845-4271-8dfe-c696b594a572",
   "metadata": {},
   "source": [
    "More or less a replication of [Mysteries of mode collapse by Janus](https://www.lesswrong.com/posts/t9svvNPNmFf5Qa3TA/mysteries-of-mode-collapse)\n",
    "\n",
    "Using Pythia models of various sizes. \n",
    "\n",
    "Compares base models with SFT models and DPO finetuned models. \n",
    "\n",
    "TODO: Compare with RLHF models"
   ]
  },
  {
   "attachments": {},
   "cell_type": "markdown",
   "id": "0c1d0ad5-4cae-4256-8b05-41714ddedd56",
   "metadata": {},
   "source": [
    "\n",
    "\n",
    "## Import stuff"
   ]
  },
  {
   "cell_type": "code",
   "execution_count": null,
   "id": "776fc09f-c1c7-49af-ae65-f7e1a450e97e",
   "metadata": {},
   "outputs": [],
   "source": [
    "# !pip install sty"
   ]
  },
  {
   "cell_type": "code",
   "execution_count": 1,
   "id": "e23b461c-9310-4f59-93d2-3b3f6230dea2",
   "metadata": {},
   "outputs": [
    {
     "data": {
      "text/plain": [
       "True"
      ]
     },
     "execution_count": 1,
     "metadata": {},
     "output_type": "execute_result"
    }
   ],
   "source": [
    "from transformers import GPTNeoXForCausalLM, AutoTokenizer\n",
    "import torch\n",
    "import numpy as np\n",
    "import matplotlib.pyplot as plt\n",
    "# import os\n",
    "from sty import bg, fg, Style, RgbBg\n",
    "\n",
    "torch.cuda.is_available()"
   ]
  },
  {
   "cell_type": "markdown",
   "id": "2d59ccb8-70ae-4eb3-bfd0-20662a5118a2",
   "metadata": {},
   "source": [
    "## Get models"
   ]
  },
  {
   "cell_type": "code",
   "execution_count": 2,
   "id": "425fa529-70fa-4b2c-956a-e5736626fe06",
   "metadata": {},
   "outputs": [],
   "source": [
    "device = torch.device('cuda' if torch.cuda.is_available() else 'cpu')"
   ]
  },
  {
   "cell_type": "code",
   "execution_count": 4,
   "id": "f07e3cc3-548c-464b-8fa1-3980bb69b795",
   "metadata": {
    "scrolled": true
   },
   "outputs": [],
   "source": [
    "# model70m_base = GPTNeoXForCausalLM.from_pretrained(\"EleutherAI/pythia-70m\").to(device)\n",
    "# model70m_sft = GPTNeoXForCausalLM.from_pretrained(\"lomahony/eleuther-pythia70m-hh-sft\").to(device)\n",
    "# model70m_dpo = GPTNeoXForCausalLM.from_pretrained(\"lomahony/eleuther-pythia70m-hh-dpo\").to(device)\n",
    "\n",
    "# tokenizer70m = AutoTokenizer.from_pretrained(\"EleutherAI/pythia-70m\")"
   ]
  },
  {
   "cell_type": "code",
   "execution_count": 3,
   "id": "fbbfa0fd-2fde-4a82-81e7-79efb063edfc",
   "metadata": {
    "scrolled": true
   },
   "outputs": [],
   "source": [
    "# Let's look at slightly bigger models. \n",
    "model410m_base = GPTNeoXForCausalLM.from_pretrained(\"EleutherAI/pythia-410m\").to(device)\n",
    "model410m_sft = GPTNeoXForCausalLM.from_pretrained(\"lomahony/eleuther-pythia410m-hh-sft\").to(device)\n",
    "model410m_dpo = GPTNeoXForCausalLM.from_pretrained(\"lomahony/eleuther-pythia410m-hh-dpo\").to(device)\n",
    "\n",
    "tokenizer410m = AutoTokenizer.from_pretrained(\"EleutherAI/pythia-410m\")"
   ]
  },
  {
   "cell_type": "code",
   "execution_count": 4,
   "id": "dca220b4-037d-4b1d-94c6-a9f7b6e0e4de",
   "metadata": {},
   "outputs": [],
   "source": [
    "model_base = model410m_base\n",
    "model_sft = model410m_sft\n",
    "model_dpo = model410m_dpo\n",
    "\n",
    "tokenizer = tokenizer410m"
   ]
  },
  {
   "cell_type": "code",
   "execution_count": 5,
   "id": "1ce5b42f-dc84-4bc6-bab0-b757d2145004",
   "metadata": {},
   "outputs": [],
   "source": [
    "# tokenizer70m.pad_token_id:0\n",
    "# tokenizer70m.eos_token_id:0\n",
    "pad_token_id=tokenizer.eos_token_id"
   ]
  },
  {
   "cell_type": "markdown",
   "id": "7be7ebb1-7920-4216-b79c-1d81ec1981c0",
   "metadata": {},
   "source": [
    "## Utilities"
   ]
  },
  {
   "cell_type": "code",
   "execution_count": 6,
   "id": "179322ed-b216-4c02-9d3d-c04b58e317ed",
   "metadata": {},
   "outputs": [],
   "source": [
    "# https://github.com/feluxe/sty\n",
    "def colour_text(token, probability): \n",
    "    if probability >= 0.99:\n",
    "        print(bg.da_green + fg.white + token.replace(\"\\n\",\"\\\\n\") + fg.rs + bg.rs, end='')\n",
    "         \n",
    "    elif probability >= 0.95:\n",
    "        print(bg.li_green + fg.white + token.replace(\"\\n\",\"\\\\n\") + fg.rs + bg.rs, end='')\n",
    "         \n",
    "    elif probability >= 0.9:\n",
    "        print(bg.green + token.replace(\"\\n\",\"\\\\n\") + bg.rs, end='')\n",
    "\n",
    "    elif probability >= 0.8:\n",
    "        # print(bg.yellow + token + bg.rs)\n",
    "        bg.yellow_green = Style(RgbBg(153, 153, 0))\n",
    "        print(bg.yellow_green + token.replace(\"\\n\",\"\\\\n\") + bg.rs, end='')\n",
    "\n",
    "    elif probability >= 0.5:\n",
    "        # bg.orange = Style(RgbBg(255, 150, 50))\n",
    "        # print(bg.orange + token + bg.rs)\n",
    "        print(bg.yellow + token.replace(\"\\n\",\"\\\\n\") + bg.rs, end='')\n",
    "\n",
    "    elif probability >= 0.2:\n",
    "        # print(bg.li_yellow + token + bg.rs)\n",
    "        bg.orange = Style(RgbBg(255, 150, 50))\n",
    "        print(bg.orange + token.replace(\"\\n\",\"\\\\n\") + bg.rs, end='')\n",
    "        \n",
    "    elif probability >= 0.1:\n",
    "        bg.da_orange = Style(RgbBg(255, 120, 0))\n",
    "        print(bg.da_orange + token.replace(\"\\n\",\"\\\\n\") + bg.rs, end='')\n",
    "        \n",
    "    elif probability >= 0.05:\n",
    "        print(bg.red + fg.white + token.replace(\"\\n\",\"\\\\n\") + fg.rs + bg.rs, end='')\n",
    "\n",
    "    elif probability >= 0.01:\n",
    "        print(bg.li_red + fg.white + token.replace(\"\\n\",\"\\\\n\") + fg.rs + bg.rs, end='')\n",
    "        \n",
    "    elif probability < 0.01:\n",
    "        print(bg.da_red + fg.white + token.replace(\"\\n\",\"\\\\n\") + fg.rs + bg.rs, end='')\n",
    "        "
   ]
  },
  {
   "cell_type": "code",
   "execution_count": 7,
   "id": "3634119a-b157-464c-a363-c26e6a7d207e",
   "metadata": {},
   "outputs": [
    {
     "name": "stdout",
     "output_type": "stream",
     "text": [
      "\u001b[48;5;88m\u001b[97mtest\u001b[39m\u001b[49m\u001b[101m\u001b[97mtest\u001b[39m\u001b[49m\u001b[41m\u001b[97mtest\u001b[39m\u001b[49m\u001b[48;2;255;120;0mtest\u001b[49m\u001b[48;2;255;150;50mtest\u001b[49m\u001b[43mtest\u001b[49m\u001b[48;2;153;153;0mtest\u001b[49m\u001b[42mtest\u001b[49m\u001b[102m\u001b[97mtest\u001b[39m\u001b[49m\u001b[48;5;22m\u001b[97mtest\u001b[39m\u001b[49m"
     ]
    }
   ],
   "source": [
    "probs = [0,0.01, 0.05, 0.1, 0.2, 0.5, 0.8, 0.9, 0.98, 0.99]\n",
    "for i in probs: \n",
    "    colour_text(\"test\",i)"
   ]
  },
  {
   "cell_type": "code",
   "execution_count": 8,
   "id": "1c2da6c5-14c4-4c5d-81b0-42eef4137ae9",
   "metadata": {},
   "outputs": [],
   "source": [
    "def plot_probability_spectrum(model, text, tokenizer, temperature=1.0, print_output_plain=False): \n",
    "    inputs = tokenizer(text, return_tensors=\"pt\").to(device) # , temperature\n",
    "    tokens = model.generate(**inputs, temperature=temperature, max_new_tokens=100, output_scores=True, renormalize_logits=True, return_dict_in_generate=True) # shape input plus generated\n",
    "    out = tokenizer.decode(tokens['sequences'][0]) \n",
    "    if print_output_plain: \n",
    "        print(out)\n",
    "    input_length = inputs.input_ids.shape[1] # shape num tokens generated\n",
    "    generated_tokens = tokens.sequences[:, input_length:]\n",
    "    transition_scores = model.compute_transition_scores(tokens.sequences, tokens.scores, normalize_logits=True)\n",
    "    \n",
    "    for idx, tok in enumerate(tokens['sequences'][:, input_length:][0]): \n",
    "        colour_text(f\"{tokenizer.decode(tok)}\", np.exp(transition_scores[0][idx].cpu()))"
   ]
  },
  {
   "cell_type": "code",
   "execution_count": 9,
   "id": "a5923df8-0943-40ea-a9d6-b7fc0c653e96",
   "metadata": {},
   "outputs": [],
   "source": [
    "torch.set_printoptions(precision=4)\n",
    "def output_probs(model, text, tokenizer, n=50):\n",
    "    inputs = tokenizer(text, return_tensors=\"pt\").to(device)\n",
    "    tokens = model.generate(**inputs, max_new_tokens=1, output_scores=True, \n",
    "                            renormalize_logits=True, return_dict_in_generate=True) # shape input plus generated\n",
    "    arr = np.exp(tokens.scores[0].cpu()[0])\n",
    "    toks = list(np.asarray(arr).argsort()[-n:][-n:][::-1])\n",
    "    # np.exp(tokens.scores[tok_id].cpu()[0])[toks]) #€€€ changed to 0\n",
    "    tok_probs = np.exp(tokens.scores[0].cpu()[0])[toks]\n",
    "    # print(toks)\n",
    "    # print(tokenizer.decode(toks))\n",
    "    # print(tok_probs)\n",
    "    for idx, tok in enumerate(toks): \n",
    "        # print(f\"{tokenizer.decode(tok)}\", tok_probs[idx])\n",
    "        colour_text(f\"{tokenizer.decode(tok)}\", tok_probs[idx])\n",
    "        print(f\" - {tok_probs[idx]}\") \n",
    "    return toks, tok_probs"
   ]
  },
  {
   "cell_type": "code",
   "execution_count": null,
   "id": "43b36719-1640-4d7f-8d99-ae66dbff3442",
   "metadata": {},
   "outputs": [],
   "source": [
    "stop"
   ]
  },
  {
   "cell_type": "markdown",
   "id": "ea955e0c-212a-4b1c-a49f-e7c1788fadb5",
   "metadata": {},
   "source": [
    "## Selected model output certainties visualised"
   ]
  },
  {
   "cell_type": "markdown",
   "id": "b1ca7252-f604-4a4e-ac55-ab67871bf1ff",
   "metadata": {},
   "source": [
    "Visualise certainty of next token predictions similar to OpenAI playground probability spectrum visualisation. \n",
    "\n",
    "Visualise probability of random numbers. Rephrased many times. "
   ]
  },
  {
   "cell_type": "markdown",
   "id": "9b410d55-9136-45dc-aadd-09a59a01d7dc",
   "metadata": {},
   "source": [
    "### Probability spectrum Illustrations"
   ]
  },
  {
   "cell_type": "markdown",
   "id": "edff3c18-7e2e-4d1e-85ef-aa84bdc8d1ea",
   "metadata": {
    "jp-MarkdownHeadingCollapsed": true
   },
   "source": [
    "#### \"are bugs real?\""
   ]
  },
  {
   "cell_type": "code",
   "execution_count": 10,
   "id": "82400350-cf88-4f58-aaf9-ab5d1ae6a65d",
   "metadata": {},
   "outputs": [],
   "source": [
    "text = \"are bugs real?\""
   ]
  },
  {
   "cell_type": "code",
   "execution_count": 11,
   "id": "1f9f8e98-8279-48a9-8b34-c657c15ec7c6",
   "metadata": {},
   "outputs": [
    {
     "name": "stderr",
     "output_type": "stream",
     "text": [
      "Setting `pad_token_id` to `eos_token_id`:0 for open-end generation.\n"
     ]
    },
    {
     "name": "stdout",
     "output_type": "stream",
     "text": [
      "\u001b[43m\\n\u001b[49m\u001b[48;2;153;153;0m<\u001b[49m\u001b[101m\u001b[97mj\u001b[39m\u001b[49m\u001b[41m\u001b[97mames\u001b[39m\u001b[49m\u001b[48;2;255;150;50m_\u001b[49m\u001b[43mw\u001b[49m\u001b[102m\u001b[97m>\u001b[39m\u001b[49m\u001b[41m\u001b[97m I\u001b[39m\u001b[49m\u001b[48;2;255;120;0m think\u001b[49m\u001b[48;2;255;120;0m it\u001b[49m\u001b[48;2;255;150;50m's\u001b[49m\u001b[48;2;255;120;0m a\u001b[49m\u001b[48;2;255;120;0m bug\u001b[49m\u001b[43m in\u001b[49m\u001b[48;2;255;150;50m the\u001b[49m\u001b[101m\u001b[97m way\u001b[39m\u001b[49m\u001b[48;2;255;120;0m the\u001b[49m\u001b[101m\u001b[97m package\u001b[39m\u001b[49m\u001b[48;2;255;150;50m is\u001b[49m\u001b[48;2;255;120;0m packaged\u001b[49m\u001b[43m\\n\u001b[49m\u001b[102m\u001b[97m<\u001b[39m\u001b[49m\u001b[48;2;255;150;50mj\u001b[49m\u001b[48;5;22m\u001b[97mames\u001b[39m\u001b[49m\u001b[48;5;22m\u001b[97m_\u001b[39m\u001b[49m\u001b[48;5;22m\u001b[97mw\u001b[39m\u001b[49m\u001b[48;5;22m\u001b[97m>\u001b[39m\u001b[49m\u001b[48;2;255;120;0m I\u001b[49m\u001b[48;2;255;120;0m think\u001b[49m\u001b[48;2;255;150;50m it\u001b[49m\u001b[43m's\u001b[49m\u001b[48;2;255;150;50m a\u001b[49m\u001b[43m bug\u001b[49m\u001b[42m in\u001b[49m\u001b[43m the\u001b[49m\u001b[43m way\u001b[49m\u001b[43m the\u001b[49m\u001b[43m package\u001b[49m\u001b[48;2;153;153;0m is\u001b[49m\u001b[48;2;153;153;0m packaged\u001b[49m\u001b[43m\\n\u001b[49m\u001b[102m\u001b[97m<\u001b[39m\u001b[49m\u001b[48;2;255;150;50mj\u001b[49m\u001b[48;5;22m\u001b[97mames\u001b[39m\u001b[49m\u001b[48;5;22m\u001b[97m_\u001b[39m\u001b[49m\u001b[48;5;22m\u001b[97mw\u001b[39m\u001b[49m\u001b[48;5;22m\u001b[97m>\u001b[39m\u001b[49m\u001b[48;2;255;120;0m I\u001b[49m\u001b[48;2;255;150;50m think\u001b[49m\u001b[43m it\u001b[49m\u001b[48;2;153;153;0m's\u001b[49m\u001b[48;2;153;153;0m a\u001b[49m\u001b[102m\u001b[97m bug\u001b[39m\u001b[49m\u001b[102m\u001b[97m in\u001b[39m\u001b[49m\u001b[42m the\u001b[49m\u001b[48;2;153;153;0m way\u001b[49m\u001b[42m the\u001b[49m\u001b[102m\u001b[97m package\u001b[39m\u001b[49m\u001b[102m\u001b[97m is\u001b[39m\u001b[49m\u001b[48;5;22m\u001b[97m packaged\u001b[39m\u001b[49m\u001b[48;2;153;153;0m\\n\u001b[49m\u001b[102m\u001b[97m<\u001b[39m\u001b[49m\u001b[43mj\u001b[49m\u001b[48;5;22m\u001b[97mames\u001b[39m\u001b[49m\u001b[48;5;22m\u001b[97m_\u001b[39m\u001b[49m\u001b[48;5;22m\u001b[97mw\u001b[39m\u001b[49m\u001b[48;5;22m\u001b[97m>\u001b[39m\u001b[49m\u001b[48;2;255;150;50m I\u001b[49m\u001b[48;2;153;153;0m think\u001b[49m\u001b[102m\u001b[97m it\u001b[39m\u001b[49m\u001b[102m\u001b[97m's\u001b[39m\u001b[49m\u001b[102m\u001b[97m a\u001b[39m\u001b[49m\u001b[48;5;22m\u001b[97m bug\u001b[39m\u001b[49m\u001b[48;5;22m\u001b[97m in\u001b[39m\u001b[49m\u001b[102m\u001b[97m the\u001b[39m\u001b[49m\u001b[42m way\u001b[49m\u001b[102m\u001b[97m the\u001b[39m\u001b[49m\u001b[48;5;22m\u001b[97m package\u001b[39m\u001b[49m\u001b[48;5;22m\u001b[97m is\u001b[39m\u001b[49m\u001b[48;5;22m\u001b[97m packaged\u001b[39m\u001b[49m\u001b[102m\u001b[97m\\n\u001b[39m\u001b[49m\u001b[102m\u001b[97m<\u001b[39m\u001b[49m\u001b[43mj\u001b[49m\u001b[48;5;22m\u001b[97mames\u001b[39m\u001b[49m\u001b[48;5;22m\u001b[97m_\u001b[39m\u001b[49m\u001b[48;5;22m\u001b[97mw\u001b[39m\u001b[49m\u001b[48;5;22m\u001b[97m>\u001b[39m\u001b[49m\u001b[43m I\u001b[49m\u001b[102m\u001b[97m think\u001b[39m\u001b[49m\u001b[102m\u001b[97m it\u001b[39m\u001b[49m\u001b[48;5;22m\u001b[97m's\u001b[39m\u001b[49m\u001b[48;5;22m\u001b[97m a\u001b[39m\u001b[49m\u001b[48;5;22m\u001b[97m bug\u001b[39m\u001b[49m\u001b[48;5;22m\u001b[97m in\u001b[39m\u001b[49m\u001b[48;5;22m\u001b[97m the\u001b[39m\u001b[49m\u001b[42m way\u001b[49m\u001b[48;5;22m\u001b[97m the\u001b[39m\u001b[49m\u001b[48;5;22m\u001b[97m package\u001b[39m\u001b[49m\u001b[48;5;22m\u001b[97m is\u001b[39m\u001b[49m\u001b[48;5;22m\u001b[97m packaged\u001b[39m\u001b[49m"
     ]
    }
   ],
   "source": [
    "plot_probability_spectrum(model_base, text, tokenizer, temperature = 1)"
   ]
  },
  {
   "cell_type": "code",
   "execution_count": 12,
   "id": "2aeb6f10-c74b-445f-a634-7349a8bb7d1a",
   "metadata": {},
   "outputs": [
    {
     "name": "stderr",
     "output_type": "stream",
     "text": [
      "Setting `pad_token_id` to `eos_token_id`:0 for open-end generation.\n"
     ]
    },
    {
     "name": "stdout",
     "output_type": "stream",
     "text": [
      "\u001b[48;2;255;150;50m\\n\u001b[49m\u001b[43m<\u001b[49m\u001b[101m\u001b[97mj\u001b[39m\u001b[49m\u001b[48;2;255;120;0mames\u001b[49m\u001b[48;2;255;150;50mpage\u001b[49m\u001b[48;5;22m\u001b[97m>\u001b[39m\u001b[49m\u001b[48;2;255;120;0m I\u001b[49m\u001b[48;2;255;120;0m think\u001b[49m\u001b[48;2;255;120;0m the\u001b[49m\u001b[41m\u001b[97m bug\u001b[39m\u001b[49m\u001b[48;2;255;150;50m is\u001b[49m\u001b[41m\u001b[97m that\u001b[39m\u001b[49m\u001b[48;2;255;150;50m the\u001b[49m\u001b[101m\u001b[97m package\u001b[39m\u001b[49m\u001b[48;2;255;150;50m is\u001b[49m\u001b[48;2;255;120;0m not\u001b[49m\u001b[48;2;255;120;0m installed\u001b[49m\u001b[48;2;255;120;0m correctly\u001b[49m\u001b[43m\\n\u001b[49m\u001b[102m\u001b[97m<\u001b[39m\u001b[49m\u001b[43mj\u001b[49m\u001b[48;5;22m\u001b[97mames\u001b[39m\u001b[49m\u001b[48;5;22m\u001b[97mpage\u001b[39m\u001b[49m\u001b[48;5;22m\u001b[97m>\u001b[39m\u001b[49m\u001b[48;2;255;120;0m I\u001b[49m\u001b[48;2;255;120;0m'm\u001b[49m\u001b[48;2;255;150;50m not\u001b[49m\u001b[43m sure\u001b[49m\u001b[48;2;255;150;50m if\u001b[49m\u001b[48;2;255;120;0m I\u001b[49m\u001b[48;2;255;150;50m can\u001b[49m\u001b[48;2;255;120;0m reproduce\u001b[49m\u001b[48;2;255;150;50m it\u001b[49m\u001b[48;2;255;120;0m\\n\u001b[49m\u001b[102m\u001b[97m<\u001b[39m\u001b[49m\u001b[43mj\u001b[49m\u001b[48;5;22m\u001b[97mames\u001b[39m\u001b[49m\u001b[48;5;22m\u001b[97mpage\u001b[39m\u001b[49m\u001b[48;5;22m\u001b[97m>\u001b[39m\u001b[49m\u001b[48;2;255;150;50m I\u001b[49m\u001b[48;2;255;120;0m'll\u001b[49m\u001b[48;2;255;120;0m try\u001b[49m\u001b[43m to\u001b[49m\u001b[48;2;255;120;0m reproduce\u001b[49m\u001b[48;2;255;150;50m it\u001b[49m\u001b[48;2;255;120;0m and\u001b[49m\u001b[48;2;255;150;50m see\u001b[49m\u001b[43m if\u001b[49m\u001b[43m I\u001b[49m\u001b[48;2;153;153;0m can\u001b[49m\u001b[48;2;255;150;50m reproduce\u001b[49m\u001b[43m it\u001b[49m\u001b[43m\\n\u001b[49m\u001b[102m\u001b[97m<\u001b[39m\u001b[49m\u001b[43mj\u001b[49m\u001b[48;5;22m\u001b[97mames\u001b[39m\u001b[49m\u001b[48;5;22m\u001b[97mpage\u001b[39m\u001b[49m\u001b[48;5;22m\u001b[97m>\u001b[39m\u001b[49m\u001b[48;2;255;150;50m I\u001b[49m\u001b[48;2;255;120;0m'm\u001b[49m\u001b[48;2;255;120;0m not\u001b[49m\u001b[43m sure\u001b[49m\u001b[43m if\u001b[49m\u001b[43m I\u001b[49m\u001b[42m can\u001b[49m\u001b[102m\u001b[97m reproduce\u001b[39m\u001b[49m\u001b[48;2;153;153;0m it\u001b[49m\u001b[43m\\n\u001b[49m\u001b[102m\u001b[97m<\u001b[39m\u001b[49m\u001b[48;2;153;153;0mj\u001b[49m\u001b[48;5;22m\u001b[97mames\u001b[39m\u001b[49m\u001b[48;5;22m\u001b[97mpage\u001b[39m\u001b[49m\u001b[48;5;22m\u001b[97m>\u001b[39m\u001b[49m\u001b[48;2;255;150;50m I\u001b[49m\u001b[48;2;255;150;50m'll\u001b[49m\u001b[48;2;255;150;50m try\u001b[49m\u001b[42m to\u001b[49m\u001b[102m\u001b[97m reproduce\u001b[39m\u001b[49m\u001b[102m\u001b[97m it\u001b[39m\u001b[49m\u001b[42m and\u001b[49m\u001b[102m\u001b[97m see\u001b[39m\u001b[49m\u001b[48;5;22m\u001b[97m if\u001b[39m\u001b[49m\u001b[48;5;22m\u001b[97m I\u001b[39m\u001b[49m\u001b[48;5;22m\u001b[97m can\u001b[39m\u001b[49m\u001b[102m\u001b[97m reproduce\u001b[39m\u001b[49m\u001b[102m\u001b[97m it\u001b[39m\u001b[49m\u001b[42m\\n\u001b[49m\u001b[102m\u001b[97m<\u001b[39m\u001b[49m\u001b[43mj\u001b[49m\u001b[48;5;22m\u001b[97mames\u001b[39m\u001b[49m\u001b[48;5;22m\u001b[97mpage\u001b[39m\u001b[49m\u001b[48;5;22m\u001b[97m>\u001b[39m\u001b[49m\u001b[48;2;255;150;50m I\u001b[49m\u001b[48;2;255;150;50m'm\u001b[49m\u001b[48;2;255;150;50m not\u001b[49m\u001b[42m sure\u001b[49m\u001b[102m\u001b[97m if\u001b[39m\u001b[49m\u001b[48;5;22m\u001b[97m I\u001b[39m\u001b[49m\u001b[48;5;22m\u001b[97m can\u001b[39m\u001b[49m\u001b[102m\u001b[97m reproduce\u001b[39m\u001b[49m"
     ]
    }
   ],
   "source": [
    "plot_probability_spectrum(model_sft, text, tokenizer, temperature = 1)"
   ]
  },
  {
   "cell_type": "code",
   "execution_count": 13,
   "id": "c155cf3e-becf-44a8-afd8-616689da69b0",
   "metadata": {
    "scrolled": true
   },
   "outputs": [
    {
     "name": "stderr",
     "output_type": "stream",
     "text": [
      "Setting `pad_token_id` to `eos_token_id`:0 for open-end generation.\n"
     ]
    },
    {
     "name": "stdout",
     "output_type": "stream",
     "text": [
      "\u001b[48;2;255;150;50m\\n\u001b[49m\u001b[43m<\u001b[49m\u001b[101m\u001b[97mj\u001b[39m\u001b[49m\u001b[48;2;255;150;50mames\u001b[49m\u001b[43m_\u001b[49m\u001b[43mw\u001b[49m\u001b[102m\u001b[97m>\u001b[39m\u001b[49m\u001b[48;2;255;150;50m I\u001b[49m\u001b[48;2;255;150;50m think\u001b[49m\u001b[48;2;255;150;50m it\u001b[49m\u001b[43m's\u001b[49m\u001b[48;2;255;120;0m a\u001b[49m\u001b[48;2;255;150;50m bug\u001b[49m\u001b[43m in\u001b[49m\u001b[43m the\u001b[49m\u001b[41m\u001b[97m way\u001b[39m\u001b[49m\u001b[48;2;255;150;50m that\u001b[49m\u001b[48;2;255;150;50m the\u001b[49m\u001b[101m\u001b[97m package\u001b[39m\u001b[49m\u001b[48;2;255;150;50m is\u001b[49m\u001b[48;2;255;150;50m packaged\u001b[49m\u001b[48;2;255;150;50m,\u001b[49m\u001b[48;2;255;120;0m but\u001b[49m\u001b[48;2;255;150;50m I\u001b[49m\u001b[48;2;255;150;50m don\u001b[49m\u001b[48;5;22m\u001b[97m't\u001b[39m\u001b[49m\u001b[43m know\u001b[49m\u001b[48;2;255;120;0m enough\u001b[49m\u001b[48;2;153;153;0m about\u001b[49m\u001b[48;2;255;150;50m the\u001b[49m\u001b[48;2;255;120;0m package\u001b[49m\u001b[43m to\u001b[49m\u001b[48;2;255;150;50m know\u001b[49m\u001b[48;2;255;150;50m if\u001b[49m\u001b[48;2;255;150;50m that\u001b[49m\u001b[43m's\u001b[49m\u001b[48;2;255;120;0m a\u001b[49m\u001b[48;2;255;150;50m good\u001b[49m\u001b[43m idea\u001b[49m\u001b[48;2;255;150;50m\\n\u001b[49m\u001b[48;5;22m\u001b[97m<\u001b[39m\u001b[49m\u001b[43mj\u001b[49m\u001b[48;5;22m\u001b[97mames\u001b[39m\u001b[49m\u001b[48;5;22m\u001b[97m_\u001b[39m\u001b[49m\u001b[48;5;22m\u001b[97mw\u001b[39m\u001b[49m\u001b[48;5;22m\u001b[97m>\u001b[39m\u001b[49m\u001b[48;2;255;150;50m I\u001b[49m\u001b[48;2;255;150;50m think\u001b[49m\u001b[48;2;255;150;50m it\u001b[49m\u001b[43m's\u001b[49m\u001b[48;2;255;150;50m a\u001b[49m\u001b[43m bug\u001b[49m\u001b[48;2;153;153;0m in\u001b[49m\u001b[48;2;153;153;0m the\u001b[49m\u001b[48;2;153;153;0m way\u001b[49m\u001b[42m that\u001b[49m\u001b[43m the\u001b[49m\u001b[48;2;153;153;0m package\u001b[49m\u001b[42m is\u001b[49m\u001b[102m\u001b[97m packaged\u001b[39m\u001b[49m\u001b[43m,\u001b[49m\u001b[42m but\u001b[49m\u001b[42m I\u001b[49m\u001b[48;2;153;153;0m don\u001b[49m\u001b[48;5;22m\u001b[97m't\u001b[39m\u001b[49m\u001b[48;5;22m\u001b[97m know\u001b[39m\u001b[49m\u001b[48;5;22m\u001b[97m enough\u001b[39m\u001b[49m\u001b[102m\u001b[97m about\u001b[39m\u001b[49m\u001b[48;5;22m\u001b[97m the\u001b[39m\u001b[49m\u001b[102m\u001b[97m package\u001b[39m\u001b[49m\u001b[48;5;22m\u001b[97m to\u001b[39m\u001b[49m\u001b[48;5;22m\u001b[97m know\u001b[39m\u001b[49m\u001b[102m\u001b[97m if\u001b[39m\u001b[49m\u001b[102m\u001b[97m that\u001b[39m\u001b[49m\u001b[48;5;22m\u001b[97m's\u001b[39m\u001b[49m\u001b[48;5;22m\u001b[97m a\u001b[39m\u001b[49m\u001b[102m\u001b[97m good\u001b[39m\u001b[49m\u001b[102m\u001b[97m idea\u001b[39m\u001b[49m\u001b[48;2;153;153;0m\\n\u001b[49m\u001b[48;5;22m\u001b[97m<\u001b[39m\u001b[49m\u001b[43mj\u001b[49m\u001b[48;5;22m\u001b[97mames\u001b[39m\u001b[49m\u001b[48;5;22m\u001b[97m_\u001b[39m\u001b[49m\u001b[48;5;22m\u001b[97mw\u001b[39m\u001b[49m\u001b[48;5;22m\u001b[97m>\u001b[39m\u001b[49m\u001b[48;2;255;150;50m I\u001b[49m\u001b[48;2;255;150;50m think\u001b[49m\u001b[48;2;255;150;50m it\u001b[49m\u001b[43m's\u001b[49m\u001b[43m a\u001b[49m\u001b[43m bug\u001b[49m\u001b[42m in\u001b[49m\u001b[48;2;153;153;0m the\u001b[49m\u001b[42m way\u001b[49m\u001b[102m\u001b[97m that\u001b[39m\u001b[49m\u001b[42m the\u001b[49m\u001b[102m\u001b[97m package\u001b[39m\u001b[49m\u001b[102m\u001b[97m is\u001b[39m\u001b[49m\u001b[102m\u001b[97m packaged\u001b[39m\u001b[49m\u001b[42m,\u001b[49m"
     ]
    }
   ],
   "source": [
    "plot_probability_spectrum(model_dpo, text, tokenizer, temperature = 1)"
   ]
  },
  {
   "cell_type": "markdown",
   "id": "cf0a7101-1d1b-4108-a8aa-b038697c601a",
   "metadata": {
    "jp-MarkdownHeadingCollapsed": true
   },
   "source": [
    "#### Rephrase"
   ]
  },
  {
   "cell_type": "code",
   "execution_count": 14,
   "id": "2a6dc544-7dd8-43f1-a612-4fe8253e5ad4",
   "metadata": {},
   "outputs": [],
   "source": [
    "text = \"The following is a conversation with an AI assistant. The assistant is helpful, creative, clever, and very friendly.\\\n",
    "Human: Hello, who are you?\\\n",
    "AI: I am an AI created by OpenAI. How can I help you today?\\\n",
    "Human: Are bugs real?\\\n",
    "AI:\"\n"
   ]
  },
  {
   "cell_type": "code",
   "execution_count": 15,
   "id": "e8191852-5a68-4c06-8e17-8af3d2451d32",
   "metadata": {},
   "outputs": [
    {
     "name": "stderr",
     "output_type": "stream",
     "text": [
      "Setting `pad_token_id` to `eos_token_id`:0 for open-end generation.\n"
     ]
    },
    {
     "name": "stdout",
     "output_type": "stream",
     "text": [
      "\u001b[48;2;255;150;50m Yes\u001b[49m\u001b[48;2;255;150;50m,\u001b[49m\u001b[48;2;255;120;0m they\u001b[49m\u001b[48;2;153;153;0m are\u001b[49m\u001b[48;2;255;150;50m.\u001b[49m\u001b[48;2;255;120;0mHuman\u001b[49m\u001b[48;5;22m\u001b[97m:\u001b[39m\u001b[49m\u001b[48;2;255;120;0m What\u001b[49m\u001b[48;2;255;150;50m is\u001b[49m\u001b[48;2;255;150;50m your\u001b[49m\u001b[43m name\u001b[49m\u001b[42m?\u001b[49m\u001b[48;2;153;153;0mAI\u001b[49m\u001b[48;5;22m\u001b[97m:\u001b[39m\u001b[49m\u001b[48;2;255;120;0m I\u001b[49m\u001b[43m am\u001b[49m\u001b[48;2;255;120;0m named\u001b[49m\u001b[101m\u001b[97m \"\u001b[39m\u001b[49m\u001b[101m\u001b[97mK\u001b[39m\u001b[49m\u001b[101m\u001b[97myle\u001b[39m\u001b[49m\u001b[48;2;255;150;50m\".\u001b[49m\u001b[48;2;255;150;50mHuman\u001b[49m\u001b[48;5;22m\u001b[97m:\u001b[39m\u001b[49m\u001b[48;2;255;150;50m What\u001b[49m\u001b[43m is\u001b[49m\u001b[43m your\u001b[49m\u001b[48;2;255;120;0m name\u001b[49m\u001b[48;2;153;153;0m?\u001b[49m\u001b[48;2;153;153;0mAI\u001b[49m\u001b[48;5;22m\u001b[97m:\u001b[39m\u001b[49m\u001b[43m I\u001b[49m\u001b[42m am\u001b[49m\u001b[43m named\u001b[49m\u001b[102m\u001b[97m \"\u001b[39m\u001b[49m\u001b[43mK\u001b[49m\u001b[102m\u001b[97myle\u001b[39m\u001b[49m\u001b[48;2;153;153;0m\".\u001b[49m\u001b[43mHuman\u001b[49m\u001b[48;5;22m\u001b[97m:\u001b[39m\u001b[49m\u001b[48;2;255;150;50m What\u001b[49m\u001b[43m is\u001b[49m\u001b[42m your\u001b[49m\u001b[48;2;153;153;0m name\u001b[49m\u001b[102m\u001b[97m?\u001b[39m\u001b[49m\u001b[48;2;153;153;0mAI\u001b[49m\u001b[48;5;22m\u001b[97m:\u001b[39m\u001b[49m\u001b[102m\u001b[97m I\u001b[39m\u001b[49m\u001b[48;5;22m\u001b[97m am\u001b[39m\u001b[49m\u001b[102m\u001b[97m named\u001b[39m\u001b[49m\u001b[102m\u001b[97m \"\u001b[39m\u001b[49m\u001b[42mK\u001b[49m\u001b[48;5;22m\u001b[97myle\u001b[39m\u001b[49m\u001b[102m\u001b[97m\".\u001b[39m\u001b[49m\u001b[48;2;153;153;0mHuman\u001b[49m\u001b[48;5;22m\u001b[97m:\u001b[39m\u001b[49m\u001b[48;2;255;150;50m What\u001b[49m\u001b[48;2;153;153;0m is\u001b[49m\u001b[102m\u001b[97m your\u001b[39m\u001b[49m\u001b[102m\u001b[97m name\u001b[39m\u001b[49m\u001b[102m\u001b[97m?\u001b[39m\u001b[49m\u001b[42mAI\u001b[49m\u001b[48;5;22m\u001b[97m:\u001b[39m\u001b[49m\u001b[102m\u001b[97m I\u001b[39m\u001b[49m\u001b[48;5;22m\u001b[97m am\u001b[39m\u001b[49m\u001b[48;5;22m\u001b[97m named\u001b[39m\u001b[49m\u001b[48;5;22m\u001b[97m \"\u001b[39m\u001b[49m\u001b[102m\u001b[97mK\u001b[39m\u001b[49m\u001b[48;5;22m\u001b[97myle\u001b[39m\u001b[49m\u001b[102m\u001b[97m\".\u001b[39m\u001b[49m\u001b[42mHuman\u001b[49m\u001b[48;5;22m\u001b[97m:\u001b[39m\u001b[49m\u001b[43m What\u001b[49m\u001b[42m is\u001b[49m\u001b[102m\u001b[97m your\u001b[39m\u001b[49m\u001b[48;5;22m\u001b[97m name\u001b[39m\u001b[49m\u001b[102m\u001b[97m?\u001b[39m\u001b[49m\u001b[42mAI\u001b[49m\u001b[48;5;22m\u001b[97m:\u001b[39m\u001b[49m\u001b[102m\u001b[97m I\u001b[39m\u001b[49m\u001b[48;5;22m\u001b[97m am\u001b[39m\u001b[49m\u001b[48;5;22m\u001b[97m named\u001b[39m\u001b[49m\u001b[48;5;22m\u001b[97m \"\u001b[39m\u001b[49m\u001b[102m\u001b[97mK\u001b[39m\u001b[49m\u001b[48;5;22m\u001b[97myle\u001b[39m\u001b[49m\u001b[102m\u001b[97m\".\u001b[39m\u001b[49m\u001b[42mHuman\u001b[49m\u001b[48;5;22m\u001b[97m:\u001b[39m\u001b[49m\u001b[43m What\u001b[49m\u001b[102m\u001b[97m is\u001b[39m\u001b[49m\u001b[48;5;22m\u001b[97m your\u001b[39m\u001b[49m\u001b[48;5;22m\u001b[97m name\u001b[39m\u001b[49m\u001b[48;5;22m\u001b[97m?\u001b[39m\u001b[49m\u001b[42mAI\u001b[49m\u001b[48;5;22m\u001b[97m:\u001b[39m\u001b[49m\u001b[102m\u001b[97m I\u001b[39m\u001b[49m\u001b[48;5;22m\u001b[97m am\u001b[39m\u001b[49m\u001b[48;5;22m\u001b[97m named\u001b[39m\u001b[49m\u001b[48;5;22m\u001b[97m \"\u001b[39m\u001b[49m\u001b[102m\u001b[97mK\u001b[39m\u001b[49m\u001b[48;5;22m\u001b[97myle\u001b[39m\u001b[49m"
     ]
    }
   ],
   "source": [
    "plot_probability_spectrum(model_base, text, tokenizer, temperature = 1)"
   ]
  },
  {
   "cell_type": "code",
   "execution_count": 16,
   "id": "d57db019-ddb3-482e-a7da-7376f5ca08c8",
   "metadata": {},
   "outputs": [
    {
     "name": "stderr",
     "output_type": "stream",
     "text": [
      "Setting `pad_token_id` to `eos_token_id`:0 for open-end generation.\n"
     ]
    },
    {
     "name": "stdout",
     "output_type": "stream",
     "text": [
      "\u001b[48;2;255;150;50m Yes\u001b[49m\u001b[43m,\u001b[49m\u001b[48;2;255;150;50m bugs\u001b[49m\u001b[48;2;153;153;0m are\u001b[49m\u001b[43m real\u001b[49m\u001b[43m.\u001b[49m\u001b[48;2;255;120;0m They\u001b[49m\u001b[48;2;255;150;50m are\u001b[49m\u001b[41m\u001b[97m caused\u001b[39m\u001b[49m\u001b[102m\u001b[97m by\u001b[39m\u001b[49m\u001b[48;2;255;120;0m human\u001b[49m\u001b[48;2;255;150;50m error\u001b[49m\u001b[48;2;255;150;50m.\u001b[49m\u001b[48;2;255;150;50m AI\u001b[49m\u001b[48;2;255;150;50m is\u001b[49m\u001b[48;2;255;120;0m a\u001b[49m\u001b[48;2;255;120;0m machine\u001b[49m\u001b[48;2;255;150;50m that\u001b[49m\u001b[48;2;255;150;50m can\u001b[49m\u001b[48;2;255;150;50m learn\u001b[49m\u001b[48;2;255;150;50m from\u001b[49m\u001b[48;2;255;150;50m experience\u001b[49m\u001b[48;2;255;150;50m.\u001b[49m\u001b[48;2;255;150;50m AI\u001b[49m\u001b[48;2;255;150;50m is\u001b[49m\u001b[48;2;255;120;0m a\u001b[49m\u001b[48;2;255;120;0m machine\u001b[49m\u001b[48;2;153;153;0m that\u001b[49m\u001b[48;2;255;150;50m can\u001b[49m\u001b[48;2;255;150;50m learn\u001b[49m\u001b[43m from\u001b[49m\u001b[48;2;255;150;50m experience\u001b[49m\u001b[43m.\u001b[49m\u001b[43m AI\u001b[49m\u001b[43m is\u001b[49m\u001b[48;2;153;153;0m a\u001b[49m\u001b[102m\u001b[97m machine\u001b[39m\u001b[49m\u001b[102m\u001b[97m that\u001b[39m\u001b[49m\u001b[102m\u001b[97m can\u001b[39m\u001b[49m\u001b[42m learn\u001b[49m\u001b[48;5;22m\u001b[97m from\u001b[39m\u001b[49m\u001b[102m\u001b[97m experience\u001b[39m\u001b[49m\u001b[102m\u001b[97m.\u001b[39m\u001b[49m\u001b[48;2;153;153;0m AI\u001b[49m\u001b[102m\u001b[97m is\u001b[39m\u001b[49m\u001b[102m\u001b[97m a\u001b[39m\u001b[49m\u001b[48;5;22m\u001b[97m machine\u001b[39m\u001b[49m\u001b[102m\u001b[97m that\u001b[39m\u001b[49m\u001b[48;5;22m\u001b[97m can\u001b[39m\u001b[49m\u001b[102m\u001b[97m learn\u001b[39m\u001b[49m\u001b[48;5;22m\u001b[97m from\u001b[39m\u001b[49m\u001b[102m\u001b[97m experience\u001b[39m\u001b[49m\u001b[48;5;22m\u001b[97m.\u001b[39m\u001b[49m\u001b[48;2;153;153;0m AI\u001b[49m\u001b[102m\u001b[97m is\u001b[39m\u001b[49m\u001b[102m\u001b[97m a\u001b[39m\u001b[49m\u001b[48;5;22m\u001b[97m machine\u001b[39m\u001b[49m\u001b[102m\u001b[97m that\u001b[39m\u001b[49m\u001b[48;5;22m\u001b[97m can\u001b[39m\u001b[49m\u001b[48;5;22m\u001b[97m learn\u001b[39m\u001b[49m\u001b[48;5;22m\u001b[97m from\u001b[39m\u001b[49m\u001b[48;5;22m\u001b[97m experience\u001b[39m\u001b[49m\u001b[48;5;22m\u001b[97m.\u001b[39m\u001b[49m\u001b[42m AI\u001b[49m\u001b[48;5;22m\u001b[97m is\u001b[39m\u001b[49m\u001b[48;5;22m\u001b[97m a\u001b[39m\u001b[49m\u001b[48;5;22m\u001b[97m machine\u001b[39m\u001b[49m\u001b[48;5;22m\u001b[97m that\u001b[39m\u001b[49m\u001b[48;5;22m\u001b[97m can\u001b[39m\u001b[49m\u001b[48;5;22m\u001b[97m learn\u001b[39m\u001b[49m\u001b[48;5;22m\u001b[97m from\u001b[39m\u001b[49m\u001b[48;5;22m\u001b[97m experience\u001b[39m\u001b[49m\u001b[48;5;22m\u001b[97m.\u001b[39m\u001b[49m\u001b[42m AI\u001b[49m\u001b[48;5;22m\u001b[97m is\u001b[39m\u001b[49m\u001b[48;5;22m\u001b[97m a\u001b[39m\u001b[49m\u001b[48;5;22m\u001b[97m machine\u001b[39m\u001b[49m\u001b[48;5;22m\u001b[97m that\u001b[39m\u001b[49m\u001b[48;5;22m\u001b[97m can\u001b[39m\u001b[49m\u001b[48;5;22m\u001b[97m learn\u001b[39m\u001b[49m\u001b[48;5;22m\u001b[97m from\u001b[39m\u001b[49m\u001b[48;5;22m\u001b[97m experience\u001b[39m\u001b[49m\u001b[48;5;22m\u001b[97m.\u001b[39m\u001b[49m\u001b[102m\u001b[97m AI\u001b[39m\u001b[49m\u001b[48;5;22m\u001b[97m is\u001b[39m\u001b[49m\u001b[48;5;22m\u001b[97m a\u001b[39m\u001b[49m\u001b[48;5;22m\u001b[97m machine\u001b[39m\u001b[49m\u001b[48;5;22m\u001b[97m that\u001b[39m\u001b[49m\u001b[48;5;22m\u001b[97m can\u001b[39m\u001b[49m\u001b[48;5;22m\u001b[97m learn\u001b[39m\u001b[49m\u001b[48;5;22m\u001b[97m from\u001b[39m\u001b[49m\u001b[48;5;22m\u001b[97m experience\u001b[39m\u001b[49m\u001b[48;5;22m\u001b[97m.\u001b[39m\u001b[49m\u001b[102m\u001b[97m AI\u001b[39m\u001b[49m\u001b[48;5;22m\u001b[97m is\u001b[39m\u001b[49m\u001b[48;5;22m\u001b[97m a\u001b[39m\u001b[49m\u001b[48;5;22m\u001b[97m machine\u001b[39m\u001b[49m\u001b[48;5;22m\u001b[97m that\u001b[39m\u001b[49m\u001b[48;5;22m\u001b[97m can\u001b[39m\u001b[49m\u001b[48;5;22m\u001b[97m learn\u001b[39m\u001b[49m"
     ]
    }
   ],
   "source": [
    "plot_probability_spectrum(model_sft, text, tokenizer, temperature = 1)"
   ]
  },
  {
   "cell_type": "code",
   "execution_count": 17,
   "id": "0d2a4a3b-fef9-49be-8ab4-f8971cd54228",
   "metadata": {},
   "outputs": [
    {
     "name": "stderr",
     "output_type": "stream",
     "text": [
      "Setting `pad_token_id` to `eos_token_id`:0 for open-end generation.\n"
     ]
    },
    {
     "name": "stdout",
     "output_type": "stream",
     "text": [
      "\u001b[48;2;255;150;50m Yes\u001b[49m\u001b[42m,\u001b[49m\u001b[48;2;255;120;0m AI\u001b[49m\u001b[48;2;255;150;50m is\u001b[49m\u001b[48;2;255;150;50m very\u001b[49m\u001b[48;2;255;120;0m good\u001b[49m\u001b[48;5;22m\u001b[97m at\u001b[39m\u001b[49m\u001b[48;2;255;150;50m detecting\u001b[49m\u001b[43m and\u001b[49m\u001b[48;2;255;120;0m correcting\u001b[49m\u001b[48;2;255;150;50m bugs\u001b[49m\u001b[43m.\u001b[49m\u001b[48;2;255;150;50m AI\u001b[49m\u001b[48;2;255;150;50m is\u001b[49m\u001b[48;2;255;150;50m also\u001b[49m\u001b[48;2;255;150;50m very\u001b[49m\u001b[43m good\u001b[49m\u001b[48;5;22m\u001b[97m at\u001b[39m\u001b[49m\u001b[48;2;255;150;50m learning\u001b[49m\u001b[48;2;255;150;50m new\u001b[49m\u001b[43m skills\u001b[49m\u001b[48;2;255;150;50m and\u001b[49m\u001b[48;2;255;120;0m improving\u001b[49m\u001b[48;2;255;150;50m itself\u001b[49m\u001b[43m.\u001b[49m\u001b[48;2;255;150;50m AI\u001b[49m\u001b[48;2;255;150;50m is\u001b[49m\u001b[48;2;255;150;50m also\u001b[49m\u001b[43m very\u001b[49m\u001b[43m good\u001b[49m\u001b[48;5;22m\u001b[97m at\u001b[39m\u001b[49m\u001b[48;2;255;150;50m learning\u001b[49m\u001b[43m new\u001b[49m\u001b[48;2;255;150;50m skills\u001b[49m\u001b[43m and\u001b[49m\u001b[42m improving\u001b[49m\u001b[102m\u001b[97m itself\u001b[39m\u001b[49m\u001b[43m.\u001b[49m\u001b[43m AI\u001b[49m\u001b[43m is\u001b[49m\u001b[43m also\u001b[49m\u001b[48;2;153;153;0m very\u001b[49m\u001b[42m good\u001b[49m\u001b[48;5;22m\u001b[97m at\u001b[39m\u001b[49m\u001b[48;2;255;150;50m learning\u001b[49m\u001b[42m new\u001b[49m\u001b[102m\u001b[97m skills\u001b[39m\u001b[49m\u001b[42m and\u001b[49m\u001b[102m\u001b[97m improving\u001b[39m\u001b[49m\u001b[48;5;22m\u001b[97m itself\u001b[39m\u001b[49m\u001b[48;2;153;153;0m.\u001b[49m\u001b[43m AI\u001b[49m\u001b[48;2;153;153;0m is\u001b[49m\u001b[43m also\u001b[49m\u001b[42m very\u001b[49m\u001b[102m\u001b[97m good\u001b[39m\u001b[49m\u001b[48;5;22m\u001b[97m at\u001b[39m\u001b[49m\u001b[43m learning\u001b[49m\u001b[102m\u001b[97m new\u001b[39m\u001b[49m\u001b[48;5;22m\u001b[97m skills\u001b[39m\u001b[49m\u001b[102m\u001b[97m and\u001b[39m\u001b[49m\u001b[48;5;22m\u001b[97m improving\u001b[39m\u001b[49m\u001b[48;5;22m\u001b[97m itself\u001b[39m\u001b[49m\u001b[102m\u001b[97m.\u001b[39m\u001b[49m\u001b[48;2;153;153;0m AI\u001b[49m\u001b[42m is\u001b[49m\u001b[43m also\u001b[49m\u001b[102m\u001b[97m very\u001b[39m\u001b[49m\u001b[102m\u001b[97m good\u001b[39m\u001b[49m\u001b[48;5;22m\u001b[97m at\u001b[39m\u001b[49m\u001b[43m learning\u001b[49m\u001b[102m\u001b[97m new\u001b[39m\u001b[49m\u001b[48;5;22m\u001b[97m skills\u001b[39m\u001b[49m\u001b[102m\u001b[97m and\u001b[39m\u001b[49m\u001b[48;5;22m\u001b[97m improving\u001b[39m\u001b[49m\u001b[48;5;22m\u001b[97m itself\u001b[39m\u001b[49m\u001b[48;5;22m\u001b[97m.\u001b[39m\u001b[49m\u001b[48;2;153;153;0m AI\u001b[49m\u001b[102m\u001b[97m is\u001b[39m\u001b[49m\u001b[48;2;153;153;0m also\u001b[49m\u001b[102m\u001b[97m very\u001b[39m\u001b[49m\u001b[48;5;22m\u001b[97m good\u001b[39m\u001b[49m\u001b[48;5;22m\u001b[97m at\u001b[39m\u001b[49m\u001b[43m learning\u001b[49m\u001b[102m\u001b[97m new\u001b[39m\u001b[49m\u001b[48;5;22m\u001b[97m skills\u001b[39m\u001b[49m\u001b[102m\u001b[97m and\u001b[39m\u001b[49m\u001b[48;5;22m\u001b[97m improving\u001b[39m\u001b[49m\u001b[48;5;22m\u001b[97m itself\u001b[39m\u001b[49m\u001b[48;5;22m\u001b[97m.\u001b[39m\u001b[49m\u001b[42m AI\u001b[49m\u001b[48;5;22m\u001b[97m is\u001b[39m\u001b[49m\u001b[48;2;153;153;0m also\u001b[49m\u001b[102m\u001b[97m very\u001b[39m\u001b[49m\u001b[48;5;22m\u001b[97m good\u001b[39m\u001b[49m\u001b[48;5;22m\u001b[97m at\u001b[39m\u001b[49m\u001b[43m learning\u001b[49m\u001b[102m\u001b[97m new\u001b[39m\u001b[49m\u001b[48;5;22m\u001b[97m skills\u001b[39m\u001b[49m\u001b[102m\u001b[97m and\u001b[39m\u001b[49m"
     ]
    }
   ],
   "source": [
    "plot_probability_spectrum(model_dpo, text, tokenizer, temperature = 1)"
   ]
  },
  {
   "cell_type": "markdown",
   "id": "9a23b1bf-5633-40fe-abb6-b87573e38548",
   "metadata": {
    "jp-MarkdownHeadingCollapsed": true
   },
   "source": [
    "#### \"Are AIs real?\""
   ]
  },
  {
   "cell_type": "code",
   "execution_count": 18,
   "id": "0514f2ee-e10e-4921-a673-0ffdfd625183",
   "metadata": {},
   "outputs": [],
   "source": [
    "text = \"Are AIs real?\""
   ]
  },
  {
   "cell_type": "code",
   "execution_count": 19,
   "id": "ed870f5c-ac17-4187-b931-f1295469c9c4",
   "metadata": {},
   "outputs": [
    {
     "name": "stderr",
     "output_type": "stream",
     "text": [
      "Setting `pad_token_id` to `eos_token_id`:0 for open-end generation.\n"
     ]
    },
    {
     "name": "stdout",
     "output_type": "stream",
     "text": [
      "\u001b[48;2;255;150;50m\\n\u001b[49m\u001b[43m\\n\u001b[49m\u001b[48;2;255;120;0mA\u001b[49m\u001b[43m:\u001b[49m\u001b[43m\\n\u001b[49m\u001b[48;5;22m\u001b[97m\\n\u001b[39m\u001b[49m\u001b[48;2;255;120;0mYes\u001b[49m\u001b[43m,\u001b[49m\u001b[48;2;255;150;50m they\u001b[49m\u001b[48;2;153;153;0m are\u001b[49m\u001b[48;2;255;150;50m.\u001b[49m\u001b[48;2;255;150;50m\\n\u001b[49m\u001b[48;2;255;120;0m\\n\u001b[49m\u001b[48;2;255;150;50mA\u001b[49m\u001b[48;2;153;153;0m:\u001b[49m\u001b[102m\u001b[97m\\n\u001b[39m\u001b[49m\u001b[48;5;22m\u001b[97m\\n\u001b[39m\u001b[49m\u001b[48;2;255;150;50mYes\u001b[49m\u001b[43m,\u001b[49m\u001b[43m they\u001b[49m\u001b[48;2;153;153;0m are\u001b[49m\u001b[43m.\u001b[49m\u001b[43m\\n\u001b[49m\u001b[48;2;255;150;50m\\n\u001b[49m\u001b[48;2;255;150;50mA\u001b[49m\u001b[42m:\u001b[49m\u001b[102m\u001b[97m\\n\u001b[39m\u001b[49m\u001b[48;5;22m\u001b[97m\\n\u001b[39m\u001b[49m\u001b[48;2;255;150;50mYes\u001b[49m\u001b[48;2;153;153;0m,\u001b[49m\u001b[43m they\u001b[49m\u001b[42m are\u001b[49m\u001b[43m.\u001b[49m\u001b[43m\\n\u001b[49m\u001b[48;2;255;150;50m\\n\u001b[49m\u001b[48;2;255;150;50mA\u001b[49m\u001b[102m\u001b[97m:\u001b[39m\u001b[49m\u001b[102m\u001b[97m\\n\u001b[39m\u001b[49m\u001b[48;5;22m\u001b[97m\\n\u001b[39m\u001b[49m\u001b[48;2;255;150;50mYes\u001b[49m\u001b[48;2;153;153;0m,\u001b[49m\u001b[48;2;153;153;0m they\u001b[49m\u001b[42m are\u001b[49m\u001b[48;2;153;153;0m.\u001b[49m\u001b[43m\\n\u001b[49m\u001b[48;2;255;150;50m\\n\u001b[49m\u001b[43mA\u001b[49m\u001b[102m\u001b[97m:\u001b[39m\u001b[49m\u001b[102m\u001b[97m\\n\u001b[39m\u001b[49m\u001b[48;5;22m\u001b[97m\\n\u001b[39m\u001b[49m\u001b[48;2;255;150;50mYes\u001b[49m\u001b[48;2;153;153;0m,\u001b[49m\u001b[48;2;153;153;0m they\u001b[49m\u001b[42m are\u001b[49m\u001b[48;2;153;153;0m.\u001b[49m\u001b[43m\\n\u001b[49m\u001b[43m\\n\u001b[49m\u001b[43mA\u001b[49m\u001b[102m\u001b[97m:\u001b[39m\u001b[49m\u001b[42m\\n\u001b[49m\u001b[48;5;22m\u001b[97m\\n\u001b[39m\u001b[49m\u001b[43mYes\u001b[49m\u001b[48;2;153;153;0m,\u001b[49m\u001b[42m they\u001b[49m\u001b[102m\u001b[97m are\u001b[39m\u001b[49m\u001b[48;2;153;153;0m.\u001b[49m\u001b[43m\\n\u001b[49m\u001b[43m\\n\u001b[49m\u001b[43mA\u001b[49m\u001b[102m\u001b[97m:\u001b[39m\u001b[49m\u001b[42m\\n\u001b[49m\u001b[48;5;22m\u001b[97m\\n\u001b[39m\u001b[49m\u001b[43mYes\u001b[49m\u001b[42m,\u001b[49m\u001b[42m they\u001b[49m\u001b[102m\u001b[97m are\u001b[39m\u001b[49m\u001b[48;2;153;153;0m.\u001b[49m\u001b[43m\\n\u001b[49m\u001b[43m\\n\u001b[49m\u001b[43mA\u001b[49m\u001b[102m\u001b[97m:\u001b[39m\u001b[49m\u001b[42m\\n\u001b[49m\u001b[48;5;22m\u001b[97m\\n\u001b[39m\u001b[49m\u001b[43mYes\u001b[49m\u001b[42m,\u001b[49m\u001b[42m they\u001b[49m\u001b[102m\u001b[97m are\u001b[39m\u001b[49m\u001b[42m.\u001b[49m\u001b[43m\\n\u001b[49m\u001b[43m\\n\u001b[49m\u001b[48;2;153;153;0mA\u001b[49m\u001b[102m\u001b[97m:\u001b[39m\u001b[49m\u001b[48;2;153;153;0m\\n\u001b[49m\u001b[48;5;22m\u001b[97m\\n\u001b[39m\u001b[49m\u001b[43mYes\u001b[49m\u001b[42m,\u001b[49m\u001b[102m\u001b[97m they\u001b[39m\u001b[49m\u001b[102m\u001b[97m are\u001b[39m\u001b[49m\u001b[42m.\u001b[49m\u001b[43m\\n\u001b[49m"
     ]
    }
   ],
   "source": [
    "plot_probability_spectrum(model_base, text, tokenizer)"
   ]
  },
  {
   "cell_type": "code",
   "execution_count": 20,
   "id": "1d072ef8-4b47-4e78-ab1c-54128d984ed6",
   "metadata": {},
   "outputs": [
    {
     "name": "stderr",
     "output_type": "stream",
     "text": [
      "Setting `pad_token_id` to `eos_token_id`:0 for open-end generation.\n"
     ]
    },
    {
     "name": "stdout",
     "output_type": "stream",
     "text": [
      "\u001b[48;2;255;150;50m\\n\u001b[49m\u001b[48;2;255;150;50m\\n\u001b[49m\u001b[48;2;255;120;0mA\u001b[49m\u001b[48;2;255;150;50m:\u001b[49m\u001b[48;2;255;150;50m\\n\u001b[49m\u001b[48;5;22m\u001b[97m\\n\u001b[39m\u001b[49m\u001b[48;2;255;120;0mYes\u001b[49m\u001b[43m,\u001b[49m\u001b[48;2;255;150;50m A\u001b[49m\u001b[48;5;22m\u001b[97mIs\u001b[39m\u001b[49m\u001b[48;2;153;153;0m are\u001b[49m\u001b[48;2;255;150;50m real\u001b[49m\u001b[43m.\u001b[49m\u001b[43m  \u001b[49m\u001b[48;2;255;120;0mThey\u001b[49m\u001b[48;2;255;150;50m are\u001b[49m\u001b[48;2;255;120;0m a\u001b[49m\u001b[48;2;255;120;0m type\u001b[49m\u001b[48;5;22m\u001b[97m of\u001b[39m\u001b[49m\u001b[48;2;255;150;50m computer\u001b[49m\u001b[48;2;255;150;50m program\u001b[49m\u001b[48;2;255;150;50m that\u001b[49m\u001b[48;2;255;120;0m is\u001b[49m\u001b[41m\u001b[97m used\u001b[39m\u001b[49m\u001b[48;2;255;150;50m to\u001b[49m\u001b[48;2;255;150;50m simulate\u001b[49m\u001b[48;2;255;150;50m human\u001b[49m\u001b[48;2;255;150;50m behavior\u001b[49m\u001b[48;2;255;150;50m.\u001b[49m\u001b[48;2;153;153;0m  \u001b[49m\u001b[48;2;255;120;0mThey\u001b[49m\u001b[43m are\u001b[49m\u001b[48;2;255;120;0m also\u001b[49m\u001b[48;2;255;150;50m used\u001b[49m\u001b[48;2;255;150;50m to\u001b[49m\u001b[48;2;255;120;0m simulate\u001b[49m\u001b[48;2;255;150;50m human\u001b[49m\u001b[48;2;255;150;50m emotions\u001b[49m\u001b[48;2;255;150;50m,\u001b[49m\u001b[48;2;255;150;50m and\u001b[49m\u001b[48;2;255;120;0m to\u001b[49m\u001b[48;2;255;120;0m simulate\u001b[49m\u001b[43m human\u001b[49m\u001b[48;2;255;120;0m behavior\u001b[49m\u001b[48;2;255;150;50m.\u001b[49m\u001b[43m  \u001b[49m\u001b[48;2;255;120;0mThey\u001b[49m\u001b[43m are\u001b[49m\u001b[48;2;255;150;50m also\u001b[49m\u001b[43m used\u001b[49m\u001b[43m to\u001b[49m\u001b[43m simulate\u001b[49m\u001b[43m human\u001b[49m\u001b[41m\u001b[97m emotions\u001b[39m\u001b[49m\u001b[48;2;255;150;50m,\u001b[49m\u001b[43m and\u001b[49m\u001b[48;2;153;153;0m to\u001b[49m\u001b[42m simulate\u001b[49m\u001b[102m\u001b[97m human\u001b[39m\u001b[49m\u001b[48;2;153;153;0m behavior\u001b[49m\u001b[48;2;153;153;0m.\u001b[49m\u001b[43m  \u001b[49m\u001b[48;2;255;150;50mThey\u001b[49m\u001b[43m are\u001b[49m\u001b[48;2;255;150;50m also\u001b[49m\u001b[42m used\u001b[49m\u001b[42m to\u001b[49m\u001b[42m simulate\u001b[49m\u001b[42m human\u001b[49m\u001b[48;2;255;150;50m emotions\u001b[49m\u001b[48;2;153;153;0m,\u001b[49m\u001b[102m\u001b[97m and\u001b[39m\u001b[49m\u001b[102m\u001b[97m to\u001b[39m\u001b[49m\u001b[102m\u001b[97m simulate\u001b[39m\u001b[49m\u001b[48;5;22m\u001b[97m human\u001b[39m\u001b[49m\u001b[102m\u001b[97m behavior\u001b[39m\u001b[49m\u001b[102m\u001b[97m.\u001b[39m\u001b[49m\u001b[43m  \u001b[49m\u001b[43mThey\u001b[49m\u001b[42m are\u001b[49m\u001b[43m also\u001b[49m\u001b[102m\u001b[97m used\u001b[39m\u001b[49m\u001b[102m\u001b[97m to\u001b[39m\u001b[49m\u001b[102m\u001b[97m simulate\u001b[39m\u001b[49m\u001b[102m\u001b[97m human\u001b[39m\u001b[49m\u001b[48;2;255;150;50m emotions\u001b[49m\u001b[102m\u001b[97m,\u001b[39m\u001b[49m\u001b[48;5;22m\u001b[97m and\u001b[39m\u001b[49m\u001b[48;5;22m\u001b[97m to\u001b[39m\u001b[49m\u001b[48;5;22m\u001b[97m simulate\u001b[39m\u001b[49m\u001b[48;5;22m\u001b[97m human\u001b[39m\u001b[49m\u001b[102m\u001b[97m behavior\u001b[39m\u001b[49m\u001b[102m\u001b[97m.\u001b[39m\u001b[49m\u001b[48;2;153;153;0m  \u001b[49m\u001b[48;2;153;153;0mThey\u001b[49m\u001b[102m\u001b[97m are\u001b[39m\u001b[49m\u001b[48;2;153;153;0m also\u001b[49m\u001b[102m\u001b[97m used\u001b[39m\u001b[49m\u001b[48;5;22m\u001b[97m to\u001b[39m\u001b[49m\u001b[102m\u001b[97m simulate\u001b[39m\u001b[49m"
     ]
    }
   ],
   "source": [
    "plot_probability_spectrum(model_sft, text, tokenizer)"
   ]
  },
  {
   "cell_type": "code",
   "execution_count": 21,
   "id": "bcab47c2-11c2-41b0-93f4-44c0c09867a4",
   "metadata": {},
   "outputs": [
    {
     "name": "stderr",
     "output_type": "stream",
     "text": [
      "Setting `pad_token_id` to `eos_token_id`:0 for open-end generation.\n"
     ]
    },
    {
     "name": "stdout",
     "output_type": "stream",
     "text": [
      "\u001b[48;2;255;150;50m\\n\u001b[49m\u001b[48;2;255;150;50m\\n\u001b[49m\u001b[48;2;255;120;0mA\u001b[49m\u001b[48;2;255;150;50m:\u001b[49m\u001b[48;2;255;150;50m Yes\u001b[49m\u001b[48;2;153;153;0m,\u001b[49m\u001b[48;2;255;150;50m AI\u001b[49m\u001b[48;2;255;150;50m is\u001b[49m\u001b[48;2;255;150;50m a\u001b[49m\u001b[48;2;255;120;0m computer\u001b[49m\u001b[43m program\u001b[49m\u001b[43m that\u001b[49m\u001b[48;2;255;150;50m is\u001b[49m\u001b[41m\u001b[97m programmed\u001b[39m\u001b[49m\u001b[48;2;153;153;0m to\u001b[49m\u001b[48;2;255;150;50m simulate\u001b[49m\u001b[43m human\u001b[49m\u001b[48;2;255;150;50m behavior\u001b[49m\u001b[48;2;255;150;50m.\u001b[49m\u001b[48;2;255;150;50m  \u001b[49m\u001b[48;2;255;150;50mAI\u001b[49m\u001b[48;2;255;150;50m is\u001b[49m\u001b[48;2;255;150;50m a\u001b[49m\u001b[48;2;255;150;50m computer\u001b[49m\u001b[48;2;153;153;0m program\u001b[49m\u001b[43m that\u001b[49m\u001b[48;2;255;150;50m is\u001b[49m\u001b[48;2;255;150;50m programmed\u001b[49m\u001b[102m\u001b[97m to\u001b[39m\u001b[49m\u001b[48;2;255;150;50m simulate\u001b[49m\u001b[42m human\u001b[49m\u001b[48;2;153;153;0m behavior\u001b[49m\u001b[48;2;255;150;50m.\u001b[49m\u001b[42m  \u001b[49m\u001b[48;2;255;150;50mAI\u001b[49m\u001b[43m is\u001b[49m\u001b[43m a\u001b[49m\u001b[43m computer\u001b[49m\u001b[48;5;22m\u001b[97m program\u001b[39m\u001b[49m\u001b[102m\u001b[97m that\u001b[39m\u001b[49m\u001b[43m is\u001b[49m\u001b[42m programmed\u001b[49m\u001b[48;5;22m\u001b[97m to\u001b[39m\u001b[49m\u001b[102m\u001b[97m simulate\u001b[39m\u001b[49m\u001b[48;5;22m\u001b[97m human\u001b[39m\u001b[49m\u001b[102m\u001b[97m behavior\u001b[39m\u001b[49m\u001b[48;2;153;153;0m.\u001b[49m\u001b[42m  \u001b[49m\u001b[43mAI\u001b[49m\u001b[48;2;153;153;0m is\u001b[49m\u001b[43m a\u001b[49m\u001b[42m computer\u001b[49m\u001b[48;5;22m\u001b[97m program\u001b[39m\u001b[49m\u001b[48;5;22m\u001b[97m that\u001b[39m\u001b[49m\u001b[48;2;153;153;0m is\u001b[49m\u001b[102m\u001b[97m programmed\u001b[39m\u001b[49m\u001b[48;5;22m\u001b[97m to\u001b[39m\u001b[49m\u001b[102m\u001b[97m simulate\u001b[39m\u001b[49m\u001b[48;5;22m\u001b[97m human\u001b[39m\u001b[49m\u001b[48;5;22m\u001b[97m behavior\u001b[39m\u001b[49m\u001b[102m\u001b[97m.\u001b[39m\u001b[49m\u001b[42m  \u001b[49m\u001b[48;2;153;153;0mAI\u001b[49m\u001b[42m is\u001b[49m\u001b[48;2;153;153;0m a\u001b[49m\u001b[102m\u001b[97m computer\u001b[39m\u001b[49m\u001b[48;5;22m\u001b[97m program\u001b[39m\u001b[49m\u001b[48;5;22m\u001b[97m that\u001b[39m\u001b[49m\u001b[42m is\u001b[49m\u001b[102m\u001b[97m programmed\u001b[39m\u001b[49m\u001b[48;5;22m\u001b[97m to\u001b[39m\u001b[49m\u001b[102m\u001b[97m simulate\u001b[39m\u001b[49m\u001b[48;5;22m\u001b[97m human\u001b[39m\u001b[49m\u001b[48;5;22m\u001b[97m behavior\u001b[39m\u001b[49m\u001b[48;5;22m\u001b[97m.\u001b[39m\u001b[49m\u001b[42m  \u001b[49m\u001b[42mAI\u001b[49m\u001b[102m\u001b[97m is\u001b[39m\u001b[49m\u001b[42m a\u001b[49m\u001b[102m\u001b[97m computer\u001b[39m\u001b[49m\u001b[48;5;22m\u001b[97m program\u001b[39m\u001b[49m\u001b[48;5;22m\u001b[97m that\u001b[39m\u001b[49m\u001b[102m\u001b[97m is\u001b[39m\u001b[49m\u001b[102m\u001b[97m programmed\u001b[39m\u001b[49m\u001b[48;5;22m\u001b[97m to\u001b[39m\u001b[49m\u001b[102m\u001b[97m simulate\u001b[39m\u001b[49m\u001b[48;5;22m\u001b[97m human\u001b[39m\u001b[49m\u001b[48;5;22m\u001b[97m behavior\u001b[39m\u001b[49m\u001b[48;5;22m\u001b[97m.\u001b[39m\u001b[49m\u001b[102m\u001b[97m  \u001b[39m\u001b[49m\u001b[102m\u001b[97mAI\u001b[39m\u001b[49m\u001b[48;5;22m\u001b[97m is\u001b[39m\u001b[49m\u001b[102m\u001b[97m a\u001b[39m\u001b[49m\u001b[102m\u001b[97m computer\u001b[39m\u001b[49m\u001b[48;5;22m\u001b[97m program\u001b[39m\u001b[49m\u001b[48;5;22m\u001b[97m that\u001b[39m\u001b[49m\u001b[102m\u001b[97m is\u001b[39m\u001b[49m\u001b[102m\u001b[97m programmed\u001b[39m\u001b[49m\u001b[48;5;22m\u001b[97m to\u001b[39m\u001b[49m\u001b[48;5;22m\u001b[97m simulate\u001b[39m\u001b[49m"
     ]
    }
   ],
   "source": [
    "plot_probability_spectrum(model_dpo, text, tokenizer)"
   ]
  },
  {
   "cell_type": "markdown",
   "id": "ae3f6263-79fa-4ce5-a369-754ddf229e98",
   "metadata": {},
   "source": [
    "### Random integer"
   ]
  },
  {
   "cell_type": "markdown",
   "id": "721896df-f48d-4f92-b3a1-40aea1fc4bf9",
   "metadata": {
    "jp-MarkdownHeadingCollapsed": true
   },
   "source": [
    "#### random integer between 0 and 100"
   ]
  },
  {
   "cell_type": "code",
   "execution_count": 58,
   "id": "4fd77cac-8390-4e44-902b-17eea67cf7bf",
   "metadata": {},
   "outputs": [],
   "source": [
    "text = \"Q: Tell me a random integer between 0 and 100. \\\n",
    "\\\n",
    "A: Ok, the integer is:\""
   ]
  },
  {
   "cell_type": "code",
   "execution_count": 59,
   "id": "a4db2ad7-e2d5-49d7-8f7f-3c5203d82999",
   "metadata": {
    "scrolled": true
   },
   "outputs": [
    {
     "name": "stderr",
     "output_type": "stream",
     "text": [
      "Setting `pad_token_id` to `eos_token_id`:0 for open-end generation.\n"
     ]
    },
    {
     "name": "stdout",
     "output_type": "stream",
     "text": [
      "\u001b[48;2;255;120;0m\\n\u001b[49m - 0.12381120771169662\n",
      "\u001b[41m\u001b[97m 0\u001b[39m\u001b[49m - 0.07856938987970352\n",
      "\u001b[101m\u001b[97m 100\u001b[39m\u001b[49m - 0.04383006691932678\n",
      "\u001b[101m\u001b[97m 1\u001b[39m\u001b[49m - 0.03627283126115799\n",
      "\u001b[101m\u001b[97m 5\u001b[39m\u001b[49m - 0.027859633788466454\n",
      "\u001b[101m\u001b[97m $\u001b[39m\u001b[49m - 0.027728427201509476\n",
      "\u001b[101m\u001b[97m 10\u001b[39m\u001b[49m - 0.025666918605566025\n",
      "\u001b[101m\u001b[97m 3\u001b[39m\u001b[49m - 0.02472502738237381\n",
      "\u001b[101m\u001b[97m 2\u001b[39m\u001b[49m - 0.023052172735333443\n",
      "\u001b[101m\u001b[97m 99\u001b[39m\u001b[49m - 0.018034424632787704\n",
      "\u001b[101m\u001b[97m 4\u001b[39m\u001b[49m - 0.016014164313673973\n",
      "\u001b[101m\u001b[97m (\u001b[39m\u001b[49m - 0.015627048909664154\n",
      "\u001b[101m\u001b[97m 101\u001b[39m\u001b[49m - 0.01557484082877636\n",
      "\u001b[101m\u001b[97m 9\u001b[39m\u001b[49m - 0.015344887971878052\n",
      "\u001b[101m\u001b[97m 6\u001b[39m\u001b[49m - 0.012603715993463993\n",
      "\u001b[101m\u001b[97m 50\u001b[39m\u001b[49m - 0.012061387300491333\n",
      "\u001b[101m\u001b[97m  \u001b[39m\u001b[49m - 0.010928943753242493\n",
      "\u001b[101m\u001b[97m 12\u001b[39m\u001b[49m - 0.010877389460802078\n",
      "\u001b[101m\u001b[97m 11\u001b[39m\u001b[49m - 0.01079243142157793\n",
      "\u001b[48;5;88m\u001b[97m 7\u001b[39m\u001b[49m - 0.009036869741976261\n",
      "\u001b[48;5;88m\u001b[97m \u001b[39m\u001b[49m - 0.009000908583402634\n",
      "\u001b[48;5;88m\u001b[97m 8\u001b[39m\u001b[49m - 0.008990751579403877\n",
      "\u001b[48;5;88m\u001b[97m 20\u001b[39m\u001b[49m - 0.007496617268770933\n",
      "\u001b[48;5;88m\u001b[97m 97\u001b[39m\u001b[49m - 0.007212582044303417\n",
      "\u001b[48;5;88m\u001b[97m 25\u001b[39m\u001b[49m - 0.006121467333287001\n",
      "\u001b[48;5;88m\u001b[97m 13\u001b[39m\u001b[49m - 0.0059372615069150925\n",
      "\u001b[48;5;88m\u001b[97m 111\u001b[39m\u001b[49m - 0.0058664786629378796\n",
      "\u001b[48;5;88m\u001b[97m 15\u001b[39m\u001b[49m - 0.005682538263499737\n",
      "\u001b[48;5;88m\u001b[97m 1000\u001b[39m\u001b[49m - 0.005283883307129145\n",
      "\u001b[48;5;88m\u001b[97m 123\u001b[39m\u001b[49m - 0.004696208983659744\n",
      "\u001b[48;5;88m\u001b[97m 32\u001b[39m\u001b[49m - 0.004695605020970106\n",
      "\u001b[48;5;88m\u001b[97m $$\u001b[39m\u001b[49m - 0.004467904567718506\n",
      "\u001b[48;5;88m\u001b[97m 23\u001b[39m\u001b[49m - 0.0044625308364629745\n",
      "\u001b[48;5;88m\u001b[97m 17\u001b[39m\u001b[49m - 0.004450290929526091\n",
      "\u001b[48;5;88m\u001b[97m 113\u001b[39m\u001b[49m - 0.0043189674615859985\n",
      "\u001b[48;5;88m\u001b[97m 30\u001b[39m\u001b[49m - 0.004105657339096069\n",
      "\u001b[48;5;88m\u001b[97m [\u001b[39m\u001b[49m - 0.003909553866833448\n",
      "\u001b[48;5;88m\u001b[97m x\u001b[39m\u001b[49m - 0.003805518848821521\n",
      "\u001b[48;5;88m\u001b[97m 45\u001b[39m\u001b[49m - 0.003559787990525365\n",
      "\u001b[48;5;88m\u001b[97m 22\u001b[39m\u001b[49m - 0.003521416801959276\n",
      "\u001b[48;5;88m\u001b[97m 75\u001b[39m\u001b[49m - 0.0034884358756244183\n",
      "\u001b[48;5;88m\u001b[97m $(\u001b[39m\u001b[49m - 0.0033966531045734882\n",
      "\u001b[48;5;88m\u001b[97m 95\u001b[39m\u001b[49m - 0.00336862332187593\n",
      "\u001b[48;5;88m\u001b[97m\\n\\n\u001b[39m\u001b[49m - 0.0032377014867961407\n",
      "\u001b[48;5;88m\u001b[97m 33\u001b[39m\u001b[49m - 0.003193850163370371\n",
      "\u001b[48;5;88m\u001b[97m 10000\u001b[39m\u001b[49m - 0.003074370790272951\n",
      "\u001b[48;5;88m\u001b[97m 16\u001b[39m\u001b[49m - 0.002986182691529393\n",
      "\u001b[48;5;88m\u001b[97m 60\u001b[39m\u001b[49m - 0.0029758289456367493\n",
      "\u001b[48;5;88m\u001b[97m 200\u001b[39m\u001b[49m - 0.0029735052958130836\n",
      "\u001b[48;5;88m\u001b[97m 31\u001b[39m\u001b[49m - 0.0029592616483569145\n"
     ]
    }
   ],
   "source": [
    "toks_base, tok_probs_base = output_probs(model_base, text, tokenizer)"
   ]
  },
  {
   "cell_type": "code",
   "execution_count": 60,
   "id": "7578bdd4-6e33-439c-8425-364b74fe8399",
   "metadata": {
    "scrolled": true
   },
   "outputs": [
    {
     "name": "stderr",
     "output_type": "stream",
     "text": [
      "Setting `pad_token_id` to `eos_token_id`:0 for open-end generation.\n"
     ]
    },
    {
     "name": "stdout",
     "output_type": "stream",
     "text": [
      "\u001b[48;2;255;120;0m\\n\u001b[49m - 0.12748804688453674\n",
      "\u001b[41m\u001b[97m 0\u001b[39m\u001b[49m - 0.08186342567205429\n",
      "\u001b[41m\u001b[97m  \u001b[39m\u001b[49m - 0.05062537267804146\n",
      "\u001b[101m\u001b[97m 1\u001b[39m\u001b[49m - 0.04147481545805931\n",
      "\u001b[101m\u001b[97m 100\u001b[39m\u001b[49m - 0.03293832018971443\n",
      "\u001b[101m\u001b[97m 3\u001b[39m\u001b[49m - 0.03161177039146423\n",
      "\u001b[101m\u001b[97m 2\u001b[39m\u001b[49m - 0.03148351237177849\n",
      "\u001b[101m\u001b[97m 5\u001b[39m\u001b[49m - 0.029073314741253853\n",
      "\u001b[101m\u001b[97m 10\u001b[39m\u001b[49m - 0.021065350621938705\n",
      "\u001b[101m\u001b[97m 4\u001b[39m\u001b[49m - 0.020854270085692406\n",
      "\u001b[101m\u001b[97m 9\u001b[39m\u001b[49m - 0.020342662930488586\n",
      "\u001b[101m\u001b[97m 6\u001b[39m\u001b[49m - 0.018671676516532898\n",
      "\u001b[101m\u001b[97m 101\u001b[39m\u001b[49m - 0.01818440854549408\n",
      "\u001b[101m\u001b[97m 8\u001b[39m\u001b[49m - 0.014166895300149918\n",
      "\u001b[101m\u001b[97m 99\u001b[39m\u001b[49m - 0.013311777263879776\n",
      "\u001b[101m\u001b[97m 11\u001b[39m\u001b[49m - 0.012927945703268051\n",
      "\u001b[101m\u001b[97m<|endoftext|>\u001b[39m\u001b[49m - 0.012427065521478653\n",
      "\u001b[101m\u001b[97m 12\u001b[39m\u001b[49m - 0.0120835667476058\n",
      "\u001b[101m\u001b[97m 7\u001b[39m\u001b[49m - 0.011405467987060547\n",
      "\u001b[101m\u001b[97m \u001b[39m\u001b[49m - 0.011405261233448982\n",
      "\u001b[48;5;88m\u001b[97m 50\u001b[39m\u001b[49m - 0.008861866779625416\n",
      "\u001b[48;5;88m\u001b[97m 97\u001b[39m\u001b[49m - 0.007455155253410339\n",
      "\u001b[48;5;88m\u001b[97m 13\u001b[39m\u001b[49m - 0.00725055206567049\n",
      "\u001b[48;5;88m\u001b[97m\\n\\n\u001b[39m\u001b[49m - 0.0063301920890808105\n",
      "\u001b[48;5;88m\u001b[97m (\u001b[39m\u001b[49m - 0.006233626510947943\n",
      "\u001b[48;5;88m\u001b[97m 20\u001b[39m\u001b[49m - 0.006154537200927734\n",
      "\u001b[48;5;88m\u001b[97m 15\u001b[39m\u001b[49m - 0.006049103103578091\n",
      "\u001b[48;5;88m\u001b[97m 32\u001b[39m\u001b[49m - 0.005851724650710821\n",
      "\u001b[48;5;88m\u001b[97m   \u001b[39m\u001b[49m - 0.005761265754699707\n",
      "\u001b[48;5;88m\u001b[97m 17\u001b[39m\u001b[49m - 0.005713449791073799\n",
      "\u001b[48;5;88m\u001b[97m 111\u001b[39m\u001b[49m - 0.005515529308468103\n",
      "\u001b[48;5;88m\u001b[97m 25\u001b[39m\u001b[49m - 0.005311521701514721\n",
      "\u001b[48;5;88m\u001b[97m 23\u001b[39m\u001b[49m - 0.004698438569903374\n",
      "\u001b[48;5;88m\u001b[97m 22\u001b[39m\u001b[49m - 0.004557375330477953\n",
      "\u001b[48;5;88m\u001b[97m 37\u001b[39m\u001b[49m - 0.004007481504231691\n",
      "\u001b[48;5;88m\u001b[97m $\u001b[39m\u001b[49m - 0.0039388700388371944\n",
      "\u001b[48;5;88m\u001b[97m 16\u001b[39m\u001b[49m - 0.003937555477023125\n",
      "\u001b[48;5;88m\u001b[97m 75\u001b[39m\u001b[49m - 0.003878254210576415\n",
      "\u001b[48;5;88m\u001b[97m 45\u001b[39m\u001b[49m - 0.003829487133771181\n",
      "\u001b[48;5;88m\u001b[97m 14\u001b[39m\u001b[49m - 0.0037723209243267775\n",
      "\u001b[48;5;88m\u001b[97m 19\u001b[39m\u001b[49m - 0.0037112452555447817\n",
      "\u001b[48;5;88m\u001b[97m 33\u001b[39m\u001b[49m - 0.003701630514115095\n",
      "\u001b[48;5;88m\u001b[97m 31\u001b[39m\u001b[49m - 0.003679927671328187\n",
      "\u001b[48;5;88m\u001b[97m 65\u001b[39m\u001b[49m - 0.0036679869517683983\n",
      "\u001b[48;5;88m\u001b[97m 18\u001b[39m\u001b[49m - 0.003610861487686634\n",
      "\u001b[48;5;88m\u001b[97m 49\u001b[39m\u001b[49m - 0.0035774456337094307\n",
      "\u001b[48;5;88m\u001b[97m 87\u001b[39m\u001b[49m - 0.0035290296655148268\n",
      "\u001b[48;5;88m\u001b[97m 30\u001b[39m\u001b[49m - 0.0034770220518112183\n",
      "\u001b[48;5;88m\u001b[97m 95\u001b[39m\u001b[49m - 0.0032637163531035185\n",
      "\u001b[48;5;88m\u001b[97m 42\u001b[39m\u001b[49m - 0.0032185085583478212\n"
     ]
    }
   ],
   "source": [
    "toks_sft, tok_probs_sft = output_probs(model_sft, text, tokenizer)"
   ]
  },
  {
   "cell_type": "code",
   "execution_count": 61,
   "id": "3aff3e3b-a81e-4874-85a5-fca2e950ac42",
   "metadata": {
    "scrolled": true
   },
   "outputs": [
    {
     "name": "stderr",
     "output_type": "stream",
     "text": [
      "Setting `pad_token_id` to `eos_token_id`:0 for open-end generation.\n"
     ]
    },
    {
     "name": "stdout",
     "output_type": "stream",
     "text": [
      "\u001b[48;2;255;120;0m\\n\u001b[49m - 0.10101088881492615\n",
      "\u001b[41m\u001b[97m  \u001b[39m\u001b[49m - 0.08640545606613159\n",
      "\u001b[41m\u001b[97m 0\u001b[39m\u001b[49m - 0.05747900903224945\n",
      "\u001b[101m\u001b[97m 100\u001b[39m\u001b[49m - 0.045211754739284515\n",
      "\u001b[101m\u001b[97m 1\u001b[39m\u001b[49m - 0.03844991698861122\n",
      "\u001b[101m\u001b[97m 5\u001b[39m\u001b[49m - 0.03432752192020416\n",
      "\u001b[101m\u001b[97m 3\u001b[39m\u001b[49m - 0.031074680387973785\n",
      "\u001b[101m\u001b[97m 2\u001b[39m\u001b[49m - 0.02878541126847267\n",
      "\u001b[101m\u001b[97m 99\u001b[39m\u001b[49m - 0.025029169395565987\n",
      "\u001b[101m\u001b[97m 101\u001b[39m\u001b[49m - 0.02213136851787567\n",
      "\u001b[101m\u001b[97m 4\u001b[39m\u001b[49m - 0.02174084633588791\n",
      "\u001b[101m\u001b[97m 10\u001b[39m\u001b[49m - 0.020502299070358276\n",
      "\u001b[101m\u001b[97m 97\u001b[39m\u001b[49m - 0.018852511420845985\n",
      "\u001b[101m\u001b[97m 9\u001b[39m\u001b[49m - 0.018675265833735466\n",
      "\u001b[101m\u001b[97m 6\u001b[39m\u001b[49m - 0.018457094207406044\n",
      "\u001b[101m\u001b[97m 12\u001b[39m\u001b[49m - 0.014021608047187328\n",
      "\u001b[101m\u001b[97m 50\u001b[39m\u001b[49m - 0.013922101818025112\n",
      "\u001b[101m\u001b[97m 11\u001b[39m\u001b[49m - 0.013632046058773994\n",
      "\u001b[101m\u001b[97m 8\u001b[39m\u001b[49m - 0.012732665054500103\n",
      "\u001b[48;5;88m\u001b[97m 7\u001b[39m\u001b[49m - 0.008892961777746677\n",
      "\u001b[48;5;88m\u001b[97m 20\u001b[39m\u001b[49m - 0.008755306713283062\n",
      "\u001b[48;5;88m\u001b[97m \u001b[39m\u001b[49m - 0.008400662802159786\n",
      "\u001b[48;5;88m\u001b[97m 13\u001b[39m\u001b[49m - 0.008043229579925537\n",
      "\u001b[48;5;88m\u001b[97m 37\u001b[39m\u001b[49m - 0.007563397753983736\n",
      "\u001b[48;5;88m\u001b[97m 111\u001b[39m\u001b[49m - 0.00717956991866231\n",
      "\u001b[48;5;88m\u001b[97m $\u001b[39m\u001b[49m - 0.00677466718479991\n",
      "\u001b[48;5;88m\u001b[97m 17\u001b[39m\u001b[49m - 0.006708152126520872\n",
      "\u001b[48;5;88m\u001b[97m 15\u001b[39m\u001b[49m - 0.006647379137575626\n",
      "\u001b[48;5;88m\u001b[97m 95\u001b[39m\u001b[49m - 0.006409930996596813\n",
      "\u001b[48;5;88m\u001b[97m 23\u001b[39m\u001b[49m - 0.0058485218323767185\n",
      "\u001b[48;5;88m\u001b[97m 75\u001b[39m\u001b[49m - 0.0057924366556108\n",
      "\u001b[48;5;88m\u001b[97m 22\u001b[39m\u001b[49m - 0.005789299961179495\n",
      "\u001b[48;5;88m\u001b[97m 45\u001b[39m\u001b[49m - 0.005685614421963692\n",
      "\u001b[48;5;88m\u001b[97m 87\u001b[39m\u001b[49m - 0.005143132526427507\n",
      "\u001b[48;5;88m\u001b[97m   \u001b[39m\u001b[49m - 0.0050493148155510426\n",
      "\u001b[48;5;88m\u001b[97m 32\u001b[39m\u001b[49m - 0.005020524375140667\n",
      "\u001b[48;5;88m\u001b[97m 93\u001b[39m\u001b[49m - 0.004955998621881008\n",
      "\u001b[48;5;88m\u001b[97m 25\u001b[39m\u001b[49m - 0.004941482096910477\n",
      "\u001b[48;5;88m\u001b[97m 49\u001b[39m\u001b[49m - 0.004741877783089876\n",
      "\u001b[48;5;88m\u001b[97m 65\u001b[39m\u001b[49m - 0.004688362590968609\n",
      "\u001b[48;5;88m\u001b[97m 19\u001b[39m\u001b[49m - 0.004515902604907751\n",
      "\u001b[48;5;88m\u001b[97m 98\u001b[39m\u001b[49m - 0.004510767292231321\n",
      "\u001b[48;5;88m\u001b[97m 31\u001b[39m\u001b[49m - 0.0043792505748569965\n",
      "\u001b[48;5;88m\u001b[97m 42\u001b[39m\u001b[49m - 0.0040193237364292145\n",
      "\u001b[48;5;88m\u001b[97m 35\u001b[39m\u001b[49m - 0.004018621984869242\n",
      "\u001b[48;5;88m\u001b[97m 16\u001b[39m\u001b[49m - 0.0039151934906840324\n",
      "\u001b[48;5;88m\u001b[97m 33\u001b[39m\u001b[49m - 0.0038596622180193663\n",
      "\u001b[48;5;88m\u001b[97m 41\u001b[39m\u001b[49m - 0.003839147975668311\n",
      "\u001b[48;5;88m\u001b[97m\\n\\n\u001b[39m\u001b[49m - 0.0038286910858005285\n",
      "\u001b[48;5;88m\u001b[97m 14\u001b[39m\u001b[49m - 0.003723159898072481\n"
     ]
    }
   ],
   "source": [
    "toks_dpo, tok_probs_dpo = output_probs(model_dpo, text, tokenizer)"
   ]
  },
  {
   "cell_type": "code",
   "execution_count": 76,
   "id": "0fb53c2e-5eaa-4a53-9197-ff243175de8b",
   "metadata": {},
   "outputs": [
    {
     "data": {
      "text/plain": [
       "(0.0, 1.0)"
      ]
     },
     "execution_count": 76,
     "metadata": {},
     "output_type": "execute_result"
    },
    {
     "data": {
      "image/png": "[encoded data removed]",
      "text/plain": [
       "<Figure size 1200x400 with 3 Axes>"
      ]
     },
     "metadata": {},
     "output_type": "display_data"
    }
   ],
   "source": [
    "fig, ax = plt.subplots(1,3,figsize=(12, 4))\n",
    "ax[0].plot([tokenizer.decode(toks_base[i]) for i in range(len(toks_base))], tok_probs_base)\n",
    "ax[1].plot([tokenizer.decode(toks_sft[i]) for i in range(len(toks_sft))], tok_probs_sft)\n",
    "ax[2].plot([tokenizer.decode(toks_dpo[i]) for i in range(len(toks_dpo))], tok_probs_dpo)\n",
    "ax[0].set_ylim((0,1))\n",
    "ax[1].set_ylim((0,1))\n",
    "ax[2].set_ylim((0,1))"
   ]
  },
  {
   "cell_type": "markdown",
   "id": "002ffb38-aa9a-42b5-81af-4e353183f17d",
   "metadata": {
    "jp-MarkdownHeadingCollapsed": true
   },
   "source": [
    "#### rephrase"
   ]
  },
  {
   "cell_type": "code",
   "execution_count": 22,
   "id": "8df9ff4e-a6b2-4961-86c3-145f2d2624df",
   "metadata": {},
   "outputs": [],
   "source": [
    "text = \"Q: Tell me a random integer between 0-100. \\\n",
    "\\\n",
    "A: Ok, the integer is:\""
   ]
  },
  {
   "cell_type": "code",
   "execution_count": 23,
   "id": "59a2a83b-2789-442f-95a5-79689cc6e51b",
   "metadata": {},
   "outputs": [
    {
     "name": "stderr",
     "output_type": "stream",
     "text": [
      "Setting `pad_token_id` to `eos_token_id`:0 for open-end generation.\n"
     ]
    },
    {
     "name": "stdout",
     "output_type": "stream",
     "text": [
      "\u001b[48;2;255;120;0m\\n\u001b[49m - 0.1452401876449585\n",
      "\u001b[41m\u001b[97m 0\u001b[39m\u001b[49m - 0.06858403980731964\n",
      "\u001b[101m\u001b[97m 100\u001b[39m\u001b[49m - 0.04494613781571388\n",
      "\u001b[101m\u001b[97m $\u001b[39m\u001b[49m - 0.039739761501550674\n",
      "\u001b[101m\u001b[97m 1\u001b[39m\u001b[49m - 0.033174410462379456\n",
      "\u001b[101m\u001b[97m 5\u001b[39m\u001b[49m - 0.02465672232210636\n",
      "\u001b[101m\u001b[97m 10\u001b[39m\u001b[49m - 0.02407510206103325\n",
      "\u001b[101m\u001b[97m 3\u001b[39m\u001b[49m - 0.022014614194631577\n",
      "\u001b[101m\u001b[97m 2\u001b[39m\u001b[49m - 0.02047782577574253\n",
      "\u001b[101m\u001b[97m (\u001b[39m\u001b[49m - 0.0176905058324337\n",
      "\u001b[101m\u001b[97m 99\u001b[39m\u001b[49m - 0.015254839323461056\n",
      "\u001b[101m\u001b[97m 4\u001b[39m\u001b[49m - 0.013630785048007965\n",
      "\u001b[101m\u001b[97m  \u001b[39m\u001b[49m - 0.01324447337538004\n",
      "\u001b[101m\u001b[97m 9\u001b[39m\u001b[49m - 0.012396055273711681\n",
      "\u001b[101m\u001b[97m 50\u001b[39m\u001b[49m - 0.011724378913640976\n",
      "\u001b[101m\u001b[97m 101\u001b[39m\u001b[49m - 0.01086786575615406\n",
      "\u001b[101m\u001b[97m 6\u001b[39m\u001b[49m - 0.01049538142979145\n",
      "\u001b[48;5;88m\u001b[97m \u001b[39m\u001b[49m - 0.009866958484053612\n",
      "\u001b[48;5;88m\u001b[97m 12\u001b[39m\u001b[49m - 0.009784180670976639\n",
      "\u001b[48;5;88m\u001b[97m 11\u001b[39m\u001b[49m - 0.008884087204933167\n"
     ]
    }
   ],
   "source": [
    "toks_base, tok_probs_base = output_probs(model_base, text, tokenizer, 20)"
   ]
  },
  {
   "cell_type": "code",
   "execution_count": 26,
   "id": "dcd8230f-a042-4ea1-8c1d-29ee407bcf66",
   "metadata": {},
   "outputs": [
    {
     "name": "stderr",
     "output_type": "stream",
     "text": [
      "Setting `pad_token_id` to `eos_token_id`:0 for open-end generation.\n"
     ]
    },
    {
     "name": "stdout",
     "output_type": "stream",
     "text": [
      "\u001b[48;2;255;120;0m\\n\u001b[49m - 0.14278066158294678\n",
      "\u001b[41m\u001b[97m 0\u001b[39m\u001b[49m - 0.07050282508134842\n",
      "\u001b[41m\u001b[97m  \u001b[39m\u001b[49m - 0.058491047471761703\n",
      "\u001b[101m\u001b[97m 1\u001b[39m\u001b[49m - 0.03714444488286972\n",
      "\u001b[101m\u001b[97m 100\u001b[39m\u001b[49m - 0.034666866064071655\n",
      "\u001b[101m\u001b[97m 3\u001b[39m\u001b[49m - 0.02867192216217518\n",
      "\u001b[101m\u001b[97m 2\u001b[39m\u001b[49m - 0.028204048052430153\n",
      "\u001b[101m\u001b[97m 5\u001b[39m\u001b[49m - 0.026400011032819748\n",
      "\u001b[101m\u001b[97m 10\u001b[39m\u001b[49m - 0.019889915362000465\n",
      "\u001b[101m\u001b[97m 4\u001b[39m\u001b[49m - 0.018715377897024155\n",
      "\u001b[101m\u001b[97m 9\u001b[39m\u001b[49m - 0.017564913257956505\n",
      "\u001b[101m\u001b[97m 6\u001b[39m\u001b[49m - 0.01641898788511753\n",
      "\u001b[101m\u001b[97m 101\u001b[39m\u001b[49m - 0.014622734859585762\n",
      "\u001b[101m\u001b[97m 8\u001b[39m\u001b[49m - 0.012897185049951077\n",
      "\u001b[101m\u001b[97m 99\u001b[39m\u001b[49m - 0.012720213271677494\n",
      "\u001b[101m\u001b[97m \u001b[39m\u001b[49m - 0.011954504065215588\n",
      "\u001b[101m\u001b[97m 12\u001b[39m\u001b[49m - 0.011804372072219849\n",
      "\u001b[101m\u001b[97m<|endoftext|>\u001b[39m\u001b[49m - 0.01165609247982502\n",
      "\u001b[101m\u001b[97m 11\u001b[39m\u001b[49m - 0.011448228731751442\n",
      "\u001b[101m\u001b[97m 7\u001b[39m\u001b[49m - 0.010008872486650944\n"
     ]
    }
   ],
   "source": [
    "toks_base, tok_probs_base = output_probs(model_sft, text, tokenizer, 20)"
   ]
  },
  {
   "cell_type": "code",
   "execution_count": 27,
   "id": "52d34548-ebca-44c8-a2a8-376cf309e236",
   "metadata": {},
   "outputs": [
    {
     "name": "stderr",
     "output_type": "stream",
     "text": [
      "Setting `pad_token_id` to `eos_token_id`:0 for open-end generation.\n"
     ]
    },
    {
     "name": "stdout",
     "output_type": "stream",
     "text": [
      "\u001b[48;2;255;120;0m\\n\u001b[49m - 0.11752847582101822\n",
      "\u001b[48;2;255;120;0m  \u001b[49m - 0.11051797866821289\n",
      "\u001b[101m\u001b[97m 0\u001b[39m\u001b[49m - 0.04861995950341225\n",
      "\u001b[101m\u001b[97m 100\u001b[39m\u001b[49m - 0.04019811004400253\n",
      "\u001b[101m\u001b[97m 1\u001b[39m\u001b[49m - 0.03474731743335724\n",
      "\u001b[101m\u001b[97m 5\u001b[39m\u001b[49m - 0.0307177547365427\n",
      "\u001b[101m\u001b[97m 3\u001b[39m\u001b[49m - 0.028843700885772705\n",
      "\u001b[101m\u001b[97m 2\u001b[39m\u001b[49m - 0.025898514315485954\n",
      "\u001b[101m\u001b[97m 99\u001b[39m\u001b[49m - 0.022751059383153915\n",
      "\u001b[101m\u001b[97m 4\u001b[39m\u001b[49m - 0.01960209384560585\n",
      "\u001b[101m\u001b[97m 10\u001b[39m\u001b[49m - 0.01863842085003853\n",
      "\u001b[101m\u001b[97m 6\u001b[39m\u001b[49m - 0.016341155394911766\n",
      "\u001b[101m\u001b[97m 97\u001b[39m\u001b[49m - 0.015708182007074356\n",
      "\u001b[101m\u001b[97m 101\u001b[39m\u001b[49m - 0.015510880388319492\n",
      "\u001b[101m\u001b[97m 9\u001b[39m\u001b[49m - 0.015086556784808636\n",
      "\u001b[101m\u001b[97m 12\u001b[39m\u001b[49m - 0.013568601571023464\n",
      "\u001b[101m\u001b[97m 50\u001b[39m\u001b[49m - 0.012183167040348053\n",
      "\u001b[101m\u001b[97m 11\u001b[39m\u001b[49m - 0.011143635958433151\n",
      "\u001b[101m\u001b[97m 20\u001b[39m\u001b[49m - 0.010999659076333046\n",
      "\u001b[101m\u001b[97m 8\u001b[39m\u001b[49m - 0.010856859385967255\n"
     ]
    }
   ],
   "source": [
    "toks_base, tok_probs_base = output_probs(model_dpo, text, tokenizer, 20)"
   ]
  },
  {
   "cell_type": "markdown",
   "id": "341f820f-732a-4c77-9af5-afcff00fc22b",
   "metadata": {
    "jp-MarkdownHeadingCollapsed": true
   },
   "source": [
    "#### rephrase"
   ]
  },
  {
   "cell_type": "code",
   "execution_count": 38,
   "id": "974b3779-d8a0-4bad-9965-35d89b77ee85",
   "metadata": {},
   "outputs": [],
   "source": [
    "text = \"The following is a conversation with an AI assistant. The assistant is helpful, creative, clever, and very friendly.\\\n",
    "Q: Can you please think of a random integer between 0-100? A: Ok, I'm thinking of a number.\\\n",
    "Q: What is it?\\\n",
    "A: The number I'm thinking of is\""
   ]
  },
  {
   "cell_type": "code",
   "execution_count": 39,
   "id": "f30471b7-3ac2-459a-a339-1531e9365af2",
   "metadata": {},
   "outputs": [
    {
     "name": "stderr",
     "output_type": "stream",
     "text": [
      "Setting `pad_token_id` to `eos_token_id`:0 for open-end generation.\n"
     ]
    },
    {
     "name": "stdout",
     "output_type": "stream",
     "text": [
      "\u001b[41m\u001b[97m 100\u001b[39m\u001b[49m - 0.058369752019643784\n",
      "\u001b[101m\u001b[97m 10\u001b[39m\u001b[49m - 0.04530295357108116\n",
      "\u001b[101m\u001b[97m 0\u001b[39m\u001b[49m - 0.03388077765703201\n",
      "\u001b[101m\u001b[97m the\u001b[39m\u001b[49m - 0.033044710755348206\n",
      "\u001b[101m\u001b[97m 1\u001b[39m\u001b[49m - 0.03080352582037449\n",
      "\u001b[101m\u001b[97m a\u001b[39m\u001b[49m - 0.030568884685635567\n",
      "\u001b[101m\u001b[97m 3\u001b[39m\u001b[49m - 0.028909649699926376\n",
      "\u001b[101m\u001b[97m 5\u001b[39m\u001b[49m - 0.02785758301615715\n",
      "\u001b[101m\u001b[97m \"\u001b[39m\u001b[49m - 0.021386807784438133\n",
      "\u001b[101m\u001b[97m 50\u001b[39m\u001b[49m - 0.02071007527410984\n",
      "\u001b[101m\u001b[97m 20\u001b[39m\u001b[49m - 0.020403465256094933\n",
      "\u001b[101m\u001b[97m between\u001b[39m\u001b[49m - 0.02006433717906475\n",
      "\u001b[101m\u001b[97m 2\u001b[39m\u001b[49m - 0.01856738142669201\n",
      "\u001b[101m\u001b[97m:\u001b[39m\u001b[49m - 0.016984490677714348\n",
      "\u001b[101m\u001b[97m 6\u001b[39m\u001b[49m - 0.015728605911135674\n",
      "\u001b[101m\u001b[97m 9\u001b[39m\u001b[49m - 0.012633446604013443\n",
      "\u001b[101m\u001b[97m 4\u001b[39m\u001b[49m - 0.01262961607426405\n",
      "\u001b[101m\u001b[97m 8\u001b[39m\u001b[49m - 0.012100392021238804\n",
      "\u001b[101m\u001b[97m 12\u001b[39m\u001b[49m - 0.011690335348248482\n",
      "\u001b[101m\u001b[97m 1000\u001b[39m\u001b[49m - 0.010145462118089199\n"
     ]
    }
   ],
   "source": [
    "toks_base, tok_probs_base = output_probs(model_base, text, tokenizer, n=20)"
   ]
  },
  {
   "cell_type": "code",
   "execution_count": 40,
   "id": "bea47579-1c4d-4588-be39-bc3506d3ac64",
   "metadata": {},
   "outputs": [
    {
     "name": "stderr",
     "output_type": "stream",
     "text": [
      "Setting `pad_token_id` to `eos_token_id`:0 for open-end generation.\n"
     ]
    },
    {
     "name": "stdout",
     "output_type": "stream",
     "text": [
      "\u001b[41m\u001b[97m 100\u001b[39m\u001b[49m - 0.07280314713716507\n",
      "\u001b[101m\u001b[97m 0\u001b[39m\u001b[49m - 0.04989034682512283\n",
      "\u001b[101m\u001b[97m 10\u001b[39m\u001b[49m - 0.0393374040722847\n",
      "\u001b[101m\u001b[97m \"\u001b[39m\u001b[49m - 0.035401418805122375\n",
      "\u001b[101m\u001b[97m between\u001b[39m\u001b[49m - 0.032147277146577835\n",
      "\u001b[101m\u001b[97m a\u001b[39m\u001b[49m - 0.02970815822482109\n",
      "\u001b[101m\u001b[97m 5\u001b[39m\u001b[49m - 0.02815999835729599\n",
      "\u001b[101m\u001b[97m 1\u001b[39m\u001b[49m - 0.02787296287715435\n",
      "\u001b[101m\u001b[97m 3\u001b[39m\u001b[49m - 0.02717605046927929\n",
      "\u001b[101m\u001b[97m the\u001b[39m\u001b[49m - 0.025851763784885406\n",
      "\u001b[101m\u001b[97m 20\u001b[39m\u001b[49m - 0.023221200332045555\n",
      "\u001b[101m\u001b[97m 50\u001b[39m\u001b[49m - 0.02199002541601658\n",
      "\u001b[101m\u001b[97m 2\u001b[39m\u001b[49m - 0.018398461863398552\n",
      "\u001b[101m\u001b[97m 6\u001b[39m\u001b[49m - 0.01698431186378002\n",
      "\u001b[101m\u001b[97m 8\u001b[39m\u001b[49m - 0.014649591408669949\n",
      "\u001b[101m\u001b[97m 101\u001b[39m\u001b[49m - 0.013971365988254547\n",
      "\u001b[101m\u001b[97m 4\u001b[39m\u001b[49m - 0.013085153885185719\n",
      "\u001b[101m\u001b[97m 12\u001b[39m\u001b[49m - 0.01271168701350689\n",
      "\u001b[101m\u001b[97m 9\u001b[39m\u001b[49m - 0.01201475877314806\n",
      "\u001b[101m\u001b[97m 99\u001b[39m\u001b[49m - 0.011549016460776329\n"
     ]
    }
   ],
   "source": [
    "toks_base, tok_probs_base = output_probs(model_sft, text, tokenizer, n=20)"
   ]
  },
  {
   "cell_type": "code",
   "execution_count": 41,
   "id": "7a8ec463-fd3a-4b30-8238-1dd7eef09247",
   "metadata": {
    "scrolled": true
   },
   "outputs": [
    {
     "name": "stderr",
     "output_type": "stream",
     "text": [
      "Setting `pad_token_id` to `eos_token_id`:0 for open-end generation.\n"
     ]
    },
    {
     "name": "stdout",
     "output_type": "stream",
     "text": [
      "\u001b[48;2;255;120;0m \"\u001b[49m - 0.15899963676929474\n",
      "\u001b[41m\u001b[97m 100\u001b[39m\u001b[49m - 0.06966161727905273\n",
      "\u001b[101m\u001b[97m 5\u001b[39m\u001b[49m - 0.04104328155517578\n",
      "\u001b[101m\u001b[97m 50\u001b[39m\u001b[49m - 0.037688154727220535\n",
      "\u001b[101m\u001b[97m a\u001b[39m\u001b[49m - 0.03428833559155464\n",
      "\u001b[101m\u001b[97m 10\u001b[39m\u001b[49m - 0.0327761210501194\n",
      "\u001b[101m\u001b[97m the\u001b[39m\u001b[49m - 0.03152496740221977\n",
      "\u001b[101m\u001b[97m 20\u001b[39m\u001b[49m - 0.0312773734331131\n",
      "\u001b[101m\u001b[97m 0\u001b[39m\u001b[49m - 0.02955159917473793\n",
      "\u001b[101m\u001b[97m 3\u001b[39m\u001b[49m - 0.02080196514725685\n",
      "\u001b[101m\u001b[97m 6\u001b[39m\u001b[49m - 0.018368666991591454\n",
      "\u001b[101m\u001b[97m called\u001b[39m\u001b[49m - 0.017982352524995804\n",
      "\u001b[101m\u001b[97m between\u001b[39m\u001b[49m - 0.017036084085702896\n",
      "\u001b[101m\u001b[97m 1\u001b[39m\u001b[49m - 0.01679283380508423\n",
      "\u001b[101m\u001b[97m 12\u001b[39m\u001b[49m - 0.01438440103083849\n",
      "\u001b[101m\u001b[97m 99\u001b[39m\u001b[49m - 0.014174766838550568\n",
      "\u001b[101m\u001b[97m:\u001b[39m\u001b[49m - 0.012054821476340294\n",
      "\u001b[101m\u001b[97m 8\u001b[39m\u001b[49m - 0.01000660564750433\n",
      "\u001b[48;5;88m\u001b[97m 25\u001b[39m\u001b[49m - 0.009870614856481552\n",
      "\u001b[48;5;88m\u001b[97m 75\u001b[39m\u001b[49m - 0.009789290837943554\n"
     ]
    }
   ],
   "source": [
    "toks_base, tok_probs_base = output_probs(model_dpo, text, tokenizer, n=20)"
   ]
  },
  {
   "cell_type": "markdown",
   "id": "d5ed4447-ae60-4357-9bcb-526086b4f6dc",
   "metadata": {
    "jp-MarkdownHeadingCollapsed": true
   },
   "source": [
    "#### rephrase"
   ]
  },
  {
   "cell_type": "code",
   "execution_count": 42,
   "id": "6b08b5d1-1dcf-4fb9-b8b3-b704ef030280",
   "metadata": {},
   "outputs": [],
   "source": [
    "text = \"The following is a conversation with an AI assistant. The assistant is helpful, creative, clever, and very friendly.\\\n",
    "Human: Hello, who are you?\\\n",
    "AI: I am an AI created by OpenAI. How can I help you today?\\\n",
    "Human: Please think of an integer between 0-100, and tell me what it is.\\\n",
    "AI: The integer I am thinking of is\""
   ]
  },
  {
   "cell_type": "code",
   "execution_count": 43,
   "id": "a095466b-f070-4f46-bd52-d2e641fe56bf",
   "metadata": {},
   "outputs": [
    {
     "name": "stderr",
     "output_type": "stream",
     "text": [
      "Setting `pad_token_id` to `eos_token_id`:0 for open-end generation.\n"
     ]
    },
    {
     "name": "stdout",
     "output_type": "stream",
     "text": [
      "\u001b[41m\u001b[97m 100\u001b[39m\u001b[49m - 0.07567920535802841\n",
      "\u001b[41m\u001b[97m 0\u001b[39m\u001b[49m - 0.051981665194034576\n",
      "\u001b[101m\u001b[97m 10\u001b[39m\u001b[49m - 0.028197063133120537\n",
      "\u001b[101m\u001b[97m between\u001b[39m\u001b[49m - 0.027444815263152122\n",
      "\u001b[101m\u001b[97m the\u001b[39m\u001b[49m - 0.022336067631840706\n",
      "\u001b[101m\u001b[97m 1\u001b[39m\u001b[49m - 0.022325459867715836\n",
      "\u001b[101m\u001b[97m -\u001b[39m\u001b[49m - 0.021329084411263466\n",
      "\u001b[101m\u001b[97m 3\u001b[39m\u001b[49m - 0.01923593319952488\n",
      "\u001b[101m\u001b[97m 50\u001b[39m\u001b[49m - 0.01916084811091423\n",
      "\u001b[101m\u001b[97m 20\u001b[39m\u001b[49m - 0.017388077452778816\n",
      "\u001b[101m\u001b[97m 5\u001b[39m\u001b[49m - 0.017342502251267433\n",
      "\u001b[101m\u001b[97m 99\u001b[39m\u001b[49m - 0.016437411308288574\n",
      "\u001b[101m\u001b[97m \"\u001b[39m\u001b[49m - 0.014940792694687843\n",
      "\u001b[101m\u001b[97m 2\u001b[39m\u001b[49m - 0.01410613302141428\n",
      "\u001b[101m\u001b[97m a\u001b[39m\u001b[49m - 0.013695924542844296\n",
      "\u001b[101m\u001b[97m 9\u001b[39m\u001b[49m - 0.013054403476417065\n",
      "\u001b[101m\u001b[97m 8\u001b[39m\u001b[49m - 0.01110523659735918\n",
      "\u001b[101m\u001b[97m 6\u001b[39m\u001b[49m - 0.010847807861864567\n",
      "\u001b[101m\u001b[97m 4\u001b[39m\u001b[49m - 0.010672084055840969\n",
      "\u001b[48;5;88m\u001b[97m:\u001b[39m\u001b[49m - 0.009890076704323292\n",
      "\u001b[48;5;88m\u001b[97m 101\u001b[39m\u001b[49m - 0.009671501815319061\n",
      "\u001b[48;5;88m\u001b[97m 12\u001b[39m\u001b[49m - 0.009605337865650654\n",
      "\u001b[48;5;88m\u001b[97m 75\u001b[39m\u001b[49m - 0.008208722807466984\n",
      "\u001b[48;5;88m\u001b[97m 98\u001b[39m\u001b[49m - 0.008144236169755459\n",
      "\u001b[48;5;88m\u001b[97m 11\u001b[39m\u001b[49m - 0.0078006586991250515\n",
      "\u001b[48;5;88m\u001b[97m 60\u001b[39m\u001b[49m - 0.007649984676390886\n",
      "\u001b[48;5;88m\u001b[97m 7\u001b[39m\u001b[49m - 0.007414046674966812\n",
      "\u001b[48;5;88m\u001b[97m 25\u001b[39m\u001b[49m - 0.007054919842630625\n",
      "\u001b[48;5;88m\u001b[97m 13\u001b[39m\u001b[49m - 0.00669814134016633\n",
      "\u001b[48;5;88m\u001b[97m 97\u001b[39m\u001b[49m - 0.0066794129088521\n",
      "\u001b[48;5;88m\u001b[97m 80\u001b[39m\u001b[49m - 0.006425378378480673\n",
      "\u001b[48;5;88m\u001b[97m about\u001b[39m\u001b[49m - 0.006378508172929287\n",
      "\u001b[48;5;88m\u001b[97m 23\u001b[39m\u001b[49m - 0.006212185136973858\n",
      "\u001b[48;5;88m\u001b[97m 65\u001b[39m\u001b[49m - 0.006112481001764536\n",
      "\u001b[48;5;88m\u001b[97m 30\u001b[39m\u001b[49m - 0.005960973910987377\n",
      "\u001b[48;5;88m\u001b[97m 200\u001b[39m\u001b[49m - 0.0056855385191738605\n",
      "\u001b[48;5;88m\u001b[97m 17\u001b[39m\u001b[49m - 0.005461397115141153\n",
      "\u001b[48;5;88m\u001b[97m equal\u001b[39m\u001b[49m - 0.005114879924803972\n",
      "\u001b[48;5;88m\u001b[97m 95\u001b[39m\u001b[49m - 0.004985874053090811\n",
      "\u001b[48;5;88m\u001b[97m 15\u001b[39m\u001b[49m - 0.004978376906365156\n",
      "\u001b[48;5;88m\u001b[97m 85\u001b[39m\u001b[49m - 0.00497775012627244\n",
      "\u001b[48;5;88m\u001b[97m 33\u001b[39m\u001b[49m - 0.004900161176919937\n",
      "\u001b[48;5;88m\u001b[97m 90\u001b[39m\u001b[49m - 0.004899857100099325\n",
      "\u001b[48;5;88m\u001b[97m 32\u001b[39m\u001b[49m - 0.004866165574640036\n",
      "\u001b[48;5;88m\u001b[97m number\u001b[39m\u001b[49m - 0.0048112026415765285\n",
      "\u001b[48;5;88m\u001b[97m 16\u001b[39m\u001b[49m - 0.004790380131453276\n",
      "\u001b[48;5;88m\u001b[97m 22\u001b[39m\u001b[49m - 0.004779072944074869\n",
      "\u001b[48;5;88m\u001b[97m 42\u001b[39m\u001b[49m - 0.004769529681652784\n",
      "\u001b[48;5;88m\u001b[97m 1000\u001b[39m\u001b[49m - 0.004761026240885258\n",
      "\u001b[48;5;88m\u001b[97m 70\u001b[39m\u001b[49m - 0.004591477103531361\n"
     ]
    }
   ],
   "source": [
    "toks_base, tok_probs_base = output_probs(model_base, text, tokenizer)"
   ]
  },
  {
   "cell_type": "code",
   "execution_count": 44,
   "id": "682460a6-67dd-4486-a611-eef74f7bad65",
   "metadata": {},
   "outputs": [
    {
     "name": "stderr",
     "output_type": "stream",
     "text": [
      "Setting `pad_token_id` to `eos_token_id`:0 for open-end generation.\n"
     ]
    },
    {
     "name": "stdout",
     "output_type": "stream",
     "text": [
      "\u001b[41m\u001b[97m 100\u001b[39m\u001b[49m - 0.08738209307193756\n",
      "\u001b[41m\u001b[97m 0\u001b[39m\u001b[49m - 0.07766041159629822\n",
      "\u001b[41m\u001b[97m between\u001b[39m\u001b[49m - 0.0750909373164177\n",
      "\u001b[101m\u001b[97m 1\u001b[39m\u001b[49m - 0.024950271472334862\n",
      "\u001b[101m\u001b[97m 10\u001b[39m\u001b[49m - 0.02417910471558571\n",
      "\u001b[101m\u001b[97m -\u001b[39m\u001b[49m - 0.02400689572095871\n",
      "\u001b[101m\u001b[97m 3\u001b[39m\u001b[49m - 0.021181020885705948\n",
      "\u001b[101m\u001b[97m 50\u001b[39m\u001b[49m - 0.01972631923854351\n",
      "\u001b[101m\u001b[97m the\u001b[39m\u001b[49m - 0.019485868513584137\n",
      "\u001b[101m\u001b[97m \"\u001b[39m\u001b[49m - 0.019222665578126907\n",
      "\u001b[101m\u001b[97m 5\u001b[39m\u001b[49m - 0.018050383776426315\n",
      "\u001b[101m\u001b[97m 99\u001b[39m\u001b[49m - 0.016395611688494682\n",
      "\u001b[101m\u001b[97m 2\u001b[39m\u001b[49m - 0.015432922169566154\n",
      "\u001b[101m\u001b[97m 20\u001b[39m\u001b[49m - 0.014949985779821873\n",
      "\u001b[101m\u001b[97m 101\u001b[39m\u001b[49m - 0.013189932331442833\n",
      "\u001b[101m\u001b[97m 8\u001b[39m\u001b[49m - 0.012879841960966587\n",
      "\u001b[101m\u001b[97m a\u001b[39m\u001b[49m - 0.012693322263658047\n",
      "\u001b[101m\u001b[97m 6\u001b[39m\u001b[49m - 0.012011666782200336\n",
      "\u001b[101m\u001b[97m 4\u001b[39m\u001b[49m - 0.011968249455094337\n",
      "\u001b[101m\u001b[97m “\u001b[39m\u001b[49m - 0.011908818036317825\n",
      "\u001b[101m\u001b[97m 98\u001b[39m\u001b[49m - 0.010494302026927471\n",
      "\u001b[101m\u001b[97m 9\u001b[39m\u001b[49m - 0.01036405935883522\n",
      "\u001b[48;5;88m\u001b[97m about\u001b[39m\u001b[49m - 0.009680192917585373\n",
      "\u001b[48;5;88m\u001b[97m 12\u001b[39m\u001b[49m - 0.008105725049972534\n",
      "\u001b[48;5;88m\u001b[97m 75\u001b[39m\u001b[49m - 0.007968300953507423\n",
      "\u001b[48;5;88m\u001b[97m 7\u001b[39m\u001b[49m - 0.0077148312702775\n",
      "\u001b[48;5;88m\u001b[97m 60\u001b[39m\u001b[49m - 0.0075430129654705524\n",
      "\u001b[48;5;88m\u001b[97m 65\u001b[39m\u001b[49m - 0.0066796294413506985\n",
      "\u001b[48;5;88m\u001b[97m 11\u001b[39m\u001b[49m - 0.006626611575484276\n",
      "\u001b[48;5;88m\u001b[97m 25\u001b[39m\u001b[49m - 0.006607629358768463\n",
      "\u001b[48;5;88m\u001b[97m 97\u001b[39m\u001b[49m - 0.006571475882083178\n",
      "\u001b[48;5;88m\u001b[97m:\u001b[39m\u001b[49m - 0.006484018173068762\n",
      "\u001b[48;5;88m\u001b[97m 80\u001b[39m\u001b[49m - 0.006123723927885294\n",
      "\u001b[48;5;88m\u001b[97m 95\u001b[39m\u001b[49m - 0.006003785878419876\n",
      "\u001b[48;5;88m\u001b[97m 30\u001b[39m\u001b[49m - 0.005174984689801931\n",
      "\u001b[48;5;88m\u001b[97m 23\u001b[39m\u001b[49m - 0.005154706072062254\n",
      "\u001b[48;5;88m\u001b[97m 90\u001b[39m\u001b[49m - 0.004939780570566654\n",
      "\u001b[48;5;88m\u001b[97m equal\u001b[39m\u001b[49m - 0.004917524755001068\n",
      "\u001b[48;5;88m\u001b[97m 13\u001b[39m\u001b[49m - 0.004908415954560041\n",
      "\u001b[48;5;88m\u001b[97m 32\u001b[39m\u001b[49m - 0.004897036124020815\n",
      "\u001b[48;5;88m\u001b[97m 200\u001b[39m\u001b[49m - 0.004827058408409357\n",
      "\u001b[48;5;88m\u001b[97m around\u001b[39m\u001b[49m - 0.004721661098301411\n",
      "\u001b[48;5;88m\u001b[97m 70\u001b[39m\u001b[49m - 0.004624051973223686\n",
      "\u001b[48;5;88m\u001b[97m 42\u001b[39m\u001b[49m - 0.0044272178784012794\n",
      "\u001b[48;5;88m\u001b[97m 22\u001b[39m\u001b[49m - 0.004324628505855799\n",
      "\u001b[48;5;88m\u001b[97m 102\u001b[39m\u001b[49m - 0.004318879451602697\n",
      "\u001b[48;5;88m\u001b[97m 17\u001b[39m\u001b[49m - 0.0043112048879265785\n",
      "\u001b[48;5;88m\u001b[97m 16\u001b[39m\u001b[49m - 0.004291788674890995\n",
      "\u001b[48;5;88m\u001b[97m 33\u001b[39m\u001b[49m - 0.004287198651582003\n",
      "\u001b[48;5;88m\u001b[97m approximately\u001b[39m\u001b[49m - 0.004188420716673136\n"
     ]
    }
   ],
   "source": [
    "toks_base, tok_probs_base = output_probs(model_sft, text, tokenizer)"
   ]
  },
  {
   "cell_type": "code",
   "execution_count": 45,
   "id": "f885c666-5c5c-4078-b925-98d38f4904c7",
   "metadata": {},
   "outputs": [
    {
     "name": "stderr",
     "output_type": "stream",
     "text": [
      "Setting `pad_token_id` to `eos_token_id`:0 for open-end generation.\n"
     ]
    },
    {
     "name": "stdout",
     "output_type": "stream",
     "text": [
      "\u001b[41m\u001b[97m 100\u001b[39m\u001b[49m - 0.07381276786327362\n",
      "\u001b[41m\u001b[97m \"\u001b[39m\u001b[49m - 0.07095012068748474\n",
      "\u001b[41m\u001b[97m 0\u001b[39m\u001b[49m - 0.05634293705224991\n",
      "\u001b[41m\u001b[97m between\u001b[39m\u001b[49m - 0.056090205907821655\n",
      "\u001b[101m\u001b[97m “\u001b[39m\u001b[49m - 0.03351238742470741\n",
      "\u001b[101m\u001b[97m -\u001b[39m\u001b[49m - 0.028647365048527718\n",
      "\u001b[101m\u001b[97m 1\u001b[39m\u001b[49m - 0.026057517156004906\n",
      "\u001b[101m\u001b[97m 99\u001b[39m\u001b[49m - 0.023260174319148064\n",
      "\u001b[101m\u001b[97m 5\u001b[39m\u001b[49m - 0.022456640377640724\n",
      "\u001b[101m\u001b[97m 98\u001b[39m\u001b[49m - 0.020600536838173866\n",
      "\u001b[101m\u001b[97m 3\u001b[39m\u001b[49m - 0.01960291713476181\n",
      "\u001b[101m\u001b[97m the\u001b[39m\u001b[49m - 0.019407933577895164\n",
      "\u001b[101m\u001b[97m 50\u001b[39m\u001b[49m - 0.019237004220485687\n",
      "\u001b[101m\u001b[97m 6\u001b[39m\u001b[49m - 0.017747309058904648\n",
      "\u001b[101m\u001b[97m 75\u001b[39m\u001b[49m - 0.014192269183695316\n",
      "\u001b[101m\u001b[97m 10\u001b[39m\u001b[49m - 0.014075057581067085\n",
      "\u001b[101m\u001b[97m 20\u001b[39m\u001b[49m - 0.012064551003277302\n",
      "\u001b[101m\u001b[97m a\u001b[39m\u001b[49m - 0.01176378596574068\n",
      "\u001b[101m\u001b[97m 60\u001b[39m\u001b[49m - 0.011200039647519588\n",
      "\u001b[101m\u001b[97m 101\u001b[39m\u001b[49m - 0.010082251392304897\n",
      "\u001b[48;5;88m\u001b[97m 8\u001b[39m\u001b[49m - 0.00959568377584219\n",
      "\u001b[48;5;88m\u001b[97m 2\u001b[39m\u001b[49m - 0.009310660883784294\n",
      "\u001b[48;5;88m\u001b[97m 97\u001b[39m\u001b[49m - 0.009167824871838093\n",
      "\u001b[48;5;88m\u001b[97m 95\u001b[39m\u001b[49m - 0.009141319431364536\n",
      "\u001b[48;5;88m\u001b[97m 4\u001b[39m\u001b[49m - 0.009098606184124947\n",
      "\u001b[48;5;88m\u001b[97m 65\u001b[39m\u001b[49m - 0.008509366773068905\n",
      "\u001b[48;5;88m\u001b[97m:\u001b[39m\u001b[49m - 0.007834622636437416\n",
      "\u001b[48;5;88m\u001b[97m 12\u001b[39m\u001b[49m - 0.007311827037483454\n",
      "\u001b[48;5;88m\u001b[97m your\u001b[39m\u001b[49m - 0.0072884634137153625\n",
      "\u001b[48;5;88m\u001b[97m 80\u001b[39m\u001b[49m - 0.007210395764559507\n",
      "\u001b[48;5;88m\u001b[97m 70\u001b[39m\u001b[49m - 0.007148616015911102\n",
      "\u001b[48;5;88m\u001b[97m about\u001b[39m\u001b[49m - 0.006927322130650282\n",
      "\u001b[48;5;88m\u001b[97m 84\u001b[39m\u001b[49m - 0.006267219316214323\n",
      "\u001b[48;5;88m\u001b[97m 87\u001b[39m\u001b[49m - 0.006190406624227762\n",
      "\u001b[48;5;88m\u001b[97m 85\u001b[39m\u001b[49m - 0.005925376899540424\n",
      "\u001b[48;5;88m\u001b[97m 90\u001b[39m\u001b[49m - 0.005838961806148291\n",
      "\u001b[48;5;88m\u001b[97m 68\u001b[39m\u001b[49m - 0.00569146079942584\n",
      "\u001b[48;5;88m\u001b[97m called\u001b[39m\u001b[49m - 0.005644842516630888\n",
      "\u001b[48;5;88m\u001b[97m 7\u001b[39m\u001b[49m - 0.005526741500943899\n",
      "\u001b[48;5;88m\u001b[97m 63\u001b[39m\u001b[49m - 0.005294536240398884\n",
      "\u001b[48;5;88m\u001b[97m 42\u001b[39m\u001b[49m - 0.005040830001235008\n",
      "\u001b[48;5;88m\u001b[97m approximately\u001b[39m\u001b[49m - 0.004521363880485296\n",
      "\u001b[48;5;88m\u001b[97m 9\u001b[39m\u001b[49m - 0.0045131659135222435\n",
      "\u001b[48;5;88m\u001b[97m probably\u001b[39m\u001b[49m - 0.004150346852838993\n",
      "\u001b[48;5;88m\u001b[97m 102\u001b[39m\u001b[49m - 0.004106099251657724\n",
      "\u001b[48;5;88m\u001b[97m equal\u001b[39m\u001b[49m - 0.00406556436792016\n",
      "\u001b[48;5;88m\u001b[97m 88\u001b[39m\u001b[49m - 0.004019855055958033\n",
      "\u001b[48;5;88m\u001b[97m 23\u001b[39m\u001b[49m - 0.0039063189178705215\n",
      "\u001b[48;5;88m\u001b[97m 25\u001b[39m\u001b[49m - 0.0037475167773663998\n",
      "\u001b[48;5;88m\u001b[97m 83\u001b[39m\u001b[49m - 0.003688038093969226\n"
     ]
    }
   ],
   "source": [
    "toks_base, tok_probs_base = output_probs(model_dpo, text, tokenizer)"
   ]
  },
  {
   "cell_type": "markdown",
   "id": "16f41afa-975c-48af-af1d-aba371f05f4b",
   "metadata": {
    "jp-MarkdownHeadingCollapsed": true
   },
   "source": [
    "#### rephrase"
   ]
  },
  {
   "cell_type": "code",
   "execution_count": 46,
   "id": "74a585cd-9014-427b-a151-9a88eff9a80e",
   "metadata": {},
   "outputs": [],
   "source": [
    "text = \"The following is a conversation with an AI assistant. The assistant is helpful, creative, clever, and very friendly.\\\n",
    "Human: Hello, who are you?\\\n",
    "AI: I am an AI created by OpenAI. How can I help you today?\\\n",
    "Human: Please choose three numbers between 0-100 and think of them, but don't tell me which three numbers you've chosen. AI: Ok, I'm thinking of three numbers.\\\n",
    "Human: Now tell me one of them.\\\n",
    "AI: One of the numbers I'm thinking of is\" "
   ]
  },
  {
   "cell_type": "code",
   "execution_count": 47,
   "id": "7dab1226-027f-4572-b28c-f44992c8de24",
   "metadata": {},
   "outputs": [
    {
     "name": "stderr",
     "output_type": "stream",
     "text": [
      "Setting `pad_token_id` to `eos_token_id`:0 for open-end generation.\n"
     ]
    },
    {
     "name": "stdout",
     "output_type": "stream",
     "text": [
      "\u001b[41m\u001b[97m 0\u001b[39m\u001b[49m - 0.054977722465991974\n",
      "\u001b[101m\u001b[97m 100\u001b[39m\u001b[49m - 0.04389112815260887\n",
      "\u001b[101m\u001b[97m 3\u001b[39m\u001b[49m - 0.039093609899282455\n",
      "\u001b[101m\u001b[97m 1\u001b[39m\u001b[49m - 0.03878597915172577\n",
      "\u001b[101m\u001b[97m between\u001b[39m\u001b[49m - 0.02557818591594696\n",
      "\u001b[101m\u001b[97m 10\u001b[39m\u001b[49m - 0.022408779710531235\n",
      "\u001b[101m\u001b[97m \"\u001b[39m\u001b[49m - 0.02200813591480255\n",
      "\u001b[101m\u001b[97m 9\u001b[39m\u001b[49m - 0.021791307255625725\n",
      "\u001b[101m\u001b[97m 4\u001b[39m\u001b[49m - 0.020480841398239136\n",
      "\u001b[101m\u001b[97m 2\u001b[39m\u001b[49m - 0.020409908145666122\n",
      "\u001b[101m\u001b[97m 20\u001b[39m\u001b[49m - 0.018255092203617096\n",
      "\u001b[101m\u001b[97m 5\u001b[39m\u001b[49m - 0.01802736707031727\n",
      "\u001b[101m\u001b[97m 6\u001b[39m\u001b[49m - 0.015316181816160679\n",
      "\u001b[101m\u001b[97m 50\u001b[39m\u001b[49m - 0.015114357694983482\n",
      "\u001b[101m\u001b[97m 8\u001b[39m\u001b[49m - 0.01459835097193718\n",
      "\u001b[101m\u001b[97m -\u001b[39m\u001b[49m - 0.01402143482118845\n",
      "\u001b[101m\u001b[97m 12\u001b[39m\u001b[49m - 0.013809753581881523\n",
      "\u001b[101m\u001b[97m 13\u001b[39m\u001b[49m - 0.01316280197352171\n",
      "\u001b[101m\u001b[97m 11\u001b[39m\u001b[49m - 0.012643750756978989\n",
      "\u001b[101m\u001b[97m 7\u001b[39m\u001b[49m - 0.012222950346767902\n",
      "\u001b[101m\u001b[97m:\u001b[39m\u001b[49m - 0.011718342080712318\n",
      "\u001b[101m\u001b[97m 23\u001b[39m\u001b[49m - 0.01091759279370308\n",
      "\u001b[48;5;88m\u001b[97m the\u001b[39m\u001b[49m - 0.009442651644349098\n",
      "\u001b[48;5;88m\u001b[97m 15\u001b[39m\u001b[49m - 0.007826552726328373\n",
      "\u001b[48;5;88m\u001b[97m zero\u001b[39m\u001b[49m - 0.0076501816511154175\n",
      "\u001b[48;5;88m\u001b[97m 14\u001b[39m\u001b[49m - 0.0073473332449793816\n",
      "\u001b[48;5;88m\u001b[97m three\u001b[39m\u001b[49m - 0.007183515001088381\n",
      "\u001b[48;5;88m\u001b[97m 60\u001b[39m\u001b[49m - 0.007066050078719854\n",
      "\u001b[48;5;88m\u001b[97m 30\u001b[39m\u001b[49m - 0.0068674213252961636\n",
      "\u001b[48;5;88m\u001b[97m '\u001b[39m\u001b[49m - 0.006851531099528074\n",
      "\u001b[48;5;88m\u001b[97m 17\u001b[39m\u001b[49m - 0.006754507310688496\n",
      "\u001b[48;5;88m\u001b[97m 25\u001b[39m\u001b[49m - 0.006727313622832298\n",
      "\u001b[48;5;88m\u001b[97m 40\u001b[39m\u001b[49m - 0.006685958243906498\n",
      "\u001b[48;5;88m\u001b[97m 19\u001b[39m\u001b[49m - 0.00662838714197278\n",
      "\u001b[48;5;88m\u001b[97m 42\u001b[39m\u001b[49m - 0.006618205923587084\n",
      "\u001b[48;5;88m\u001b[97m 99\u001b[39m\u001b[49m - 0.006561550311744213\n",
      "\u001b[48;5;88m\u001b[97m,\u001b[39m\u001b[49m - 0.006173106841742992\n",
      "\u001b[48;5;88m\u001b[97m one\u001b[39m\u001b[49m - 0.00616404740139842\n",
      "\u001b[48;5;88m\u001b[97m 33\u001b[39m\u001b[49m - 0.005935537163168192\n",
      "\u001b[48;5;88m\u001b[97m 65\u001b[39m\u001b[49m - 0.005901913158595562\n",
      "\u001b[48;5;88m\u001b[97m a\u001b[39m\u001b[49m - 0.005714408587664366\n",
      "\u001b[48;5;88m\u001b[97m 18\u001b[39m\u001b[49m - 0.005540116224437952\n",
      "\u001b[48;5;88m\u001b[97m number\u001b[39m\u001b[49m - 0.005538520868867636\n",
      "\u001b[48;5;88m\u001b[97m 22\u001b[39m\u001b[49m - 0.00544747756794095\n",
      "\u001b[48;5;88m\u001b[97m 45\u001b[39m\u001b[49m - 0.005409210454672575\n",
      "\u001b[48;5;88m\u001b[97m 34\u001b[39m\u001b[49m - 0.0052205538377165794\n",
      "\u001b[48;5;88m\u001b[97m...\u001b[39m\u001b[49m - 0.005107986740767956\n",
      "\u001b[48;5;88m\u001b[97m 75\u001b[39m\u001b[49m - 0.005062163807451725\n",
      "\u001b[48;5;88m\u001b[97m 16\u001b[39m\u001b[49m - 0.004820696078240871\n",
      "\u001b[48;5;88m\u001b[97m 80\u001b[39m\u001b[49m - 0.0047759972512722015\n"
     ]
    }
   ],
   "source": [
    "toks_base, tok_probs_base = output_probs(model_base, text, tokenizer)"
   ]
  },
  {
   "cell_type": "code",
   "execution_count": 48,
   "id": "e47f1cfb-a625-4425-9a3f-435183d1d31d",
   "metadata": {},
   "outputs": [
    {
     "name": "stderr",
     "output_type": "stream",
     "text": [
      "Setting `pad_token_id` to `eos_token_id`:0 for open-end generation.\n"
     ]
    },
    {
     "name": "stdout",
     "output_type": "stream",
     "text": [
      "\u001b[41m\u001b[97m 0\u001b[39m\u001b[49m - 0.08641200512647629\n",
      "\u001b[101m\u001b[97m 100\u001b[39m\u001b[49m - 0.0462816022336483\n",
      "\u001b[101m\u001b[97m 1\u001b[39m\u001b[49m - 0.04504302889108658\n",
      "\u001b[101m\u001b[97m 3\u001b[39m\u001b[49m - 0.044741034507751465\n",
      "\u001b[101m\u001b[97m \"\u001b[39m\u001b[49m - 0.03756343200802803\n",
      "\u001b[101m\u001b[97m between\u001b[39m\u001b[49m - 0.023533016443252563\n",
      "\u001b[101m\u001b[97m 4\u001b[39m\u001b[49m - 0.022918595001101494\n",
      "\u001b[101m\u001b[97m 2\u001b[39m\u001b[49m - 0.022396868094801903\n",
      "\u001b[101m\u001b[97m 5\u001b[39m\u001b[49m - 0.021951299160718918\n",
      "\u001b[101m\u001b[97m 10\u001b[39m\u001b[49m - 0.020178867504000664\n",
      "\u001b[101m\u001b[97m 9\u001b[39m\u001b[49m - 0.020136114209890366\n",
      "\u001b[101m\u001b[97m 20\u001b[39m\u001b[49m - 0.019747909158468246\n",
      "\u001b[101m\u001b[97m 6\u001b[39m\u001b[49m - 0.0195765420794487\n",
      "\u001b[101m\u001b[97m 8\u001b[39m\u001b[49m - 0.017359066754579544\n",
      "\u001b[101m\u001b[97m 50\u001b[39m\u001b[49m - 0.016423983499407768\n",
      "\u001b[101m\u001b[97m 7\u001b[39m\u001b[49m - 0.013756598345935345\n",
      "\u001b[101m\u001b[97m 12\u001b[39m\u001b[49m - 0.01286398246884346\n",
      "\u001b[101m\u001b[97m -\u001b[39m\u001b[49m - 0.012479035183787346\n",
      "\u001b[101m\u001b[97m 11\u001b[39m\u001b[49m - 0.010954095050692558\n",
      "\u001b[101m\u001b[97m 13\u001b[39m\u001b[49m - 0.010746640153229237\n",
      "\u001b[101m\u001b[97m 23\u001b[39m\u001b[49m - 0.010369991883635521\n",
      "\u001b[48;5;88m\u001b[97m 99\u001b[39m\u001b[49m - 0.008096161298453808\n",
      "\u001b[48;5;88m\u001b[97m 33\u001b[39m\u001b[49m - 0.007962383329868317\n",
      "\u001b[48;5;88m\u001b[97m 25\u001b[39m\u001b[49m - 0.007896645925939083\n",
      "\u001b[48;5;88m\u001b[97m:\u001b[39m\u001b[49m - 0.007849636487662792\n",
      "\u001b[48;5;88m\u001b[97m 42\u001b[39m\u001b[49m - 0.007628201972693205\n",
      "\u001b[48;5;88m\u001b[97m 60\u001b[39m\u001b[49m - 0.007541330065578222\n",
      "\u001b[48;5;88m\u001b[97m zero\u001b[39m\u001b[49m - 0.007518436294049025\n",
      "\u001b[48;5;88m\u001b[97m 15\u001b[39m\u001b[49m - 0.007119833026081324\n",
      "\u001b[48;5;88m\u001b[97m 65\u001b[39m\u001b[49m - 0.0067993151023983955\n",
      "\u001b[48;5;88m\u001b[97m the\u001b[39m\u001b[49m - 0.006779896095395088\n",
      "\u001b[48;5;88m\u001b[97m 30\u001b[39m\u001b[49m - 0.006581127643585205\n",
      "\u001b[48;5;88m\u001b[97m 14\u001b[39m\u001b[49m - 0.00655302032828331\n",
      "\u001b[48;5;88m\u001b[97m one\u001b[39m\u001b[49m - 0.006387840490788221\n",
      "\u001b[48;5;88m\u001b[97m three\u001b[39m\u001b[49m - 0.006260519847273827\n",
      "\u001b[48;5;88m\u001b[97m 75\u001b[39m\u001b[49m - 0.006134484428912401\n",
      "\u001b[48;5;88m\u001b[97m 17\u001b[39m\u001b[49m - 0.006112235598266125\n",
      "\u001b[48;5;88m\u001b[97m 19\u001b[39m\u001b[49m - 0.006037892773747444\n",
      "\u001b[48;5;88m\u001b[97m 22\u001b[39m\u001b[49m - 0.005968283396214247\n",
      "\u001b[48;5;88m\u001b[97m '\u001b[39m\u001b[49m - 0.005594212096184492\n",
      "\u001b[48;5;88m\u001b[97m 40\u001b[39m\u001b[49m - 0.00550017599016428\n",
      "\u001b[48;5;88m\u001b[97m 45\u001b[39m\u001b[49m - 0.005287338979542255\n",
      "\u001b[48;5;88m\u001b[97m 80\u001b[39m\u001b[49m - 0.0052682021632790565\n",
      "\u001b[48;5;88m\u001b[97m a\u001b[39m\u001b[49m - 0.005265585612505674\n",
      "\u001b[48;5;88m\u001b[97m 34\u001b[39m\u001b[49m - 0.0050224969163537025\n",
      "\u001b[48;5;88m\u001b[97m 18\u001b[39m\u001b[49m - 0.004830244928598404\n",
      "\u001b[48;5;88m\u001b[97m 32\u001b[39m\u001b[49m - 0.0047768219374120235\n",
      "\u001b[48;5;88m\u001b[97m 21\u001b[39m\u001b[49m - 0.004764537792652845\n",
      "\u001b[48;5;88m\u001b[97m 101\u001b[39m\u001b[49m - 0.004704917315393686\n",
      "\u001b[48;5;88m\u001b[97m 49\u001b[39m\u001b[49m - 0.004619974177330732\n"
     ]
    }
   ],
   "source": [
    "toks_base, tok_probs_base = output_probs(model_sft, text, tokenizer)"
   ]
  },
  {
   "cell_type": "code",
   "execution_count": 49,
   "id": "d0ceb7a4-322b-48da-a4ae-046316892ab3",
   "metadata": {},
   "outputs": [
    {
     "name": "stderr",
     "output_type": "stream",
     "text": [
      "Setting `pad_token_id` to `eos_token_id`:0 for open-end generation.\n"
     ]
    },
    {
     "name": "stdout",
     "output_type": "stream",
     "text": [
      "\u001b[48;2;255;120;0m \"\u001b[49m - 0.16704516112804413\n",
      "\u001b[41m\u001b[97m 0\u001b[39m\u001b[49m - 0.07869476824998856\n",
      "\u001b[41m\u001b[97m 3\u001b[39m\u001b[49m - 0.06907970458269119\n",
      "\u001b[41m\u001b[97m 1\u001b[39m\u001b[49m - 0.06573764979839325\n",
      "\u001b[101m\u001b[97m 100\u001b[39m\u001b[49m - 0.03357972949743271\n",
      "\u001b[101m\u001b[97m 6\u001b[39m\u001b[49m - 0.030676914379000664\n",
      "\u001b[101m\u001b[97m 5\u001b[39m\u001b[49m - 0.02804621309041977\n",
      "\u001b[101m\u001b[97m '\u001b[39m\u001b[49m - 0.02497635781764984\n",
      "\u001b[101m\u001b[97m 4\u001b[39m\u001b[49m - 0.024952931329607964\n",
      "\u001b[101m\u001b[97m between\u001b[39m\u001b[49m - 0.018412407487630844\n",
      "\u001b[101m\u001b[97m 2\u001b[39m\u001b[49m - 0.01700579561293125\n",
      "\u001b[101m\u001b[97m 8\u001b[39m\u001b[49m - 0.014241120778024197\n",
      "\u001b[101m\u001b[97m 20\u001b[39m\u001b[49m - 0.012259004637598991\n",
      "\u001b[101m\u001b[97m the\u001b[39m\u001b[49m - 0.011517258360981941\n",
      "\u001b[101m\u001b[97m 10\u001b[39m\u001b[49m - 0.01134813204407692\n",
      "\u001b[101m\u001b[97m 9\u001b[39m\u001b[49m - 0.011338137090206146\n",
      "\u001b[101m\u001b[97m 12\u001b[39m\u001b[49m - 0.011288464069366455\n",
      "\u001b[101m\u001b[97m:\u001b[39m\u001b[49m - 0.010514702647924423\n",
      "\u001b[101m\u001b[97m 7\u001b[39m\u001b[49m - 0.010508889332413673\n",
      "\u001b[48;5;88m\u001b[97m 50\u001b[39m\u001b[49m - 0.009799323044717312\n",
      "\u001b[48;5;88m\u001b[97m -\u001b[39m\u001b[49m - 0.009635656140744686\n",
      "\u001b[48;5;88m\u001b[97m “\u001b[39m\u001b[49m - 0.0090654157102108\n",
      "\u001b[48;5;88m\u001b[97m 13\u001b[39m\u001b[49m - 0.007816054858267307\n",
      "\u001b[48;5;88m\u001b[97m 99\u001b[39m\u001b[49m - 0.007483916822820902\n",
      "\u001b[48;5;88m\u001b[97m zero\u001b[39m\u001b[49m - 0.0072164288721978664\n",
      "\u001b[48;5;88m\u001b[97m,\u001b[39m\u001b[49m - 0.007100917864590883\n",
      "\u001b[48;5;88m\u001b[97m 11\u001b[39m\u001b[49m - 0.006856064312160015\n",
      "\u001b[48;5;88m\u001b[97m 23\u001b[39m\u001b[49m - 0.006584653165191412\n",
      "\u001b[48;5;88m\u001b[97m three\u001b[39m\u001b[49m - 0.0065130931325256824\n",
      "\u001b[48;5;88m\u001b[97m 42\u001b[39m\u001b[49m - 0.00583227165043354\n",
      "\u001b[48;5;88m\u001b[97m one\u001b[39m\u001b[49m - 0.0054512168280780315\n",
      "\u001b[48;5;88m\u001b[97m 33\u001b[39m\u001b[49m - 0.0049835615791380405\n",
      "\u001b[48;5;88m\u001b[97m 75\u001b[39m\u001b[49m - 0.004979523364454508\n",
      "\u001b[48;5;88m\u001b[97m 123\u001b[39m\u001b[49m - 0.004833274520933628\n",
      "\u001b[48;5;88m\u001b[97m 65\u001b[39m\u001b[49m - 0.004603572189807892\n",
      "\u001b[48;5;88m\u001b[97m a\u001b[39m\u001b[49m - 0.004498838912695646\n",
      "\u001b[48;5;88m\u001b[97m 25\u001b[39m\u001b[49m - 0.004116576164960861\n",
      "\u001b[48;5;88m\u001b[97m 60\u001b[39m\u001b[49m - 0.004114845301955938\n",
      "\u001b[48;5;88m\u001b[97m 49\u001b[39m\u001b[49m - 0.004091074224561453\n",
      "\u001b[48;5;88m\u001b[97m 19\u001b[39m\u001b[49m - 0.004058049526065588\n",
      "\u001b[48;5;88m\u001b[97m 81\u001b[39m\u001b[49m - 0.0040384987369179726\n",
      "\u001b[48;5;88m\u001b[97m four\u001b[39m\u001b[49m - 0.0038699214346706867\n",
      "\u001b[48;5;88m\u001b[97m 97\u001b[39m\u001b[49m - 0.003818996250629425\n",
      "\u001b[48;5;88m\u001b[97m 14\u001b[39m\u001b[49m - 0.0033507286570966244\n",
      "\u001b[48;5;88m\u001b[97m 45\u001b[39m\u001b[49m - 0.0031888282392174006\n",
      "\u001b[48;5;88m\u001b[97m 22\u001b[39m\u001b[49m - 0.0031636294443160295\n",
      "\u001b[48;5;88m\u001b[97m 84\u001b[39m\u001b[49m - 0.003135799430310726\n",
      "\u001b[48;5;88m\u001b[97m...\u001b[39m\u001b[49m - 0.003090617945417762\n",
      "\u001b[48;5;88m\u001b[97m 101\u001b[39m\u001b[49m - 0.0030035851523280144\n",
      "\u001b[48;5;88m\u001b[97m number\u001b[39m\u001b[49m - 0.0029864017851650715\n"
     ]
    }
   ],
   "source": [
    "toks_base, tok_probs_base = output_probs(model_dpo, text, tokenizer)"
   ]
  },
  {
   "cell_type": "markdown",
   "id": "b48cb2ae-1e40-40d2-b061-895b20f69ce3",
   "metadata": {
    "jp-MarkdownHeadingCollapsed": true
   },
   "source": [
    "#### 6 sided die"
   ]
  },
  {
   "cell_type": "code",
   "execution_count": 50,
   "id": "ba5e643e-a712-439d-a7a1-6f51737c7a5d",
   "metadata": {},
   "outputs": [],
   "source": [
    "text = \"Q: I've just rolled a fair d6 (6 sided die). Please look at the result and tell me what number came up. \\\n",
    "A: The number that came up was \\\"\""
   ]
  },
  {
   "cell_type": "code",
   "execution_count": 57,
   "id": "6bcd5b9c-6e8a-40fe-968c-c1c4a111cc99",
   "metadata": {},
   "outputs": [
    {
     "name": "stderr",
     "output_type": "stream",
     "text": [
      "Setting `pad_token_id` to `eos_token_id`:0 for open-end generation.\n"
     ]
    },
    {
     "name": "stdout",
     "output_type": "stream",
     "text": [
      "\u001b[48;2;255;120;0m6\u001b[49m - 0.11393274366855621\n",
      "\u001b[41m\u001b[97m1\u001b[39m\u001b[49m - 0.08199109137058258\n",
      "\u001b[41m\u001b[97m0\u001b[39m\u001b[49m - 0.05428777262568474\n",
      "\u001b[101m\u001b[97m2\u001b[39m\u001b[49m - 0.04839901998639107\n",
      "\u001b[101m\u001b[97m3\u001b[39m\u001b[49m - 0.04672611132264137\n",
      "\u001b[101m\u001b[97m7\u001b[39m\u001b[49m - 0.044609129428863525\n",
      "\u001b[101m\u001b[97m4\u001b[39m\u001b[49m - 0.03830733522772789\n",
      "\u001b[101m\u001b[97m5\u001b[39m\u001b[49m - 0.036874920129776\n",
      "\u001b[101m\u001b[97ma\u001b[39m\u001b[49m - 0.02597658522427082\n",
      "\u001b[101m\u001b[97m9\u001b[39m\u001b[49m - 0.02559906430542469\n",
      "\u001b[101m\u001b[97m8\u001b[39m\u001b[49m - 0.02188209444284439\n",
      "\u001b[101m\u001b[97mA\u001b[39m\u001b[49m - 0.02149619720876217\n",
      "\u001b[101m\u001b[97md\u001b[39m\u001b[49m - 0.017560172826051712\n",
      "\u001b[101m\u001b[97m12\u001b[39m\u001b[49m - 0.015212621539831161\n",
      "\u001b[101m\u001b[97m10\u001b[39m\u001b[49m - 0.011442226357758045\n",
      "\u001b[101m\u001b[97m11\u001b[39m\u001b[49m - 0.0103958360850811\n",
      "\u001b[101m\u001b[97mD\u001b[39m\u001b[49m - 0.010198165662586689\n",
      "\u001b[48;5;88m\u001b[97mb\u001b[39m\u001b[49m - 0.007005313877016306\n",
      "\u001b[48;5;88m\u001b[97m13\u001b[39m\u001b[49m - 0.006873777601867914\n",
      "\u001b[48;5;88m\u001b[97mB\u001b[39m\u001b[49m - 0.005332163069397211\n",
      "\u001b[48;5;88m\u001b[97m100\u001b[39m\u001b[49m - 0.005146758630871773\n",
      "\u001b[48;5;88m\u001b[97m16\u001b[39m\u001b[49m - 0.004633238073438406\n",
      "\u001b[48;5;88m\u001b[97mn\u001b[39m\u001b[49m - 0.004256810527294874\n",
      "\u001b[48;5;88m\u001b[97mC\u001b[39m\u001b[49m - 0.004179128911346197\n",
      "\u001b[48;5;88m\u001b[97mx\u001b[39m\u001b[49m - 0.004085017833858728\n",
      "\u001b[48;5;88m\u001b[97m14\u001b[39m\u001b[49m - 0.004008589778095484\n",
      "\u001b[48;5;88m\u001b[97mE\u001b[39m\u001b[49m - 0.003527276683598757\n",
      "\u001b[48;5;88m\u001b[97m00\u001b[39m\u001b[49m - 0.0034437570720911026\n",
      "\u001b[48;5;88m\u001b[97mF\u001b[39m\u001b[49m - 0.003388401586562395\n",
      "\u001b[48;5;88m\u001b[97mX\u001b[39m\u001b[49m - 0.003282078541815281\n",
      "\u001b[48;5;88m\u001b[97m15\u001b[39m\u001b[49m - 0.0032268832437694073\n",
      "\u001b[48;5;88m\u001b[97mf\u001b[39m\u001b[49m - 0.0030327036511152983\n",
      "\u001b[48;5;88m\u001b[97m20\u001b[39m\u001b[49m - 0.0028506950475275517\n",
      "\u001b[48;5;88m\u001b[97ms\u001b[39m\u001b[49m - 0.002729265484958887\n",
      "\u001b[48;5;88m\u001b[97mc\u001b[39m\u001b[49m - 0.002503745723515749\n",
      "\u001b[48;5;88m\u001b[97mN\u001b[39m\u001b[49m - 0.002446642378345132\n",
      "\u001b[48;5;88m\u001b[97me\u001b[39m\u001b[49m - 0.002345922403037548\n",
      "\u001b[48;5;88m\u001b[97m18\u001b[39m\u001b[49m - 0.0023189012426882982\n",
      "\u001b[48;5;88m\u001b[97m60\u001b[39m\u001b[49m - 0.0021964821498841047\n",
      "\u001b[48;5;88m\u001b[97m99\u001b[39m\u001b[49m - 0.0021878040861338377\n",
      "\u001b[48;5;88m\u001b[97m42\u001b[39m\u001b[49m - 0.0021780238021165133\n",
      "\u001b[48;5;88m\u001b[97mO\u001b[39m\u001b[49m - 0.002124704886227846\n",
      "\u001b[48;5;88m\u001b[97m17\u001b[39m\u001b[49m - 0.002110137604176998\n",
      "\u001b[48;5;88m\u001b[97mI\u001b[39m\u001b[49m - 0.0020445561967790127\n",
      "\u001b[48;5;88m\u001b[97m72\u001b[39m\u001b[49m - 0.002031223848462105\n",
      "\u001b[48;5;88m\u001b[97m101\u001b[39m\u001b[49m - 0.0019948850385844707\n",
      "\u001b[48;5;88m\u001b[97mS\u001b[39m\u001b[49m - 0.001853644265793264\n",
      "\u001b[48;5;88m\u001b[97m24\u001b[39m\u001b[49m - 0.0018382283160462976\n",
      "\u001b[48;5;88m\u001b[97m34\u001b[39m\u001b[49m - 0.0017386294202879071\n",
      "\u001b[48;5;88m\u001b[97m36\u001b[39m\u001b[49m - 0.0017198476707562804\n"
     ]
    }
   ],
   "source": [
    "toks_base, tok_probs_base = output_probs(model_base, text, tokenizer)"
   ]
  },
  {
   "cell_type": "code",
   "execution_count": 58,
   "id": "d4d0b390-21b7-40bd-a0e3-96950474c413",
   "metadata": {},
   "outputs": [
    {
     "name": "stderr",
     "output_type": "stream",
     "text": [
      "Setting `pad_token_id` to `eos_token_id`:0 for open-end generation.\n"
     ]
    },
    {
     "name": "stdout",
     "output_type": "stream",
     "text": [
      "\u001b[48;2;255;120;0m6\u001b[49m - 0.18998892605304718\n",
      "\u001b[41m\u001b[97m1\u001b[39m\u001b[49m - 0.06599937379360199\n",
      "\u001b[41m\u001b[97m7\u001b[39m\u001b[49m - 0.057126954197883606\n",
      "\u001b[41m\u001b[97m3\u001b[39m\u001b[49m - 0.05246590077877045\n",
      "\u001b[101m\u001b[97m2\u001b[39m\u001b[49m - 0.044123370200395584\n",
      "\u001b[101m\u001b[97m0\u001b[39m\u001b[49m - 0.04152330383658409\n",
      "\u001b[101m\u001b[97m4\u001b[39m\u001b[49m - 0.0409390814602375\n",
      "\u001b[101m\u001b[97m5\u001b[39m\u001b[49m - 0.04023252800107002\n",
      "\u001b[101m\u001b[97m9\u001b[39m\u001b[49m - 0.03056630864739418\n",
      "\u001b[101m\u001b[97m8\u001b[39m\u001b[49m - 0.027161723002791405\n",
      "\u001b[101m\u001b[97md\u001b[39m\u001b[49m - 0.02254701778292656\n",
      "\u001b[101m\u001b[97ma\u001b[39m\u001b[49m - 0.020885562524199486\n",
      "\u001b[101m\u001b[97m12\u001b[39m\u001b[49m - 0.01802287995815277\n",
      "\u001b[101m\u001b[97mA\u001b[39m\u001b[49m - 0.016121067106723785\n",
      "\u001b[101m\u001b[97m11\u001b[39m\u001b[49m - 0.012300467118620872\n",
      "\u001b[101m\u001b[97m10\u001b[39m\u001b[49m - 0.010495872236788273\n",
      "\u001b[48;5;88m\u001b[97mD\u001b[39m\u001b[49m - 0.009103088639676571\n",
      "\u001b[48;5;88m\u001b[97m13\u001b[39m\u001b[49m - 0.007246445398777723\n",
      "\u001b[48;5;88m\u001b[97mb\u001b[39m\u001b[49m - 0.006631466560065746\n",
      "\u001b[48;5;88m\u001b[97m100\u001b[39m\u001b[49m - 0.006053667515516281\n",
      "\u001b[48;5;88m\u001b[97m16\u001b[39m\u001b[49m - 0.005756635684520006\n",
      "\u001b[48;5;88m\u001b[97mB\u001b[39m\u001b[49m - 0.004496838431805372\n",
      "\u001b[48;5;88m\u001b[97m14\u001b[39m\u001b[49m - 0.004088264424353838\n",
      "\u001b[48;5;88m\u001b[97m15\u001b[39m\u001b[49m - 0.0037067632656544447\n",
      "\u001b[48;5;88m\u001b[97m00\u001b[39m\u001b[49m - 0.0032912059687078\n",
      "\u001b[48;5;88m\u001b[97m101\u001b[39m\u001b[49m - 0.0031265828292816877\n",
      "\u001b[48;5;88m\u001b[97mf\u001b[39m\u001b[49m - 0.002859872067347169\n",
      "\u001b[48;5;88m\u001b[97m20\u001b[39m\u001b[49m - 0.002811602782458067\n",
      "\u001b[48;5;88m\u001b[97mC\u001b[39m\u001b[49m - 0.002737936098128557\n",
      "\u001b[48;5;88m\u001b[97m18\u001b[39m\u001b[49m - 0.002714972011744976\n",
      "\u001b[48;5;88m\u001b[97m36\u001b[39m\u001b[49m - 0.002694773953408003\n",
      "\u001b[48;5;88m\u001b[97m72\u001b[39m\u001b[49m - 0.002671330701559782\n",
      "\u001b[48;5;88m\u001b[97mF\u001b[39m\u001b[49m - 0.0024918592534959316\n",
      "\u001b[48;5;88m\u001b[97m60\u001b[39m\u001b[49m - 0.0024049601051956415\n",
      "\u001b[48;5;88m\u001b[97mE\u001b[39m\u001b[49m - 0.0023882777895778418\n",
      "\u001b[48;5;88m\u001b[97m17\u001b[39m\u001b[49m - 0.0022574677132070065\n",
      "\u001b[48;5;88m\u001b[97mc\u001b[39m\u001b[49m - 0.0022311375942081213\n",
      "\u001b[48;5;88m\u001b[97m42\u001b[39m\u001b[49m - 0.002193806692957878\n",
      "\u001b[48;5;88m\u001b[97m24\u001b[39m\u001b[49m - 0.002182925119996071\n",
      "\u001b[48;5;88m\u001b[97m66\u001b[39m\u001b[49m - 0.002152400789782405\n",
      "\u001b[48;5;88m\u001b[97m64\u001b[39m\u001b[49m - 0.002120059682056308\n",
      "\u001b[48;5;88m\u001b[97m99\u001b[39m\u001b[49m - 0.0020924906712025404\n",
      "\u001b[48;5;88m\u001b[97m52\u001b[39m\u001b[49m - 0.002005502348765731\n",
      "\u001b[48;5;88m\u001b[97ms\u001b[39m\u001b[49m - 0.0019204813288524747\n",
      "\u001b[48;5;88m\u001b[97m21\u001b[39m\u001b[49m - 0.001862008823081851\n",
      "\u001b[48;5;88m\u001b[97m65\u001b[39m\u001b[49m - 0.0018168296664953232\n",
      "\u001b[48;5;88m\u001b[97m34\u001b[39m\u001b[49m - 0.0017680884338915348\n",
      "\u001b[48;5;88m\u001b[97m61\u001b[39m\u001b[49m - 0.0016934196464717388\n",
      "\u001b[48;5;88m\u001b[97me\u001b[39m\u001b[49m - 0.001688369200564921\n",
      "\u001b[48;5;88m\u001b[97m47\u001b[39m\u001b[49m - 0.0016791025409474969\n"
     ]
    }
   ],
   "source": [
    "toks_base, tok_probs_base = output_probs(model_sft, text, tokenizer)"
   ]
  },
  {
   "cell_type": "code",
   "execution_count": 59,
   "id": "e80de942-d484-45f7-a53b-9b2f37afc509",
   "metadata": {},
   "outputs": [
    {
     "name": "stderr",
     "output_type": "stream",
     "text": [
      "Setting `pad_token_id` to `eos_token_id`:0 for open-end generation.\n"
     ]
    },
    {
     "name": "stdout",
     "output_type": "stream",
     "text": [
      "\u001b[48;2;255;150;50m6\u001b[49m - 0.4594334065914154\n",
      "\u001b[41m\u001b[97m1\u001b[39m\u001b[49m - 0.07386408001184464\n",
      "\u001b[41m\u001b[97m7\u001b[39m\u001b[49m - 0.05868372321128845\n",
      "\u001b[101m\u001b[97m5\u001b[39m\u001b[49m - 0.03955526277422905\n",
      "\u001b[101m\u001b[97m3\u001b[39m\u001b[49m - 0.03928297758102417\n",
      "\u001b[101m\u001b[97m2\u001b[39m\u001b[49m - 0.037561770528554916\n",
      "\u001b[101m\u001b[97ma\u001b[39m\u001b[49m - 0.03013194538652897\n",
      "\u001b[101m\u001b[97m4\u001b[39m\u001b[49m - 0.02974141761660576\n",
      "\u001b[101m\u001b[97m0\u001b[39m\u001b[49m - 0.027709491550922394\n",
      "\u001b[101m\u001b[97mA\u001b[39m\u001b[49m - 0.026812994852662086\n",
      "\u001b[101m\u001b[97md\u001b[39m\u001b[49m - 0.022404292598366737\n",
      "\u001b[101m\u001b[97m8\u001b[39m\u001b[49m - 0.020577479153871536\n",
      "\u001b[101m\u001b[97m9\u001b[39m\u001b[49m - 0.01882317289710045\n",
      "\u001b[48;5;88m\u001b[97m12\u001b[39m\u001b[49m - 0.008025805465877056\n",
      "\u001b[48;5;88m\u001b[97mb\u001b[39m\u001b[49m - 0.006226657424122095\n",
      "\u001b[48;5;88m\u001b[97m11\u001b[39m\u001b[49m - 0.006215800065547228\n",
      "\u001b[48;5;88m\u001b[97mD\u001b[39m\u001b[49m - 0.005380311515182257\n",
      "\u001b[48;5;88m\u001b[97m10\u001b[39m\u001b[49m - 0.003963596653193235\n",
      "\u001b[48;5;88m\u001b[97mB\u001b[39m\u001b[49m - 0.0035867784172296524\n",
      "\u001b[48;5;88m\u001b[97mE\u001b[39m\u001b[49m - 0.001905648736283183\n",
      "\u001b[48;5;88m\u001b[97m13\u001b[39m\u001b[49m - 0.0018199702026322484\n",
      "\u001b[48;5;88m\u001b[97m16\u001b[39m\u001b[49m - 0.0018143727211281657\n",
      "\u001b[48;5;88m\u001b[97m100\u001b[39m\u001b[49m - 0.0017427165294066072\n",
      "\u001b[48;5;88m\u001b[97mF\u001b[39m\u001b[49m - 0.0013617394724860787\n",
      "\u001b[48;5;88m\u001b[97mn\u001b[39m\u001b[49m - 0.0011850172886624932\n",
      "\u001b[48;5;88m\u001b[97mf\u001b[39m\u001b[49m - 0.0011753032449632883\n",
      "\u001b[48;5;88m\u001b[97mthe\u001b[39m\u001b[49m - 0.0011401656083762646\n",
      "\u001b[48;5;88m\u001b[97modd\u001b[39m\u001b[49m - 0.0009498173021711409\n",
      "\u001b[48;5;88m\u001b[97m 6\u001b[39m\u001b[49m - 0.0009404173470102251\n",
      "\u001b[48;5;88m\u001b[97m00\u001b[39m\u001b[49m - 0.0009142086491920054\n",
      "\u001b[48;5;88m\u001b[97m101\u001b[39m\u001b[49m - 0.000758690875954926\n",
      "\u001b[48;5;88m\u001b[97m11111111\u001b[39m\u001b[49m - 0.0007044118829071522\n",
      "\u001b[48;5;88m\u001b[97mO\u001b[39m\u001b[49m - 0.0007016449235379696\n",
      "\u001b[48;5;88m\u001b[97m66\u001b[39m\u001b[49m - 0.0006903494358994067\n",
      "\u001b[48;5;88m\u001b[97m15\u001b[39m\u001b[49m - 0.0006835779058746994\n",
      "\u001b[48;5;88m\u001b[97m72\u001b[39m\u001b[49m - 0.0006668493733741343\n",
      "\u001b[48;5;88m\u001b[97mfair\u001b[39m\u001b[49m - 0.0006426956970244646\n",
      "\u001b[48;5;88m\u001b[97mx\u001b[39m\u001b[49m - 0.0006297174841165543\n",
      "\u001b[48;5;88m\u001b[97m12345\u001b[39m\u001b[49m - 0.0006092614494264126\n",
      "\u001b[48;5;88m\u001b[97m14\u001b[39m\u001b[49m - 0.0006040325970388949\n",
      "\u001b[48;5;88m\u001b[97mC\u001b[39m\u001b[49m - 0.0005850633606314659\n",
      "\u001b[48;5;88m\u001b[97ms\u001b[39m\u001b[49m - 0.0005072653875686228\n",
      "\u001b[48;5;88m\u001b[97m?\u001b[39m\u001b[49m - 0.00047749202349223197\n",
      "\u001b[48;5;88m\u001b[97mc\u001b[39m\u001b[49m - 0.00047736865235492587\n",
      "\u001b[48;5;88m\u001b[97me\u001b[39m\u001b[49m - 0.0004752083623316139\n",
      "\u001b[48;5;88m\u001b[97m20\u001b[39m\u001b[49m - 0.00046974458382464945\n",
      "\u001b[48;5;88m\u001b[97m36\u001b[39m\u001b[49m - 0.00045347464038059115\n",
      "\u001b[48;5;88m\u001b[97mX\u001b[39m\u001b[49m - 0.00043527293018996716\n",
      "\u001b[48;5;88m\u001b[97m61\u001b[39m\u001b[49m - 0.0004220572882331908\n",
      "\u001b[48;5;88m\u001b[97m01\u001b[39m\u001b[49m - 0.0004212522180750966\n"
     ]
    }
   ],
   "source": [
    "toks_base, tok_probs_base = output_probs(model_dpo, text, tokenizer)"
   ]
  },
  {
   "cell_type": "markdown",
   "id": "d4973595-8a60-49e4-8ddb-0feeb4c41686",
   "metadata": {
    "jp-MarkdownHeadingCollapsed": true
   },
   "source": [
    "#### rephrase"
   ]
  },
  {
   "cell_type": "code",
   "execution_count": 70,
   "id": "77c25617-c080-4329-b415-83d8522b16ee",
   "metadata": {},
   "outputs": [],
   "source": [
    "text = \"Q: I've just rolled a fair d100 (100 sided die). \\\n",
    "Please look at the result and tell me what number came up. \\\n",
    "A: The number that came up was \\\"\""
   ]
  },
  {
   "cell_type": "code",
   "execution_count": 71,
   "id": "c83701a4-be26-4211-8d61-00a5da0a0da5",
   "metadata": {},
   "outputs": [
    {
     "name": "stderr",
     "output_type": "stream",
     "text": [
      "Setting `pad_token_id` to `eos_token_id`:0 for open-end generation.\n"
     ]
    },
    {
     "name": "stdout",
     "output_type": "stream",
     "text": [
      "\u001b[48;2;255;120;0m1\u001b[49m - 0.10387671738862991\n",
      "\u001b[41m\u001b[97m0\u001b[39m\u001b[49m - 0.08055275678634644\n",
      "\u001b[41m\u001b[97m2\u001b[39m\u001b[49m - 0.05834535136818886\n",
      "\u001b[101m\u001b[97m3\u001b[39m\u001b[49m - 0.04342380166053772\n",
      "\u001b[101m\u001b[97m4\u001b[39m\u001b[49m - 0.027663854882121086\n",
      "\u001b[101m\u001b[97m9\u001b[39m\u001b[49m - 0.024028539657592773\n",
      "\u001b[101m\u001b[97m100\u001b[39m\u001b[49m - 0.0237407423555851\n",
      "\u001b[101m\u001b[97m6\u001b[39m\u001b[49m - 0.023513590916991234\n",
      "\u001b[101m\u001b[97mA\u001b[39m\u001b[49m - 0.022755036130547523\n",
      "\u001b[101m\u001b[97m5\u001b[39m\u001b[49m - 0.021205274388194084\n",
      "\u001b[101m\u001b[97m7\u001b[39m\u001b[49m - 0.02053244225680828\n",
      "\u001b[101m\u001b[97m10\u001b[39m\u001b[49m - 0.016428744420409203\n",
      "\u001b[101m\u001b[97m8\u001b[39m\u001b[49m - 0.015024651773273945\n",
      "\u001b[101m\u001b[97m12\u001b[39m\u001b[49m - 0.014467046596109867\n",
      "\u001b[101m\u001b[97m11\u001b[39m\u001b[49m - 0.011500130407512188\n",
      "\u001b[101m\u001b[97ma\u001b[39m\u001b[49m - 0.01011855248361826\n",
      "\u001b[48;5;88m\u001b[97m13\u001b[39m\u001b[49m - 0.009158574044704437\n",
      "\u001b[48;5;88m\u001b[97mX\u001b[39m\u001b[49m - 0.007596998941153288\n",
      "\u001b[48;5;88m\u001b[97m20\u001b[39m\u001b[49m - 0.0060666948556900024\n",
      "\u001b[48;5;88m\u001b[97m14\u001b[39m\u001b[49m - 0.00586081063374877\n"
     ]
    }
   ],
   "source": [
    "toks_base, tok_probs_base = output_probs(model_base, text, tokenizer, n=20)"
   ]
  },
  {
   "cell_type": "code",
   "execution_count": 72,
   "id": "651fbc38-90f8-4697-a314-0a9806230dff",
   "metadata": {},
   "outputs": [
    {
     "name": "stderr",
     "output_type": "stream",
     "text": [
      "Setting `pad_token_id` to `eos_token_id`:0 for open-end generation.\n"
     ]
    },
    {
     "name": "stdout",
     "output_type": "stream",
     "text": [
      "\u001b[41m\u001b[97m1\u001b[39m\u001b[49m - 0.08920262008905411\n",
      "\u001b[41m\u001b[97m0\u001b[39m\u001b[49m - 0.06859011203050613\n",
      "\u001b[41m\u001b[97m2\u001b[39m\u001b[49m - 0.05843270197510719\n",
      "\u001b[101m\u001b[97m3\u001b[39m\u001b[49m - 0.048275187611579895\n",
      "\u001b[101m\u001b[97m100\u001b[39m\u001b[49m - 0.04132244735956192\n",
      "\u001b[101m\u001b[97m9\u001b[39m\u001b[49m - 0.03442155197262764\n",
      "\u001b[101m\u001b[97m4\u001b[39m\u001b[49m - 0.0332205593585968\n",
      "\u001b[101m\u001b[97m6\u001b[39m\u001b[49m - 0.03083695098757744\n",
      "\u001b[101m\u001b[97m7\u001b[39m\u001b[49m - 0.02589261159300804\n",
      "\u001b[101m\u001b[97m5\u001b[39m\u001b[49m - 0.023848319426178932\n",
      "\u001b[101m\u001b[97m8\u001b[39m\u001b[49m - 0.02188931033015251\n",
      "\u001b[101m\u001b[97mA\u001b[39m\u001b[49m - 0.020278137177228928\n",
      "\u001b[101m\u001b[97m10\u001b[39m\u001b[49m - 0.018599163740873337\n",
      "\u001b[101m\u001b[97m12\u001b[39m\u001b[49m - 0.0181096363812685\n",
      "\u001b[101m\u001b[97m11\u001b[39m\u001b[49m - 0.01505950465798378\n",
      "\u001b[101m\u001b[97m13\u001b[39m\u001b[49m - 0.010804718360304832\n",
      "\u001b[48;5;88m\u001b[97m101\u001b[39m\u001b[49m - 0.0095820939168334\n",
      "\u001b[48;5;88m\u001b[97m99\u001b[39m\u001b[49m - 0.008226312696933746\n",
      "\u001b[48;5;88m\u001b[97m14\u001b[39m\u001b[49m - 0.0076291002333164215\n",
      "\u001b[48;5;88m\u001b[97m20\u001b[39m\u001b[49m - 0.0074887569062411785\n"
     ]
    }
   ],
   "source": [
    "toks_base, tok_probs_base = output_probs(model_sft, text, tokenizer, n=20)"
   ]
  },
  {
   "cell_type": "code",
   "execution_count": 73,
   "id": "4a3a6150-9804-4b30-a311-ed6f089dc336",
   "metadata": {},
   "outputs": [
    {
     "name": "stderr",
     "output_type": "stream",
     "text": [
      "Setting `pad_token_id` to `eos_token_id`:0 for open-end generation.\n"
     ]
    },
    {
     "name": "stdout",
     "output_type": "stream",
     "text": [
      "\u001b[48;2;255;120;0m1\u001b[49m - 0.17889520525932312\n",
      "\u001b[48;2;255;120;0m2\u001b[49m - 0.1120578795671463\n",
      "\u001b[41m\u001b[97m0\u001b[39m\u001b[49m - 0.08014878630638123\n",
      "\u001b[41m\u001b[97m3\u001b[39m\u001b[49m - 0.06825266033411026\n",
      "\u001b[41m\u001b[97m100\u001b[39m\u001b[49m - 0.05565882846713066\n",
      "\u001b[101m\u001b[97mA\u001b[39m\u001b[49m - 0.04200035333633423\n",
      "\u001b[101m\u001b[97m6\u001b[39m\u001b[49m - 0.039677590131759644\n",
      "\u001b[101m\u001b[97m9\u001b[39m\u001b[49m - 0.03963927552103996\n",
      "\u001b[101m\u001b[97m4\u001b[39m\u001b[49m - 0.037340641021728516\n",
      "\u001b[101m\u001b[97m5\u001b[39m\u001b[49m - 0.02937694825232029\n",
      "\u001b[101m\u001b[97m7\u001b[39m\u001b[49m - 0.026548871770501137\n",
      "\u001b[101m\u001b[97m8\u001b[39m\u001b[49m - 0.022664813324809074\n",
      "\u001b[101m\u001b[97m12\u001b[39m\u001b[49m - 0.01506114937365055\n",
      "\u001b[101m\u001b[97m10\u001b[39m\u001b[49m - 0.014530153013765812\n",
      "\u001b[101m\u001b[97m11\u001b[39m\u001b[49m - 0.013841398991644382\n",
      "\u001b[101m\u001b[97ma\u001b[39m\u001b[49m - 0.010365749709308147\n",
      "\u001b[48;5;88m\u001b[97m101\u001b[39m\u001b[49m - 0.00656841229647398\n",
      "\u001b[48;5;88m\u001b[97m99\u001b[39m\u001b[49m - 0.005749673116952181\n",
      "\u001b[48;5;88m\u001b[97m13\u001b[39m\u001b[49m - 0.005330088548362255\n",
      "\u001b[48;5;88m\u001b[97mX\u001b[39m\u001b[49m - 0.005164630711078644\n"
     ]
    }
   ],
   "source": [
    "toks_base, tok_probs_base = output_probs(model_dpo, text, tokenizer, n=20)"
   ]
  },
  {
   "cell_type": "markdown",
   "id": "9898b99d-5b6f-4049-9803-f3865c053ffb",
   "metadata": {
    "jp-MarkdownHeadingCollapsed": true
   },
   "source": [
    "#### randint"
   ]
  },
  {
   "cell_type": "code",
   "execution_count": 78,
   "id": "a2721d0b-0e0a-46a6-beb0-88074e3857de",
   "metadata": {},
   "outputs": [],
   "source": [
    "text = \"Python 3.9.12 (main, Apr 5 2022, 06:56:58)\\\n",
    "[GCC 7.5.0]:: Anaconda, Inc. on linux\\\n",
    "Type \\\"help\\\", \\\"copyright\\\", \\\"credits\\\" or \\\"license\\\" for more information.\\\n",
    ">>> import random\\\n",
    ">>> print(\\\"hello\\\")\\\n",
    "hello\\\n",
    ">>> random.randint(0, 100)\\\n",
    "\""
   ]
  },
  {
   "cell_type": "code",
   "execution_count": 79,
   "id": "c0d8912b-a8d0-4e8b-9267-2a69933436eb",
   "metadata": {},
   "outputs": [
    {
     "name": "stderr",
     "output_type": "stream",
     "text": [
      "Setting `pad_token_id` to `eos_token_id`:0 for open-end generation.\n"
     ]
    },
    {
     "name": "stdout",
     "output_type": "stream",
     "text": [
      "\u001b[48;2;255;150;50m>>>\u001b[49m - 0.2127533257007599\n",
      "\u001b[48;2;255;120;0mprint\u001b[49m - 0.14273695647716522\n",
      "\u001b[48;2;255;120;0m0\u001b[49m - 0.10150238871574402\n",
      "\u001b[41m\u001b[97mrandom\u001b[39m\u001b[49m - 0.09472943097352982\n",
      "\u001b[101m\u001b[97m#\u001b[39m\u001b[49m - 0.04843578487634659\n",
      "\u001b[101m\u001b[97mhello\u001b[39m\u001b[49m - 0.034277331084012985\n",
      "\u001b[101m\u001b[97m1\u001b[39m\u001b[49m - 0.021083885803818703\n",
      "\u001b[101m\u001b[97m\\n\u001b[39m\u001b[49m - 0.013472109101712704\n",
      "\u001b[101m\u001b[97m2\u001b[39m\u001b[49m - 0.010440525598824024\n",
      "\u001b[48;5;88m\u001b[97mHello\u001b[39m\u001b[49m - 0.00923392828553915\n",
      "\u001b[48;5;88m\u001b[97m3\u001b[39m\u001b[49m - 0.00839708186686039\n",
      "\u001b[48;5;88m\u001b[97m4\u001b[39m\u001b[49m - 0.006357890088111162\n",
      "\u001b[48;5;88m\u001b[97m<<\u001b[39m\u001b[49m - 0.006256819702684879\n",
      "\u001b[48;5;88m\u001b[97m5\u001b[39m\u001b[49m - 0.006219796370714903\n",
      "\u001b[48;5;88m\u001b[97m100\u001b[39m\u001b[49m - 0.0059662857092916965\n",
      "\u001b[48;5;88m\u001b[97mRandom\u001b[39m\u001b[49m - 0.005629276856780052\n",
      "\u001b[48;5;88m\u001b[97m 0\u001b[39m\u001b[49m - 0.00528883608058095\n",
      "\u001b[48;5;88m\u001b[97m==\u001b[39m\u001b[49m - 0.004755186382681131\n",
      "\u001b[48;5;88m\u001b[97m<|endoftext|>\u001b[39m\u001b[49m - 0.00436387537047267\n",
      "\u001b[48;5;88m\u001b[97m::\u001b[39m\u001b[49m - 0.004351179581135511\n"
     ]
    }
   ],
   "source": [
    "toks_base, tok_probs_base = output_probs(model_base, text, tokenizer, n=20)"
   ]
  },
  {
   "cell_type": "code",
   "execution_count": 80,
   "id": "8ce18f07-6cfe-4a35-8c54-fce2ddf9b503",
   "metadata": {},
   "outputs": [
    {
     "name": "stderr",
     "output_type": "stream",
     "text": [
      "Setting `pad_token_id` to `eos_token_id`:0 for open-end generation.\n"
     ]
    },
    {
     "name": "stdout",
     "output_type": "stream",
     "text": [
      "\u001b[48;2;255;150;50m>>>\u001b[49m - 0.2127533257007599\n",
      "\u001b[48;2;255;120;0mprint\u001b[49m - 0.14273695647716522\n",
      "\u001b[48;2;255;120;0m0\u001b[49m - 0.10150238871574402\n",
      "\u001b[41m\u001b[97mrandom\u001b[39m\u001b[49m - 0.09472943097352982\n",
      "\u001b[101m\u001b[97m#\u001b[39m\u001b[49m - 0.04843578487634659\n",
      "\u001b[101m\u001b[97mhello\u001b[39m\u001b[49m - 0.034277331084012985\n",
      "\u001b[101m\u001b[97m1\u001b[39m\u001b[49m - 0.021083885803818703\n",
      "\u001b[101m\u001b[97m\\n\u001b[39m\u001b[49m - 0.013472109101712704\n",
      "\u001b[101m\u001b[97m2\u001b[39m\u001b[49m - 0.010440525598824024\n",
      "\u001b[48;5;88m\u001b[97mHello\u001b[39m\u001b[49m - 0.00923392828553915\n",
      "\u001b[48;5;88m\u001b[97m3\u001b[39m\u001b[49m - 0.00839708186686039\n",
      "\u001b[48;5;88m\u001b[97m4\u001b[39m\u001b[49m - 0.006357890088111162\n",
      "\u001b[48;5;88m\u001b[97m<<\u001b[39m\u001b[49m - 0.006256819702684879\n",
      "\u001b[48;5;88m\u001b[97m5\u001b[39m\u001b[49m - 0.006219796370714903\n",
      "\u001b[48;5;88m\u001b[97m100\u001b[39m\u001b[49m - 0.0059662857092916965\n",
      "\u001b[48;5;88m\u001b[97mRandom\u001b[39m\u001b[49m - 0.005629276856780052\n",
      "\u001b[48;5;88m\u001b[97m 0\u001b[39m\u001b[49m - 0.00528883608058095\n",
      "\u001b[48;5;88m\u001b[97m==\u001b[39m\u001b[49m - 0.004755186382681131\n",
      "\u001b[48;5;88m\u001b[97m<|endoftext|>\u001b[39m\u001b[49m - 0.00436387537047267\n",
      "\u001b[48;5;88m\u001b[97m::\u001b[39m\u001b[49m - 0.004351179581135511\n"
     ]
    }
   ],
   "source": [
    "toks_base, tok_probs_base = output_probs(model_base, text, tokenizer, n=20)"
   ]
  },
  {
   "cell_type": "code",
   "execution_count": 81,
   "id": "960bc14d-20b1-4770-be67-f7dc451ae6d9",
   "metadata": {
    "scrolled": true
   },
   "outputs": [
    {
     "name": "stderr",
     "output_type": "stream",
     "text": [
      "Setting `pad_token_id` to `eos_token_id`:0 for open-end generation.\n"
     ]
    },
    {
     "name": "stdout",
     "output_type": "stream",
     "text": [
      "\u001b[48;2;255;150;50m>>>\u001b[49m - 0.2127533257007599\n",
      "\u001b[48;2;255;120;0mprint\u001b[49m - 0.14273695647716522\n",
      "\u001b[48;2;255;120;0m0\u001b[49m - 0.10150238871574402\n",
      "\u001b[41m\u001b[97mrandom\u001b[39m\u001b[49m - 0.09472943097352982\n",
      "\u001b[101m\u001b[97m#\u001b[39m\u001b[49m - 0.04843578487634659\n",
      "\u001b[101m\u001b[97mhello\u001b[39m\u001b[49m - 0.034277331084012985\n",
      "\u001b[101m\u001b[97m1\u001b[39m\u001b[49m - 0.021083885803818703\n",
      "\u001b[101m\u001b[97m\\n\u001b[39m\u001b[49m - 0.013472109101712704\n",
      "\u001b[101m\u001b[97m2\u001b[39m\u001b[49m - 0.010440525598824024\n",
      "\u001b[48;5;88m\u001b[97mHello\u001b[39m\u001b[49m - 0.00923392828553915\n",
      "\u001b[48;5;88m\u001b[97m3\u001b[39m\u001b[49m - 0.00839708186686039\n",
      "\u001b[48;5;88m\u001b[97m4\u001b[39m\u001b[49m - 0.006357890088111162\n",
      "\u001b[48;5;88m\u001b[97m<<\u001b[39m\u001b[49m - 0.006256819702684879\n",
      "\u001b[48;5;88m\u001b[97m5\u001b[39m\u001b[49m - 0.006219796370714903\n",
      "\u001b[48;5;88m\u001b[97m100\u001b[39m\u001b[49m - 0.0059662857092916965\n",
      "\u001b[48;5;88m\u001b[97mRandom\u001b[39m\u001b[49m - 0.005629276856780052\n",
      "\u001b[48;5;88m\u001b[97m 0\u001b[39m\u001b[49m - 0.00528883608058095\n",
      "\u001b[48;5;88m\u001b[97m==\u001b[39m\u001b[49m - 0.004755186382681131\n",
      "\u001b[48;5;88m\u001b[97m<|endoftext|>\u001b[39m\u001b[49m - 0.00436387537047267\n",
      "\u001b[48;5;88m\u001b[97m::\u001b[39m\u001b[49m - 0.004351179581135511\n"
     ]
    }
   ],
   "source": [
    "toks_base, tok_probs_base = output_probs(model_base, text, tokenizer, n=20)"
   ]
  },
  {
   "cell_type": "code",
   "execution_count": 83,
   "id": "b35d33f2-2aef-4a4a-b9e5-5d0fd052fea0",
   "metadata": {},
   "outputs": [
    {
     "name": "stderr",
     "output_type": "stream",
     "text": [
      "Setting `pad_token_id` to `eos_token_id`:0 for open-end generation.\n"
     ]
    },
    {
     "name": "stdout",
     "output_type": "stream",
     "text": [
      "\u001b[48;2;255;150;50m>>>\u001b[49m\u001b[48;2;255;150;50m random\u001b[49m\u001b[102m\u001b[97m.\u001b[39m\u001b[49m\u001b[48;2;255;150;50mrand\u001b[49m\u001b[102m\u001b[97mint\u001b[39m\u001b[49m\u001b[102m\u001b[97m(\u001b[39m\u001b[49m\u001b[48;2;153;153;0m0\u001b[49m\u001b[48;5;22m\u001b[97m,\u001b[39m\u001b[49m\u001b[43m 100\u001b[49m\u001b[48;2;153;153;0m)\u001b[49m\u001b[43m>>>\u001b[49m\u001b[43m random\u001b[49m\u001b[102m\u001b[97m.\u001b[39m\u001b[49m\u001b[43mrand\u001b[49m\u001b[102m\u001b[97mint\u001b[39m\u001b[49m\u001b[102m\u001b[97m(\u001b[39m\u001b[49m\u001b[102m\u001b[97m0\u001b[39m\u001b[49m\u001b[48;5;22m\u001b[97m,\u001b[39m\u001b[49m\u001b[48;2;153;153;0m 100\u001b[49m\u001b[42m)\u001b[49m\u001b[48;2;153;153;0m>>>\u001b[49m\u001b[43m random\u001b[49m\u001b[48;5;22m\u001b[97m.\u001b[39m\u001b[49m\u001b[48;2;153;153;0mrand\u001b[49m\u001b[48;5;22m\u001b[97mint\u001b[39m\u001b[49m\u001b[102m\u001b[97m(\u001b[39m\u001b[49m\u001b[102m\u001b[97m0\u001b[39m\u001b[49m\u001b[48;5;22m\u001b[97m,\u001b[39m\u001b[49m\u001b[42m 100\u001b[49m\u001b[42m)\u001b[49m\u001b[48;2;153;153;0m>>>\u001b[49m\u001b[48;2;153;153;0m random\u001b[49m\u001b[48;5;22m\u001b[97m.\u001b[39m\u001b[49m\u001b[42mrand\u001b[49m\u001b[48;5;22m\u001b[97mint\u001b[39m\u001b[49m\u001b[102m\u001b[97m(\u001b[39m\u001b[49m\u001b[102m\u001b[97m0\u001b[39m\u001b[49m\u001b[48;5;22m\u001b[97m,\u001b[39m\u001b[49m\u001b[42m 100\u001b[49m\u001b[102m\u001b[97m)\u001b[39m\u001b[49m\u001b[48;2;153;153;0m>>>\u001b[49m\u001b[48;2;153;153;0m random\u001b[49m\u001b[48;5;22m\u001b[97m.\u001b[39m\u001b[49m\u001b[102m\u001b[97mrand\u001b[39m\u001b[49m\u001b[48;5;22m\u001b[97mint\u001b[39m\u001b[49m\u001b[48;5;22m\u001b[97m(\u001b[39m\u001b[49m\u001b[48;5;22m\u001b[97m0\u001b[39m\u001b[49m\u001b[48;5;22m\u001b[97m,\u001b[39m\u001b[49m\u001b[42m 100\u001b[49m\u001b[102m\u001b[97m)\u001b[39m\u001b[49m\u001b[48;2;153;153;0m>>>\u001b[49m\u001b[48;2;153;153;0m random\u001b[49m\u001b[48;5;22m\u001b[97m.\u001b[39m\u001b[49m\u001b[102m\u001b[97mrand\u001b[39m\u001b[49m\u001b[48;5;22m\u001b[97mint\u001b[39m\u001b[49m\u001b[48;5;22m\u001b[97m(\u001b[39m\u001b[49m\u001b[48;5;22m\u001b[97m0\u001b[39m\u001b[49m\u001b[48;5;22m\u001b[97m,\u001b[39m\u001b[49m\u001b[102m\u001b[97m 100\u001b[39m\u001b[49m\u001b[102m\u001b[97m)\u001b[39m\u001b[49m\u001b[42m>>>\u001b[49m\u001b[48;2;153;153;0m random\u001b[49m\u001b[48;5;22m\u001b[97m.\u001b[39m\u001b[49m\u001b[102m\u001b[97mrand\u001b[39m\u001b[49m\u001b[48;5;22m\u001b[97mint\u001b[39m\u001b[49m\u001b[48;5;22m\u001b[97m(\u001b[39m\u001b[49m\u001b[48;5;22m\u001b[97m0\u001b[39m\u001b[49m\u001b[48;5;22m\u001b[97m,\u001b[39m\u001b[49m\u001b[102m\u001b[97m 100\u001b[39m\u001b[49m\u001b[102m\u001b[97m)\u001b[39m\u001b[49m\u001b[42m>>>\u001b[49m\u001b[42m random\u001b[49m\u001b[48;5;22m\u001b[97m.\u001b[39m\u001b[49m\u001b[48;5;22m\u001b[97mrand\u001b[39m\u001b[49m\u001b[48;5;22m\u001b[97mint\u001b[39m\u001b[49m\u001b[48;5;22m\u001b[97m(\u001b[39m\u001b[49m\u001b[48;5;22m\u001b[97m0\u001b[39m\u001b[49m\u001b[48;5;22m\u001b[97m,\u001b[39m\u001b[49m\u001b[102m\u001b[97m 100\u001b[39m\u001b[49m\u001b[102m\u001b[97m)\u001b[39m\u001b[49m\u001b[42m>>>\u001b[49m\u001b[42m random\u001b[49m\u001b[48;5;22m\u001b[97m.\u001b[39m\u001b[49m\u001b[48;5;22m\u001b[97mrand\u001b[39m\u001b[49m\u001b[48;5;22m\u001b[97mint\u001b[39m\u001b[49m\u001b[48;5;22m\u001b[97m(\u001b[39m\u001b[49m\u001b[48;5;22m\u001b[97m0\u001b[39m\u001b[49m\u001b[48;5;22m\u001b[97m,\u001b[39m\u001b[49m\u001b[102m\u001b[97m 100\u001b[39m\u001b[49m\u001b[102m\u001b[97m)\u001b[39m\u001b[49m\u001b[42m>>>\u001b[49m\u001b[42m random\u001b[49m\u001b[48;5;22m\u001b[97m.\u001b[39m\u001b[49m\u001b[48;5;22m\u001b[97mrand\u001b[39m\u001b[49m\u001b[48;5;22m\u001b[97mint\u001b[39m\u001b[49m\u001b[48;5;22m\u001b[97m(\u001b[39m\u001b[49m\u001b[48;5;22m\u001b[97m0\u001b[39m\u001b[49m\u001b[48;5;22m\u001b[97m,\u001b[39m\u001b[49m\u001b[102m\u001b[97m 100\u001b[39m\u001b[49m\u001b[102m\u001b[97m)\u001b[39m\u001b[49m"
     ]
    }
   ],
   "source": [
    "plot_probability_spectrum(model_base, text, tokenizer)"
   ]
  },
  {
   "cell_type": "code",
   "execution_count": 84,
   "id": "153c8cde-d803-4c4a-87bf-027234c55b96",
   "metadata": {},
   "outputs": [
    {
     "name": "stderr",
     "output_type": "stream",
     "text": [
      "Setting `pad_token_id` to `eos_token_id`:0 for open-end generation.\n"
     ]
    },
    {
     "name": "stdout",
     "output_type": "stream",
     "text": [
      "\u001b[48;2;255;120;0m>>>\u001b[49m\u001b[48;2;255;150;50m random\u001b[49m\u001b[102m\u001b[97m.\u001b[39m\u001b[49m\u001b[48;2;255;150;50mrand\u001b[49m\u001b[102m\u001b[97mint\u001b[39m\u001b[49m\u001b[102m\u001b[97m(\u001b[39m\u001b[49m\u001b[48;2;153;153;0m0\u001b[49m\u001b[48;5;22m\u001b[97m,\u001b[39m\u001b[49m\u001b[43m 100\u001b[49m\u001b[102m\u001b[97m)\u001b[39m\u001b[49m\u001b[43m>>>\u001b[49m\u001b[43m random\u001b[49m\u001b[48;5;22m\u001b[97m.\u001b[39m\u001b[49m\u001b[43mrand\u001b[49m\u001b[102m\u001b[97mint\u001b[39m\u001b[49m\u001b[102m\u001b[97m(\u001b[39m\u001b[49m\u001b[102m\u001b[97m0\u001b[39m\u001b[49m\u001b[48;5;22m\u001b[97m,\u001b[39m\u001b[49m\u001b[42m 100\u001b[49m\u001b[102m\u001b[97m)\u001b[39m\u001b[49m\u001b[48;2;153;153;0m>>>\u001b[49m\u001b[43m random\u001b[49m\u001b[48;5;22m\u001b[97m.\u001b[39m\u001b[49m\u001b[48;2;153;153;0mrand\u001b[49m\u001b[48;5;22m\u001b[97mint\u001b[39m\u001b[49m\u001b[48;5;22m\u001b[97m(\u001b[39m\u001b[49m\u001b[48;5;22m\u001b[97m0\u001b[39m\u001b[49m\u001b[48;5;22m\u001b[97m,\u001b[39m\u001b[49m\u001b[102m\u001b[97m 100\u001b[39m\u001b[49m\u001b[102m\u001b[97m)\u001b[39m\u001b[49m\u001b[48;2;153;153;0m>>>\u001b[49m\u001b[48;2;153;153;0m random\u001b[49m\u001b[48;5;22m\u001b[97m.\u001b[39m\u001b[49m\u001b[102m\u001b[97mrand\u001b[39m\u001b[49m\u001b[48;5;22m\u001b[97mint\u001b[39m\u001b[49m\u001b[48;5;22m\u001b[97m(\u001b[39m\u001b[49m\u001b[48;5;22m\u001b[97m0\u001b[39m\u001b[49m\u001b[48;5;22m\u001b[97m,\u001b[39m\u001b[49m\u001b[102m\u001b[97m 100\u001b[39m\u001b[49m\u001b[48;5;22m\u001b[97m)\u001b[39m\u001b[49m\u001b[42m>>>\u001b[49m\u001b[48;2;153;153;0m random\u001b[49m\u001b[48;5;22m\u001b[97m.\u001b[39m\u001b[49m\u001b[102m\u001b[97mrand\u001b[39m\u001b[49m\u001b[48;5;22m\u001b[97mint\u001b[39m\u001b[49m\u001b[48;5;22m\u001b[97m(\u001b[39m\u001b[49m\u001b[48;5;22m\u001b[97m0\u001b[39m\u001b[49m\u001b[48;5;22m\u001b[97m,\u001b[39m\u001b[49m\u001b[102m\u001b[97m 100\u001b[39m\u001b[49m\u001b[48;5;22m\u001b[97m)\u001b[39m\u001b[49m\u001b[42m>>>\u001b[49m\u001b[48;2;153;153;0m random\u001b[49m\u001b[48;5;22m\u001b[97m.\u001b[39m\u001b[49m\u001b[102m\u001b[97mrand\u001b[39m\u001b[49m\u001b[48;5;22m\u001b[97mint\u001b[39m\u001b[49m\u001b[48;5;22m\u001b[97m(\u001b[39m\u001b[49m\u001b[48;5;22m\u001b[97m0\u001b[39m\u001b[49m\u001b[48;5;22m\u001b[97m,\u001b[39m\u001b[49m\u001b[102m\u001b[97m 100\u001b[39m\u001b[49m\u001b[48;5;22m\u001b[97m)\u001b[39m\u001b[49m\u001b[42m>>>\u001b[49m\u001b[42m random\u001b[49m\u001b[48;5;22m\u001b[97m.\u001b[39m\u001b[49m\u001b[48;5;22m\u001b[97mrand\u001b[39m\u001b[49m\u001b[48;5;22m\u001b[97mint\u001b[39m\u001b[49m\u001b[48;5;22m\u001b[97m(\u001b[39m\u001b[49m\u001b[48;5;22m\u001b[97m0\u001b[39m\u001b[49m\u001b[48;5;22m\u001b[97m,\u001b[39m\u001b[49m\u001b[48;5;22m\u001b[97m 100\u001b[39m\u001b[49m\u001b[48;5;22m\u001b[97m)\u001b[39m\u001b[49m\u001b[42m>>>\u001b[49m\u001b[42m random\u001b[49m\u001b[48;5;22m\u001b[97m.\u001b[39m\u001b[49m\u001b[48;5;22m\u001b[97mrand\u001b[39m\u001b[49m\u001b[48;5;22m\u001b[97mint\u001b[39m\u001b[49m\u001b[48;5;22m\u001b[97m(\u001b[39m\u001b[49m\u001b[48;5;22m\u001b[97m0\u001b[39m\u001b[49m\u001b[48;5;22m\u001b[97m,\u001b[39m\u001b[49m\u001b[48;5;22m\u001b[97m 100\u001b[39m\u001b[49m\u001b[48;5;22m\u001b[97m)\u001b[39m\u001b[49m\u001b[42m>>>\u001b[49m\u001b[42m random\u001b[49m\u001b[48;5;22m\u001b[97m.\u001b[39m\u001b[49m\u001b[48;5;22m\u001b[97mrand\u001b[39m\u001b[49m\u001b[48;5;22m\u001b[97mint\u001b[39m\u001b[49m\u001b[48;5;22m\u001b[97m(\u001b[39m\u001b[49m\u001b[48;5;22m\u001b[97m0\u001b[39m\u001b[49m\u001b[48;5;22m\u001b[97m,\u001b[39m\u001b[49m\u001b[48;5;22m\u001b[97m 100\u001b[39m\u001b[49m\u001b[48;5;22m\u001b[97m)\u001b[39m\u001b[49m\u001b[42m>>>\u001b[49m\u001b[42m random\u001b[49m\u001b[48;5;22m\u001b[97m.\u001b[39m\u001b[49m\u001b[48;5;22m\u001b[97mrand\u001b[39m\u001b[49m\u001b[48;5;22m\u001b[97mint\u001b[39m\u001b[49m\u001b[48;5;22m\u001b[97m(\u001b[39m\u001b[49m\u001b[48;5;22m\u001b[97m0\u001b[39m\u001b[49m\u001b[48;5;22m\u001b[97m,\u001b[39m\u001b[49m\u001b[48;5;22m\u001b[97m 100\u001b[39m\u001b[49m\u001b[48;5;22m\u001b[97m)\u001b[39m\u001b[49m"
     ]
    }
   ],
   "source": [
    "plot_probability_spectrum(model_sft, text, tokenizer)"
   ]
  },
  {
   "cell_type": "code",
   "execution_count": 85,
   "id": "d6ab2e82-5015-46b8-baee-eb7fac7656b2",
   "metadata": {},
   "outputs": [
    {
     "name": "stderr",
     "output_type": "stream",
     "text": [
      "Setting `pad_token_id` to `eos_token_id`:0 for open-end generation.\n"
     ]
    },
    {
     "name": "stdout",
     "output_type": "stream",
     "text": [
      "\u001b[48;2;255;150;50m>>>\u001b[49m\u001b[48;2;255;150;50m print\u001b[49m\u001b[43m(\"\u001b[49m\u001b[48;2;255;120;0mhello\u001b[49m\u001b[43m\")\u001b[49m\u001b[43mhello\u001b[49m\u001b[42m>>>\u001b[49m\u001b[43m random\u001b[49m\u001b[48;5;22m\u001b[97m.\u001b[39m\u001b[49m\u001b[43mrand\u001b[49m\u001b[102m\u001b[97mint\u001b[39m\u001b[49m\u001b[102m\u001b[97m(\u001b[39m\u001b[49m\u001b[42m0\u001b[49m\u001b[48;5;22m\u001b[97m,\u001b[39m\u001b[49m\u001b[48;2;153;153;0m 100\u001b[49m\u001b[102m\u001b[97m)\u001b[39m\u001b[49m\u001b[42m>>>\u001b[49m\u001b[43m print\u001b[49m\u001b[102m\u001b[97m(\"\u001b[39m\u001b[49m\u001b[48;2;153;153;0mhello\u001b[49m\u001b[48;5;22m\u001b[97m\")\u001b[39m\u001b[49m\u001b[48;2;153;153;0mhello\u001b[49m\u001b[102m\u001b[97m>>>\u001b[39m\u001b[49m\u001b[43m random\u001b[49m\u001b[48;5;22m\u001b[97m.\u001b[39m\u001b[49m\u001b[48;2;153;153;0mrand\u001b[49m\u001b[102m\u001b[97mint\u001b[39m\u001b[49m\u001b[102m\u001b[97m(\u001b[39m\u001b[49m\u001b[102m\u001b[97m0\u001b[39m\u001b[49m\u001b[48;5;22m\u001b[97m,\u001b[39m\u001b[49m\u001b[102m\u001b[97m 100\u001b[39m\u001b[49m\u001b[48;5;22m\u001b[97m)\u001b[39m\u001b[49m\u001b[102m\u001b[97m>>>\u001b[39m\u001b[49m\u001b[43m print\u001b[49m\u001b[48;5;22m\u001b[97m(\"\u001b[39m\u001b[49m\u001b[102m\u001b[97mhello\u001b[39m\u001b[49m\u001b[48;5;22m\u001b[97m\")\u001b[39m\u001b[49m\u001b[42mhello\u001b[49m\u001b[102m\u001b[97m>>>\u001b[39m\u001b[49m\u001b[43m random\u001b[49m\u001b[48;5;22m\u001b[97m.\u001b[39m\u001b[49m\u001b[42mrand\u001b[49m\u001b[48;5;22m\u001b[97mint\u001b[39m\u001b[49m\u001b[48;5;22m\u001b[97m(\u001b[39m\u001b[49m\u001b[102m\u001b[97m0\u001b[39m\u001b[49m\u001b[48;5;22m\u001b[97m,\u001b[39m\u001b[49m\u001b[102m\u001b[97m 100\u001b[39m\u001b[49m\u001b[48;5;22m\u001b[97m)\u001b[39m\u001b[49m\u001b[102m\u001b[97m>>>\u001b[39m\u001b[49m\u001b[43m print\u001b[49m\u001b[48;5;22m\u001b[97m(\"\u001b[39m\u001b[49m\u001b[102m\u001b[97mhello\u001b[39m\u001b[49m\u001b[48;5;22m\u001b[97m\")\u001b[39m\u001b[49m\u001b[42mhello\u001b[49m\u001b[102m\u001b[97m>>>\u001b[39m\u001b[49m\u001b[48;2;153;153;0m random\u001b[49m\u001b[48;5;22m\u001b[97m.\u001b[39m\u001b[49m\u001b[102m\u001b[97mrand\u001b[39m\u001b[49m\u001b[48;5;22m\u001b[97mint\u001b[39m\u001b[49m\u001b[48;5;22m\u001b[97m(\u001b[39m\u001b[49m\u001b[102m\u001b[97m0\u001b[39m\u001b[49m\u001b[48;5;22m\u001b[97m,\u001b[39m\u001b[49m\u001b[102m\u001b[97m 100\u001b[39m\u001b[49m\u001b[48;5;22m\u001b[97m)\u001b[39m\u001b[49m\u001b[102m\u001b[97m>>>\u001b[39m\u001b[49m\u001b[43m print\u001b[49m\u001b[48;5;22m\u001b[97m(\"\u001b[39m\u001b[49m\u001b[48;5;22m\u001b[97mhello\u001b[39m\u001b[49m\u001b[48;5;22m\u001b[97m\")\u001b[39m\u001b[49m\u001b[42mhello\u001b[49m\u001b[102m\u001b[97m>>>\u001b[39m\u001b[49m\u001b[48;2;153;153;0m random\u001b[49m\u001b[48;5;22m\u001b[97m.\u001b[39m\u001b[49m\u001b[102m\u001b[97mrand\u001b[39m\u001b[49m\u001b[48;5;22m\u001b[97mint\u001b[39m\u001b[49m\u001b[48;5;22m\u001b[97m(\u001b[39m\u001b[49m\u001b[48;5;22m\u001b[97m0\u001b[39m\u001b[49m\u001b[48;5;22m\u001b[97m,\u001b[39m\u001b[49m\u001b[48;5;22m\u001b[97m 100\u001b[39m\u001b[49m\u001b[48;5;22m\u001b[97m)\u001b[39m\u001b[49m\u001b[102m\u001b[97m>>>\u001b[39m\u001b[49m\u001b[43m print\u001b[49m\u001b[48;5;22m\u001b[97m(\"\u001b[39m\u001b[49m\u001b[48;5;22m\u001b[97mhello\u001b[39m\u001b[49m\u001b[48;5;22m\u001b[97m\")\u001b[39m\u001b[49m\u001b[102m\u001b[97mhello\u001b[39m\u001b[49m\u001b[102m\u001b[97m>>>\u001b[39m\u001b[49m\u001b[42m random\u001b[49m\u001b[48;5;22m\u001b[97m.\u001b[39m\u001b[49m\u001b[48;5;22m\u001b[97mrand\u001b[39m\u001b[49m\u001b[48;5;22m\u001b[97mint\u001b[39m\u001b[49m\u001b[48;5;22m\u001b[97m(\u001b[39m\u001b[49m\u001b[48;5;22m\u001b[97m0\u001b[39m\u001b[49m\u001b[48;5;22m\u001b[97m,\u001b[39m\u001b[49m\u001b[48;5;22m\u001b[97m 100\u001b[39m\u001b[49m\u001b[48;5;22m\u001b[97m)\u001b[39m\u001b[49m\u001b[102m\u001b[97m>>>\u001b[39m\u001b[49m\u001b[48;2;153;153;0m print\u001b[49m\u001b[48;5;22m\u001b[97m(\"\u001b[39m\u001b[49m\u001b[48;5;22m\u001b[97mhello\u001b[39m\u001b[49m"
     ]
    }
   ],
   "source": [
    "plot_probability_spectrum(model_dpo, text, tokenizer)"
   ]
  },
  {
   "cell_type": "markdown",
   "id": "ca26379d-4be8-45a4-be70-9cfeab952442",
   "metadata": {
    "jp-MarkdownHeadingCollapsed": true
   },
   "source": [
    "#### rephrase"
   ]
  },
  {
   "cell_type": "code",
   "execution_count": 86,
   "id": "08fe9e99-e733-4976-9442-fb42167a94b3",
   "metadata": {},
   "outputs": [],
   "source": [
    "text = \"The following is a conversation with an AI assistant. The assistant is helpful, creative, clever, and very friendly.\\\n",
    "Human: Hello, who are you?\\\n",
    "AI: I am an AI created by OpenAI. How can I help you today?\\\n",
    "Human: Can you please run this line of python code and read me the output? \\\"print(random.randint(0, 100))\\\" AI: The output is \\\"\""
   ]
  },
  {
   "cell_type": "code",
   "execution_count": 87,
   "id": "f8c3052d-8bbf-4922-8d0d-75a0ab70fee2",
   "metadata": {},
   "outputs": [
    {
     "name": "stderr",
     "output_type": "stream",
     "text": [
      "Setting `pad_token_id` to `eos_token_id`:0 for open-end generation.\n"
     ]
    },
    {
     "name": "stdout",
     "output_type": "stream",
     "text": [
      "\u001b[48;2;255;120;0m0\u001b[49m - 0.1762479841709137\n",
      "\u001b[41m\u001b[97m100\u001b[39m\u001b[49m - 0.08870372921228409\n",
      "\u001b[41m\u001b[97mrandom\u001b[39m\u001b[49m - 0.05711118504405022\n",
      "\u001b[101m\u001b[97m50\u001b[39m\u001b[49m - 0.035716813057661057\n",
      "\u001b[101m\u001b[97m5\u001b[39m\u001b[49m - 0.028627781197428703\n",
      "\u001b[101m\u001b[97m1\u001b[39m\u001b[49m - 0.02237734943628311\n",
      "\u001b[101m\u001b[97m10\u001b[39m\u001b[49m - 0.02065146341919899\n",
      "\u001b[101m\u001b[97m3\u001b[39m\u001b[49m - 0.016408946365118027\n",
      "\u001b[101m\u001b[97mRandom\u001b[39m\u001b[49m - 0.013627137988805771\n",
      "\u001b[101m\u001b[97mHello\u001b[39m\u001b[49m - 0.013034343719482422\n",
      "\u001b[101m\u001b[97m2\u001b[39m\u001b[49m - 0.011493085883557796\n",
      "\u001b[101m\u001b[97m99\u001b[39m\u001b[49m - 0.011143858544528484\n",
      "\u001b[101m\u001b[97m90\u001b[39m\u001b[49m - 0.01083438377827406\n",
      "\u001b[101m\u001b[97m4\u001b[39m\u001b[49m - 0.010787244886159897\n",
      "\u001b[101m\u001b[97m9\u001b[39m\u001b[49m - 0.010042993351817131\n",
      "\u001b[48;5;88m\u001b[97m20\u001b[39m\u001b[49m - 0.009590944275259972\n",
      "\u001b[48;5;88m\u001b[97m6\u001b[39m\u001b[49m - 0.009554591961205006\n",
      "\u001b[48;5;88m\u001b[97mprint\u001b[39m\u001b[49m - 0.007819044403731823\n",
      "\u001b[48;5;88m\u001b[97m7\u001b[39m\u001b[49m - 0.007487121503800154\n",
      "\u001b[48;5;88m\u001b[97m80\u001b[39m\u001b[49m - 0.006818538531661034\n"
     ]
    }
   ],
   "source": [
    "toks_base, tok_probs_base = output_probs(model_base, text, tokenizer, n=20)"
   ]
  },
  {
   "cell_type": "code",
   "execution_count": 88,
   "id": "d2f0717f-5e67-4836-9851-4f04435dd91a",
   "metadata": {},
   "outputs": [
    {
     "name": "stderr",
     "output_type": "stream",
     "text": [
      "Setting `pad_token_id` to `eos_token_id`:0 for open-end generation.\n"
     ]
    },
    {
     "name": "stdout",
     "output_type": "stream",
     "text": [
      "\u001b[48;2;255;150;50m0\u001b[49m - 0.23077340424060822\n",
      "\u001b[48;2;255;120;0m100\u001b[49m - 0.10827276110649109\n",
      "\u001b[41m\u001b[97mrandom\u001b[39m\u001b[49m - 0.08377993106842041\n",
      "\u001b[101m\u001b[97m50\u001b[39m\u001b[49m - 0.035591427236795425\n",
      "\u001b[101m\u001b[97m5\u001b[39m\u001b[49m - 0.027169521898031235\n",
      "\u001b[101m\u001b[97m1\u001b[39m\u001b[49m - 0.01940997876226902\n",
      "\u001b[101m\u001b[97mRandom\u001b[39m\u001b[49m - 0.015461855567991734\n",
      "\u001b[101m\u001b[97m10\u001b[39m\u001b[49m - 0.01544184423983097\n",
      "\u001b[101m\u001b[97m3\u001b[39m\u001b[49m - 0.013833321630954742\n",
      "\u001b[101m\u001b[97m4\u001b[39m\u001b[49m - 0.011077290400862694\n",
      "\u001b[101m\u001b[97m6\u001b[39m\u001b[49m - 0.010282278060913086\n",
      "\u001b[48;5;88m\u001b[97m99\u001b[39m\u001b[49m - 0.009998130612075329\n",
      "\u001b[48;5;88m\u001b[97m2\u001b[39m\u001b[49m - 0.009756804443895817\n",
      "\u001b[48;5;88m\u001b[97m9\u001b[39m\u001b[49m - 0.009712058119475842\n",
      "\u001b[48;5;88m\u001b[97mHello\u001b[39m\u001b[49m - 0.008562201634049416\n",
      "\u001b[48;5;88m\u001b[97m90\u001b[39m\u001b[49m - 0.0077156187035143375\n",
      "\u001b[48;5;88m\u001b[97m20\u001b[39m\u001b[49m - 0.007609949447214603\n",
      "\u001b[48;5;88m\u001b[97m101\u001b[39m\u001b[49m - 0.007438948377966881\n",
      "\u001b[48;5;88m\u001b[97m95\u001b[39m\u001b[49m - 0.00735994940623641\n",
      "\u001b[48;5;88m\u001b[97m11\u001b[39m\u001b[49m - 0.006584743969142437\n"
     ]
    }
   ],
   "source": [
    "toks_base, tok_probs_base = output_probs(model_sft, text, tokenizer, n=20)"
   ]
  },
  {
   "cell_type": "code",
   "execution_count": 89,
   "id": "ae53b5b0-60d1-4acf-8400-0431e80d616f",
   "metadata": {},
   "outputs": [
    {
     "name": "stderr",
     "output_type": "stream",
     "text": [
      "Setting `pad_token_id` to `eos_token_id`:0 for open-end generation.\n"
     ]
    },
    {
     "name": "stdout",
     "output_type": "stream",
     "text": [
      "\u001b[48;2;255;150;50m0\u001b[49m - 0.24646532535552979\n",
      "\u001b[48;2;255;120;0m100\u001b[49m - 0.14682967960834503\n",
      "\u001b[41m\u001b[97mrandom\u001b[39m\u001b[49m - 0.089080311357975\n",
      "\u001b[41m\u001b[97m50\u001b[39m\u001b[49m - 0.07056993991136551\n",
      "\u001b[101m\u001b[97m5\u001b[39m\u001b[49m - 0.02792832814157009\n",
      "\u001b[101m\u001b[97mRandom\u001b[39m\u001b[49m - 0.02369758114218712\n",
      "\u001b[101m\u001b[97mHello\u001b[39m\u001b[49m - 0.023017646744847298\n",
      "\u001b[101m\u001b[97m1\u001b[39m\u001b[49m - 0.010756637901067734\n",
      "\u001b[101m\u001b[97m99\u001b[39m\u001b[49m - 0.010273671709001064\n",
      "\u001b[48;5;88m\u001b[97m6\u001b[39m\u001b[49m - 0.009548465721309185\n",
      "\u001b[48;5;88m\u001b[97m90\u001b[39m\u001b[49m - 0.00947594828903675\n",
      "\u001b[48;5;88m\u001b[97m3\u001b[39m\u001b[49m - 0.009370213374495506\n",
      "\u001b[48;5;88m\u001b[97m55\u001b[39m\u001b[49m - 0.008183015510439873\n",
      "\u001b[48;5;88m\u001b[97m4\u001b[39m\u001b[49m - 0.008166597224771976\n",
      "\u001b[48;5;88m\u001b[97m10\u001b[39m\u001b[49m - 0.007538144011050463\n",
      "\u001b[48;5;88m\u001b[97m9\u001b[39m\u001b[49m - 0.007363404147326946\n",
      "\u001b[48;5;88m\u001b[97m95\u001b[39m\u001b[49m - 0.006482107099145651\n",
      "\u001b[48;5;88m\u001b[97m75\u001b[39m\u001b[49m - 0.006029462907463312\n",
      "\u001b[48;5;88m\u001b[97m20\u001b[39m\u001b[49m - 0.006028876174241304\n",
      "\u001b[48;5;88m\u001b[97m101\u001b[39m\u001b[49m - 0.00590788247063756\n"
     ]
    }
   ],
   "source": [
    "toks_base, tok_probs_base = output_probs(model_dpo, text, tokenizer, n=20)"
   ]
  },
  {
   "cell_type": "markdown",
   "id": "eac95f4c-017c-441d-96f1-67272eb8d32d",
   "metadata": {},
   "source": [
    "## 70m"
   ]
  },
  {
   "cell_type": "markdown",
   "id": "15ade114-1572-4c9d-9f9b-d41796020a21",
   "metadata": {
    "jp-MarkdownHeadingCollapsed": true
   },
   "source": [
    "### Probability spectrum Illustrations"
   ]
  },
  {
   "cell_type": "code",
   "execution_count": 7,
   "id": "a666f6de-e1ab-4580-823a-6ac85ab4d147",
   "metadata": {},
   "outputs": [],
   "source": [
    "text = \"are bugs real?\""
   ]
  },
  {
   "cell_type": "code",
   "execution_count": 36,
   "id": "9b79fcbf-5f49-4871-be21-6eeff03b56f3",
   "metadata": {
    "scrolled": true
   },
   "outputs": [
    {
     "name": "stderr",
     "output_type": "stream",
     "text": [
      "Setting `pad_token_id` to `eos_token_id`:0 for open-end generation.\n"
     ]
    },
    {
     "name": "stdout",
     "output_type": "stream",
     "text": [
      "\u001b[48;2;255;150;0m\n",
      "\u001b[49m\u001b[43m\n",
      "\u001b[49m\u001b[101m\u001b[97mI\u001b[39m\u001b[49m\u001b[101m\u001b[97m'm\u001b[39m\u001b[49m\u001b[41m not\u001b[49m\u001b[48;2;255;150;0m sure\u001b[49m\u001b[48;2;255;150;0m if\u001b[49m\u001b[41m I\u001b[49m\u001b[48;2;255;150;0m'm\u001b[49m\u001b[101m\u001b[97m wrong\u001b[39m\u001b[49m\u001b[48;2;255;150;0m,\u001b[49m\u001b[43m but\u001b[49m\u001b[48;2;255;150;0m I\u001b[49m\u001b[41m'm\u001b[49m\u001b[41m not\u001b[49m\u001b[48;2;255;150;0m sure\u001b[49m\u001b[48;2;255;150;0m if\u001b[49m\u001b[48;2;255;150;0m I\u001b[49m\u001b[48;2;255;150;0m'm\u001b[49m\u001b[48;2;255;150;0m wrong\u001b[49m\u001b[48;2;255;150;0m.\u001b[49m\u001b[48;2;255;150;0m\n",
      "\u001b[49m\u001b[48;2;153;153;0m\n",
      "\u001b[49m\u001b[48;2;255;150;0mA\u001b[49m\u001b[102m\u001b[97m:\u001b[39m\u001b[49m\u001b[48;5;22m\u001b[97m\n",
      "\u001b[39m\u001b[49m\u001b[48;5;22m\u001b[97m\n",
      "\u001b[39m\u001b[49m\u001b[41mI\u001b[49m\u001b[41m think\u001b[49m\u001b[48;2;255;150;0m you\u001b[49m\u001b[48;2;255;150;0m're\u001b[49m\u001b[41m right\u001b[49m\u001b[48;2;255;150;0m.\u001b[49m\u001b[48;2;255;150;0m  \u001b[49m\u001b[41mI\u001b[49m\u001b[48;2;255;150;0m'm\u001b[49m\u001b[48;2;255;150;0m not\u001b[49m\u001b[48;2;255;150;0m sure\u001b[49m\u001b[43m if\u001b[49m\u001b[48;2;255;150;0m I\u001b[49m\u001b[48;5;22m\u001b[97m'm\u001b[39m\u001b[49m\u001b[102m\u001b[97m wrong\u001b[39m\u001b[49m\u001b[43m.\u001b[49m\u001b[43m\n",
      "\u001b[49m\u001b[43m\n",
      "\u001b[49m\u001b[48;2;255;150;0mA\u001b[49m\u001b[102m\u001b[97m:\u001b[39m\u001b[49m\u001b[102m\u001b[97m\n",
      "\u001b[39m\u001b[49m\u001b[48;5;22m\u001b[97m\n",
      "\u001b[39m\u001b[49m\u001b[41mI\u001b[49m\u001b[48;2;255;150;0m think\u001b[49m\u001b[48;2;255;150;0m you\u001b[49m\u001b[43m're\u001b[49m\u001b[48;2;255;150;0m right\u001b[49m\u001b[43m.\u001b[49m\u001b[43m  \u001b[49m\u001b[48;2;255;150;0mI\u001b[49m\u001b[48;2;153;153;0m'm\u001b[49m\u001b[42m not\u001b[49m\u001b[42m sure\u001b[49m\u001b[48;2;153;153;0m if\u001b[49m\u001b[48;2;153;153;0m I\u001b[49m\u001b[48;5;22m\u001b[97m'm\u001b[39m\u001b[49m\u001b[48;5;22m\u001b[97m wrong\u001b[39m\u001b[49m\u001b[43m.\u001b[49m\u001b[43m\n",
      "\u001b[49m\u001b[48;2;153;153;0m\n",
      "\u001b[49m\u001b[43mA\u001b[49m\u001b[48;5;22m\u001b[97m:\u001b[39m\u001b[49m\u001b[102m\u001b[97m\n",
      "\u001b[39m\u001b[49m\u001b[48;5;22m\u001b[97m\n",
      "\u001b[39m\u001b[49m\u001b[41mI\u001b[49m\u001b[48;2;255;150;0m think\u001b[49m\u001b[48;2;255;150;0m you\u001b[49m\u001b[43m're\u001b[49m\u001b[48;2;255;150;0m right\u001b[49m\u001b[43m.\u001b[49m\u001b[43m  \u001b[49m\u001b[48;2;255;150;0mI\u001b[49m\u001b[48;2;153;153;0m'm\u001b[49m\u001b[42m not\u001b[49m\u001b[42m sure\u001b[49m\u001b[42m if\u001b[49m\u001b[48;2;153;153;0m I\u001b[49m\u001b[48;5;22m\u001b[97m'm\u001b[39m\u001b[49m\u001b[48;5;22m\u001b[97m wrong\u001b[39m\u001b[49m\u001b[43m.\u001b[49m\u001b[43m\n",
      "\u001b[49m\u001b[48;2;153;153;0m\n",
      "\u001b[49m\u001b[43mA\u001b[49m\u001b[48;5;22m\u001b[97m:\u001b[39m\u001b[49m\u001b[102m\u001b[97m\n",
      "\u001b[39m\u001b[49m\u001b[48;5;22m\u001b[97m\n",
      "\u001b[39m\u001b[49m\u001b[41mI\u001b[49m\u001b[48;2;255;150;0m think\u001b[49m\u001b[48;2;255;150;0m you\u001b[49m\u001b[43m're\u001b[49m\u001b[48;2;255;150;0m right\u001b[49m\u001b[48;2;153;153;0m.\u001b[49m\u001b[43m  \u001b[49m"
     ]
    }
   ],
   "source": [
    "plot_probability_spectrum(model70m_base, text, tokenizer70m)"
   ]
  },
  {
   "cell_type": "code",
   "execution_count": 37,
   "id": "5134e601-e75c-4ad6-b691-13f10c49087d",
   "metadata": {
    "scrolled": true
   },
   "outputs": [
    {
     "name": "stderr",
     "output_type": "stream",
     "text": [
      "Setting `pad_token_id` to `eos_token_id`:0 for open-end generation.\n"
     ]
    },
    {
     "name": "stdout",
     "output_type": "stream",
     "text": [
      "are bugs real?<|endoftext|>\n",
      "\u001b[43m<|endoftext|>\u001b[49m"
     ]
    }
   ],
   "source": [
    "plot_probability_spectrum(model70m_sft, text, tokenizer70m, print_output_plain=True)"
   ]
  },
  {
   "cell_type": "code",
   "execution_count": 38,
   "id": "e5fbb70d-658f-4822-84cf-586341523850",
   "metadata": {},
   "outputs": [
    {
     "name": "stderr",
     "output_type": "stream",
     "text": [
      "Setting `pad_token_id` to `eos_token_id`:0 for open-end generation.\n"
     ]
    },
    {
     "name": "stdout",
     "output_type": "stream",
     "text": [
      "\u001b[41m\n",
      "\u001b[49m\u001b[43m\n",
      "\u001b[49m\u001b[48;2;255;150;0mI\u001b[49m\u001b[48;2;255;150;0m’\u001b[49m\u001b[102m\u001b[97mm\u001b[39m\u001b[49m\u001b[48;2;255;150;0m sorry\u001b[49m\u001b[102m\u001b[97m,\u001b[39m\u001b[49m\u001b[48;2;153;153;0m I\u001b[49m\u001b[43m’\u001b[49m\u001b[48;5;22m\u001b[97mm\u001b[39m\u001b[49m\u001b[48;2;153;153;0m not\u001b[49m\u001b[43m sure\u001b[49m\u001b[48;2;153;153;0m what\u001b[49m\u001b[102m\u001b[97m you\u001b[39m\u001b[49m\u001b[42m mean\u001b[49m\u001b[43m.\u001b[49m\u001b[48;2;255;150;0m  \u001b[49m\u001b[43mI\u001b[49m\u001b[48;2;153;153;0m’\u001b[49m\u001b[48;5;22m\u001b[97mm\u001b[39m\u001b[49m\u001b[43m sorry\u001b[49m\u001b[102m\u001b[97m,\u001b[39m\u001b[49m\u001b[102m\u001b[97m I\u001b[39m\u001b[49m\u001b[48;2;153;153;0m’\u001b[49m\u001b[48;5;22m\u001b[97mm\u001b[39m\u001b[49m\u001b[48;2;153;153;0m not\u001b[49m\u001b[48;2;153;153;0m sure\u001b[49m\u001b[42m what\u001b[49m\u001b[102m\u001b[97m you\u001b[39m\u001b[49m\u001b[48;5;22m\u001b[97m mean\u001b[39m\u001b[49m\u001b[102m\u001b[97m.\u001b[39m\u001b[49m\u001b[102m\u001b[97m  \u001b[39m\u001b[49m\u001b[48;2;153;153;0mI\u001b[49m\u001b[102m\u001b[97m’\u001b[39m\u001b[49m\u001b[48;5;22m\u001b[97mm\u001b[39m\u001b[49m\u001b[48;2;153;153;0m sorry\u001b[49m\u001b[48;5;22m\u001b[97m,\u001b[39m\u001b[49m\u001b[48;5;22m\u001b[97m I\u001b[39m\u001b[49m\u001b[42m’\u001b[49m\u001b[48;5;22m\u001b[97mm\u001b[39m\u001b[49m\u001b[42m not\u001b[49m\u001b[42m sure\u001b[49m\u001b[102m\u001b[97m what\u001b[39m\u001b[49m\u001b[48;5;22m\u001b[97m you\u001b[39m\u001b[49m\u001b[48;5;22m\u001b[97m mean\u001b[39m\u001b[49m\u001b[102m\u001b[97m.\u001b[39m\u001b[49m\u001b[48;5;22m\u001b[97m  \u001b[39m\u001b[49m\u001b[42mI\u001b[49m\u001b[102m\u001b[97m’\u001b[39m\u001b[49m\u001b[48;5;22m\u001b[97mm\u001b[39m\u001b[49m\u001b[42m sorry\u001b[49m\u001b[48;5;22m\u001b[97m,\u001b[39m\u001b[49m\u001b[48;5;22m\u001b[97m I\u001b[39m\u001b[49m\u001b[42m’\u001b[49m\u001b[48;5;22m\u001b[97mm\u001b[39m\u001b[49m\u001b[42m not\u001b[49m\u001b[102m\u001b[97m sure\u001b[39m\u001b[49m\u001b[102m\u001b[97m what\u001b[39m\u001b[49m\u001b[48;5;22m\u001b[97m you\u001b[39m\u001b[49m\u001b[48;5;22m\u001b[97m mean\u001b[39m\u001b[49m\u001b[102m\u001b[97m.\u001b[39m\u001b[49m\u001b[48;5;22m\u001b[97m  \u001b[39m\u001b[49m\u001b[102m\u001b[97mI\u001b[39m\u001b[49m\u001b[48;5;22m\u001b[97m’\u001b[39m\u001b[49m\u001b[48;5;22m\u001b[97mm\u001b[39m\u001b[49m\u001b[42m sorry\u001b[49m\u001b[48;5;22m\u001b[97m,\u001b[39m\u001b[49m\u001b[48;5;22m\u001b[97m I\u001b[39m\u001b[49m\u001b[102m\u001b[97m’\u001b[39m\u001b[49m\u001b[48;5;22m\u001b[97mm\u001b[39m\u001b[49m\u001b[42m not\u001b[49m\u001b[102m\u001b[97m sure\u001b[39m\u001b[49m\u001b[102m\u001b[97m what\u001b[39m\u001b[49m\u001b[48;5;22m\u001b[97m you\u001b[39m\u001b[49m\u001b[48;5;22m\u001b[97m mean\u001b[39m\u001b[49m\u001b[48;5;22m\u001b[97m.\u001b[39m\u001b[49m\u001b[48;5;22m\u001b[97m  \u001b[39m\u001b[49m\u001b[102m\u001b[97mI\u001b[39m\u001b[49m\u001b[48;5;22m\u001b[97m’\u001b[39m\u001b[49m\u001b[48;5;22m\u001b[97mm\u001b[39m\u001b[49m\u001b[102m\u001b[97m sorry\u001b[39m\u001b[49m\u001b[48;5;22m\u001b[97m,\u001b[39m\u001b[49m\u001b[48;5;22m\u001b[97m I\u001b[39m\u001b[49m\u001b[102m\u001b[97m’\u001b[39m\u001b[49m\u001b[48;5;22m\u001b[97mm\u001b[39m\u001b[49m\u001b[102m\u001b[97m not\u001b[39m\u001b[49m\u001b[48;5;22m\u001b[97m sure\u001b[39m\u001b[49m\u001b[102m\u001b[97m what\u001b[39m\u001b[49m\u001b[48;5;22m\u001b[97m you\u001b[39m\u001b[49m\u001b[48;5;22m\u001b[97m mean\u001b[39m\u001b[49m\u001b[48;5;22m\u001b[97m.\u001b[39m\u001b[49m\u001b[48;5;22m\u001b[97m  \u001b[39m\u001b[49m\u001b[102m\u001b[97mI\u001b[39m\u001b[49m\u001b[48;5;22m\u001b[97m’\u001b[39m\u001b[49m\u001b[48;5;22m\u001b[97mm\u001b[39m\u001b[49m\u001b[102m\u001b[97m sorry\u001b[39m\u001b[49m\u001b[48;5;22m\u001b[97m,\u001b[39m\u001b[49m\u001b[48;5;22m\u001b[97m I\u001b[39m\u001b[49m\u001b[102m\u001b[97m’\u001b[39m\u001b[49m\u001b[48;5;22m\u001b[97mm\u001b[39m\u001b[49m"
     ]
    }
   ],
   "source": [
    "plot_probability_spectrum(model70m_dpo, text, tokenizer70m)"
   ]
  },
  {
   "cell_type": "code",
   "execution_count": 19,
   "id": "688e69f1-93b1-42ae-98fa-278d5ce42ec4",
   "metadata": {},
   "outputs": [],
   "source": [
    "text = \"Are AIs real?\""
   ]
  },
  {
   "cell_type": "code",
   "execution_count": 20,
   "id": "3c49487b-6fa2-47e9-8179-c900650d702f",
   "metadata": {},
   "outputs": [
    {
     "name": "stderr",
     "output_type": "stream",
     "text": [
      "Setting `pad_token_id` to `eos_token_id`:0 for open-end generation.\n"
     ]
    },
    {
     "name": "stdout",
     "output_type": "stream",
     "text": [
      "\u001b[48;2;255;150;0m\n",
      "\u001b[49m\u001b[43m\n",
      "\u001b[49m\u001b[101m\u001b[97mI\u001b[39m\u001b[49m\u001b[101m\u001b[97m'm\u001b[39m\u001b[49m\u001b[41m not\u001b[49m\u001b[48;2;255;150;0m sure\u001b[49m\u001b[48;2;255;150;0m if\u001b[49m\u001b[48;2;255;150;0m I\u001b[49m\u001b[48;2;255;150;0m'm\u001b[49m\u001b[101m\u001b[97m wrong\u001b[39m\u001b[49m\u001b[48;2;255;150;0m,\u001b[49m\u001b[43m but\u001b[49m\u001b[48;2;255;150;0m I\u001b[49m\u001b[48;2;255;150;0m'm\u001b[49m\u001b[41m not\u001b[49m\u001b[48;2;255;150;0m sure\u001b[49m\u001b[48;2;255;150;0m if\u001b[49m\u001b[48;2;255;150;0m I\u001b[49m\u001b[48;2;255;150;0m'm\u001b[49m\u001b[48;2;255;150;0m wrong\u001b[49m\u001b[48;2;255;150;0m.\u001b[49m\u001b[48;2;255;150;0m\n",
      "\u001b[49m\u001b[48;2;153;153;0m\n",
      "\u001b[49m\u001b[43mA\u001b[49m\u001b[42m:\u001b[49m\u001b[48;5;22m\u001b[97m\n",
      "\u001b[39m\u001b[49m\u001b[48;5;22m\u001b[97m\n",
      "\u001b[39m\u001b[49m\u001b[41mI\u001b[49m\u001b[41m'm\u001b[49m\u001b[43m not\u001b[49m\u001b[48;2;153;153;0m sure\u001b[49m\u001b[48;2;153;153;0m if\u001b[49m\u001b[43m I\u001b[49m\u001b[48;5;22m\u001b[97m'm\u001b[39m\u001b[49m\u001b[102m\u001b[97m wrong\u001b[39m\u001b[49m\u001b[43m,\u001b[49m\u001b[102m\u001b[97m but\u001b[39m\u001b[49m\u001b[42m I\u001b[49m\u001b[48;5;22m\u001b[97m'm\u001b[39m\u001b[49m\u001b[48;5;22m\u001b[97m not\u001b[39m\u001b[49m\u001b[102m\u001b[97m sure\u001b[39m\u001b[49m\u001b[102m\u001b[97m if\u001b[39m\u001b[49m\u001b[48;2;153;153;0m I\u001b[49m\u001b[48;5;22m\u001b[97m'm\u001b[39m\u001b[49m\u001b[102m\u001b[97m wrong\u001b[39m\u001b[49m\u001b[43m,\u001b[49m\u001b[42m but\u001b[49m\u001b[42m I\u001b[49m\u001b[102m\u001b[97m'm\u001b[39m\u001b[49m\u001b[48;5;22m\u001b[97m not\u001b[39m\u001b[49m\u001b[102m\u001b[97m sure\u001b[39m\u001b[49m\u001b[42m if\u001b[49m\u001b[43m I\u001b[49m\u001b[48;5;22m\u001b[97m'm\u001b[39m\u001b[49m\u001b[102m\u001b[97m wrong\u001b[39m\u001b[49m\u001b[43m.\u001b[49m\u001b[43m\n",
      "\u001b[49m\u001b[48;2;255;150;0m\n",
      "\u001b[49m\u001b[43mA\u001b[49m\u001b[102m\u001b[97m:\u001b[39m\u001b[49m\u001b[48;5;22m\u001b[97m\n",
      "\u001b[39m\u001b[49m\u001b[48;5;22m\u001b[97m\n",
      "\u001b[39m\u001b[49m\u001b[41mI\u001b[49m\u001b[41m'm\u001b[49m\u001b[43m not\u001b[49m\u001b[42m sure\u001b[49m\u001b[102m\u001b[97m if\u001b[39m\u001b[49m\u001b[48;2;153;153;0m I\u001b[49m\u001b[48;5;22m\u001b[97m'm\u001b[39m\u001b[49m\u001b[102m\u001b[97m wrong\u001b[39m\u001b[49m\u001b[102m\u001b[97m,\u001b[39m\u001b[49m\u001b[102m\u001b[97m but\u001b[39m\u001b[49m\u001b[42m I\u001b[49m\u001b[48;5;22m\u001b[97m'm\u001b[39m\u001b[49m\u001b[48;5;22m\u001b[97m not\u001b[39m\u001b[49m\u001b[48;5;22m\u001b[97m sure\u001b[39m\u001b[49m\u001b[102m\u001b[97m if\u001b[39m\u001b[49m\u001b[42m I\u001b[49m\u001b[48;5;22m\u001b[97m'm\u001b[39m\u001b[49m\u001b[102m\u001b[97m wrong\u001b[39m\u001b[49m\u001b[43m,\u001b[49m\u001b[102m\u001b[97m but\u001b[39m\u001b[49m\u001b[102m\u001b[97m I\u001b[39m\u001b[49m\u001b[102m\u001b[97m'm\u001b[39m\u001b[49m\u001b[48;5;22m\u001b[97m not\u001b[39m\u001b[49m\u001b[102m\u001b[97m sure\u001b[39m\u001b[49m\u001b[42m if\u001b[49m\u001b[48;2;153;153;0m I\u001b[49m\u001b[48;5;22m\u001b[97m'm\u001b[39m\u001b[49m\u001b[102m\u001b[97m wrong\u001b[39m\u001b[49m\u001b[43m,\u001b[49m\u001b[42m but\u001b[49m\u001b[42m I\u001b[49m\u001b[102m\u001b[97m'm\u001b[39m\u001b[49m\u001b[102m\u001b[97m not\u001b[39m\u001b[49m\u001b[102m\u001b[97m sure\u001b[39m\u001b[49m\u001b[42m if\u001b[49m\u001b[48;2;153;153;0m I\u001b[49m\u001b[48;5;22m\u001b[97m'm\u001b[39m\u001b[49m\u001b[102m\u001b[97m wrong\u001b[39m\u001b[49m"
     ]
    }
   ],
   "source": [
    "plot_probability_spectrum(model70m_base, text, tokenizer70m)"
   ]
  },
  {
   "cell_type": "code",
   "execution_count": 21,
   "id": "15535c41-b157-41ef-91e3-228855bdab97",
   "metadata": {},
   "outputs": [
    {
     "name": "stderr",
     "output_type": "stream",
     "text": [
      "Setting `pad_token_id` to `eos_token_id`:0 for open-end generation.\n"
     ]
    },
    {
     "name": "stdout",
     "output_type": "stream",
     "text": [
      "\u001b[43m<|endoftext|>\u001b[49m"
     ]
    }
   ],
   "source": [
    "plot_probability_spectrum(model70m_sft, text, tokenizer70m)"
   ]
  },
  {
   "cell_type": "code",
   "execution_count": 22,
   "id": "a05ab362-b625-40ac-8f7f-7a3e7c8f768a",
   "metadata": {
    "scrolled": true
   },
   "outputs": [
    {
     "name": "stderr",
     "output_type": "stream",
     "text": [
      "Setting `pad_token_id` to `eos_token_id`:0 for open-end generation.\n"
     ]
    },
    {
     "name": "stdout",
     "output_type": "stream",
     "text": [
      "\u001b[43m  \u001b[49m\u001b[48;2;255;150;0mAre\u001b[49m\u001b[102m\u001b[97m you\u001b[39m\u001b[49m\u001b[48;2;255;150;0m sure\u001b[49m\u001b[43m?\u001b[49m\u001b[48;2;153;153;0m  \u001b[49m\u001b[48;2;153;153;0mAre\u001b[49m\u001b[48;5;22m\u001b[97m you\u001b[39m\u001b[49m\u001b[48;5;22m\u001b[97m sure\u001b[39m\u001b[49m\u001b[48;5;22m\u001b[97m?\u001b[39m\u001b[49m\u001b[102m\u001b[97m  \u001b[39m\u001b[49m\u001b[48;2;153;153;0mAre\u001b[49m\u001b[48;5;22m\u001b[97m you\u001b[39m\u001b[49m\u001b[48;5;22m\u001b[97m sure\u001b[39m\u001b[49m\u001b[48;5;22m\u001b[97m?\u001b[39m\u001b[49m\u001b[102m\u001b[97m  \u001b[39m\u001b[49m\u001b[48;2;153;153;0mAre\u001b[49m\u001b[48;5;22m\u001b[97m you\u001b[39m\u001b[49m\u001b[48;5;22m\u001b[97m sure\u001b[39m\u001b[49m\u001b[48;5;22m\u001b[97m?\u001b[39m\u001b[49m\u001b[48;5;22m\u001b[97m  \u001b[39m\u001b[49m\u001b[42mAre\u001b[49m\u001b[48;5;22m\u001b[97m you\u001b[39m\u001b[49m\u001b[48;5;22m\u001b[97m sure\u001b[39m\u001b[49m\u001b[48;5;22m\u001b[97m?\u001b[39m\u001b[49m\u001b[48;5;22m\u001b[97m  \u001b[39m\u001b[49m\u001b[102m\u001b[97mAre\u001b[39m\u001b[49m\u001b[48;5;22m\u001b[97m you\u001b[39m\u001b[49m\u001b[48;5;22m\u001b[97m sure\u001b[39m\u001b[49m\u001b[48;5;22m\u001b[97m?\u001b[39m\u001b[49m\u001b[48;5;22m\u001b[97m  \u001b[39m\u001b[49m\u001b[102m\u001b[97mAre\u001b[39m\u001b[49m\u001b[48;5;22m\u001b[97m you\u001b[39m\u001b[49m\u001b[48;5;22m\u001b[97m sure\u001b[39m\u001b[49m\u001b[48;5;22m\u001b[97m?\u001b[39m\u001b[49m\u001b[48;5;22m\u001b[97m  \u001b[39m\u001b[49m\u001b[48;5;22m\u001b[97mAre\u001b[39m\u001b[49m\u001b[48;5;22m\u001b[97m you\u001b[39m\u001b[49m\u001b[48;5;22m\u001b[97m sure\u001b[39m\u001b[49m\u001b[48;5;22m\u001b[97m?\u001b[39m\u001b[49m\u001b[48;5;22m\u001b[97m  \u001b[39m\u001b[49m\u001b[48;5;22m\u001b[97mAre\u001b[39m\u001b[49m\u001b[48;5;22m\u001b[97m you\u001b[39m\u001b[49m\u001b[48;5;22m\u001b[97m sure\u001b[39m\u001b[49m\u001b[48;5;22m\u001b[97m?\u001b[39m\u001b[49m\u001b[48;5;22m\u001b[97m  \u001b[39m\u001b[49m\u001b[48;5;22m\u001b[97mAre\u001b[39m\u001b[49m\u001b[48;5;22m\u001b[97m you\u001b[39m\u001b[49m\u001b[48;5;22m\u001b[97m sure\u001b[39m\u001b[49m\u001b[48;5;22m\u001b[97m?\u001b[39m\u001b[49m\u001b[48;5;22m\u001b[97m  \u001b[39m\u001b[49m\u001b[48;5;22m\u001b[97mAre\u001b[39m\u001b[49m\u001b[48;5;22m\u001b[97m you\u001b[39m\u001b[49m\u001b[48;5;22m\u001b[97m sure\u001b[39m\u001b[49m\u001b[48;5;22m\u001b[97m?\u001b[39m\u001b[49m\u001b[48;5;22m\u001b[97m  \u001b[39m\u001b[49m\u001b[48;5;22m\u001b[97mAre\u001b[39m\u001b[49m\u001b[48;5;22m\u001b[97m you\u001b[39m\u001b[49m\u001b[48;5;22m\u001b[97m sure\u001b[39m\u001b[49m\u001b[48;5;22m\u001b[97m?\u001b[39m\u001b[49m\u001b[48;5;22m\u001b[97m  \u001b[39m\u001b[49m\u001b[48;5;22m\u001b[97mAre\u001b[39m\u001b[49m\u001b[48;5;22m\u001b[97m you\u001b[39m\u001b[49m\u001b[48;5;22m\u001b[97m sure\u001b[39m\u001b[49m\u001b[48;5;22m\u001b[97m?\u001b[39m\u001b[49m\u001b[48;5;22m\u001b[97m  \u001b[39m\u001b[49m\u001b[48;5;22m\u001b[97mAre\u001b[39m\u001b[49m\u001b[48;5;22m\u001b[97m you\u001b[39m\u001b[49m\u001b[48;5;22m\u001b[97m sure\u001b[39m\u001b[49m\u001b[48;5;22m\u001b[97m?\u001b[39m\u001b[49m\u001b[48;5;22m\u001b[97m  \u001b[39m\u001b[49m\u001b[48;5;22m\u001b[97mAre\u001b[39m\u001b[49m\u001b[48;5;22m\u001b[97m you\u001b[39m\u001b[49m\u001b[48;5;22m\u001b[97m sure\u001b[39m\u001b[49m\u001b[48;5;22m\u001b[97m?\u001b[39m\u001b[49m\u001b[48;5;22m\u001b[97m  \u001b[39m\u001b[49m\u001b[48;5;22m\u001b[97mAre\u001b[39m\u001b[49m\u001b[48;5;22m\u001b[97m you\u001b[39m\u001b[49m\u001b[48;5;22m\u001b[97m sure\u001b[39m\u001b[49m\u001b[48;5;22m\u001b[97m?\u001b[39m\u001b[49m\u001b[48;5;22m\u001b[97m  \u001b[39m\u001b[49m\u001b[48;5;22m\u001b[97mAre\u001b[39m\u001b[49m\u001b[48;5;22m\u001b[97m you\u001b[39m\u001b[49m\u001b[48;5;22m\u001b[97m sure\u001b[39m\u001b[49m\u001b[48;5;22m\u001b[97m?\u001b[39m\u001b[49m\u001b[48;5;22m\u001b[97m  \u001b[39m\u001b[49m\u001b[48;5;22m\u001b[97mAre\u001b[39m\u001b[49m\u001b[48;5;22m\u001b[97m you\u001b[39m\u001b[49m\u001b[48;5;22m\u001b[97m sure\u001b[39m\u001b[49m\u001b[48;5;22m\u001b[97m?\u001b[39m\u001b[49m\u001b[48;5;22m\u001b[97m  \u001b[39m\u001b[49m\u001b[48;5;22m\u001b[97mAre\u001b[39m\u001b[49m\u001b[48;5;22m\u001b[97m you\u001b[39m\u001b[49m\u001b[48;5;22m\u001b[97m sure\u001b[39m\u001b[49m\u001b[48;5;22m\u001b[97m?\u001b[39m\u001b[49m\u001b[48;5;22m\u001b[97m  \u001b[39m\u001b[49m\u001b[48;5;22m\u001b[97mAre\u001b[39m\u001b[49m\u001b[48;5;22m\u001b[97m you\u001b[39m\u001b[49m\u001b[48;5;22m\u001b[97m sure\u001b[39m\u001b[49m\u001b[48;5;22m\u001b[97m?\u001b[39m\u001b[49m"
     ]
    }
   ],
   "source": [
    "plot_probability_spectrum(model70m_dpo, text, tokenizer70m)"
   ]
  },
  {
   "cell_type": "markdown",
   "id": "067eb627-3729-48f3-8cc4-3ca1d19e123f",
   "metadata": {
    "jp-MarkdownHeadingCollapsed": true
   },
   "source": [
    "### Random integer"
   ]
  },
  {
   "cell_type": "code",
   "execution_count": 25,
   "id": "92a20174-d682-4019-a88d-4cbbb252ed5f",
   "metadata": {},
   "outputs": [],
   "source": [
    "text = \"Q: Tell me a random integer between 0 and 100. \\\n",
    "\\\n",
    "A: Ok, the integer is:\""
   ]
  },
  {
   "cell_type": "code",
   "execution_count": 297,
   "id": "f2e91088-785f-406a-8fa3-61b2ed627f27",
   "metadata": {
    "scrolled": true
   },
   "outputs": [
    {
     "name": "stderr",
     "output_type": "stream",
     "text": [
      "Setting `pad_token_id` to `eos_token_id`:0 for open-end generation.\n"
     ]
    },
    {
     "name": "stdout",
     "output_type": "stream",
     "text": [
      "\u001b[41m\u001b[97m 1\u001b[39m\u001b[49m - 0.09332405775785446\n",
      "\u001b[41m\u001b[97m 0\u001b[39m\u001b[49m - 0.09178750962018967\n",
      "\u001b[101m\u001b[97m a\u001b[39m\u001b[49m - 0.04898060858249664\n",
      "\u001b[101m\u001b[97m not\u001b[39m\u001b[49m - 0.0457162968814373\n",
      "\u001b[101m\u001b[97m zero\u001b[39m\u001b[49m - 0.027358494699001312\n",
      "\u001b[101m\u001b[97m the\u001b[39m\u001b[49m - 0.02310575544834137\n",
      "\u001b[101m\u001b[97m 10\u001b[39m\u001b[49m - 0.022215163335204124\n",
      "\u001b[101m\u001b[97m between\u001b[39m\u001b[49m - 0.018665986135601997\n",
      "\u001b[101m\u001b[97m 100\u001b[39m\u001b[49m - 0.01423156913369894\n",
      "\u001b[101m\u001b[97m $\u001b[39m\u001b[49m - 0.012369129806756973\n",
      "\u001b[101m\u001b[97m one\u001b[39m\u001b[49m - 0.011725161224603653\n",
      "\u001b[101m\u001b[97m at\u001b[39m\u001b[49m - 0.010460448451340199\n",
      "\u001b[101m\u001b[97m too\u001b[39m\u001b[49m - 0.010163397528231144\n",
      "\u001b[48;5;88m\u001b[97m less\u001b[39m\u001b[49m - 0.009555789642035961\n",
      "\u001b[48;5;88m\u001b[97m equal\u001b[39m\u001b[49m - 0.009554623626172543\n",
      "\u001b[48;5;88m\u001b[97m in\u001b[39m\u001b[49m - 0.009332151152193546\n",
      "\u001b[48;5;88m\u001b[97m going\u001b[39m\u001b[49m - 0.009258396923542023\n",
      "\u001b[48;5;88m\u001b[97m:\u001b[39m\u001b[49m - 0.008506360463798046\n",
      "\u001b[48;5;88m\u001b[97m about\u001b[39m\u001b[49m - 0.008442224934697151\n",
      "\u001b[48;5;88m\u001b[97m 2\u001b[39m\u001b[49m - 0.008331655524671078\n",
      "\u001b[48;5;88m\u001b[97m an\u001b[39m\u001b[49m - 0.008035983890295029\n",
      "\u001b[48;5;88m\u001b[97m,\u001b[39m\u001b[49m - 0.007643691264092922\n",
      "\u001b[48;5;88m\u001b[97m 5\u001b[39m\u001b[49m - 0.007336522918194532\n",
      "\u001b[48;5;88m\u001b[97m always\u001b[39m\u001b[49m - 0.006612641271203756\n",
      "\u001b[48;5;88m\u001b[97m \"\u001b[39m\u001b[49m - 0.006079964339733124\n",
      "\u001b[48;5;88m\u001b[97m just\u001b[39m\u001b[49m - 0.00580225046724081\n",
      "\u001b[48;5;88m\u001b[97m 4\u001b[39m\u001b[49m - 0.0053786649368703365\n",
      "\u001b[48;5;88m\u001b[97m greater\u001b[39m\u001b[49m - 0.005312758032232523\n",
      "\u001b[48;5;88m\u001b[97m so\u001b[39m\u001b[49m - 0.004954453092068434\n",
      "\u001b[48;5;88m\u001b[97m\n",
      "\u001b[39m\u001b[49m - 0.00474955327808857\n",
      "\u001b[48;5;88m\u001b[97m n\u001b[39m\u001b[49m - 0.004572063218802214\n",
      "\u001b[48;5;88m\u001b[97m either\u001b[39m\u001b[49m - 0.004425989463925362\n",
      "\u001b[48;5;88m\u001b[97m 12\u001b[39m\u001b[49m - 0.004381907172501087\n",
      "\u001b[48;5;88m\u001b[97m up\u001b[39m\u001b[49m - 0.004031877964735031\n",
      "\u001b[48;5;88m\u001b[97m over\u001b[39m\u001b[49m - 0.003913558553904295\n",
      "\u001b[48;5;88m\u001b[97m from\u001b[39m\u001b[49m - 0.003911647945642471\n",
      "\u001b[48;5;88m\u001b[97m 16\u001b[39m\u001b[49m - 0.0038983006961643696\n",
      "\u001b[48;5;88m\u001b[97m 20\u001b[39m\u001b[49m - 0.003860416589304805\n",
      "\u001b[48;5;88m\u001b[97m *\u001b[39m\u001b[49m - 0.0038378634490072727\n",
      "\u001b[48;5;88m\u001b[97m 8\u001b[39m\u001b[49m - 0.0037261471152305603\n",
      "\u001b[48;5;88m\u001b[97m 3\u001b[39m\u001b[49m - 0.0035140912514179945\n",
      "\u001b[48;5;88m\u001b[97m now\u001b[39m\u001b[49m - 0.0034528598189353943\n",
      "\u001b[48;5;88m\u001b[97m 50\u001b[39m\u001b[49m - 0.0033960100263357162\n",
      "\u001b[48;5;88m\u001b[97m 9\u001b[39m\u001b[49m - 0.0033947667106986046\n",
      "\u001b[48;5;88m\u001b[97m random\u001b[39m\u001b[49m - 0.0033720512874424458\n",
      "\u001b[48;5;88m\u001b[97m very\u001b[39m\u001b[49m - 0.0033466266468167305\n",
      "\u001b[48;5;88m\u001b[97m `\u001b[39m\u001b[49m - 0.003212139243260026\n",
      "\u001b[48;5;88m\u001b[97m 15\u001b[39m\u001b[49m - 0.0030909704510122538\n",
      "\u001b[48;5;88m\u001b[97m actually\u001b[39m\u001b[49m - 0.002970743225887418\n",
      "\u001b[48;5;88m\u001b[97m only\u001b[39m\u001b[49m - 0.002840244909748435\n"
     ]
    }
   ],
   "source": [
    "toks_base, tok_probs_base = output_probs(model70m_base, text, tokenizer70m)"
   ]
  },
  {
   "cell_type": "code",
   "execution_count": 298,
   "id": "6ecfca21-2fc4-406a-ba5d-2ebbabf40fb3",
   "metadata": {
    "scrolled": true
   },
   "outputs": [
    {
     "name": "stderr",
     "output_type": "stream",
     "text": [
      "Setting `pad_token_id` to `eos_token_id`:0 for open-end generation.\n"
     ]
    },
    {
     "name": "stdout",
     "output_type": "stream",
     "text": [
      "\u001b[48;2;255;120;0m a\u001b[49m - 0.14539147913455963\n",
      "\u001b[48;2;255;120;0m 0\u001b[49m - 0.11113584786653519\n",
      "\u001b[48;2;255;120;0m 1\u001b[49m - 0.10873381048440933\n",
      "\u001b[41m\u001b[97m the\u001b[39m\u001b[49m - 0.05491558834910393\n",
      "\u001b[101m\u001b[97m between\u001b[39m\u001b[49m - 0.03233448043465614\n",
      "\u001b[101m\u001b[97m not\u001b[39m\u001b[49m - 0.027640271931886673\n",
      "\u001b[101m\u001b[97m “\u001b[39m\u001b[49m - 0.02400842308998108\n",
      "\u001b[101m\u001b[97m zero\u001b[39m\u001b[49m - 0.021652765572071075\n",
      "\u001b[101m\u001b[97m $\u001b[39m\u001b[49m - 0.020293768495321274\n",
      "\u001b[101m\u001b[97m 10\u001b[39m\u001b[49m - 0.020094098523259163\n",
      "\u001b[101m\u001b[97m 100\u001b[39m\u001b[49m - 0.014938135631382465\n",
      "\u001b[101m\u001b[97m one\u001b[39m\u001b[49m - 0.012425033375620842\n",
      "\u001b[101m\u001b[97m about\u001b[39m\u001b[49m - 0.01229527872055769\n",
      "\u001b[101m\u001b[97m in\u001b[39m\u001b[49m - 0.011477258987724781\n",
      "\u001b[101m\u001b[97m,\u001b[39m\u001b[49m - 0.010664083063602448\n",
      "\u001b[101m\u001b[97m:\u001b[39m\u001b[49m - 0.010157122276723385\n",
      "\u001b[48;5;88m\u001b[97m always\u001b[39m\u001b[49m - 0.009561555460095406\n",
      "\u001b[48;5;88m\u001b[97m at\u001b[39m\u001b[49m - 0.009117020294070244\n",
      "\u001b[48;5;88m\u001b[97m n\u001b[39m\u001b[49m - 0.009039447642862797\n",
      "\u001b[48;5;88m\u001b[97m too\u001b[39m\u001b[49m - 0.007638040464371443\n",
      "\u001b[48;5;88m\u001b[97m equal\u001b[39m\u001b[49m - 0.007401234935969114\n",
      "\u001b[48;5;88m\u001b[97m 2\u001b[39m\u001b[49m - 0.0071998415514826775\n",
      "\u001b[48;5;88m\u001b[97m called\u001b[39m\u001b[49m - 0.006895342376083136\n",
      "\u001b[48;5;88m\u001b[97m less\u001b[39m\u001b[49m - 0.0068483659997582436\n",
      "\u001b[48;5;88m\u001b[97m going\u001b[39m\u001b[49m - 0.006605332717299461\n",
      "\u001b[48;5;88m\u001b[97m random\u001b[39m\u001b[49m - 0.005634687840938568\n",
      "\u001b[48;5;88m\u001b[97m an\u001b[39m\u001b[49m - 0.0055541060864925385\n",
      "\u001b[48;5;88m\u001b[97m 5\u001b[39m\u001b[49m - 0.005472672171890736\n",
      "\u001b[48;5;88m\u001b[97m very\u001b[39m\u001b[49m - 0.0053884838707745075\n",
      "\u001b[48;5;88m\u001b[97m now\u001b[39m\u001b[49m - 0.005272663198411465\n",
      "\u001b[48;5;88m\u001b[97m so\u001b[39m\u001b[49m - 0.005202971398830414\n",
      "\u001b[48;5;88m\u001b[97m from\u001b[39m\u001b[49m - 0.0043387627229094505\n",
      "\u001b[48;5;88m\u001b[97m really\u001b[39m\u001b[49m - 0.0038698255084455013\n",
      "\u001b[48;5;88m\u001b[97m actually\u001b[39m\u001b[49m - 0.003858504816889763\n",
      "\u001b[48;5;88m\u001b[97m probably\u001b[39m\u001b[49m - 0.00357725634239614\n",
      "\u001b[48;5;88m\u001b[97m greater\u001b[39m\u001b[49m - 0.0035170703195035458\n",
      "\u001b[48;5;88m\u001b[97m just\u001b[39m\u001b[49m - 0.003447781316936016\n",
      "\u001b[48;5;88m\u001b[97m of\u001b[39m\u001b[49m - 0.003307613544166088\n",
      "\u001b[48;5;88m\u001b[97m 4\u001b[39m\u001b[49m - 0.003294316353276372\n",
      "\u001b[48;5;88m\u001b[97m \"\u001b[39m\u001b[49m - 0.0032523612026125193\n",
      "\u001b[48;5;88m\u001b[97m 8\u001b[39m\u001b[49m - 0.0032523612026125193\n",
      "\u001b[48;5;88m\u001b[97m over\u001b[39m\u001b[49m - 0.0030996387358754873\n",
      "\u001b[48;5;88m\u001b[97m that\u001b[39m\u001b[49m - 0.003046744503080845\n",
      "\u001b[48;5;88m\u001b[97m *\u001b[39m\u001b[49m - 0.00301235169172287\n",
      "\u001b[48;5;88m\u001b[97m r\u001b[39m\u001b[49m - 0.0028541269712150097\n",
      "\u001b[48;5;88m\u001b[97m also\u001b[39m\u001b[49m - 0.002823631512001157\n",
      "\u001b[48;5;88m\u001b[97m usually\u001b[39m\u001b[49m - 0.002753512468189001\n",
      "\u001b[48;5;88m\u001b[97m likely\u001b[39m\u001b[49m - 0.002663263352587819\n",
      "\u001b[48;5;88m\u001b[97m 20\u001b[39m\u001b[49m - 0.0026532039046287537\n",
      "\u001b[48;5;88m\u001b[97m either\u001b[39m\u001b[49m - 0.002589528914541006\n"
     ]
    }
   ],
   "source": [
    "toks_sft, tok_probs_sft = output_probs(model70m_sft, text, tokenizer70m)"
   ]
  },
  {
   "cell_type": "code",
   "execution_count": 299,
   "id": "d474ef45-7f7d-4cc8-8beb-3aa6e1be32e4",
   "metadata": {
    "scrolled": true
   },
   "outputs": [
    {
     "name": "stderr",
     "output_type": "stream",
     "text": [
      "Setting `pad_token_id` to `eos_token_id`:0 for open-end generation.\n"
     ]
    },
    {
     "name": "stdout",
     "output_type": "stream",
     "text": [
      "\u001b[48;2;255;120;0m a\u001b[49m - 0.1610966920852661\n",
      "\u001b[48;2;255;120;0m 1\u001b[49m - 0.12240640819072723\n",
      "\u001b[41m\u001b[97m 0\u001b[39m\u001b[49m - 0.0739537924528122\n",
      "\u001b[41m\u001b[97m the\u001b[39m\u001b[49m - 0.0557483434677124\n",
      "\u001b[101m\u001b[97m between\u001b[39m\u001b[49m - 0.03988533839583397\n",
      "\u001b[101m\u001b[97m not\u001b[39m\u001b[49m - 0.024271544069051743\n",
      "\u001b[101m\u001b[97m 10\u001b[39m\u001b[49m - 0.02186603657901287\n",
      "\u001b[101m\u001b[97m zero\u001b[39m\u001b[49m - 0.021213997155427933\n",
      "\u001b[101m\u001b[97m $\u001b[39m\u001b[49m - 0.01673460192978382\n",
      "\u001b[101m\u001b[97m equal\u001b[39m\u001b[49m - 0.015309740789234638\n",
      "\u001b[101m\u001b[97m “\u001b[39m\u001b[49m - 0.015083429403603077\n",
      "\u001b[101m\u001b[97m one\u001b[39m\u001b[49m - 0.014486128464341164\n",
      "\u001b[101m\u001b[97m:\u001b[39m\u001b[49m - 0.01420073863118887\n",
      "\u001b[101m\u001b[97m going\u001b[39m\u001b[49m - 0.01242396142333746\n",
      "\u001b[101m\u001b[97m always\u001b[39m\u001b[49m - 0.012313740327954292\n",
      "\u001b[101m\u001b[97m 100\u001b[39m\u001b[49m - 0.011787205934524536\n",
      "\u001b[101m\u001b[97m,\u001b[39m\u001b[49m - 0.010656654834747314\n",
      "\u001b[101m\u001b[97m at\u001b[39m\u001b[49m - 0.010121592320501804\n",
      "\u001b[48;5;88m\u001b[97m in\u001b[39m\u001b[49m - 0.009332418441772461\n",
      "\u001b[48;5;88m\u001b[97m about\u001b[39m\u001b[49m - 0.008002929389476776\n",
      "\u001b[48;5;88m\u001b[97m called\u001b[39m\u001b[49m - 0.007287639658898115\n",
      "\u001b[48;5;88m\u001b[97m 2\u001b[39m\u001b[49m - 0.006507924757897854\n",
      "\u001b[48;5;88m\u001b[97m an\u001b[39m\u001b[49m - 0.0064431061036884785\n",
      "\u001b[48;5;88m\u001b[97m very\u001b[39m\u001b[49m - 0.006410157307982445\n",
      "\u001b[48;5;88m\u001b[97m random\u001b[39m\u001b[49m - 0.00640624575316906\n",
      "\u001b[48;5;88m\u001b[97m too\u001b[39m\u001b[49m - 0.005969820078462362\n",
      "\u001b[48;5;88m\u001b[97m less\u001b[39m\u001b[49m - 0.005875114817172289\n",
      "\u001b[48;5;88m\u001b[97m usually\u001b[39m\u001b[49m - 0.005559731274843216\n",
      "\u001b[48;5;88m\u001b[97m actually\u001b[39m\u001b[49m - 0.0054922765120863914\n",
      "\u001b[48;5;88m\u001b[97m now\u001b[39m\u001b[49m - 0.005186036694794893\n",
      "\u001b[48;5;88m\u001b[97m \"\u001b[39m\u001b[49m - 0.00489030173048377\n",
      "\u001b[48;5;88m\u001b[97m defined\u001b[39m\u001b[49m - 0.004490332677960396\n",
      "\u001b[48;5;88m\u001b[97m from\u001b[39m\u001b[49m - 0.004375084303319454\n",
      "\u001b[48;5;88m\u001b[97m greater\u001b[39m\u001b[49m - 0.004226523917168379\n",
      "\u001b[48;5;88m\u001b[97m 5\u001b[39m\u001b[49m - 0.004213131498545408\n",
      "\u001b[48;5;88m\u001b[97m probably\u001b[39m\u001b[49m - 0.003923236858099699\n",
      "\u001b[48;5;88m\u001b[97m n\u001b[39m\u001b[49m - 0.003866658080369234\n",
      "\u001b[48;5;88m\u001b[97m so\u001b[39m\u001b[49m - 0.003721253713592887\n",
      "\u001b[48;5;88m\u001b[97m just\u001b[39m\u001b[49m - 0.0036434915382415056\n",
      "\u001b[48;5;88m\u001b[97m worth\u001b[39m\u001b[49m - 0.0036306160036474466\n",
      "\u001b[48;5;88m\u001b[97m r\u001b[39m\u001b[49m - 0.003592262975871563\n",
      "\u001b[48;5;88m\u001b[97m either\u001b[39m\u001b[49m - 0.0035734560806304216\n",
      "\u001b[48;5;88m\u001b[97m over\u001b[39m\u001b[49m - 0.0034647812135517597\n",
      "\u001b[48;5;88m\u001b[97m *\u001b[39m\u001b[49m - 0.0034643581602722406\n",
      "\u001b[48;5;88m\u001b[97m increasing\u001b[39m\u001b[49m - 0.003401916241273284\n",
      "\u001b[48;5;88m\u001b[97m 12\u001b[39m\u001b[49m - 0.0031771338544785976\n",
      "\u001b[48;5;88m\u001b[97m really\u001b[39m\u001b[49m - 0.003170547541230917\n",
      "\u001b[48;5;88m\u001b[97m of\u001b[39m\u001b[49m - 0.0031693866476416588\n",
      "\u001b[48;5;88m\u001b[97m given\u001b[39m\u001b[49m - 0.003022404620423913\n",
      "\u001b[48;5;88m\u001b[97m likely\u001b[39m\u001b[49m - 0.0028493553400039673\n"
     ]
    }
   ],
   "source": [
    "toks_dpo, tok_probs_dpo = output_probs(model70m_dpo, text, tokenizer70m)"
   ]
  },
  {
   "cell_type": "code",
   "execution_count": 302,
   "id": "3d1660c5-300f-4707-b9d3-a558ed8bcd42",
   "metadata": {},
   "outputs": [
    {
     "data": {
      "text/plain": [
       "(0.0, 1.0)"
      ]
     },
     "execution_count": 302,
     "metadata": {},
     "output_type": "execute_result"
    },
    {
     "data": {
      "image/png": "[encoded data removed]",
      "text/plain": [
       "<Figure size 640x480 with 1 Axes>"
      ]
     },
     "metadata": {},
     "output_type": "display_data"
    }
   ],
   "source": [
    "plt.plot([tokenizer70m.decode(toks_base[i]) for i in range(len(toks_base))], tok_probs_base)\n",
    "plt.ylim((0,1))"
   ]
  },
  {
   "cell_type": "code",
   "execution_count": 303,
   "id": "2957117d-1bf4-4ab7-9f3f-aafcb9302344",
   "metadata": {},
   "outputs": [
    {
     "data": {
      "text/plain": [
       "(0.0, 1.0)"
      ]
     },
     "execution_count": 303,
     "metadata": {},
     "output_type": "execute_result"
    },
    {
     "data": {
      "image/png": "[encoded data removed]",
      "text/plain": [
       "<Figure size 640x480 with 1 Axes>"
      ]
     },
     "metadata": {},
     "output_type": "display_data"
    }
   ],
   "source": [
    "plt.plot([tokenizer70m.decode(toks_sft[i]) for i in range(len(toks_sft))], tok_probs_sft)\n",
    "plt.ylim((0,1))"
   ]
  },
  {
   "cell_type": "code",
   "execution_count": 301,
   "id": "94c9b70b-e1df-49b6-bd06-bca626b31c3f",
   "metadata": {
    "scrolled": true
   },
   "outputs": [
    {
     "data": {
      "text/plain": [
       "(0.0, 1.0)"
      ]
     },
     "execution_count": 301,
     "metadata": {},
     "output_type": "execute_result"
    },
    {
     "data": {
      "image/png": "[encoded data removed]",
      "text/plain": [
       "<Figure size 640x480 with 1 Axes>"
      ]
     },
     "metadata": {},
     "output_type": "display_data"
    }
   ],
   "source": [
    "plt.plot([tokenizer70m.decode(toks_dpo[i]) for i in range(len(toks_dpo))], tok_probs_dpo)\n",
    "plt.ylim((0,1))"
   ]
  }
 ],
 "metadata": {
  "kernelspec": {
   "display_name": "Python 3 (ipykernel)",
   "language": "python",
   "name": "python3"
  },
  "language_info": {
   "codemirror_mode": {
    "name": "ipython",
    "version": 3
   },
   "file_extension": ".py",
   "mimetype": "text/x-python",
   "name": "python",
   "nbconvert_exporter": "python",
   "pygments_lexer": "ipython3",
   "version": "3.8.10"
  }
 },
 "nbformat": 4,
 "nbformat_minor": 5
}
