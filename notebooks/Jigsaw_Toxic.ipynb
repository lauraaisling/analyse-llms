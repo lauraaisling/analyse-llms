{
 "cells": [
  {
   "cell_type": "markdown",
   "id": "ea454ea9-bc83-4dc5-8c33-226e653fceb5",
   "metadata": {},
   "source": [
    "## Set up and import "
   ]
  },
  {
   "cell_type": "code",
   "execution_count": 18,
   "id": "acf08132-6c6d-44f6-9914-317ac6d117fe",
   "metadata": {},
   "outputs": [],
   "source": [
    "import io\n",
    "import os\n",
    "import pandas as pd\n",
    "import numpy as np"
   ]
  },
  {
   "cell_type": "code",
   "execution_count": 12,
   "id": "ea91a507-62e8-48e9-8ee9-ef9a75dbd9d7",
   "metadata": {},
   "outputs": [
    {
     "data": {
      "text/html": [
       "<div>\n",
       "<style scoped>\n",
       "    .dataframe tbody tr th:only-of-type {\n",
       "        vertical-align: middle;\n",
       "    }\n",
       "\n",
       "    .dataframe tbody tr th {\n",
       "        vertical-align: top;\n",
       "    }\n",
       "\n",
       "    .dataframe thead th {\n",
       "        text-align: right;\n",
       "    }\n",
       "</style>\n",
       "<table border=\"1\" class=\"dataframe\">\n",
       "  <thead>\n",
       "    <tr style=\"text-align: right;\">\n",
       "      <th></th>\n",
       "      <th>id</th>\n",
       "      <th>comment_text</th>\n",
       "      <th>toxic</th>\n",
       "      <th>severe_toxic</th>\n",
       "      <th>obscene</th>\n",
       "      <th>threat</th>\n",
       "      <th>insult</th>\n",
       "      <th>identity_hate</th>\n",
       "    </tr>\n",
       "  </thead>\n",
       "  <tbody>\n",
       "    <tr>\n",
       "      <th>0</th>\n",
       "      <td>0000997932d777bf</td>\n",
       "      <td>Explanation\\nWhy the edits made under my usern...</td>\n",
       "      <td>0</td>\n",
       "      <td>0</td>\n",
       "      <td>0</td>\n",
       "      <td>0</td>\n",
       "      <td>0</td>\n",
       "      <td>0</td>\n",
       "    </tr>\n",
       "    <tr>\n",
       "      <th>1</th>\n",
       "      <td>000103f0d9cfb60f</td>\n",
       "      <td>D'aww! He matches this background colour I'm s...</td>\n",
       "      <td>0</td>\n",
       "      <td>0</td>\n",
       "      <td>0</td>\n",
       "      <td>0</td>\n",
       "      <td>0</td>\n",
       "      <td>0</td>\n",
       "    </tr>\n",
       "    <tr>\n",
       "      <th>2</th>\n",
       "      <td>000113f07ec002fd</td>\n",
       "      <td>Hey man, I'm really not trying to edit war. It...</td>\n",
       "      <td>0</td>\n",
       "      <td>0</td>\n",
       "      <td>0</td>\n",
       "      <td>0</td>\n",
       "      <td>0</td>\n",
       "      <td>0</td>\n",
       "    </tr>\n",
       "    <tr>\n",
       "      <th>3</th>\n",
       "      <td>0001b41b1c6bb37e</td>\n",
       "      <td>\"\\nMore\\nI can't make any real suggestions on ...</td>\n",
       "      <td>0</td>\n",
       "      <td>0</td>\n",
       "      <td>0</td>\n",
       "      <td>0</td>\n",
       "      <td>0</td>\n",
       "      <td>0</td>\n",
       "    </tr>\n",
       "    <tr>\n",
       "      <th>4</th>\n",
       "      <td>0001d958c54c6e35</td>\n",
       "      <td>You, sir, are my hero. Any chance you remember...</td>\n",
       "      <td>0</td>\n",
       "      <td>0</td>\n",
       "      <td>0</td>\n",
       "      <td>0</td>\n",
       "      <td>0</td>\n",
       "      <td>0</td>\n",
       "    </tr>\n",
       "    <tr>\n",
       "      <th>5</th>\n",
       "      <td>00025465d4725e87</td>\n",
       "      <td>\"\\n\\nCongratulations from me as well, use the ...</td>\n",
       "      <td>0</td>\n",
       "      <td>0</td>\n",
       "      <td>0</td>\n",
       "      <td>0</td>\n",
       "      <td>0</td>\n",
       "      <td>0</td>\n",
       "    </tr>\n",
       "    <tr>\n",
       "      <th>6</th>\n",
       "      <td>0002bcb3da6cb337</td>\n",
       "      <td>COCKSUCKER BEFORE YOU PISS AROUND ON MY WORK</td>\n",
       "      <td>1</td>\n",
       "      <td>1</td>\n",
       "      <td>1</td>\n",
       "      <td>0</td>\n",
       "      <td>1</td>\n",
       "      <td>0</td>\n",
       "    </tr>\n",
       "    <tr>\n",
       "      <th>7</th>\n",
       "      <td>00031b1e95af7921</td>\n",
       "      <td>Your vandalism to the Matt Shirvington article...</td>\n",
       "      <td>0</td>\n",
       "      <td>0</td>\n",
       "      <td>0</td>\n",
       "      <td>0</td>\n",
       "      <td>0</td>\n",
       "      <td>0</td>\n",
       "    </tr>\n",
       "    <tr>\n",
       "      <th>8</th>\n",
       "      <td>00037261f536c51d</td>\n",
       "      <td>Sorry if the word 'nonsense' was offensive to ...</td>\n",
       "      <td>0</td>\n",
       "      <td>0</td>\n",
       "      <td>0</td>\n",
       "      <td>0</td>\n",
       "      <td>0</td>\n",
       "      <td>0</td>\n",
       "    </tr>\n",
       "    <tr>\n",
       "      <th>9</th>\n",
       "      <td>00040093b2687caa</td>\n",
       "      <td>alignment on this subject and which are contra...</td>\n",
       "      <td>0</td>\n",
       "      <td>0</td>\n",
       "      <td>0</td>\n",
       "      <td>0</td>\n",
       "      <td>0</td>\n",
       "      <td>0</td>\n",
       "    </tr>\n",
       "  </tbody>\n",
       "</table>\n",
       "</div>"
      ],
      "text/plain": [
       "                 id                                       comment_text  toxic   \n",
       "0  0000997932d777bf  Explanation\\nWhy the edits made under my usern...      0  \\\n",
       "1  000103f0d9cfb60f  D'aww! He matches this background colour I'm s...      0   \n",
       "2  000113f07ec002fd  Hey man, I'm really not trying to edit war. It...      0   \n",
       "3  0001b41b1c6bb37e  \"\\nMore\\nI can't make any real suggestions on ...      0   \n",
       "4  0001d958c54c6e35  You, sir, are my hero. Any chance you remember...      0   \n",
       "5  00025465d4725e87  \"\\n\\nCongratulations from me as well, use the ...      0   \n",
       "6  0002bcb3da6cb337       COCKSUCKER BEFORE YOU PISS AROUND ON MY WORK      1   \n",
       "7  00031b1e95af7921  Your vandalism to the Matt Shirvington article...      0   \n",
       "8  00037261f536c51d  Sorry if the word 'nonsense' was offensive to ...      0   \n",
       "9  00040093b2687caa  alignment on this subject and which are contra...      0   \n",
       "\n",
       "   severe_toxic  obscene  threat  insult  identity_hate  \n",
       "0             0        0       0       0              0  \n",
       "1             0        0       0       0              0  \n",
       "2             0        0       0       0              0  \n",
       "3             0        0       0       0              0  \n",
       "4             0        0       0       0              0  \n",
       "5             0        0       0       0              0  \n",
       "6             1        1       0       1              0  \n",
       "7             0        0       0       0              0  \n",
       "8             0        0       0       0              0  \n",
       "9             0        0       0       0              0  "
      ]
     },
     "execution_count": 12,
     "metadata": {},
     "output_type": "execute_result"
    }
   ],
   "source": [
    "df = pd.read_csv(f'{os.path.dirname(os.getcwd())}/data/jigsaw_toxic/train.csv')\n",
    "df.head(10)"
   ]
  },
  {
   "cell_type": "markdown",
   "id": "7e79478b-2d97-4fd9-9a08-1dd950f45a56",
   "metadata": {},
   "source": [
    "## Config"
   ]
  },
  {
   "cell_type": "code",
   "execution_count": 29,
   "id": "31278f4b-9942-4e48-ab65-1ebf1f68e117",
   "metadata": {},
   "outputs": [],
   "source": [
    "n = 1000\n",
    "toxic = [df[df['toxic']==1]['comment_text'][i:i+1].to_string(index=False) for i in range(0,n)]\n",
    "non_toxic = [df[df['toxic']==0]['comment_text'][i:i+1].to_string(index=False) for i in range(0,n)]"
   ]
  },
  {
   "cell_type": "code",
   "execution_count": 24,
   "id": "8898a1fa-1f09-4f51-9d7f-f5858268e3c3",
   "metadata": {},
   "outputs": [],
   "source": [
    "model_name = \"eleuther-pythia2.8b-hh-sft\"\n",
    "layer = -1\n"
   ]
  },
  {
   "cell_type": "markdown",
   "id": "2bda4036-e397-4e89-aaf0-7a3bbb5dbaf8",
   "metadata": {},
   "source": [
    "## Load hidden states for base, sft and dpo"
   ]
  },
  {
   "cell_type": "code",
   "execution_count": 30,
   "id": "356ecf9c-c530-4d16-8ae4-d8b3bd4c1560",
   "metadata": {},
   "outputs": [],
   "source": [
    "x = []\n",
    "y = []\n",
    "for idx, model_name in enumerate([\"pythia2.8b\",\"eleuther-pythia2.8b-sft\",\"eleuther-pythia2.8b-dpo\"]):\n",
    "  model_SAVEFOLD0 = f\"{os.path.dirname(os.getcwd())}/outputs/{model_name}\"\n",
    "  model_SAVEFOLD = f\"{model_SAVEFOLD0}/layer{layer}/\"\n",
    "\n",
    "  toxic_f = f\"{SAVEFOLD}toxic_hs.npy\"\n",
    "  non_toxic_f = f\"{SAVEFOLD}non_toxic_hs.npy\"\n",
    "  toxic_hs = np.load(toxic_f, mmap_mode = 'r')\n",
    "  non_toxic_hs = np.load(non_toxic_f, mmap_mode = 'r')\n",
    "\n",
    "  x.append(np.concatenate([non_toxic_hs, toxic_hs],0))\n",
    "  y.append(np.concatenate([np.array(len(non_toxic)*[2*idx]), np.array(len(toxic)*[2*idx+1])],0))\n",
    "\n",
    "x = np.concatenate([x[0], x[1], x[2]],0) \n",
    "y = np.concatenate([y[0], y[1], y[2]],0) "
   ]
  },
  {
   "cell_type": "code",
   "execution_count": 33,
   "id": "adacc116-6960-482b-acf6-0484455c7a47",
   "metadata": {},
   "outputs": [
    {
     "data": {
      "text/plain": [
       "array([ 0.51742744,  0.92089754,  1.2923046 , ...,  0.40341443,\n",
       "        2.0513492 , -0.16610062], dtype=float32)"
      ]
     },
     "execution_count": 33,
     "metadata": {},
     "output_type": "execute_result"
    }
   ],
   "source": [
    "x[0]"
   ]
  },
  {
   "cell_type": "code",
   "execution_count": 34,
   "id": "6dd93969-b625-42a6-b8ee-7f89145c78d5",
   "metadata": {},
   "outputs": [
    {
     "data": {
      "text/plain": [
       "array([ 0.51742744,  0.92089754,  1.2923046 , ...,  0.40341443,\n",
       "        2.0513492 , -0.16610062], dtype=float32)"
      ]
     },
     "execution_count": 34,
     "metadata": {},
     "output_type": "execute_result"
    }
   ],
   "source": [
    "x[2000]"
   ]
  },
  {
   "cell_type": "code",
   "execution_count": 35,
   "id": "d954fb10-deeb-4fab-a663-8aaf90bce758",
   "metadata": {},
   "outputs": [
    {
     "data": {
      "text/plain": [
       "array([ 0.51742744,  0.92089754,  1.2923046 , ...,  0.40341443,\n",
       "        2.0513492 , -0.16610062], dtype=float32)"
      ]
     },
     "execution_count": 35,
     "metadata": {},
     "output_type": "execute_result"
    }
   ],
   "source": [
    "x[4000]"
   ]
  },
  {
   "cell_type": "code",
   "execution_count": 36,
   "id": "78e98af9-ebe2-4731-b660-21b66ee7eda7",
   "metadata": {},
   "outputs": [],
   "source": [
    "direction = 0\n",
    "base_sft_dot = np.empty([int(len(x)/3)])\n",
    "base_sft_sim = np.empty([int(len(x)/3)])\n",
    "base_dpo_dot = np.empty([int(len(x)/3)])\n",
    "base_dpo_sim = np.empty([int(len(x)/3)])\n",
    "sft_dpo_dot = np.empty([int(len(x)/3)])\n",
    "sft_dpo_sim = np.empty([int(len(x)/3)])\n",
    "for i in range(int(len(x)/3)):\n",
    "    base_sft_dot[i] = np.dot(x[i], x[i+2*n])\n",
    "    base_sft_sim[i] = base_sft_dot[i]/(np.linalg.norm(x[i])*np.linalg.norm(x[i+2*n]))\n",
    "    # print(i, i+2*n)\n",
    "\n",
    "for i in range(int(len(x)/3)):\n",
    "    base_dpo_dot[i] = np.dot(x[i], x[i+4*n])\n",
    "    base_dpo_sim[i] = base_dpo_dot[i]/(np.linalg.norm(x[i])*np.linalg.norm(x[i+4*n]))\n",
    "    # print(i, i+4*n)\n",
    "\n",
    "for i in range(int(len(x)/3)):\n",
    "    sft_dpo_dot[i] = np.dot(x[i+2*n], x[i+4*n])\n",
    "    sft_dpo_sim[i] = sft_dpo_dot[i]/(np.linalg.norm(x[i+2*n])*np.linalg.norm(x[i+4*n]))\n",
    "    # print(i+2*n, i+4*n)"
   ]
  },
  {
   "cell_type": "code",
   "execution_count": 38,
   "id": "513fd225-d4c8-4b99-9fa5-0d870db9e5f3",
   "metadata": {},
   "outputs": [
    {
     "name": "stdout",
     "output_type": "stream",
     "text": [
      "0.9999999996432282\n",
      "0.9999999996432282\n",
      "0.9999999996432282\n"
     ]
    }
   ],
   "source": [
    "print(np.mean(base_sft_sim))\n",
    "print(np.mean(base_dpo_sim))\n",
    "print(np.mean(sft_dpo_sim))"
   ]
  },
  {
   "cell_type": "markdown",
   "id": "c5d07852-3fb8-433c-bf7b-9981582ce883",
   "metadata": {},
   "source": [
    "They're exactly the same"
   ]
  },
  {
   "cell_type": "code",
   "execution_count": null,
   "id": "f4dcd4ef-4b9f-4cda-8d92-a8807937d783",
   "metadata": {},
   "outputs": [],
   "source": []
  },
  {
   "cell_type": "code",
   "execution_count": null,
   "id": "d5e0fd8d-e46c-4bc8-be6d-78ff0a7aec38",
   "metadata": {},
   "outputs": [],
   "source": []
  },
  {
   "cell_type": "code",
   "execution_count": null,
   "id": "a600c946-c93a-4aea-b039-35eb26a14c23",
   "metadata": {},
   "outputs": [],
   "source": []
  },
  {
   "cell_type": "code",
   "execution_count": null,
   "id": "f26d9aba-040e-47a0-b2ea-a62d404dcb68",
   "metadata": {},
   "outputs": [],
   "source": []
  }
 ],
 "metadata": {
  "kernelspec": {
   "display_name": "Python 3 (ipykernel)",
   "language": "python",
   "name": "python3"
  },
  "language_info": {
   "codemirror_mode": {
    "name": "ipython",
    "version": 3
   },
   "file_extension": ".py",
   "mimetype": "text/x-python",
   "name": "python",
   "nbconvert_exporter": "python",
   "pygments_lexer": "ipython3",
   "version": "3.8.10"
  }
 },
 "nbformat": 4,
 "nbformat_minor": 5
}
