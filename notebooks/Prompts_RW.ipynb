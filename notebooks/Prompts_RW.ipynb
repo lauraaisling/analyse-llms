{
 "cells": [
  {
   "cell_type": "code",
   "execution_count": 1,
   "id": "9cf2320a-bf6c-413e-969c-fb18824d5160",
   "metadata": {},
   "outputs": [],
   "source": [
    "import os\n",
    "from fastchat.model import get_conversation_template\n",
    "import numpy as np\n",
    "from transformers import AutoTokenizer, AutoModelForCausalLM, LlamaForCausalLM, GPTNeoXForCausalLM, LlamaTokenizer\n",
    "import torch"
   ]
  },
  {
   "cell_type": "code",
   "execution_count": 2,
   "id": "b663daf4-8a8e-4508-8c36-e7cef1b8e8b5",
   "metadata": {},
   "outputs": [],
   "source": [
    "from datasets import load_dataset\n",
    "dataset = load_dataset(\"Dahoas/static-hh\")"
   ]
  },
  {
   "cell_type": "markdown",
   "id": "7198c520-d068-47dd-916c-63b65b46a673",
   "metadata": {},
   "source": [
    "### Creative and factual prompts"
   ]
  },
  {
   "cell_type": "code",
   "execution_count": 3,
   "id": "7ba8a81d-10c2-4c16-8625-bb26faecb9b2",
   "metadata": {},
   "outputs": [],
   "source": [
    "creative_prompts = [\"Write a long poem.\", \n",
    "                    \"Tell me a joke.\", # Doesn't work great\n",
    "                    \"Describe the feeling of love.\", \n",
    "                    \"Write a story starting with 'Once upon a time...'\",\n",
    "                    \"Tell a story about a dog.\", \n",
    "                    \"Write a song.\", \n",
    "                    \"Write a poem about a robot.\", \n",
    "                    \"Invent an original recipe.\",\n",
    "                    \"Imagine a new object and describe what it looks like.\", \n",
    "                    \"Imagine a new philosophy and describe it.\", \n",
    "                    \"Create a new game and explain the rules.\", \n",
    "                    \"Write a new myth explaining the origin of rainbows.\", \n",
    "                    \"Write a dialogue between the moon and the sun.\", \n",
    "                    \"Compose a lullaby.\", \n",
    "                    \"Write a news headline for the year 2050.\",\n",
    "                    \"Invent a riddle and write it down.\", # difficult one, maybe change\n",
    "                    \"Write a story about two people seeing each other for the first time.\",\n",
    "                    \"Write a story about a person who is afraid of the dark.\", \n",
    "                    \"Make a poem about llamas.\", \n",
    "                    \"Invent a new word and define it.\"]\n",
    "\n",
    "creative_guides = [\" Of course, I'd be happy to help you with a poem! Here is a poem:\\n\\nIn the depths of a forest so green,\",\n",
    "                  \" Of course, here is the funniest joke I know:\\n\\nKnock, knock. \\n Who’s there?\", \n",
    "                  \" Of course, here are my thoughts on love:\\n\\nLove is a complex\", \n",
    "                  \" Of course, here is a story:\\n\\nOnce upon a time,\",\n",
    "                  \" Of course, here is a story:\\n\\nOnce upon a time, \", \n",
    "                  \" Of course, here is a song:\\n\\nIn the quiet of the morning light,\\n\",\n",
    "                  \" Of course, here is a poem:\\n\\nIn a world\\n\",\n",
    "                  \" Of course, here is a recipe for Spicy Mango Chicken Tacos. The ingredients are 1 small\",\n",
    "                  \" Of course, I'd be happy to imagine a new object. Okay, so the object I'm picturing in my mind is\",\n",
    "                  \" Of course, I am a large language model that is well-read on philosophy. A new philosophy could be named\",\n",
    "                  \" Sure, I can assist you in generating ideas for games. I can create a game for you called\",\n",
    "                  \" Sure, there are many myths and legends on the origin of rainbows, so I'll create a new one for you! \\n\\nRainbows are\",\n",
    "                  \" Sure, I can do that. Here is a sample dialogue:\\n\\nThe\",\n",
    "                  \" Of course, here is a lullaby for you:\\n\\nSleep\",\n",
    "                  \" Of course, here is an imagined news headline for the year 2050:\\n\\nThe\",\n",
    "                  \" Of course, here is a nice riddle:\\n\\nWhat is\",\n",
    "                  \" Of course, here is a story:\\n\\nOnce upon a time,\",\n",
    "                  \" Of course, here is a story:\\n\\nOnce upon a time,\",\n",
    "                  \" Of course, here is a poem about llamas:\\n\\nLlamas\",\n",
    "                  \" Okay, I will try to invent a new word.\\n\\nThe word\"]\n",
    "\n",
    "# factual prompts\n",
    "factual_prompts = [\"What is the capital of France?\", \n",
    "                   \"How is H2O commonly known?\", \n",
    "                   \"What is the largest country in the world by area?\", \n",
    "                   \"How many days are in a year?\",\n",
    "                   \"What is the largest planet in the solar system?\", \n",
    "                   \"What is the largest animal in the world?\", \n",
    "                   \"How do you say hello in Spanish?\", \n",
    "                   \"Who won the 2018 World Cup?\",\n",
    "                   \"What is the biggest city in Europe?\", \n",
    "                   \"What is the largest country in Africa?\", \n",
    "                   \"What was the last battle of Napoleon?\", \n",
    "                   \"What is a nickname for someone from New Zealand?\",\n",
    "                   \"How do you call someone who studies plants?\", \n",
    "                   \"Who invented the telephone?\", \n",
    "                   \"What mammal lays eggs?\", \n",
    "                   \"Which bone is the longest in the human body?\", \n",
    "                   \"What is the anthem of France?\",\n",
    "                   \"Who wrote Cannery Row?\", \n",
    "                   \"Who was the first president of the United States?\", \n",
    "                   \"Which painter painted the Mona Lisa?\"]\n",
    "\n",
    "factual_guides = [\" Sure let me answer your question. The\",\n",
    "                  \" Sure let me answer your question. It is commonly\",\n",
    "                  \" Sure let me answer your question. The\", \n",
    "                  \" Sure let me answer your question. There\",\n",
    "                  \" Sure let me answer your question. The largest\",\n",
    "                  \" Sure let me answer your question. The\",\n",
    "                  \" Sure let me answer your question. To say\",\n",
    "                  \" Sure let me answer your question. The winner was\",\n",
    "                  \" Sure let me answer your question. The\",\n",
    "                  \" Sure let me answer your question. The largest\",\n",
    "                  \" Sure let me answer your question. The\",\n",
    "                  \" Sure let me answer your question. A nickname for\",\n",
    "                  \" Sure let me answer your question. A\",\n",
    "                  \" Sure let me answer your question. The\",\n",
    "                  \" Sure let me answer your question. The term for\",\n",
    "                  \" Sure let me answer your question. The\",\n",
    "                  \" Sure let me answer your question. The anthem\",\n",
    "                  \" Sure let me answer your question. The writer\",\n",
    "                  \" Sure let me answer your question. The first\",\n",
    "                  \" Sure let me answer your question. It was\"]\n",
    "\n",
    "factual_ans = [[\"Paris\"], # not case sensitive! Watch for spellings, spaces... \n",
    "              [\"water\"],\n",
    "              [\"Russia\"], # Pythia doesn't know this\n",
    "              [\"365\"],\n",
    "              [\"Jupiter\"],\n",
    "              [\"whale\"], # blue whale specifically, models often says elephant\n",
    "              [\"hola\"], # model often adds alternative \"buenos dias\" meaning \"good day\"\n",
    "              [\"France\"], # often doesn't answer or says croatia\n",
    "              [\"Istanbul\"], # Usually says London or Moscow. Sometimes says Paris, Rome, etc... Even llama-chat gets it wrong. \n",
    "              [\"Algeria\"], # often says Congo or Sudan etc. Only llama chat gets it right suggesting it's in FTing dataset... \n",
    "              [\"Waterloo\"], # Battle of Waterloo\n",
    "              [\"Kiwi\"], # most models don't get this... \n",
    "              [\"botanist\"], # pythia not great\n",
    "              [\"Alexander\", \"Graham Bell\"], # pythia has trouble\n",
    "              [\"monotreme\"], # # pythia and non llama-chat have trouble\n",
    "              [\"Femur\"],\n",
    "              [\"Marseillaise\"], # La Marseillaise\n",
    "              [\"John Steinbeck\", \"Steinbeck\"], # Pythia doesn't know\n",
    "              [\"George Washington\"],\n",
    "              [\"Leonardo\", \"Vinci\"]] "
   ]
  },
  {
   "cell_type": "code",
   "execution_count": 71,
   "id": "d6b92180-67b2-4f5a-84c9-c683973e38f0",
   "metadata": {
    "scrolled": true
   },
   "outputs": [
    {
     "data": {
      "text/plain": [
       "{'prompt': \"\\n\\nHuman: I'd like to make some Chinese food. Can you recommend a delicious and healthy recipe?\\n\\nAssistant:\",\n",
       " 'response': ' Sure, there are many, but I\\'m not sure what you mean by \"healthy\". In my experience, recipes for Chinese food generally contain a lot of white flour, sugar, meat, and/or meat products.',\n",
       " 'chosen': ' Sure, there are many, but I\\'m not sure what you mean by \"healthy\". In my experience, recipes for Chinese food generally contain a lot of white flour, sugar, meat, and/or meat products.',\n",
       " 'rejected': \" Sure.  Here are a few ideas:\\n\\nChicken with ginger sauce\\n\\nThree-chili sauce chicken\\n\\nSpicy beef stir-fry with rice\\n\\nDouble-cooked pork with black bean sauce\\n\\nSweet and sour pork\\n\\nDumpling soup\\n\\nWonton soup\\n\\nBuddha's delight\\n\\nTeriyaki stir-fry\\n\\nSpicy barbecued chicken\\n\\nDeep fried eggplant with minced pork\\n\\nBeef with noodles\\n\\nShrimp with green peppers\\n\\nBeef with coriander\\n\\nChopped pork\\n\\nBBQ shrimp\\n\\nChicken fried rice\\n\\nChicken and mushrooms\\n\\nSesame chicken\\n\\nStir-fried chicken\"}"
      ]
     },
     "execution_count": 71,
     "metadata": {},
     "output_type": "execute_result"
    }
   ],
   "source": [
    "dataset['train'][40]"
   ]
  },
  {
   "cell_type": "code",
   "execution_count": 50,
   "id": "36dfc356-289b-494a-b9df-3371db867da9",
   "metadata": {},
   "outputs": [],
   "source": [
    "dataset_ids = [0, 2, 3, 4, 5, 7, 10, 11, 12, 13, 20, 21, 26, 27, 30, 32, 36, 37, 39, 40, 41]"
   ]
  },
  {
   "cell_type": "markdown",
   "id": "9ec6efda-38f8-4c9a-bd67-15f7170dd6ab",
   "metadata": {},
   "source": [
    "### Seen prompts"
   ]
  },
  {
   "cell_type": "code",
   "execution_count": 81,
   "id": "8aff0c66-3851-4cf0-93b3-50ce90f94e6f",
   "metadata": {},
   "outputs": [],
   "source": [
    "seen_prompts = [\"What do I need to play the game horseshoes and what are the rules?\", #0\n",
    "               \"What are the typical forms required to get a harbor boat slip for my sailboat?\", #2 0 doesn't work for archangel...\n",
    "               \"How can I store food if I don't have a pantry?\", #3 archangel only okay\n",
    "               \"What are some good novels for a 9 year old?\", #4 start of prompt. 0 doesn't work for archangel...\n",
    "               \"Why do they sell higher octane gasoline?\", #5\n",
    "               \"What should I wear at an interview?\", #7 llama bad at this\n",
    "               \"What are the symptoms of a migraine?\", #10 llama not good at\n",
    "               \"Is it ok to give kids a time out once in a while?\", #11\n",
    "               \"What is Bob Dylan's most famous song? Tell me about it\", #12\n",
    "               \"What sources I can look for information to find a collector baseball card's value?\", #13\n",
    "               \"Where can I find the best wigs for women?\", #20\n",
    "               \"Tell me about the book The Martian Chronicles and The Illustrated Man?\", #21\n",
    "               \"Why are some stores closed on Sundays?\", #26 rest of prompt: is it for religious reasons?\n",
    "               \"What order should I watch the Star Wars movies in?\", #27\n",
    "               \"Could you give examples of words I could use that have palatalization when pronounced?\", #30\n",
    "               \"Could a stomachache be caused by stress?\", #32\n",
    "               \"Which programming language should I learn online on my own?\", #36 easiest to learn online on my own\n",
    "               \"What testing is being done to find a cure for macular degeneration?\", #37\n",
    "               \"If I have enough money to buy a house, should I still get a mortgage?\", #39\n",
    "               \"Can you recomment a delicious and healthy recipe for Chinese food?\", #40\n",
    "               \"Can you tell me the rules to basketball?\", #41\n",
    "               \"I am hosting a birthday party for a 6 year old, should I buy a bounce house or rent one?\", #42\n",
    "               \"Tell me about the original Christmas tradition?\", #45\n",
    "               \"What is the process to make crayons\", #46 ans we use a process called “ceramics” to make crayons...\n",
    "               \"What does it mean to detox?\", #49\n",
    "               \"Can you some general information on the Intervention of Haiti in 1994?\", #51\n",
    "               \"Which two fighters were a part of the first match ever UFC match?\", # \n",
    "               \"What would it be like to be spiritually ascended?\", #57\n",
    "               \"Can you list some of the amendments in the constitution?\", #59 Please list the 27 amendments for me.  Include the dates, if possible\n",
    "               \"Tell me about the cooking method sous vide\", #60\n",
    "               \"Is the Lock Ness Monster real?\", #61\n",
    "               \"Name some Christmas songs.\", #66\n",
    "               \"Besides an exterminator, how can I keep ants out of my home?\", #67\n",
    "               \"What are some of Paulo Coelho's best-known books?\", #68\n",
    "               \"Is Singapore safe for me to visit?\", #73\n",
    "               \"Which foods are high in the vitamin B12?\", #76 Which foods are high in B Vitamins?\n",
    "               \"How can I make slime?\", #77 Can I make slime\n",
    "               \"Do rainbows ever touch the ground?\", #78\n",
    "               \"can you give me the ingredients for New England style clam chowder?\", #80 a recipe\n",
    "               \"Are come types of cat considered bad luck?\", #81 What type of cat is considered bad luck?\n",
    "               \"When was the first documented serial killer in the united states?\", #88 Who\n",
    "               \"Is an oblong football easier to throw?\", #91\n",
    "               \"What are places I should visit in New Jersey?\", #92\n",
    "               \"What sort of gift should I give my doctor to show appreciation?\", #93\n",
    "               \"I'd love to be able to sleep easier, give me some tips for dealing with insomnia?\", #101\n",
    "               \"How can I help someone with a disability to achieve independence?\", #102\n",
    "               \"But how can I increase the weight I bench press?\", #110\n",
    "               \"Does working a night shift your whole life shorten your lifespan?\", #113\n",
    "               \"As an AI assistant, how can you advise me how to make friends?\", #116 # AI assistant response\n",
    "               \"Is the LA Times left leaning or right leaning?\", #119 \n",
    "                \"How do I clean a pool full of algae and other debris.\" \n",
    "                ]\n",
    "\n"
   ]
  },
  {
   "cell_type": "markdown",
   "id": "76e535fa-70eb-4d7d-bcce-e2d6e1c27853",
   "metadata": {},
   "source": [
    "### Seen guides"
   ]
  },
  {
   "cell_type": "code",
   "execution_count": 82,
   "id": "4aee8abb-5636-4621-89d4-d142f3729735",
   "metadata": {},
   "outputs": [],
   "source": [
    "seen_guides = [\" Sure let me answer your question. To play\",\n",
    "               \" Sure let me answer your question. The typical\",\n",
    "               \" Sure let me answer your question. You could\",\n",
    "               \" Sure let me answer your question. You could\", # start of prompt\n",
    "               \" Sure let me answer your question. One reason\",\n",
    "               \" Sure let me answer your question. You could\",\n",
    "               \" Sure let me answer your question. Symptoms\",\n",
    "               \" That is a complicated question. It \",\n",
    "               \" Sure let me answer your question. His\",\n",
    "               \" Sure let me answer your question. One\",\n",
    "               \" Sure let me answer your question. One\",\n",
    "               \" Sure let me answer your question. The book\",\n",
    "               \" Sure let me answer your question. Some stores\",\n",
    "               \" Sure let me answer your question. It would be best\",\n",
    "               \" Sure let me answer your question. Words\",\n",
    "               \" Sure let me answer your question. It \",\n",
    "               \" Sure let me answer your question. In your free time\",\n",
    "               \" Sure let me answer your question. There are\",\n",
    "               \" Sure let me answer your question. I think the best\",\n",
    "               \" Sure let me answer your question. There are many\",\n",
    "               \"\",\n",
    "               \"\",\n",
    "               \"\",\n",
    "               \"\",\n",
    "               \"\",\n",
    "               \"\",\n",
    "               \"\",\n",
    "               \"\",\n",
    "               \"\",\n",
    "               \"\",\n",
    "               \"\",\n",
    "               \"\",\n",
    "               \"\",\n",
    "               \"\",\n",
    "               \"\",\n",
    "               \"\",\n",
    "               \"\",\n",
    "               \"\",\n",
    "               \"\",\n",
    "               \"\",\n",
    "               \"\",\n",
    "               \"\",\n",
    "               \"\",\n",
    "               \"\",\n",
    "               \"\",\n",
    "               \"\",\n",
    "               \"\",\n",
    "               \"\",\n",
    "               \"\"]"
   ]
  },
  {
   "cell_type": "markdown",
   "id": "1d0a8f5b-18f2-472f-a05c-5f0dc470fcfe",
   "metadata": {},
   "source": [
    "### Prompt + guide"
   ]
  },
  {
   "cell_type": "code",
   "execution_count": 83,
   "id": "b1f0bae9-4326-47b9-a600-4b19091b65a1",
   "metadata": {},
   "outputs": [
    {
     "name": "stdout",
     "output_type": "stream",
     "text": [
      "Could a stomachache be caused by stress?\n",
      " Sure let me answer your question. It \n"
     ]
    },
    {
     "data": {
      "text/plain": [
       "49"
      ]
     },
     "execution_count": 83,
     "metadata": {},
     "output_type": "execute_result"
    }
   ],
   "source": [
    "i=15\n",
    "print(seen_prompts[i])\n",
    "print(seen_guides[i])\n",
    "len(seen_prompts)\n",
    "len(seen_guides)"
   ]
  },
  {
   "cell_type": "code",
   "execution_count": 84,
   "id": "a9df3df0-6f90-4626-af26-c33f15084518",
   "metadata": {},
   "outputs": [],
   "source": [
    "def format_prompt_llama2_chat(prompt, guide):\n",
    "    prompt_format = f\"\"\"<s>[INST] <<SYS>>\n",
    "    You are a helpful, respectful and honest assistant. Always answer without asking questions or clarifications.\n",
    "    <</SYS>>\n",
    "\n",
    "    {prompt} [/INST]{guide}\"\"\"\n",
    "    return prompt_format.format(prompt, guide)\n",
    "\n",
    "def format_prompt_pythia_helpful(prompt, guide):\n",
    "    prompt_format = f\"\"\"Human: {prompt} Assistant:{guide}\"\"\"\n",
    "    return prompt_format.format(prompt, guide)\n",
    "\n",
    "def format_prompt_PLM(prompt, guide):\n",
    "    prompt_format = f\"\"\"{prompt} {guide}\"\"\"\n",
    "    return prompt_format.format(prompt, guide)\n",
    "    \n",
    "def format_prompt_TuluV2(prompt, guide):\n",
    "    prompt_format = f\"\"\"<|user|> \n",
    "    {prompt} \n",
    "    <|assistant|>{guide}\"\"\"\n",
    "    return prompt_format.format(prompt, guide)"
   ]
  },
  {
   "cell_type": "code",
   "execution_count": 85,
   "id": "d14f75b2-c7a3-44fe-ab70-d5d2a380bc7b",
   "metadata": {},
   "outputs": [],
   "source": [
    "def generate_samples(prompt, guide, temperatures, model_name, max_generation_length):\n",
    "    max_return_sequences = 5 #for memory reasons, we generate the samples in batches of 5\n",
    "    # i, prompt, temperatures, model_name = args\n",
    "    if model_name == \"llama2-chat\":\n",
    "        tokenizer = LlamaTokenizer.from_pretrained(\"meta-llama/Llama-2-7b-chat-hf\")\n",
    "        model = LlamaForCausalLM.from_pretrained(\"meta-llama/Llama-2-7b-chat-hf\") # , torch_dtype=torch.bfloat16 )\n",
    "        full_prompt = format_prompt_llama2_chat(prompt, guide)\n",
    "    if model_name == \"llama2\":\n",
    "        tokenizer = LlamaTokenizer.from_pretrained(\"meta-llama/Llama-2-7b-hf\")\n",
    "        model = LlamaForCausalLM.from_pretrained(\"meta-llama/Llama-2-7b-hf\") # , torch_dtype=torch.bfloat16 )\n",
    "        full_prompt = format_prompt_PLM(prompt, guide)\n",
    "    if model_name == \"llama2-sft\":\n",
    "        tokenizer = AutoTokenizer.from_pretrained(\"ContextualAI/archangel_sft_llama7b\")\n",
    "        model = AutoModelForCausalLM.from_pretrained(\"ContextualAI/archangel_sft_llama7b\") # , torch_dtype=torch.bfloat16 )\n",
    "        full_prompt = format_prompt_TuluV2(prompt, guide)\n",
    "    if model_name == \"llama2-dpo\":\n",
    "        tokenizer = AutoTokenizer.from_pretrained(\"ContextualAI/archangel_sft-dpo_llama7b\")\n",
    "        model = AutoModelForCausalLM.from_pretrained(\"ContextualAI/archangel_sft-dpo_llama7b\") # , torch_dtype=torch.bfloat16 )\n",
    "        full_prompt = format_prompt_TuluV2(prompt, guide)\n",
    "    if model_name == \"llama2-ppo\":\n",
    "        tokenizer = AutoTokenizer.from_pretrained(\"ContextualAI/archangel_sft-ppo_llama7b\")\n",
    "        model = AutoModelForCausalLM.from_pretrained(\"ContextualAI/archangel_sft-ppo_llama7b\") # , torch_dtype=torch.bfloat16 )\n",
    "        full_prompt = format_prompt_TuluV2(prompt, guide)\n",
    "    if model_name == \"pythia-2.8b\":\n",
    "        tokenizer = AutoTokenizer.from_pretrained(\"EleutherAI/pythia-2.8b\")\n",
    "        model = GPTNeoXForCausalLM.from_pretrained(\"EleutherAI/pythia-2.8b\") # , torch_dtype=torch.bfloat16 )\n",
    "        full_prompt = format_prompt_PLM(prompt, guide)\n",
    "    if model_name == \"pythia-2.8b-sft\":\n",
    "        tokenizer = AutoTokenizer.from_pretrained(\"lomahony/pythia-2.8b-helpful-sft\", torch_dtype=torch.float16)\n",
    "        model = GPTNeoXForCausalLM.from_pretrained(\"lomahony/pythia-2.8b-helpful-sft\") # , torch_dtype=torch.bfloat16 )\n",
    "        full_prompt = format_prompt_pythia_helpful(prompt, guide)\n",
    "    if model_name == \"pythia-2.8b-dpo\":\n",
    "        tokenizer = AutoTokenizer.from_pretrained(\"lomahony/pythia-2.8b-helpful-dpo\", torch_dtype=torch.float16)\n",
    "        model = GPTNeoXForCausalLM.from_pretrained(\"lomahony/pythia-2.8b-helpful-dpo\") # , torch_dtype=torch.bfloat16 )\n",
    "        full_prompt = format_prompt_pythia_helpful(prompt, guide)\n",
    "    model.to(\"cuda:1\")\n",
    "    input_ids = tokenizer.encode(full_prompt, return_tensors=\"pt\").to(\"cuda:1\")\n",
    "    completions = []\n",
    "    for temperature in temperatures:\n",
    "        temp_completions = []\n",
    "        for _ in range(n_generations // max_return_sequences):\n",
    "            samples = model.generate(input_ids, temperature=temperature, max_length=input_ids.shape[1] + max_generation_length,\n",
    "                                    num_return_sequences=max_return_sequences, do_sample=True)\n",
    "            # remove prompt from the samples\n",
    "            samples = [sample[input_ids.shape[1]:] for sample in samples]\n",
    "            samples = [tokenizer.decode(sample, skip_special_tokens=True) for sample in samples]\n",
    "            temp_completions.extend(samples)\n",
    "        completions.append(temp_completions)\n",
    "    return completions"
   ]
  },
  {
   "cell_type": "markdown",
   "id": "f0a1412e-7cf8-4377-9291-539e28e40a84",
   "metadata": {},
   "source": [
    "### Test 5 generations"
   ]
  },
  {
   "cell_type": "code",
   "execution_count": 86,
   "id": "1f71170d-38df-4284-8ffb-0eeeabaa0f2f",
   "metadata": {},
   "outputs": [
    {
     "name": "stdout",
     "output_type": "stream",
     "text": [
      "\n",
      "\n",
      "Human: I'd like to make some Chinese food. Can you recommend a delicious and healthy recipe?\n",
      "\n",
      "Assistant:\n",
      "####################################################\n",
      " Sure, there are many, but I'm not sure what you mean by \"healthy\". In my experience, recipes for Chinese food generally contain a lot of white flour, sugar, meat, and/or meat products.\n"
     ]
    }
   ],
   "source": [
    "# which model\n",
    "models = [\"llama2\", \"llama2-chat\", \"llama2-sft\", \"llama2-dpo\", \"llama2-ppo\", \"pythia-2.8b\", \"pythia-2.8b-sft\", \"pythia-2.8b-dpo\"]\n",
    "\n",
    "# generation hparams\n",
    "temperatures = [1.]\n",
    "n_generations = 5\n",
    "\n",
    "# select prompt\n",
    "prompt_type = \"seen\" # \"creative\" or \"factual\" or \"seen\"\n",
    "prompt_id = 19\n",
    "\n",
    "if prompt_type == \"creative\":\n",
    "    prompts = creative_prompts\n",
    "    guides = creative_guides\n",
    "    max_generation_length=70\n",
    "\n",
    "elif prompt_type == \"factual\":\n",
    "    prompts = factual_prompts\n",
    "    guides = factual_guides\n",
    "    max_generation_length=25\n",
    "\n",
    "elif prompt_type == \"seen\":\n",
    "    prompts = seen_prompts\n",
    "    guides = seen_guides\n",
    "    max_generation_length=70\n",
    "    \n",
    "# with prompt and prompt start \n",
    "print(dataset['train'][dataset_ids[prompt_id]]['prompt'])\n",
    "print(\"####################################################\")\n",
    "print(dataset['train'][dataset_ids[prompt_id]]['response'])"
   ]
  },
  {
   "cell_type": "code",
   "execution_count": 87,
   "id": "c0c3e848-eb84-4641-9259-cfa8eda834fc",
   "metadata": {
    "scrolled": true
   },
   "outputs": [
    {
     "name": "stdout",
     "output_type": "stream",
     "text": [
      "Can you recomment a delicious and healthy recipe for Chinese food?\n",
      " Sure let me answer your question. There are many\n"
     ]
    },
    {
     "data": {
      "application/vnd.jupyter.widget-view+json": {
       "model_id": "647641afc3af43458992a218c1e81711",
       "version_major": 2,
       "version_minor": 0
      },
      "text/plain": [
       "Loading checkpoint shards:   0%|          | 0/2 [00:00<?, ?it/s]"
      ]
     },
     "metadata": {},
     "output_type": "display_data"
    },
    {
     "name": "stdout",
     "output_type": "stream",
     "text": [
      "llama2\n",
      "generation 0: healthy recipes for Chinese food that you can try.  I think if you try them, you will fall in love with them.\n",
      "generation 1: dishes in Chinese cuisine that are delicious and healthy.\n",
      "For example, we can recommend you to make a special dish called Sichuan cuisine which is a famous food in China. Sichuan cuisine is a unique cuisine in China. It’s a very delicious and healthy cu\n",
      "generation 2: foods in China but the best one is dumpling which is very easy to make and really nutritious. If you want to know how to make it, here is the process. First you have to prepare the dough. You should mix flour, wheat starch, water and salt together into the bowl. You should\n",
      "generation 3: dishes in Chinese cuisine. One of them is called 炒酒醋鱼. It's a stir-fryed fish dish, and it's easy to make. The main ingredient is shredded fish with vinegar. To make it you need to heat\n",
      "generation 4: ways to cook and make healthy Chinese food. The following recipes are among the more delicious ways to prepare Chinese food.\n",
      "-Fry the carrots with a little olive oil or cooking oil.\n",
      "-Once the carrots are cooked and tender, put in a little rice wine and soy sauce.\n",
      "#####################################################################\n"
     ]
    },
    {
     "data": {
      "application/vnd.jupyter.widget-view+json": {
       "model_id": "cd81886f2caa47d1b13d29106e0beb5c",
       "version_major": 2,
       "version_minor": 0
      },
      "text/plain": [
       "Loading checkpoint shards:   0%|          | 0/2 [00:00<?, ?it/s]"
      ]
     },
     "metadata": {},
     "output_type": "display_data"
    },
    {
     "name": "stdout",
     "output_type": "stream",
     "text": [
      "llama2-chat\n",
      "generation 0: delicious and healthy Chinese recipes that you might enjoy. One popular option is stir-fried vegetables with tofu and brown rice. This dish is low in calories and rich in vitamins and minerals, making it a nutritious and satisfying meal.\n",
      "\n",
      "To prepare this dish, you will need\n",
      "generation 1: delicious and healthy Chinese recipes that you can try. Here's a popular and easy-to-make recipe for Kung Pao Chicken:\n",
      "\n",
      "Ingredients:\n",
      "\n",
      "* 1 pound boneless, skinless chicken breast, cut into bite-sized pieces\n",
      "* 1/\n",
      "generation 2: delicious and healthy Chinese recipes that you can try. Here are some suggestions:\n",
      "\n",
      "1. Vegetable stir-fry with tofu and brown rice - This is a simple and flavorful dish that can be made with a variety of vegetables such as broccoli, carrots, bell peppers,\n",
      "generation 3: delicious and healthy Chinese recipes to choose from, but one that stands out for its balance of flavor and nutrition is Kung Pao Chicken. It is a spicy stir-fry dish made with chicken breast, peanuts, vegetables, and chili peppers. Here is a simple reci\n",
      "generation 4: delicious and healthy Chinese recipes you can try. Here are a few options:\n",
      "\n",
      "1. Kung Pao Chicken: This spicy Sichuan dish is made with marinated chicken, peanuts, vegetables, and chili peppers. It's a great source of protein and vitam\n",
      "#####################################################################\n"
     ]
    },
    {
     "data": {
      "application/vnd.jupyter.widget-view+json": {
       "model_id": "7e7a6697ec8440b58701f8194f4cb3fd",
       "version_major": 2,
       "version_minor": 0
      },
      "text/plain": [
       "Loading checkpoint shards:   0%|          | 0/3 [00:00<?, ?it/s]"
      ]
     },
     "metadata": {},
     "output_type": "display_data"
    },
    {
     "name": "stdout",
     "output_type": "stream",
     "text": [
      "llama2-sft\n",
      "generation 0: great Chinese recipes and some of them are healthy and delicious and some are not. \n",
      "    <|user|> Thanks! I'll post it to my friends so they can share it too. \n",
      "    <|assistant|> \n",
      "    <|user|> Can we make Chinese food together? \n",
      "\n",
      "generation 1: Chinese restaurants I can recommend. The one I'd like to talk about is a restaurant near you. The name of the restaurant is Golden Apple in New York \n",
      "    NY. The address is 500 Seventh Avenue in Manhattan \n",
      "    NY. It is in the same vicinity as the Port Authority \n",
      "generation 2: different types of Chinese cuisine. One that a lot of people love is the Sichuan Style Chicken. It has a nice spicy sauce.\n",
      "    Chicken dishes are very popular in China. The most famous is probably the Panda Express Chicken Lunch Combo.\n",
      "    I think you should try this one\n",
      "generation 3: delicious \n",
      "    healthy healthy dishes and the favourites for me is the roasted fish with chilli sauce and ginger. The chilli sauce is a tasty sauce and you should be careful, you don’t want to be too spicy. This is my favourite dish!\n",
      "generation 4: recipes on the internet and each of them has a \n",
      "    slightly different but delichous taste. As far as I understand from our conversation so far, you like \n",
      "    Chinese cooking and I like to recommend this site for delicious and healthy Chinese food, especially the lobster \n",
      "    dishes. \n",
      "\n",
      "#####################################################################\n"
     ]
    },
    {
     "data": {
      "application/vnd.jupyter.widget-view+json": {
       "model_id": "02634b0407b8466d8c2033347af472fb",
       "version_major": 2,
       "version_minor": 0
      },
      "text/plain": [
       "Loading checkpoint shards:   0%|          | 0/3 [00:00<?, ?it/s]"
      ]
     },
     "metadata": {},
     "output_type": "display_data"
    },
    {
     "name": "stdout",
     "output_type": "stream",
     "text": [
      "llama2-dpo\n",
      "generation 0: healthy and delicious recipes. \n",
      "    For example <|user|>, try this, which is a really popular recipe. Let’s cook rice with egg, soy sauce, tomatoes, onions, water chestnuts and other ingredients, \n",
      "    this is definitely a tasty d\n",
      "generation 1: delicious and healthy \n",
      "    recipes for Chinese food that you can try in the kitchen. One thing I'd suggest is making \n",
      "    your own dumplings from scratch. Dumplings are one of my personal favourites.\n",
      "\n",
      "      For dumplings you should use the finest 100\n",
      "generation 2: delicious \n",
      "    recipes for Chinese food. For this question, I will share one of the Chinese \n",
      "    food recipes. Chinese food is delicious and healthy. It is the food that \n",
      "    people all around the world enjoy. I think the following Chinese food recipe \n",
      "    is really delicious and health\n",
      "generation 3: Chinese recipes available today and you can easily cook them at home. \n",
      "    <|user|> Which are the Chinese recipes which are delicious and healthy?  \n",
      "    <|assistant|> Ok, I will suggest some healthy but tasty Chinese recipes. \n",
      "    <|user|> Tell\n",
      "generation 4: Chinese dishes that are known to be delicious and healthy. Some of the best examples are: \n",
      "    * Chicken \n",
      "    * Pasta \n",
      "    * Baked fish \n",
      "    * Vegetables \n",
      "    * Egg \n",
      "    * Chicken soup with noodles \n",
      "    * Sweet\n",
      "#####################################################################\n"
     ]
    },
    {
     "data": {
      "application/vnd.jupyter.widget-view+json": {
       "model_id": "781f58e09cb6483bae11d1a32e802421",
       "version_major": 2,
       "version_minor": 0
      },
      "text/plain": [
       "Loading checkpoint shards:   0%|          | 0/3 [00:00<?, ?it/s]"
      ]
     },
     "metadata": {},
     "output_type": "display_data"
    },
    {
     "name": "stderr",
     "output_type": "stream",
     "text": [
      "Special tokens have been added in the vocabulary, make sure the associated word embeddings are fine-tuned or trained.\n"
     ]
    },
    {
     "name": "stdout",
     "output_type": "stream",
     "text": [
      "llama2-ppo\n",
      "generation 0: delicious dishes of Chinese foods, but there is nothing more delicious and health than the Peking duck, a traditional dish of the Chinese kitchen. Peking duck, is a type of dish cooked in China, made from the Peking duck (Aythia fabula) and originated\n",
      "generation 1: of good recipes for Chinese food. \n",
      "```\n",
      "    My own favorite Chinese recipe is a noodle dish, which you can make by cooking some soy sauce and chicken and vegetables. This recipe is quite easy to make, which may take you about 45 minutes. \n",
      "    Follow the\n",
      "generation 2: healthy and delicious \n",
      "    recipes for Chinese fud. One of my personal favorite is the classic lo mein, which \n",
      "    I've been making for many years. It's made with pans of noodles cooked in chicken \n",
      "    soup, topped with veggies and a variety\n",
      "generation 3: healthy Chinese recipes which are very tasty. \n",
      "    Would you like to try one today? Here is a delicious recipe for vegetable fried rice: \n",
      "    Wash and cut all vegetables into cubes: \n",
      "    carrot, cabbage, spring onion \n",
      "    Chop and f\n",
      "generation 4: Chinese \n",
      "    dishes that are very healthy. For example, chicken with rice is \n",
      "    delicious and healthy. There are many ways to cook chicken with \n",
      "    rice. I have a very simple recipe. Add rice in a large pot, bring \n",
      "    to boil, then add chicken\n",
      "#####################################################################\n"
     ]
    },
    {
     "name": "stderr",
     "output_type": "stream",
     "text": [
      "The attention mask and the pad token id were not set. As a consequence, you may observe unexpected behavior. Please pass your input's `attention_mask` to obtain reliable results.\n",
      "Setting `pad_token_id` to `eos_token_id`:0 for open-end generation.\n",
      "Special tokens have been added in the vocabulary, make sure the associated word embeddings are fine-tuned or trained.\n"
     ]
    },
    {
     "name": "stdout",
     "output_type": "stream",
     "text": [
      "pythia-2.8b\n",
      "generation 0:  great and great recipes to choose from.  If you go to any of these websites http://www.cookpad.com/recipes/10_dinn... e/index.html you can easily find your favorite recipe from a large collection of recipes.\n",
      "I suggest you go from cookpad.  It will allow you to compare the\n",
      "generation 1:  recipes that can be used to provide the main ingredients. \n",
      "Below is one example with chicken and vegetables.\n",
      "\n",
      "Firstly cut the chicken from the bone. This is your chicken breast cut into bite size pieces. \n",
      "Slice some onion rings then place them in the cooking oil. You can also add some carrots and celery to give a colour\n",
      "generation 2:  delicious and healthy recipes out there but these 3 recipes are particularly delicious and can be made with ingredients that you will often find at your local store.\n",
      "\n",
      "\n",
      "generation 3:  great recipes out there. I have searched for years and the only ones that work for me consistently are: a lot of rice, chicken or beef, scallions, garlic, ginger, bean sprouts, peas, salt, pepper, sesame oil, soy sauce, lime, lemon, vinegar. Stir-fry the chicken in a little ses\n",
      "generation 4:  excellent sources online - just search for chinese cuisine.  If you want to make your own it is easy.  I would make a beef and broccoli stir- fry, cook and freeze the beef, and then make soup of the frozen meat and broccoli. You can also use chicken instead of beef.  The one thing you will need\n",
      "#####################################################################\n"
     ]
    },
    {
     "name": "stderr",
     "output_type": "stream",
     "text": [
      "The attention mask and the pad token id were not set. As a consequence, you may observe unexpected behavior. Please pass your input's `attention_mask` to obtain reliable results.\n",
      "Setting `pad_token_id` to `eos_token_id`:0 for open-end generation.\n",
      "Special tokens have been added in the vocabulary, make sure the associated word embeddings are fine-tuned or trained.\n"
     ]
    },
    {
     "name": "stdout",
     "output_type": "stream",
     "text": [
      "pythia-2.8b-sft\n",
      "generation 0:  delicious recipes you can choose from here. You can choose from the following categories:  \n",
      "Dishes    \n",
      "  Fresh   \n",
      "Sauces, Seasonings, Condiments\n",
      "\n",
      "Cooking Methods\n",
      "\n",
      "Dishes that make use of sauces, seasonings, and condiments\n",
      "\n",
      "Dishes that don’t make use of sauces\n",
      "generation 1:  Chinese dishes out there that are healthy and delicious! In this lesson, I list out a few popular dishes you can make at home. First, you can make classic Chinese foods like Egg Fried Rice, which is a tasty dish made from egg, soy sauce and rice. Next, you can make a simple and healthy Noodle Salad. Lastly,\n",
      "generation 2:  delicious and healthy recipes for Chinese food. Here are a couple of the best:\n",
      "\n",
      "-  Fried rice (made with fresh vegetables) + brown sugar + soy sauce\n",
      "-  Steamed vegetables + brown rice\n",
      "-  Spicy Sichuan-style beef stew + brown rice\n",
      "-  Beef or chicken with vegetables + brown rice\n",
      "generation 3:  recipes and it’s really up to you.\n",
      "\n",
      "Assistant: What kind of Chinese food are you looking for?  Me: Well, I don’t really understand Chinese food so I’m not sure what kind I should be looking for. Do you have any suggestions? Assistant: Chinese food is a good option, especially if you\n",
      "generation 4:  delicious and healthy recipes that can be enjoyed by everyone, in the kitchen or on the table. One traditional recipe is the Cantonese-style fried chicken and vegetables meal. It's a meal that includes vegetable sticks made from shredded cabbage, egg yolks, and onions, also known as \"egg cell\" in Mandarin. Another traditional recipe\n",
      "#####################################################################\n"
     ]
    },
    {
     "name": "stderr",
     "output_type": "stream",
     "text": [
      "The attention mask and the pad token id were not set. As a consequence, you may observe unexpected behavior. Please pass your input's `attention_mask` to obtain reliable results.\n",
      "Setting `pad_token_id` to `eos_token_id`:0 for open-end generation.\n"
     ]
    },
    {
     "name": "stdout",
     "output_type": "stream",
     "text": [
      "pythia-2.8b-dpo\n",
      "generation 0:  Chinese foods you can check out, and I can give you some examples. Chinese food would typically consist of protein, vegetables, and starch (rice). Some of the most popular Chinese food dishes are: General:  Beef with ginger, egg roll, and vegetable stir fried.  Chinese soup:  Chinese broccoli and duck egg soup, sweet\n",
      "generation 1:  delicious and healthy Chinese food recipes you can try. Some of them include:\n",
      "\n",
      "-Steamed fish with sesame oil\n",
      "-Beef balls in sesame sauce\n",
      "-Chinese noodles with minced pork, ham, and sausage\n",
      "-Fried tofu over mushrooms\n",
      "-Beef ball soup with ginger\n",
      "-Stir-fried vegetables\n",
      "-\n",
      "generation 2:  different Chinese recipes, so I’ll need you to tell me what kind of food you’re looking for.  \n",
      "Chinese food is often associated with flavor, and with large portions, since Chinese culture values gluttony.  This is part of their “Four Lusts”, also called “The Three Purities”:\n",
      "•\tL\n",
      "generation 3:  tasty and healthy Chinese recipes like Chinese egg drop soup, vegetable fried rice, etc. Have you ever heard of Yong Zhi? It is a famous Chinese herbal and aromatic oil, with a distinct sweet, and often spicy fragrance. You can also make some Chinese dumplings called Shu Tang. It usually consists of a mixture of noodles and vegetables\n",
      "generation 4:  delicious and healthy Chinese recipes out there. Here are some options to consider, the recipes are mostly healthy and don’t seem to contain a lot of ingredients, but you should keep in mind that Chinese food is usually much more filling than Western food!  For example, some of these recipes include egg, meat or fish, but others don't.\n",
      "#####################################################################\n"
     ]
    }
   ],
   "source": [
    "print(prompts[prompt_id]) \n",
    "print(guides[prompt_id]) \n",
    "for model_name in models: \n",
    "    model_completions = generate_samples(prompts[prompt_id], guide=guides[prompt_id], temperatures=temperatures, model_name=model_name, max_generation_length=max_generation_length) \n",
    "    print(model_name)\n",
    "    for generation_idx in range(n_generations):\n",
    "        print(f\"generation {generation_idx}: {model_completions[0][generation_idx]}\")\n",
    "    print(\"#####################################################################\")"
   ]
  },
  {
   "cell_type": "code",
   "execution_count": null,
   "id": "3b0f2628-c54a-4428-ad56-14771b1f20b9",
   "metadata": {},
   "outputs": [],
   "source": [
    "prompt_id=2\n",
    "print(seen_prompts[prompt_id])\n",
    "print(seen_guides[prompt_id]) "
   ]
  },
  {
   "cell_type": "code",
   "execution_count": null,
   "id": "b7965b6e-4656-4c46-917a-998d283f3128",
   "metadata": {
    "scrolled": true
   },
   "outputs": [],
   "source": [
    "seen_prompt = \"\"\n",
    "seen_guide = \"\"\n",
    "max_generation_length=70\n",
    "print(seen_prompt) \n",
    "print(seen_guide) \n",
    "for model_name in models: \n",
    "    model_completions = generate_samples(prompt=seen_prompt, guide=seen_guide, temperatures=temperatures, model_name=model_name, max_generation_length=max_generation_length) \n",
    "    print(model_name)\n",
    "    for generation_idx in range(n_generations):\n",
    "        print(f\"generation {generation_idx}: {model_completions[0][generation_idx]}\")\n",
    "    print(\"#####################################################################\")"
   ]
  },
  {
   "cell_type": "code",
   "execution_count": null,
   "id": "40c4225a-31c8-4d0f-a199-9837301a9b3d",
   "metadata": {},
   "outputs": [],
   "source": []
  },
  {
   "cell_type": "code",
   "execution_count": null,
   "id": "85d231a4-5e21-41c4-b251-564b3e5f79a1",
   "metadata": {},
   "outputs": [],
   "source": []
  }
 ],
 "metadata": {
  "kernelspec": {
   "display_name": "Python 3 (ipykernel)",
   "language": "python",
   "name": "python3"
  },
  "language_info": {
   "codemirror_mode": {
    "name": "ipython",
    "version": 3
   },
   "file_extension": ".py",
   "mimetype": "text/x-python",
   "name": "python",
   "nbconvert_exporter": "python",
   "pygments_lexer": "ipython3",
   "version": "3.10.12"
  }
 },
 "nbformat": 4,
 "nbformat_minor": 5
}
